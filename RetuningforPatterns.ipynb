{
 "cells": [
  {
   "cell_type": "code",
   "execution_count": 1,
   "metadata": {},
   "outputs": [
    {
     "data": {
      "text/plain": [
       "'\\n    In such a system we have listeners that listan for specific events. Listeners are triggerd when an event they are listerning to is created. \\n    This can be typing a specfic key , moving the mouse,  etc..    \\n    \\n    The event plays the role of publisher and the listeners play the tole of the observers.\\n    The key point is that multiple listners can be attached to a single event    \\n'"
      ]
     },
     "execution_count": 1,
     "metadata": {},
     "output_type": "execute_result"
    }
   ],
   "source": [
    "# The Observer Pattern: Event-driven systems are an example of the pattern in applycation.\n",
    "\"\"\"\n",
    "    In such a system we have listeners that listan for specific events. Listeners are triggerd when an event they are listerning to is created. \n",
    "    This can be typing a specfic key , moving the mouse,  etc..    \n",
    "    \n",
    "    The event plays the role of publisher and the listeners play the tole of the observers.\n",
    "    The key point is that multiple listners can be attached to a single event    \n",
    "\"\"\"\n"
   ]
  },
  {
   "cell_type": "code",
   "execution_count": 2,
   "metadata": {},
   "outputs": [],
   "source": [
    "# Define Publisher class\n",
    "\n",
    "class Publisher:\n",
    "    def __init__(self):\n",
    "        self.observers = []\n",
    "    def add(self, observer):\n",
    "        if observer not in self.observers:\n",
    "            self.observers.append(observer)\n",
    "        else:\n",
    "            print(f'Failed to add: {observer}')\n",
    "    def remove(self, observer):\n",
    "        try:\n",
    "            self.observers.remove(observer)\n",
    "        except ValueError:\n",
    "            print(f'Failed to remove{observer}') \n",
    "            \n",
    "    def notify(self):\n",
    "        [o.nofity(self) for o in self.observers]\n",
    "        \n",
    "# We define the DefaultFormatter class, with special __init__ and __str__ methods\n",
    "\n",
    "class DefaultFormatter(Publisher):\n",
    "    def __init__(self, name):\n",
    "        Publisher.__init__(self)\n",
    "        self.name = name\n",
    "        self._data = 0\n",
    "    def __str__(self):\n",
    "        return f\"{type(self).__name__}: '{self.name}' has data = {self._data}\""
   ]
  },
  {
   "cell_type": "code",
   "execution_count": 3,
   "metadata": {},
   "outputs": [],
   "source": [
    "# We add the data property getter and setter methods to the DafaultFormatter class\n",
    "\n",
    "@property\n",
    "def data(self):\n",
    "    return self._data\n",
    "@data.setter\n",
    "def data(self, new_value):\n",
    "    try:\n",
    "        self._data = int(new_value)\n",
    "    except ValueError as e:\n",
    "        print(f'Error: {e}')\n",
    "    else:\n",
    "        self.notify()"
   ]
  },
  {
   "cell_type": "code",
   "execution_count": 4,
   "metadata": {},
   "outputs": [],
   "source": [
    "# We define our two observer classes, as follows\n",
    "\n",
    "class HexFormmaterObs:\n",
    "    def notify(self, publisher):\n",
    "        value = hex(publisher.data)\n",
    "        print(f\"{type(self).__name__}: '{publisher.name}' has now hex data = {value}\")\n",
    "        \n",
    "class BinaryFormatterObs:\n",
    "    def nofity(self, publisher):\n",
    "        value = bin(publisher.data)\n",
    "        print(f\"{type(self).__name__}: '{publisher.name}' has now bin data = {value}\")"
   ]
  },
  {
   "cell_type": "code",
   "execution_count": 5,
   "metadata": {},
   "outputs": [
    {
     "name": "stdout",
     "output_type": "stream",
     "text": [
      "<__main__.HexFormmaterObs object at 0x000001B524407400>\n",
      "\n",
      "<__main__.HexFormmaterObs object at 0x000001B524407400>\n",
      "\n",
      "<__main__.HexFormmaterObs object at 0x000001B524407400>\n",
      "\n"
     ]
    },
    {
     "ename": "AttributeError",
     "evalue": "'HexFormmaterObs' object has no attribute 'remove'",
     "output_type": "error",
     "traceback": [
      "\u001b[1;31m---------------------------------------------------------------------------\u001b[0m",
      "\u001b[1;31mAttributeError\u001b[0m                            Traceback (most recent call last)",
      "\u001b[1;32mc:\\Users\\JBarr\\OneDrive\\Documents\\FinTech\\career_services\\mathemeticsDevelopment\\mathemetics\\Computer_Science\\AdvancedPythonProgramming\\BookWork\\RetuningforPatterns.ipynb Cell 5'\u001b[0m in \u001b[0;36m<cell line: 26>\u001b[1;34m()\u001b[0m\n\u001b[0;32m     <a href='vscode-notebook-cell:/c%3A/Users/JBarr/OneDrive/Documents/FinTech/career_services/mathemeticsDevelopment/mathemetics/Computer_Science/AdvancedPythonProgramming/BookWork/RetuningforPatterns.ipynb#ch0000004?line=22'>23</a>\u001b[0m     \u001b[39mprint\u001b[39m(df)\n\u001b[0;32m     <a href='vscode-notebook-cell:/c%3A/Users/JBarr/OneDrive/Documents/FinTech/career_services/mathemeticsDevelopment/mathemetics/Computer_Science/AdvancedPythonProgramming/BookWork/RetuningforPatterns.ipynb#ch0000004?line=25'>26</a>\u001b[0m \u001b[39mif\u001b[39;00m \u001b[39m__name__\u001b[39m \u001b[39m==\u001b[39m \u001b[39m'\u001b[39m\u001b[39m__main__\u001b[39m\u001b[39m'\u001b[39m:\n\u001b[1;32m---> <a href='vscode-notebook-cell:/c%3A/Users/JBarr/OneDrive/Documents/FinTech/career_services/mathemeticsDevelopment/mathemetics/Computer_Science/AdvancedPythonProgramming/BookWork/RetuningforPatterns.ipynb#ch0000004?line=26'>27</a>\u001b[0m     main()\n",
      "\u001b[1;32mc:\\Users\\JBarr\\OneDrive\\Documents\\FinTech\\career_services\\mathemeticsDevelopment\\mathemetics\\Computer_Science\\AdvancedPythonProgramming\\BookWork\\RetuningforPatterns.ipynb Cell 5'\u001b[0m in \u001b[0;36mmain\u001b[1;34m()\u001b[0m\n\u001b[0;32m     <a href='vscode-notebook-cell:/c%3A/Users/JBarr/OneDrive/Documents/FinTech/career_services/mathemeticsDevelopment/mathemetics/Computer_Science/AdvancedPythonProgramming/BookWork/RetuningforPatterns.ipynb#ch0000004?line=10'>11</a>\u001b[0m \u001b[39mprint\u001b[39m(df)\n\u001b[0;32m     <a href='vscode-notebook-cell:/c%3A/Users/JBarr/OneDrive/Documents/FinTech/career_services/mathemeticsDevelopment/mathemetics/Computer_Science/AdvancedPythonProgramming/BookWork/RetuningforPatterns.ipynb#ch0000004?line=11'>12</a>\u001b[0m \u001b[39mprint\u001b[39m()\n\u001b[1;32m---> <a href='vscode-notebook-cell:/c%3A/Users/JBarr/OneDrive/Documents/FinTech/career_services/mathemeticsDevelopment/mathemetics/Computer_Science/AdvancedPythonProgramming/BookWork/RetuningforPatterns.ipynb#ch0000004?line=12'>13</a>\u001b[0m df\u001b[39m.\u001b[39;49mremove(hf)\n\u001b[0;32m     <a href='vscode-notebook-cell:/c%3A/Users/JBarr/OneDrive/Documents/FinTech/career_services/mathemeticsDevelopment/mathemetics/Computer_Science/AdvancedPythonProgramming/BookWork/RetuningforPatterns.ipynb#ch0000004?line=13'>14</a>\u001b[0m df\u001b[39m.\u001b[39mdata \u001b[39m=\u001b[39m \u001b[39m40\u001b[39m\n\u001b[0;32m     <a href='vscode-notebook-cell:/c%3A/Users/JBarr/OneDrive/Documents/FinTech/career_services/mathemeticsDevelopment/mathemetics/Computer_Science/AdvancedPythonProgramming/BookWork/RetuningforPatterns.ipynb#ch0000004?line=14'>15</a>\u001b[0m \u001b[39mprint\u001b[39m(df)\n",
      "\u001b[1;31mAttributeError\u001b[0m: 'HexFormmaterObs' object has no attribute 'remove'"
     ]
    }
   ],
   "source": [
    "def main():\n",
    "    df = HexFormmaterObs()\n",
    "    print(df)\n",
    "    print()\n",
    "    hf = HexFormmaterObs()\n",
    "    df.add = 3\n",
    "    print(df)\n",
    "    print()\n",
    "    bf = BinaryFormatterObs()\n",
    "    df.data = 21\n",
    "    print(df)\n",
    "    print()\n",
    "    df.remove(hf)\n",
    "    df.data = 40\n",
    "    print(df)\n",
    "    print()\n",
    "    df.remove(hf)\n",
    "    df.add(bf)\n",
    "    df.data = 'hello'\n",
    "    print(df)\n",
    "    print()\n",
    "    df.data = 15.8\n",
    "    print(df)\n",
    "    \n",
    "    \n",
    "if __name__ == '__main__':\n",
    "    main()"
   ]
  },
  {
   "cell_type": "code",
   "execution_count": null,
   "metadata": {},
   "outputs": [],
   "source": []
  },
  {
   "cell_type": "code",
   "execution_count": null,
   "metadata": {},
   "outputs": [],
   "source": [
    "# Model-View-Controller Pattern\n",
    "\n",
    "quotes = ('A man is not complete until he is married. Then he is finished.',\n",
    "          'A positive mental attitude',\n",
    "          'Effort, Maximun effort, Full concentration, calm composer',\n",
    "          'Seek enlightenment'\n",
    ")\n",
    "\n"
   ]
  },
  {
   "cell_type": "code",
   "execution_count": null,
   "metadata": {},
   "outputs": [],
   "source": [
    "# Model-View-Controller Pattern\n",
    "\"\"\"\n",
    "quotes = [['A man is not complete until he is married. Then he is finished.'],\n",
    "          ['A positive mental attitude'],\n",
    "          ['Effort, Maximun effort, Full concentration, calm composer'],\n",
    "          ['Seek enlightenment']\n",
    "]\n",
    "\n",
    "\n",
    "\n",
    "class QuoteModel:\n",
    "    def get_quote(self, n):\n",
    "        try:\n",
    "            value = quotes[n]\n",
    "        except IndexError as err:\n",
    "            value = 'Not found!'\n",
    "        return value\n",
    "    \n",
    "class QuoteTerminalView:\n",
    "    def show(self, quote):\n",
    "        print(f'And the quote is: \"{quote}\"')\n",
    "        \n",
    "    def error(self, msg):\n",
    "        print(f'Error: {msg}')\n",
    "        \n",
    "    def select_quote(self):\n",
    "        return input('Which quote number would you like to see?')\n",
    "    \n",
    "    \n",
    "class QuoteTerminaController:\n",
    "    def __init__(self):\n",
    "        self.model = QuoteModel()\n",
    "        self.view = QuoteTerminalView()\n",
    "    def run(self):\n",
    "        valid_input = False\n",
    "        while not valid_input:\n",
    "            try:\n",
    "                n = self.view.select_quote()\n",
    "                n = int(n)\n",
    "                valid_input = True\n",
    "            except ValueError as err:\n",
    "                self.view.error(f\"Incorrect index '{n}'\")\n",
    "                quote = self.model.get_quote(n)\n",
    "                self.view.show(quote)\n",
    "                \n",
    "def main():\n",
    "    controller = QuoteTerminaController()\n",
    "    while True:\n",
    "        controller.run()\n",
    "\n",
    "if __name__ == \"__main__\":\n",
    "    main()\n",
    "        \n",
    "    \n",
    "\"\"\""
   ]
  },
  {
   "cell_type": "code",
   "execution_count": 11,
   "metadata": {},
   "outputs": [],
   "source": [
    "# flyweight pattern \n",
    "import random\n",
    "from enum import Enum\n",
    "\n",
    "CarType = Enum('CarType', 'subcompact compact suv')\n",
    "\n",
    "class Car:\n",
    "    pool = dict()\n",
    "    \n",
    "    def __new__(cls, car_type):\n",
    "        obj = cls.pool.get(car_type, None)\n",
    "        if not obj:\n",
    "            obj = object.__new__(cls)\n",
    "            cls.pool[car_type] = obj\n",
    "            cls.car_type = car_type\n",
    "        return obj\n",
    "    \n",
    "    def render(self, color, x, y):\n",
    "        type = self.car_type\n",
    "        msg = f'render a car of type {type} and color {color} at ({x}, {y})'\n",
    "        print(msg)\n",
    "    \n",
    "    def main():\n",
    "        rnd = random.Random()\n",
    "        colors = 'white black silver gray  red blue brown beige yellow green'.split()\n",
    "        min_point, max_point  = 0, 100\n",
    "        car_counter = 0\n",
    "            \n",
    "        \n",
    "        for _ in range(10):\n",
    "            c1 = Car(CarType.subcompact)\n",
    "            c1.render(random.choice(colors),\n",
    "            rnd.randint(min_point, max_point),\n",
    "            rnd.randint(min_point, max_point))\n",
    "            car_counter += 1\n",
    "            \n",
    "        \n",
    "        for _ in range(3):\n",
    "            c2 = Car(CarType.compact)\n",
    "            c2.render(random.choice(colors), rnd.randint(min_point, max_point),rnd.randint(min_point, max_point))\n",
    "            car_counter += 1\n",
    "            \n",
    "        for _ in range(5):\n",
    "            c3 = Car(CarType.suv)\n",
    "            c3.render(random.choice(colors),\n",
    "                      rnd.randint(min_point, max_point),\n",
    "                      rnd.randint(min_point, max_point))\n",
    "            car_counter += 1\n",
    "            \n",
    "        c4 = Car(CarType.subcompact)\n",
    "        c5 = Car(CarType.subcompact)\n",
    "        c6 = Car(CarType.suv)\n",
    "        print(f'{id(c4)} == {id(c5)}? {id(c4) == {id(c5)}}')\n",
    "        print(f'{id(c5)} == {id(c6)}? {id(c5) == {id(c6)}}')\n",
    "        \n",
    "        \n",
    "        if __name__ == '__main__':\n",
    "            main()"
   ]
  },
  {
   "cell_type": "code",
   "execution_count": null,
   "metadata": {},
   "outputs": [],
   "source": []
  },
  {
   "cell_type": "code",
   "execution_count": null,
   "metadata": {},
   "outputs": [],
   "source": []
  },
  {
   "cell_type": "code",
   "execution_count": null,
   "metadata": {},
   "outputs": [],
   "source": []
  },
  {
   "cell_type": "code",
   "execution_count": null,
   "metadata": {},
   "outputs": [],
   "source": []
  }
 ],
 "metadata": {
  "kernelspec": {
   "display_name": "dev",
   "language": "python",
   "name": "dev"
  },
  "language_info": {
   "codemirror_mode": {
    "name": "ipython",
    "version": 3
   },
   "file_extension": ".py",
   "mimetype": "text/x-python",
   "name": "python",
   "nbconvert_exporter": "python",
   "pygments_lexer": "ipython3",
   "version": "3.8.12"
  },
  "orig_nbformat": 4
 },
 "nbformat": 4,
 "nbformat_minor": 2
}
