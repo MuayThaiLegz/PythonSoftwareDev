{
 "cells": [
  {
   "cell_type": "code",
   "execution_count": null,
   "metadata": {},
   "outputs": [],
   "source": [
    "\"\"\"\n",
    "The Factory Pattern:\n",
    "Centralizes object creation and tracking your objects becomes much easier.\n",
    "Serveral factory method are typically done in practice.\n",
    "Each one responsible for connection to different datebases    \n",
    "\"\"\"\n"
   ]
  },
  {
   "cell_type": "code",
   "execution_count": 1,
   "metadata": {},
   "outputs": [
    {
     "name": "stdout",
     "output_type": "stream",
     "text": [
      "False\n",
      "<__main__.A object at 0x000002C1356942B0> <__main__.A object at 0x000002C1356948B0>\n"
     ]
    }
   ],
   "source": [
    "class A:\n",
    "    pass \n",
    "\n",
    "if __name__ == '__main__':\n",
    "    a = A()\n",
    "    b = A()\n",
    "    print(id(a) == id(b))\n",
    "    print(a,b)\n",
    "    "
   ]
  },
  {
   "cell_type": "code",
   "execution_count": null,
   "metadata": {},
   "outputs": [],
   "source": [
    "# Implementing the factory method"
   ]
  },
  {
   "cell_type": "code",
   "execution_count": 2,
   "metadata": {},
   "outputs": [],
   "source": [
    "import json\n",
    "\n",
    "import xml.etree.ElementTree as etree\n",
    "\n",
    "\n"
   ]
  },
  {
   "cell_type": "code",
   "execution_count": null,
   "metadata": {},
   "outputs": [],
   "source": [
    "\"\"\"\n",
    "    Parses json file and has a parsed_data method that returns all data as a dictionary (dict). \n",
    "    The prorety docorator us used to make parsed_data() apper as a normal attribute instead of a method.\n",
    "\n",
    "\"\"\""
   ]
  },
  {
   "cell_type": "code",
   "execution_count": 33,
   "metadata": {},
   "outputs": [],
   "source": [
    "class JSONDataExtractor:\n",
    "    def __init__(self, filepath):\n",
    "        self.data = dict()\n",
    "        with open(filepath, mode='r', encoding='utf-8') as f:\n",
    "            self.data = json.load(f)\n",
    "    @property\n",
    "    def parsed_data(self):\n",
    "        return self.data\n",
    "        \n",
    "        "
   ]
  },
  {
   "cell_type": "code",
   "execution_count": 34,
   "metadata": {},
   "outputs": [
    {
     "data": {
      "text/plain": [
       "'\\nclass parses the XML file and has a parsed_data() method that returns all data as a list of \\nxml.etree.ElementTree as follows\\n\\n'"
      ]
     },
     "execution_count": 34,
     "metadata": {},
     "output_type": "execute_result"
    }
   ],
   "source": [
    "\"\"\"\n",
    "class parses the XML file and has a parsed_data() method that returns all data as a list of \n",
    "xml.etree.ElementTree as follows\n",
    "\n",
    "\"\"\""
   ]
  },
  {
   "cell_type": "code",
   "execution_count": 44,
   "metadata": {},
   "outputs": [],
   "source": [
    "class XMLDataExtractor:\n",
    "    def __init__(self, filepath):\n",
    "        self.tree = etree.parse(filepath)\n",
    "    @property\n",
    "    def parsed_data(self):\n",
    "        return self.tree\n",
    "        "
   ]
  },
  {
   "cell_type": "code",
   "execution_count": 45,
   "metadata": {},
   "outputs": [
    {
     "data": {
      "text/plain": [
       "'\\nFunciton is a factory method is returns an instance of the classes depdnging on the xtension of the inputfile \\n\\n'"
      ]
     },
     "execution_count": 45,
     "metadata": {},
     "output_type": "execute_result"
    }
   ],
   "source": [
    "\"\"\"\n",
    "Funciton is a factory method is returns an instance of the classes depdnging on the xtension of the inputfile \n",
    "\n",
    "\"\"\""
   ]
  },
  {
   "cell_type": "code",
   "execution_count": 46,
   "metadata": {},
   "outputs": [],
   "source": [
    "def dataExtraction_factory(filepath):\n",
    "    if filepath.endswith('json'):\n",
    "        extractor = JSONDataExtractor\n",
    "    elif filepath.endswith('xml'):\n",
    "        extractor = XMLDataExtractor\n",
    "    else:\n",
    "        raise ValueError('Cannot extract data from {}'.format(filepath))\n",
    "    return extractor(filepath)"
   ]
  },
  {
   "cell_type": "code",
   "execution_count": 47,
   "metadata": {},
   "outputs": [],
   "source": [
    "# wrapper function adding exception handling\n",
    "\n",
    "def extract_data_from(filepath):\n",
    "    factory_obj = None\n",
    "    try:\n",
    "        factory_obj = dataExtraction_factory(filepath)\n",
    "    except ValueError as e:\n",
    "        print(e)\n",
    "    return factory_obj"
   ]
  },
  {
   "cell_type": "code",
   "execution_count": 48,
   "metadata": {},
   "outputs": [],
   "source": [
    "# Demo pf method use\n"
   ]
  },
  {
   "cell_type": "code",
   "execution_count": 49,
   "metadata": {},
   "outputs": [],
   "source": [
    "def main():\n",
    "    new_fact = extract_data_from('data/movies.json')\n",
    "    print()"
   ]
  },
  {
   "cell_type": "code",
   "execution_count": 50,
   "metadata": {},
   "outputs": [
    {
     "name": "stdout",
     "output_type": "stream",
     "text": [
      "\n"
     ]
    }
   ],
   "source": [
    "main()"
   ]
  },
  {
   "cell_type": "code",
   "execution_count": 51,
   "metadata": {},
   "outputs": [
    {
     "data": {
      "text/plain": [
       "'\\nWorking with json files using facotry method. Based on parsing specific values\\n\\n'"
      ]
     },
     "execution_count": 51,
     "metadata": {},
     "output_type": "execute_result"
    }
   ],
   "source": [
    "\"\"\"\n",
    "Working with json files using facotry method. Based on parsing specific values\n",
    "\n",
    "\"\"\""
   ]
  },
  {
   "cell_type": "code",
   "execution_count": 53,
   "metadata": {},
   "outputs": [
    {
     "name": "stdout",
     "output_type": "stream",
     "text": [
      "Found: 9 movies\n",
      "Title: After Dark in Central Park\n",
      "Year:\n",
      "Title: Boarding School Girls' Pajama Parade\n",
      "Year:\n",
      "Title: Buffalo Bill's Wild West Parad\n",
      "Year:\n",
      "Title: Caught\n",
      "Year:\n",
      "Title: Clowns Spinning Hats\n",
      "Year:\n",
      "Title: Capture of Boer Battery by British\n",
      "Year:\n",
      "Director: James H. White\n",
      "Genre: Short documentary\n",
      "\n",
      "Title: The Enchanted Drawing\n",
      "Year:\n",
      "Director: J. Stuart Blackton\n",
      "Title: Family Troubles\n",
      "Year:\n",
      "Title: Feeding Sea Lions\n",
      "Year:\n"
     ]
    }
   ],
   "source": [
    "\n",
    "json_factory = extract_data_from('data/movies.json')\n",
    "\n",
    "json_data = json_factory.parsed_data\n",
    "print(f'Found: {len(json_data)} movies')\n",
    "for movie in json_data:\n",
    "    print(f\"Title: {movie['title']}\")\n",
    "    year = movie['year']\n",
    "    if year:\n",
    "        print(f\"Year:\")\n",
    "    director = movie['director']\n",
    "    if director:\n",
    "        print(f'Director: {director}')\n",
    "    genre = movie['genre']\n",
    "    if genre:\n",
    "        print(f\"Genre: {genre}\")\n",
    "        print()\n"
   ]
  },
  {
   "cell_type": "code",
   "execution_count": null,
   "metadata": {},
   "outputs": [],
   "source": [
    "\"\"\"\n",
    "To work with xml files using the factory method. XPath     \n",
    "    \n",
    "\"\"\""
   ]
  },
  {
   "cell_type": "code",
   "execution_count": 57,
   "metadata": {},
   "outputs": [
    {
     "name": "stdout",
     "output_type": "stream",
     "text": [
      "found: 2 persons\n",
      "first name: Jimy\n",
      "last name: Liar\n",
      "phone number (home): 212 555-1234\n",
      "\n",
      "first name: Patty\n",
      "last name: Liar\n",
      "phone number (home): 212 555-1234\n",
      "phone number (mobile): 001 452-8819\n",
      "\n"
     ]
    }
   ],
   "source": [
    "xml_factory = extract_data_from('data/person.xml')\n",
    "xml_data = xml_factory.parsed_data\n",
    "\n",
    "liars = xml_data.findall(f\".//person[lastName ='Liar']\")\n",
    "print(f'found: {len(liars)} persons')\n",
    "for liar in liars:\n",
    "    firstName = liar.find('firstName').text\n",
    "    print(f'first name: {firstName}')\n",
    "    lastname = liar.find('lastName').text\n",
    "    print(f'last name: {lastname}')\n",
    "    [print(f\"phone number ({p.attrib['type']}):\", p.text) for p in liar.find('phoneNumbers')]\n",
    "    print()"
   ]
  },
  {
   "cell_type": "code",
   "execution_count": null,
   "metadata": {},
   "outputs": [],
   "source": [
    "# The abstract factory"
   ]
  },
  {
   "cell_type": "code",
   "execution_count": 58,
   "metadata": {},
   "outputs": [],
   "source": [
    "class Frog:\n",
    "    def __init__(self, name):\n",
    "        self.name = name\n",
    "        \n",
    "        \n",
    "    def __str__(self):\n",
    "        return self.name\n",
    "    \n",
    "    def interact_with(self, obstacle):\n",
    "        act = obstacle.action()\n",
    "        msg = f'{self} the Frog encounters {obstacle} and {act}!'\n",
    "        print(msg)\n",
    "        "
   ]
  },
  {
   "cell_type": "code",
   "execution_count": 59,
   "metadata": {},
   "outputs": [],
   "source": [
    "class Bug:\n",
    "    def __str__(self):\n",
    "        return \"a bug\"\n",
    "    \n",
    "    def action(self):\n",
    "        return 'eats it'"
   ]
  },
  {
   "cell_type": "code",
   "execution_count": 60,
   "metadata": {},
   "outputs": [],
   "source": [
    "class FrogWorld:\n",
    "    def __init__(self, name):\n",
    "        print(self)\n",
    "        self.player_name = name\n",
    "        \n",
    "    def __str__(self):\n",
    "        return '\\n\\n\\t ----- Frog World -----'\n",
    "    \n",
    "    def make_charcter(self):\n",
    "        return Frog(self.player_name)\n",
    "    \n",
    "    def make_obstacle(self):\n",
    "        return Bug()\n",
    "    "
   ]
  },
  {
   "cell_type": "code",
   "execution_count": 62,
   "metadata": {},
   "outputs": [],
   "source": [
    "class Wizard:\n",
    "    def __int__(self, name):\n",
    "        self.name = name\n",
    "        \n",
    "    def __str__(self):\n",
    "        return self.name\n",
    "    \n",
    "    def interact_with(self, obstacle):\n",
    "        act = obstacle.action()\n",
    "        msg = f'{self} the Wizard battles against {obstacle} and {act}!'\n",
    "        print(msg)"
   ]
  },
  {
   "cell_type": "code",
   "execution_count": 65,
   "metadata": {},
   "outputs": [],
   "source": [
    "class Ork:\n",
    "    def __str__(self):\n",
    "        return \"an evil ork\"\n",
    "    \n",
    "    def action(self):\n",
    "        return 'kills it'"
   ]
  },
  {
   "cell_type": "code",
   "execution_count": 68,
   "metadata": {},
   "outputs": [],
   "source": [
    "class WizardWorld:\n",
    "    def __init__(self, name):\n",
    "        print(self)\n",
    "        self.player_name = name\n",
    "    \n",
    "          \n",
    "    def __str__(self):\n",
    "        return '\\n\\n\\t ----- Wizard World -----'\n",
    "    \n",
    "    def make_charcter(self):\n",
    "        return Wizard(self.player_name)\n",
    "    \n",
    "    def make_obstacle(self):\n",
    "        return Ork()\n",
    "    \n",
    "        \n",
    "        \n",
    "    "
   ]
  },
  {
   "cell_type": "code",
   "execution_count": 69,
   "metadata": {},
   "outputs": [],
   "source": [
    "class GameEnvironment:\n",
    "    def __init__(self, factory):\n",
    "        self.hero = factory.make_character()\n",
    "        self.obstracle = factory.make_obstacle()\n",
    "        \n",
    "        \n",
    "    def play(self):\n",
    "        self.hero.interact_with(self.obstracle)"
   ]
  },
  {
   "cell_type": "code",
   "execution_count": 70,
   "metadata": {},
   "outputs": [],
   "source": [
    "def validate_age(name):\n",
    "    try:\n",
    "        age = input(f'Welcome {name}, How old are you?')\n",
    "        age = int(age)\n",
    "        \n",
    "    except ValueError as err:\n",
    "        print(f\"Age {age} is invalid. please try again...\")\n",
    "        return (False, age)\n",
    "    return (True, age)"
   ]
  },
  {
   "cell_type": "code",
   "execution_count": 72,
   "metadata": {},
   "outputs": [],
   "source": [
    "def main():\n",
    "    name = input('Hello. Whats your name')\n",
    "    valid_input = False\n",
    "    while not valid_input:\n",
    "        valid_input, age = validate_age(name)\n",
    "    game = FrogWorld if age < 18 else WizardWorld\n",
    "    env = GameEnvironment(game(name))\n",
    "    env.play()"
   ]
  },
  {
   "cell_type": "code",
   "execution_count": 73,
   "metadata": {},
   "outputs": [
    {
     "name": "stdout",
     "output_type": "stream",
     "text": [
      "\n",
      "\n",
      "\t ----- Wizard World -----\n"
     ]
    },
    {
     "ename": "AttributeError",
     "evalue": "'WizardWorld' object has no attribute 'make_character'",
     "output_type": "error",
     "traceback": [
      "\u001b[1;31m---------------------------------------------------------------------------\u001b[0m",
      "\u001b[1;31mAttributeError\u001b[0m                            Traceback (most recent call last)",
      "\u001b[1;32mc:\\Users\\JBarr\\OneDrive\\Documents\\FinTech\\career_services\\mathemeticsDevelopment\\mathemetics\\Computer_Science\\AdvancedPythonProgramming\\BookWork\\designPatterns.ipynb Cell 29'\u001b[0m in \u001b[0;36m<cell line: 1>\u001b[1;34m()\u001b[0m\n\u001b[1;32m----> <a href='vscode-notebook-cell:/c%3A/Users/JBarr/OneDrive/Documents/FinTech/career_services/mathemeticsDevelopment/mathemetics/Computer_Science/AdvancedPythonProgramming/BookWork/designPatterns.ipynb#ch0000028?line=0'>1</a>\u001b[0m main()\n",
      "\u001b[1;32mc:\\Users\\JBarr\\OneDrive\\Documents\\FinTech\\career_services\\mathemeticsDevelopment\\mathemetics\\Computer_Science\\AdvancedPythonProgramming\\BookWork\\designPatterns.ipynb Cell 28'\u001b[0m in \u001b[0;36mmain\u001b[1;34m()\u001b[0m\n\u001b[0;32m      <a href='vscode-notebook-cell:/c%3A/Users/JBarr/OneDrive/Documents/FinTech/career_services/mathemeticsDevelopment/mathemetics/Computer_Science/AdvancedPythonProgramming/BookWork/designPatterns.ipynb#ch0000027?line=4'>5</a>\u001b[0m     valid_input, age \u001b[39m=\u001b[39m validate_age(name)\n\u001b[0;32m      <a href='vscode-notebook-cell:/c%3A/Users/JBarr/OneDrive/Documents/FinTech/career_services/mathemeticsDevelopment/mathemetics/Computer_Science/AdvancedPythonProgramming/BookWork/designPatterns.ipynb#ch0000027?line=5'>6</a>\u001b[0m game \u001b[39m=\u001b[39m FrogWorld \u001b[39mif\u001b[39;00m age \u001b[39m<\u001b[39m \u001b[39m18\u001b[39m \u001b[39melse\u001b[39;00m WizardWorld\n\u001b[1;32m----> <a href='vscode-notebook-cell:/c%3A/Users/JBarr/OneDrive/Documents/FinTech/career_services/mathemeticsDevelopment/mathemetics/Computer_Science/AdvancedPythonProgramming/BookWork/designPatterns.ipynb#ch0000027?line=6'>7</a>\u001b[0m env \u001b[39m=\u001b[39m GameEnvironment(game(name))\n\u001b[0;32m      <a href='vscode-notebook-cell:/c%3A/Users/JBarr/OneDrive/Documents/FinTech/career_services/mathemeticsDevelopment/mathemetics/Computer_Science/AdvancedPythonProgramming/BookWork/designPatterns.ipynb#ch0000027?line=7'>8</a>\u001b[0m env\u001b[39m.\u001b[39mplay()\n",
      "\u001b[1;32mc:\\Users\\JBarr\\OneDrive\\Documents\\FinTech\\career_services\\mathemeticsDevelopment\\mathemetics\\Computer_Science\\AdvancedPythonProgramming\\BookWork\\designPatterns.ipynb Cell 26'\u001b[0m in \u001b[0;36mGameEnvironment.__init__\u001b[1;34m(self, factory)\u001b[0m\n\u001b[0;32m      <a href='vscode-notebook-cell:/c%3A/Users/JBarr/OneDrive/Documents/FinTech/career_services/mathemeticsDevelopment/mathemetics/Computer_Science/AdvancedPythonProgramming/BookWork/designPatterns.ipynb#ch0000025?line=1'>2</a>\u001b[0m \u001b[39mdef\u001b[39;00m \u001b[39m__init__\u001b[39m(\u001b[39mself\u001b[39m, factory):\n\u001b[1;32m----> <a href='vscode-notebook-cell:/c%3A/Users/JBarr/OneDrive/Documents/FinTech/career_services/mathemeticsDevelopment/mathemetics/Computer_Science/AdvancedPythonProgramming/BookWork/designPatterns.ipynb#ch0000025?line=2'>3</a>\u001b[0m     \u001b[39mself\u001b[39m\u001b[39m.\u001b[39mhero \u001b[39m=\u001b[39m factory\u001b[39m.\u001b[39;49mmake_character()\n\u001b[0;32m      <a href='vscode-notebook-cell:/c%3A/Users/JBarr/OneDrive/Documents/FinTech/career_services/mathemeticsDevelopment/mathemetics/Computer_Science/AdvancedPythonProgramming/BookWork/designPatterns.ipynb#ch0000025?line=3'>4</a>\u001b[0m     \u001b[39mself\u001b[39m\u001b[39m.\u001b[39mobstracle \u001b[39m=\u001b[39m factory\u001b[39m.\u001b[39mmake_obstacle()\n",
      "\u001b[1;31mAttributeError\u001b[0m: 'WizardWorld' object has no attribute 'make_character'"
     ]
    }
   ],
   "source": [
    "main()"
   ]
  },
  {
   "cell_type": "code",
   "execution_count": null,
   "metadata": {},
   "outputs": [],
   "source": []
  }
 ],
 "metadata": {
  "interpreter": {
   "hash": "9ae16ef445867c3ddd8a030e03f508a31c88ab57810e24e3a3afaf36f09532d0"
  },
  "kernelspec": {
   "display_name": "dev",
   "language": "python",
   "name": "dev"
  },
  "language_info": {
   "codemirror_mode": {
    "name": "ipython",
    "version": 3
   },
   "file_extension": ".py",
   "mimetype": "text/x-python",
   "name": "python",
   "nbconvert_exporter": "python",
   "pygments_lexer": "ipython3",
   "version": "3.8.12"
  },
  "orig_nbformat": 4
 },
 "nbformat": 4,
 "nbformat_minor": 2
}
