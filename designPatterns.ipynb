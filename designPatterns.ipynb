{
 "cells": [
  {
   "cell_type": "code",
   "execution_count": 1,
   "metadata": {},
   "outputs": [
    {
     "data": {
      "text/plain": [
       "'\\nThe Factory Pattern:\\nCentralizes object creation and tracking your objects becomes much easier.\\nServeral factory method are typically done in practice.\\nEach one responsible for connection to different datebases    \\n'"
      ]
     },
     "execution_count": 1,
     "metadata": {},
     "output_type": "execute_result"
    }
   ],
   "source": [
    "\"\"\"\n",
    "The Factory Pattern:\n",
    "Centralizes object creation and tracking your objects becomes much easier.\n",
    "Serveral factory method are typically done in practice.\n",
    "Each one responsible for connection to different datebases    \n",
    "\"\"\"\n"
   ]
  },
  {
   "cell_type": "code",
   "execution_count": 2,
   "metadata": {},
   "outputs": [
    {
     "name": "stdout",
     "output_type": "stream",
     "text": [
      "False\n",
      "<__main__.A object at 0x0000021E6FA148E0> <__main__.A object at 0x0000021E6FA14AC0>\n"
     ]
    }
   ],
   "source": [
    "class A:\n",
    "    pass \n",
    "\n",
    "if __name__ == '__main__':\n",
    "    a = A()\n",
    "    b = A()\n",
    "    print(id(a) == id(b))\n",
    "    print(a,b)\n",
    "    "
   ]
  },
  {
   "cell_type": "code",
   "execution_count": 3,
   "metadata": {},
   "outputs": [],
   "source": [
    "# Implementing the factory method"
   ]
  },
  {
   "cell_type": "code",
   "execution_count": 4,
   "metadata": {},
   "outputs": [],
   "source": [
    "import json\n",
    "\n",
    "import xml.etree.ElementTree as etree\n",
    "\n",
    "\n"
   ]
  },
  {
   "cell_type": "code",
   "execution_count": 5,
   "metadata": {},
   "outputs": [
    {
     "data": {
      "text/plain": [
       "'\\n    Parses json file and has a parsed_data method that returns all data as a dictionary (dict). \\n    The prorety docorator us used to make parsed_data() apper as a normal attribute instead of a method.\\n\\n'"
      ]
     },
     "execution_count": 5,
     "metadata": {},
     "output_type": "execute_result"
    }
   ],
   "source": [
    "\"\"\"\n",
    "    Parses json file and has a parsed_data method that returns all data as a dictionary (dict). \n",
    "    The prorety docorator us used to make parsed_data() apper as a normal attribute instead of a method.\n",
    "\n",
    "\"\"\""
   ]
  },
  {
   "cell_type": "code",
   "execution_count": 6,
   "metadata": {},
   "outputs": [],
   "source": [
    "class JSONDataExtractor:\n",
    "    def __init__(self, filepath):\n",
    "        self.data = dict()\n",
    "        with open(filepath, mode='r', encoding='utf-8') as f:\n",
    "            self.data = json.load(f)\n",
    "    @property\n",
    "    def parsed_data(self):\n",
    "        return self.data\n",
    "        \n",
    "        "
   ]
  },
  {
   "cell_type": "code",
   "execution_count": 7,
   "metadata": {},
   "outputs": [
    {
     "data": {
      "text/plain": [
       "'\\nclass parses the XML file and has a parsed_data() method that returns all data as a list of \\nxml.etree.ElementTree as follows\\n\\n'"
      ]
     },
     "execution_count": 7,
     "metadata": {},
     "output_type": "execute_result"
    }
   ],
   "source": [
    "\"\"\"\n",
    "class parses the XML file and has a parsed_data() method that returns all data as a list of \n",
    "xml.etree.ElementTree as follows\n",
    "\n",
    "\"\"\""
   ]
  },
  {
   "cell_type": "code",
   "execution_count": 8,
   "metadata": {},
   "outputs": [],
   "source": [
    "class XMLDataExtractor:\n",
    "    def __init__(self, filepath):\n",
    "        self.tree = etree.parse(filepath)\n",
    "    @property\n",
    "    def parsed_data(self):\n",
    "        return self.tree\n",
    "        "
   ]
  },
  {
   "cell_type": "code",
   "execution_count": 9,
   "metadata": {},
   "outputs": [
    {
     "data": {
      "text/plain": [
       "'\\nFunciton is a factory method is returns an instance of the classes depdnging on the xtension of the inputfile \\n\\n'"
      ]
     },
     "execution_count": 9,
     "metadata": {},
     "output_type": "execute_result"
    }
   ],
   "source": [
    "\"\"\"\n",
    "Funciton is a factory method is returns an instance of the classes depdnging on the xtension of the inputfile \n",
    "\n",
    "\"\"\""
   ]
  },
  {
   "cell_type": "code",
   "execution_count": 10,
   "metadata": {},
   "outputs": [],
   "source": [
    "def dataExtraction_factory(filepath):\n",
    "    if filepath.endswith('json'):\n",
    "        extractor = JSONDataExtractor\n",
    "    elif filepath.endswith('xml'):\n",
    "        extractor = XMLDataExtractor\n",
    "    else:\n",
    "        raise ValueError('Cannot extract data from {}'.format(filepath))\n",
    "    return extractor(filepath)"
   ]
  },
  {
   "cell_type": "code",
   "execution_count": 11,
   "metadata": {},
   "outputs": [],
   "source": [
    "# wrapper function adding exception handling\n",
    "\n",
    "def extract_data_from(filepath):\n",
    "    factory_obj = None\n",
    "    try:\n",
    "        factory_obj = dataExtraction_factory(filepath)\n",
    "    except ValueError as e:\n",
    "        print(e)\n",
    "    return factory_obj"
   ]
  },
  {
   "cell_type": "code",
   "execution_count": 12,
   "metadata": {},
   "outputs": [],
   "source": [
    "# Demo pf method use\n"
   ]
  },
  {
   "cell_type": "code",
   "execution_count": 13,
   "metadata": {},
   "outputs": [],
   "source": [
    "def main():\n",
    "    new_fact = extract_data_from('data/movies.json')\n",
    "    print()"
   ]
  },
  {
   "cell_type": "code",
   "execution_count": 14,
   "metadata": {},
   "outputs": [
    {
     "name": "stdout",
     "output_type": "stream",
     "text": [
      "\n"
     ]
    }
   ],
   "source": [
    "main()"
   ]
  },
  {
   "cell_type": "code",
   "execution_count": 15,
   "metadata": {},
   "outputs": [
    {
     "data": {
      "text/plain": [
       "'\\nWorking with json files using facotry method. Based on parsing specific values\\n\\n'"
      ]
     },
     "execution_count": 15,
     "metadata": {},
     "output_type": "execute_result"
    }
   ],
   "source": [
    "\"\"\"\n",
    "Working with json files using facotry method. Based on parsing specific values\n",
    "\n",
    "\"\"\""
   ]
  },
  {
   "cell_type": "code",
   "execution_count": 16,
   "metadata": {},
   "outputs": [
    {
     "name": "stdout",
     "output_type": "stream",
     "text": [
      "Found: 9 movies\n",
      "Title: After Dark in Central Park\n",
      "Year:\n",
      "Title: Boarding School Girls' Pajama Parade\n",
      "Year:\n",
      "Title: Buffalo Bill's Wild West Parad\n",
      "Year:\n",
      "Title: Caught\n",
      "Year:\n",
      "Title: Clowns Spinning Hats\n",
      "Year:\n",
      "Title: Capture of Boer Battery by British\n",
      "Year:\n",
      "Director: James H. White\n",
      "Genre: Short documentary\n",
      "\n",
      "Title: The Enchanted Drawing\n",
      "Year:\n",
      "Director: J. Stuart Blackton\n",
      "Title: Family Troubles\n",
      "Year:\n",
      "Title: Feeding Sea Lions\n",
      "Year:\n"
     ]
    }
   ],
   "source": [
    "\n",
    "json_factory = extract_data_from('data/movies.json')\n",
    "\n",
    "json_data = json_factory.parsed_data\n",
    "print(f'Found: {len(json_data)} movies')\n",
    "for movie in json_data:\n",
    "    print(f\"Title: {movie['title']}\")\n",
    "    year = movie['year']\n",
    "    if year:\n",
    "        print(f\"Year:\")\n",
    "    director = movie['director']\n",
    "    if director:\n",
    "        print(f'Director: {director}')\n",
    "    genre = movie['genre']\n",
    "    if genre:\n",
    "        print(f\"Genre: {genre}\")\n",
    "        print()\n"
   ]
  },
  {
   "cell_type": "code",
   "execution_count": 17,
   "metadata": {},
   "outputs": [
    {
     "data": {
      "text/plain": [
       "'\\nTo work with xml files using the factory method. XPath     \\n    \\n'"
      ]
     },
     "execution_count": 17,
     "metadata": {},
     "output_type": "execute_result"
    }
   ],
   "source": [
    "\"\"\"\n",
    "To work with xml files using the factory method. XPath     \n",
    "    \n",
    "\"\"\""
   ]
  },
  {
   "cell_type": "code",
   "execution_count": 18,
   "metadata": {},
   "outputs": [
    {
     "name": "stdout",
     "output_type": "stream",
     "text": [
      "found: 2 persons\n",
      "first name: Jimy\n",
      "last name: Liar\n",
      "phone number (home): 212 555-1234\n",
      "\n",
      "first name: Patty\n",
      "last name: Liar\n",
      "phone number (home): 212 555-1234\n",
      "phone number (mobile): 001 452-8819\n",
      "\n"
     ]
    }
   ],
   "source": [
    "xml_factory = extract_data_from('data/person.xml')\n",
    "xml_data = xml_factory.parsed_data\n",
    "\n",
    "liars = xml_data.findall(f\".//person[lastName ='Liar']\")\n",
    "print(f'found: {len(liars)} persons')\n",
    "for liar in liars:\n",
    "    firstName = liar.find('firstName').text\n",
    "    print(f'first name: {firstName}')\n",
    "    lastname = liar.find('lastName').text\n",
    "    print(f'last name: {lastname}')\n",
    "    [print(f\"phone number ({p.attrib['type']}):\", p.text) for p in liar.find('phoneNumbers')]\n",
    "    print()"
   ]
  },
  {
   "cell_type": "code",
   "execution_count": 19,
   "metadata": {},
   "outputs": [],
   "source": [
    "# The abstract factory"
   ]
  },
  {
   "cell_type": "code",
   "execution_count": 20,
   "metadata": {},
   "outputs": [],
   "source": [
    "class Frog:\n",
    "    def __init__(self, name):\n",
    "        self.name = name\n",
    "        \n",
    "        \n",
    "    def __str__(self):\n",
    "        return self.name\n",
    "    \n",
    "    def interact_with(self, obstacle):\n",
    "        act = obstacle.action()\n",
    "        msg = f'{self} the Frog encounters {obstacle} and {act}!'\n",
    "        print(msg)\n",
    "        "
   ]
  },
  {
   "cell_type": "code",
   "execution_count": 21,
   "metadata": {},
   "outputs": [],
   "source": [
    "class Bug:\n",
    "    def __str__(self):\n",
    "        return \"a bug\"\n",
    "    \n",
    "    def action(self):\n",
    "        return 'eats it'"
   ]
  },
  {
   "cell_type": "code",
   "execution_count": 22,
   "metadata": {},
   "outputs": [],
   "source": [
    "class FrogWorld:\n",
    "    def __init__(self, name):\n",
    "        print(self)\n",
    "        self.player_name = name\n",
    "        \n",
    "    def __str__(self):\n",
    "        return '\\n\\n\\t ----- Frog World -----'\n",
    "    \n",
    "    def make_charcter(self):\n",
    "        return Frog(self.player_name)\n",
    "    \n",
    "    def make_obstacle(self):\n",
    "        return Bug()\n",
    "    "
   ]
  },
  {
   "cell_type": "code",
   "execution_count": 23,
   "metadata": {},
   "outputs": [],
   "source": [
    "class Wizard:\n",
    "    def __int__(self, name):\n",
    "        self.name = name\n",
    "        \n",
    "    def __str__(self):\n",
    "        return self.name\n",
    "    \n",
    "    def interact_with(self, obstacle):\n",
    "        act = obstacle.action()\n",
    "        msg = f'{self} the Wizard battles against {obstacle} and {act}!'\n",
    "        print(msg)"
   ]
  },
  {
   "cell_type": "code",
   "execution_count": 24,
   "metadata": {},
   "outputs": [],
   "source": [
    "class Ork:\n",
    "    def __str__(self):\n",
    "        return \"an evil ork\"\n",
    "    \n",
    "    def action(self):\n",
    "        return 'kills it'"
   ]
  },
  {
   "cell_type": "code",
   "execution_count": 25,
   "metadata": {},
   "outputs": [],
   "source": [
    "class WizardWorld:\n",
    "    def __init__(self, name):\n",
    "        print(self)\n",
    "        self.player_name = name\n",
    "    \n",
    "          \n",
    "    def __str__(self):\n",
    "        return '\\n\\n\\t ----- Wizard World -----'\n",
    "    \n",
    "    def make_charcter(self):\n",
    "        return Wizard(self.player_name)\n",
    "    \n",
    "    def make_obstacle(self):\n",
    "        return Ork()\n",
    "    \n",
    "        \n",
    "        \n",
    "    "
   ]
  },
  {
   "cell_type": "code",
   "execution_count": 26,
   "metadata": {},
   "outputs": [],
   "source": [
    "class GameEnvironment:\n",
    "    def __init__(self, factory):\n",
    "        self.hero = factory.make_character()\n",
    "        self.obstracle = factory.make_obstacle()\n",
    "        \n",
    "        \n",
    "    def play(self):\n",
    "        self.hero.interact_with(self.obstracle)"
   ]
  },
  {
   "cell_type": "code",
   "execution_count": 27,
   "metadata": {},
   "outputs": [],
   "source": [
    "def validate_age(name):\n",
    "    try:\n",
    "        age = input(f'Welcome {name}, How old are you?')\n",
    "        age = int(age)\n",
    "        \n",
    "    except ValueError as err:\n",
    "        print(f\"Age {age} is invalid. please try again...\")\n",
    "        return (False, age)\n",
    "    return (True, age)"
   ]
  },
  {
   "cell_type": "code",
   "execution_count": 28,
   "metadata": {},
   "outputs": [],
   "source": [
    "def main():\n",
    "    name = input('Hello. Whats your name')\n",
    "    valid_input = False\n",
    "    while not valid_input:\n",
    "        valid_input, age = validate_age(name)\n",
    "    game = FrogWorld if age < 18 else WizardWorld\n",
    "    env = GameEnvironment(game(name))\n",
    "    env.play()"
   ]
  },
  {
   "cell_type": "code",
   "execution_count": 29,
   "metadata": {},
   "outputs": [
    {
     "name": "stdout",
     "output_type": "stream",
     "text": [
      "\n",
      "\n",
      "\t ----- Wizard World -----\n"
     ]
    },
    {
     "ename": "AttributeError",
     "evalue": "'WizardWorld' object has no attribute 'make_character'",
     "output_type": "error",
     "traceback": [
      "\u001b[1;31m---------------------------------------------------------------------------\u001b[0m",
      "\u001b[1;31mAttributeError\u001b[0m                            Traceback (most recent call last)",
      "\u001b[1;32mc:\\Users\\JBarr\\OneDrive\\Documents\\FinTech\\career_services\\mathemeticsDevelopment\\mathemetics\\Computer_Science\\AdvancedPythonProgramming\\BookWork\\designPatterns.ipynb Cell 29'\u001b[0m in \u001b[0;36m<cell line: 1>\u001b[1;34m()\u001b[0m\n\u001b[1;32m----> <a href='vscode-notebook-cell:/c%3A/Users/JBarr/OneDrive/Documents/FinTech/career_services/mathemeticsDevelopment/mathemetics/Computer_Science/AdvancedPythonProgramming/BookWork/designPatterns.ipynb#ch0000028?line=0'>1</a>\u001b[0m main()\n",
      "\u001b[1;32mc:\\Users\\JBarr\\OneDrive\\Documents\\FinTech\\career_services\\mathemeticsDevelopment\\mathemetics\\Computer_Science\\AdvancedPythonProgramming\\BookWork\\designPatterns.ipynb Cell 28'\u001b[0m in \u001b[0;36mmain\u001b[1;34m()\u001b[0m\n\u001b[0;32m      <a href='vscode-notebook-cell:/c%3A/Users/JBarr/OneDrive/Documents/FinTech/career_services/mathemeticsDevelopment/mathemetics/Computer_Science/AdvancedPythonProgramming/BookWork/designPatterns.ipynb#ch0000027?line=4'>5</a>\u001b[0m     valid_input, age \u001b[39m=\u001b[39m validate_age(name)\n\u001b[0;32m      <a href='vscode-notebook-cell:/c%3A/Users/JBarr/OneDrive/Documents/FinTech/career_services/mathemeticsDevelopment/mathemetics/Computer_Science/AdvancedPythonProgramming/BookWork/designPatterns.ipynb#ch0000027?line=5'>6</a>\u001b[0m game \u001b[39m=\u001b[39m FrogWorld \u001b[39mif\u001b[39;00m age \u001b[39m<\u001b[39m \u001b[39m18\u001b[39m \u001b[39melse\u001b[39;00m WizardWorld\n\u001b[1;32m----> <a href='vscode-notebook-cell:/c%3A/Users/JBarr/OneDrive/Documents/FinTech/career_services/mathemeticsDevelopment/mathemetics/Computer_Science/AdvancedPythonProgramming/BookWork/designPatterns.ipynb#ch0000027?line=6'>7</a>\u001b[0m env \u001b[39m=\u001b[39m GameEnvironment(game(name))\n\u001b[0;32m      <a href='vscode-notebook-cell:/c%3A/Users/JBarr/OneDrive/Documents/FinTech/career_services/mathemeticsDevelopment/mathemetics/Computer_Science/AdvancedPythonProgramming/BookWork/designPatterns.ipynb#ch0000027?line=7'>8</a>\u001b[0m env\u001b[39m.\u001b[39mplay()\n",
      "\u001b[1;32mc:\\Users\\JBarr\\OneDrive\\Documents\\FinTech\\career_services\\mathemeticsDevelopment\\mathemetics\\Computer_Science\\AdvancedPythonProgramming\\BookWork\\designPatterns.ipynb Cell 26'\u001b[0m in \u001b[0;36mGameEnvironment.__init__\u001b[1;34m(self, factory)\u001b[0m\n\u001b[0;32m      <a href='vscode-notebook-cell:/c%3A/Users/JBarr/OneDrive/Documents/FinTech/career_services/mathemeticsDevelopment/mathemetics/Computer_Science/AdvancedPythonProgramming/BookWork/designPatterns.ipynb#ch0000025?line=1'>2</a>\u001b[0m \u001b[39mdef\u001b[39;00m \u001b[39m__init__\u001b[39m(\u001b[39mself\u001b[39m, factory):\n\u001b[1;32m----> <a href='vscode-notebook-cell:/c%3A/Users/JBarr/OneDrive/Documents/FinTech/career_services/mathemeticsDevelopment/mathemetics/Computer_Science/AdvancedPythonProgramming/BookWork/designPatterns.ipynb#ch0000025?line=2'>3</a>\u001b[0m     \u001b[39mself\u001b[39m\u001b[39m.\u001b[39mhero \u001b[39m=\u001b[39m factory\u001b[39m.\u001b[39;49mmake_character()\n\u001b[0;32m      <a href='vscode-notebook-cell:/c%3A/Users/JBarr/OneDrive/Documents/FinTech/career_services/mathemeticsDevelopment/mathemetics/Computer_Science/AdvancedPythonProgramming/BookWork/designPatterns.ipynb#ch0000025?line=3'>4</a>\u001b[0m     \u001b[39mself\u001b[39m\u001b[39m.\u001b[39mobstracle \u001b[39m=\u001b[39m factory\u001b[39m.\u001b[39mmake_obstacle()\n",
      "\u001b[1;31mAttributeError\u001b[0m: 'WizardWorld' object has no attribute 'make_character'"
     ]
    }
   ],
   "source": [
    "main()"
   ]
  },
  {
   "cell_type": "code",
   "execution_count": null,
   "metadata": {},
   "outputs": [],
   "source": []
  },
  {
   "cell_type": "code",
   "execution_count": 62,
   "metadata": {},
   "outputs": [],
   "source": [
    "# The Builder Pattern\n",
    "# The nested macmini14 class is a neat wat of forbidding direct instantiation of a class\n",
    "\n",
    "MINI_14 = '1.4GHz Mac mini'\n",
    "\n",
    "class AppleFactory:\n",
    "    class MacMini14:\n",
    "        def __init__(self):\n",
    "            self.memory = 4\n",
    "            self.hdd = 500\n",
    "            self.gpu = 'Intel HD Graphics 5000'\n",
    "            \n",
    "        def __str__(self):\n",
    "           info = (f'Model: {MINI_14}',\n",
    "                   f'Memory: {self.memory}GB',\n",
    "                   f'Graphics Card: {self.gpu}')\n",
    "           return \"\\n\".join(info) \n",
    "       \n",
    "    def build_computer(self, model):\n",
    "        if model == MINI_14:\n",
    "            return self.MacMini14()\n",
    "        else:\n",
    "            msg = f\"I dont know how to build that {model}\"\n",
    "            print(msg)"
   ]
  },
  {
   "cell_type": "code",
   "execution_count": 63,
   "metadata": {},
   "outputs": [
    {
     "name": "stdout",
     "output_type": "stream",
     "text": [
      "Model: 1.4GHz Mac mini\n",
      "Memory: 4GB\n",
      "Graphics Card: Intel HD Graphics 5000\n"
     ]
    }
   ],
   "source": [
    "# main part which used AppleFactory class:\n",
    "\n",
    "if __name__ == '__main__':\n",
    "    afac = AppleFactory()\n",
    "    mac_mini = afac.build_computer(MINI_14)\n",
    "    print(mac_mini)"
   ]
  },
  {
   "cell_type": "code",
   "execution_count": 64,
   "metadata": {},
   "outputs": [],
   "source": [
    "# Another option: Buy a custom PC. In this case,\n",
    "\n",
    "class Computer:\n",
    "    def __init__(self, serial_number):\n",
    "        self.serial = serial_number\n",
    "        self.memory = None\n",
    "        self.hdd = None\n",
    "        self.gpu = None\n",
    "        \n",
    "    def __str__(self):\n",
    "        info = (f'Model: {MINI_14}',\n",
    "                f'Memory: {self.memory}GB',\n",
    "                f'Graphics Card: {self.gpu}')\n",
    "        return \"\\n\".join(info) \n",
    "       \n",
    "        "
   ]
  },
  {
   "cell_type": "code",
   "execution_count": 65,
   "metadata": {},
   "outputs": [],
   "source": [
    "# We define ComputerBuilder\n",
    "\n",
    "class ComputerBuilder:\n",
    "    \n",
    "    def __init__(self):\n",
    "        self.computer = Computer('AG23385193')\n",
    "        \n",
    "    def configure_memory(self, amount):\n",
    "        self.computer.memory = amount\n",
    "        \n",
    "    def configure_hdd(self, amount):\n",
    "        self.computer.hdd = amount\n",
    "        \n",
    "    def configure_gpu(self, gpu_model):\n",
    "        self.computer.gpu = gpu_model"
   ]
  },
  {
   "cell_type": "code",
   "execution_count": 66,
   "metadata": {},
   "outputs": [],
   "source": [
    "# We difine the HardwareEngineer\n",
    "\n",
    "class HardwareEngineer:\n",
    "    \n",
    "    def __init__(self):\n",
    "        self.builder = None\n",
    "        \n",
    "        \n",
    "    def construct_computer(self, memory, hdd, gpu):\n",
    "        self.builder = ComputerBuilder()\n",
    "        \n",
    "        steps = (self.builder.configure_memory(memory),\n",
    "                 self.builder.configure_hdd(hdd),\n",
    "                 self.builder.configure_gpu(gpu))\n",
    "        \n",
    "        [step for step in steps]\n",
    "        \n",
    "    @property\n",
    "    def computer(self):\n",
    "        return self.builder.computer    "
   ]
  },
  {
   "cell_type": "code",
   "execution_count": 67,
   "metadata": {},
   "outputs": [
    {
     "name": "stdout",
     "output_type": "stream",
     "text": [
      "Model: 1.4GHz Mac mini\n",
      "Memory: 32GB\n",
      "Graphics Card: GeForce RTX 2060\n"
     ]
    }
   ],
   "source": [
    "def main():\n",
    "    engineer = HardwareEngineer()\n",
    "    engineer.construct_computer(hdd=500,\n",
    "                                memory=32,\n",
    "                                gpu='GeForce RTX 2060')\n",
    "    \n",
    "    computer = engineer.computer\n",
    "    \n",
    "    print(computer)\n",
    "    \n",
    "if __name__ == '__main__':\n",
    "    main()"
   ]
  },
  {
   "cell_type": "code",
   "execution_count": 68,
   "metadata": {},
   "outputs": [],
   "source": [
    "# Implementation\n",
    "\n",
    "from enum import Enum\n",
    "\n",
    "import time\n",
    "\n",
    "PizzaProgress = Enum('PizzaProcess', 'queued preparation baking ready')\n",
    "PizzaDough = Enum('PizzaDough', 'thin think')\n",
    "PizzaSauce = Enum('PizzaSauce', 'tomato creme_fraiche')\n",
    "PizzaTopping = Enum('PizzaTopping', 'mozzarella double_mozzarella bacon ham mushrooms red_onion oregago')\n",
    "STEP_DELAY = 3"
   ]
  },
  {
   "cell_type": "code",
   "execution_count": 69,
   "metadata": {},
   "outputs": [],
   "source": [
    "class Pizza:\n",
    "    \n",
    "    def __init__(self, name):\n",
    "        self.name = name\n",
    "        self.dough = None\n",
    "        self.sauce = None\n",
    "        self.topping = []\n",
    "        \n",
    "    def __str__(self):\n",
    "        return self.name\n",
    "    \n",
    "    def prepare_dough(self, dough):\n",
    "        self.dough = dough\n",
    "        print(f'preparing the {self.dough.name} dough of your {self}...')\n",
    "        time.sleep(STEP_DELAY)\n",
    "        print(f'done with the {self.dough.name} dough ')"
   ]
  },
  {
   "cell_type": "code",
   "execution_count": 70,
   "metadata": {},
   "outputs": [],
   "source": [
    "# From source code\n",
    "\n",
    "class MargaritaBuilder:\n",
    "    def __init__(self):\n",
    "        self.pizza = Pizza('margarita')\n",
    "        self.progress = PizzaProgress.queued\n",
    "        self.baking_time = 5 # in seconds for the sake of the example\n",
    "\n",
    "    def prepare_dough(self):\n",
    "        self.progress = PizzaProgress.preparation\n",
    "        self.pizza.prepare_dough(PizzaDough.thin)\n",
    "\n",
    "    def add_sauce(self):\n",
    "        print('adding the tomato sauce to your margarita...')\n",
    "        self.pizza.sauce = PizzaSauce.tomato\n",
    "        time.sleep(STEP_DELAY)\n",
    "        print('done with the tomato sauce')\n",
    "\n",
    "    def add_topping(self):\n",
    "        topping_desc = 'double mozzarella, oregano'\n",
    "        topping_items = (PizzaTopping.double_mozzarella, PizzaTopping.oregano)\n",
    "        print(f'adding the topping ({topping_desc}) to your margarita')\n",
    "        self.pizza.topping.append([t for t in topping_items])\n",
    "        time.sleep(STEP_DELAY)\n",
    "        print(f'done with the topping ({topping_desc})')\n",
    "\n",
    "    def bake(self):\n",
    "        self.progress = PizzaProgress.baking\n",
    "        print(f'baking your margarita for {self.baking_time} seconds')\n",
    "        time.sleep(self.baking_time)\n",
    "        self.progress = PizzaProgress.ready\n",
    "        print('your margarita is ready')\n",
    "\n",
    "        \n",
    "class CreamyBaconBuilder:\n",
    "    def __init__(self):\n",
    "        self.pizza = Pizza('creamy bacon')\n",
    "        self.progress = PizzaProgress.queued\n",
    "        self.baking_time = 7 # in seconds for the sake of the example\n",
    "\n",
    "    def prepare_dough(self):\n",
    "        self.progress = PizzaProgress.preparation\n",
    "        self.pizza.prepare_dough(PizzaDough.thick)\n",
    "\n",
    "    def add_sauce(self):\n",
    "        print('adding the crème fraîche sauce to your creamy bacon')\n",
    "        self.pizza.sauce = PizzaSauce.creme_fraiche\n",
    "        time.sleep(STEP_DELAY)\n",
    "        print('done with the crème fraîche sauce')\n",
    "\n",
    "    def add_topping(self):\n",
    "        topping_desc = 'mozzarella, bacon, ham, mushrooms, red onion, oregano'\n",
    "        topping_items =  (PizzaTopping.mozzarella,\n",
    "                          PizzaTopping.bacon,\n",
    "                          PizzaTopping.ham,\n",
    "                          PizzaTopping.mushrooms,\n",
    "                          PizzaTopping.red_onion, \n",
    "                          PizzaTopping.oregano)\n",
    "        print(f'adding the topping ({topping_desc}) to your creamy bacon')\n",
    "        self.pizza.topping.append([t for t in topping_items])\n",
    "        time.sleep(STEP_DELAY)\n",
    "        print(f'done with the topping ({topping_desc})')\n",
    "\n",
    "    def bake(self):\n",
    "        self.progress = PizzaProgress.baking\n",
    "        print(f'baking your creamy bacon for {self.baking_time} seconds')\n",
    "        time.sleep(self.baking_time)\n",
    "        self.progress = PizzaProgress.ready\n",
    "        print('your creamy bacon is ready')"
   ]
  },
  {
   "cell_type": "code",
   "execution_count": 71,
   "metadata": {},
   "outputs": [],
   "source": [
    "class Waiter:\n",
    "    def __init__(self):\n",
    "       self.builder = builder\n",
    "       steps = (builder.prepare_dough, \n",
    "                builder.add_sauce,\n",
    "                builder.add_topping,\n",
    "                builder.bake)\n",
    "       \n",
    "       [step() for step in steps]\n",
    "       \n",
    "    @property\n",
    "    def pizza(self):\n",
    "        return self.builder.pizza "
   ]
  },
  {
   "cell_type": "code",
   "execution_count": 72,
   "metadata": {},
   "outputs": [],
   "source": [
    "def validate_style(builders):\n",
    "    try:\n",
    "        input_msg = 'What pizza would you like, [m]argarita or [c]reamy bacon?'\n",
    "        pizza_style = input(input_msg)\n",
    "        builder = builders[pizza_style]()\n",
    "        valid_input = True\n",
    "    except KeyError:\n",
    "        error_msg = 'Sorry, only margarite (key m) and creamy bacon (key c) are available'\n",
    "        print(error_msg)\n",
    "        return (False, None)\n",
    "    return (True, builder)"
   ]
  },
  {
   "cell_type": "code",
   "execution_count": 73,
   "metadata": {},
   "outputs": [],
   "source": [
    "def main():\n",
    "    builders = dict(m=MargaritaBuilder, c=CreamyBaconBuilder)\n",
    "    valid_input = False\n",
    "    while not valid_input:\n",
    "        valid_input, builder = validate_style(builders)\n",
    "    print()\n",
    "    waiter = Waiter()\n",
    "    waiter.construct_pizza(builder)\n",
    "    pizza = waiter.pizza\n",
    "    print()\n",
    "    print(f'Enjoy the {pizza}!')"
   ]
  },
  {
   "cell_type": "code",
   "execution_count": 74,
   "metadata": {},
   "outputs": [
    {
     "name": "stdout",
     "output_type": "stream",
     "text": [
      "Garlic: yes\n",
      "Extra cheese: yes\n"
     ]
    }
   ],
   "source": [
    "class Pizza: \n",
    "    def __init__(self, builder): \n",
    "        self.garlic = builder.garlic \n",
    "        self.extra_cheese  = builder.extra_cheese \n",
    " \n",
    "    def __str__(self): \n",
    "        garlic = 'yes' if self.garlic else 'no' \n",
    "        cheese = 'yes' if self.extra_cheese else 'no' \n",
    "        info = (f'Garlic: {garlic}', f'Extra cheese: {cheese}') \n",
    "        return '\\n'.join(info) \n",
    " \n",
    "    class PizzaBuilder: \n",
    "        def __init__(self): \n",
    "            self.extra_cheese = False \n",
    "            self.garlic = False \n",
    " \n",
    "        def add_garlic(self): \n",
    "            self.garlic = True \n",
    "            return self \n",
    " \n",
    "        def add_extra_cheese(self): \n",
    "            self.extra_cheese = True \n",
    "            return self \n",
    " \n",
    "        def build(self): \n",
    "            return Pizza(self) \n",
    " \n",
    "if __name__ == '__main__': \n",
    "    pizza = Pizza.PizzaBuilder().add_garlic().add_extra_cheese().build() \n",
    "    print(pizza)"
   ]
  },
  {
   "cell_type": "code",
   "execution_count": 1,
   "metadata": {},
   "outputs": [],
   "source": [
    "# Other Creational Patterns\n",
    "# using this tech for the optional attributes of our class\n",
    " \n",
    "class Website:\n",
    "    def __init__(self, name, domain, description, author, **kwargs):\n",
    "        \n",
    "        self.name = name\n",
    "        self.domain = domain\n",
    "        self.description = description\n",
    "        self.author = author\n",
    "        for key in kwargs:\n",
    "            setattr(self, key, kwargs[key])\n",
    "            \n",
    "    def __str__(self):\n",
    "        summary = [f'Website \"{self.name}\"\\n',]\n",
    "        infos = vars(self).items()\n",
    "        orderd_infos = sorted(infos)\n",
    "        for attr, val in orderd_infos:\n",
    "            if attr == 'name':\n",
    "                continue\n",
    "            summary.append(f'{attr}: {val}\\n')\n",
    "        return \"\".join(summary)"
   ]
  },
  {
   "cell_type": "code",
   "execution_count": 4,
   "metadata": {},
   "outputs": [],
   "source": [
    "class Prototype:\n",
    "    \n",
    "    def __init__(self):\n",
    "        self.objects = dict()\n",
    "        \n",
    "    def register(self, identifier, obj):\n",
    "        self.objects[identifier] = obj\n",
    "    \n",
    "    def unregister(self, identifier):\n",
    "        del self.objects[identifier]\n",
    "        \n",
    "    def clone(self, identifier, **kargs):\n",
    "        found = self.objects.get(identifier)\n",
    "        if not found:\n",
    "            raise ValueError(f'Incorrect object identifier: {identifier}')\n",
    "        obj = copy.deepcopy(found)\n",
    "        for key in attrs:\n",
    "            setattr(obj, key, attrs[key])\n",
    "        \n",
    "        return obj"
   ]
  },
  {
   "cell_type": "code",
   "execution_count": 6,
   "metadata": {},
   "outputs": [],
   "source": [
    "def main():\n",
    "    keywords = ('python', 'data', 'apis', 'automation')\n",
    "    site1 = Website('ContentGardening',\n",
    "            domain=\"ContentGardening.com\",\n",
    "            description='Autpmation and data-driven apps',\n",
    "            author='Kamon Ayeva',\n",
    "            category='Blog',\n",
    "            keywords=keywords)\n",
    "    \n",
    "    prototype = Prototype()\n",
    "    \n",
    "    identifier = 'ka-cg-1'\n",
    "    property.register(indentifier, site1)\n",
    "    site2 = property.clone(identifier,\n",
    "                           name='ContentGardningPlayground',\n",
    "                           domain='play.ContentGardningPlayground.com',\n",
    "                           description='Experimentaion for techniques featured on blog',\n",
    "                           category='Membership site',\n",
    "                           creation_date= '2018-08-01')\n",
    "    \n",
    "    for site in (site1, site2):\n",
    "        print(site)\n",
    "    print(f'ID site1 : {id(site1)} != ID site2 : {id(site2)}')"
   ]
  },
  {
   "cell_type": "code",
   "execution_count": 7,
   "metadata": {},
   "outputs": [],
   "source": [
    "# Singleton"
   ]
  },
  {
   "cell_type": "code",
   "execution_count": 17,
   "metadata": {},
   "outputs": [],
   "source": [
    "import urllib.parse\n",
    "\n",
    "import urllib.request\n",
    "\n",
    "class URLFetcher:\n",
    "    \n",
    "    def __init__(self):\n",
    "        self.urls = []\n",
    "    \n",
    "    def fetch(self, urls):\n",
    "        req = urllib.request.Request(urls)\n",
    "        with urllib.request.urlopen(req) as response:\n",
    "            if response.code == 200:\n",
    "                the_page = response.read()\n",
    "                print(the_page)\n",
    "                urls = self.urls\n",
    "                urls.append(urls)\n",
    "                self.urls = urls \n"
   ]
  },
  {
   "cell_type": "code",
   "execution_count": 18,
   "metadata": {},
   "outputs": [],
   "source": [
    "# Meta for the singleton, meaning the class (or type) of the classes that implement the singleton pattern\n",
    "\n",
    "\n",
    "class SingletonType(type):\n",
    "    _instances = {}\n",
    "    def __call__(cls, *args, **kwargs):\n",
    "        if cls != cls._instances:\n",
    "            cls._instances[cls] = super(SingletonType, cls).__call__(*args, **kwargs)\n",
    "            return cls._instances[cls]\n",
    "        "
   ]
  },
  {
   "cell_type": "code",
   "execution_count": 22,
   "metadata": {},
   "outputs": [
    {
     "name": "stdout",
     "output_type": "stream",
     "text": [
      "False\n"
     ]
    }
   ],
   "source": [
    "class URLFetcher(metaclass=SingletonType):\n",
    "    \n",
    "    def fetch(self, url):\n",
    "        req = urllib.request.Request(url)\n",
    "        with urllib.request.urlopen(req) as response:\n",
    "            if response.code == 200:\n",
    "                the_page = response.read()\n",
    "                print(the_page)\n",
    "                urls = self.urls\n",
    "                urls.append(url)\n",
    "                self.urls = urls\n",
    "    \n",
    "    def dump_url_registry(self):\n",
    "        return ','.join(self.urls)\n",
    "    \n",
    "if __name__ == '__main__':\n",
    "    print(URLFetcher() is URLFetcher())"
   ]
  },
  {
   "cell_type": "code",
   "execution_count": 23,
   "metadata": {},
   "outputs": [],
   "source": [
    "def main():\n",
    "    MY_URLS =  [\n",
    "    \"https://api.alternative.me/v2/ticker/Bitcoin/?convert=USD\",\n",
    "    \"https://api.alternative.me/v2/ticker/Ethereum/?convert=USD\",\n",
    "    \"https://api.alternative.me/v2/ticker/Chainlink/?convert=USD\",\n",
    "    \"https://api.alternative.me/v2/ticker/Sushiswap/?convert=USD\",\n",
    "    \"https://api.alternative.me/v2/ticker/Cosmos/?convert=USD\",\n",
    "    \"https://api.alternative.me/v2/ticker/Algorand/?convert=USD\"\n",
    "]\n",
    "    print(URLFetcher() is URLFetcher())\n",
    "    \n",
    "    fetcher = URLFetcher()\n",
    "    \n",
    "    for url in MY_URLS:\n",
    "        try:\n",
    "            fetcher.fetch(url)\n",
    "        except Exception as e:\n",
    "            print(e)\n",
    "    print(\"---------------------\")\n",
    "    done_urls = fetcher.dump_url_registry()\n",
    "    print(f'Done URLs; {done_urls}')\n",
    "    "
   ]
  },
  {
   "cell_type": "code",
   "execution_count": 24,
   "metadata": {},
   "outputs": [
    {
     "name": "stdout",
     "output_type": "stream",
     "text": [
      "False\n",
      "b'{\\n\\t\"data\": {\\n\\t\\t\"1\": {\\n\\t\\t\\t\"id\": 1,\\n\\t\\t\\t\"name\": \"Bitcoin\",\\n\\t\\t\\t\"symbol\": \"BTC\",\\n\\t\\t\\t\"website_slug\": \"bitcoin\",\\n\\t\\t\\t\"rank\": 1,\\n\\t\\t\\t\"circulating_supply\": 18998575,\\n\\t\\t\\t\"total_supply\": 18998575,\\n\\t\\t\\t\"max_supply\": 21000000,\\n\\t\\t\\t\"quotes\": {\\n\\t\\t\\t\\t\"USD\": {\\n\\t\\t\\t\\t\\t\"price\": 47301.0000000000000000,\\n\\t\\t\\t\\t\\t\"volume_24h\": 23180529267,\\n\\t\\t\\t\\t\\t\"market_cap\": 899198231560,\\n\\t\\t\\t\\t\\t\"percentage_change_1h\": 0.0848689233233464,\\n\\t\\t\\t\\t\\t\"percentage_change_24h\": 0.3487754098263990,\\n\\t\\t\\t\\t\\t\"percentage_change_7d\": 10.5111661647538000,\\n\\t\\t\\t\\t\\t\"percent_change_1h\": 0.0848689233233464,\\n\\t\\t\\t\\t\\t\"percent_change_24h\": 0.3487754098263990,\\n\\t\\t\\t\\t\\t\"percent_change_7d\": 10.5111661647538000\\n\\t\\t\\t\\t}\\n\\t\\t\\t},\\n\\t\\t\\t\"last_updated\": 1648694055\\n\\t\\t}\\n\\t},\\n\\t\"metadata\": {\\n\\t\\t\"timestamp\": 1648694055,\\n\\t\\t\"num_cryptocurrencies\": 3105,\\n\\t\\t\"error\": null\\n\\t}\\n}'\n",
      "'URLFetcher' object has no attribute 'urls'\n",
      "b'{\\n\\t\"data\": {\\n\\t\\t\"1027\": {\\n\\t\\t\\t\"id\": 1027,\\n\\t\\t\\t\"name\": \"Ethereum\",\\n\\t\\t\\t\"symbol\": \"ETH\",\\n\\t\\t\\t\"website_slug\": \"ethereum\",\\n\\t\\t\\t\"rank\": 2,\\n\\t\\t\\t\"circulating_supply\": 120180493,\\n\\t\\t\\t\"total_supply\": 120180493,\\n\\t\\t\\t\"max_supply\": 0,\\n\\t\\t\\t\"quotes\": {\\n\\t\\t\\t\\t\"USD\": {\\n\\t\\t\\t\\t\\t\"price\": 3412.7100000000000000,\\n\\t\\t\\t\\t\\t\"volume_24h\": 13603494613,\\n\\t\\t\\t\\t\\t\"market_cap\": 410346543815,\\n\\t\\t\\t\\t\\t\"percentage_change_1h\": 0.2141863691858160,\\n\\t\\t\\t\\t\\t\"percentage_change_24h\": 1.4485818281890800,\\n\\t\\t\\t\\t\\t\"percentage_change_7d\": 12.6741297901365000,\\n\\t\\t\\t\\t\\t\"percent_change_1h\": 0.2141863691858160,\\n\\t\\t\\t\\t\\t\"percent_change_24h\": 1.4485818281890800,\\n\\t\\t\\t\\t\\t\"percent_change_7d\": 12.6741297901365000\\n\\t\\t\\t\\t}\\n\\t\\t\\t},\\n\\t\\t\\t\"last_updated\": 1648694069\\n\\t\\t}\\n\\t},\\n\\t\"metadata\": {\\n\\t\\t\"timestamp\": 1648694069,\\n\\t\\t\"num_cryptocurrencies\": 3105,\\n\\t\\t\"error\": null\\n\\t}\\n}'\n",
      "'URLFetcher' object has no attribute 'urls'\n",
      "b'{\\n\\t\"data\": {\\n\\t\\t\"1975\": {\\n\\t\\t\\t\"id\": 1975,\\n\\t\\t\\t\"name\": \"Chainlink\",\\n\\t\\t\\t\"symbol\": \"LINK\",\\n\\t\\t\\t\"website_slug\": \"chainlink\",\\n\\t\\t\\t\"rank\": 16,\\n\\t\\t\\t\"circulating_supply\": 467009550,\\n\\t\\t\\t\"total_supply\": 467009550,\\n\\t\\t\\t\"max_supply\": 1000000000,\\n\\t\\t\\t\"quotes\": {\\n\\t\\t\\t\\t\"USD\": {\\n\\t\\t\\t\\t\\t\"price\": 17.4700000000000000,\\n\\t\\t\\t\\t\\t\"volume_24h\": 688179156,\\n\\t\\t\\t\\t\\t\"market_cap\": 8163243335,\\n\\t\\t\\t\\t\\t\"percentage_change_1h\": 0.0206993112327311,\\n\\t\\t\\t\\t\\t\"percentage_change_24h\": 3.6290997393738900,\\n\\t\\t\\t\\t\\t\"percentage_change_7d\": 10.8298117143887000,\\n\\t\\t\\t\\t\\t\"percent_change_1h\": 0.0206993112327311,\\n\\t\\t\\t\\t\\t\"percent_change_24h\": 3.6290997393738900,\\n\\t\\t\\t\\t\\t\"percent_change_7d\": 10.8298117143887000\\n\\t\\t\\t\\t}\\n\\t\\t\\t},\\n\\t\\t\\t\"last_updated\": 1648694048\\n\\t\\t}\\n\\t},\\n\\t\"metadata\": {\\n\\t\\t\"timestamp\": 1648694048,\\n\\t\\t\"num_cryptocurrencies\": 3105,\\n\\t\\t\"error\": null\\n\\t}\\n}'\n",
      "'URLFetcher' object has no attribute 'urls'\n",
      "b'{\\n\\t\"data\": {\\n\\t},\\n\\t\"metadata\": {\\n\\t\\t\"timestamp\": 1648694346,\\n\\t\\t\"num_cryptocurrencies\": 3105,\\n\\t\\t\"error\": \"unknown id\"\\n\\t}\\n}'\n",
      "'URLFetcher' object has no attribute 'urls'\n",
      "b'{\\n\\t\"data\": {\\n\\t\\t\"1420\": {\\n\\t\\t\\t\"id\": 1420,\\n\\t\\t\\t\"name\": \"Cosmos\",\\n\\t\\t\\t\"symbol\": \"ATOM\",\\n\\t\\t\\t\"website_slug\": \"cosmos\",\\n\\t\\t\\t\"rank\": 31,\\n\\t\\t\\t\"circulating_supply\": 291593965,\\n\\t\\t\\t\"total_supply\": 291593965,\\n\\t\\t\\t\"max_supply\": 0,\\n\\t\\t\\t\"quotes\": {\\n\\t\\t\\t\\t\"USD\": {\\n\\t\\t\\t\\t\\t\"price\": 30.6000000000000000,\\n\\t\\t\\t\\t\\t\"volume_24h\": 820595708,\\n\\t\\t\\t\\t\\t\"market_cap\": 8927934886,\\n\\t\\t\\t\\t\\t\"percentage_change_1h\": 0.3657714436298410,\\n\\t\\t\\t\\t\\t\"percentage_change_24h\": 2.8068846208083500,\\n\\t\\t\\t\\t\\t\"percentage_change_7d\": 8.6736487460363900,\\n\\t\\t\\t\\t\\t\"percent_change_1h\": 0.3657714436298410,\\n\\t\\t\\t\\t\\t\"percent_change_24h\": 2.8068846208083500,\\n\\t\\t\\t\\t\\t\"percent_change_7d\": 8.6736487460363900\\n\\t\\t\\t\\t}\\n\\t\\t\\t},\\n\\t\\t\\t\"last_updated\": 1648693993\\n\\t\\t}\\n\\t},\\n\\t\"metadata\": {\\n\\t\\t\"timestamp\": 1648693993,\\n\\t\\t\"num_cryptocurrencies\": 3105,\\n\\t\\t\"error\": null\\n\\t}\\n}'\n",
      "'URLFetcher' object has no attribute 'urls'\n",
      "b'{\\n\\t\"data\": {\\n\\t\\t\"0\": {\\n\\t\\t\\t\"id\": 0,\\n\\t\\t\\t\"name\": \"Algorand\",\\n\\t\\t\\t\"symbol\": \"ALGO\",\\n\\t\\t\\t\"website_slug\": \"algorand\",\\n\\t\\t\\t\"rank\": 44,\\n\\t\\t\\t\"circulating_supply\": 6638284688,\\n\\t\\t\\t\"total_supply\": 6638284688,\\n\\t\\t\\t\"max_supply\": 7069124734,\\n\\t\\t\\t\"quotes\": {\\n\\t\\t\\t\\t\"USD\": {\\n\\t\\t\\t\\t\\t\"price\": 0.9541830000000000,\\n\\t\\t\\t\\t\\t\"volume_24h\": 235840083,\\n\\t\\t\\t\\t\\t\"market_cap\": 6337824053,\\n\\t\\t\\t\\t\\t\"percentage_change_1h\": 1.7228870039312600,\\n\\t\\t\\t\\t\\t\"percentage_change_24h\": 5.9964690445134100,\\n\\t\\t\\t\\t\\t\"percentage_change_7d\": 13.9615504326863000,\\n\\t\\t\\t\\t\\t\"percent_change_1h\": 1.7228870039312600,\\n\\t\\t\\t\\t\\t\"percent_change_24h\": 5.9964690445134100,\\n\\t\\t\\t\\t\\t\"percent_change_7d\": 13.9615504326863000\\n\\t\\t\\t\\t}\\n\\t\\t\\t},\\n\\t\\t\\t\"last_updated\": 1648694036\\n\\t\\t}\\n\\t},\\n\\t\"metadata\": {\\n\\t\\t\"timestamp\": 1648694036,\\n\\t\\t\"num_cryptocurrencies\": 3105,\\n\\t\\t\"error\": null\\n\\t}\\n}'\n",
      "'URLFetcher' object has no attribute 'urls'\n",
      "---------------------\n"
     ]
    },
    {
     "ename": "AttributeError",
     "evalue": "'URLFetcher' object has no attribute 'urls'",
     "output_type": "error",
     "traceback": [
      "\u001b[1;31m---------------------------------------------------------------------------\u001b[0m",
      "\u001b[1;31mAttributeError\u001b[0m                            Traceback (most recent call last)",
      "\u001b[1;32mc:\\Users\\JBarr\\OneDrive\\Documents\\FinTech\\career_services\\mathemeticsDevelopment\\mathemetics\\Computer_Science\\AdvancedPythonProgramming\\BookWork\\designPatterns.ipynb Cell 52'\u001b[0m in \u001b[0;36m<cell line: 1>\u001b[1;34m()\u001b[0m\n\u001b[1;32m----> <a href='vscode-notebook-cell:/c%3A/Users/JBarr/OneDrive/Documents/FinTech/career_services/mathemeticsDevelopment/mathemetics/Computer_Science/AdvancedPythonProgramming/BookWork/designPatterns.ipynb#ch0000070?line=0'>1</a>\u001b[0m main()\n",
      "\u001b[1;32mc:\\Users\\JBarr\\OneDrive\\Documents\\FinTech\\career_services\\mathemeticsDevelopment\\mathemetics\\Computer_Science\\AdvancedPythonProgramming\\BookWork\\designPatterns.ipynb Cell 51'\u001b[0m in \u001b[0;36mmain\u001b[1;34m()\u001b[0m\n\u001b[0;32m     <a href='vscode-notebook-cell:/c%3A/Users/JBarr/OneDrive/Documents/FinTech/career_services/mathemeticsDevelopment/mathemetics/Computer_Science/AdvancedPythonProgramming/BookWork/designPatterns.ipynb#ch0000071?line=17'>18</a>\u001b[0m         \u001b[39mprint\u001b[39m(e)\n\u001b[0;32m     <a href='vscode-notebook-cell:/c%3A/Users/JBarr/OneDrive/Documents/FinTech/career_services/mathemeticsDevelopment/mathemetics/Computer_Science/AdvancedPythonProgramming/BookWork/designPatterns.ipynb#ch0000071?line=18'>19</a>\u001b[0m \u001b[39mprint\u001b[39m(\u001b[39m\"\u001b[39m\u001b[39m---------------------\u001b[39m\u001b[39m\"\u001b[39m)\n\u001b[1;32m---> <a href='vscode-notebook-cell:/c%3A/Users/JBarr/OneDrive/Documents/FinTech/career_services/mathemeticsDevelopment/mathemetics/Computer_Science/AdvancedPythonProgramming/BookWork/designPatterns.ipynb#ch0000071?line=19'>20</a>\u001b[0m done_urls \u001b[39m=\u001b[39m fetcher\u001b[39m.\u001b[39;49mdump_url_registry()\n\u001b[0;32m     <a href='vscode-notebook-cell:/c%3A/Users/JBarr/OneDrive/Documents/FinTech/career_services/mathemeticsDevelopment/mathemetics/Computer_Science/AdvancedPythonProgramming/BookWork/designPatterns.ipynb#ch0000071?line=20'>21</a>\u001b[0m \u001b[39mprint\u001b[39m(\u001b[39mf\u001b[39m\u001b[39m'\u001b[39m\u001b[39mDone URLs; \u001b[39m\u001b[39m{\u001b[39;00mdone_urls\u001b[39m}\u001b[39;00m\u001b[39m'\u001b[39m)\n",
      "\u001b[1;32mc:\\Users\\JBarr\\OneDrive\\Documents\\FinTech\\career_services\\mathemeticsDevelopment\\mathemetics\\Computer_Science\\AdvancedPythonProgramming\\BookWork\\designPatterns.ipynb Cell 50'\u001b[0m in \u001b[0;36mURLFetcher.dump_url_registry\u001b[1;34m(self)\u001b[0m\n\u001b[0;32m     <a href='vscode-notebook-cell:/c%3A/Users/JBarr/OneDrive/Documents/FinTech/career_services/mathemeticsDevelopment/mathemetics/Computer_Science/AdvancedPythonProgramming/BookWork/designPatterns.ipynb#ch0000072?line=12'>13</a>\u001b[0m \u001b[39mdef\u001b[39;00m \u001b[39mdump_url_registry\u001b[39m(\u001b[39mself\u001b[39m):\n\u001b[1;32m---> <a href='vscode-notebook-cell:/c%3A/Users/JBarr/OneDrive/Documents/FinTech/career_services/mathemeticsDevelopment/mathemetics/Computer_Science/AdvancedPythonProgramming/BookWork/designPatterns.ipynb#ch0000072?line=13'>14</a>\u001b[0m     \u001b[39mreturn\u001b[39;00m \u001b[39m'\u001b[39m\u001b[39m,\u001b[39m\u001b[39m'\u001b[39m\u001b[39m.\u001b[39mjoin(\u001b[39mself\u001b[39;49m\u001b[39m.\u001b[39;49murls)\n",
      "\u001b[1;31mAttributeError\u001b[0m: 'URLFetcher' object has no attribute 'urls'"
     ]
    }
   ],
   "source": [
    "main()"
   ]
  },
  {
   "cell_type": "code",
   "execution_count": null,
   "metadata": {},
   "outputs": [],
   "source": []
  },
  {
   "cell_type": "code",
   "execution_count": null,
   "metadata": {},
   "outputs": [],
   "source": []
  },
  {
   "cell_type": "code",
   "execution_count": null,
   "metadata": {},
   "outputs": [],
   "source": []
  },
  {
   "cell_type": "code",
   "execution_count": null,
   "metadata": {},
   "outputs": [],
   "source": []
  },
  {
   "cell_type": "code",
   "execution_count": null,
   "metadata": {},
   "outputs": [],
   "source": []
  },
  {
   "cell_type": "code",
   "execution_count": null,
   "metadata": {},
   "outputs": [],
   "source": []
  },
  {
   "cell_type": "code",
   "execution_count": null,
   "metadata": {},
   "outputs": [],
   "source": []
  },
  {
   "cell_type": "code",
   "execution_count": null,
   "metadata": {},
   "outputs": [],
   "source": []
  },
  {
   "cell_type": "code",
   "execution_count": null,
   "metadata": {},
   "outputs": [],
   "source": []
  },
  {
   "cell_type": "code",
   "execution_count": null,
   "metadata": {},
   "outputs": [],
   "source": []
  },
  {
   "cell_type": "code",
   "execution_count": null,
   "metadata": {},
   "outputs": [],
   "source": []
  },
  {
   "cell_type": "code",
   "execution_count": null,
   "metadata": {},
   "outputs": [],
   "source": []
  },
  {
   "cell_type": "code",
   "execution_count": null,
   "metadata": {},
   "outputs": [],
   "source": []
  },
  {
   "cell_type": "code",
   "execution_count": null,
   "metadata": {},
   "outputs": [],
   "source": []
  },
  {
   "cell_type": "code",
   "execution_count": null,
   "metadata": {},
   "outputs": [],
   "source": []
  },
  {
   "cell_type": "code",
   "execution_count": null,
   "metadata": {},
   "outputs": [],
   "source": []
  },
  {
   "cell_type": "code",
   "execution_count": null,
   "metadata": {},
   "outputs": [],
   "source": []
  },
  {
   "cell_type": "code",
   "execution_count": null,
   "metadata": {},
   "outputs": [],
   "source": []
  }
 ],
 "metadata": {
  "interpreter": {
   "hash": "9ae16ef445867c3ddd8a030e03f508a31c88ab57810e24e3a3afaf36f09532d0"
  },
  "kernelspec": {
   "display_name": "dev",
   "language": "python",
   "name": "dev"
  },
  "language_info": {
   "codemirror_mode": {
    "name": "ipython",
    "version": 3
   },
   "file_extension": ".py",
   "mimetype": "text/x-python",
   "name": "python",
   "nbconvert_exporter": "python",
   "pygments_lexer": "ipython3",
   "version": "3.8.12"
  },
  "orig_nbformat": 4
 },
 "nbformat": 4,
 "nbformat_minor": 2
}
