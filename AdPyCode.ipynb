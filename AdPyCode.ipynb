{
 "cells": [
  {
   "cell_type": "code",
   "execution_count": 52,
   "metadata": {},
   "outputs": [
    {
     "name": "stderr",
     "output_type": "stream",
     "text": [
      "Python-dotenv could not parse statement starting at line 29\n",
      "Python-dotenv could not parse statement starting at line 30\n"
     ]
    }
   ],
   "source": [
    "import os\n",
    "\n",
    "import requests\n",
    "\n",
    "import json\n",
    "\n",
    "import multiprocessing\n",
    "\n",
    "import msgpack\n",
    "\n",
    "import numpy as np\n",
    "\n",
    "import pandas as pd\n",
    "\n",
    "from dotenv import load_dotenv\n",
    "\n",
    "import alpaca_trade_api as tradeapi\n",
    "\n",
    "#from MCForecastTools import MCSimulation\n",
    "\n",
    "import time\n",
    "\n",
    "# Load the environment variables from the .env file\n",
    "#by calling the load_dotenv function\n",
    "\n",
    "load_dotenv()\n",
    "\n",
    "pd.set_option('display.max_rows', 2000)\n",
    "pd.set_option('display.max_columns', 2000)\n",
    "pd.set_option('display.width', 1000)"
   ]
  },
  {
   "cell_type": "code",
   "execution_count": 53,
   "metadata": {},
   "outputs": [
    {
     "data": {
      "text/plain": [
       "'\\n# Chapter 7: Parallel Processing:\\n    Parallel Processing allow you to use multicore cpu and gpu.\\n\\nCommunication between processes is costly and can hinder program performance.\\n___________________\\n\\nUsing multiple processes: multiprocessing mod can parallelize simple task.\\nBy spawning several processes\\n\\nTO spawn process, we instantiate Process class call the .start method.\\nyou dont directly call .run\\n___________________\\n\\nLaunch diff processes running parallely the same way.\\n________________\\n\\n\\nif __name__ == \\'__main__\\':\\n    processes = Process(), Process(),Process(),Process()\\n    [p.start() for p in processes]\\n\\n     adding to create and start the new process\\n    if __name__ == \\'__main__\\':\\n        p = Process()\\n        p.start()\\n     to wait for the task completion\\n        p.join()\\n______________\\n\\nmultiprocessing.Pool spawns set of processes \"workers\"\\nAllowing task submit task through methods\\n\\npool = multiprocessing.Pool()\\n\\npool = multiprocessing.Pool(processes=4)\\n\\ndef square(x):\\n    return x*x\\n\\n\\n\\nintputs = [0,1,2,3,4]\\n\\noutputs = pool.map(square, intputs)\\n'"
      ]
     },
     "execution_count": 53,
     "metadata": {},
     "output_type": "execute_result"
    }
   ],
   "source": [
    "\"\"\"\n",
    "# Chapter 7: Parallel Processing:\n",
    "    Parallel Processing allow you to use multicore cpu and gpu.\n",
    "\n",
    "Communication between processes is costly and can hinder program performance.\n",
    "___________________\n",
    "\n",
    "Using multiple processes: multiprocessing mod can parallelize simple task.\n",
    "By spawning several processes\n",
    "\n",
    "TO spawn process, we instantiate Process class call the .start method.\n",
    "you dont directly call .run\n",
    "___________________\n",
    "\n",
    "Launch diff processes running parallely the same way.\n",
    "________________\n",
    "\n",
    "\n",
    "if __name__ == '__main__':\n",
    "    processes = Process(), Process(),Process(),Process()\n",
    "    [p.start() for p in processes]\n",
    "\n",
    "     adding to create and start the new process\n",
    "    if __name__ == '__main__':\n",
    "        p = Process()\n",
    "        p.start()\n",
    "     to wait for the task completion\n",
    "        p.join()\n",
    "______________\n",
    "\n",
    "multiprocessing.Pool spawns set of processes \"workers\"\n",
    "Allowing task submit task through methods\n",
    "\n",
    "pool = multiprocessing.Pool()\n",
    "\n",
    "pool = multiprocessing.Pool(processes=4)\n",
    "\n",
    "def square(x):\n",
    "    return x*x\n",
    "\n",
    "\n",
    "\n",
    "intputs = [0,1,2,3,4]\n",
    "\n",
    "outputs = pool.map(square, intputs)\n",
    "\"\"\""
   ]
  },
  {
   "cell_type": "code",
   "execution_count": 54,
   "metadata": {},
   "outputs": [],
   "source": [
    "class process(multiprocessing.Process):\n",
    "    def __int__(self, id):\n",
    "        super(process, self).__inti__()\n",
    "        self.id = id\n",
    "\n",
    "    def run(self):\n",
    "        time.sleep(1)\n",
    "        print(\"The process id: {}\".format(self.id))\n",
    "\n",
    "#        if __name__ == '__main__':\n",
    " #          processes = process(), process(),process(),process()\n",
    "   #         [p.start() for p in processes]\n",
    "\n"
   ]
  },
  {
   "cell_type": "code",
   "execution_count": 94,
   "metadata": {},
   "outputs": [
    {
     "name": "stdout",
     "output_type": "stream",
     "text": [
      "<concurrent.futures.process.ProcessPoolExecutor object at 0x0000015A151F7348> <Future at 0x15a151b6448 state=running> <generator object _chain_from_iterable_of_lists at 0x0000015A151DED48>\n"
     ]
    },
    {
     "data": {
      "text/plain": [
       "<concurrent.futures.process.ProcessPoolExecutor at 0x15a151f7348>"
      ]
     },
     "execution_count": 94,
     "metadata": {},
     "output_type": "execute_result"
    }
   ],
   "source": [
    "intputs = [0,1,2,3,4]\n",
    "x = 2\n",
    "def square(x):\n",
    "    return x*x\n",
    "\n",
    "\n",
    "from concurrent.futures import ProcessPoolExecutor\n",
    "\n",
    "executor = ProcessPoolExecutor(4)\n",
    "\n",
    "fut = executor.submit(square, 2)\n",
    "\n",
    "res = executor.map(square, [0,1,2,3,4])\n",
    "\n",
    "print(executor, fut, res)\n",
    "\n",
    "executor"
   ]
  },
  {
   "cell_type": "code",
   "execution_count": 98,
   "metadata": {},
   "outputs": [
    {
     "data": {
      "text/plain": [
       "[<Future at 0x15a151754c8 state=finished raised BrokenProcessPool>,\n",
       " <Future at 0x15a15228f08 state=finished raised BrokenProcessPool>]"
      ]
     },
     "execution_count": 98,
     "metadata": {},
     "output_type": "execute_result"
    }
   ],
   "source": [
    "from concurrent.futures import wait, as_completed\n",
    "\n",
    "\n",
    "executor = ProcessPoolExecutor(4)\n",
    "\n",
    "fut1 = executor.submit(square, 2)\n",
    "\n",
    "fut2 = executor.submit(square, 3)\n",
    "\n",
    "list(as_completed([fut1, fut2]))"
   ]
  },
  {
   "cell_type": "code",
   "execution_count": null,
   "metadata": {},
   "outputs": [],
   "source": []
  },
  {
   "cell_type": "code",
   "execution_count": null,
   "metadata": {},
   "outputs": [],
   "source": [
    "\"\"\"\n",
    "\n",
    "\n",
    "\"\"\""
   ]
  },
  {
   "cell_type": "code",
   "execution_count": null,
   "metadata": {},
   "outputs": [],
   "source": []
  }
 ],
 "metadata": {
  "kernelspec": {
   "display_name": "dev",
   "language": "python",
   "name": "dev"
  },
  "language_info": {
   "codemirror_mode": {
    "name": "ipython",
    "version": 3
   },
   "file_extension": ".py",
   "mimetype": "text/x-python",
   "name": "python",
   "nbconvert_exporter": "python",
   "pygments_lexer": "ipython3",
   "version": "3.7.11"
  },
  "orig_nbformat": 4
 },
 "nbformat": 4,
 "nbformat_minor": 2
}
