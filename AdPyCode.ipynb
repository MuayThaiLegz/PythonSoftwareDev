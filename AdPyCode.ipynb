{
 "cells": [
  {
   "cell_type": "code",
   "execution_count": 52,
   "metadata": {},
   "outputs": [
    {
     "name": "stderr",
     "output_type": "stream",
     "text": [
      "Python-dotenv could not parse statement starting at line 29\n",
      "Python-dotenv could not parse statement starting at line 30\n"
     ]
    }
   ],
   "source": [
    "import os\n",
    "\n",
    "import requests\n",
    "\n",
    "import json\n",
    "\n",
    "import multiprocessing\n",
    "\n",
    "import msgpack\n",
    "\n",
    "import numpy as np\n",
    "\n",
    "import pandas as pd\n",
    "\n",
    "from dotenv import load_dotenv\n",
    "\n",
    "import alpaca_trade_api as tradeapi\n",
    "\n",
    "#from MCForecastTools import MCSimulation\n",
    "\n",
    "import concurrent\n",
    "import time\n",
    "\n",
    "# Load the environment variables from the .env file\n",
    "#by calling the load_dotenv function\n",
    "\n",
    "load_dotenv()\n",
    "\n",
    "pd.set_option('display.max_rows', 2000)\n",
    "pd.set_option('display.max_columns', 2000)\n",
    "pd.set_option('display.width', 1000)"
   ]
  },
  {
   "cell_type": "code",
   "execution_count": 53,
   "metadata": {},
   "outputs": [
    {
     "data": {
      "text/plain": [
       "'\\n# Chapter 7: Parallel Processing:\\n    Parallel Processing allow you to use multicore cpu and gpu.\\n\\nCommunication between processes is costly and can hinder program performance.\\n___________________\\n\\nUsing multiple processes: multiprocessing mod can parallelize simple task.\\nBy spawning several processes\\n\\nTO spawn process, we instantiate Process class call the .start method.\\nyou dont directly call .run\\n___________________\\n\\nLaunch diff processes running parallely the same way.\\n________________\\n\\n\\nif __name__ == \\'__main__\\':\\n    processes = Process(), Process(),Process(),Process()\\n    [p.start() for p in processes]\\n\\n     adding to create and start the new process\\n    if __name__ == \\'__main__\\':\\n        p = Process()\\n        p.start()\\n     to wait for the task completion\\n        p.join()\\n______________\\n\\nmultiprocessing.Pool spawns set of processes \"workers\"\\nAllowing task submit task through methods\\n\\npool = multiprocessing.Pool()\\n\\npool = multiprocessing.Pool(processes=4)\\n\\ndef square(x):\\n    return x*x\\n\\n\\n\\nintputs = [0,1,2,3,4]\\n\\noutputs = pool.map(square, intputs)\\n'"
      ]
     },
     "execution_count": 53,
     "metadata": {},
     "output_type": "execute_result"
    }
   ],
   "source": [
    "\"\"\"\n",
    "# Chapter 7: Parallel Processing:\n",
    "    Parallel Processing allow you to use multicore cpu and gpu.\n",
    "\n",
    "Communication between processes is costly and can hinder program performance.\n",
    "___________________\n",
    "\n",
    "Using multiple processes: multiprocessing mod can parallelize simple task.\n",
    "By spawning several processes\n",
    "\n",
    "TO spawn process, we instantiate Process class call the .start method.\n",
    "you dont directly call .run\n",
    "___________________\n",
    "\n",
    "Launch diff processes running parallely the same way.\n",
    "________________\n",
    "\n",
    "\n",
    "if __name__ == '__main__':\n",
    "    processes = Process(), Process(),Process(),Process()\n",
    "    [p.start() for p in processes]\n",
    "\n",
    "     adding to create and start the new process\n",
    "    if __name__ == '__main__':\n",
    "        p = Process()\n",
    "        p.start()\n",
    "     to wait for the task completion\n",
    "        p.join()\n",
    "______________\n",
    "\n",
    "multiprocessing.Pool spawns set of processes \"workers\"\n",
    "Allowing task submit task through methods\n",
    "\n",
    "pool = multiprocessing.Pool()\n",
    "\n",
    "pool = multiprocessing.Pool(processes=4)\n",
    "\n",
    "def square(x):\n",
    "    return x*x\n",
    "\n",
    "\n",
    "\n",
    "intputs = [0,1,2,3,4]\n",
    "\n",
    "outputs = pool.map(square, intputs)\n",
    "\"\"\""
   ]
  },
  {
   "cell_type": "code",
   "execution_count": 54,
   "metadata": {},
   "outputs": [],
   "source": [
    "class process(multiprocessing.Process):\n",
    "    def __int__(self, id):\n",
    "        super(process, self).__inti__()\n",
    "        self.id = id\n",
    "\n",
    "    def run(self):\n",
    "        time.sleep(1)\n",
    "        print(\"The process id: {}\".format(self.id))\n",
    "\n",
    "#        if __name__ == '__main__':\n",
    " #          processes = process(), process(),process(),process()\n",
    "   #         [p.start() for p in processes]\n",
    "\n"
   ]
  },
  {
   "cell_type": "code",
   "execution_count": 55,
   "metadata": {},
   "outputs": [
    {
     "name": "stdout",
     "output_type": "stream",
     "text": [
      "<concurrent.futures.process.ProcessPoolExecutor object at 0x0000010BAB21A980> <Future at 0x10bab21b280 state=running> <generator object _chain_from_iterable_of_lists at 0x0000010BABEDE1F0>\n"
     ]
    },
    {
     "data": {
      "text/plain": [
       "<concurrent.futures.process.ProcessPoolExecutor at 0x10bab21a980>"
      ]
     },
     "execution_count": 55,
     "metadata": {},
     "output_type": "execute_result"
    }
   ],
   "source": [
    "intputs = [0,1,2,3,4]\n",
    "x = 2\n",
    "def square(x):\n",
    "    return x*x\n",
    "\n",
    "\n",
    "from concurrent.futures import ProcessPoolExecutor\n",
    "\n",
    "executor = ProcessPoolExecutor(4)\n",
    "\n",
    "fut = executor.submit(square, 2)\n",
    "\n",
    "res = executor.map(square, [0,1,2,3,4])\n",
    "\n",
    "print(executor, fut, res)\n",
    "\n",
    "executor"
   ]
  },
  {
   "cell_type": "code",
   "execution_count": 56,
   "metadata": {},
   "outputs": [
    {
     "data": {
      "text/plain": [
       "[<Future at 0x10bab21b250 state=finished raised BrokenProcessPool>,\n",
       " <Future at 0x10bab3a5ae0 state=finished raised BrokenProcessPool>]"
      ]
     },
     "execution_count": 56,
     "metadata": {},
     "output_type": "execute_result"
    }
   ],
   "source": [
    "from concurrent.futures import wait, as_completed\n",
    "\n",
    "\n",
    "executor = ProcessPoolExecutor(4)\n",
    "\n",
    "fut1 = executor.submit(square, 2)\n",
    "\n",
    "fut2 = executor.submit(square, 3)\n",
    "\n",
    "list(as_completed([fut1, fut2]))"
   ]
  },
  {
   "cell_type": "code",
   "execution_count": 57,
   "metadata": {},
   "outputs": [
    {
     "data": {
      "text/plain": [
       "'\\nTo synchronize the access to this variable, only a single process can access.\\nincrement, and write value on shared var. \\n\\nSynchronization primitives, such as locks, are essential to solve many probs.\\nBut kept at min to improve performance of programm.\\n________________\\n\\n\\nParallel Cython with OpenMP\\n\\n'"
      ]
     },
     "execution_count": 57,
     "metadata": {},
     "output_type": "execute_result"
    }
   ],
   "source": [
    "\"\"\"\n",
    "To synchronize the access to this variable, only a single process can access.\n",
    "increment, and write value on shared var. \n",
    "\n",
    "Synchronization primitives, such as locks, are essential to solve many probs.\n",
    "But kept at min to improve performance of programm.\n",
    "________________\n",
    "\n",
    "\n",
    "Parallel Cython with OpenMP\n",
    "\n",
    "\"\"\""
   ]
  },
  {
   "cell_type": "code",
   "execution_count": 58,
   "metadata": {},
   "outputs": [],
   "source": [
    "\n",
    "import time\n",
    "import numpy as np \n",
    "import configparser\n",
    "\n",
    "\n",
    "lock = multiprocessing.Lock()\n",
    "\n",
    "class pProcess(multiprocessing.Process):\n",
    "    def __init__(self, counter):\n",
    "        super(pProcess, self).__init__()\n",
    "        self.counter = counter\n",
    "\n",
    "    def run(self):\n",
    "        for i in range(1000):\n",
    "            with lock:\n",
    "                self.counter.value += 1"
   ]
  },
  {
   "cell_type": "code",
   "execution_count": 59,
   "metadata": {},
   "outputs": [
    {
     "data": {
      "text/plain": [
       "'\\nParallel Cython with OpenMP:\\n\\nIn  Cy you can release the gil with nogil\\n%%cython\\n\\nwith nogil:\\n    for i in prange(size):\\n        out[i] = inp[i]*inp[i]\\n%%cython\\nimport numpy as np\\n\\ndef square_serial(double[:] inp):\\n    cdef int i, size\\n    cdef double[:] out\\n    size = inp.shape[0]\\n    out_np = np.empty(size, \"double\")\\n    out = out_np\\n\\n    for i in range(size):\\n        out[i]  = inp[i]*inp[i]\\n\\n    return out_np\\n______________\\n\\nGetting started with Theano\\n'"
      ]
     },
     "execution_count": 59,
     "metadata": {},
     "output_type": "execute_result"
    }
   ],
   "source": [
    "\"\"\"\n",
    "Parallel Cython with OpenMP:\n",
    "\n",
    "In  Cy you can release the gil with nogil\n",
    "%%cython\n",
    "\n",
    "with nogil:\n",
    "    for i in prange(size):\n",
    "        out[i] = inp[i]*inp[i]\n",
    "%%cython\n",
    "import numpy as np\n",
    "\n",
    "def square_serial(double[:] inp):\n",
    "    cdef int i, size\n",
    "    cdef double[:] out\n",
    "    size = inp.shape[0]\n",
    "    out_np = np.empty(size, \"double\")\n",
    "    out = out_np\n",
    "\n",
    "    for i in range(size):\n",
    "        out[i]  = inp[i]*inp[i]\n",
    "\n",
    "    return out_np\n",
    "______________\n",
    "\n",
    "Getting started with Theano\n",
    "\"\"\"\n"
   ]
  },
  {
   "cell_type": "code",
   "execution_count": 60,
   "metadata": {},
   "outputs": [
    {
     "data": {
      "text/plain": [
       "'\\nimport theano.tensor as T\\nimport theano as th\\n\\na = T.scalar(\"a\")\\n\\nimport tensorflow  as tf\\n\\n RETURN TO COMPLETE ML SECTION\\n'"
      ]
     },
     "execution_count": 60,
     "metadata": {},
     "output_type": "execute_result"
    }
   ],
   "source": [
    "\"\"\"\n",
    "import theano.tensor as T\n",
    "import theano as th\n",
    "\n",
    "a = T.scalar(\"a\")\n",
    "\n",
    "import tensorflow  as tf\n",
    "\n",
    " RETURN TO COMPLETE ML SECTION\n",
    "\"\"\""
   ]
  },
  {
   "cell_type": "code",
   "execution_count": null,
   "metadata": {},
   "outputs": [],
   "source": []
  },
  {
   "cell_type": "code",
   "execution_count": 67,
   "metadata": {},
   "outputs": [
    {
     "data": {
      "text/plain": [
       "'\\n# Advanced Intrp to Concurrent and Parallel Programming\\n\\n# Example 1 - checking for prime non-neg nums\\n\\n# suppose big input\\n\\n# concurrent \\nstart = timer()\\nresultTwo = []\\n\\nwith concurrent.futures.ProcessPoolExecutor(max_workers=10) as executor:\\n    futures = [executor.submit(is_prime, i) for  i in input]\\n\\n    for i, future in enumerate(concurrent.futures.as_completed(futures)):\\n        if future.result():\\n            resultTwo.append(input[i]) \\n\\n'"
      ]
     },
     "execution_count": 67,
     "metadata": {},
     "output_type": "execute_result"
    }
   ],
   "source": [
    "\"\"\"\n",
    "# Advanced Intrp to Concurrent and Parallel Programming\n",
    "\n",
    "# Example 1 - checking for prime non-neg nums\n",
    "\n",
    "# suppose big input\n",
    "\n",
    "# concurrent \n",
    "start = timer()\n",
    "resultTwo = []\n",
    "\n",
    "with concurrent.futures.ProcessPoolExecutor(max_workers=10) as executor:\n",
    "    futures = [executor.submit(is_prime, i) for  i in input]\n",
    "\n",
    "    for i, future in enumerate(concurrent.futures.as_completed(futures)):\n",
    "        if future.result():\n",
    "            resultTwo.append(input[i]) \n",
    "\n",
    "\"\"\""
   ]
  },
  {
   "cell_type": "code",
   "execution_count": 68,
   "metadata": {},
   "outputs": [
    {
     "data": {
      "text/plain": [
       "True"
      ]
     },
     "execution_count": 68,
     "metadata": {},
     "output_type": "execute_result"
    }
   ],
   "source": [
    "\n",
    "from math import sqrt\n",
    "from timeit import default_timer as timer\n",
    "\n",
    "\n",
    "input = [i for i in range(10 ** 13, 10 ** 13 + 500)]\n",
    "\n",
    "def is_prime(x):\n",
    "    if x % 2 == 1:\n",
    "        return True\n",
    "    else:\n",
    "        return False\n",
    "\n",
    "\n",
    "\n",
    "is_prime(19)"
   ]
  },
  {
   "cell_type": "code",
   "execution_count": 69,
   "metadata": {},
   "outputs": [
    {
     "data": {
      "text/plain": [
       "False"
      ]
     },
     "execution_count": 69,
     "metadata": {},
     "output_type": "execute_result"
    }
   ],
   "source": [
    "def bookprime(x):\n",
    "    if x < 2:\n",
    "        return False\n",
    "    if x == 2:\n",
    "        return True\n",
    "\n",
    "    if x % 2 == 0:\n",
    "        return False\n",
    "    \n",
    "    limit = int(sqrt(x)) + 1\n",
    "    for i in range(3, limit, 2):\n",
    "        if x % 1 == 0:\n",
    "            return False\n",
    "    \n",
    "    return True\n",
    "\n",
    "bookprime(22)"
   ]
  },
  {
   "cell_type": "code",
   "execution_count": 70,
   "metadata": {},
   "outputs": [
    {
     "name": "stdout",
     "output_type": "stream",
     "text": [
      "Result  1: []\n",
      "Took: 0.00 seconds.\n"
     ]
    }
   ],
   "source": [
    "start = timer()\n",
    "result = []\n",
    "\n",
    "for i in input:\n",
    "    if bookprime(i):\n",
    "        result.append(i)\n",
    "print(\"Result  1:\", result)\n",
    "print(\"Took: %.2f seconds.\" % (timer() - start))\n"
   ]
  },
  {
   "cell_type": "code",
   "execution_count": 71,
   "metadata": {},
   "outputs": [],
   "source": [
    "# inherently sequential tasks\n",
    "\n",
    "def f(x):\n",
    "    return x * x - x + 1\n",
    "\n",
    "# sequential \n",
    "\n",
    "def f(x):\n",
    "    return x * x - x + 1\n",
    "\n",
    "start  = timer()\n",
    "\n",
    "result3 = 3\n",
    "\n",
    "for i in range(20):\n",
    "    result3 = f(result3)"
   ]
  },
  {
   "cell_type": "code",
   "execution_count": 79,
   "metadata": {},
   "outputs": [
    {
     "name": "stdout",
     "output_type": "stream",
     "text": [
      "Result is very large. Only printing the last 5 digits: 35443\n"
     ]
    }
   ],
   "source": [
    "print(\"Result is very large. Only printing the last 5 digits:\", result3 % 100000)\n"
   ]
  },
  {
   "cell_type": "code",
   "execution_count": 80,
   "metadata": {},
   "outputs": [
    {
     "name": "stdout",
     "output_type": "stream",
     "text": [
      "Sequntial took: 162.32 seconds.\n"
     ]
    }
   ],
   "source": [
    "\n",
    "print(\"Sequntial took: %.2f seconds.\" % (timer() - start))"
   ]
  },
  {
   "cell_type": "code",
   "execution_count": 81,
   "metadata": {},
   "outputs": [
    {
     "name": "stdout",
     "output_type": "stream",
     "text": [
      "Result is very largee. Only printing the lst 5 digits: 35443\n",
      "Concurrent took: 544.80 seconds.\n"
     ]
    }
   ],
   "source": [
    "# concurrent\n",
    "def concurrent_f(x):\n",
    "    global resultG\n",
    "    resultG = f(resultG)\n",
    "\n",
    "resultG = 3\n",
    "\n",
    "with concurrent.futures.ThreadPoolExecutor(max_workers=10) as executor:\n",
    "    futures = [executor.submit(concurrent_f, i) for i in range(20)]\n",
    "\n",
    "    _ = concurrent.futures.as_completed(futures)\n",
    "\n",
    "print(\"Result is very largee. Only printing the lst 5 digits:\", resultG % 100000)\n",
    "print(\"Concurrent took: %.2f seconds.\" % (timer() - start))"
   ]
  },
  {
   "cell_type": "code",
   "execution_count": 106,
   "metadata": {},
   "outputs": [
    {
     "name": "stdout",
     "output_type": "stream",
     "text": [
      "Result  1: [10000000000001, 10000000000003, 10000000000005, 10000000000007, 10000000000009, 10000000000011, 10000000000013, 10000000000015, 10000000000017, 10000000000019, 10000000000021, 10000000000023, 10000000000025, 10000000000027, 10000000000029, 10000000000031, 10000000000033, 10000000000035, 10000000000037, 10000000000039, 10000000000041, 10000000000043, 10000000000045, 10000000000047, 10000000000049, 10000000000051, 10000000000053, 10000000000055, 10000000000057, 10000000000059, 10000000000061, 10000000000063, 10000000000065, 10000000000067, 10000000000069, 10000000000071, 10000000000073, 10000000000075, 10000000000077, 10000000000079, 10000000000081, 10000000000083, 10000000000085, 10000000000087, 10000000000089, 10000000000091, 10000000000093, 10000000000095, 10000000000097, 10000000000099, 10000000000101, 10000000000103, 10000000000105, 10000000000107, 10000000000109, 10000000000111, 10000000000113, 10000000000115, 10000000000117, 10000000000119, 10000000000121, 10000000000123, 10000000000125, 10000000000127, 10000000000129, 10000000000131, 10000000000133, 10000000000135, 10000000000137, 10000000000139, 10000000000141, 10000000000143, 10000000000145, 10000000000147, 10000000000149, 10000000000151, 10000000000153, 10000000000155, 10000000000157, 10000000000159, 10000000000161, 10000000000163, 10000000000165, 10000000000167, 10000000000169, 10000000000171, 10000000000173, 10000000000175, 10000000000177, 10000000000179, 10000000000181, 10000000000183, 10000000000185, 10000000000187, 10000000000189, 10000000000191, 10000000000193, 10000000000195, 10000000000197, 10000000000199, 10000000000201, 10000000000203, 10000000000205, 10000000000207, 10000000000209, 10000000000211, 10000000000213, 10000000000215, 10000000000217, 10000000000219, 10000000000221, 10000000000223, 10000000000225, 10000000000227, 10000000000229, 10000000000231, 10000000000233, 10000000000235, 10000000000237, 10000000000239, 10000000000241, 10000000000243, 10000000000245, 10000000000247, 10000000000249, 10000000000251, 10000000000253, 10000000000255, 10000000000257, 10000000000259, 10000000000261, 10000000000263, 10000000000265, 10000000000267, 10000000000269, 10000000000271, 10000000000273, 10000000000275, 10000000000277, 10000000000279, 10000000000281, 10000000000283, 10000000000285, 10000000000287, 10000000000289, 10000000000291, 10000000000293, 10000000000295, 10000000000297, 10000000000299, 10000000000301, 10000000000303, 10000000000305, 10000000000307, 10000000000309, 10000000000311, 10000000000313, 10000000000315, 10000000000317, 10000000000319, 10000000000321, 10000000000323, 10000000000325, 10000000000327, 10000000000329, 10000000000331, 10000000000333, 10000000000335, 10000000000337, 10000000000339, 10000000000341, 10000000000343, 10000000000345, 10000000000347, 10000000000349, 10000000000351, 10000000000353, 10000000000355, 10000000000357, 10000000000359, 10000000000361, 10000000000363, 10000000000365, 10000000000367, 10000000000369, 10000000000371, 10000000000373, 10000000000375, 10000000000377, 10000000000379, 10000000000381, 10000000000383, 10000000000385, 10000000000387, 10000000000389, 10000000000391, 10000000000393, 10000000000395, 10000000000397, 10000000000399, 10000000000401, 10000000000403, 10000000000405, 10000000000407, 10000000000409, 10000000000411, 10000000000413, 10000000000415, 10000000000417, 10000000000419, 10000000000421, 10000000000423, 10000000000425, 10000000000427, 10000000000429, 10000000000431, 10000000000433, 10000000000435, 10000000000437, 10000000000439, 10000000000441, 10000000000443, 10000000000445, 10000000000447, 10000000000449, 10000000000451, 10000000000453, 10000000000455, 10000000000457, 10000000000459, 10000000000461, 10000000000463, 10000000000465, 10000000000467, 10000000000469, 10000000000471, 10000000000473, 10000000000475, 10000000000477, 10000000000479, 10000000000481, 10000000000483, 10000000000485, 10000000000487, 10000000000489, 10000000000491, 10000000000493, 10000000000495, 10000000000497, 10000000000499]\n",
      "Took: 0.00 seconds.\n"
     ]
    }
   ],
   "source": [
    "\n",
    "from math import sqrt\n",
    "from timeit import default_timer as timer\n",
    "\n",
    "\n",
    "input = [i for i in range(10 ** 13, 10 ** 13 + 500)]\n",
    "\n",
    "def bookprime(x):\n",
    "    if x < 2:\n",
    "        return False\n",
    "    if x == 2:\n",
    "        return True\n",
    "\n",
    "    if x % 2 == 0:\n",
    "        return False\n",
    "    \n",
    "    limit = int(sqrt(x)) + 1\n",
    "    for i in range(3, limit, 2):\n",
    "        if x % 1 == 0:\n",
    "            return False\n",
    "    \n",
    "    return True\n",
    "\n",
    "\n",
    "\n",
    "def is_prime(x):\n",
    "    if x % 2 == 1:\n",
    "        return True\n",
    "    else:\n",
    "        return False\n",
    "\n",
    "start = timer()\n",
    "result = []\n",
    "\n",
    "for i in input:\n",
    "    if is_prime(i):\n",
    "        result.append(i)\n",
    "print(\"Result  1:\", result)\n",
    "print(\"Took: %.2f seconds.\" % (timer() - start))"
   ]
  },
  {
   "cell_type": "code",
   "execution_count": 107,
   "metadata": {},
   "outputs": [],
   "source": [
    "# How to simulate in Python \n",
    "\n",
    "import concurrent.futures\n",
    "from timeit import default_timer as timer\n",
    "\n",
    "def concurrent_solve(n_workers):\n",
    "    print(\"Number of workers: %i.\" % n_workers)\n",
    "\n",
    "    start = timer()\n",
    "\n",
    "    result = []\n",
    "\n",
    "    with concurrent.futures.ProcessPoolExecutor(\n",
    "        max_workers=20) as executor:\n",
    "\n",
    "        futures = [executor.submit(is_prime, i) for i  in input]\n",
    "        completed_futures = concurrent.futures.as_completed(futures)\n",
    "\n",
    "        sub_start = timer()\n",
    "\n",
    "        for i, future in enumerate(completed_futures):\n",
    "            if future.result():\n",
    "                result.append(future.result())\n",
    "\n",
    "        sub_duration  =  timer() - sub_start\n",
    "\n",
    "    duration = timer() - start\n",
    "\n",
    "    print(\"Sub took: %.4f seconds.\" % sub_duration)\n",
    "    print(\"Took: $.4f seconds.\" % duration)\n",
    "    "
   ]
  },
  {
   "cell_type": "code",
   "execution_count": 108,
   "metadata": {},
   "outputs": [],
   "source": [
    "input = [i for i in range(10 ** 13, 10 ** 13 + 10000)]"
   ]
  },
  {
   "cell_type": "code",
   "execution_count": 109,
   "metadata": {},
   "outputs": [
    {
     "name": "stdout",
     "output_type": "stream",
     "text": [
      "Number of workers: 10.\n"
     ]
    },
    {
     "ename": "BrokenProcessPool",
     "evalue": "A child process terminated abruptly, the process pool is not usable anymore",
     "output_type": "error",
     "traceback": [
      "\u001b[1;31m---------------------------------------------------------------------------\u001b[0m",
      "\u001b[1;31mBrokenProcessPool\u001b[0m                         Traceback (most recent call last)",
      "\u001b[1;32mc:\\Users\\JBarr\\OneDrive\\Documents\\FinTech\\career_services\\mathemeticsDevelopment\\mathemetics\\Computer_Science\\AdvancedPythonProgramming\\BookWork\\AdPyCode.ipynb Cell 22'\u001b[0m in \u001b[0;36m<cell line: 1>\u001b[1;34m()\u001b[0m\n\u001b[1;32m----> <a href='vscode-notebook-cell:/c%3A/Users/JBarr/OneDrive/Documents/FinTech/career_services/mathemeticsDevelopment/mathemetics/Computer_Science/AdvancedPythonProgramming/BookWork/AdPyCode.ipynb#ch0000020?line=0'>1</a>\u001b[0m concurrent_solve(\u001b[39m10\u001b[39;49m)\n",
      "\u001b[1;32mc:\\Users\\JBarr\\OneDrive\\Documents\\FinTech\\career_services\\mathemeticsDevelopment\\mathemetics\\Computer_Science\\AdvancedPythonProgramming\\BookWork\\AdPyCode.ipynb Cell 20'\u001b[0m in \u001b[0;36mconcurrent_solve\u001b[1;34m(n_workers)\u001b[0m\n\u001b[0;32m     <a href='vscode-notebook-cell:/c%3A/Users/JBarr/OneDrive/Documents/FinTech/career_services/mathemeticsDevelopment/mathemetics/Computer_Science/AdvancedPythonProgramming/BookWork/AdPyCode.ipynb#ch0000019?line=10'>11</a>\u001b[0m result \u001b[39m=\u001b[39m []\n\u001b[0;32m     <a href='vscode-notebook-cell:/c%3A/Users/JBarr/OneDrive/Documents/FinTech/career_services/mathemeticsDevelopment/mathemetics/Computer_Science/AdvancedPythonProgramming/BookWork/AdPyCode.ipynb#ch0000019?line=12'>13</a>\u001b[0m \u001b[39mwith\u001b[39;00m concurrent\u001b[39m.\u001b[39mfutures\u001b[39m.\u001b[39mProcessPoolExecutor(\n\u001b[0;32m     <a href='vscode-notebook-cell:/c%3A/Users/JBarr/OneDrive/Documents/FinTech/career_services/mathemeticsDevelopment/mathemetics/Computer_Science/AdvancedPythonProgramming/BookWork/AdPyCode.ipynb#ch0000019?line=13'>14</a>\u001b[0m     max_workers\u001b[39m=\u001b[39m\u001b[39m20\u001b[39m) \u001b[39mas\u001b[39;00m executor:\n\u001b[1;32m---> <a href='vscode-notebook-cell:/c%3A/Users/JBarr/OneDrive/Documents/FinTech/career_services/mathemeticsDevelopment/mathemetics/Computer_Science/AdvancedPythonProgramming/BookWork/AdPyCode.ipynb#ch0000019?line=15'>16</a>\u001b[0m     futures \u001b[39m=\u001b[39m [executor\u001b[39m.\u001b[39msubmit(is_prime, i) \u001b[39mfor\u001b[39;00m i  \u001b[39min\u001b[39;00m \u001b[39minput\u001b[39m]\n\u001b[0;32m     <a href='vscode-notebook-cell:/c%3A/Users/JBarr/OneDrive/Documents/FinTech/career_services/mathemeticsDevelopment/mathemetics/Computer_Science/AdvancedPythonProgramming/BookWork/AdPyCode.ipynb#ch0000019?line=16'>17</a>\u001b[0m     completed_futures \u001b[39m=\u001b[39m concurrent\u001b[39m.\u001b[39mfutures\u001b[39m.\u001b[39mas_completed(futures)\n\u001b[0;32m     <a href='vscode-notebook-cell:/c%3A/Users/JBarr/OneDrive/Documents/FinTech/career_services/mathemeticsDevelopment/mathemetics/Computer_Science/AdvancedPythonProgramming/BookWork/AdPyCode.ipynb#ch0000019?line=18'>19</a>\u001b[0m     sub_start \u001b[39m=\u001b[39m timer()\n",
      "\u001b[1;32mc:\\Users\\JBarr\\OneDrive\\Documents\\FinTech\\career_services\\mathemeticsDevelopment\\mathemetics\\Computer_Science\\AdvancedPythonProgramming\\BookWork\\AdPyCode.ipynb Cell 20'\u001b[0m in \u001b[0;36m<listcomp>\u001b[1;34m(.0)\u001b[0m\n\u001b[0;32m     <a href='vscode-notebook-cell:/c%3A/Users/JBarr/OneDrive/Documents/FinTech/career_services/mathemeticsDevelopment/mathemetics/Computer_Science/AdvancedPythonProgramming/BookWork/AdPyCode.ipynb#ch0000019?line=10'>11</a>\u001b[0m result \u001b[39m=\u001b[39m []\n\u001b[0;32m     <a href='vscode-notebook-cell:/c%3A/Users/JBarr/OneDrive/Documents/FinTech/career_services/mathemeticsDevelopment/mathemetics/Computer_Science/AdvancedPythonProgramming/BookWork/AdPyCode.ipynb#ch0000019?line=12'>13</a>\u001b[0m \u001b[39mwith\u001b[39;00m concurrent\u001b[39m.\u001b[39mfutures\u001b[39m.\u001b[39mProcessPoolExecutor(\n\u001b[0;32m     <a href='vscode-notebook-cell:/c%3A/Users/JBarr/OneDrive/Documents/FinTech/career_services/mathemeticsDevelopment/mathemetics/Computer_Science/AdvancedPythonProgramming/BookWork/AdPyCode.ipynb#ch0000019?line=13'>14</a>\u001b[0m     max_workers\u001b[39m=\u001b[39m\u001b[39m20\u001b[39m) \u001b[39mas\u001b[39;00m executor:\n\u001b[1;32m---> <a href='vscode-notebook-cell:/c%3A/Users/JBarr/OneDrive/Documents/FinTech/career_services/mathemeticsDevelopment/mathemetics/Computer_Science/AdvancedPythonProgramming/BookWork/AdPyCode.ipynb#ch0000019?line=15'>16</a>\u001b[0m     futures \u001b[39m=\u001b[39m [executor\u001b[39m.\u001b[39;49msubmit(is_prime, i) \u001b[39mfor\u001b[39;00m i  \u001b[39min\u001b[39;00m \u001b[39minput\u001b[39m]\n\u001b[0;32m     <a href='vscode-notebook-cell:/c%3A/Users/JBarr/OneDrive/Documents/FinTech/career_services/mathemeticsDevelopment/mathemetics/Computer_Science/AdvancedPythonProgramming/BookWork/AdPyCode.ipynb#ch0000019?line=16'>17</a>\u001b[0m     completed_futures \u001b[39m=\u001b[39m concurrent\u001b[39m.\u001b[39mfutures\u001b[39m.\u001b[39mas_completed(futures)\n\u001b[0;32m     <a href='vscode-notebook-cell:/c%3A/Users/JBarr/OneDrive/Documents/FinTech/career_services/mathemeticsDevelopment/mathemetics/Computer_Science/AdvancedPythonProgramming/BookWork/AdPyCode.ipynb#ch0000019?line=18'>19</a>\u001b[0m     sub_start \u001b[39m=\u001b[39m timer()\n",
      "File \u001b[1;32m~\\anaconda3\\envs\\dev\\lib\\concurrent\\futures\\process.py:689\u001b[0m, in \u001b[0;36mProcessPoolExecutor.submit\u001b[1;34m(self, fn, *args, **kwargs)\u001b[0m\n\u001b[0;32m    <a href='file:///c%3A/Users/JBarr/anaconda3/envs/dev/lib/concurrent/futures/process.py?line=686'>687</a>\u001b[0m \u001b[39mwith\u001b[39;00m \u001b[39mself\u001b[39m\u001b[39m.\u001b[39m_shutdown_lock:\n\u001b[0;32m    <a href='file:///c%3A/Users/JBarr/anaconda3/envs/dev/lib/concurrent/futures/process.py?line=687'>688</a>\u001b[0m     \u001b[39mif\u001b[39;00m \u001b[39mself\u001b[39m\u001b[39m.\u001b[39m_broken:\n\u001b[1;32m--> <a href='file:///c%3A/Users/JBarr/anaconda3/envs/dev/lib/concurrent/futures/process.py?line=688'>689</a>\u001b[0m         \u001b[39mraise\u001b[39;00m BrokenProcessPool(\u001b[39mself\u001b[39m\u001b[39m.\u001b[39m_broken)\n\u001b[0;32m    <a href='file:///c%3A/Users/JBarr/anaconda3/envs/dev/lib/concurrent/futures/process.py?line=689'>690</a>\u001b[0m     \u001b[39mif\u001b[39;00m \u001b[39mself\u001b[39m\u001b[39m.\u001b[39m_shutdown_thread:\n\u001b[0;32m    <a href='file:///c%3A/Users/JBarr/anaconda3/envs/dev/lib/concurrent/futures/process.py?line=690'>691</a>\u001b[0m         \u001b[39mraise\u001b[39;00m \u001b[39mRuntimeError\u001b[39;00m(\u001b[39m'\u001b[39m\u001b[39mcannot schedule new futures after shutdown\u001b[39m\u001b[39m'\u001b[39m)\n",
      "\u001b[1;31mBrokenProcessPool\u001b[0m: A child process terminated abruptly, the process pool is not usable anymore"
     ]
    }
   ],
   "source": [
    "concurrent_solve(10)"
   ]
  },
  {
   "cell_type": "code",
   "execution_count": null,
   "metadata": {},
   "outputs": [
    {
     "name": "stdout",
     "output_type": "stream",
     "text": [
      "Number of workers: 20.\n"
     ]
    },
    {
     "ename": "BrokenProcessPool",
     "evalue": "A child process terminated abruptly, the process pool is not usable anymore",
     "output_type": "error",
     "traceback": [
      "\u001b[1;31m---------------------------------------------------------------------------\u001b[0m",
      "\u001b[1;31mBrokenProcessPool\u001b[0m                         Traceback (most recent call last)",
      "\u001b[1;32mc:\\Users\\JBarr\\OneDrive\\Documents\\FinTech\\career_services\\mathemeticsDevelopment\\mathemetics\\Computer_Science\\AdvancedPythonProgramming\\BookWork\\AdPyCode.ipynb Cell 23'\u001b[0m in \u001b[0;36m<cell line: 1>\u001b[1;34m()\u001b[0m\n\u001b[0;32m      <a href='vscode-notebook-cell:/c%3A/Users/JBarr/OneDrive/Documents/FinTech/career_services/mathemeticsDevelopment/mathemetics/Computer_Science/AdvancedPythonProgramming/BookWork/AdPyCode.ipynb#ch0000021?line=0'>1</a>\u001b[0m \u001b[39mfor\u001b[39;00m n_workers \u001b[39min\u001b[39;00m \u001b[39mrange\u001b[39m(\u001b[39m1\u001b[39m, multiprocessing\u001b[39m.\u001b[39mcpu_count() \u001b[39m+\u001b[39m \u001b[39m1\u001b[39m):\n\u001b[1;32m----> <a href='vscode-notebook-cell:/c%3A/Users/JBarr/OneDrive/Documents/FinTech/career_services/mathemeticsDevelopment/mathemetics/Computer_Science/AdvancedPythonProgramming/BookWork/AdPyCode.ipynb#ch0000021?line=1'>2</a>\u001b[0m     concurrent_solve(\u001b[39m20\u001b[39;49m)\n\u001b[0;32m      <a href='vscode-notebook-cell:/c%3A/Users/JBarr/OneDrive/Documents/FinTech/career_services/mathemeticsDevelopment/mathemetics/Computer_Science/AdvancedPythonProgramming/BookWork/AdPyCode.ipynb#ch0000021?line=2'>3</a>\u001b[0m     \u001b[39mprint\u001b[39m(\u001b[39m\"\u001b[39m\u001b[39m_\u001b[39m\u001b[39m\"\u001b[39m \u001b[39m*\u001b[39m \u001b[39m20\u001b[39m)\n",
      "\u001b[1;32mc:\\Users\\JBarr\\OneDrive\\Documents\\FinTech\\career_services\\mathemeticsDevelopment\\mathemetics\\Computer_Science\\AdvancedPythonProgramming\\BookWork\\AdPyCode.ipynb Cell 20'\u001b[0m in \u001b[0;36mconcurrent_solve\u001b[1;34m(n_workers)\u001b[0m\n\u001b[0;32m     <a href='vscode-notebook-cell:/c%3A/Users/JBarr/OneDrive/Documents/FinTech/career_services/mathemeticsDevelopment/mathemetics/Computer_Science/AdvancedPythonProgramming/BookWork/AdPyCode.ipynb#ch0000019?line=10'>11</a>\u001b[0m result \u001b[39m=\u001b[39m []\n\u001b[0;32m     <a href='vscode-notebook-cell:/c%3A/Users/JBarr/OneDrive/Documents/FinTech/career_services/mathemeticsDevelopment/mathemetics/Computer_Science/AdvancedPythonProgramming/BookWork/AdPyCode.ipynb#ch0000019?line=12'>13</a>\u001b[0m \u001b[39mwith\u001b[39;00m concurrent\u001b[39m.\u001b[39mfutures\u001b[39m.\u001b[39mProcessPoolExecutor(\n\u001b[0;32m     <a href='vscode-notebook-cell:/c%3A/Users/JBarr/OneDrive/Documents/FinTech/career_services/mathemeticsDevelopment/mathemetics/Computer_Science/AdvancedPythonProgramming/BookWork/AdPyCode.ipynb#ch0000019?line=13'>14</a>\u001b[0m     max_workers\u001b[39m=\u001b[39m\u001b[39m20\u001b[39m) \u001b[39mas\u001b[39;00m executor:\n\u001b[1;32m---> <a href='vscode-notebook-cell:/c%3A/Users/JBarr/OneDrive/Documents/FinTech/career_services/mathemeticsDevelopment/mathemetics/Computer_Science/AdvancedPythonProgramming/BookWork/AdPyCode.ipynb#ch0000019?line=15'>16</a>\u001b[0m     futures \u001b[39m=\u001b[39m [executor\u001b[39m.\u001b[39msubmit(is_prime, i) \u001b[39mfor\u001b[39;00m i  \u001b[39min\u001b[39;00m \u001b[39minput\u001b[39m]\n\u001b[0;32m     <a href='vscode-notebook-cell:/c%3A/Users/JBarr/OneDrive/Documents/FinTech/career_services/mathemeticsDevelopment/mathemetics/Computer_Science/AdvancedPythonProgramming/BookWork/AdPyCode.ipynb#ch0000019?line=16'>17</a>\u001b[0m     completed_futures \u001b[39m=\u001b[39m concurrent\u001b[39m.\u001b[39mfutures\u001b[39m.\u001b[39mas_completed(futures)\n\u001b[0;32m     <a href='vscode-notebook-cell:/c%3A/Users/JBarr/OneDrive/Documents/FinTech/career_services/mathemeticsDevelopment/mathemetics/Computer_Science/AdvancedPythonProgramming/BookWork/AdPyCode.ipynb#ch0000019?line=18'>19</a>\u001b[0m     sub_start \u001b[39m=\u001b[39m timer()\n",
      "\u001b[1;32mc:\\Users\\JBarr\\OneDrive\\Documents\\FinTech\\career_services\\mathemeticsDevelopment\\mathemetics\\Computer_Science\\AdvancedPythonProgramming\\BookWork\\AdPyCode.ipynb Cell 20'\u001b[0m in \u001b[0;36m<listcomp>\u001b[1;34m(.0)\u001b[0m\n\u001b[0;32m     <a href='vscode-notebook-cell:/c%3A/Users/JBarr/OneDrive/Documents/FinTech/career_services/mathemeticsDevelopment/mathemetics/Computer_Science/AdvancedPythonProgramming/BookWork/AdPyCode.ipynb#ch0000019?line=10'>11</a>\u001b[0m result \u001b[39m=\u001b[39m []\n\u001b[0;32m     <a href='vscode-notebook-cell:/c%3A/Users/JBarr/OneDrive/Documents/FinTech/career_services/mathemeticsDevelopment/mathemetics/Computer_Science/AdvancedPythonProgramming/BookWork/AdPyCode.ipynb#ch0000019?line=12'>13</a>\u001b[0m \u001b[39mwith\u001b[39;00m concurrent\u001b[39m.\u001b[39mfutures\u001b[39m.\u001b[39mProcessPoolExecutor(\n\u001b[0;32m     <a href='vscode-notebook-cell:/c%3A/Users/JBarr/OneDrive/Documents/FinTech/career_services/mathemeticsDevelopment/mathemetics/Computer_Science/AdvancedPythonProgramming/BookWork/AdPyCode.ipynb#ch0000019?line=13'>14</a>\u001b[0m     max_workers\u001b[39m=\u001b[39m\u001b[39m20\u001b[39m) \u001b[39mas\u001b[39;00m executor:\n\u001b[1;32m---> <a href='vscode-notebook-cell:/c%3A/Users/JBarr/OneDrive/Documents/FinTech/career_services/mathemeticsDevelopment/mathemetics/Computer_Science/AdvancedPythonProgramming/BookWork/AdPyCode.ipynb#ch0000019?line=15'>16</a>\u001b[0m     futures \u001b[39m=\u001b[39m [executor\u001b[39m.\u001b[39;49msubmit(is_prime, i) \u001b[39mfor\u001b[39;00m i  \u001b[39min\u001b[39;00m \u001b[39minput\u001b[39m]\n\u001b[0;32m     <a href='vscode-notebook-cell:/c%3A/Users/JBarr/OneDrive/Documents/FinTech/career_services/mathemeticsDevelopment/mathemetics/Computer_Science/AdvancedPythonProgramming/BookWork/AdPyCode.ipynb#ch0000019?line=16'>17</a>\u001b[0m     completed_futures \u001b[39m=\u001b[39m concurrent\u001b[39m.\u001b[39mfutures\u001b[39m.\u001b[39mas_completed(futures)\n\u001b[0;32m     <a href='vscode-notebook-cell:/c%3A/Users/JBarr/OneDrive/Documents/FinTech/career_services/mathemeticsDevelopment/mathemetics/Computer_Science/AdvancedPythonProgramming/BookWork/AdPyCode.ipynb#ch0000019?line=18'>19</a>\u001b[0m     sub_start \u001b[39m=\u001b[39m timer()\n",
      "File \u001b[1;32m~\\anaconda3\\envs\\dev\\lib\\concurrent\\futures\\process.py:689\u001b[0m, in \u001b[0;36mProcessPoolExecutor.submit\u001b[1;34m(self, fn, *args, **kwargs)\u001b[0m\n\u001b[0;32m    <a href='file:///c%3A/Users/JBarr/anaconda3/envs/dev/lib/concurrent/futures/process.py?line=686'>687</a>\u001b[0m \u001b[39mwith\u001b[39;00m \u001b[39mself\u001b[39m\u001b[39m.\u001b[39m_shutdown_lock:\n\u001b[0;32m    <a href='file:///c%3A/Users/JBarr/anaconda3/envs/dev/lib/concurrent/futures/process.py?line=687'>688</a>\u001b[0m     \u001b[39mif\u001b[39;00m \u001b[39mself\u001b[39m\u001b[39m.\u001b[39m_broken:\n\u001b[1;32m--> <a href='file:///c%3A/Users/JBarr/anaconda3/envs/dev/lib/concurrent/futures/process.py?line=688'>689</a>\u001b[0m         \u001b[39mraise\u001b[39;00m BrokenProcessPool(\u001b[39mself\u001b[39m\u001b[39m.\u001b[39m_broken)\n\u001b[0;32m    <a href='file:///c%3A/Users/JBarr/anaconda3/envs/dev/lib/concurrent/futures/process.py?line=689'>690</a>\u001b[0m     \u001b[39mif\u001b[39;00m \u001b[39mself\u001b[39m\u001b[39m.\u001b[39m_shutdown_thread:\n\u001b[0;32m    <a href='file:///c%3A/Users/JBarr/anaconda3/envs/dev/lib/concurrent/futures/process.py?line=690'>691</a>\u001b[0m         \u001b[39mraise\u001b[39;00m \u001b[39mRuntimeError\u001b[39;00m(\u001b[39m'\u001b[39m\u001b[39mcannot schedule new futures after shutdown\u001b[39m\u001b[39m'\u001b[39m)\n",
      "\u001b[1;31mBrokenProcessPool\u001b[0m: A child process terminated abruptly, the process pool is not usable anymore"
     ]
    }
   ],
   "source": [
    "for n_workers in range(1, multiprocessing.cpu_count() + 1):\n",
    "    concurrent_solve(20)\n",
    "    print(\"_\" * 20)"
   ]
  },
  {
   "cell_type": "code",
   "execution_count": null,
   "metadata": {},
   "outputs": [],
   "source": []
  }
 ],
 "metadata": {
  "interpreter": {
   "hash": "c6e97c6b2a42d483fd42f31193b3619460ba0bc03783f8ca02c955872e306190"
  },
  "kernelspec": {
   "display_name": "dev",
   "language": "python",
   "name": "dev"
  },
  "language_info": {
   "codemirror_mode": {
    "name": "ipython",
    "version": 3
   },
   "file_extension": ".py",
   "mimetype": "text/x-python",
   "name": "python",
   "nbconvert_exporter": "python",
   "pygments_lexer": "ipython3",
   "version": "3.10.0"
  },
  "orig_nbformat": 4
 },
 "nbformat": 4,
 "nbformat_minor": 2
}
