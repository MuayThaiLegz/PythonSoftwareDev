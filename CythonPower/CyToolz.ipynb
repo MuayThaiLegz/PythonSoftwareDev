{
 "cells": [
  {
   "cell_type": "code",
   "execution_count": 1,
   "id": "ccf33e3b",
   "metadata": {},
   "outputs": [],
   "source": [
    "bb = b\"These are the times that try men's souls.\""
   ]
  },
  {
   "cell_type": "code",
   "execution_count": 2,
   "id": "85d2a8bf",
   "metadata": {},
   "outputs": [],
   "source": [
    "memv = memoryview(bb)"
   ]
  },
  {
   "cell_type": "code",
   "execution_count": 8,
   "id": "4ecf77a1",
   "metadata": {},
   "outputs": [
    {
     "data": {
      "text/plain": [
       "b\"These are the times that try men's souls.\""
      ]
     },
     "execution_count": 8,
     "metadata": {},
     "output_type": "execute_result"
    }
   ],
   "source": [
    "memv.obj"
   ]
  },
  {
   "cell_type": "code",
   "execution_count": 3,
   "id": "3efbf7c6",
   "metadata": {},
   "outputs": [
    {
     "data": {
      "text/plain": [
       "110"
      ]
     },
     "execution_count": 3,
     "metadata": {},
     "output_type": "execute_result"
    }
   ],
   "source": [
    "# A bytes object is immutable, a memoryvire of a bytes obj is read only"
   ]
  },
  {
   "cell_type": "code",
   "execution_count": 10,
   "id": "355b6a99",
   "metadata": {},
   "outputs": [],
   "source": [
    "# If instead, we take a memoryviewof a mutable buffer like bytearray, we can modidy its data"
   ]
  },
  {
   "cell_type": "code",
   "execution_count": 13,
   "id": "5ca84eaa",
   "metadata": {},
   "outputs": [],
   "source": [
    "ba = bytearray(b\"If the facts dont fit the theory, change the facts\")"
   ]
  },
  {
   "cell_type": "code",
   "execution_count": 14,
   "id": "47daf5a0",
   "metadata": {},
   "outputs": [],
   "source": [
    "mutable1 = memoryview(ba)"
   ]
  },
  {
   "cell_type": "code",
   "execution_count": 15,
   "id": "278392a5",
   "metadata": {},
   "outputs": [],
   "source": [
    "mutable2 = mutable1[:10]"
   ]
  },
  {
   "cell_type": "code",
   "execution_count": 23,
   "id": "ea1e961b",
   "metadata": {},
   "outputs": [],
   "source": [
    "mutable2[5]  = 1"
   ]
  },
  {
   "cell_type": "code",
   "execution_count": 43,
   "id": "b561b7b5",
   "metadata": {},
   "outputs": [],
   "source": [
    "mutable2[7]  = 45"
   ]
  },
  {
   "cell_type": "code",
   "execution_count": 44,
   "id": "d9b4b3b6",
   "metadata": {},
   "outputs": [
    {
     "data": {
      "text/plain": [
       "bytearray(b'\\x01f th\\x16 -acts dont fit the theory, change the facts')"
      ]
     },
     "metadata": {},
     "output_type": "display_data"
    },
    {
     "data": {
      "text/plain": [
       "bytearray(b'\\x01f th\\x16 -acts dont fit the theory, change the facts')"
      ]
     },
     "metadata": {},
     "output_type": "display_data"
    }
   ],
   "source": [
    "display(mutable2.obj, mutable1.obj)"
   ]
  },
  {
   "cell_type": "code",
   "execution_count": 106,
   "id": "9c427bf6",
   "metadata": {},
   "outputs": [],
   "source": [
    "import numpy as np \n",
    "import cython\n"
   ]
  },
  {
   "cell_type": "code",
   "execution_count": 107,
   "id": "01adba37",
   "metadata": {},
   "outputs": [],
   "source": [
    "np_mv = memoryview(np.ones((10,20,30)))"
   ]
  },
  {
   "cell_type": "code",
   "execution_count": 108,
   "id": "49d5b455",
   "metadata": {},
   "outputs": [
    {
     "data": {
      "text/plain": [
       "'d'"
      ]
     },
     "execution_count": 108,
     "metadata": {},
     "output_type": "execute_result"
    }
   ],
   "source": [
    "np_mv.format"
   ]
  },
  {
   "cell_type": "code",
   "execution_count": 109,
   "id": "631c4fbb",
   "metadata": {},
   "outputs": [],
   "source": [
    "# Typed Memoryviews"
   ]
  },
  {
   "cell_type": "code",
   "execution_count": 124,
   "id": "057f409a",
   "metadata": {},
   "outputs": [],
   "source": [
    "%%cython\n",
    "\n",
    "from cpython.array cimport array\n",
    "\n",
    "def summer(double[:] mv):\n",
    "    \"\"\"Sums its argument's contents.\"\"\"\n",
    "    cdef double d, ss = 0.0\n",
    "    for d in mv:\n",
    "        ss += d\n",
    "    return ss\n"
   ]
  },
  {
   "cell_type": "code",
   "execution_count": 125,
   "id": "32f51aca",
   "metadata": {},
   "outputs": [],
   "source": [
    "arr = np.ones((10**6,), dtype=np.double)"
   ]
  },
  {
   "cell_type": "code",
   "execution_count": 132,
   "id": "582890fe",
   "metadata": {},
   "outputs": [
    {
     "data": {
      "text/plain": [
       "1000000.0"
      ]
     },
     "execution_count": 132,
     "metadata": {},
     "output_type": "execute_result"
    }
   ],
   "source": [
    "summer(arr)"
   ]
  },
  {
   "cell_type": "code",
   "execution_count": 127,
   "id": "cdbabcd7",
   "metadata": {},
   "outputs": [],
   "source": [
    "import pyximport; pyximport.install()\n",
    "\n",
    "import numpy as np\n",
    "from array import array\n",
    "\n",
    "arr = np.ones((10**6,), dtype=np.double)"
   ]
  },
  {
   "cell_type": "code",
   "execution_count": 130,
   "id": "bdf06209",
   "metadata": {},
   "outputs": [
    {
     "name": "stdout",
     "output_type": "stream",
     "text": [
      "1000000.0\n",
      "1000000.0\n"
     ]
    }
   ],
   "source": [
    "print(summer(arr))\n",
    "\n",
    "a = array('d', [1]*10**6)\n",
    "\n",
    "print(summer(a))"
   ]
  },
  {
   "cell_type": "code",
   "execution_count": null,
   "id": "b1f78aa1",
   "metadata": {},
   "outputs": [],
   "source": [
    "# C-Level Access to Typed Memoryvire Data\n",
    "# Typed Memoryviews are for  C-style access with no Py overhead\n",
    "#  A better way to add mv's elements is"
   ]
  },
  {
   "cell_type": "code",
   "execution_count": 145,
   "id": "5d87c748",
   "metadata": {},
   "outputs": [
    {
     "name": "stdout",
     "output_type": "stream",
     "text": [
      "1000000.0\n"
     ]
    }
   ],
   "source": [
    "%%cython\n",
    "from cpython.array cimport array\n",
    "a = array('d', [1]*10**6)\n",
    "\n",
    "cdef summerCy(double[:] mv):\n",
    "\n",
    "    cdef:\n",
    "        double ss = 0.0\n",
    "        int i, N\n",
    "    N = mv.shape[0]\n",
    "    for i in range(N):\n",
    "        ss += mv[i]\n",
    "    return ss\n",
    "\n",
    "\n",
    "print(summerCy(a))"
   ]
  },
  {
   "cell_type": "code",
   "execution_count": null,
   "id": "8f5c7da5",
   "metadata": {},
   "outputs": [],
   "source": []
  },
  {
   "cell_type": "code",
   "execution_count": null,
   "id": "d59bab5a",
   "metadata": {},
   "outputs": [],
   "source": [
    "\"\"\"\n",
    "Declating Typed Memoryviews:\n",
    "    \n",
    "    We can controlmany attributes\n",
    "    \n",
    "    * Element type\n",
    "    * Dimensionality\n",
    "    * Contiguous or strided data packing\n",
    "    * C or Fontran contiguity\n",
    "    * Dicrect or indirectacces\n",
    "\"\"\""
   ]
  },
  {
   "cell_type": "code",
   "execution_count": 151,
   "id": "c76cd09b",
   "metadata": {},
   "outputs": [],
   "source": [
    "# Default typed memoryview declaration for a tree dimensinal object"
   ]
  },
  {
   "cell_type": "code",
   "execution_count": 152,
   "id": "08573b3f",
   "metadata": {},
   "outputs": [],
   "source": [
    "%%cython\n",
    "\n",
    "cdef int[:,:,: ] mv"
   ]
  },
  {
   "cell_type": "code",
   "execution_count": null,
   "id": "b5ff896f",
   "metadata": {},
   "outputs": [],
   "source": [
    "# The typed memoryview can also acquire  a buffer from a Fortran-ordered array.\n",
    "# Since each dimension has strided packing\n"
   ]
  },
  {
   "cell_type": "code",
   "execution_count": 153,
   "id": "dbb5f482",
   "metadata": {},
   "outputs": [],
   "source": [
    "mv = np.empty((10, 20, 30), dtype=np.int32)"
   ]
  },
  {
   "cell_type": "code",
   "execution_count": 155,
   "id": "1e0e044e",
   "metadata": {},
   "outputs": [],
   "source": [
    "mv = np.ones((13,17, 19),dtype=np.int32, order='F')"
   ]
  },
  {
   "cell_type": "code",
   "execution_count": 173,
   "id": "6e8fa4df",
   "metadata": {},
   "outputs": [],
   "source": [
    "%%cython\n",
    "cimport cython\n",
    "\n",
    "cpdef cython.floating  generic_summer(cython.floating[:] mv):\n",
    "    cdef cython.floating f, ss = 0.0\n",
    "    for f in mv:\n",
    "        ss += f\n",
    "    return ss"
   ]
  },
  {
   "cell_type": "code",
   "execution_count": 179,
   "id": "615506f7",
   "metadata": {},
   "outputs": [],
   "source": [
    "Py_double_array =  np.arange(10., dtype=np.float64)\n",
    "Py_float_array = np.asarray(Py_double_array, dtype=np.float64)"
   ]
  },
  {
   "cell_type": "code",
   "execution_count": null,
   "id": "68c86b1d",
   "metadata": {},
   "outputs": [],
   "source": []
  },
  {
   "cell_type": "code",
   "execution_count": 184,
   "id": "f363f1a9",
   "metadata": {},
   "outputs": [],
   "source": [
    "%%cython\n",
    "cimport cython\n",
    "import numpy as np\n",
    "\n",
    "\n",
    "\n"
   ]
  },
  {
   "cell_type": "code",
   "execution_count": null,
   "id": "74880ca3",
   "metadata": {},
   "outputs": [],
   "source": [
    "# Using Typed Memoryviews"
   ]
  },
  {
   "cell_type": "code",
   "execution_count": null,
   "id": "98602f1c",
   "metadata": {},
   "outputs": [],
   "source": []
  },
  {
   "cell_type": "code",
   "execution_count": null,
   "id": "ef149254",
   "metadata": {},
   "outputs": [],
   "source": []
  },
  {
   "cell_type": "code",
   "execution_count": null,
   "id": "41486a37",
   "metadata": {},
   "outputs": [],
   "source": []
  },
  {
   "cell_type": "code",
   "execution_count": null,
   "id": "9f80cf41",
   "metadata": {},
   "outputs": [],
   "source": []
  },
  {
   "cell_type": "code",
   "execution_count": null,
   "id": "fe4f7a80",
   "metadata": {},
   "outputs": [],
   "source": []
  },
  {
   "cell_type": "code",
   "execution_count": null,
   "id": "2714beb5",
   "metadata": {},
   "outputs": [],
   "source": []
  },
  {
   "cell_type": "code",
   "execution_count": null,
   "id": "edd5d5fd",
   "metadata": {},
   "outputs": [],
   "source": []
  },
  {
   "cell_type": "code",
   "execution_count": null,
   "id": "d84e96f0",
   "metadata": {},
   "outputs": [],
   "source": []
  },
  {
   "cell_type": "code",
   "execution_count": null,
   "id": "0fef311a",
   "metadata": {},
   "outputs": [],
   "source": []
  },
  {
   "cell_type": "code",
   "execution_count": null,
   "id": "bd9775bd",
   "metadata": {},
   "outputs": [],
   "source": []
  }
 ],
 "metadata": {
  "kernelspec": {
   "display_name": "Python 3 (ipykernel)",
   "language": "python",
   "name": "python3"
  },
  "language_info": {
   "codemirror_mode": {
    "name": "ipython",
    "version": 3
   },
   "file_extension": ".py",
   "mimetype": "text/x-python",
   "name": "python",
   "nbconvert_exporter": "python",
   "pygments_lexer": "ipython3",
   "version": "3.8.13"
  }
 },
 "nbformat": 4,
 "nbformat_minor": 5
}
