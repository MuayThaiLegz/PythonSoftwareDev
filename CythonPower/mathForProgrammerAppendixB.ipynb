{
 "cells": [
  {
   "cell_type": "code",
   "execution_count": 2,
   "id": "91b55b13",
   "metadata": {},
   "outputs": [],
   "source": [
    "# The math module\n",
    "\n",
    "import math \n",
    "\n",
    "from math import pi, e\n"
   ]
  },
  {
   "cell_type": "code",
   "execution_count": 12,
   "id": "a90f94d5",
   "metadata": {},
   "outputs": [
    {
     "data": {
      "text/plain": [
       "0.4121184852417566"
      ]
     },
     "execution_count": 12,
     "metadata": {},
     "output_type": "execute_result"
    }
   ],
   "source": [
    "piminueseu = pi -  e\n",
    "tau = pi * 2\n",
    "math.factorial(6)\n",
    "math.sin(9)"
   ]
  },
  {
   "cell_type": "code",
   "execution_count": 17,
   "id": "7afb9353",
   "metadata": {},
   "outputs": [
    {
     "data": {
      "text/plain": [
       "9.00520402666429"
      ]
     },
     "execution_count": 17,
     "metadata": {},
     "output_type": "execute_result"
    }
   ],
   "source": [
    "import random\n",
    "random.randint(0,100)\n",
    "\n",
    "random.uniform(7.5, 9.5)"
   ]
  },
  {
   "cell_type": "code",
   "execution_count": null,
   "id": "4a54a052",
   "metadata": {},
   "outputs": [],
   "source": [
    "muns = list(range(10))\n",
    "squares = []\n",
    "for _ in muns:\n",
    "    squares.append(_ * _)\n",
    "    \n",
    "    squares\n",
    "    \n",
    "    def add3(x,y,z):\n",
    "    return x + y + z"
   ]
  },
  {
   "cell_type": "code",
   "execution_count": 34,
   "id": "b28847a5",
   "metadata": {},
   "outputs": [
    {
     "data": {
      "text/plain": [
       "[0, 1, 4, 9, 16, 25, 36, 49, 64, 81]"
      ]
     },
     "execution_count": 34,
     "metadata": {},
     "output_type": "execute_result"
    }
   ],
   "source": [
    "[x * x for x in muns]    "
   ]
  },
  {
   "cell_type": "code",
   "execution_count": null,
   "id": "c66eb22c",
   "metadata": {},
   "outputs": [],
   "source": []
  },
  {
   "cell_type": "code",
   "execution_count": null,
   "id": "3ae33f67",
   "metadata": {},
   "outputs": [],
   "source": [
    "# zip takes two iterables of same length and returns an iterable consisting of pairsabs\n",
    "# of coresponding entries from the first and second iterable:\n"
   ]
  },
  {
   "cell_type": "code",
   "execution_count": 36,
   "id": "69c0bf11",
   "metadata": {},
   "outputs": [
    {
     "data": {
      "text/plain": [
       "[(1, 'a'), (2, 'b'), (3, 'c')]"
      ]
     },
     "execution_count": 36,
     "metadata": {},
     "output_type": "execute_result"
    }
   ],
   "source": [
    "z = zip([1,2,3], ['a','b','c'])\n",
    "list(z)"
   ]
  },
  {
   "cell_type": "code",
   "execution_count": null,
   "id": "f99a0908",
   "metadata": {},
   "outputs": [],
   "source": [
    "#  Giving functions more inputs"
   ]
  },
  {
   "cell_type": "code",
   "execution_count": 37,
   "id": "71fa4f08",
   "metadata": {},
   "outputs": [],
   "source": [
    "def add3(x,y,z):\n",
    "    return x + y + z"
   ]
  },
  {
   "cell_type": "code",
   "execution_count": 38,
   "id": "6f891c4c",
   "metadata": {},
   "outputs": [],
   "source": [
    "def add(*args):\n",
    "    total = 0\n",
    "    for x in args:\n",
    "        total += x\n",
    "    return total"
   ]
  },
  {
   "cell_type": "code",
   "execution_count": 47,
   "id": "48697cb8",
   "metadata": {},
   "outputs": [
    {
     "data": {
      "text/plain": [
       "12"
      ]
     },
     "metadata": {},
     "output_type": "display_data"
    },
    {
     "data": {
      "text/plain": [
       "12"
      ]
     },
     "metadata": {},
     "output_type": "display_data"
    }
   ],
   "source": [
    "display(add3(3,4,5),add(3,4,5))"
   ]
  },
  {
   "cell_type": "code",
   "execution_count": 57,
   "id": "362e2659",
   "metadata": {},
   "outputs": [],
   "source": [
    "# Keyword arguments\n",
    "\n",
    "def birthday(name='Friend',  age=None):\n",
    "    s =\"Happy birthday, %s\"  % name\n",
    "    if age:\n",
    "        s+=  \",  you're  %d years old\" %age\n",
    "    return s+ '!'"
   ]
  },
  {
   "cell_type": "code",
   "execution_count": 60,
   "id": "9ccc28f6",
   "metadata": {},
   "outputs": [
    {
     "data": {
      "text/plain": [
       "\"Happy birthday, james,  you're  55 years old!\""
      ]
     },
     "execution_count": 60,
     "metadata": {},
     "output_type": "execute_result"
    }
   ],
   "source": [
    "birthday('james', 55)"
   ]
  },
  {
   "cell_type": "code",
   "execution_count": 66,
   "id": "c6dd5064",
   "metadata": {},
   "outputs": [],
   "source": [
    "dog = {'name':'Foxy', 'age': 1}"
   ]
  },
  {
   "cell_type": "code",
   "execution_count": 67,
   "id": "f7d96aaa",
   "metadata": {},
   "outputs": [
    {
     "data": {
      "text/plain": [
       "{'name': 'Foxy', 'age': 1}"
      ]
     },
     "execution_count": 67,
     "metadata": {},
     "output_type": "execute_result"
    }
   ],
   "source": [
    "dog"
   ]
  },
  {
   "cell_type": "code",
   "execution_count": 68,
   "id": "352bddfb",
   "metadata": {},
   "outputs": [
    {
     "data": {
      "text/plain": [
       "\"Happy birthday, Foxy,  you're  1 years old!\""
      ]
     },
     "execution_count": 68,
     "metadata": {},
     "output_type": "execute_result"
    }
   ],
   "source": [
    "birthday(**dog)"
   ]
  },
  {
   "cell_type": "code",
   "execution_count": null,
   "id": "73d49894",
   "metadata": {},
   "outputs": [],
   "source": [
    " '''\n",
    " When defining function, you can similarly  use  the ** operator to process all off \n",
    " the keywords  supplied to the functionasa single dict.\n",
    " '''"
   ]
  },
  {
   "cell_type": "code",
   "execution_count": 69,
   "id": "33002ca0",
   "metadata": {},
   "outputs": [],
   "source": [
    "def birthday(**kwargs):\n",
    "    s = 'Happy birthday, %s' % kwargs['name']\n",
    "    if kwargs['age']:\n",
    "        s +=  \",You're %d years old\" % kwargs['age']\n",
    "    return  s +  '!'"
   ]
  },
  {
   "cell_type": "code",
   "execution_count": null,
   "id": "7c34109a",
   "metadata": {},
   "outputs": [],
   "source": [
    "# Lambdas:Anonumous"
   ]
  },
  {
   "cell_type": "code",
   "execution_count": 76,
   "id": "f28c4699",
   "metadata": {},
   "outputs": [
    {
     "data": {
      "text/plain": [
       "<function __main__.<lambda>(x)>"
      ]
     },
     "execution_count": 76,
     "metadata": {},
     "output_type": "execute_result"
    }
   ],
   "source": [
    "lambda  x: x + 2"
   ]
  },
  {
   "cell_type": "code",
   "execution_count": 77,
   "id": "5ac82c22",
   "metadata": {},
   "outputs": [
    {
     "data": {
      "text/plain": [
       "9"
      ]
     },
     "execution_count": 77,
     "metadata": {},
     "output_type": "execute_result"
    }
   ],
   "source": [
    "(lambda x: x + 2)(7)"
   ]
  },
  {
   "cell_type": "code",
   "execution_count": 78,
   "id": "f87278e1",
   "metadata": {},
   "outputs": [
    {
     "data": {
      "text/plain": [
       "35"
      ]
     },
     "execution_count": 78,
     "metadata": {},
     "output_type": "execute_result"
    }
   ],
   "source": [
    "(lambda x,y: x + 2 * y)(7,14)"
   ]
  },
  {
   "cell_type": "code",
   "execution_count": 81,
   "id": "10421dc2",
   "metadata": {},
   "outputs": [
    {
     "name": "stdout",
     "output_type": "stream",
     "text": [
      "The Cython extension is already loaded. To reload it, use:\n",
      "  %reload_ext Cython\n"
     ]
    }
   ],
   "source": [
    "%load_ext Cython"
   ]
  },
  {
   "cell_type": "code",
   "execution_count": 80,
   "id": "5988fa19",
   "metadata": {},
   "outputs": [
    {
     "name": "stderr",
     "output_type": "stream",
     "text": [
      "UsageError: %%cython is a cell magic, but the cell body is empty.\n"
     ]
    }
   ],
   "source": [
    "%%cython"
   ]
  },
  {
   "cell_type": "code",
   "execution_count": 91,
   "id": "2db1e410",
   "metadata": {},
   "outputs": [],
   "source": [
    "%%cython \n",
    "\n",
    "bytwo  = lambda int x: x * 2"
   ]
  },
  {
   "cell_type": "code",
   "execution_count": 92,
   "id": "a90751f5",
   "metadata": {},
   "outputs": [
    {
     "data": {
      "text/plain": [
       "8"
      ]
     },
     "execution_count": 92,
     "metadata": {},
     "output_type": "execute_result"
    }
   ],
   "source": [
    "bytwo(4)"
   ]
  },
  {
   "cell_type": "code",
   "execution_count": null,
   "id": "0a87c067",
   "metadata": {},
   "outputs": [],
   "source": [
    "muns = list(range(10))\n",
    "squares = []\n",
    "for _ in muns:\n",
    "    squares.append(_ * _)\n",
    "    \n",
    "    squares\n",
    "    "
   ]
  },
  {
   "cell_type": "code",
   "execution_count": 115,
   "id": "223c9188",
   "metadata": {},
   "outputs": [
    {
     "name": "stdout",
     "output_type": "stream",
     "text": [
      "66\n"
     ]
    }
   ],
   "source": [
    "%%cython \n",
    "\n",
    "cdef add3CY(int x,int y, int z):\n",
    "    return x + y + z\n",
    "\n",
    "\n",
    "\n",
    "\n",
    "print(add3CY(5,56,5))"
   ]
  },
  {
   "cell_type": "code",
   "execution_count": 145,
   "id": "e642476d",
   "metadata": {},
   "outputs": [
    {
     "name": "stdout",
     "output_type": "stream",
     "text": [
      "(13, 4)\n"
     ]
    }
   ],
   "source": [
    "%%cython \n",
    "\n",
    "from libc.math cimport pow, sqrt\n",
    "\n",
    "cdef subtract( v1, v2):\n",
    "    return (v1[0] - v2[0], v1[1] - v2[1])\n",
    "\n",
    "cdef length( v):\n",
    "    return sqrt(v[0]**2 + v[1]**2)\n",
    "\n",
    "cdef add( v1,  v2):\n",
    "    return (v1[0] + v2[0], v1[1] + v2[1])\n",
    "\n",
    "cdef distanceC( v1, v2):\n",
    "    return length(subtract(v1, v2))\n",
    "\n",
    "\n",
    "\n",
    "\n",
    "\n",
    "for n in range(-12, 15):\n",
    "    for m in range(-14, 13):\n",
    "        if distanceC((n,m), (1,-1)) == 13 and n > m > 0:\n",
    "            print((n,m))"
   ]
  },
  {
   "cell_type": "code",
   "execution_count": 139,
   "id": "4ca25b1b",
   "metadata": {},
   "outputs": [],
   "source": []
  },
  {
   "cell_type": "code",
   "execution_count": null,
   "id": "1dcd7e6f",
   "metadata": {},
   "outputs": [],
   "source": []
  }
 ],
 "metadata": {
  "kernelspec": {
   "display_name": "Python 3 (ipykernel)",
   "language": "python",
   "name": "python3"
  },
  "language_info": {
   "codemirror_mode": {
    "name": "ipython",
    "version": 3
   },
   "file_extension": ".py",
   "mimetype": "text/x-python",
   "name": "python",
   "nbconvert_exporter": "python",
   "pygments_lexer": "ipython3",
   "version": "3.8.13"
  }
 },
 "nbformat": 4,
 "nbformat_minor": 5
}
