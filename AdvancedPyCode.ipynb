{
 "cells": [
  {
   "cell_type": "code",
   "execution_count": null,
   "id": "3d4b2527",
   "metadata": {},
   "outputs": [],
   "source": [
    "\n"
   ]
  },
  {
   "cell_type": "code",
   "execution_count": 213,
   "id": "c290c692",
   "metadata": {},
   "outputs": [],
   "source": [
    "''' \n",
    "Chapter One Benchmarking and Profiling. Profiliung is the rechnique that allows us to pinpoint most resource-intensive spots in\n",
    "an application A profiler is a program that runs an application and monitors how long each function takes to execute.\n",
    "BENCHMARKS: Are small scripts used to access the total execution time of your aplication\n",
    "\n",
    "The mantra here is \n",
    "* Make it run, Make it right, Make it fast.\n",
    "'''\n",
    "# we will by designing the application in an obnject-oriantatied way.\n",
    "class Particle:\n",
    "    def __init__(self, x, y, ang_vel): # we accept + and - numbers for all paramenters\n",
    "        self.x = x\n",
    "        self.y = y\n",
    "        self.ang_vel = ang_vel\n",
    "        \n",
    "\n",
    "# The full ParticleSimulation implementation:\n",
    "\n",
    "\n",
    "class ParticleSimulator:\n",
    "\n",
    "    def __init__(self, particles):\n",
    "        self.particles = particles\n",
    "\n",
    "    def evolve(self, dt):\n",
    "        timestep = 0.00001\n",
    "        nsteps = int(dt/timestep)\n",
    "        for i in range(nsteps):\n",
    "            for p in self.particles:\n",
    "                # 1. calculate the direction\n",
    "                norm = (p.x**2 + p.y**2) ** 0.5\n",
    "                v_x = -p.y/norm\n",
    "                v_y = p.x/norm\n",
    "\n",
    "                #2. calculate the displacement\n",
    "                d_x = timestep * p.ang_vel * v_x\n",
    "                d_y = timestep * p.ang_vel * v_y\n",
    "\n",
    "                p.x += d_x ; p.y += d_y\n",
    "                # 3. repeat for all the time steps\n"
   ]
  },
  {
   "cell_type": "code",
   "execution_count": 214,
   "id": "1529977d",
   "metadata": {},
   "outputs": [],
   "source": [
    "from matplotlib import pyplot as plt \n",
    "from matplotlib import animation\n",
    "\n",
    "def visualize(simulator):\n",
    "    \n",
    "    X = [p.x for p in simulator.particles]\n",
    "    Y = [p.y for p in simulator.particles]\n",
    "\n",
    "    fig = plt.figure()\n",
    "\n",
    "    ax = plt.subplot(111, aspect='equal')\n",
    "    line, = ax.plot(X, Y, 'ro')\n",
    "    plt.xlim(-1, 1)\n",
    "    plt.ylim(-1, 1)\n",
    "\n",
    "    def init():\n",
    "        line.set_data([], [])\n",
    "        return line, # the coma is important!\n",
    "\n",
    "    def animate(i):\n",
    "        # We let the particle evolve for 0.01 time units\n",
    "\n",
    "        simulator.evolve(0.01)\n",
    "        X = [p.x for p in simulator.particles]\n",
    "        Y = [p.y for p in simulator.particles]\n",
    "\n",
    "        line.set_data(X, Y)\n",
    "        return line,\n",
    "    \n",
    "\n",
    "\n",
    "    anim = animation.FuncAnimation(fig, animate, init_func=init, blit=True, interval=10)\n",
    "    \n",
    "    plt.show()"
   ]
  },
  {
   "cell_type": "code",
   "execution_count": 215,
   "id": "85064b43",
   "metadata": {},
   "outputs": [
    {
     "data": {
      "image/png": "[encoded data removed]",
      "text/plain": [
       "<Figure size 432x288 with 1 Axes>"
      ]
     },
     "metadata": {
      "needs_background": "light"
     },
     "output_type": "display_data"
    }
   ],
   "source": [
    "def test_visualize():\n",
    "    particles = [Particle(0.3, 0.5, 1),\n",
    "                 Particle(0.0, -0.5, -1),\n",
    "                 Particle(-0.1, -0.4, 3)]\n",
    "    \n",
    "    simulator = ParticleSimulator(particles)\n",
    "    visualize(simulator)\n",
    "\n",
    "if __name__ == '__main__':\n",
    "    test_visualize()"
   ]
  },
  {
   "cell_type": "code",
   "execution_count": 216,
   "id": "c94c0d24",
   "metadata": {},
   "outputs": [],
   "source": [
    "# Writing better tests and benchmarks with pytest-benchmark:\n",
    "\n",
    "def test_evolve():\n",
    "    particles = [Particle(0.3, 0.5, +1),\n",
    "                 Particle(0.0, -0.5, -1),\n",
    "                 Particle(-0.1, -0.4, +3)]\n",
    "    \n",
    "    simulator = ParticleSimulator(particles)\n",
    "\n",
    "    simulator.evolve(0.1)\n",
    "    p0, p1, p2 = particles\n",
    "\n",
    "    def fequal(a, b, eps=1e-5):\n",
    "        return abs(a - b) < eps \n",
    "\n",
    "    assert fequal(p0.x, 0.210269)\n",
    "    assert fequal(p0.y, 0.543863)\n",
    "\n",
    "    assert fequal(p1.x, -0.099334)\n",
    "    assert fequal(p1.y, -0.490034)\n",
    "\n",
    "    assert fequal(p2.x, 0.191358)\n",
    "    assert fequal(p2.y, -0.365227)\n"
   ]
  },
  {
   "cell_type": "code",
   "execution_count": 217,
   "id": "b535da0e",
   "metadata": {},
   "outputs": [
    {
     "name": "stdout",
     "output_type": "stream",
     "text": [
      "         751 function calls in 0.900 seconds\n",
      "\n",
      "   Ordered by: standard name\n",
      "\n",
      "   ncalls  tottime  percall  cumtime  percall filename:lineno(function)\n",
      "        1    0.000    0.000    0.900    0.900 1559122893.py:7(<module>)\n",
      "        1    0.000    0.000    0.000    0.000 1559122893.py:9(<module>)\n",
      "        1    0.000    0.000    0.900    0.900 2930338771.py:117(benchmark)\n",
      "        1    0.000    0.000    0.000    0.000 2930338771.py:118(<listcomp>)\n",
      "      100    0.000    0.000    0.000    0.000 4007258775.py:11(__init__)\n",
      "        1    0.000    0.000    0.000    0.000 4007258775.py:22(__init__)\n",
      "        1    0.900    0.900    0.900    0.900 4007258775.py:25(evolve)\n",
      "        2    0.000    0.000    0.000    0.000 codeop.py:140(__call__)\n",
      "        4    0.000    0.000    0.000    0.000 compilerop.py:166(extra_flags)\n",
      "        2    0.000    0.000    0.000    0.000 contextlib.py:107(__enter__)\n",
      "        2    0.000    0.000    0.000    0.000 contextlib.py:116(__exit__)\n",
      "        2    0.000    0.000    0.000    0.000 contextlib.py:237(helper)\n",
      "        2    0.000    0.000    0.000    0.000 contextlib.py:81(__init__)\n",
      "        2    0.000    0.000    0.000    0.000 hooks.py:103(__call__)\n",
      "        2    0.000    0.000    0.000    0.000 hooks.py:168(pre_run_code_hook)\n",
      "        2    0.000    0.000    0.000    0.000 interactiveshell.py:117(<lambda>)\n",
      "        2    0.000    0.000    0.000    0.000 interactiveshell.py:1278(user_global_ns)\n",
      "        2    0.000    0.000    0.000    0.000 interactiveshell.py:3342(compare)\n",
      "        2    0.000    0.000    0.900    0.450 interactiveshell.py:3400(run_code)\n",
      "        2    0.000    0.000    0.000    0.000 ipstruct.py:125(__getattr__)\n",
      "      300    0.000    0.000    0.000    0.000 random.py:372(uniform)\n",
      "        2    0.000    0.000    0.000    0.000 traitlets.py:535(get)\n",
      "        2    0.000    0.000    0.000    0.000 traitlets.py:566(__get__)\n",
      "        2    0.000    0.000    0.000    0.000 {built-in method builtins.compile}\n",
      "        2    0.000    0.000    0.900    0.450 {built-in method builtins.exec}\n",
      "        4    0.000    0.000    0.000    0.000 {built-in method builtins.getattr}\n",
      "        4    0.000    0.000    0.000    0.000 {built-in method builtins.next}\n",
      "        1    0.000    0.000    0.000    0.000 {method 'disable' of '_lsprof.Profiler' objects}\n",
      "      300    0.000    0.000    0.000    0.000 {method 'random' of '_random.Random' objects}\n",
      "\n",
      "\n"
     ]
    }
   ],
   "source": [
    "import cProfile\n",
    "\n",
    "pr =  cProfile.Profile()\n",
    "\n",
    "pr.enable()\n",
    "\n",
    "benchmark()\n",
    "\n",
    "pr.disable()\n",
    "\n",
    "pr.print_stats()"
   ]
  },
  {
   "cell_type": "code",
   "execution_count": 218,
   "id": "7dd17617",
   "metadata": {},
   "outputs": [],
   "source": [
    "''' \n",
    "Optimizing our code \n",
    "Now that we have identified where exactly our app is spending most its time, make some changes and assess the change is performance.\n",
    "\n",
    "To express the equations of motion in terms of radius, r, and angle , alpha. (instead of x and y)\n",
    "then calculate the points on a circle using the following equation\n",
    "'''\n",
    "r = 11\n",
    "\n",
    "alpha = 7 \n",
    "from math import cos, sin\n",
    "\n",
    "x = r * cos(alpha)\n",
    "\n",
    "y = r * sin(alpha)\n",
    "\n"
   ]
  },
  {
   "cell_type": "code",
   "execution_count": 219,
   "id": "585d5e43",
   "metadata": {},
   "outputs": [
    {
     "ename": "SyntaxError",
     "evalue": "invalid syntax (Temp/ipykernel_26960/1428581420.py, line 1)",
     "output_type": "error",
     "traceback": [
      "\u001b[1;36m  File \u001b[1;32m\"C:\\Users\\JBarr\\AppData\\Local\\Temp/ipykernel_26960/1428581420.py\"\u001b[1;36m, line \u001b[1;32m1\u001b[0m\n\u001b[1;33m    def (self, dt):\u001b[0m\n\u001b[1;37m        ^\u001b[0m\n\u001b[1;31mSyntaxError\u001b[0m\u001b[1;31m:\u001b[0m invalid syntax\n"
     ]
    }
   ],
   "source": [
    "def (self, dt):\n",
    "    timestep = 0.00001\n",
    "    nsteps = int(dt/timestep)\n",
    "\n",
    "    # Loop order is changed\n",
    "    for p in self.particles:\n",
    "        t_x_ang = timestep * p.ang_vel\n",
    "        for i in range(nsteps):\n",
    "            norm = (p.x**2 + p.y**2)**0.5\n",
    "            p.x, p.y = (p.x - t_x_ang * p.y/norm,\n",
    "                        p.y + t_x_ang * p.x/norm)\n"
   ]
  },
  {
   "cell_type": "code",
   "execution_count": null,
   "id": "05ca7b78",
   "metadata": {},
   "outputs": [
    {
     "ename": "NameError",
     "evalue": "name 'evolve_fast' is not defined",
     "output_type": "error",
     "traceback": [
      "\u001b[1;31m---------------------------------------------------------------------------\u001b[0m",
      "\u001b[1;31mNameError\u001b[0m                                 Traceback (most recent call last)",
      "\u001b[1;32m~\\AppData\\Local\\Temp/ipykernel_26960/2465294497.py\u001b[0m in \u001b[0;36m<module>\u001b[1;34m\u001b[0m\n\u001b[1;32m----> 1\u001b[1;33m \u001b[0mevolve_fast\u001b[0m\u001b[1;33m(\u001b[0m\u001b[0mself\u001b[0m\u001b[1;33m,\u001b[0m \u001b[0mdt\u001b[0m\u001b[1;33m)\u001b[0m\u001b[1;33m\u001b[0m\u001b[1;33m\u001b[0m\u001b[0m\n\u001b[0m",
      "\u001b[1;31mNameError\u001b[0m: name 'evolve_fast' is not defined"
     ]
    }
   ],
   "source": [
    "evolve_fast(self, dt) "
   ]
  },
  {
   "cell_type": "code",
   "execution_count": null,
   "id": "ea9a9285",
   "metadata": {},
   "outputs": [],
   "source": [
    "# The dis module: to inspect how the code is converted to bytecode, we can use the dis module\n",
    "\n",
    "import dis\n",
    "\n",
    "# will print for each line in the function, a list of bytecode instructions.\n",
    "\n",
    "#dis.dis(ParticleSimulator.evolve)[2]"
   ]
  },
  {
   "cell_type": "code",
   "execution_count": null,
   "id": "81abb621",
   "metadata": {},
   "outputs": [],
   "source": [
    "\n"
   ]
  },
  {
   "cell_type": "code",
   "execution_count": null,
   "id": "616f6182",
   "metadata": {},
   "outputs": [
    {
     "data": {
      "text/plain": [
       "[0, 1, 2, 3, 4, 5, 6, 7, 8, 9, 10, 11, 12, 13, 14]"
      ]
     },
     "metadata": {},
     "output_type": "display_data"
    },
    {
     "data": {
      "text/plain": [
       "[1, 2, 3, 4, 5, 6, 7, 8, 9, 10, 11, 12, 13, 14, 15]"
      ]
     },
     "metadata": {},
     "output_type": "display_data"
    }
   ],
   "source": [
    "# Pure Python Optimizations \n",
    " \n",
    "n = list(range(15))\n",
    "display(n)\n",
    "\n",
    "for i, _ in enumerate(n):\n",
    "    n[i] += 1\n",
    "\n",
    "display(n)"
   ]
  },
  {
   "cell_type": "code",
   "execution_count": null,
   "id": "4ba0dfbe",
   "metadata": {},
   "outputs": [
    {
     "data": {
      "text/plain": [
       "2"
      ]
     },
     "execution_count": 112,
     "metadata": {},
     "output_type": "execute_result"
    }
   ],
   "source": [
    "# bisect module allows fast searches on sorted arrays. \n",
    "# The bisect.bisect function can be used on a sorted list to find the index to place and elemnet \n",
    "# while maintaining the array in sorted order\n",
    "\n",
    "import bisect\n",
    "\n",
    "collection = [1, 2, 4, 5, 6]\n",
    "\n",
    "# This function uses the binary search algo with O(log(N)) running time. \n",
    "# running time will increase by a constant amount every time you double your input size.\n",
    "\n",
    "bisect.bisect(collection, 3)"
   ]
  },
  {
   "cell_type": "code",
   "execution_count": null,
   "id": "2be83eb3",
   "metadata": {},
   "outputs": [],
   "source": [
    "\"\"\"\n",
    "If value we are trying to insert is already present in list. the function will return location after\n",
    "already present value. Therefore, we can use the bisect.bisect_left variant, returning correct index.\n",
    "\"\"\"\n",
    "\n",
    "def index_bisect(a, x):\n",
    "    'Locate the leftmost value exactly equal to a'\n",
    "    i = bisect.bisect_left(a,  x)\n",
    "    if i != len(a) and a[i] == x:\n",
    "        return i\n",
    "        raise ValueError"
   ]
  },
  {
   "cell_type": "code",
   "execution_count": null,
   "id": "74ec4503",
   "metadata": {},
   "outputs": [
    {
     "data": {
      "text/plain": [
       "647163784322000273"
      ]
     },
     "metadata": {},
     "output_type": "display_data"
    },
    {
     "data": {
      "text/plain": [
       "3"
      ]
     },
     "metadata": {},
     "output_type": "display_data"
    }
   ],
   "source": [
    "\"\"\"\n",
    "Dictionaries: extremely versatile and extensively used in the py language.\n",
    "Dictionaries are implemented as hash maps\n",
    "\"\"\" \n",
    "\n",
    "display(hash('hello'))\n",
    "\n",
    "\n",
    "# To restrict the number to be a certain range use (%) operator\n",
    "\n",
    "display(hash('hello') % 10)"
   ]
  },
  {
   "cell_type": "code",
   "execution_count": null,
   "id": "0c679e03",
   "metadata": {},
   "outputs": [],
   "source": [
    "\"\"\"\n",
    "A dictionary can be used to efficiently count unique elements in a list.\n",
    "In this example, we define the counter_dict function that takes a list\n",
    "returning a dict containing the nunber of occurrences of each value in the list.\n",
    "\"\"\"\n",
    "\n",
    "def counter_dict(items):\n",
    "    counter = {}\n",
    "    for item in items:\n",
    "        if item not in counter:\n",
    "            counter[item] = 1\n",
    "        else:\n",
    "            counter[item] += 1\n",
    "        return counter\n"
   ]
  },
  {
   "cell_type": "code",
   "execution_count": null,
   "id": "006858cc",
   "metadata": {},
   "outputs": [],
   "source": [
    "\"\"\"\n",
    "The code can be simplified using collections.defaultdict.\n",
    "Will produce dictionaries where each new key is automatically assigned a default value\n",
    "\"\"\"\n",
    "\n",
    "from collections import defaultdict\n",
    "\n",
    "def counter_defaultdict(items):\n",
    "    counter = defaultdict(int)\n",
    "    for item in items:\n",
    "        counter[item] += 1\n",
    "    return counter"
   ]
  },
  {
   "cell_type": "code",
   "execution_count": null,
   "id": "03f1b8d6",
   "metadata": {},
   "outputs": [
    {
     "data": {
      "text/plain": [
       "Counter({0: 1, 1: 1, 2: 1, 3: 1, 4: 1, 5: 1, 6: 1, 7: 1, 8: 1, 9: 1})"
      ]
     },
     "execution_count": 117,
     "metadata": {},
     "output_type": "execute_result"
    }
   ],
   "source": [
    "\"\"\"\n",
    "The collections module also includes a Counter class that can be used for the same purpose\n",
    "\n",
    "\"\"\"\n",
    "items = range(10)\n",
    "from collections import Counter\n",
    "\n",
    "counter = Counter(items)\n",
    "counter"
   ]
  },
  {
   "cell_type": "code",
   "execution_count": null,
   "id": "65d81500",
   "metadata": {},
   "outputs": [
    {
     "data": {
      "text/plain": [
       "['the cat is under the table', 'the dog is under the table']"
      ]
     },
     "execution_count": 118,
     "metadata": {},
     "output_type": "execute_result"
    }
   ],
   "source": [
    "\"\"\"\n",
    "Bulding an in-memory search index using a hash map\n",
    "Ditionaries can be used to quickly search for a word in a list docs, similar to search engine.\n",
    "build an inverted index based on a dictionary of lists\n",
    "\"\"\"\n",
    "docs = ['the cat is under the table',\n",
    "        'the dog is under the table',\n",
    "        'cats and dogs smell roses'\n",
    "        'Carla eats an apple']\n",
    "\n",
    "# simple way to retrieve all documents that match a query is scan each document and test for the presence of a word\n",
    "\n",
    "matches = [doc for doc in docs if 'table' in doc]\n",
    "\n",
    "matches"
   ]
  },
  {
   "cell_type": "code",
   "execution_count": null,
   "id": "0a7dc926",
   "metadata": {},
   "outputs": [
    {
     "data": {
      "text/plain": [
       "[0, 1]"
      ]
     },
     "metadata": {},
     "output_type": "display_data"
    },
    {
     "data": {
      "text/plain": [
       "['the cat is under the table', 'the dog is under the table']"
      ]
     },
     "metadata": {},
     "output_type": "display_data"
    }
   ],
   "source": [
    "# building and index\n",
    "index = {}\n",
    "\n",
    "for i, doc in enumerate(docs):\n",
    "    # We iterate over each term in the document\n",
    "    for word in doc.split():\n",
    "        # We build a list containing the indices, where term appears\n",
    "        if word not in index:\n",
    "            index[word] = [i]\n",
    "        else:\n",
    "            index[word].append(i)\n",
    "\n",
    "# After bulding index, doing a query is a simple dic look up.\n",
    "\n",
    "index_result = index['table']\n",
    "display(index_result)\n",
    "\n",
    "result_documents = [docs[i] for i in index_result]\n",
    "display(result_documents)\n"
   ]
  },
  {
   "cell_type": "code",
   "execution_count": null,
   "id": "5a9cb045",
   "metadata": {},
   "outputs": [
    {
     "data": {
      "text/plain": [
       "{'javier'}"
      ]
     },
     "execution_count": 120,
     "metadata": {},
     "output_type": "execute_result"
    }
   ],
   "source": [
    "# Sets: cointain only unique elements.\n",
    "\n",
    "#x = list(range(500)) + list(range(500))\n",
    "\n",
    "x_solo = set(['javier', 'javier'])\n",
    "\n",
    "x_solo"
   ]
  },
  {
   "cell_type": "code",
   "execution_count": null,
   "id": "71798b77",
   "metadata": {},
   "outputs": [
    {
     "data": {
      "text/plain": [
       "{0}"
      ]
     },
     "execution_count": 121,
     "metadata": {},
     "output_type": "execute_result"
    }
   ],
   "source": [
    "# Building an index using sets\n",
    "\n",
    "index = {}\n",
    "\n",
    "for i, doc in enumerate(docs):\n",
    "    # We iterate over each term in documents\n",
    "    for word in doc.split():\n",
    "        # build a set containing the indices, where term appears\n",
    "        if word not in index:\n",
    "            index[word] = {i}\n",
    "        else:\n",
    "            index[word].add(i)\n",
    "# Querying the documents containing both 'cat' and 'table'\n",
    "index['cat'].intersection(index['table'])"
   ]
  },
  {
   "cell_type": "code",
   "execution_count": null,
   "id": "b1333ac4",
   "metadata": {},
   "outputs": [
    {
     "data": {
      "text/plain": [
       "[3, 3, 6, 4, 5, 10]"
      ]
     },
     "metadata": {},
     "output_type": "display_data"
    },
    {
     "data": {
      "text/plain": [
       "3"
      ]
     },
     "metadata": {},
     "output_type": "display_data"
    },
    {
     "data": {
      "text/plain": [
       "[3, 4, 6, 10, 5, 1991]"
      ]
     },
     "metadata": {},
     "output_type": "display_data"
    }
   ],
   "source": [
    "# Heaps: built using the procedures contained in haepq module on an underlying list.\n",
    "\n",
    "import heapq\n",
    "\n",
    "heapq_collection =  [10, 3, 3, 4,  5, 6]\n",
    "\n",
    "heapq.heapify(heapq_collection)\n",
    "\n",
    "display(heapq_collection)\n",
    "\n",
    "# To perform insertion and extraction operations on  the heap we can use the heapq.heappush and heapq.heappop\n",
    "# function will extract the min val in collection in O(log(N)) time \n",
    "\n",
    "display(heapq.heappop(heapq_collection))\n",
    "\n",
    "# Similarly, you can push with\n",
    "\n",
    "heapq.heappush(heapq_collection, 1991)\n",
    "\n",
    "\n",
    "display(heapq_collection)\n"
   ]
  },
  {
   "cell_type": "code",
   "execution_count": null,
   "id": "f78d954c",
   "metadata": {},
   "outputs": [
    {
     "data": {
      "text/plain": [
       "1"
      ]
     },
     "execution_count": 123,
     "metadata": {},
     "output_type": "execute_result"
    }
   ],
   "source": [
    "\"\"\"\n",
    "Another optionis queue.PriorityQueue class that,is thread and process-safe.\n",
    "The PriorityQueue class can be filled up with using the PriorityQueue.put method,\n",
    "while PriorityQueue.get can be used to be extract the minimin value in collection\n",
    "\"\"\"\n",
    "\n",
    "from queue import PriorityQueue\n",
    "\n",
    "queue = PriorityQueue()\n",
    "for element in collection:\n",
    "    queue.put(element)\n",
    "\n",
    "queue.get()"
   ]
  },
  {
   "cell_type": "code",
   "execution_count": null,
   "id": "4cfe15bd",
   "metadata": {},
   "outputs": [
    {
     "data": {
      "text/plain": [
       "(1, 'priority 1')"
      ]
     },
     "execution_count": 124,
     "metadata": {},
     "output_type": "execute_result"
    }
   ],
   "source": [
    "queue = PriorityQueue()\n",
    "queue.put((3, \"priority 3\"))\n",
    "queue.put((2, \"priority 2\"))\n",
    "queue.put((1, \"priority 1\"))\n",
    "\n",
    "queue.get()\n"
   ]
  },
  {
   "cell_type": "code",
   "execution_count": null,
   "id": "0c387e2f",
   "metadata": {},
   "outputs": [],
   "source": [
    "# Tries(sometimes called a prefix tree).\n",
    "# Tries are extremely fast at matching a list of strings against a prefix.\n",
    "\n",
    "\n",
    "from random import choice\n",
    "from string import ascii_uppercase\n",
    "from patricia import trie\n",
    "\n",
    "def random_string(length):\n",
    "    '''Produce a random string made of *length* uppercase ascii chars'''\n",
    "    return ''.join(choice(ascii_uppercase) for i in range(length))"
   ]
  },
  {
   "cell_type": "code",
   "execution_count": null,
   "id": "e7a8c7ed",
   "metadata": {},
   "outputs": [
    {
     "name": "stdout",
     "output_type": "stream",
     "text": [
      "49.5 µs ± 3.08 µs per loop (mean ± std. dev. of 7 runs, 10000 loops each)\n"
     ]
    }
   ],
   "source": [
    "strings = [random_string(32) for i in range(500)]\n",
    "\n",
    "matches = [s for s in strings if s.startswith('AA')]\n",
    "\n",
    "# List comprehension and str.startwith are already very optimized operations\n",
    "\n",
    "%timeit [s for s in strings if s.startswith('AA')]"
   ]
  },
  {
   "cell_type": "code",
   "execution_count": null,
   "id": "e761a9c2",
   "metadata": {},
   "outputs": [
    {
     "name": "stdout",
     "output_type": "stream",
     "text": [
      "3.88 µs ± 364 ns per loop (mean ± std. dev. of 7 runs, 100000 loops each)\n"
     ]
    }
   ],
   "source": [
    "strings_dict = {s:0 for s in strings}\n",
    "\n",
    "# A dictionary where all values are 0\n",
    "\n",
    "strings_trie = trie(**strings_dict)\n",
    "\n",
    "# To query patricia-trie for a matching prefix\n",
    "\n",
    "iterMatches = list(strings_trie.iter('AA'))\n",
    "\n",
    "# Now we time \n",
    "\n",
    "%timeit list(strings_trie.iter('AA'))"
   ]
  },
  {
   "cell_type": "code",
   "execution_count": null,
   "id": "43e032e9",
   "metadata": {},
   "outputs": [],
   "source": []
  },
  {
   "cell_type": "code",
   "execution_count": null,
   "id": "679100a0",
   "metadata": {},
   "outputs": [
    {
     "data": {
      "text/plain": [
       "' \\nCaching and memoization\\nCaching is a great technique used to improve the performance of a wide range of applications.\\n\\nGiven the usefulness of this technique,\\nthe Py standard library includes a simple inmemory cache in functools module\\n\\n'"
      ]
     },
     "execution_count": 128,
     "metadata": {},
     "output_type": "execute_result"
    }
   ],
   "source": [
    "\"\"\" \n",
    "Caching and memoization\n",
    "Caching is a great technique used to improve the performance of a wide range of applications.\n",
    "\n",
    "Given the usefulness of this technique,\n",
    "the Py standard library includes a simple inmemory cache in functools module\n",
    "\n",
    "\"\"\"\n"
   ]
  },
  {
   "cell_type": "code",
   "execution_count": null,
   "id": "81964c63",
   "metadata": {},
   "outputs": [
    {
     "name": "stdout",
     "output_type": "stream",
     "text": [
      "Calculating 4 + 2\n",
      "6\n",
      "Calculating 1 + 2\n",
      "3\n"
     ]
    }
   ],
   "source": [
    "\n",
    "from functools import lru_cache\n",
    "\n",
    "@lru_cache()\n",
    "def sum2(a, b):\n",
    "    print(\"Calculating {} + {}\".format(a, b))\n",
    "    return a + b \n",
    "\n",
    "print(sum2(4, 2))\n",
    "print(sum2(1, 2))"
   ]
  },
  {
   "cell_type": "code",
   "execution_count": null,
   "id": "6959da6e",
   "metadata": {},
   "outputs": [
    {
     "data": {
      "text/plain": [
       "'\\nThe lru_cache deco also provides other basic features. To restrict the size od the cache,\\none can set the number of elements we inted to maintain through the max_size argument.\\nIf we want unbounded cache specify None.\\n'"
      ]
     },
     "execution_count": 139,
     "metadata": {},
     "output_type": "execute_result"
    }
   ],
   "source": [
    "\n",
    "\"\"\"\n",
    "The lru_cache deco also provides other basic features. To restrict the size od the cache,\n",
    "one can set the number of elements we inted to maintain through the max_size argument.\n",
    "If we want unbounded cache specify None.\n",
    "\"\"\"\n"
   ]
  },
  {
   "cell_type": "code",
   "execution_count": null,
   "id": "93a71bf7",
   "metadata": {},
   "outputs": [
    {
     "name": "stdout",
     "output_type": "stream",
     "text": [
      "Calculating 4 + 2\n",
      "8\n",
      "Calculating 1 + 2\n",
      "2\n"
     ]
    }
   ],
   "source": [
    "@lru_cache(maxsize=8)\n",
    "# this way we execute sum2 with different arguments,cache will reach a max size\n",
    "# and keep requesting more calculations, new values replacing older values in cache\n",
    "def mul2(a, b):\n",
    "    print(\"Calculating {} + {}\".format(a, b))\n",
    "    return a * b \n",
    "\n",
    "print(mul2(4, 2))\n",
    "print(mul2(1, 2))"
   ]
  },
  {
   "cell_type": "code",
   "execution_count": null,
   "id": "5d0c626d",
   "metadata": {},
   "outputs": [
    {
     "data": {
      "text/plain": [
       "CacheInfo(hits=0, misses=2, maxsize=128, currsize=2)"
      ]
     },
     "execution_count": 141,
     "metadata": {},
     "output_type": "execute_result"
    }
   ],
   "source": [
    "\"\"\"\n",
    "The lru_cache decorator also adds extra functionalities to the docorated fucntion.\n",
    "Examine cache performance using cache_info method, and possible to reset cache with cache_clear method.\n",
    "\"\"\"\n",
    "\n",
    "sum2.cache_info()"
   ]
  },
  {
   "cell_type": "code",
   "execution_count": null,
   "id": "3154d31a",
   "metadata": {},
   "outputs": [],
   "source": [
    "sum2.cache_clear()"
   ]
  },
  {
   "cell_type": "code",
   "execution_count": null,
   "id": "d57e6a96",
   "metadata": {},
   "outputs": [
    {
     "name": "stdout",
     "output_type": "stream",
     "text": [
      "3.31 ms ± 97.4 µs per loop (mean ± std. dev. of 7 runs, 100 loops each)\n"
     ]
    }
   ],
   "source": [
    "# Example of benefit from caching. \n",
    "# Define fibonacci fun and time it\n",
    "\n",
    "def fibona(n):\n",
    "    if n < 1:\n",
    "        return 1\n",
    "    else:\n",
    "        return fibona(n - 1) + fibona(n - 2)\n",
    "\n",
    "%timeit fibona(20)"
   ]
  },
  {
   "cell_type": "code",
   "execution_count": null,
   "id": "ad573a1b",
   "metadata": {},
   "outputs": [
    {
     "name": "stdout",
     "output_type": "stream",
     "text": [
      "Fibona took 0.00 us\n"
     ]
    }
   ],
   "source": [
    "import timeit \n",
    "\n",
    "setup_code = '''\n",
    "\n",
    "from functools import lru_cache\n",
    "from __main__ import fibona\n",
    "fibona_memoized = lru_cache(maxsize=None)(fibona)\n",
    "'''\n",
    "\n",
    "results = timeit.repeat(\n",
    "    'fibona_memoized(20)',\n",
    "    setup=setup_code,\n",
    "    repeat=1000,\n",
    "    number=1)\n",
    "\n",
    "print(\"Fibona took {:.2f} us\".format(min(results)))"
   ]
  },
  {
   "cell_type": "code",
   "execution_count": null,
   "id": "a55439a4",
   "metadata": {},
   "outputs": [],
   "source": [
    "# Joblib provides a simple on-disk cache is joblib. used similar as lru_cache,\n",
    "# results will stored on disk and will persist between runs."
   ]
  },
  {
   "cell_type": "code",
   "execution_count": null,
   "id": "a92072c4",
   "metadata": {},
   "outputs": [],
   "source": [
    "from joblib import Memory\n",
    "\n",
    "memory = Memory(location='.')"
   ]
  },
  {
   "cell_type": "code",
   "execution_count": null,
   "id": "8beec865",
   "metadata": {},
   "outputs": [],
   "source": [
    "# results will be stored on-disk in the directory specified\n",
    "# by the cachedir argument during Memory initialization. cached results persist over runs.\n",
    "# allows limit of recomputation only when certain arguments change,\n",
    "# and the resulting decorated function supports basic functionalities to clear and analyze the cache.\n",
    "# Perhaps the best joblib feature is the intelligent hashing algo proving\n",
    "# efficient memoization of functions that operate on np arrays.\n",
    " \n",
    "\n",
    "\n",
    "@memory.cache\n",
    "def Msum2(a, b):\n",
    "    return a + b\n"
   ]
  },
  {
   "cell_type": "code",
   "execution_count": null,
   "id": "5223f0b5",
   "metadata": {},
   "outputs": [
    {
     "name": "stdout",
     "output_type": "stream",
     "text": [
      "________________________________________________________________________________\n",
      "[Memory] Calling __main__-C%3A-Users-JBarr-AppData-Local-Temp-ipykernel_26960-2913515201.Msum2...\n",
      "Msum2(5, 5)\n",
      "____________________________________________________________Msum2 - 0.0s, 0.0min\n"
     ]
    },
    {
     "data": {
      "text/plain": [
       "10"
      ]
     },
     "execution_count": 162,
     "metadata": {},
     "output_type": "execute_result"
    }
   ],
   "source": [
    "\n",
    "\n",
    "Msum2(5,5)"
   ]
  },
  {
   "cell_type": "code",
   "execution_count": null,
   "id": "96f30372",
   "metadata": {},
   "outputs": [],
   "source": [
    "# Comprahansions and generators\n",
    "# We will explore strategies to speed up Py loops using comprahansions and generators.\n",
    "\n",
    "def loop():\n",
    "    res = []\n",
    "    for i in range(100000):\n",
    "        res.append( i * i)\n",
    "    return sum(res)\n",
    "\n",
    "def comprehension():\n",
    "    return sum([i * i for i in range(100000)])\n",
    "\n",
    "def generator():\n",
    "    return sum(i * i for i in range(100000))"
   ]
  },
  {
   "cell_type": "code",
   "execution_count": null,
   "id": "c0af266b",
   "metadata": {},
   "outputs": [
    {
     "name": "stdout",
     "output_type": "stream",
     "text": [
      "12.2 ms ± 180 µs per loop (mean ± std. dev. of 7 runs, 100 loops each)\n"
     ]
    }
   ],
   "source": [
    "%timeit loop()\n"
   ]
  },
  {
   "cell_type": "code",
   "execution_count": null,
   "id": "88808a1f",
   "metadata": {},
   "outputs": [
    {
     "name": "stdout",
     "output_type": "stream",
     "text": [
      "9.23 ms ± 127 µs per loop (mean ± std. dev. of 7 runs, 100 loops each)\n"
     ]
    }
   ],
   "source": [
    "%timeit comprehension()"
   ]
  },
  {
   "cell_type": "code",
   "execution_count": null,
   "id": "c9b174fa",
   "metadata": {},
   "outputs": [
    {
     "name": "stdout",
     "output_type": "stream",
     "text": [
      "9.01 ms ± 105 µs per loop (mean ± std. dev. of 7 runs, 100 loops each)\n"
     ]
    }
   ],
   "source": [
    "%timeit generator()"
   ]
  },
  {
   "cell_type": "code",
   "execution_count": null,
   "id": "0360bf19",
   "metadata": {},
   "outputs": [],
   "source": []
  },
  {
   "cell_type": "code",
   "execution_count": null,
   "id": "d10f77db",
   "metadata": {},
   "outputs": [],
   "source": [
    "def sqloop():\n",
    "    resDict = {}\n",
    "    for i in range(100000):\n",
    "        resDict[i] = i\n",
    "    return resDict\n",
    "\n",
    "\n",
    "def sqcomprehension():\n",
    "    return {i: i for i in range(100000)}"
   ]
  },
  {
   "cell_type": "code",
   "execution_count": null,
   "id": "4a1ed365",
   "metadata": {},
   "outputs": [
    {
     "name": "stdout",
     "output_type": "stream",
     "text": [
      "10.5 ms ± 148 µs per loop (mean ± std. dev. of 7 runs, 100 loops each)\n",
      "9.79 ms ± 162 µs per loop (mean ± std. dev. of 7 runs, 100 loops each)\n"
     ]
    }
   ],
   "source": [
    "\n",
    "%timeit sqloop()\n"
   ]
  },
  {
   "cell_type": "code",
   "execution_count": null,
   "id": "554d6da8",
   "metadata": {},
   "outputs": [],
   "source": [
    "\n",
    "%timeit sqcomprehension()"
   ]
  },
  {
   "cell_type": "code",
   "execution_count": null,
   "id": "477d631d",
   "metadata": {},
   "outputs": [],
   "source": [
    "# Efficient looping (especially in terms of memory)\n",
    "# done using iterators and functions such as filter and map.\n",
    "\n",
    "def map_comprehension(numbers):\n",
    "    a = [n * 2 for n in numbers]\n",
    "    b = [n ** 2 for n in a]\n",
    "    c = [n ** 0.33  for n in b]\n",
    "    return max(c)\n",
    "\n",
    "\n",
    "def map_normal(numbers):\n",
    "    a = map(lambda n: n * 2, numbers)\n",
    "    b = map(lambda n: n ** 2, a)\n",
    "    c = map(lambda n: n ** 0.33, b)\n",
    "    return max(c)"
   ]
  },
  {
   "cell_type": "code",
   "execution_count": null,
   "id": "90dc83da",
   "metadata": {},
   "outputs": [
    {
     "name": "stdout",
     "output_type": "stream",
     "text": [
      "717 ms ± 11 ms per loop (mean ± std. dev. of 7 runs, 1 loop each)\n"
     ]
    }
   ],
   "source": [
    "\n",
    "\n",
    "numbers = range(1000000)\n",
    "\n",
    "%timeit map_comprehension(numbers)\n",
    "\n"
   ]
  },
  {
   "cell_type": "code",
   "execution_count": 222,
   "id": "ca708174",
   "metadata": {},
   "outputs": [],
   "source": [
    "import numpy as np"
   ]
  },
  {
   "cell_type": "code",
   "execution_count": 223,
   "id": "fb50e28c",
   "metadata": {},
   "outputs": [
    {
     "name": "stdout",
     "output_type": "stream",
     "text": [
      "0\n",
      "[0, 1, 2, 3, 4, 5, 6, 7, 8, 9]\n"
     ]
    }
   ],
   "source": [
    "\"\"\" \n",
    "Chapter 3:\n",
    "    Fast Array Operatons with Numpy and Pandas\n",
    "\n",
    "\"\"\"\n",
    "\n",
    "A = np.array([0,1,2,3,4,5,6,7,8,9])\n",
    "\n",
    "\n",
    "print(A[0])\n",
    "\n",
    "print([a for a in A])"
   ]
  },
  {
   "cell_type": "code",
   "execution_count": 224,
   "id": "2530ec50",
   "metadata": {},
   "outputs": [],
   "source": [
    "\"\"\"\n",
    "Ex: shows how slocing syntax can be used in real-world setting\n",
    "\n",
    "\"\"\"\n",
    "\n",
    "r_i = np.random.rand(10, 2)\n"
   ]
  },
  {
   "cell_type": "code",
   "execution_count": 225,
   "id": "f0e3b062",
   "metadata": {},
   "outputs": [
    {
     "name": "stdout",
     "output_type": "stream",
     "text": [
      "[0.83329657 0.05445737 0.27879865 0.27653161 0.62993136 0.13867726\n",
      " 0.61736385 0.10474252 0.69048802 0.57464108]\n",
      "[0.83329657 0.79298297]\n"
     ]
    }
   ],
   "source": [
    "\n",
    "\n",
    "x_i = r_i[:, 0]\n",
    "\n",
    "print(x_i)\n",
    "\n",
    "r_0 = r_i[0, :]\n",
    "\n",
    "print(r_0)"
   ]
  },
  {
   "cell_type": "code",
   "execution_count": 226,
   "id": "6e1255f2",
   "metadata": {},
   "outputs": [],
   "source": [
    "a = np.array([\n",
    "    [0.5653667, 0.40387571],\n",
    "    [0.47862077, 0.47436663],\n",
    "    [0.8769373, 0.13338962],\n",
    "    [0.04260282, 0.13847179]\n",
    "    ])\n"
   ]
  },
  {
   "cell_type": "code",
   "execution_count": 227,
   "id": "e088fc42",
   "metadata": {},
   "outputs": [
    {
     "data": {
      "text/plain": [
       "3.1136313400000004"
      ]
     },
     "execution_count": 227,
     "metadata": {},
     "output_type": "execute_result"
    }
   ],
   "source": [
    "a.sum()"
   ]
  },
  {
   "cell_type": "code",
   "execution_count": 228,
   "id": "167396b3",
   "metadata": {},
   "outputs": [
    {
     "data": {
      "text/plain": [
       "array([[0.5653667 , 0.40387571],\n",
       "       [0.8769373 , 0.13338962]])"
      ]
     },
     "execution_count": 228,
     "metadata": {},
     "output_type": "execute_result"
    }
   ],
   "source": [
    "\n",
    "idx = np.array([0,2])\n",
    "a[idx]\n"
   ]
  },
  {
   "cell_type": "code",
   "execution_count": 229,
   "id": "c4325a00",
   "metadata": {},
   "outputs": [
    {
     "name": "stdout",
     "output_type": "stream",
     "text": [
      "[[ 5 12]\n",
      " [21 32]]\n",
      "[[2 4]\n",
      " [6 8]]\n"
     ]
    }
   ],
   "source": [
    "\"\"\"\n",
    "Broadcasting: Whenever doing arithmetic operation on two arrays (like a product),\n",
    "if the two operands have the same shape, the operation will be applied in an element-wise fashion.\n",
    "\"\"\"\n",
    "\n",
    "J = np.array([[1,2], [3,4]])\n",
    "\n",
    "\n",
    "M = np.array([[5,6], [7,8]])\n",
    "\n",
    "\n",
    "print(J * M)\n",
    "\n",
    "print(J * 2)\n"
   ]
  },
  {
   "cell_type": "code",
   "execution_count": 232,
   "id": "e8839917",
   "metadata": {},
   "outputs": [
    {
     "name": "stdout",
     "output_type": "stream",
     "text": [
      "[0.25806514 0.78973455 0.49449905 0.2303789  0.64584506 0.83305309\n",
      " 0.99115236 0.43667967 0.64698088 0.90673458]\n"
     ]
    }
   ],
   "source": [
    "norm = np.sqrt(x**2 + y**2)\n",
    "\n",
    "r_i = np.random.rand(10, 2)\n",
    "norm = np.sqrt((r_i ** 2).sum(axis=1))\n",
    "print(norm)"
   ]
  },
  {
   "cell_type": "code",
   "execution_count": 235,
   "id": "9665da0c",
   "metadata": {},
   "outputs": [],
   "source": [
    "# Rewriting the particle simulator in NumPy \n",
    "\n",
    "def evolve_numpy(self, dt):\n",
    "    timestep = 0.00001\n",
    "    nsteps = int(dt/timestep)\n",
    "\n",
    "    r_i = np.array([[p.x, p.y] for p in self.particles])\n",
    "\n",
    "    ang_vel_i = np.array([p.ang_vel for p in self.particles])\n",
    "\n",
    "    for i in range(nsteps):\n",
    "        norm_i = np.sqrt((r_i ** 2).sum(axis=1))\n",
    "        v_i = r_i[:, [1, 0]]\n",
    "        v_i[:, 0] *= -1\n",
    "        v_i /= norm_i[:, np.newaxis]\n",
    "        d_i = timestep * ang_vel_i[:,np.newaxis] * v_i\n",
    "        r_i += d_i\n",
    "\n",
    "        for i, p in enumerate(self.particles):\n",
    "            p.x, p.y = r_i[i]"
   ]
  },
  {
   "cell_type": "code",
   "execution_count": 237,
   "id": "b56fa180",
   "metadata": {},
   "outputs": [],
   "source": [
    "\n",
    "def benchmarkNP(npart=100, nethod='python'):\n",
    "    particles = [Particle(uniform(-1.0, 1.0),\n",
    "                          uniform(-1.0, 1.0),\n",
    "                          uniform(-1.0, 1.0))\n",
    "                          for i in range(npart)]"
   ]
  },
  {
   "cell_type": "code",
   "execution_count": null,
   "id": "21145885",
   "metadata": {},
   "outputs": [],
   "source": []
  }
 ],
 "metadata": {
  "interpreter": {
   "hash": "9ae16ef445867c3ddd8a030e03f508a31c88ab57810e24e3a3afaf36f09532d0"
  },
  "kernelspec": {
   "display_name": "dev",
   "language": "python",
   "name": "python3"
  },
  "language_info": {
   "codemirror_mode": {
    "name": "ipython",
    "version": 3
   },
   "file_extension": ".py",
   "mimetype": "text/x-python",
   "name": "python",
   "nbconvert_exporter": "python",
   "pygments_lexer": "ipython3",
   "version": "3.7.11"
  }
 },
 "nbformat": 4,
 "nbformat_minor": 5
}
