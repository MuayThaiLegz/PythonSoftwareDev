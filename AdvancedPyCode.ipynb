{
 "cells": [
  {
   "cell_type": "code",
   "execution_count": null,
   "id": "3d4b2527",
   "metadata": {},
   "outputs": [],
   "source": [
    "\n"
   ]
  },
  {
   "cell_type": "code",
   "execution_count": 2,
   "id": "c290c692",
   "metadata": {},
   "outputs": [],
   "source": [
    "''' \n",
    "Chapter One Benchmarking and Profiling. Profiliung is the rechnique that allows us to pinpoint most resource-intensive spots in\n",
    "an application A profiler is a program that runs an application and monitors how long each function takes to execute.\n",
    "BENCHMARKS: Are small scripts used to access the total execution time of your aplication\n",
    "\n",
    "The mantra here is \n",
    "* Make it run, Make it right, Make it fast.\n",
    "'''\n",
    "# we will by designing the application in an obnject-oriantatied way.\n",
    "class Particle:\n",
    "    def __init__(self, x, y, ang_vel): # we accept + and - numbers for all paramenters\n",
    "        self.x = x\n",
    "        self.y = y\n",
    "        self.ang_vel = ang_vel\n",
    "        \n",
    "\n",
    "# The full ParticleSimulation implementation:\n",
    "\n",
    "\n",
    "class ParticleSimulator:\n",
    "\n",
    "    def __init__(self, particles):\n",
    "        self.particles = particles\n",
    "\n",
    "    def evolve(self, dt):\n",
    "        timestep = 0.00001\n",
    "        nsteps = int(dt/timestep)\n",
    "        for i in range(nsteps):\n",
    "            for p in self.particles:\n",
    "                # 1. calculate the direction\n",
    "                norm = (p.x**2 + p.y**2) ** 0.5\n",
    "                v_x = -p.y/norm\n",
    "                v_y = p.x/norm\n",
    "\n",
    "                #2. calculate the displacement\n",
    "                d_x = timestep * p.ang_vel * v_x\n",
    "                d_y = timestep * p.ang_vel * v_y\n",
    "\n",
    "                p.x += d_x ; p.y += d_y\n",
    "                # 3. repeat for all the time steps\n"
   ]
  },
  {
   "cell_type": "code",
   "execution_count": 3,
   "id": "1529977d",
   "metadata": {},
   "outputs": [],
   "source": [
    "from matplotlib import pyplot as plt \n",
    "from matplotlib import animation\n",
    "\n",
    "def visualize(simulator):\n",
    "    \n",
    "    X = [p.x for p in simulator.particles]\n",
    "    Y = [p.y for p in simulator.particles]\n",
    "\n",
    "    fig = plt.figure()\n",
    "\n",
    "    ax = plt.subplot(111, aspect='equal')\n",
    "    line, = ax.plot(X, Y, 'ro')\n",
    "    plt.xlim(-1, 1)\n",
    "    plt.ylim(-1, 1)\n",
    "\n",
    "    def init():\n",
    "        line.set_data([], [])\n",
    "        return line, # the coma is important!\n",
    "\n",
    "    def animate(i):\n",
    "        # We let the particle evolve for 0.01 time units\n",
    "\n",
    "        simulator.evolve(0.01)\n",
    "        X = [p.x for p in simulator.particles]\n",
    "        Y = [p.y for p in simulator.particles]\n",
    "\n",
    "        line.set_data(X, Y)\n",
    "        return line,\n",
    "    \n",
    "\n",
    "\n",
    "    anim = animation.FuncAnimation(fig, animate, init_func=init, blit=True, interval=10)\n",
    "    \n",
    "    plt.show()"
   ]
  },
  {
   "cell_type": "code",
   "execution_count": 4,
   "id": "85064b43",
   "metadata": {},
   "outputs": [
    {
     "data": {
      "image/png": "[encoded data removed]",
      "text/plain": [
       "<Figure size 432x288 with 1 Axes>"
      ]
     },
     "metadata": {
      "needs_background": "light"
     },
     "output_type": "display_data"
    }
   ],
   "source": [
    "def test_visualize():\n",
    "    particles = [Particle(0.3, 0.5, 1),\n",
    "                 Particle(0.0, -0.5, -1),\n",
    "                 Particle(-0.1, -0.4, 3)]\n",
    "    \n",
    "    simulator = ParticleSimulator(particles)\n",
    "    visualize(simulator)\n",
    "\n",
    "if __name__ == '__main__':\n",
    "    test_visualize()"
   ]
  },
  {
   "cell_type": "code",
   "execution_count": 5,
   "id": "c94c0d24",
   "metadata": {},
   "outputs": [],
   "source": [
    "# Writing better tests and benchmarks with pytest-benchmark:\n",
    "\n",
    "def test_evolve():\n",
    "    particles = [Particle(0.3, 0.5, +1),\n",
    "                 Particle(0.0, -0.5, -1),\n",
    "                 Particle(-0.1, -0.4, +3)]\n",
    "    \n",
    "    simulator = ParticleSimulator(particles)\n",
    "\n",
    "    simulator.evolve(0.1)\n",
    "    p0, p1, p2 = particles\n",
    "\n",
    "    def fequal(a, b, eps=1e-5):\n",
    "        return abs(a - b) < eps \n",
    "\n",
    "    assert fequal(p0.x, 0.210269)\n",
    "    assert fequal(p0.y, 0.543863)\n",
    "\n",
    "    assert fequal(p1.x, -0.099334)\n",
    "    assert fequal(p1.y, -0.490034)\n",
    "\n",
    "    assert fequal(p2.x, 0.191358)\n",
    "    assert fequal(p2.y, -0.365227)\n"
   ]
  },
  {
   "cell_type": "code",
   "execution_count": 6,
   "id": "b535da0e",
   "metadata": {},
   "outputs": [
    {
     "ename": "NameError",
     "evalue": "name 'benchmark' is not defined",
     "output_type": "error",
     "traceback": [
      "\u001b[1;31m---------------------------------------------------------------------------\u001b[0m",
      "\u001b[1;31mNameError\u001b[0m                                 Traceback (most recent call last)",
      "\u001b[1;32m~\\AppData\\Local\\Temp/ipykernel_26960/1559122893.py\u001b[0m in \u001b[0;36m<module>\u001b[1;34m\u001b[0m\n\u001b[0;32m      5\u001b[0m \u001b[0mpr\u001b[0m\u001b[1;33m.\u001b[0m\u001b[0menable\u001b[0m\u001b[1;33m(\u001b[0m\u001b[1;33m)\u001b[0m\u001b[1;33m\u001b[0m\u001b[1;33m\u001b[0m\u001b[0m\n\u001b[0;32m      6\u001b[0m \u001b[1;33m\u001b[0m\u001b[0m\n\u001b[1;32m----> 7\u001b[1;33m \u001b[0mbenchmark\u001b[0m\u001b[1;33m(\u001b[0m\u001b[1;33m)\u001b[0m\u001b[1;33m\u001b[0m\u001b[1;33m\u001b[0m\u001b[0m\n\u001b[0m\u001b[0;32m      8\u001b[0m \u001b[1;33m\u001b[0m\u001b[0m\n\u001b[0;32m      9\u001b[0m \u001b[0mpr\u001b[0m\u001b[1;33m.\u001b[0m\u001b[0mdisable\u001b[0m\u001b[1;33m(\u001b[0m\u001b[1;33m)\u001b[0m\u001b[1;33m\u001b[0m\u001b[1;33m\u001b[0m\u001b[0m\n",
      "\u001b[1;31mNameError\u001b[0m: name 'benchmark' is not defined"
     ]
    }
   ],
   "source": [
    "import cProfile\n",
    "\n",
    "pr =  cProfile.Profile()\n",
    "\n",
    "pr.enable()\n",
    "\n",
    "benchmark()\n",
    "\n",
    "pr.disable()\n",
    "\n",
    "pr.print_stats()"
   ]
  },
  {
   "cell_type": "code",
   "execution_count": 7,
   "id": "7dd17617",
   "metadata": {},
   "outputs": [],
   "source": [
    "''' \n",
    "Optimizing our code \n",
    "Now that we have identified where exactly our app is spending most its time, make some changes and assess the change is performance.\n",
    "\n",
    "To express the equations of motion in terms of radius, r, and angle , alpha. (instead of x and y)\n",
    "then calculate the points on a circle using the following equation\n",
    "'''\n",
    "r = 11\n",
    "\n",
    "alpha = 7 \n",
    "from math import cos, sin\n",
    "\n",
    "x = r * cos(alpha)\n",
    "\n",
    "y = r * sin(alpha)\n",
    "\n"
   ]
  },
  {
   "cell_type": "code",
   "execution_count": 8,
   "id": "585d5e43",
   "metadata": {},
   "outputs": [
    {
     "ename": "SyntaxError",
     "evalue": "invalid syntax (Temp/ipykernel_26960/1428581420.py, line 1)",
     "output_type": "error",
     "traceback": [
      "\u001b[1;36m  File \u001b[1;32m\"C:\\Users\\JBarr\\AppData\\Local\\Temp/ipykernel_26960/1428581420.py\"\u001b[1;36m, line \u001b[1;32m1\u001b[0m\n\u001b[1;33m    def (self, dt):\u001b[0m\n\u001b[1;37m        ^\u001b[0m\n\u001b[1;31mSyntaxError\u001b[0m\u001b[1;31m:\u001b[0m invalid syntax\n"
     ]
    }
   ],
   "source": [
    "def (self, dt):\n",
    "    timestep = 0.00001\n",
    "    nsteps = int(dt/timestep)\n",
    "\n",
    "    # Loop order is changed\n",
    "    for p in self.particles:\n",
    "        t_x_ang = timestep * p.ang_vel\n",
    "        for i in range(nsteps):\n",
    "            norm = (p.x**2 + p.y**2)**0.5\n",
    "            p.x, p.y = (p.x - t_x_ang * p.y/norm,\n",
    "                        p.y + t_x_ang * p.x/norm)\n"
   ]
  },
  {
   "cell_type": "code",
   "execution_count": 9,
   "id": "05ca7b78",
   "metadata": {},
   "outputs": [
    {
     "ename": "NameError",
     "evalue": "name 'evolve_fast' is not defined",
     "output_type": "error",
     "traceback": [
      "\u001b[1;31m---------------------------------------------------------------------------\u001b[0m",
      "\u001b[1;31mNameError\u001b[0m                                 Traceback (most recent call last)",
      "\u001b[1;32m~\\AppData\\Local\\Temp/ipykernel_26960/2465294497.py\u001b[0m in \u001b[0;36m<module>\u001b[1;34m\u001b[0m\n\u001b[1;32m----> 1\u001b[1;33m \u001b[0mevolve_fast\u001b[0m\u001b[1;33m(\u001b[0m\u001b[0mself\u001b[0m\u001b[1;33m,\u001b[0m \u001b[0mdt\u001b[0m\u001b[1;33m)\u001b[0m\u001b[1;33m\u001b[0m\u001b[1;33m\u001b[0m\u001b[0m\n\u001b[0m",
      "\u001b[1;31mNameError\u001b[0m: name 'evolve_fast' is not defined"
     ]
    }
   ],
   "source": [
    "evolve_fast(self, dt) "
   ]
  },
  {
   "cell_type": "code",
   "execution_count": 10,
   "id": "ea9a9285",
   "metadata": {},
   "outputs": [
    {
     "name": "stdout",
     "output_type": "stream",
     "text": [
      " 26           0 LOAD_CONST               1 (1e-05)\n",
      "              2 STORE_FAST               2 (timestep)\n",
      "\n",
      " 27           4 LOAD_GLOBAL              0 (int)\n",
      "              6 LOAD_FAST                1 (dt)\n",
      "              8 LOAD_FAST                2 (timestep)\n",
      "             10 BINARY_TRUE_DIVIDE\n",
      "             12 CALL_FUNCTION            1\n",
      "             14 STORE_FAST               3 (nsteps)\n",
      "\n",
      " 28          16 SETUP_LOOP             134 (to 152)\n",
      "             18 LOAD_GLOBAL              1 (range)\n",
      "             20 LOAD_FAST                3 (nsteps)\n",
      "             22 CALL_FUNCTION            1\n",
      "             24 GET_ITER\n",
      "        >>   26 FOR_ITER               122 (to 150)\n",
      "             28 STORE_FAST               4 (i)\n",
      "\n",
      " 29          30 SETUP_LOOP             116 (to 148)\n",
      "             32 LOAD_FAST                0 (self)\n",
      "             34 LOAD_ATTR                2 (particles)\n",
      "             36 GET_ITER\n",
      "        >>   38 FOR_ITER               106 (to 146)\n",
      "             40 STORE_FAST               5 (p)\n",
      "\n",
      " 31          42 LOAD_FAST                5 (p)\n",
      "             44 LOAD_ATTR                3 (x)\n",
      "             46 LOAD_CONST               2 (2)\n",
      "             48 BINARY_POWER\n",
      "             50 LOAD_FAST                5 (p)\n",
      "             52 LOAD_ATTR                4 (y)\n",
      "             54 LOAD_CONST               2 (2)\n",
      "             56 BINARY_POWER\n",
      "             58 BINARY_ADD\n",
      "             60 LOAD_CONST               3 (0.5)\n",
      "             62 BINARY_POWER\n",
      "             64 STORE_FAST               6 (norm)\n",
      "\n",
      " 32          66 LOAD_FAST                5 (p)\n",
      "             68 LOAD_ATTR                4 (y)\n",
      "             70 UNARY_NEGATIVE\n",
      "             72 LOAD_FAST                6 (norm)\n",
      "             74 BINARY_TRUE_DIVIDE\n",
      "             76 STORE_FAST               7 (v_x)\n",
      "\n",
      " 33          78 LOAD_FAST                5 (p)\n",
      "             80 LOAD_ATTR                3 (x)\n",
      "             82 LOAD_FAST                6 (norm)\n",
      "             84 BINARY_TRUE_DIVIDE\n",
      "             86 STORE_FAST               8 (v_y)\n",
      "\n",
      " 36          88 LOAD_FAST                2 (timestep)\n",
      "             90 LOAD_FAST                5 (p)\n",
      "             92 LOAD_ATTR                5 (ang_vel)\n",
      "             94 BINARY_MULTIPLY\n",
      "             96 LOAD_FAST                7 (v_x)\n",
      "             98 BINARY_MULTIPLY\n",
      "            100 STORE_FAST               9 (d_x)\n",
      "\n",
      " 37         102 LOAD_FAST                2 (timestep)\n",
      "            104 LOAD_FAST                5 (p)\n",
      "            106 LOAD_ATTR                5 (ang_vel)\n",
      "            108 BINARY_MULTIPLY\n",
      "            110 LOAD_FAST                8 (v_y)\n",
      "            112 BINARY_MULTIPLY\n",
      "            114 STORE_FAST              10 (d_y)\n",
      "\n",
      " 39         116 LOAD_FAST                5 (p)\n",
      "            118 DUP_TOP\n",
      "            120 LOAD_ATTR                3 (x)\n",
      "            122 LOAD_FAST                9 (d_x)\n",
      "            124 INPLACE_ADD\n",
      "            126 ROT_TWO\n",
      "            128 STORE_ATTR               3 (x)\n",
      "            130 LOAD_FAST                5 (p)\n",
      "            132 DUP_TOP\n",
      "            134 LOAD_ATTR                4 (y)\n",
      "            136 LOAD_FAST               10 (d_y)\n",
      "            138 INPLACE_ADD\n",
      "            140 ROT_TWO\n",
      "            142 STORE_ATTR               4 (y)\n",
      "            144 JUMP_ABSOLUTE           38\n",
      "        >>  146 POP_BLOCK\n",
      "        >>  148 JUMP_ABSOLUTE           26\n",
      "        >>  150 POP_BLOCK\n",
      "        >>  152 LOAD_CONST               0 (None)\n",
      "            154 RETURN_VALUE\n"
     ]
    },
    {
     "ename": "TypeError",
     "evalue": "'NoneType' object is not subscriptable",
     "output_type": "error",
     "traceback": [
      "\u001b[1;31m---------------------------------------------------------------------------\u001b[0m",
      "\u001b[1;31mTypeError\u001b[0m                                 Traceback (most recent call last)",
      "\u001b[1;32m~\\AppData\\Local\\Temp/ipykernel_26960/2875248350.py\u001b[0m in \u001b[0;36m<module>\u001b[1;34m\u001b[0m\n\u001b[0;32m      5\u001b[0m \u001b[1;31m# will print for each line in the function, a list of bytecode instructions.\u001b[0m\u001b[1;33m\u001b[0m\u001b[1;33m\u001b[0m\u001b[1;33m\u001b[0m\u001b[0m\n\u001b[0;32m      6\u001b[0m \u001b[1;33m\u001b[0m\u001b[0m\n\u001b[1;32m----> 7\u001b[1;33m \u001b[0mdis\u001b[0m\u001b[1;33m.\u001b[0m\u001b[0mdis\u001b[0m\u001b[1;33m(\u001b[0m\u001b[0mParticleSimulator\u001b[0m\u001b[1;33m.\u001b[0m\u001b[0mevolve\u001b[0m\u001b[1;33m)\u001b[0m\u001b[1;33m[\u001b[0m\u001b[1;36m2\u001b[0m\u001b[1;33m]\u001b[0m\u001b[1;33m\u001b[0m\u001b[1;33m\u001b[0m\u001b[0m\n\u001b[0m",
      "\u001b[1;31mTypeError\u001b[0m: 'NoneType' object is not subscriptable"
     ]
    }
   ],
   "source": [
    "# The dis module: to inspect how the code is converted to bytecode, we can use the dis module\n",
    "\n",
    "import dis\n",
    "\n",
    "# will print for each line in the function, a list of bytecode instructions.\n",
    "\n",
    "dis.dis(ParticleSimulator.evolve)[2]"
   ]
  },
  {
   "cell_type": "code",
   "execution_count": null,
   "id": "81abb621",
   "metadata": {},
   "outputs": [],
   "source": [
    "\n"
   ]
  },
  {
   "cell_type": "code",
   "execution_count": 13,
   "id": "616f6182",
   "metadata": {},
   "outputs": [
    {
     "data": {
      "text/plain": [
       "[0, 1, 2, 3, 4, 5, 6, 7, 8, 9, 10, 11, 12, 13, 14]"
      ]
     },
     "metadata": {},
     "output_type": "display_data"
    },
    {
     "data": {
      "text/plain": [
       "[1, 2, 3, 4, 5, 6, 7, 8, 9, 10, 11, 12, 13, 14, 15]"
      ]
     },
     "metadata": {},
     "output_type": "display_data"
    }
   ],
   "source": [
    "# Pure Python Optimizations \n",
    " \n",
    "n = list(range(15))\n",
    "display(n)\n",
    "\n",
    "for i, _ in enumerate(n):\n",
    "    n[i] += 1\n",
    "\n",
    "display(n)"
   ]
  },
  {
   "cell_type": "code",
   "execution_count": 15,
   "id": "4ba0dfbe",
   "metadata": {},
   "outputs": [
    {
     "data": {
      "text/plain": [
       "2"
      ]
     },
     "execution_count": 15,
     "metadata": {},
     "output_type": "execute_result"
    }
   ],
   "source": [
    "# bisect module allows fast searches on sorted arrays. \n",
    "# The bisect.bisect function can be used on a sorted list to find the index to place and elemnet \n",
    "# while maintaining the array in sorted order\n",
    "\n",
    "import bisect\n",
    "\n",
    "collection = [1, 2, 4, 5, 6]\n",
    "\n",
    "# This function uses the binary search algo with O(log(N)) running time. \n",
    "# running time will increase by a constant amount every time you double your input size.\n",
    "\n",
    "bisect.bisect(collection, 3)"
   ]
  },
  {
   "cell_type": "code",
   "execution_count": 16,
   "id": "2be83eb3",
   "metadata": {},
   "outputs": [],
   "source": [
    "\"\"\"\n",
    "If value we are trying to insert is already present in list. the function will return location after\n",
    "already present value. Therefore, we can use the bisect.bisect_left variant, returning correct index.\n",
    "\"\"\"\n",
    "\n",
    "def index_bisect(a, x):\n",
    "    'Locate the leftmost value exactly equal to a'\n",
    "    i = bisect.bisect_left(a,  x)\n",
    "    if i != len(a) and a[i] == x:\n",
    "        return i\n",
    "        raise ValueError"
   ]
  },
  {
   "cell_type": "code",
   "execution_count": 20,
   "id": "74ec4503",
   "metadata": {},
   "outputs": [
    {
     "data": {
      "text/plain": [
       "647163784322000273"
      ]
     },
     "metadata": {},
     "output_type": "display_data"
    },
    {
     "data": {
      "text/plain": [
       "3"
      ]
     },
     "metadata": {},
     "output_type": "display_data"
    }
   ],
   "source": [
    "\"\"\"\n",
    "Dictionaries: extremely versatile and extensively used in the py language.\n",
    "Dictionaries are implemented as hash maps\n",
    "\"\"\" \n",
    "\n",
    "display(hash('hello'))\n",
    "\n",
    "\n",
    "# To restrict the number to be a certain range use (%) operator\n",
    "\n",
    "display(hash('hello') % 10)"
   ]
  },
  {
   "cell_type": "code",
   "execution_count": 21,
   "id": "0c679e03",
   "metadata": {},
   "outputs": [],
   "source": [
    "\"\"\"\n",
    "A dictionary can be used to efficiently count unique elements in a list.\n",
    "In this example, we define the counter_dict function that takes a list\n",
    "returning a dict containing the nunber of occurrences of each value in the list.\n",
    "\"\"\"\n",
    "\n",
    "def counter_dict(items):\n",
    "    counter = {}\n",
    "    for item in items:\n",
    "        if item not in counter:\n",
    "            counter[item] = 1\n",
    "        else:\n",
    "            counter[item] += 1\n",
    "        return counter\n"
   ]
  },
  {
   "cell_type": "code",
   "execution_count": 22,
   "id": "006858cc",
   "metadata": {},
   "outputs": [],
   "source": [
    "\"\"\"\n",
    "The code can be simplified using collections.defaultdict.\n",
    "Will produce dictionaries where each new key is automatically assigned a default value\n",
    "\"\"\"\n",
    "\n",
    "from collections import defaultdict\n",
    "\n",
    "def counter_defaultdict(items):\n",
    "    counter = defaultdict(int)\n",
    "    for item in items:\n",
    "        counter[item] += 1\n",
    "    return counter"
   ]
  },
  {
   "cell_type": "code",
   "execution_count": 31,
   "id": "03f1b8d6",
   "metadata": {},
   "outputs": [
    {
     "data": {
      "text/plain": [
       "Counter({0: 1, 1: 1, 2: 1, 3: 1, 4: 1, 5: 1, 6: 1, 7: 1, 8: 1, 9: 1})"
      ]
     },
     "execution_count": 31,
     "metadata": {},
     "output_type": "execute_result"
    }
   ],
   "source": [
    "\"\"\"\n",
    "The collections module also includes a Counter class that can be used for the same purpose\n",
    "\n",
    "\"\"\"\n",
    "items = range(10)\n",
    "from collections import Counter\n",
    "\n",
    "counter = Counter(items)\n",
    "counter"
   ]
  },
  {
   "cell_type": "code",
   "execution_count": 39,
   "id": "65d81500",
   "metadata": {},
   "outputs": [
    {
     "data": {
      "text/plain": [
       "['the cat is under the table', 'the dog is under the table']"
      ]
     },
     "execution_count": 39,
     "metadata": {},
     "output_type": "execute_result"
    }
   ],
   "source": [
    "\"\"\"\n",
    "Bulding an in-memory search index using a hash map\n",
    "Ditionaries can be used to quickly search for a word in a list docs, similar to search engine.\n",
    "build an inverted index based on a dictionary of lists\n",
    "\"\"\"\n",
    "docs = ['the cat is under the table',\n",
    "        'the dog is under the table',\n",
    "        'cats and dogs smell roses'\n",
    "        'Carla eats an apple']\n",
    "\n",
    "# simple way to retrieve all documents that match a query is scan each document and test for the presence of a word\n",
    "\n",
    "matches = [doc for doc in docs if 'table' in doc]\n",
    "\n",
    "matches"
   ]
  },
  {
   "cell_type": "code",
   "execution_count": 44,
   "id": "0a7dc926",
   "metadata": {},
   "outputs": [
    {
     "data": {
      "text/plain": [
       "[0, 1]"
      ]
     },
     "metadata": {},
     "output_type": "display_data"
    },
    {
     "data": {
      "text/plain": [
       "['the cat is under the table', 'the dog is under the table']"
      ]
     },
     "metadata": {},
     "output_type": "display_data"
    }
   ],
   "source": [
    "# building and index\n",
    "index = {}\n",
    "\n",
    "for i, doc in enumerate(docs):\n",
    "    # We iterate over each term in the document\n",
    "    for word in doc.split():\n",
    "        # We build a list containing the indices, where term appears\n",
    "        if word not in index:\n",
    "            index[word] = [i]\n",
    "        else:\n",
    "            index[word].append(i)\n",
    "\n",
    "# After bulding index, doing a query is a simple dic look up.\n",
    "\n",
    "index_result = index['table']\n",
    "display(index_result)\n",
    "\n",
    "result_documents = [docs[i] for i in index_result]\n",
    "display(result_documents)\n"
   ]
  },
  {
   "cell_type": "code",
   "execution_count": 76,
   "id": "5a9cb045",
   "metadata": {},
   "outputs": [
    {
     "data": {
      "text/plain": [
       "{'javier'}"
      ]
     },
     "execution_count": 76,
     "metadata": {},
     "output_type": "execute_result"
    }
   ],
   "source": [
    "# Sets: cointain only unique elements.\n",
    "\n",
    "#x = list(range(500)) + list(range(500))\n",
    "\n",
    "x_solo = set(['javier', 'javier'])\n",
    "\n",
    "x_solo"
   ]
  },
  {
   "cell_type": "code",
   "execution_count": 77,
   "id": "71798b77",
   "metadata": {},
   "outputs": [
    {
     "data": {
      "text/plain": [
       "{0}"
      ]
     },
     "execution_count": 77,
     "metadata": {},
     "output_type": "execute_result"
    }
   ],
   "source": [
    "# Building an index using sets\n",
    "\n",
    "index = {}\n",
    "\n",
    "for i, doc in enumerate(docs):\n",
    "    # We iterate over each term in documents\n",
    "    for word in doc.split():\n",
    "        # build a set containing the indices, where term appears\n",
    "        if word not in index:\n",
    "            index[word] = {i}\n",
    "        else:\n",
    "            index[word].add(i)\n",
    "# Querying the documents containing both 'cat' and 'table'\n",
    "index['cat'].intersection(index['table'])"
   ]
  },
  {
   "cell_type": "code",
   "execution_count": 86,
   "id": "b1333ac4",
   "metadata": {},
   "outputs": [
    {
     "data": {
      "text/plain": [
       "[3, 3, 6, 4, 5, 10]"
      ]
     },
     "metadata": {},
     "output_type": "display_data"
    },
    {
     "data": {
      "text/plain": [
       "3"
      ]
     },
     "metadata": {},
     "output_type": "display_data"
    },
    {
     "data": {
      "text/plain": [
       "[3, 4, 6, 10, 5, 1991]"
      ]
     },
     "metadata": {},
     "output_type": "display_data"
    }
   ],
   "source": [
    "# Heaps: built using the procedures contained in haepq module on an underlying list.\n",
    "\n",
    "import heapq\n",
    "\n",
    "heapq_collection =  [10, 3, 3, 4,  5, 6]\n",
    "\n",
    "heapq.heapify(heapq_collection)\n",
    "\n",
    "display(heapq_collection)\n",
    "\n",
    "# To perform insertion and extraction operations on  the heap we can use the heapq.heappush and heapq.heappop\n",
    "# function will extract the min val in collection in O(log(N)) time \n",
    "\n",
    "display(heapq.heappop(heapq_collection))\n",
    "\n",
    "# Similarly, you can push with\n",
    "\n",
    "heapq.heappush(heapq_collection, 1991)\n",
    "\n",
    "\n",
    "display(heapq_collection)\n"
   ]
  },
  {
   "cell_type": "code",
   "execution_count": 87,
   "id": "f78d954c",
   "metadata": {},
   "outputs": [
    {
     "data": {
      "text/plain": [
       "6"
      ]
     },
     "execution_count": 87,
     "metadata": {},
     "output_type": "execute_result"
    }
   ],
   "source": [
    "\"\"\"\n",
    "Another optionis queue.PriorityQueue class that,is thread and process-safe.\n",
    "The PriorityQueue class can be filled up with using the PriorityQueue.put method,\n",
    "while PriorityQueue.get can be used to be extract the minimin value in collection\n",
    "\"\"\"\n",
    "\n",
    "from queue import PriorityQueue\n",
    "\n",
    "queue = PriorityQueue()\n",
    "for element in collection:\n",
    "    queue.put(element)\n",
    "\n",
    "queue.get()"
   ]
  },
  {
   "cell_type": "code",
   "execution_count": 89,
   "id": "4cfe15bd",
   "metadata": {},
   "outputs": [
    {
     "data": {
      "text/plain": [
       "(1, 'priority 1')"
      ]
     },
     "execution_count": 89,
     "metadata": {},
     "output_type": "execute_result"
    }
   ],
   "source": [
    "queue = PriorityQueue()\n",
    "queue.put((3, \"priority 3\"))\n",
    "queue.put((2, \"priority 2\"))\n",
    "queue.put((1, \"priority 1\"))\n",
    "\n",
    "queue.get()\n"
   ]
  },
  {
   "cell_type": "code",
   "execution_count": 97,
   "id": "0c387e2f",
   "metadata": {},
   "outputs": [],
   "source": [
    "# Tries(sometimes called a prefix tree).\n",
    "# Tries are extremely fast at matching a list of strings against a prefix.\n",
    "\n",
    "\n",
    "from random import choice\n",
    "from string import ascii_uppercase\n",
    "from patricia import trie\n",
    "\n",
    "def random_string(length):\n",
    "    '''Produce a random string made of *length* uppercase ascii chars'''\n",
    "    return ''.join(choice(ascii_uppercase) for i in range(length))"
   ]
  },
  {
   "cell_type": "code",
   "execution_count": 98,
   "id": "e7a8c7ed",
   "metadata": {},
   "outputs": [
    {
     "name": "stdout",
     "output_type": "stream",
     "text": [
      "96 µs ± 1.18 µs per loop (mean ± std. dev. of 7 runs, 10000 loops each)\n"
     ]
    }
   ],
   "source": [
    "strings = [random_string(32) for i in range(500)]\n",
    "\n",
    "matches = [s for s in strings if s.startswith('AA')]\n",
    "\n",
    "# List comprehension and str.startwith are already very optimized operations\n",
    "\n",
    "%timeit [s for s in strings if s.startswith('AA')]"
   ]
  },
  {
   "cell_type": "code",
   "execution_count": 101,
   "id": "e761a9c2",
   "metadata": {},
   "outputs": [
    {
     "name": "stdout",
     "output_type": "stream",
     "text": [
      "6.22 µs ± 73.4 ns per loop (mean ± std. dev. of 7 runs, 100000 loops each)\n"
     ]
    }
   ],
   "source": [
    "strings_dict = {s:0 for s in strings}\n",
    "\n",
    "# A dictionary where all values are 0\n",
    "\n",
    "strings_trie = trie(**strings_dict)\n",
    "\n",
    "# To query patricia-trie for a matching prefix\n",
    "\n",
    "iterMatches = list(strings_trie.iter('AA'))\n",
    "\n",
    "# Now we time \n",
    "\n",
    "%timeit list(strings_trie.iter('AA'))"
   ]
  },
  {
   "cell_type": "code",
   "execution_count": 100,
   "id": "43e032e9",
   "metadata": {},
   "outputs": [],
   "source": []
  },
  {
   "cell_type": "code",
   "execution_count": null,
   "id": "679100a0",
   "metadata": {},
   "outputs": [],
   "source": []
  },
  {
   "cell_type": "code",
   "execution_count": null,
   "id": "93a71bf7",
   "metadata": {},
   "outputs": [],
   "source": []
  },
  {
   "cell_type": "code",
   "execution_count": null,
   "id": "5d0c626d",
   "metadata": {},
   "outputs": [],
   "source": []
  },
  {
   "cell_type": "code",
   "execution_count": null,
   "id": "3154d31a",
   "metadata": {},
   "outputs": [],
   "source": []
  },
  {
   "cell_type": "code",
   "execution_count": null,
   "id": "d57e6a96",
   "metadata": {},
   "outputs": [],
   "source": []
  },
  {
   "cell_type": "code",
   "execution_count": null,
   "id": "ad573a1b",
   "metadata": {},
   "outputs": [],
   "source": []
  },
  {
   "cell_type": "code",
   "execution_count": null,
   "id": "a55439a4",
   "metadata": {},
   "outputs": [],
   "source": []
  },
  {
   "cell_type": "code",
   "execution_count": null,
   "id": "a92072c4",
   "metadata": {},
   "outputs": [],
   "source": []
  },
  {
   "cell_type": "code",
   "execution_count": null,
   "id": "8beec865",
   "metadata": {},
   "outputs": [],
   "source": []
  },
  {
   "cell_type": "code",
   "execution_count": 33,
   "id": "82b92e8a",
   "metadata": {},
   "outputs": [],
   "source": [
    "from matplotlib import pyplot as plt\n",
    "from matplotlib import animation\n",
    "from random import uniform\n",
    "import timeit\n",
    "\n",
    "class Particle:\n",
    "\n",
    "    __slots__ = ('x', 'y', 'ang_speed')\n",
    "\n",
    "    def __init__(self, x, y, ang_speed):\n",
    "        self.x = x\n",
    "        self.y = y\n",
    "        self.ang_speed = ang_speed\n",
    "\n",
    "\n",
    "class ParticleSimulator:\n",
    "\n",
    "    def __init__(self, particles):\n",
    "        self.particles = particles\n",
    "\n",
    "    def evolve(self, dt):\n",
    "        timestep = 0.00001\n",
    "        nsteps = int(dt/timestep)\n",
    "\n",
    "        for i in range(nsteps):\n",
    "            for p in self.particles:\n",
    "\n",
    "                norm = (p.x**2 + p.y**2)**0.5\n",
    "                v_x = (-p.y)/norm\n",
    "                v_y = p.x/norm\n",
    "\n",
    "                d_x = timestep * p.ang_speed * v_x\n",
    "                d_y = timestep * p.ang_speed * v_y\n",
    "\n",
    "                p.x += d_x\n",
    "                p.y += d_y\n",
    "\n",
    "    # def evolve(self, dt):\n",
    "    #     timestep = 0.00001\n",
    "    #     nsteps = int(dt/timestep)\n",
    "\n",
    "    #     # First, change the loop order\n",
    "    #     for p in self.particles:\n",
    "    #         t_x_ang = timestep * p.ang_speed\n",
    "    #         for i in range(nsteps):\n",
    "    #             norm = (p.x**2 + p.y**2)**0.5\n",
    "    #             p.x, p.y = p.x - t_x_ang*p.y/norm, p.y + t_x_ang * p.x/norm\n",
    "\n",
    "def visualize(simulator):\n",
    "\n",
    "    X = [p.x for p in simulator.particles]\n",
    "    Y = [p.y for p in simulator.particles]\n",
    "\n",
    "    fig = plt.figure()\n",
    "    ax = plt.subplot(111, aspect='equal')\n",
    "    line, = ax.plot(X, Y, 'ro')\n",
    "\n",
    "    # Axis limits\n",
    "    plt.xlim(-1, 1)\n",
    "    plt.ylim(-1, 1)\n",
    "\n",
    "    # It will be run when the animation starts\n",
    "    def init():\n",
    "        line.set_data([], [])\n",
    "        return line,\n",
    "\n",
    "    def animate(i):\n",
    "        # We let the particle evolve for 0.1 time units\n",
    "        simulator.evolve(0.01)\n",
    "        X = [p.x for p in simulator.particles]\n",
    "        Y = [p.y for p in simulator.particles]\n",
    "\n",
    "        line.set_data(X, Y)\n",
    "        return line,\n",
    "\n",
    "    # Call the animate function each 10 ms\n",
    "    anim = animation.FuncAnimation(fig,\n",
    "                                   animate,\n",
    "                                   init_func=init,\n",
    "                                   blit=True,\n",
    "                                   interval=10)\n",
    "    plt.show()\n",
    "\n",
    "\n",
    "def test_visualize():\n",
    "    particles = [Particle( 0.3, 0.5, +1),\n",
    "                 Particle( 0.0, -0.5, -1),\n",
    "                 Particle(-0.1, -0.4, +3)]\n",
    "\n",
    "    simulator = ParticleSimulator(particles)\n",
    "    visualize(simulator)\n",
    "\n",
    "def test_evolve():\n",
    "    particles = [Particle( 0.3,  0.5, +1),\n",
    "                 Particle( 0.0, -0.5, -1),\n",
    "                 Particle(-0.1, -0.4, +3)]\n",
    "\n",
    "    simulator = ParticleSimulator(particles)\n",
    "\n",
    "    simulator.evolve(0.1)\n",
    "\n",
    "    p0, p1, p2 = particles\n",
    "\n",
    "    def fequal(a, b):\n",
    "        return abs(a - b) < 1e-5\n",
    "\n",
    "    assert fequal(p0.x, 0.2102698450356825)\n",
    "    assert fequal(p0.y, 0.5438635787296997)\n",
    "\n",
    "    assert fequal(p1.x, -0.0993347660567358)\n",
    "    assert fequal(p1.y, -0.4900342888538049)\n",
    "\n",
    "    assert fequal(p2.x,  0.1913585038252641)\n",
    "    assert fequal(p2.y, -0.3652272210744360)\n",
    "\n",
    "\n",
    "def benchmark():\n",
    "    particles = [Particle(uniform(-1.0, 1.0),\n",
    "                          uniform(-1.0, 1.0),\n",
    "                          uniform(-1.0, 1.0))\n",
    "                  for i in range(100)]\n",
    "\n",
    "    simulator = ParticleSimulator(particles)\n",
    "    simulator.evolve(0.1)\n",
    "\n",
    "\n",
    "def timing():\n",
    "    result = timeit.timeit('benchmark()',\n",
    "                           setup='from __main__ import benchmark',\n",
    "                           number=10)\n",
    "    # Result is the time it takes to run the whole loop\n",
    "    print(result)\n",
    "\n",
    "    result = timeit.repeat('benchmark()',\n",
    "                           setup='from __main__ import benchmark',\n",
    "                           number=10,\n",
    "                           repeat=3)\n",
    "    # Result is a list of times\n",
    "    print(result)\n",
    "\n",
    "\n",
    "def benchmark_memory():\n",
    "    particles = [Particle(uniform(-1.0, 1.0),\n",
    "                          uniform(-1.0, 1.0),\n",
    "                          uniform(-1.0, 1.0))\n",
    "                  for i in range(100000)]\n",
    "\n",
    "    simulator = ParticleSimulator(particles)\n",
    "    simulator.evolve(0.001)\n",
    "\n",
    "\n",
    "if __name__ == '__main__':\n",
    "    benchmark()\n"
   ]
  },
  {
   "cell_type": "code",
   "execution_count": 34,
   "id": "31ab39d7",
   "metadata": {},
   "outputs": [],
   "source": [
    "benchmark()"
   ]
  },
  {
   "cell_type": "code",
   "execution_count": 35,
   "id": "4b37efc6",
   "metadata": {},
   "outputs": [],
   "source": [
    "\n",
    "def test_evolve(benchmark):\n",
    "    particles = [Particle( 0.3,  0.5, +1),\n",
    "                 Particle( 0.0, -0.5, -1),\n",
    "                 Particle(-0.1, -0.4, +3)]\n",
    "\n",
    "    simulator = ParticleSimulator(particles)\n",
    "\n",
    "    simulator.evolve(0.1)\n",
    "\n",
    "    p0, p1, p2 = particles\n",
    "\n",
    "    def fequal(a, b):\n",
    "        return abs(a - b) < 1e-5\n",
    "\n",
    "    assert fequal(p0.x, 0.2102698450356825)\n",
    "    assert fequal(p0.y, 0.5438635787296997)\n",
    "\n",
    "    assert fequal(p1.x, -0.0993347660567358)\n",
    "    assert fequal(p1.y, -0.4900342888538049)\n",
    "\n",
    "    assert fequal(p2.x,  0.1913585038252641)\n",
    "    assert fequal(p2.y, -0.3652272210744360)\n",
    "\n",
    "    benchmark(simulator.evolve, 0.1)\n"
   ]
  },
  {
   "cell_type": "code",
   "execution_count": 37,
   "id": "d9717157",
   "metadata": {},
   "outputs": [
    {
     "ename": "TypeError",
     "evalue": "test_evolve() missing 1 required positional argument: 'benchmark'",
     "output_type": "error",
     "traceback": [
      "\u001b[1;31m---------------------------------------------------------------------------\u001b[0m",
      "\u001b[1;31mTypeError\u001b[0m                                 Traceback (most recent call last)",
      "\u001b[1;32m~\\AppData\\Local\\Temp/ipykernel_26960/1287126102.py\u001b[0m in \u001b[0;36m<module>\u001b[1;34m\u001b[0m\n\u001b[1;32m----> 1\u001b[1;33m \u001b[0mtest_evolve\u001b[0m\u001b[1;33m(\u001b[0m\u001b[1;33m)\u001b[0m\u001b[1;33m\u001b[0m\u001b[1;33m\u001b[0m\u001b[0m\n\u001b[0m",
      "\u001b[1;31mTypeError\u001b[0m: test_evolve() missing 1 required positional argument: 'benchmark'"
     ]
    }
   ],
   "source": [
    "\n",
    "test_evolve()"
   ]
  },
  {
   "cell_type": "code",
   "execution_count": null,
   "id": "5223f0b5",
   "metadata": {},
   "outputs": [],
   "source": []
  }
 ],
 "metadata": {
  "interpreter": {
   "hash": "9ae16ef445867c3ddd8a030e03f508a31c88ab57810e24e3a3afaf36f09532d0"
  },
  "kernelspec": {
   "display_name": "dev",
   "language": "python",
   "name": "python3"
  },
  "language_info": {
   "codemirror_mode": {
    "name": "ipython",
    "version": 3
   },
   "file_extension": ".py",
   "mimetype": "text/x-python",
   "name": "python",
   "nbconvert_exporter": "python",
   "pygments_lexer": "ipython3",
   "version": "3.7.11"
  }
 },
 "nbformat": 4,
 "nbformat_minor": 5
}
