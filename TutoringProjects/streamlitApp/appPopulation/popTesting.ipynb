{
 "cells": [
  {
   "cell_type": "code",
   "execution_count": 1,
   "metadata": {},
   "outputs": [],
   "source": [
    "import threading, time\n",
    "\n",
    "import time\n",
    "import json\n",
    "import sys\n",
    "#from cloud_tools import Subscriber\n",
    "import boto3\n",
    "from hashlib import sha256, shake_256\n",
    "import hashlib, json, time, enum \n",
    "\n",
    "import AWSIoTPythonSDK\n",
    "\n",
    "import botocore\n",
    "\n",
    "from AWSIoTPythonSDK import MQTTLib\n",
    "import matplotlib.pyplot as plt\n",
    "import seaborn as sns\n",
    "import folium\n",
    "from folium.plugins import MarkerCluster\n",
    "from streamlit_folium import folium_static\n",
    "import folium.plugins\n",
    "folium.plugins.MarkerCluster()\n",
    "import os\n",
    "import sys\n",
    "import gzip\n",
    "import json\n",
    "from pathlib import Path\n",
    "import csv\n",
    "import pandas as pd\n",
    "import s3fs\n",
    "import pyarrow as pa\n",
    "from pyarrow.json import read_json\n",
    "import pyarrow.parquet as pq\n",
    "import pygeohash\n",
    "import jsonschema\n",
    "from jsonschema.exceptions import ValidationError\n",
    "from logging import Logger\n",
    "import Populate_User, Populate_taxies\n",
    "from backendFunc import *\n",
    "import plotly.express as px\n",
    "import pandas as pd\n",
    "from geopy.distance import distance\n",
    "from shapely.geometry import Point, Polygon\n",
    "\n",
    "\n",
    "import geopandas as gpd\n",
    "import pydeck as pdk\n",
    "import numpy as np\n",
    "import geopandas as gpd\n",
    "from sqlalchemy import create_engine\n",
    "import phonenumbers\n",
    "from phonenumbers import geocoder\n",
    "from phonenumbers import region_code_for_number\n",
    "\n",
    "from phonenumbers import carrier\n",
    "\n",
    "import pycountry\n",
    "from phone_iso3166.country import phone_country\n",
    "import phonenumbers\n",
    "from phonenumbers import geocoder\n",
    "from phonenumbers import carrier\n",
    "import folium\n",
    " \n",
    "from opencage.geocoder import OpenCageGeocode\n"
   ]
  },
  {
   "cell_type": "code",
   "execution_count": null,
   "metadata": {},
   "outputs": [],
   "source": []
  },
  {
   "cell_type": "code",
   "execution_count": 2,
   "metadata": {},
   "outputs": [],
   "source": [
    "Populate_Drivers_df = Populate_taxies.createDrivers(13)\n",
    "Populate_User_df = Populate_User.createUses(13)\n",
    "\n",
    "Populate_Drivers_df['taxyTypeCats'] = Populate_Drivers_df['taxyType'].factorize()[0]\n",
    "Populate_User_df['UserTypeCats'] = Populate_User_df['UserType'].factorize()[0]\n",
    "\n",
    "\n",
    "    \n",
    "Populate_User_df.rename(columns={'lats': \"latitude\", 'lons':'longitude'}, inplace=True)\n",
    "Populate_User_df[\"color\"] = Populate_User_df.apply(UserTypecolors, axis=1)\n",
    "\n",
    "\n",
    "    \n",
    "Populate_Drivers_df.rename(columns={'lats': \"latitude\", 'lons':'longitude'}, inplace=True)\n",
    "Populate_Drivers_df[\"color\"] = Populate_Drivers_df.apply(CabTypecolors, axis=1)"
   ]
  },
  {
   "cell_type": "code",
   "execution_count": null,
   "metadata": {},
   "outputs": [],
   "source": []
  },
  {
   "cell_type": "code",
   "execution_count": null,
   "metadata": {},
   "outputs": [],
   "source": [
    "#show_user(Populate_User_df)"
   ]
  },
  {
   "cell_type": "code",
   "execution_count": null,
   "metadata": {},
   "outputs": [],
   "source": [
    "#make_map(Populate_Drivers_df)\n"
   ]
  },
  {
   "cell_type": "code",
   "execution_count": 3,
   "metadata": {},
   "outputs": [],
   "source": [
    "def map(data, zoom):\n",
    "    \n",
    "        pdk.Deck(\n",
    "            map_style=\"mapbox://styles/mapbox/light-v9\",\n",
    "            initial_view_state={\n",
    "                \"latitude\": data.latitude,\n",
    "                \"longitude\": data.longitude,\n",
    "                \"zoom\": zoom,\n",
    "                \"pitch\": 50,\n",
    "            },\n",
    "            layers=[\n",
    "                pdk.Layer(\n",
    "                    \"HexagonLayer\",\n",
    "                    data=data,\n",
    "                    get_position=[\"lon\", \"lat\"],\n",
    "                    radius=100,\n",
    "                    elevation_scale=4,\n",
    "                    elevation_range=[0, 1000],\n",
    "                    pickable=True,\n",
    "                    extruded=True,\n",
    "                ),\n",
    "            ],\n",
    "        )\n",
    "        return map\n",
    "    \n",
    "    \n",
    "testm = map(Populate_Drivers_df, 15)"
   ]
  },
  {
   "cell_type": "code",
   "execution_count": 4,
   "metadata": {},
   "outputs": [],
   "source": [
    "def mpoint(lat, lon):\n",
    "    return (np.average(lat), np.average(lon))"
   ]
  },
  {
   "cell_type": "code",
   "execution_count": null,
   "metadata": {},
   "outputs": [],
   "source": []
  },
  {
   "cell_type": "code",
   "execution_count": null,
   "metadata": {},
   "outputs": [],
   "source": [
    "engine = create_engine()"
   ]
  },
  {
   "cell_type": "code",
   "execution_count": null,
   "metadata": {},
   "outputs": [],
   "source": [
    "\n",
    "def get_nominatim_geocode(address):\n",
    "    try:\n",
    "      location = geolocator.geocode(address)\n",
    "      return location.raw['lon'], location.raw['lat']\n",
    "    except Exception as e:\n",
    "        return None, None\n",
    "    \n",
    "    \n",
    "def get_geocode(address):\n",
    "  long,lat = get_nominatim_geocode(address)\n",
    "  return long, lat\n"
   ]
  },
  {
   "cell_type": "code",
   "execution_count": 6,
   "metadata": {},
   "outputs": [
    {
     "name": "stdout",
     "output_type": "stream",
     "text": [
      "US\n",
      "California\n"
     ]
    }
   ],
   "source": [
    "\n",
    "number = \"+19254086990\"\n",
    "address = '1226 Monument Blvd Concord CA'; city =\"Concord\"; country =\"USA\"\n",
    "\n",
    "ch_number = phonenumbers.parse(number, address)\n",
    "\n",
    "print(region_code_for_number(ch_number))\n",
    "\n",
    "\n",
    "print(geocoder.description_for_valid_number(ch_number, \"en\"))\n"
   ]
  },
  {
   "cell_type": "code",
   "execution_count": null,
   "metadata": {},
   "outputs": [],
   "source": [
    "\n",
    "code = phone_country(\"19254086990\")\n",
    "\n",
    "# Parsing String to the Phone number\n",
    "phoneNumber = phonenumbers.parse('+19254086990') \n",
    "# printing the geolocation of the given number using the geocoder module\n",
    "geolocation = geocoder.description_for_number(phoneNumber,\"en\")\n",
    "print(\"location : \"+geolocation)"
   ]
  },
  {
   "cell_type": "code",
   "execution_count": null,
   "metadata": {},
   "outputs": [],
   "source": [
    "# Using opencage to get the latitude and longitude of the location\n",
    "Key = \"e262d8a9fc864d4c85f5e7639c58c227\"\n",
    "\n",
    "geocoder = OpenCageGeocode(Key)\n",
    "query = str(geolocation)\n",
    "results = geocoder.geocode(query)\n",
    "\n",
    " \n",
    "# Assigning the latitude and longitude values to the lat and lng variables\n",
    "lat = results[0]['geometry']['lat']\n",
    "lng = results[0]['geometry']['lng']\n",
    " \n",
    "# Getting the map for the given latitude and longitude\n",
    "myMap = folium.Map(loction=[lat,lng],zoom_start = 9)\n",
    " \n",
    "# Adding a Marker on the map to show the location name\n",
    "folium.Marker([lat,lng],popup=geolocation).add_to(myMap)\n",
    "myMap"
   ]
  },
  {
   "cell_type": "code",
   "execution_count": null,
   "metadata": {},
   "outputs": [],
   "source": [
    "taxi_location = (lat, lng)\n",
    "taxi_location"
   ]
  },
  {
   "cell_type": "code",
   "execution_count": null,
   "metadata": {},
   "outputs": [],
   "source": [
    "service_area = Polygon([(36.7014631, -118.7550), (36.5044, -118.7555), (37.3387, 121.8853), (37.9780, 122.0311), (37.9101, 122.0652), (37.6688, 122.0810)])\n",
    "\n",
    "service_area.contains(Point(taxi_location))"
   ]
  },
  {
   "cell_type": "code",
   "execution_count": null,
   "metadata": {},
   "outputs": [],
   "source": [
    "import phonenumbers\n",
    "import folium\n",
    "from phonenumbers import geocoder\n",
    "key = '8d1df9276d2445c5a93c8b12ce962b1e'\n",
    "\n",
    "\n",
    "theNumber = phonenumbers.parse(number)\n",
    "\n",
    "yourLocation = geocoder.description_for_number(theNumber, \"en\")\n",
    "\n",
    "print(yourLocation)\n",
    "\n",
    "\n",
    "#Other details\n",
    "\n",
    "from phonenumbers import carrier\n",
    "service_provider = phonenumbers.parse(number)\n",
    "print(carrier.name_for_number(service_provider, \"en\"))\n",
    "\n",
    "from opencage.geocoder import OpenCageGeocode\n",
    "geocoder = OpenCageGeocode(key)\n",
    "query =str(yourLocation)\n",
    "results = geocoder.geocode(query)\n",
    "#print(results)\n",
    "\n",
    "lat = results[0]['geometry']['lat']\n",
    "\n",
    "long = results[0]['geometry']['lng']\n",
    "\n",
    "print(lat, long)\n",
    "\n",
    "\n",
    "myMap = folium.Map(location =[lat, long], zoom_start_= 9)\n",
    "\n",
    "folium.Marker([lat , long], popup=  yourLocation).add_to(myMap)\n",
    "\n",
    "\n",
    "#html save\n"
   ]
  },
  {
   "cell_type": "code",
   "execution_count": null,
   "metadata": {},
   "outputs": [],
   "source": [
    "import socket\n",
    "s = socket.socket(socket.AF_INET, socket.SOCK_DGRAM)\n",
    "s.connect((\"8.8.8.8\", 80))\n",
    "print(s.getsockname()[0])\n",
    "s.close()"
   ]
  },
  {
   "cell_type": "code",
   "execution_count": null,
   "metadata": {},
   "outputs": [],
   "source": [
    "# install with `pip install ipinfo`\n",
    "import ipinfo\n",
    "import socket\n",
    "\n",
    "# initialize handler with access token\n",
    "access_token = \"b3b6586eed0408\"\n",
    "hostname = socket.gethostname()\n",
    "IPAddr = socket.gethostbyname(hostname)\n",
    "\n",
    "handler = ipinfo.getHandler(access_token)\n",
    "\n",
    "details = handler.getDetails(IPAddr)\n",
    "\n"
   ]
  },
  {
   "cell_type": "code",
   "execution_count": 30,
   "metadata": {},
   "outputs": [],
   "source": [
    "import requests\n",
    "from bs4 import BeautifulSoup\n",
    "mobile_tracker_key = [\n",
    "    \"Mobile Phone\",\n",
    "    \"Telecoms Circle / State\",\n",
    "    \"Network\",\n",
    "    \"Service Type / Signal\",\n",
    "    \"Connection Status\",\n",
    "    \"SIM card distributed at\",\n",
    "    \"Owner / Name of the caller\",\n",
    "    \"Address / Current GPS Location\",\n",
    "    \"Number of Search History\",\n",
    "    \"Latest Search Places\",\n",
    "    \"Websites / social media contains this number\",\n",
    "    \"Other Telecoms operators in phone area\",\n",
    "    \"No.of district / region in the state\",\n",
    "    \"Circle Capital\",\n",
    "    \"Main Language in the telecoms circle\",\n",
    "    \"Other Languages in the telecom circle\",\n",
    "    \"Local time at phone location\",\n",
    "    \"How Lucky this Number\",\n",
    "]\n",
    "\n",
    "\n",
    "class Track_Mobile_Number:\n",
    "    def __init__(self, mobile_number):\n",
    "        self.url = \"https://www.freephonetracer.com/\"\n",
    "        self.mobile_number = mobile_number\n",
    "        if self.verify_number:\n",
    "            self.data = {\n",
    "                \"mobilenumber\": self.mobile_number,\n",
    "                \"submit\": self.mobile_number,\n",
    "            }\n",
    "        else:\n",
    "            raise Exception(\"Invalid Mobile Number\")\n",
    "        \n",
    "    @property\n",
    "    def verify_number(self):\n",
    "        return bool(len(self.mobile_number) == 10 and self.mobile_number.isdigit())\n",
    "    \n",
    "    @property\n",
    "    def track(self) -> dict:\n",
    "        html = requests.post(self.url, data=self.data)\n",
    "        print(html.headers)\n",
    "        soup = BeautifulSoup(html.text, \"html.parser\")\n",
    "        if soup.find(\"title\").text.strip() != \"404 NOT FOUND\":\n",
    "            mobile_tracker_valve = [i.text.strip() for i in soup.find_all(\"td\")]\n",
    "            mobile_tracker = dict(zip(mobile_tracker_key, mobile_tracker_valve))\n",
    "            return mobile_tracker\n",
    "        raise Exception(\"Mobile Number Not Found\")"
   ]
  },
  {
   "cell_type": "code",
   "execution_count": 31,
   "metadata": {},
   "outputs": [],
   "source": [
    "testrun = Track_Mobile_Number('9254086990')"
   ]
  },
  {
   "cell_type": "code",
   "execution_count": 32,
   "metadata": {},
   "outputs": [
    {
     "name": "stdout",
     "output_type": "stream",
     "text": [
      "{'Date': 'Sat, 04 Feb 2023 02:08:07 GMT', 'Content-Type': 'text/plain;charset=UTF-8', 'Content-Length': '34', 'Connection': 'keep-alive', 'Report-To': '{\"endpoints\":[{\"url\":\"https:\\\\/\\\\/a.nel.cloudflare.com\\\\/report\\\\/v3?s=xvM42j86o29s1VQyj3gjgoOA62ISIPDIQLaKN3uqcYL9C5p1f8%2Fi8inRiiQb9si21DvFGtuDi17FJlcV71dT9Unj19A7rs3THM2OvuXFN4oikuKlQdXD1MzOwLWGjVAUjfssGInL4%2FLAGA%3D%3D\"}],\"group\":\"cf-nel\",\"max_age\":604800}', 'NEL': '{\"success_fraction\":0,\"report_to\":\"cf-nel\",\"max_age\":604800}', 'Vary': 'Accept-Encoding', 'Server': 'cloudflare', 'CF-RAY': '793fdb4b9f92942f-SJC', 'alt-svc': 'h3=\":443\"; ma=86400, h3-29=\":443\"; ma=86400'}\n"
     ]
    },
    {
     "ename": "AttributeError",
     "evalue": "'NoneType' object has no attribute 'text'",
     "output_type": "error",
     "traceback": [
      "\u001b[1;31m---------------------------------------------------------------------------\u001b[0m",
      "\u001b[1;31mAttributeError\u001b[0m                            Traceback (most recent call last)",
      "\u001b[1;32m~\\AppData\\Local\\Temp\\ipykernel_18580\\2656559801.py\u001b[0m in \u001b[0;36m<module>\u001b[1;34m\u001b[0m\n\u001b[1;32m----> 1\u001b[1;33m \u001b[0mtestrun\u001b[0m\u001b[1;33m.\u001b[0m\u001b[0mtrack\u001b[0m\u001b[1;33m(\u001b[0m\u001b[1;33m)\u001b[0m\u001b[1;33m\u001b[0m\u001b[1;33m\u001b[0m\u001b[0m\n\u001b[0m",
      "\u001b[1;32m~\\AppData\\Local\\Temp\\ipykernel_18580\\997715631.py\u001b[0m in \u001b[0;36mtrack\u001b[1;34m(self)\u001b[0m\n\u001b[0;32m     44\u001b[0m         \u001b[0mprint\u001b[0m\u001b[1;33m(\u001b[0m\u001b[0mhtml\u001b[0m\u001b[1;33m.\u001b[0m\u001b[0mheaders\u001b[0m\u001b[1;33m)\u001b[0m\u001b[1;33m\u001b[0m\u001b[1;33m\u001b[0m\u001b[0m\n\u001b[0;32m     45\u001b[0m         \u001b[0msoup\u001b[0m \u001b[1;33m=\u001b[0m \u001b[0mBeautifulSoup\u001b[0m\u001b[1;33m(\u001b[0m\u001b[0mhtml\u001b[0m\u001b[1;33m.\u001b[0m\u001b[0mtext\u001b[0m\u001b[1;33m,\u001b[0m \u001b[1;34m\"html.parser\"\u001b[0m\u001b[1;33m)\u001b[0m\u001b[1;33m\u001b[0m\u001b[1;33m\u001b[0m\u001b[0m\n\u001b[1;32m---> 46\u001b[1;33m         \u001b[1;32mif\u001b[0m \u001b[0msoup\u001b[0m\u001b[1;33m.\u001b[0m\u001b[0mfind\u001b[0m\u001b[1;33m(\u001b[0m\u001b[1;34m\"title\"\u001b[0m\u001b[1;33m)\u001b[0m\u001b[1;33m.\u001b[0m\u001b[0mtext\u001b[0m\u001b[1;33m.\u001b[0m\u001b[0mstrip\u001b[0m\u001b[1;33m(\u001b[0m\u001b[1;33m)\u001b[0m \u001b[1;33m!=\u001b[0m \u001b[1;34m\"404 NOT FOUND\"\u001b[0m\u001b[1;33m:\u001b[0m\u001b[1;33m\u001b[0m\u001b[1;33m\u001b[0m\u001b[0m\n\u001b[0m\u001b[0;32m     47\u001b[0m             \u001b[0mmobile_tracker_valve\u001b[0m \u001b[1;33m=\u001b[0m \u001b[1;33m[\u001b[0m\u001b[0mi\u001b[0m\u001b[1;33m.\u001b[0m\u001b[0mtext\u001b[0m\u001b[1;33m.\u001b[0m\u001b[0mstrip\u001b[0m\u001b[1;33m(\u001b[0m\u001b[1;33m)\u001b[0m \u001b[1;32mfor\u001b[0m \u001b[0mi\u001b[0m \u001b[1;32min\u001b[0m \u001b[0msoup\u001b[0m\u001b[1;33m.\u001b[0m\u001b[0mfind_all\u001b[0m\u001b[1;33m(\u001b[0m\u001b[1;34m\"td\"\u001b[0m\u001b[1;33m)\u001b[0m\u001b[1;33m]\u001b[0m\u001b[1;33m\u001b[0m\u001b[1;33m\u001b[0m\u001b[0m\n\u001b[0;32m     48\u001b[0m             \u001b[0mmobile_tracker\u001b[0m \u001b[1;33m=\u001b[0m \u001b[0mdict\u001b[0m\u001b[1;33m(\u001b[0m\u001b[0mzip\u001b[0m\u001b[1;33m(\u001b[0m\u001b[0mmobile_tracker_key\u001b[0m\u001b[1;33m,\u001b[0m \u001b[0mmobile_tracker_valve\u001b[0m\u001b[1;33m)\u001b[0m\u001b[1;33m)\u001b[0m\u001b[1;33m\u001b[0m\u001b[1;33m\u001b[0m\u001b[0m\n",
      "\u001b[1;31mAttributeError\u001b[0m: 'NoneType' object has no attribute 'text'"
     ]
    }
   ],
   "source": [
    "testrun.track()"
   ]
  },
  {
   "cell_type": "code",
   "execution_count": 20,
   "metadata": {},
   "outputs": [
    {
     "name": "stdout",
     "output_type": "stream",
     "text": [
      "Your Computer Name is:LAPTOP-D3QLJQ6T\n",
      "Your Computer IP Address is:192.168.149.1\n"
     ]
    }
   ],
   "source": [
    "import socket\n",
    "hostname = socket.gethostname()\n",
    "IPAddr = socket.gethostbyname(hostname)\n",
    " \n",
    "print(\"Your Computer Name is:\" + hostname)\n",
    "print(\"Your Computer IP Address is:\" + IPAddr)"
   ]
  },
  {
   "cell_type": "code",
   "execution_count": null,
   "metadata": {},
   "outputs": [],
   "source": [
    "import ipaddress\n",
    "ipaddressuser = []\n",
    "for i in range(5):\n",
    "    ipaddressuser.append(ipaddress.ip_address(f'192.0.2.{i}'))"
   ]
  },
  {
   "cell_type": "code",
   "execution_count": null,
   "metadata": {},
   "outputs": [],
   "source": [
    "ipaddressuser[0]"
   ]
  },
  {
   "cell_type": "code",
   "execution_count": null,
   "metadata": {},
   "outputs": [],
   "source": [
    "details = handler.getDetails(IPAddr)\n"
   ]
  },
  {
   "cell_type": "code",
   "execution_count": null,
   "metadata": {},
   "outputs": [],
   "source": [
    "import requests\n",
    "\n",
    "# here I have generated this IP address randomly\n",
    "ip_address = \"19.145.189.86\"\n",
    "\n",
    "# get your token from your IPinfo account dashboard\n",
    "token = \"\"\n",
    "\n",
    "# using f-string here. Use any method to create the URL\n",
    "url = f\"https://ipinfo.io/{ip_address}?token={token}\"\n",
    "\n",
    "# json response after the IP lookup\n",
    "response = requests.get(url).json()"
   ]
  },
  {
   "cell_type": "code",
   "execution_count": null,
   "metadata": {},
   "outputs": [],
   "source": []
  }
 ],
 "metadata": {
  "kernelspec": {
   "display_name": "bcenv",
   "language": "python",
   "name": "python3"
  },
  "language_info": {
   "codemirror_mode": {
    "name": "ipython",
    "version": 3
   },
   "file_extension": ".py",
   "mimetype": "text/x-python",
   "name": "python",
   "nbconvert_exporter": "python",
   "pygments_lexer": "ipython3",
   "version": "3.7.5"
  },
  "orig_nbformat": 4,
  "vscode": {
   "interpreter": {
    "hash": "06ae656af7e1b02ac4a2c6572380bd9cbd3896b13d79f1e7e143c09686ea0f51"
   }
  }
 },
 "nbformat": 4,
 "nbformat_minor": 2
}
