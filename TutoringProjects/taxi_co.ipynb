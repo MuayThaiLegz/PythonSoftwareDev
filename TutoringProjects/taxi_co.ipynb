{
 "cells": [
  {
   "cell_type": "code",
   "execution_count": 10,
   "metadata": {},
   "outputs": [],
   "source": [
    "import threading, time\n",
    "\n",
    "import time\n",
    "#import util\n",
    "import json\n",
    "#import argparse\n",
    "import sys\n",
    "#import yaml\n",
    "#from cloud_tools import Subscriber\n",
    "import boto3\n",
    "from hashlib import sha256, shake_256\n",
    "import hashlib, json, time, enum \n",
    "\n",
    "import AWSIoTPythonSDK\n",
    "\n",
    "import botocore\n",
    "from shapely import Point\n",
    "from shapely.geometry import Polygon\n",
    "\n",
    "from AWSIoTPythonSDK import MQTTLib\n",
    "from hashlib import sha256, shake_256\n",
    "import hashlib, json, time, enum \n"
   ]
  },
  {
   "cell_type": "code",
   "execution_count": null,
   "metadata": {},
   "outputs": [],
   "source": [
    "\n",
    "def create_hash_dirs_underDev(records):\n",
    "    geoindex_dir = results_dir.joinpath('geoindex')\n",
    "    geoindex_dir.mkdir(exist_ok=True, parents=True)\n",
    "    hashes = []\n",
    "    for record in records:\n",
    "        taxiCount = record.get('taxi_id', {})\n",
    "        if taxiCount:\n",
    "            latitude = taxiCount.get('latitude')\n",
    "            longitude = taxiCount.get('longitude')\n",
    "            if latitude and longitude:\n",
    "                ## TODO: use pygeohash.encode() to assign geohashes to the records and complete the hashes list\n",
    "                encoded_lat_long = pygeohash.encode(latitude,longitude)\n",
    "                hashes.append(encoded_lat_long)\n",
    "                record['geohash'] = encoded_lat_long\n",
    "    hashes.sort()\n",
    "    \n",
    "    three_letter = sorted(list(set([entry[:3] for entry in hashes])))\n",
    "    hash_index = {value: [] for value in three_letter}\n",
    "    \n",
    "    for record in records:\n",
    "        geohash = record.get('geohash')\n",
    "        if geohash:\n",
    "            hash_index[geohash[:3]].append(record)\n",
    "            \n",
    "    for key, values in hash_index.items():\n",
    "        output_dir = geoindex_dir.joinpath(str(key[:1])).joinpath(str(key[:2]))\n",
    "        output_dir.mkdir(exist_ok=True, parents=True)\n",
    "        output_path = output_dir.joinpath('{}.jsonl.gz'.format(key))\n",
    "        with gzip.open(output_path, 'w') as f:\n",
    "            json_output = '\\n'.join([json.dumps(value) for value in values])\n",
    "            f.write(json_output.encode('utf-8'))\n",
    "            \n",
    "    return list(set(hashes))\n",
    "\n",
    "\n",
    "def taxi_searchDev(lat, lon, hashes_to_check, distance_in_km):\n",
    "    ## TODO: Create simple search to return nearest airport\n",
    "    distance_in_m = distance_in_km*1000\n",
    "    cord_hash = pygeohash.encode(lat, lon)\n",
    "    distance_list = []\n",
    "    counter = 0\n",
    "    for hash_ in hashes_to_check:\n",
    "        distance_list.append(pygeohash.geohash_approximate_distance(cord_hash,hash_))\n",
    "        if pygeohash.geohash_approximate_distance(cord_hash,hash_) == min(distance_list):\n",
    "            closest_hash = hash_\n",
    "            closest_distance = pygeohash.geohash_approximate_distance(cord_hash,hash_)\n",
    "    if min(distance_list) <= distance_in_m:\n",
    "        for record in records:\n",
    "            if closest_hash == record.get('geohash'):\n",
    "                print('The closest taxi is', record.get('taxi_id').get('taxi_type'), 'at a distance of', closest_distance/1000, 'kilometers.')\n",
    "                counter += 1\n",
    "            if counter >=1:\n",
    "                break\n",
    "    else:\n",
    "        print(\"No taxi found in the distance specified.\")\n",
    "\n",
    "#taxi_search(37.958182, -122.040756, hash_list, 500)\n",
    "#hash_list = create_hash_dirs(records)"
   ]
  },
  {
   "cell_type": "code",
   "execution_count": 11,
   "metadata": {},
   "outputs": [],
   "source": [
    "\n",
    "taxyType = enum.Enum('taxyType',\n",
    "                  ['Utility', 'Deluxe', 'Luxury', 'RideShare'])\n",
    "\n",
    "\n",
    "def make_hashes(password):\n",
    "\treturn shake_256(str.encode(password)).hexdigest(77)\n",
    "\n",
    "aPieceofPriData = 'Hello'\n",
    "make_hashes(aPieceofPriData)\n",
    "\n",
    "\n",
    "def make_hashes_len(password, lenOfhash=int):\n",
    "\treturn shake_256(str.encode(password)).hexdigest(lenOfhash)\n",
    "\n",
    "aPieceofPriData = 'Hello'\n",
    "make_hashes_len(aPieceofPriData, 5)\n",
    "\n",
    "def check_hashes(password, hashed_text):\n",
    "    if make_hashes(password) == hashed_text:\n",
    "        return hashed_text\n",
    "    \n",
    "    return False\n"
   ]
  },
  {
   "cell_type": "code",
   "execution_count": 12,
   "metadata": {},
   "outputs": [],
   "source": [
    "aPieceofPriData = 'Hello'\n",
    "\n",
    "\n",
    "class Blockchain():\n",
    "    def __init__(self):\n",
    "        self.chain = [self.create_genesis_block()]\n",
    "        self.temp_data = []\n",
    "    \n",
    "    def create_genesis_block(self):\n",
    "        return {\"index\":0,\n",
    "                'timestamp': time.time(),\n",
    "                'data': None,\n",
    "                'prev_hash': None} \n",
    "        \n",
    "    def new_taxi(self, taxi_id, taxi_type):\n",
    "        taxi = {'taxi_id':taxi_id,\n",
    "                'taxi_type': taxi_type}\n",
    "                \n",
    "        self.temp_data.append(taxi)\n",
    "        \n",
    "    def new_User(self, UserId, number):\n",
    "        user = {'UserId':UserId,\n",
    "                'UserNumber': number}\n",
    "                \n",
    "        self.temp_data.append(user)\n",
    "        \n",
    "    def add_block(self, proof_of_work):\n",
    "        block = {'index':len(self.chain) + 1,\n",
    "                 'timestamp': time.time(),\n",
    "                 'data': self.temp_data,\n",
    "                 'prev_hash': self.hash_code(self.chain[-1]),\n",
    "        }\n",
    "        self.temp_data = []\n",
    "        self.chain.append(block)\n",
    "        return block\n",
    "    \n",
    "    def hash_code (self, block):\n",
    "        str_obj = json.dumps(block, sort_keys=True)\n",
    "        str = str_obj.encode()\n",
    "        hash_number = hashlib.sha256(str)\n",
    "        hexadeimal_hash = hash_number.hexdigest()\n",
    "        return hexadeimal_hash\n",
    "    \n",
    "block_chain = Blockchain()  "
   ]
  },
  {
   "cell_type": "code",
   "execution_count": 13,
   "metadata": {},
   "outputs": [],
   "source": [
    "name = 'james'\n",
    "email = 'email@mail.com'\n",
    "number = 5465456456\n",
    "\n",
    "class newUser :\n",
    "      \n",
    "    def __init__(self, name, email, number):                 \n",
    "        self.name = name\n",
    "        self.email = email \n",
    "        self.number = number\n",
    "        #self.address = eth  address\n",
    "        self.customerId = make_hashes_len(name, 5)\n",
    "        #self.customerId = hex(hash(name) - hash(time.time()**2))\n",
    "        \n",
    "        self.BorrowerDetails = {\n",
    "            \n",
    "            'Customer Name' : self.name,\n",
    "            'Customer Email' : self.email,\n",
    "            'Customer number': self.number,\n",
    "            'Customer Id': self.customerId,\n",
    "            \n",
    "           #  'Customer BC address': self.address\n",
    "        } \n",
    "\n",
    "newUsertest = newUser(name, email, number)\n"
   ]
  },
  {
   "cell_type": "code",
   "execution_count": 14,
   "metadata": {},
   "outputs": [
    {
     "data": {
      "text/plain": [
       "{'index': 2,\n",
       " 'timestamp': 1674607536.3206074,\n",
       " 'data': [{'UserId': '16a37ff6a2', 'UserNumber': 5465456456},\n",
       "  {'taxi_id': '555796c90bfb8f', 'taxi_type': 'taxyType.RideShare'},\n",
       "  {'taxi_id': '9ea90bc1239c00', 'taxi_type': 'taxyType.Deluxe'},\n",
       "  {'taxi_id': '19fc1f8043eb64', 'taxi_type': 'taxyType.Luxury'}],\n",
       " 'prev_hash': '84288620b74bc8a2e69a52934bef36d6e67f7e91287b01e8a97724a0ce684725'}"
      ]
     },
     "execution_count": 14,
     "metadata": {},
     "output_type": "execute_result"
    }
   ],
   "source": [
    "\n",
    "aPieceofPriData = 'Hello'\n",
    "\n",
    "u000 = block_chain.new_User(newUsertest.customerId, newUsertest.number)\n",
    "\n",
    "\n",
    "d001 = block_chain.new_taxi(make_hashes_len(aPieceofPriData, 7), str(taxyType.RideShare))\n",
    "d002 = block_chain.new_taxi(make_hashes_len('aPieceofPriData', 7), str(taxyType.Deluxe))\n",
    "d003 = block_chain.new_taxi(make_hashes_len('fadsffa', 7), str(taxyType.Luxury))\n",
    "\n",
    "block_chain.add_block(151199)\n"
   ]
  },
  {
   "cell_type": "code",
   "execution_count": 15,
   "metadata": {},
   "outputs": [
    {
     "data": {
      "text/plain": [
       "{'index': 3,\n",
       " 'timestamp': 1674607536.9946263,\n",
       " 'data': [{'taxi_id': 'd0020ea7254796', 'taxi_type': 'taxyType.RideShare'},\n",
       "  {'taxi_id': '21a6303c62ba34', 'taxi_type': 'taxyType.Utility'},\n",
       "  {'taxi_id': '869337c17f5d9a', 'taxi_type': 'taxyType.Deluxe'}],\n",
       " 'prev_hash': 'd355759d17c2b90f958e34910f26d6d9330d4c9ca34419d4e2337ca7d9f2be0b'}"
      ]
     },
     "execution_count": 15,
     "metadata": {},
     "output_type": "execute_result"
    }
   ],
   "source": [
    "\n",
    "PriData = 'PrivateKey'\n",
    "\n",
    "\n",
    "d006 = block_chain.new_taxi(make_hashes_len(PriData, 7), str(taxyType.RideShare))\n",
    "d007 = block_chain.new_taxi(make_hashes_len('PriData', 7), str(taxyType.Utility))\n",
    "d008 = block_chain.new_taxi(make_hashes_len('HelloWorld', 7), str(taxyType.Deluxe))\n",
    "\n",
    "block_chain.add_block(651199)\n"
   ]
  },
  {
   "cell_type": "code",
   "execution_count": 16,
   "metadata": {},
   "outputs": [
    {
     "data": {
      "text/plain": [
       "'555796c90bfb8f'"
      ]
     },
     "metadata": {},
     "output_type": "display_data"
    },
    {
     "data": {
      "text/plain": [
       "'taxyType.RideShare'"
      ]
     },
     "metadata": {},
     "output_type": "display_data"
    }
   ],
   "source": [
    "\n",
    "ret = block_chain.chain[1].get('data')\n",
    "\n",
    "display(\n",
    "ret[1]['taxi_id'],\n",
    "ret[1]['taxi_type']\n",
    ")\n",
    "\n"
   ]
  },
  {
   "cell_type": "code",
   "execution_count": 8,
   "metadata": {},
   "outputs": [
    {
     "name": "stdout",
     "output_type": "stream",
     "text": [
      "Taxi is within the service area.\n"
     ]
    }
   ],
   "source": [
    "\n",
    "# aws credentials below\n",
    "\n",
    "aws_access_key_id = 'aws_access_key_id'\n",
    "aws_secret_access_key = 'aws_secret_access_key'\n",
    "\n",
    "region = \"US West)\"\n",
    "endpoint = 'iot.us-west-1.amazonaws.com'\n",
    "\n",
    "arn = ':aws:iot:us'\n",
    "\n",
    "root_ca = \"./AmazonRoot.pem\"\n",
    "\n",
    "key = \"private.pem.key\"\n",
    "\n",
    "cert = \"certificate.pem.crt\"\n",
    "\n",
    "client_id = \"TaxY\"\n",
    "\n",
    "iot = boto3.client('iot', region_name='us-west-2', aws_access_key_id=aws_access_key_id,\n",
    "         aws_secret_access_key= aws_secret_access_key)\n",
    "\n",
    "\n",
    "dynamodb = boto3.resource('dynamodb', region_name='us-west-2', aws_access_key_id=aws_access_key_id,\n",
    "         aws_secret_access_key= aws_secret_access_key)\n",
    "\n",
    "table = dynamodb.Table('taxis')\n",
    "\n",
    "# Define the service area using a lat/long bounding box\n",
    "service_area = Polygon([(37.788022, -122.399797), (37.788022, -122.391777), (37.794546, -122.391777), (37.794546, -122.399797)])\n",
    "\n",
    "# Check if a given location (taxi's location) is within the service area\n",
    "taxi_location = (37.790519, -122.397530)\n",
    "if service_area.contains(Point(taxi_location)):\n",
    "    print(\"Taxi is within the service area.\")\n",
    "else:\n",
    "    print(\"Taxi is outside the service area.\")\n",
    "    \n",
    "    \n"
   ]
  },
  {
   "cell_type": "code",
   "execution_count": 9,
   "metadata": {},
   "outputs": [],
   "source": [
    "class Subscriber(threading.Thread):\n",
    "    \"\"\"A threaded Subscriber object\"\"\"\n",
    "\n",
    "    def __init__(self, endpoint, root_ca, key, cert, client_id=''):\n",
    "        threading.Thread.__init__(self)\n",
    "        self.endpoint = endpoint\n",
    "        self.client_id = client_id\n",
    "        self.root_ca = root_ca\n",
    "        self.key = key\n",
    "        self.cert = cert\n",
    "        self._client = None\n",
    "        self.finish = False\n",
    "        self.daemon = True\n",
    "        self.connected = False\n",
    "\n",
    "    def connect(self):\n",
    "        self._client = MQTTLib.AWSIoTMQTTClient(self.client_id)\n",
    "        self._client.configureEndpoint(self.endpoint, 8883)\n",
    "        self._client.configureCredentials(self.root_ca, self.key, self.cert)\n",
    "        self._client.configureOfflinePublishQueueing(-1)  # Infinite offline Publish queueing\n",
    "        self._client.configureConnectDisconnectTimeout(10)  # 10 sec\n",
    "        self._client.configureMQTTOperationTimeout(5)  # 5 sec\n",
    "        self.connected = self._client.connect()\n",
    "\n",
    "    def subscribe(self, topic, callback, qos=1):\n",
    "        if not self.connected:\n",
    "            self.connect()\n",
    "        self._client.subscribe(topic, qos, callback)\n",
    "\n",
    "    def run(self):\n",
    "        while not self.finish:\n",
    "            time.sleep(0.001)"
   ]
  },
  {
   "cell_type": "code",
   "execution_count": null,
   "metadata": {},
   "outputs": [],
   "source": [
    "class Taxi:\n",
    "    \"\"\"Encapsulates an Amazon DynamoDB table of taxi data.\"\"\"\n",
    "    def __init__(self, dyn_resource):\n",
    "        \"\"\"\n",
    "        :param dyn_resource: A Boto3 DynamoDB resource.\n",
    "        \"\"\"\n",
    "        self.dyn_resource = dyn_resource\n",
    "        self.table = None\n",
    "    \n",
    "    def create_table(self, table_name):\n",
    "        \"\"\"\n",
    "        Creates an Amazon DynamoDB table that can be used to store taxi data.\n",
    "        The table uses the release year of the taxi as the partition key and the\n",
    "        title as the sort key.\n",
    "        4485\n",
    "        AWS SDK Code Examples Code Library\n",
    "        Actions and scenarios\n",
    "        :param table_name: The name of the table to create.\n",
    "        :return: The newly created table.\n",
    "        \"\"\"\n",
    "        try:\n",
    "            self.table = self.dyn_resource.create_table(\n",
    "            TableName=table_name,\n",
    "            KeySchema=[\n",
    "            {'AttributeName': 'taxi_id', 'KeyType': 'HASH'}, # Partition key\n",
    "            {'AttributeName': 'taxi_type', 'KeyType': 'RANGE'} # Sort key\n",
    "    ],\n",
    "            AttributeDefinitions=[\n",
    "            {'AttributeName': 'taxi_id', 'AttributeType': 'N'},\n",
    "            {'AttributeName': 'taxi_type', 'AttributeType': 'S'}\n",
    "            ],\n",
    "            ProvisionedThroughput={'ReadCapacityUnits': 10, 'WriteCapacityUnits':\n",
    "            10})\n",
    "            self.table.wait_until_exists()\n",
    "        except botocore.exceptions.ClientError as err:\n",
    "            botocore.logger.error(\"Couldn't create table %s. Here's why: %s: %s\", table_name,err.response['Error']['Code'], err.response['Error']['Message'])\n",
    "            \n",
    "            raise\n",
    "        else:\n",
    "            \n",
    "            return self.table\n"
   ]
  },
  {
   "cell_type": "code",
   "execution_count": null,
   "metadata": {},
   "outputs": [],
   "source": [
    "taxi_table = Taxi(dynamodb)\n",
    "taxi_table.create_table('taxiTable')\n"
   ]
  }
 ],
 "metadata": {
  "kernelspec": {
   "display_name": "bcenv",
   "language": "python",
   "name": "python3"
  },
  "language_info": {
   "codemirror_mode": {
    "name": "ipython",
    "version": 3
   },
   "file_extension": ".py",
   "mimetype": "text/x-python",
   "name": "python",
   "nbconvert_exporter": "python",
   "pygments_lexer": "ipython3",
   "version": "3.7.5"
  },
  "orig_nbformat": 4,
  "vscode": {
   "interpreter": {
    "hash": "06ae656af7e1b02ac4a2c6572380bd9cbd3896b13d79f1e7e143c09686ea0f51"
   }
  }
 },
 "nbformat": 4,
 "nbformat_minor": 2
}
