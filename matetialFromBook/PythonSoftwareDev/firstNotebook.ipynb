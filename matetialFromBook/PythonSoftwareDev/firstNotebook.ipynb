{
 "cells": [
  {
   "cell_type": "code",
   "execution_count": 1,
   "id": "63596d9a-007c-4577-8ce6-17808c20a632",
   "metadata": {},
   "outputs": [],
   "source": [
    "from PythonLabs import *"
   ]
  },
  {
   "cell_type": "code",
   "execution_count": null,
   "id": "17fa909e-c5f1-4d4e-a6fc-19a4d360646a",
   "metadata": {},
   "outputs": [],
   "source": []
  },
  {
   "cell_type": "code",
   "execution_count": 2,
   "id": "e761c658-55c7-47ff-98a7-f9926dc86ec7",
   "metadata": {},
   "outputs": [],
   "source": [
    "# Celsius function\n",
    "\n",
    "def celsiusConver(f):\n",
    "    f - 32 * 5/9\n",
    "    return FromCelToFahren(f) \n",
    "    \"Convert temperature f from Fahrenheit to Celsius\"\n",
    "    "
   ]
  },
  {
   "cell_type": "code",
   "execution_count": null,
   "id": "0dad51ed-facb-4abe-84b5-3f4e3be7125d",
   "metadata": {},
   "outputs": [],
   "source": []
  },
  {
   "cell_type": "code",
   "execution_count": null,
   "id": "1a79e7b5-40a3-4877-956f-be4323c7393a",
   "metadata": {},
   "outputs": [],
   "source": []
  },
  {
   "cell_type": "code",
   "execution_count": 3,
   "id": "c04009a1-3ca6-474a-be7b-6b96ae154cd0",
   "metadata": {},
   "outputs": [],
   "source": [
    "def FromCelToFahren(f):\n",
    "    c = f * 9/5 + 32\n",
    "    return c\n",
    "    "
   ]
  },
  {
   "cell_type": "code",
   "execution_count": null,
   "id": "c89a3035-16b8-44ae-aa22-9a06455bb2a3",
   "metadata": {},
   "outputs": [],
   "source": []
  },
  {
   "cell_type": "code",
   "execution_count": 4,
   "id": "bb4ce98a-5096-4a76-a1cd-2a619b2a25af",
   "metadata": {},
   "outputs": [
    {
     "data": {
      "text/plain": [
       "212.0"
      ]
     },
     "execution_count": 4,
     "metadata": {},
     "output_type": "execute_result"
    }
   ],
   "source": [
    "celsiusConver(f=100)"
   ]
  },
  {
   "cell_type": "code",
   "execution_count": null,
   "id": "28c00b9e-87c6-414a-9e76-30f7c8aadeb7",
   "metadata": {},
   "outputs": [],
   "source": []
  },
  {
   "cell_type": "code",
   "execution_count": 5,
   "id": "1d982c69-4865-4dc9-aa01-9f537ef2166f",
   "metadata": {},
   "outputs": [],
   "source": [
    "def countertop(x):\n",
    "    \"\"\"\n",
    "    Compute the area of a square countertop with a mizzing wedge.\n",
    "    The pameter x is the length of one side of the square.\n",
    "    \"\"\"\n",
    "    \n",
    "    square = x ** 2 # area of the full square\n",
    "    \n",
    "    triangle = ((x / 2 ) ** 2) / 2  # area of the misssing wedge \n",
    "    \n",
    "    return square - triangle"
   ]
  },
  {
   "cell_type": "code",
   "execution_count": 6,
   "id": "ef83f5aa",
   "metadata": {},
   "outputs": [
    {
     "data": {
      "text/plain": [
       "423.5"
      ]
     },
     "execution_count": 6,
     "metadata": {},
     "output_type": "execute_result"
    }
   ],
   "source": [
    "countertop(22)"
   ]
  },
  {
   "cell_type": "code",
   "execution_count": null,
   "id": "e9ffc91d",
   "metadata": {},
   "outputs": [],
   "source": []
  },
  {
   "cell_type": "code",
   "execution_count": 7,
   "id": "84f75f56",
   "metadata": {},
   "outputs": [],
   "source": [
    "def celsisus(f):\n",
    "    \"Convert temperature f from Fahrenheit to Celsius\"\n",
    "    temp = (f - 32) + 5 / 9 \n",
    "    return temp"
   ]
  },
  {
   "cell_type": "code",
   "execution_count": 8,
   "id": "d50d2495-0651-465d-bd64-b839d707fd5c",
   "metadata": {},
   "outputs": [
    {
     "name": "stdout",
     "output_type": "stream",
     "text": [
      "Help on function celsisus in module __main__:\n",
      "\n",
      "celsisus(f)\n",
      "    Convert temperature f from Fahrenheit to Celsius\n",
      "\n"
     ]
    }
   ],
   "source": [
    "help(celsisus)"
   ]
  },
  {
   "cell_type": "code",
   "execution_count": 9,
   "id": "bb4ff1c8-15bc-4370-85b9-27319b258df7",
   "metadata": {},
   "outputs": [],
   "source": [
    "def marginal_tax_rate(income):\n",
    "    if income < 10000:\n",
    "        return 0.0\n",
    "    elif income < 200000:\n",
    "        return 3.5\n",
    "    else:\n",
    "        return 5.0"
   ]
  },
  {
   "cell_type": "code",
   "execution_count": null,
   "id": "d411c92e-51a6-4722-9e82-291286911968",
   "metadata": {},
   "outputs": [],
   "source": []
  },
  {
   "cell_type": "code",
   "execution_count": 10,
   "id": "901ff0d4",
   "metadata": {},
   "outputs": [
    {
     "data": {
      "text/plain": [
       "'hellohellohello'"
      ]
     },
     "execution_count": 10,
     "metadata": {},
     "output_type": "execute_result"
    }
   ],
   "source": [
    "\"Strings\"\n",
    "\n",
    "s = 'hello'\n",
    "\n",
    "t = \"Who's there?\"\n",
    "\n",
    "s + \"?\"\n",
    "\n",
    "s * 3 "
   ]
  },
  {
   "cell_type": "code",
   "execution_count": 11,
   "id": "da48e2b3",
   "metadata": {},
   "outputs": [
    {
     "name": "stdout",
     "output_type": "stream",
     "text": [
      "True\n",
      "True\n",
      "False\n"
     ]
    }
   ],
   "source": [
    "\n",
    "print(\"ll\" in s)\n",
    "\n",
    "\n",
    "print('here' in t)\n",
    "\n",
    "\n",
    "print('who' in t)\n"
   ]
  },
  {
   "cell_type": "code",
   "execution_count": 12,
   "id": "bc087064",
   "metadata": {},
   "outputs": [
    {
     "data": {
      "text/plain": [
       "4"
      ]
     },
     "execution_count": 12,
     "metadata": {},
     "output_type": "execute_result"
    }
   ],
   "source": [
    "sentence = 'Im from the bay where we hyphy and go dumb. from that soil where them rappers been getting they lingo from'\n",
    "\n",
    "oneWord = 'one'\n",
    "\n",
    "\n",
    "str.count(oneWord, \"\")"
   ]
  },
  {
   "cell_type": "code",
   "execution_count": 13,
   "id": "a0f868ae",
   "metadata": {},
   "outputs": [
    {
     "name": "stdout",
     "output_type": "stream",
     "text": [
      "False\n",
      "True\n"
     ]
    }
   ],
   "source": [
    "test1 = 'duck'\n",
    "\n",
    "test2 = 'fish'\n",
    "\n",
    "print(test1.endswith('h'))\n",
    "\n",
    "print(test2.endswith('h'))"
   ]
  },
  {
   "cell_type": "code",
   "execution_count": null,
   "id": "92692a5e",
   "metadata": {},
   "outputs": [],
   "source": []
  },
  {
   "cell_type": "code",
   "execution_count": 14,
   "id": "110f2313-8d0f-4203-b3c0-4d6d42276288",
   "metadata": {},
   "outputs": [],
   "source": [
    "def plural(w):\n",
    "    \"Return the plural form of word w.\"\n",
    "    if w.endswith('h'):\n",
    "        return w + 'es'\n",
    "    elif w.endswith('y'):\n",
    "        return prefix(w) + 'ies'\n",
    "    else:\n",
    "        return w + 's'\n",
    "                "
   ]
  },
  {
   "cell_type": "code",
   "execution_count": 15,
   "id": "044b1a88-9eb1-40a6-b6e0-dc707a0b7891",
   "metadata": {},
   "outputs": [
    {
     "name": "stdout",
     "output_type": "stream",
     "text": [
      "Ducks\n",
      "fishes\n"
     ]
    }
   ],
   "source": [
    "print(plural(\"Duck\"))\n",
    "\n",
    "print(plural(test2))"
   ]
  },
  {
   "cell_type": "code",
   "execution_count": null,
   "id": "b1e3ae8d-25db-4a51-b536-265f3b230591",
   "metadata": {},
   "outputs": [],
   "source": []
  },
  {
   "cell_type": "code",
   "execution_count": 16,
   "id": "1a797a19",
   "metadata": {},
   "outputs": [
    {
     "name": "stdout",
     "output_type": "stream",
     "text": [
      "pon\n",
      "y\n",
      "duc\n",
      "k\n"
     ]
    }
   ],
   "source": [
    "from PythonLabs.Tools import prefix, suffix\n",
    "\n",
    "test4 = 'pony'\n",
    "\n",
    "print(prefix(test4))\n",
    "print(suffix(test4))\n",
    "\n",
    "print(prefix(test1))\n",
    "print(suffix(test1))"
   ]
  },
  {
   "cell_type": "code",
   "execution_count": null,
   "id": "cce47a2d",
   "metadata": {},
   "outputs": [],
   "source": []
  },
  {
   "cell_type": "code",
   "execution_count": 17,
   "id": "8665c69b",
   "metadata": {},
   "outputs": [],
   "source": [
    "from PythonLabs.Tools import prefix\n",
    "\n",
    "def plurals(w):\n",
    "    'Return the plurual form of word w.'\n",
    "    if w.endswith('h') or w.endswith('s'):\n",
    "        return w + 'es'\n",
    "    elif w.endswith('y'):\n",
    "        return prefix(w) + 'ies'\n",
    "    else:\n",
    "        return w + 's'\n"
   ]
  },
  {
   "cell_type": "code",
   "execution_count": 18,
   "id": "851b54a6",
   "metadata": {},
   "outputs": [
    {
     "data": {
      "text/plain": [
       "'ponies'"
      ]
     },
     "execution_count": 18,
     "metadata": {},
     "output_type": "execute_result"
    }
   ],
   "source": [
    "plurals(test4)"
   ]
  },
  {
   "cell_type": "code",
   "execution_count": 19,
   "id": "6b8d7972",
   "metadata": {},
   "outputs": [
    {
     "data": {
      "text/plain": [
       "'instance'"
      ]
     },
     "execution_count": 19,
     "metadata": {},
     "output_type": "execute_result"
    }
   ],
   "source": [
    "from PythonLabs.Tools import randnoun\n",
    "\n",
    "randnoun()\n"
   ]
  },
  {
   "cell_type": "code",
   "execution_count": 20,
   "id": "18a98969",
   "metadata": {},
   "outputs": [
    {
     "data": {
      "text/plain": [
       "'syntaxs'"
      ]
     },
     "execution_count": 20,
     "metadata": {},
     "output_type": "execute_result"
    }
   ],
   "source": [
    "plurals(randnoun())"
   ]
  },
  {
   "cell_type": "code",
   "execution_count": null,
   "id": "87b1a618",
   "metadata": {},
   "outputs": [],
   "source": []
  },
  {
   "cell_type": "code",
   "execution_count": 21,
   "id": "ca327c53-c61a-48d9-a2b2-9065ff34a688",
   "metadata": {},
   "outputs": [],
   "source": [
    "def fahrenheit(c):\n",
    "    \"Convert temperature f from Fahrenheit to Celsius\"\n",
    "    f = (c * 9) /5 + 32 \n",
    "    return f"
   ]
  },
  {
   "cell_type": "code",
   "execution_count": 22,
   "id": "785c4810",
   "metadata": {},
   "outputs": [
    {
     "data": {
      "text/plain": [
       "190.4"
      ]
     },
     "execution_count": 22,
     "metadata": {},
     "output_type": "execute_result"
    }
   ],
   "source": [
    "fahrenheit(88)"
   ]
  },
  {
   "cell_type": "code",
   "execution_count": null,
   "id": "14dd7a73",
   "metadata": {},
   "outputs": [],
   "source": []
  },
  {
   "cell_type": "code",
   "execution_count": 23,
   "id": "4b216cb8-f9a7-4328-b7e3-c48eb67ade13",
   "metadata": {},
   "outputs": [
    {
     "data": {
      "text/plain": [
       "75.0"
      ]
     },
     "execution_count": 23,
     "metadata": {},
     "output_type": "execute_result"
    }
   ],
   "source": [
    "distance_unit_Miles = 1 \n",
    "\n",
    "timelen = 3600\n",
    "\n",
    "mph = timelen / 48\n",
    "\n",
    "mph"
   ]
  },
  {
   "cell_type": "code",
   "execution_count": 24,
   "id": "285f2637-0c9f-4580-8ca7-e8c394ce7816",
   "metadata": {},
   "outputs": [],
   "source": [
    "def mphCal(t=3600):\n",
    "    timelens = t\n",
    "    return timelens / 60 * 100"
   ]
  },
  {
   "cell_type": "code",
   "execution_count": null,
   "id": "40eff9bd-f68c-423f-9d7c-c8a43b753681",
   "metadata": {},
   "outputs": [],
   "source": []
  },
  {
   "cell_type": "code",
   "execution_count": 25,
   "id": "f94b90c5-79bb-4daf-9437-b3c16a342bec",
   "metadata": {},
   "outputs": [],
   "source": [
    "def bmi(weight, height):\n",
    "    modyMassIndex = weight / height**2 * 703\n",
    "    return modyMassIndex"
   ]
  },
  {
   "cell_type": "code",
   "execution_count": 26,
   "id": "c2192a1b-4c83-4747-bb1b-e6ac56e176d0",
   "metadata": {},
   "outputs": [
    {
     "data": {
      "text/plain": [
       "25.559210526315788"
      ]
     },
     "execution_count": 26,
     "metadata": {},
     "output_type": "execute_result"
    }
   ],
   "source": [
    "bmi(210, 76) "
   ]
  },
  {
   "cell_type": "code",
   "execution_count": null,
   "id": "c37feb61-92c9-4591-9de5-f704383ccb65",
   "metadata": {},
   "outputs": [],
   "source": []
  },
  {
   "cell_type": "code",
   "execution_count": null,
   "id": "f39bd3f4-d66b-41b9-922b-1d5026353a15",
   "metadata": {},
   "outputs": [],
   "source": []
  },
  {
   "cell_type": "code",
   "execution_count": 27,
   "id": "d37c18e8-9106-4756-945b-43c2f48cacb9",
   "metadata": {},
   "outputs": [],
   "source": [
    "# This computes monthly paymetns on a loan\n",
    "\n",
    "def pmt(amt, rate, yrs):\n",
    "    r = rate/100/12\n",
    "    p = 12 * yrs\n",
    "    return r * amt / 1-(1 + r)**-p"
   ]
  },
  {
   "cell_type": "code",
   "execution_count": 28,
   "id": "4671d58e-27bb-47c4-8175-d19cd5b216bd",
   "metadata": {},
   "outputs": [
    {
     "data": {
      "text/plain": [
       "562.2401043462833"
      ]
     },
     "execution_count": 28,
     "metadata": {},
     "output_type": "execute_result"
    }
   ],
   "source": [
    "pmt(150000, 4.5, 30)"
   ]
  },
  {
   "cell_type": "code",
   "execution_count": null,
   "id": "d1b892b5-56ba-4650-bef9-af1339fe9c84",
   "metadata": {},
   "outputs": [],
   "source": []
  },
  {
   "cell_type": "code",
   "execution_count": 29,
   "id": "a0ee4ae8-5df5-49b9-aae2-c010805f6202",
   "metadata": {},
   "outputs": [
    {
     "data": {
      "text/plain": [
       "''"
      ]
     },
     "execution_count": 29,
     "metadata": {},
     "output_type": "execute_result"
    }
   ],
   "source": [
    "# ERA = 27 X runs/outs\n",
    "\n",
    "def era(runs, outs):\n",
    "    return 27 * runs / outs\n",
    "\n",
    "'Define a function named repeat that will take a word s and an integer n as the arguments and return n copies of s'\n",
    "\n",
    "def repeat(s, n):\n",
    "    return(s * n)\n",
    "    \n",
    "\"\"    "
   ]
  },
  {
   "cell_type": "code",
   "execution_count": 30,
   "id": "95d2378d",
   "metadata": {},
   "outputs": [
    {
     "name": "stdout",
     "output_type": "stream",
     "text": [
      "3.6\n",
      "Win, Win, Win, \n"
     ]
    }
   ],
   "source": [
    "print(era(2, 15))\n",
    "\n",
    "print(repeat('Win, ',  3))"
   ]
  },
  {
   "cell_type": "code",
   "execution_count": null,
   "id": "a0651e92",
   "metadata": {},
   "outputs": [],
   "source": []
  },
  {
   "cell_type": "code",
   "execution_count": 31,
   "id": "5846f71d",
   "metadata": {},
   "outputs": [
    {
     "data": {
      "text/plain": [
       "15"
      ]
     },
     "execution_count": 31,
     "metadata": {},
     "output_type": "execute_result"
    }
   ],
   "source": [
    "from PythonLabs.SieveLab import sieve\n",
    "\n",
    "sieveList = list(sieve(50))\n",
    "\n",
    "len(sieveList)"
   ]
  },
  {
   "cell_type": "code",
   "execution_count": 32,
   "id": "34a3e589",
   "metadata": {},
   "outputs": [
    {
     "name": "stdout",
     "output_type": "stream",
     "text": [
      "0\n",
      "1\n",
      "2\n"
     ]
    }
   ],
   "source": [
    "breakfast = []\n",
    "\n",
    "print(len(breakfast))\n",
    "\n",
    "breakfast.append(['spam', 'eggs'])\n",
    "\n",
    "print(len(breakfast))\n",
    "\n",
    "breakfast.append('hashbrowns')\n",
    "\n",
    "print(len(breakfast))"
   ]
  },
  {
   "cell_type": "code",
   "execution_count": 33,
   "id": "cc924efb",
   "metadata": {},
   "outputs": [],
   "source": [
    "def randCreator(n):\n",
    "    listOfrand = []\n",
    "    for i in range(5):\n",
    "        i = randnoun()\n",
    "        listOfrand.append(i)\n",
    "    return listOfrand\n",
    "\n",
    "lit = randCreator(10)"
   ]
  },
  {
   "cell_type": "code",
   "execution_count": 34,
   "id": "a18d6854",
   "metadata": {},
   "outputs": [
    {
     "data": {
      "text/plain": [
       "'telephone'"
      ]
     },
     "execution_count": 34,
     "metadata": {},
     "output_type": "execute_result"
    }
   ],
   "source": [
    "lit[2]"
   ]
  },
  {
   "cell_type": "code",
   "execution_count": 35,
   "id": "f0cca3b0",
   "metadata": {},
   "outputs": [],
   "source": [
    "def print_list(a):\n",
    "    for x in a:\n",
    "        print(x)\n",
    "        \n",
    "def total(a):\n",
    "    sum = 0 \n",
    "    for x in a:\n",
    "        sum += x \n",
    "    return sum"
   ]
  },
  {
   "cell_type": "code",
   "execution_count": null,
   "id": "dda67f81",
   "metadata": {},
   "outputs": [],
   "source": []
  },
  {
   "cell_type": "code",
   "execution_count": 36,
   "id": "92c96ac9-5148-4804-9766-a7b028676f6a",
   "metadata": {},
   "outputs": [],
   "source": [
    "# Iterationg Over Lists: for statementns"
   ]
  },
  {
   "cell_type": "code",
   "execution_count": 37,
   "id": "df1363b0-ca0b-4628-ba11-299aa7feecd1",
   "metadata": {},
   "outputs": [],
   "source": [
    "def partial_total(n,a):\n",
    "    \"\"\"\n",
    "    Compute the total of the first n items in list a.\n",
    "    \"\"\"\n",
    "    sum = 0 \n",
    "    for i in range(0,n):\n",
    "        sum += a[i]\n",
    "        return sum\n",
    "    "
   ]
  },
  {
   "cell_type": "code",
   "execution_count": 38,
   "id": "de959cd3-bd6e-402d-b08d-84f378f8d76d",
   "metadata": {},
   "outputs": [
    {
     "name": "stdout",
     "output_type": "stream",
     "text": [
      "1 1.0\n",
      "2 1.4142135623730951\n",
      "3 1.7320508075688772\n",
      "4 2.0\n",
      "5 2.23606797749979\n",
      "6 2.449489742783178\n",
      "7 2.6457513110645907\n",
      "8 2.8284271247461903\n",
      "9 3.0\n",
      "10 3.1622776601683795\n",
      "11 3.3166247903554\n",
      "12 3.4641016151377544\n",
      "13 3.605551275463989\n",
      "14 3.7416573867739413\n",
      "15 3.872983346207417\n",
      "16 4.0\n",
      "17 4.123105625617661\n",
      "18 4.242640687119285\n",
      "19 4.358898943540674\n",
      "20 4.47213595499958\n",
      "21 4.58257569495584\n",
      "22 4.69041575982343\n",
      "23 4.795831523312719\n",
      "24 4.898979485566356\n"
     ]
    }
   ],
   "source": [
    "from math import sqrt \n",
    "for i in range(1,25):\n",
    "    print(i, sqrt(i))"
   ]
  },
  {
   "cell_type": "code",
   "execution_count": 39,
   "id": "32aa7f5c-19ac-40db-95f8-3339ee3d4854",
   "metadata": {},
   "outputs": [],
   "source": [
    "from PythonLabs.SieveLab import * "
   ]
  },
  {
   "cell_type": "code",
   "execution_count": 40,
   "id": "a4368191-7b47-4f93-bf99-db2c45226165",
   "metadata": {},
   "outputs": [],
   "source": [
    "\n",
    "def retSeive(n):\n",
    "    worksheet = [None, None] + list(range(2,n))\n",
    "    return worksheet"
   ]
  },
  {
   "cell_type": "code",
   "execution_count": 41,
   "id": "0608afa4",
   "metadata": {},
   "outputs": [],
   "source": [
    "\n",
    "worksheet = [None, None] + list(range(2,100))\n"
   ]
  },
  {
   "cell_type": "code",
   "execution_count": 42,
   "id": "6e68760d-1ac1-4847-85ad-edf5590cd401",
   "metadata": {},
   "outputs": [
    {
     "data": {
      "text/plain": [
       "<PythonLabs.SieveLab.SieveView at 0x2169c4393c8>"
      ]
     },
     "execution_count": 42,
     "metadata": {},
     "output_type": "execute_result"
    }
   ],
   "source": [
    "view_sieve(worksheet)"
   ]
  },
  {
   "cell_type": "code",
   "execution_count": 43,
   "id": "15831210-9d2d-46de-8070-441f21ea2a63",
   "metadata": {},
   "outputs": [
    {
     "data": {
      "text/plain": [
       "[None, None, 2, 3, 4, 5, 6, 7, 8, 9, 10, 11, 12, 13, 14, 15, 16, 17, 18, 19]"
      ]
     },
     "execution_count": 43,
     "metadata": {},
     "output_type": "execute_result"
    }
   ],
   "source": [
    "retSeive(20)"
   ]
  },
  {
   "cell_type": "code",
   "execution_count": 44,
   "id": "0bad9929",
   "metadata": {},
   "outputs": [],
   "source": [
    "mark_multiples(2, worksheet)"
   ]
  },
  {
   "cell_type": "code",
   "execution_count": null,
   "id": "cdec7dd8",
   "metadata": {},
   "outputs": [],
   "source": []
  },
  {
   "cell_type": "code",
   "execution_count": 45,
   "id": "0e10577a-0344-4157-8251-ef78963d3fc6",
   "metadata": {},
   "outputs": [
    {
     "data": {
      "text/plain": [
       "[None, None, 2, 3, 4]"
      ]
     },
     "execution_count": 45,
     "metadata": {},
     "output_type": "execute_result"
    }
   ],
   "source": [
    "''' \n",
    "A Helper Function:\n",
    "Programmers write these sorts of specialized functions as a way of focusing on a sigle aspect of a complex\n",
    "problem, allowing them to design and test the code for each piece separately.\n",
    "'''\n",
    "\n",
    "def sift(k, a):\n",
    "    \"Remove multiples of k from list a\"\n",
    "    for i in range(2*k, len(a), k):\n",
    "        a[i] = None\n",
    "        \n",
    "sift(5, worksheet)\n",
    "\n",
    "worksheet[:5]"
   ]
  },
  {
   "cell_type": "code",
   "execution_count": 46,
   "id": "4843430e-0bac-4ace-8611-265a01bfed84",
   "metadata": {},
   "outputs": [],
   "source": [
    "from math import sqrt, ceil \n",
    "\n",
    "def sieve(n):\n",
    "    \"Return a list of all prime numbers less than n\"\n",
    "    \n",
    "    worksheet = [None, None] + list(range(2,n))\n",
    "    \n",
    "    for k in range(2, ceil(sqrt(n))):\n",
    "        if worksheet[k] is not None:\n",
    "            sift(k, worksheet)\n",
    "            \n",
    "    return non_nulls(worksheet)\n",
    "\n",
    "def sift(k, a):\n",
    "    \"Remove multiples of k from list a\"\n",
    "    for i in range(2*k, len(a), k):\n",
    "        a[i] = None\n",
    "        \n",
    "        \n",
    "def non_nulls(a):\n",
    "    'Return a copy of list a with None objects removed'\n",
    "    res = []\n",
    "    for x in a:\n",
    "        if x is not None:\n",
    "            res.append(x)\n",
    "    return res"
   ]
  },
  {
   "cell_type": "code",
   "execution_count": null,
   "id": "023b1dfe-210a-416f-8e6c-52de22b7809b",
   "metadata": {},
   "outputs": [],
   "source": []
  },
  {
   "cell_type": "code",
   "execution_count": 47,
   "id": "ced07e19-0e4d-4183-98c4-495094d016e9",
   "metadata": {},
   "outputs": [
    {
     "ename": "ValueError",
     "evalue": "invalid literal for int() with base 10: 'C:\\\\Users\\\\JBarr\\\\anaconda3\\\\envs\\\\dev\\\\lib\\\\site-packages\\\\ipykernel_launcher.py'",
     "output_type": "error",
     "traceback": [
      "\u001b[1;31m---------------------------------------------------------------------------\u001b[0m",
      "\u001b[1;31mValueError\u001b[0m                                Traceback (most recent call last)",
      "\u001b[1;32m~\\AppData\\Local\\Temp/ipykernel_13584/2684242392.py\u001b[0m in \u001b[0;36m<module>\u001b[1;34m\u001b[0m\n\u001b[0;32m      8\u001b[0m \u001b[1;32mif\u001b[0m \u001b[0m__name__\u001b[0m \u001b[1;33m==\u001b[0m \u001b[1;34m\"__main__\"\u001b[0m \u001b[1;33m:\u001b[0m\u001b[1;33m\u001b[0m\u001b[1;33m\u001b[0m\u001b[0m\n\u001b[0;32m      9\u001b[0m     \u001b[1;31m#print(argv)\u001b[0m\u001b[1;33m\u001b[0m\u001b[1;33m\u001b[0m\u001b[1;33m\u001b[0m\u001b[0m\n\u001b[1;32m---> 10\u001b[1;33m     \u001b[0mt\u001b[0m \u001b[1;33m=\u001b[0m \u001b[0mint\u001b[0m\u001b[1;33m(\u001b[0m\u001b[0margv\u001b[0m\u001b[1;33m[\u001b[0m\u001b[1;36m0\u001b[0m\u001b[1;33m]\u001b[0m\u001b[1;33m)\u001b[0m\u001b[1;33m\u001b[0m\u001b[1;33m\u001b[0m\u001b[0m\n\u001b[0m\u001b[0;32m     11\u001b[0m     \u001b[0mprint\u001b[0m\u001b[1;33m(\u001b[0m\u001b[0mcelsius\u001b[0m\u001b[1;33m(\u001b[0m\u001b[0mt\u001b[0m\u001b[1;33m)\u001b[0m\u001b[1;33m)\u001b[0m\u001b[1;33m\u001b[0m\u001b[1;33m\u001b[0m\u001b[0m\n",
      "\u001b[1;31mValueError\u001b[0m: invalid literal for int() with base 10: 'C:\\\\Users\\\\JBarr\\\\anaconda3\\\\envs\\\\dev\\\\lib\\\\site-packages\\\\ipykernel_launcher.py'"
     ]
    }
   ],
   "source": [
    "from sys import argv \n",
    "\n",
    "def celsius(f):\n",
    "    \"[PythonLabs] Convert temperature t from Fahrenheit to Celsius.\"\n",
    "    return (f - 32) * 5 / 9\n",
    "\n",
    "\n",
    "if __name__ == \"__main__\" :\n",
    "    #print(argv)\n",
    "    t = int(argv[0])\n",
    "    print(celsius(t))"
   ]
  },
  {
   "cell_type": "markdown",
   "id": "fe52933e-325b-4b70-bab0-0bb996b112c5",
   "metadata": {},
   "source": [
    "#"
   ]
  },
  {
   "cell_type": "code",
   "execution_count": null,
   "id": "62f4abcf-5446-496a-8ae3-d859ca2c6b2c",
   "metadata": {},
   "outputs": [],
   "source": [
    "def prime_before(a):\n",
    "    return sift(2, a)\n",
    "    \n",
    "    \n",
    "    "
   ]
  },
  {
   "cell_type": "code",
   "execution_count": null,
   "id": "6d4de6c5-a5ba-485c-b10b-ce4ae29002da",
   "metadata": {},
   "outputs": [],
   "source": [
    "prime_before(100)"
   ]
  },
  {
   "cell_type": "code",
   "execution_count": null,
   "id": "413206c0-67a5-4c63-973d-3366455347ac",
   "metadata": {},
   "outputs": [],
   "source": [
    "def sift(k, a):\n",
    "    \"Remove multiples of k from list a\"\n",
    "    for i in range(2*k, len(a), k):\n",
    "        a[i] = None"
   ]
  },
  {
   "cell_type": "code",
   "execution_count": 9,
   "id": "6d771d2d-c195-47ab-bca9-6f726be6aed4",
   "metadata": {},
   "outputs": [],
   "source": [
    "from PythonLabs.IterationLab import *"
   ]
  },
  {
   "cell_type": "markdown",
   "id": "547d82c5",
   "metadata": {},
   "source": [
    "\"Chapter 4 Searching Algorithm\""
   ]
  },
  {
   "cell_type": "code",
   "execution_count": 10,
   "id": "81d14f62",
   "metadata": {},
   "outputs": [
    {
     "data": {
      "text/plain": [
       "('cars',\n",
       " 'colors',\n",
       " 'elements',\n",
       " 'fruits',\n",
       " 'fish',\n",
       " 'languages',\n",
       " 'words',\n",
       " 'nouns',\n",
       " 'verbs')"
      ]
     },
     "execution_count": 10,
     "metadata": {},
     "output_type": "execute_result"
    }
   ],
   "source": [
    "RandomList.sources()"
   ]
  },
  {
   "cell_type": "code",
   "execution_count": 11,
   "id": "1119f696-97ca-43df-9bd9-ac49f9f44448",
   "metadata": {},
   "outputs": [],
   "source": [
    "# The Linear Search Algorithm\n",
    "\n",
    "a = [8, 1, 9, 2, 7, 5, 3]"
   ]
  },
  {
   "cell_type": "code",
   "execution_count": 12,
   "id": "e0d4dea3-23f3-42b9-b8ac-c2d687114efd",
   "metadata": {},
   "outputs": [
    {
     "data": {
      "text/plain": [
       "4"
      ]
     },
     "execution_count": 12,
     "metadata": {},
     "output_type": "execute_result"
    }
   ],
   "source": [
    "isearch(a, 7)"
   ]
  },
  {
   "cell_type": "code",
   "execution_count": null,
   "id": "ad3c8a5b",
   "metadata": {},
   "outputs": [],
   "source": [
    "\n",
    "display(RandomList(5))\n",
    "\n",
    "display(RandomList(5, 'cars'))"
   ]
  },
  {
   "cell_type": "code",
   "execution_count": null,
   "id": "afbbde64-fcfb-43dc-a490-6c4ba37427f0",
   "metadata": {},
   "outputs": [],
   "source": [
    "%%timeit\n",
    "\n",
    "\n",
    "isearch(a, 1)"
   ]
  },
  {
   "cell_type": "code",
   "execution_count": null,
   "id": "86dbe5a5-085b-4278-a1ac-12c57703f70d",
   "metadata": {},
   "outputs": [],
   "source": [
    "# Implementing Linear Search\n",
    "\n",
    "def linsearch(a, x):\n",
    "    \"Use a for loop to search for x\"\n",
    "    for i in range(0, len(a)):\n",
    "        if a[i] == x:\n",
    "            return i \n",
    "    return None\n",
    "\n"
   ]
  },
  {
   "cell_type": "code",
   "execution_count": null,
   "id": "7ddb1fc2",
   "metadata": {},
   "outputs": [],
   "source": [
    "%%timeit\n",
    "\n",
    "linsearch(a, 3)"
   ]
  },
  {
   "cell_type": "code",
   "execution_count": null,
   "id": "4d435636",
   "metadata": {},
   "outputs": [],
   "source": [
    "def linearSearch(a, x):\n",
    "    \"Use a while loop to search for x\"\n",
    "    i = 0 \n",
    "    while i < len(a):\n",
    "        if a[i] == x:\n",
    "            return i\n",
    "        i += 1 \n",
    "    return None"
   ]
  },
  {
   "cell_type": "code",
   "execution_count": null,
   "id": "62966b7d",
   "metadata": {},
   "outputs": [],
   "source": [
    "%%timeit\n",
    "\n",
    "\n",
    "linearSearch(a, 9)"
   ]
  },
  {
   "cell_type": "code",
   "execution_count": null,
   "id": "822f619b",
   "metadata": {},
   "outputs": [],
   "source": []
  },
  {
   "cell_type": "markdown",
   "id": "fd8585c9-f425-405d-80c7-acf73c82bf51",
   "metadata": {},
   "source": [
    "# The Insertion Sort Algorithm \n",
    "\n",
    "## A Helper Function for Insertion Sort:\n",
    "\n",
    "This operation ia itself defined by an iterative algorithm.\n",
    "If i is the current location, we want to scan left from i -1 ands work back towards the beginning of the list.\n",
    "The scan stops when we find a smaller value or the front of the list.\n"
   ]
  },
  {
   "cell_type": "code",
   "execution_count": 28,
   "id": "9b337e8e-ea0f-492d-bdb4-08ba6ccb63d5",
   "metadata": {},
   "outputs": [
    {
     "name": "stdout",
     "output_type": "stream",
     "text": [
      "[8, 1, 9, 2, 7, 5, 3]\n",
      "[1, 8, 9, 2, 7, 5, 3]\n",
      "[1, 2, 3, 5, 7, 8, 9]\n"
     ]
    }
   ],
   "source": [
    "# Implementing Insertion Sort \n",
    "\n",
    "def isort(a):\n",
    "    'Sort list a using insertion sort'\n",
    "    for i in range(1, len(a)):\n",
    "        move_left(a,i)\n",
    "        \n",
    "\n",
    "def move_left(a, j):\n",
    "    'isort helper function that moves a[j]'\n",
    "    x = a.pop(j)\n",
    "    while j > 0 and a [j - 1] > x:\n",
    "        j -= 1\n",
    "    a.insert(j, x)      \n",
    "\n",
    "def move_left(a, j):\n",
    "    'isort helper function that moves a[j]'\n",
    "    x = a.pop(j)\n",
    "    while j > 0 and a [j - 1] > x:\n",
    "        j -= 1\n",
    "    a.insert(j, x)\n",
    "    \n",
    "    \n",
    "    \n",
    "a = [8, 1, 9, 2, 7, 5, 3]\n",
    "\n",
    "print(a)\n",
    "\n",
    "move_left(a, 1)\n",
    "\n",
    "print(a)\n",
    "\n",
    "isort(a)\n",
    "\n",
    "print(a)"
   ]
  },
  {
   "cell_type": "code",
   "execution_count": null,
   "id": "7331963f-45bd-4345-a553-286b7f51fa60",
   "metadata": {},
   "outputs": [],
   "source": [
    "  "
   ]
  },
  {
   "cell_type": "code",
   "execution_count": null,
   "id": "15cb870e-e353-4297-a9e1-9120eace31bb",
   "metadata": {},
   "outputs": [],
   "source": []
  },
  {
   "cell_type": "code",
   "execution_count": null,
   "id": "395b7dee-8ee7-4b69-b5ef-b0fcaf0a5e32",
   "metadata": {},
   "outputs": [],
   "source": []
  },
  {
   "cell_type": "code",
   "execution_count": null,
   "id": "a273547a-912f-4508-a700-584dcbb3f41a",
   "metadata": {},
   "outputs": [],
   "source": []
  },
  {
   "cell_type": "code",
   "execution_count": null,
   "id": "eb4dec75-12ec-4665-abf5-ea12238656c4",
   "metadata": {},
   "outputs": [],
   "source": []
  }
 ],
 "metadata": {
  "interpreter": {
   "hash": "9ae16ef445867c3ddd8a030e03f508a31c88ab57810e24e3a3afaf36f09532d0"
  },
  "kernelspec": {
   "display_name": "dev",
   "language": "python",
   "name": "dev"
  },
  "language_info": {
   "codemirror_mode": {
    "name": "ipython",
    "version": 3
   },
   "file_extension": ".py",
   "mimetype": "text/x-python",
   "name": "python",
   "nbconvert_exporter": "python",
   "pygments_lexer": "ipython3",
   "version": "3.7.11"
  }
 },
 "nbformat": 4,
 "nbformat_minor": 5
}
