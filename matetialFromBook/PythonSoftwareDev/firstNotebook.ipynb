{
 "cells": [
  {
   "cell_type": "code",
   "execution_count": 21,
   "id": "63596d9a-007c-4577-8ce6-17808c20a632",
   "metadata": {},
   "outputs": [],
   "source": [
    "from PythonLabs import *"
   ]
  },
  {
   "cell_type": "code",
   "execution_count": null,
   "id": "17fa909e-c5f1-4d4e-a6fc-19a4d360646a",
   "metadata": {},
   "outputs": [],
   "source": []
  },
  {
   "cell_type": "code",
   "execution_count": 22,
   "id": "e761c658-55c7-47ff-98a7-f9926dc86ec7",
   "metadata": {},
   "outputs": [],
   "source": [
    "# Celsius function\n",
    "\n",
    "def celsiusConver(f):\n",
    "    f - 32 * 5/9\n",
    "    return FromCelToFahren(f) \n",
    "    \"Convert temperature f from Fahrenheit to Celsius\"\n",
    "    "
   ]
  },
  {
   "cell_type": "code",
   "execution_count": null,
   "id": "0dad51ed-facb-4abe-84b5-3f4e3be7125d",
   "metadata": {},
   "outputs": [],
   "source": []
  },
  {
   "cell_type": "code",
   "execution_count": null,
   "id": "1a79e7b5-40a3-4877-956f-be4323c7393a",
   "metadata": {},
   "outputs": [],
   "source": []
  },
  {
   "cell_type": "code",
   "execution_count": 23,
   "id": "c04009a1-3ca6-474a-be7b-6b96ae154cd0",
   "metadata": {},
   "outputs": [],
   "source": [
    "def FromCelToFahren(f):\n",
    "    c = f * 9/5 + 32\n",
    "    return c\n",
    "    "
   ]
  },
  {
   "cell_type": "code",
   "execution_count": null,
   "id": "c89a3035-16b8-44ae-aa22-9a06455bb2a3",
   "metadata": {},
   "outputs": [],
   "source": []
  },
  {
   "cell_type": "code",
   "execution_count": 24,
   "id": "bb4ce98a-5096-4a76-a1cd-2a619b2a25af",
   "metadata": {},
   "outputs": [
    {
     "data": {
      "text/plain": [
       "212.0"
      ]
     },
     "execution_count": 24,
     "metadata": {},
     "output_type": "execute_result"
    }
   ],
   "source": [
    "celsiusConver(f=100)"
   ]
  },
  {
   "cell_type": "code",
   "execution_count": null,
   "id": "28c00b9e-87c6-414a-9e76-30f7c8aadeb7",
   "metadata": {},
   "outputs": [],
   "source": []
  },
  {
   "cell_type": "code",
   "execution_count": 42,
   "id": "1d982c69-4865-4dc9-aa01-9f537ef2166f",
   "metadata": {},
   "outputs": [],
   "source": [
    "def countertop(x):\n",
    "    \"\"\"\n",
    "    Compute the area of a square countertop with a mizzing wedge.\n",
    "    The pameter x is the length of one side of the square.\n",
    "    \"\"\"\n",
    "    \n",
    "    square = x ** 2 # area of the full square\n",
    "    \n",
    "    triangle = ((x / 2 ) ** 2) / 2  # area of the misssing wedge \n",
    "    \n",
    "    return square - triangle"
   ]
  },
  {
   "cell_type": "code",
   "execution_count": null,
   "id": "ef83f5aa",
   "metadata": {},
   "outputs": [],
   "source": [
    "countertop(22)"
   ]
  },
  {
   "cell_type": "code",
   "execution_count": null,
   "id": "e9ffc91d",
   "metadata": {},
   "outputs": [],
   "source": []
  },
  {
   "cell_type": "code",
   "execution_count": 47,
   "id": "84f75f56",
   "metadata": {},
   "outputs": [],
   "source": [
    "def celsisus(f):\n",
    "    \"Convert temperature f from Fahrenheit to Celsius\"\n",
    "    temp = (f - 32) + 5 / 9 \n",
    "    return temp"
   ]
  },
  {
   "cell_type": "code",
   "execution_count": 49,
   "id": "d50d2495-0651-465d-bd64-b839d707fd5c",
   "metadata": {},
   "outputs": [
    {
     "name": "stdout",
     "output_type": "stream",
     "text": [
      "Help on function celsisus in module __main__:\n",
      "\n",
      "celsisus(f)\n",
      "    Convert temperature f from Fahrenheit to Celsius\n",
      "\n"
     ]
    }
   ],
   "source": [
    "help(celsisus)"
   ]
  },
  {
   "cell_type": "code",
   "execution_count": 26,
   "id": "bb4ff1c8-15bc-4370-85b9-27319b258df7",
   "metadata": {},
   "outputs": [],
   "source": [
    "def marginal_tax_rate(income):\n",
    "    if income < 10000:\n",
    "        return 0.0\n",
    "    elif income < 200000:\n",
    "        return 3.5\n",
    "    else:\n",
    "        return 5.0"
   ]
  },
  {
   "cell_type": "code",
   "execution_count": null,
   "id": "d411c92e-51a6-4722-9e82-291286911968",
   "metadata": {},
   "outputs": [],
   "source": []
  },
  {
   "cell_type": "code",
   "execution_count": 55,
   "id": "901ff0d4",
   "metadata": {},
   "outputs": [
    {
     "data": {
      "text/plain": [
       "'hellohellohello'"
      ]
     },
     "execution_count": 55,
     "metadata": {},
     "output_type": "execute_result"
    }
   ],
   "source": [
    "\"Strings\"\n",
    "\n",
    "s = 'hello'\n",
    "\n",
    "t = \"Who's there?\"\n",
    "\n",
    "s + \"?\"\n",
    "\n",
    "s * 3 "
   ]
  },
  {
   "cell_type": "code",
   "execution_count": 63,
   "id": "da48e2b3",
   "metadata": {},
   "outputs": [
    {
     "name": "stdout",
     "output_type": "stream",
     "text": [
      "True\n",
      "True\n",
      "False\n"
     ]
    }
   ],
   "source": [
    "\n",
    "print(\"ll\" in s)\n",
    "\n",
    "\n",
    "print('here' in t)\n",
    "\n",
    "\n",
    "print('who' in t)\n"
   ]
  },
  {
   "cell_type": "code",
   "execution_count": 69,
   "id": "bc087064",
   "metadata": {},
   "outputs": [
    {
     "data": {
      "text/plain": [
       "4"
      ]
     },
     "execution_count": 69,
     "metadata": {},
     "output_type": "execute_result"
    }
   ],
   "source": [
    "sentence = 'Im from the bay where we hyphy and go dumb. from that soil where them rappers been getting they lingo from'\n",
    "\n",
    "oneWord = 'one'\n",
    "\n",
    "\n",
    "str.count(oneWord, \"\")"
   ]
  },
  {
   "cell_type": "code",
   "execution_count": 70,
   "id": "a0f868ae",
   "metadata": {},
   "outputs": [
    {
     "name": "stdout",
     "output_type": "stream",
     "text": [
      "False\n",
      "True\n"
     ]
    }
   ],
   "source": [
    "test1 = 'duck'\n",
    "\n",
    "test2 = 'fish'\n",
    "\n",
    "print(test1.endswith('h'))\n",
    "\n",
    "print(test2.endswith('h'))"
   ]
  },
  {
   "cell_type": "code",
   "execution_count": null,
   "id": "92692a5e",
   "metadata": {},
   "outputs": [],
   "source": []
  },
  {
   "cell_type": "code",
   "execution_count": 27,
   "id": "110f2313-8d0f-4203-b3c0-4d6d42276288",
   "metadata": {},
   "outputs": [],
   "source": [
    "def plural(w):\n",
    "    \"Return the plural form of word w.\"\n",
    "    if w.endswith('h'):\n",
    "        return w + 'es'\n",
    "    elif w.endswith('y'):\n",
    "        return prefix(w) + 'ies'\n",
    "    else:\n",
    "        return w + 's'\n",
    "                "
   ]
  },
  {
   "cell_type": "code",
   "execution_count": 72,
   "id": "044b1a88-9eb1-40a6-b6e0-dc707a0b7891",
   "metadata": {},
   "outputs": [
    {
     "name": "stdout",
     "output_type": "stream",
     "text": [
      "Ducks\n",
      "fishes\n"
     ]
    }
   ],
   "source": [
    "print(plural(\"Duck\"))\n",
    "\n",
    "print(plural(test2))"
   ]
  },
  {
   "cell_type": "code",
   "execution_count": null,
   "id": "b1e3ae8d-25db-4a51-b536-265f3b230591",
   "metadata": {},
   "outputs": [],
   "source": []
  },
  {
   "cell_type": "code",
   "execution_count": 77,
   "id": "1a797a19",
   "metadata": {},
   "outputs": [
    {
     "name": "stdout",
     "output_type": "stream",
     "text": [
      "pon\n",
      "y\n",
      "duc\n",
      "k\n"
     ]
    }
   ],
   "source": [
    "from PythonLabs.Tools import prefix, suffix\n",
    "\n",
    "test4 = 'pony'\n",
    "\n",
    "print(prefix(test4))\n",
    "print(suffix(test4))\n",
    "\n",
    "print(prefix(test1))\n",
    "print(suffix(test1))"
   ]
  },
  {
   "cell_type": "code",
   "execution_count": null,
   "id": "cce47a2d",
   "metadata": {},
   "outputs": [],
   "source": []
  },
  {
   "cell_type": "code",
   "execution_count": 80,
   "id": "8665c69b",
   "metadata": {},
   "outputs": [],
   "source": [
    "from PythonLabs.Tools import prefix\n",
    "\n",
    "def plurals(w):\n",
    "    'Return the plurual form of word w.'\n",
    "    if w.endswith('h') or w.endswith('s'):\n",
    "        return w + 'es'\n",
    "    elif w.endswith('y'):\n",
    "        return prefix(w) + 'ies'\n",
    "    else:\n",
    "        return w + 's'\n"
   ]
  },
  {
   "cell_type": "code",
   "execution_count": 81,
   "id": "851b54a6",
   "metadata": {},
   "outputs": [
    {
     "data": {
      "text/plain": [
       "'ponies'"
      ]
     },
     "execution_count": 81,
     "metadata": {},
     "output_type": "execute_result"
    }
   ],
   "source": [
    "plurals(test4)"
   ]
  },
  {
   "cell_type": "code",
   "execution_count": 83,
   "id": "6b8d7972",
   "metadata": {},
   "outputs": [
    {
     "data": {
      "text/plain": [
       "'french'"
      ]
     },
     "execution_count": 83,
     "metadata": {},
     "output_type": "execute_result"
    }
   ],
   "source": [
    "from PythonLabs.Tools import randnoun\n",
    "\n",
    "randnoun()\n"
   ]
  },
  {
   "cell_type": "code",
   "execution_count": 84,
   "id": "18a98969",
   "metadata": {},
   "outputs": [
    {
     "data": {
      "text/plain": [
       "'powers'"
      ]
     },
     "execution_count": 84,
     "metadata": {},
     "output_type": "execute_result"
    }
   ],
   "source": [
    "plurals(randnoun())"
   ]
  },
  {
   "cell_type": "code",
   "execution_count": null,
   "id": "87b1a618",
   "metadata": {},
   "outputs": [],
   "source": []
  },
  {
   "cell_type": "code",
   "execution_count": 88,
   "id": "ca327c53-c61a-48d9-a2b2-9065ff34a688",
   "metadata": {},
   "outputs": [],
   "source": [
    "def fahrenheit(c):\n",
    "    \"Convert temperature f from Fahrenheit to Celsius\"\n",
    "    f = (c * 9) /5 + 32 \n",
    "    return f"
   ]
  },
  {
   "cell_type": "code",
   "execution_count": 89,
   "id": "785c4810",
   "metadata": {},
   "outputs": [
    {
     "data": {
      "text/plain": [
       "190.4"
      ]
     },
     "execution_count": 89,
     "metadata": {},
     "output_type": "execute_result"
    }
   ],
   "source": [
    "Fahrenheit(88)"
   ]
  },
  {
   "cell_type": "code",
   "execution_count": null,
   "id": "6a5cc8db",
   "metadata": {},
   "outputs": [],
   "source": []
  },
  {
   "cell_type": "code",
   "execution_count": null,
   "id": "af71c1fc",
   "metadata": {},
   "outputs": [],
   "source": []
  },
  {
   "cell_type": "code",
   "execution_count": null,
   "id": "41b0aec7",
   "metadata": {},
   "outputs": [],
   "source": []
  },
  {
   "cell_type": "code",
   "execution_count": null,
   "id": "14dd7a73",
   "metadata": {},
   "outputs": [],
   "source": []
  },
  {
   "cell_type": "code",
   "execution_count": 29,
   "id": "4b216cb8-f9a7-4328-b7e3-c48eb67ade13",
   "metadata": {},
   "outputs": [
    {
     "data": {
      "text/plain": [
       "75.0"
      ]
     },
     "execution_count": 29,
     "metadata": {},
     "output_type": "execute_result"
    }
   ],
   "source": [
    "distance_unit_Miles = 1 \n",
    "\n",
    "timelen = 3600\n",
    "\n",
    "mph = timelen / 48\n",
    "\n",
    "mph"
   ]
  },
  {
   "cell_type": "code",
   "execution_count": 30,
   "id": "285f2637-0c9f-4580-8ca7-e8c394ce7816",
   "metadata": {},
   "outputs": [],
   "source": [
    "def mphCal(t=3600):\n",
    "    timelens = t\n",
    "    return timelens / 60 * 100"
   ]
  },
  {
   "cell_type": "code",
   "execution_count": null,
   "id": "40eff9bd-f68c-423f-9d7c-c8a43b753681",
   "metadata": {},
   "outputs": [],
   "source": []
  },
  {
   "cell_type": "code",
   "execution_count": 96,
   "id": "f94b90c5-79bb-4daf-9437-b3c16a342bec",
   "metadata": {},
   "outputs": [],
   "source": [
    "def bmi(weight, height):\n",
    "    modyMassIndex = weight / height**2 * 703\n",
    "    return modyMassIndex"
   ]
  },
  {
   "cell_type": "code",
   "execution_count": 97,
   "id": "c2192a1b-4c83-4747-bb1b-e6ac56e176d0",
   "metadata": {},
   "outputs": [
    {
     "data": {
      "text/plain": [
       "25.559210526315788"
      ]
     },
     "execution_count": 97,
     "metadata": {},
     "output_type": "execute_result"
    }
   ],
   "source": [
    "bmi(210, 76) "
   ]
  },
  {
   "cell_type": "code",
   "execution_count": null,
   "id": "c37feb61-92c9-4591-9de5-f704383ccb65",
   "metadata": {},
   "outputs": [],
   "source": []
  },
  {
   "cell_type": "code",
   "execution_count": null,
   "id": "f39bd3f4-d66b-41b9-922b-1d5026353a15",
   "metadata": {},
   "outputs": [],
   "source": []
  },
  {
   "cell_type": "code",
   "execution_count": 100,
   "id": "d37c18e8-9106-4756-945b-43c2f48cacb9",
   "metadata": {},
   "outputs": [],
   "source": [
    "# This computes monthly paymetns on a loan\n",
    "\n",
    "def pmt(amt, rate, yrs):\n",
    "    r = rate/100/12\n",
    "    p = 12 * yrs\n",
    "    return r * amt / 1-(1 + r)**-p"
   ]
  },
  {
   "cell_type": "code",
   "execution_count": 101,
   "id": "4671d58e-27bb-47c4-8175-d19cd5b216bd",
   "metadata": {},
   "outputs": [
    {
     "data": {
      "text/plain": [
       "562.2401043462833"
      ]
     },
     "execution_count": 101,
     "metadata": {},
     "output_type": "execute_result"
    }
   ],
   "source": [
    "pmt(150000, 4.5, 30)"
   ]
  },
  {
   "cell_type": "code",
   "execution_count": null,
   "id": "d1b892b5-56ba-4650-bef9-af1339fe9c84",
   "metadata": {},
   "outputs": [],
   "source": []
  },
  {
   "cell_type": "code",
   "execution_count": 112,
   "id": "a0ee4ae8-5df5-49b9-aae2-c010805f6202",
   "metadata": {},
   "outputs": [],
   "source": [
    "# ERA = 27 X runs/outs\n",
    "\n",
    "def era(runs, outs):\n",
    "    return 27 * runs / outs\n",
    "\n",
    "'Define a function named repeat that will take a word s and an integer n as the arguments and return n copies of s'\n",
    "\n",
    "def repeat(s, n):\n",
    "    return(s * n)\n",
    "    \n",
    "\"\"    "
   ]
  },
  {
   "cell_type": "code",
   "execution_count": 117,
   "id": "95d2378d",
   "metadata": {},
   "outputs": [
    {
     "name": "stdout",
     "output_type": "stream",
     "text": [
      "3.6\n",
      "Win, Win, Win, \n"
     ]
    }
   ],
   "source": [
    "print(era(2, 15))\n",
    "\n",
    "print(repeat('Win, ',  3))"
   ]
  },
  {
   "cell_type": "code",
   "execution_count": null,
   "id": "a0651e92",
   "metadata": {},
   "outputs": [],
   "source": []
  },
  {
   "cell_type": "code",
   "execution_count": 35,
   "id": "92c96ac9-5148-4804-9766-a7b028676f6a",
   "metadata": {},
   "outputs": [],
   "source": [
    "# Iterationg Over Lists: for statementns"
   ]
  },
  {
   "cell_type": "code",
   "execution_count": 36,
   "id": "df1363b0-ca0b-4628-ba11-299aa7feecd1",
   "metadata": {},
   "outputs": [],
   "source": [
    "def partial_total(n,a):\n",
    "    \"\"\"\n",
    "    Compute the total of the first n items in list a.\n",
    "    \"\"\"\n",
    "    sum = 0 \n",
    "    for i in range(0,n):\n",
    "        sum += a[i]\n",
    "        return sum\n",
    "    "
   ]
  },
  {
   "cell_type": "code",
   "execution_count": 37,
   "id": "de959cd3-bd6e-402d-b08d-84f378f8d76d",
   "metadata": {},
   "outputs": [
    {
     "name": "stdout",
     "output_type": "stream",
     "text": [
      "1 1.0\n",
      "2 1.4142135623730951\n",
      "3 1.7320508075688772\n",
      "4 2.0\n",
      "5 2.23606797749979\n",
      "6 2.449489742783178\n",
      "7 2.6457513110645907\n",
      "8 2.8284271247461903\n",
      "9 3.0\n",
      "10 3.1622776601683795\n",
      "11 3.3166247903554\n",
      "12 3.4641016151377544\n",
      "13 3.605551275463989\n",
      "14 3.7416573867739413\n",
      "15 3.872983346207417\n",
      "16 4.0\n",
      "17 4.123105625617661\n",
      "18 4.242640687119285\n",
      "19 4.358898943540674\n",
      "20 4.47213595499958\n",
      "21 4.58257569495584\n",
      "22 4.69041575982343\n",
      "23 4.795831523312719\n",
      "24 4.898979485566356\n"
     ]
    }
   ],
   "source": [
    "from math import sqrt \n",
    "for i in range(1,25):\n",
    "    print(i, sqrt(i))"
   ]
  },
  {
   "cell_type": "code",
   "execution_count": 38,
   "id": "32aa7f5c-19ac-40db-95f8-3339ee3d4854",
   "metadata": {},
   "outputs": [],
   "source": [
    "from PythonLabs.SieveLab import * "
   ]
  },
  {
   "cell_type": "code",
   "execution_count": 39,
   "id": "a4368191-7b47-4f93-bf99-db2c45226165",
   "metadata": {},
   "outputs": [],
   "source": [
    "\n",
    "def retSeive(n):\n",
    "    worksheet = [None, None] + list(range(2,n))\n",
    "    return worksheet[:25]"
   ]
  },
  {
   "cell_type": "code",
   "execution_count": 40,
   "id": "6e68760d-1ac1-4847-85ad-edf5590cd401",
   "metadata": {},
   "outputs": [
    {
     "ename": "NameError",
     "evalue": "name 'worksheet' is not defined",
     "output_type": "error",
     "traceback": [
      "\u001b[1;31m---------------------------------------------------------------------------\u001b[0m",
      "\u001b[1;31mNameError\u001b[0m                                 Traceback (most recent call last)",
      "\u001b[1;32m~\\AppData\\Local\\Temp/ipykernel_26708/2388543969.py\u001b[0m in \u001b[0;36m<module>\u001b[1;34m\u001b[0m\n\u001b[1;32m----> 1\u001b[1;33m \u001b[0mview_sieve\u001b[0m\u001b[1;33m(\u001b[0m\u001b[0mworksheet\u001b[0m\u001b[1;33m)\u001b[0m\u001b[1;33m.\u001b[0m\u001b[0moptions\u001b[0m\u001b[1;33m\u001b[0m\u001b[1;33m\u001b[0m\u001b[0m\n\u001b[0m",
      "\u001b[1;31mNameError\u001b[0m: name 'worksheet' is not defined"
     ]
    }
   ],
   "source": [
    "view_sieve(worksheet).options"
   ]
  },
  {
   "cell_type": "code",
   "execution_count": null,
   "id": "15831210-9d2d-46de-8070-441f21ea2a63",
   "metadata": {},
   "outputs": [],
   "source": [
    "retSeive(100)"
   ]
  },
  {
   "cell_type": "code",
   "execution_count": null,
   "id": "0e10577a-0344-4157-8251-ef78963d3fc6",
   "metadata": {},
   "outputs": [],
   "source": [
    "''' \n",
    "A Helper Function:\n",
    "Programmers write these sorts of specialized functions as a way of focusing on a sigle aspect of a complex\n",
    "problem, allowing them to design and test the code for each piece separately.\n",
    "'''\n",
    "\n",
    "def sift(k, a):\n",
    "    \"Remove multiples of k from list a\"\n",
    "    for i in range(2*k, len(a), k):\n",
    "        a[i] = None\n",
    "        \n",
    "sift(5, worksheet)\n",
    "\n",
    "worksheet[:5]"
   ]
  },
  {
   "cell_type": "code",
   "execution_count": null,
   "id": "4843430e-0bac-4ace-8611-265a01bfed84",
   "metadata": {},
   "outputs": [],
   "source": [
    "from math import sqrt, ceil \n",
    "\n",
    "def sieve(n):\n",
    "    \"Return a list of all prime numbers less than n\"\n",
    "    \n",
    "    worksheet = [None, None] + list(range(2,n))\n",
    "    \n",
    "    for k in range(2, ceil(sqrt(n))):\n",
    "        if worksheet[k] is not None:\n",
    "            sift(k, worksheet)\n",
    "            \n",
    "    return non_nulls(worksheet)\n",
    "\n",
    "def sift(k, a):\n",
    "    \"Remove multiples of k from list a\"\n",
    "    for i in range(2*k, len(a), k):\n",
    "        a[i] = None\n",
    "        \n",
    "        \n",
    "def non_nulls(a):\n",
    "    'Return a copy of list a with None objects removed'\n",
    "    res = []\n",
    "    for x in a:\n",
    "        if x is not None:\n",
    "            res.append(x)\n",
    "    return res"
   ]
  },
  {
   "cell_type": "code",
   "execution_count": null,
   "id": "023b1dfe-210a-416f-8e6c-52de22b7809b",
   "metadata": {},
   "outputs": [],
   "source": []
  },
  {
   "cell_type": "code",
   "execution_count": null,
   "id": "ced07e19-0e4d-4183-98c4-495094d016e9",
   "metadata": {},
   "outputs": [],
   "source": [
    "from sys import argv \n",
    "\n",
    "def celsius(f):\n",
    "    \"[PythonLabs] Convert temperature t from Fahrenheit to Celsius.\"\n",
    "    return (f - 32) * 5 / 9\n",
    "\n",
    "\n",
    "\"\"\"if __name__ == \"__main__\" :\n",
    "    #print(argv)\n",
    "    t = int(argv[1])\n",
    "    print(celsius(t))\"\"\""
   ]
  },
  {
   "cell_type": "markdown",
   "id": "fe52933e-325b-4b70-bab0-0bb996b112c5",
   "metadata": {},
   "source": [
    "#"
   ]
  },
  {
   "cell_type": "code",
   "execution_count": null,
   "id": "62f4abcf-5446-496a-8ae3-d859ca2c6b2c",
   "metadata": {},
   "outputs": [],
   "source": [
    "def prime_before(a):\n",
    "    return sift(2, a)\n",
    "    \n",
    "    \n",
    "    "
   ]
  },
  {
   "cell_type": "code",
   "execution_count": null,
   "id": "6d4de6c5-a5ba-485c-b10b-ce4ae29002da",
   "metadata": {},
   "outputs": [],
   "source": [
    "prime_before(100)"
   ]
  },
  {
   "cell_type": "code",
   "execution_count": null,
   "id": "413206c0-67a5-4c63-973d-3366455347ac",
   "metadata": {},
   "outputs": [],
   "source": [
    "def sift(k, a):\n",
    "    \"Remove multiples of k from list a\"\n",
    "    for i in range(2*k, len(a), k):\n",
    "        a[i] = None"
   ]
  },
  {
   "cell_type": "code",
   "execution_count": null,
   "id": "6d771d2d-c195-47ab-bca9-6f726be6aed4",
   "metadata": {},
   "outputs": [],
   "source": []
  },
  {
   "cell_type": "code",
   "execution_count": null,
   "id": "afbbde64-fcfb-43dc-a490-6c4ba37427f0",
   "metadata": {},
   "outputs": [],
   "source": []
  },
  {
   "cell_type": "code",
   "execution_count": null,
   "id": "86dbe5a5-085b-4278-a1ac-12c57703f70d",
   "metadata": {},
   "outputs": [],
   "source": []
  }
 ],
 "metadata": {
  "kernelspec": {
   "display_name": "dev",
   "language": "python",
   "name": "dev"
  },
  "language_info": {
   "codemirror_mode": {
    "name": "ipython",
    "version": 3
   },
   "file_extension": ".py",
   "mimetype": "text/x-python",
   "name": "python",
   "nbconvert_exporter": "python",
   "pygments_lexer": "ipython3",
   "version": "3.7.11"
  }
 },
 "nbformat": 4,
 "nbformat_minor": 5
}
