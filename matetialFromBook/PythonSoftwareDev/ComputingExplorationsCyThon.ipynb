{
 "cells": [
  {
   "cell_type": "code",
   "execution_count": 1,
   "id": "63596d9a-007c-4577-8ce6-17808c20a632",
   "metadata": {},
   "outputs": [],
   "source": [
    "from PythonLabs import *"
   ]
  },
  {
   "cell_type": "code",
   "execution_count": 2,
   "id": "17fa909e-c5f1-4d4e-a6fc-19a4d360646a",
   "metadata": {},
   "outputs": [],
   "source": [
    "%load_ext Cython"
   ]
  },
  {
   "cell_type": "code",
   "execution_count": 3,
   "id": "0edfbcf2",
   "metadata": {},
   "outputs": [],
   "source": [
    "# Celsius function\n",
    "def celsiusConver(f):\n",
    "    f - 32 * 5/9\n",
    "    return FromCelToFahren(f) \n",
    "    \"Convert temperature f from Fahrenheit to Celsius\"\n",
    "\n",
    "def FromCelToFahren(f):\n",
    "    c = f * 9/5 + 32\n",
    "    return c"
   ]
  },
  {
   "cell_type": "code",
   "execution_count": 4,
   "id": "f10fc288",
   "metadata": {},
   "outputs": [
    {
     "name": "stdout",
     "output_type": "stream",
     "text": [
      "210.2\n"
     ]
    }
   ],
   "source": [
    "%%cython\n",
    "# Celsius function\n",
    "cdef CelsiusConver(double f):\n",
    "    f - 32 * 5/9\n",
    "    return FromCToFahren(f) \n",
    "    \n",
    "cdef FromCToFahren(f):\n",
    "   cdef double c\n",
    "   c = f * 9/5 + 32\n",
    "   return c\n",
    "\n",
    "\n",
    "print(CelsiusConver(99))"
   ]
  },
  {
   "cell_type": "code",
   "execution_count": null,
   "id": "9d78afc9",
   "metadata": {},
   "outputs": [],
   "source": []
  },
  {
   "cell_type": "code",
   "execution_count": null,
   "id": "28c00b9e-87c6-414a-9e76-30f7c8aadeb7",
   "metadata": {},
   "outputs": [],
   "source": []
  },
  {
   "cell_type": "code",
   "execution_count": 5,
   "id": "1d982c69-4865-4dc9-aa01-9f537ef2166f",
   "metadata": {},
   "outputs": [],
   "source": [
    "def countertop(x):\n",
    "    \"\"\"\n",
    "    Compute the area of a square countertop with a mizzing wedge.\n",
    "    The pameter x is the length of one side of the square.\n",
    "    \"\"\"\n",
    "    \n",
    "    square = x ** 2 # area of the full square\n",
    "    \n",
    "    triangle = ((x / 2 ) ** 2) / 2  # area of the misssing wedge \n",
    "    \n",
    "    return square - triangle"
   ]
  },
  {
   "cell_type": "code",
   "execution_count": 6,
   "id": "ef83f5aa",
   "metadata": {},
   "outputs": [
    {
     "name": "stdout",
     "output_type": "stream",
     "text": [
      "2646.875\n"
     ]
    }
   ],
   "source": [
    "%%cython\n",
    "\n",
    "cdef Ccountertop(double x):\n",
    "    \"\"\"\n",
    "    Compute the area of a square countertop with a mizzing wedge.\n",
    "    The pameter x is the length of one side of the square.\n",
    "    \"\"\"\n",
    "    \n",
    "    square = x ** 2 # area of the full square\n",
    "    \n",
    "    triangle = ((x / 2 ) ** 2) / 2  # area of the misssing wedge \n",
    "    \n",
    "    return square - triangle\n",
    "\n",
    "print(Ccountertop(55))"
   ]
  },
  {
   "cell_type": "code",
   "execution_count": 7,
   "id": "2ed8d3d5",
   "metadata": {},
   "outputs": [],
   "source": [
    "def add(*args):\n",
    "    total = 0\n",
    "    for x in args:\n",
    "        total += x\n",
    "    return total"
   ]
  },
  {
   "cell_type": "code",
   "execution_count": 8,
   "id": "fa575b9c",
   "metadata": {},
   "outputs": [
    {
     "name": "stdout",
     "output_type": "stream",
     "text": [
      "26\n"
     ]
    }
   ],
   "source": [
    "%%cython\n",
    "cdef list Cargs = [1,5,1,6,5,8]\n",
    "def add(args):\n",
    "    cdef int total = 0\n",
    "    for x in args:\n",
    "        total += x\n",
    "    return total\n",
    "\n",
    "\n",
    "print(add(Cargs))"
   ]
  },
  {
   "cell_type": "code",
   "execution_count": 9,
   "id": "6dd98136",
   "metadata": {},
   "outputs": [],
   "source": [
    "%%cython \n",
    "\n",
    "cdef add3CY(int x,int y, int z):\n",
    "    return x + y + z\n"
   ]
  },
  {
   "cell_type": "code",
   "execution_count": 10,
   "id": "a75b4a2e",
   "metadata": {},
   "outputs": [
    {
     "name": "stdout",
     "output_type": "stream",
     "text": [
      "1773002.7662222502\n",
      "382.77216451009605\n",
      "155.13869555449224\n",
      "241.69677156\n",
      "84.00559130699642\n",
      "None\n",
      "1322.3821477472127\n"
     ]
    }
   ],
   "source": [
    "%%cython\n",
    "import time\n",
    "import sys\n",
    "\n",
    "cimport cython\n",
    "cimport numpy as cnp\n",
    "\n",
    "from libc.math cimport pow, sqrt\n",
    "\n",
    "\n",
    "cdef mileages = [1331.5415, 19.564564, 12.4554685, 15.5466, 9.16545641564]\n",
    "\n",
    "cdef partial_total(mileages):\n",
    "    cdef i = float\n",
    "    for i in mileages:\n",
    "        print(i ** 2)\n",
    "        \n",
    "print(partial_total(mileages))\n",
    "\n",
    "\n",
    "\n",
    "cdef subtract(mileages):\n",
    "    return (mileages[0] - mileages[-1], mileages[-2] - mileages[-4])\n",
    "\n",
    "cdef length(mileages):\n",
    "    return sqrt(mileages[0]**2 + mileages[1]**2)\n",
    "\n",
    "\n",
    "cdef add(mileages):\n",
    "    return (mileages[0] + mileages[0], mileages[1] + mileages[1])\n",
    "\n",
    "\n",
    "cdef distanceC(mileages):\n",
    "    return length(subtract(mileages))\n",
    "\n",
    "\n",
    "print(distanceC(mileages))\n",
    "   "
   ]
  },
  {
   "cell_type": "code",
   "execution_count": 11,
   "id": "13563efb",
   "metadata": {},
   "outputs": [],
   "source": [
    "%%cython\n",
    "\n",
    "cdef Cyfib(int n):\n",
    "    cdef double a=0.0, b=1.0\n",
    "    for i in range(n):\n",
    "        a, b = a + b, a\n",
    "    return a"
   ]
  },
  {
   "cell_type": "code",
   "execution_count": null,
   "id": "e9ffc91d",
   "metadata": {},
   "outputs": [],
   "source": []
  },
  {
   "cell_type": "code",
   "execution_count": 12,
   "id": "84f75f56",
   "metadata": {},
   "outputs": [],
   "source": [
    "def celsisus(f):\n",
    "    \"Convert temperature f from Fahrenheit to Celsius\"\n",
    "    temp = (f - 32) + 5 / 9 \n",
    "    return temp"
   ]
  },
  {
   "cell_type": "code",
   "execution_count": 13,
   "id": "8c200fdd",
   "metadata": {},
   "outputs": [],
   "source": [
    "%%cython\n",
    "\n",
    "cdef Celsisus(float f):\n",
    "    \"Convert temperature f from Fahrenheit to Celsius\"\n",
    "    return (f - 32) + 5 / 9 \n",
    "\n"
   ]
  },
  {
   "cell_type": "code",
   "execution_count": 14,
   "id": "5bd75efd",
   "metadata": {},
   "outputs": [],
   "source": [
    "def marginal_tax_rate(income):\n",
    "    if income < 10000:\n",
    "        return 0.0\n",
    "    elif income < 200000:\n",
    "        return 3.5\n",
    "    else:\n",
    "        return 5.0\n",
    "    \n",
    "  "
   ]
  },
  {
   "cell_type": "code",
   "execution_count": 15,
   "id": "ac677b9b",
   "metadata": {},
   "outputs": [],
   "source": [
    "%%cython\n",
    "cdef marginal_tax_rate(float income):\n",
    "    if income < 10000:\n",
    "        return 0.0\n",
    "    elif income < 200000:\n",
    "        return 3.5\n",
    "    else:\n",
    "        return 5.0"
   ]
  },
  {
   "cell_type": "code",
   "execution_count": 16,
   "id": "d4f928d2",
   "metadata": {},
   "outputs": [
    {
     "name": "stdout",
     "output_type": "stream",
     "text": [
      "1 1.0\n",
      "2 1.4142135623730951\n",
      "3 1.7320508075688772\n",
      "4 2.0\n",
      "5 2.23606797749979\n",
      "6 2.449489742783178\n",
      "7 2.6457513110645907\n",
      "8 2.8284271247461903\n",
      "9 3.0\n",
      "10 3.1622776601683795\n",
      "11 3.3166247903554\n",
      "12 3.4641016151377544\n",
      "13 3.605551275463989\n",
      "14 3.7416573867739413\n",
      "15 3.872983346207417\n",
      "16 4.0\n",
      "17 4.123105625617661\n",
      "18 4.242640687119285\n",
      "19 4.358898943540674\n",
      "20 4.47213595499958\n",
      "21 4.58257569495584\n",
      "22 4.69041575982343\n",
      "23 4.795831523312719\n",
      "24 4.898979485566356\n"
     ]
    }
   ],
   "source": [
    "def partial_total(n,a):\n",
    "    \"\"\"\n",
    "    Compute the total of the first n items in list a.\n",
    "    \"\"\"\n",
    "    sum = 0 \n",
    "    for i in range(0,n):\n",
    "        sum += a[i]\n",
    "        return sum\n",
    "\n",
    "from math import sqrt \n",
    "tryIT = []\n",
    "for i in range(1,25):\n",
    "    tryIT.append(sqrt(i))\n",
    "\n",
    "    print(i, sqrt(i))\n"
   ]
  },
  {
   "cell_type": "code",
   "execution_count": 17,
   "id": "bcad15e1",
   "metadata": {},
   "outputs": [
    {
     "name": "stdout",
     "output_type": "stream",
     "text": [
      "1 1.0\n",
      "2 1.4142135623730951\n",
      "3 1.7320508075688772\n",
      "4 2.0\n",
      "5 2.23606797749979\n",
      "6 2.449489742783178\n",
      "7 2.6457513110645907\n",
      "8 2.8284271247461903\n",
      "9 3.0\n"
     ]
    }
   ],
   "source": [
    "%%cython\n",
    "\n",
    "from math import sqrt\n",
    "\n",
    "cdef partial_total(int n, a):\n",
    "    cdef int sum = 0 \n",
    "    for i in range(0,n):\n",
    "        sum += a[i]\n",
    "        return sum\n",
    " \n",
    "\n",
    "cdef list tryIT = []\n",
    "for i in range(1,10):\n",
    "    tryIT.append(sqrt(i))\n",
    "\n",
    "    print(i, sqrt(i))"
   ]
  },
  {
   "cell_type": "code",
   "execution_count": null,
   "id": "f41d8fed",
   "metadata": {},
   "outputs": [],
   "source": []
  },
  {
   "cell_type": "code",
   "execution_count": 18,
   "id": "fbb67ce9",
   "metadata": {},
   "outputs": [],
   "source": [
    "\n",
    "def retSeive(n):\n",
    "    worksheet = [None, None] + list(range(2,n))\n",
    "    return worksheet\n",
    "\n",
    "worksheet  = retSeive(12)"
   ]
  },
  {
   "cell_type": "code",
   "execution_count": 19,
   "id": "3a452b96",
   "metadata": {},
   "outputs": [
    {
     "name": "stdout",
     "output_type": "stream",
     "text": [
      "[None, None, 2, 3, 4, 5, 6, 7, 8, 9, 10, 11]\n"
     ]
    }
   ],
   "source": [
    "%%cython\n",
    "\n",
    "cdef CretSeive(int n):\n",
    "    cdef worksheet = [None, None] + list(range(2,n))\n",
    "    return worksheet\n",
    "\n",
    "\n",
    "print(CretSeive(12))"
   ]
  },
  {
   "cell_type": "code",
   "execution_count": null,
   "id": "4eca012a",
   "metadata": {},
   "outputs": [],
   "source": []
  },
  {
   "cell_type": "code",
   "execution_count": 20,
   "id": "88e9ad6f",
   "metadata": {},
   "outputs": [
    {
     "data": {
      "text/plain": [
       "' \\nA Helper Function:\\nProgrammers write these sorts of specialized functions as a way of focusing on a sigle aspect of a complex\\nproblem, allowing them to design and test the code for each piece separately.\\n'"
      ]
     },
     "execution_count": 20,
     "metadata": {},
     "output_type": "execute_result"
    }
   ],
   "source": [
    "''' \n",
    "A Helper Function:\n",
    "Programmers write these sorts of specialized functions as a way of focusing on a sigle aspect of a complex\n",
    "problem, allowing them to design and test the code for each piece separately.\n",
    "'''"
   ]
  },
  {
   "cell_type": "code",
   "execution_count": 21,
   "id": "db5b17e0",
   "metadata": {},
   "outputs": [],
   "source": [
    "from math import sqrt, ceil \n",
    "\n",
    "def sieve(n):\n",
    "    \"Return a list of all prime numbers less than n\"\n",
    "    \n",
    "    worksheet = [None, None] + list(range(2,n))\n",
    "    \n",
    "    for k in range(2, ceil(sqrt(n))):\n",
    "        if worksheet[k] is not None:\n",
    "            sift(k, worksheet)\n",
    "            \n",
    "    return non_nulls(worksheet)\n",
    "\n",
    "def sift(k, a):\n",
    "    \"Remove multiples of k from list a\"\n",
    "    for i in range(2*k, len(a), k):\n",
    "        a[i] = None\n",
    "        \n",
    "        \n",
    "def non_nulls(a):\n",
    "    'Return a copy of list a with None objects removed'\n",
    "    res = []\n",
    "    for x in a:\n",
    "        if x is not None:\n",
    "            res.append(x)\n",
    "    return res"
   ]
  },
  {
   "cell_type": "code",
   "execution_count": 22,
   "id": "077401c9",
   "metadata": {},
   "outputs": [
    {
     "name": "stdout",
     "output_type": "stream",
     "text": [
      "None\n"
     ]
    }
   ],
   "source": [
    "%%cython\n",
    "import time\n",
    "import sys\n",
    "\n",
    "cimport cython\n",
    "cimport numpy as cnp\n",
    "\n",
    "from libc.math cimport pow, sqrt,ceil\n",
    "cdef  a = [8, 1, 9, 2, 7, 5, 3]\n",
    "\n",
    "cdef sieve(n):\n",
    "    \n",
    "    cdef worksheet = list(range(2,n))\n",
    "    \n",
    "    for k in range(100, ceil(sqrt(n))):\n",
    "        if worksheet[k] is not None:\n",
    "            Cift(k, worksheet)\n",
    "            \n",
    "    return non_nulls(worksheet)\n",
    "\n",
    "cdef Cift(k, a):\n",
    "    for i in range(2*k, len(a), k):\n",
    "        a[i] = i\n",
    "        \n",
    "            \n",
    "cdef non_nulls(a):\n",
    "    cdef res = []\n",
    "    for x in a:\n",
    "        if x is not None:\n",
    "            res.append(x)\n",
    "    return res\n",
    "\n",
    "cdef crime_before(a):\n",
    "    return Cift(100, a)\n",
    "\n",
    "print(crime_before(a))"
   ]
  },
  {
   "cell_type": "code",
   "execution_count": 23,
   "id": "dfbaeade",
   "metadata": {},
   "outputs": [],
   "source": [
    "# The Linear Search Algorithm\n",
    "\n",
    "a = [8, 1, 9, 2, 7, 5, 3, 8, 6, 7, 2, 4, 6, 2, 1, 8, 9, 1, 5, 7,2]\n",
    "\n",
    "def linsearch(a, x):\n",
    "    \"Use a for loop to search for x\"\n",
    "    for i in range(0, len(a)):\n",
    "        if a[i] == x:\n",
    "            return i \n",
    "    return None\n",
    "\n",
    "\n",
    "def linearSearch(a, x):\n",
    "    \"Use a while loop to search for x\"\n",
    "    i = 0 \n",
    "    while i < len(a):\n",
    "        if a[i] == x:\n",
    "            return i\n",
    "        i += 1 \n",
    "    return None"
   ]
  },
  {
   "cell_type": "code",
   "execution_count": null,
   "id": "91243553",
   "metadata": {},
   "outputs": [],
   "source": []
  },
  {
   "cell_type": "code",
   "execution_count": 24,
   "id": "dd936403",
   "metadata": {},
   "outputs": [
    {
     "name": "stdout",
     "output_type": "stream",
     "text": [
      "5 2\n"
     ]
    }
   ],
   "source": [
    "%%cython\n",
    "import time\n",
    "import sys\n",
    "\n",
    "cimport cython\n",
    "cimport numpy as cnp\n",
    "\n",
    "from libc.math cimport pow, sqrt,ceil\n",
    "\n",
    "\n",
    "cdef a = [8, 1, 9, 2, 7, 5, 3, 8, 6, 7, 2, 4, 6, 2, 1, 8, 9, 1, 5, 7,2]\n",
    "\n",
    "\n",
    "cdef Clinsearch(a, int x):\n",
    "    for i in range(0, len(a)):\n",
    "        if a[i] == x:\n",
    "            return i \n",
    "    return None\n",
    "\n",
    "\n",
    "\n",
    "cdef ClinearSearch(a, int x):\n",
    "    i = 0 \n",
    "    while i < len(a):\n",
    "        if a[i] == x:\n",
    "            return i\n",
    "        i += 1 \n",
    "    return None\n",
    "\n",
    "\n",
    "\n",
    "\n",
    "print(Clinsearch(a, 5), ClinearSearch(a, 9))"
   ]
  },
  {
   "cell_type": "code",
   "execution_count": null,
   "id": "300b5892",
   "metadata": {},
   "outputs": [],
   "source": []
  },
  {
   "cell_type": "code",
   "execution_count": 25,
   "id": "f4d4b60a",
   "metadata": {},
   "outputs": [
    {
     "name": "stdout",
     "output_type": "stream",
     "text": [
      "[8, 1, 9, 2, 7, 5, 3, 8, 6, 7, 2, 4, 6, 2, 1, 8, 9, 1, 5, 7, 2]\n",
      "[1, 8, 9, 2, 7, 5, 3, 8, 6, 7, 2, 4, 6, 2, 1, 8, 9, 1, 5, 7, 2]\n",
      "[1] [8, 9, 2, 7, 5, 3, 8, 6, 7, 2, 4, 6, 2, 1, 8, 9, 1, 5, 7, 2]\n",
      "[1, 8] [9, 2, 7, 5, 3, 8, 6, 7, 2, 4, 6, 2, 1, 8, 9, 1, 5, 7, 2]\n",
      "[1, 8, 9] [2, 7, 5, 3, 8, 6, 7, 2, 4, 6, 2, 1, 8, 9, 1, 5, 7, 2]\n",
      "[1, 2, 8, 9] [7, 5, 3, 8, 6, 7, 2, 4, 6, 2, 1, 8, 9, 1, 5, 7, 2]\n",
      "[1, 2, 7, 8, 9] [5, 3, 8, 6, 7, 2, 4, 6, 2, 1, 8, 9, 1, 5, 7, 2]\n",
      "[1, 2, 5, 7, 8, 9] [3, 8, 6, 7, 2, 4, 6, 2, 1, 8, 9, 1, 5, 7, 2]\n",
      "[1, 2, 3, 5, 7, 8, 9] [8, 6, 7, 2, 4, 6, 2, 1, 8, 9, 1, 5, 7, 2]\n",
      "[1, 2, 3, 5, 7, 8, 8, 9] [6, 7, 2, 4, 6, 2, 1, 8, 9, 1, 5, 7, 2]\n",
      "[1, 2, 3, 5, 6, 7, 8, 8, 9] [7, 2, 4, 6, 2, 1, 8, 9, 1, 5, 7, 2]\n",
      "[1, 2, 3, 5, 6, 7, 7, 8, 8, 9] [2, 4, 6, 2, 1, 8, 9, 1, 5, 7, 2]\n",
      "[1, 2, 2, 3, 5, 6, 7, 7, 8, 8, 9] [4, 6, 2, 1, 8, 9, 1, 5, 7, 2]\n",
      "[1, 2, 2, 3, 4, 5, 6, 7, 7, 8, 8, 9] [6, 2, 1, 8, 9, 1, 5, 7, 2]\n",
      "[1, 2, 2, 3, 4, 5, 6, 6, 7, 7, 8, 8, 9] [2, 1, 8, 9, 1, 5, 7, 2]\n",
      "[1, 2, 2, 2, 3, 4, 5, 6, 6, 7, 7, 8, 8, 9] [1, 8, 9, 1, 5, 7, 2]\n",
      "[1, 1, 2, 2, 2, 3, 4, 5, 6, 6, 7, 7, 8, 8, 9] [8, 9, 1, 5, 7, 2]\n",
      "[1, 1, 2, 2, 2, 3, 4, 5, 6, 6, 7, 7, 8, 8, 8, 9] [9, 1, 5, 7, 2]\n",
      "[1, 1, 2, 2, 2, 3, 4, 5, 6, 6, 7, 7, 8, 8, 8, 9, 9] [1, 5, 7, 2]\n",
      "[1, 1, 1, 2, 2, 2, 3, 4, 5, 6, 6, 7, 7, 8, 8, 8, 9, 9] [5, 7, 2]\n",
      "[1, 1, 1, 2, 2, 2, 3, 4, 5, 5, 6, 6, 7, 7, 8, 8, 8, 9, 9] [7, 2]\n",
      "[1, 1, 1, 2, 2, 2, 3, 4, 5, 5, 6, 6, 7, 7, 7, 8, 8, 8, 9, 9] [2]\n",
      "[1, 1, 1, 2, 2, 2, 2, 3, 4, 5, 5, 6, 6, 7, 7, 7, 8, 8, 8, 9, 9]\n"
     ]
    }
   ],
   "source": [
    "# Implementing Insertion Sort \n",
    "a = [8, 1, 9, 2, 7, 5, 3, 8, 6, 7, 2, 4, 6, 2, 1, 8, 9, 1, 5, 7,2]\n",
    "\n",
    "def isort(a):\n",
    "    'Sort list a using insertion sort'\n",
    "    for i in range(1, len(a)):\n",
    "        print(a[:i], a[i:])\n",
    "        move_left(a,i)\n",
    "        \n",
    "\n",
    "def move_left(a, j):\n",
    "    'isort helper function that moves a[j]'\n",
    "    x = a.pop(j)\n",
    "    while j > 0 and a [j - 1] > x:\n",
    "        j -= 1\n",
    "    a.insert(j, x)      \n",
    "    \n",
    "\n",
    "print(a)\n",
    "\n",
    "move_left(a, 1)\n",
    "\n",
    "print(a)\n",
    "\n",
    "isort(a)\n",
    "\n",
    "print(a)"
   ]
  },
  {
   "cell_type": "code",
   "execution_count": 26,
   "id": "b03bb43d",
   "metadata": {},
   "outputs": [
    {
     "name": "stdout",
     "output_type": "stream",
     "text": [
      "[8, 1, 9, 2, 7, 5, 3, 8, 6, 7, 2, 4, 6, 2, 1, 8, 9, 1, 5, 7, 2]\n",
      "[8] [9, 2, 7, 5, 3, 8, 6, 7, 2, 4, 6, 2, 1, 8, 9, 1, 5, 7, 2, 0, 1]\n",
      "[8, 2] [7, 5, 3, 8, 6, 7, 2, 4, 6, 2, 1, 8, 9, 1, 5, 7, 2, 0, 1, 1, 9]\n",
      "[8, 2, 5] [3, 8, 6, 7, 2, 4, 6, 2, 1, 8, 9, 1, 5, 7, 2, 0, 1, 1, 9, 2, 7]\n",
      "[8, 2, 5, 8] [6, 7, 2, 4, 6, 2, 1, 8, 9, 1, 5, 7, 2, 0, 1, 1, 9, 2, 7, 2, 3]\n",
      "[8, 2, 5, 8, 7] [2, 4, 6, 2, 1, 8, 9, 1, 5, 7, 2, 0, 1, 1, 9, 2, 7, 2, 3, 3, 6]\n",
      "[8, 2, 5, 8, 7, 4] [6, 2, 1, 8, 9, 1, 5, 7, 2, 0, 1, 1, 9, 2, 7, 2, 3, 3, 6, 2, 2]\n",
      "[8, 2, 5, 8, 7, 4, 2] [1, 8, 9, 1, 5, 7, 2, 0, 1, 1, 9, 2, 7, 2, 3, 3, 6, 2, 2, 6, 6]\n",
      "[8, 2, 5, 8, 7, 4, 2, 8] [9, 1, 5, 7, 2, 0, 1, 1, 9, 2, 7, 2, 3, 3, 6, 2, 2, 6, 6, 0, 1]\n",
      "[8, 2, 5, 8, 7, 4, 2, 8, 1] [5, 7, 2, 0, 1, 1, 9, 2, 7, 2, 3, 3, 6, 2, 2, 6, 6, 0, 1, 8, 9]\n",
      "[8, 2, 5, 8, 7, 4, 2, 8, 1, 7] [2, 0, 1, 1, 9, 2, 7, 2, 3, 3, 6, 2, 2, 6, 6, 0, 1, 8, 9, 9, 5]\n",
      "[8, 2, 5, 8, 7, 4, 2, 8, 1, 7, 0] [1, 1, 9, 2, 7, 2, 3, 3, 6, 2, 2, 6, 6, 0, 1, 8, 9, 9, 5, 9, 2]\n",
      "[8, 2, 5, 8, 7, 4, 2, 8, 1, 7, 0, 1] [9, 2, 7, 2, 3, 3, 6, 2, 2, 6, 6, 0, 1, 8, 9, 9, 5, 9, 2, 11, 1]\n",
      "[8, 2, 5, 8, 7, 4, 2, 8, 1, 7, 0, 1, 2] [7, 2, 3, 3, 6, 2, 2, 6, 6, 0, 1, 8, 9, 9, 5, 9, 2, 11, 1, 12, 9]\n",
      "[8, 2, 5, 8, 7, 4, 2, 8, 1, 7, 0, 1, 2, 2] [3, 3, 6, 2, 2, 6, 6, 0, 1, 8, 9, 9, 5, 9, 2, 11, 1, 12, 9, 13, 7]\n",
      "[8, 2, 5, 8, 7, 4, 2, 8, 1, 7, 0, 1, 2, 2, 3] [6, 2, 2, 6, 6, 0, 1, 8, 9, 9, 5, 9, 2, 11, 1, 12, 9, 13, 7, 14, 3]\n",
      "[8, 2, 5, 8, 7, 4, 2, 8, 1, 7, 0, 1, 2, 2, 3, 2] [2, 6, 6, 0, 1, 8, 9, 9, 5, 9, 2, 11, 1, 12, 9, 13, 7, 14, 3, 15, 6]\n",
      "[8, 2, 5, 8, 7, 4, 2, 8, 1, 7, 0, 1, 2, 2, 3, 2, 6] [6, 0, 1, 8, 9, 9, 5, 9, 2, 11, 1, 12, 9, 13, 7, 14, 3, 15, 6, 16, 2]\n",
      "[8, 2, 5, 8, 7, 4, 2, 8, 1, 7, 0, 1, 2, 2, 3, 2, 6, 0] [1, 8, 9, 9, 5, 9, 2, 11, 1, 12, 9, 13, 7, 14, 3, 15, 6, 16, 2, 17, 6]\n",
      "[8, 2, 5, 8, 7, 4, 2, 8, 1, 7, 0, 1, 2, 2, 3, 2, 6, 0, 8] [9, 9, 5, 9, 2, 11, 1, 12, 9, 13, 7, 14, 3, 15, 6, 16, 2, 17, 6, 18, 1]\n",
      "[8, 2, 5, 8, 7, 4, 2, 8, 1, 7, 0, 1, 2, 2, 3, 2, 6, 0, 8, 9] [5, 9, 2, 11, 1, 12, 9, 13, 7, 14, 3, 15, 6, 16, 2, 17, 6, 18, 1, 19, 9]\n",
      "[8, 2, 5, 8, 7, 4, 2, 8, 1, 7, 0, 1, 2, 2, 3, 2, 6, 0, 8, 9, 9] [2, 11, 1, 12, 9, 13, 7, 14, 3, 15, 6, 16, 2, 17, 6, 18, 1, 19, 9, 18, 5]\n",
      "[8, 2, 5, 8, 7, 4, 2, 8, 1, 7, 0, 1, 2, 2, 3, 2, 6, 0, 8, 9, 9, 11, 1, 12, 9, 13, 7, 14, 3, 15, 6, 16, 2, 17, 6, 18, 1, 19, 9, 18, 5, 18, 2]\n"
     ]
    }
   ],
   "source": [
    "%%cython\n",
    "import time\n",
    "import sys\n",
    "\n",
    "cimport cython\n",
    "cimport numpy as cnp\n",
    "\n",
    "from libc.math cimport pow, sqrt,ceil\n",
    "\n",
    "cdef list a = [8, 1, 9, 2, 7, 5, 3, 8, 6, 7, 2, 4, 6, 2, 1, 8, 9, 1, 5, 7,2]\n",
    "cdef CYsort(a):\n",
    "    for i in range(1, len(a)):\n",
    "        print(a[:i], a[i:])\n",
    "        CYmove_left(a,i)\n",
    "        \n",
    "\n",
    "cdef CYmove_left(a, int j):\n",
    "    x = a.pop(j)\n",
    "    while j > 0 and a [j - 1] > x:\n",
    "        j -= 1\n",
    "    a.extend([j, x])      \n",
    "    \n",
    "    \n",
    "    \n",
    "   \n",
    "\n",
    "print(a)\n",
    "\n",
    "CYmove_left(a, 1)\n",
    "CYsort(a)\n",
    "\n",
    "print(a)"
   ]
  },
  {
   "cell_type": "code",
   "execution_count": 27,
   "id": "3f227689",
   "metadata": {},
   "outputs": [],
   "source": [
    "\"\"\"\n",
    "\n",
    "The Art of Programming (part II):\n",
    "\n",
    "In most situations it is probably best to go with a for loop it takes only one line to describe\n",
    "the loop. You wont have to worry about initializing a loop index or causing an infinite loop.\n",
    "\n",
    "\"\"\"\n",
    "def scler(x):\n",
    "    for i in x:\n",
    "        return x.lower()\n",
    "\n",
    "\n",
    "i = 0\n",
    "def whilescale(x):\n",
    "    while i < len(x[1]):\n",
    "        print(x)\n",
    "    \n",
    "    \n",
    "    \n",
    "# A version of isort written using nested loops (a while loop inside a for loop) instead of a call a helper function.\n",
    "\n",
    "def isort(a):\n",
    "    for i in range(1, len(a)):\n",
    "        j = i\n",
    "        x = a.pop(j)\n",
    "        while j > 0 and a[j-i] > x:\n",
    "            j -= 1\n",
    "        a.insert(j, x)\n",
    "\n",
    "        "
   ]
  },
  {
   "cell_type": "code",
   "execution_count": 28,
   "id": "9bc0dfba",
   "metadata": {},
   "outputs": [
    {
     "name": "stdout",
     "output_type": "stream",
     "text": [
      "None\n"
     ]
    }
   ],
   "source": [
    "haloges = ['F', 'Cl', 'Br', 'I', 'At']\n",
    "\n",
    "print(isort(haloges)        )"
   ]
  },
  {
   "cell_type": "code",
   "execution_count": null,
   "id": "23713790",
   "metadata": {},
   "outputs": [],
   "source": []
  },
  {
   "cell_type": "code",
   "execution_count": 29,
   "id": "79c5fd78",
   "metadata": {},
   "outputs": [
    {
     "name": "stdout",
     "output_type": "stream",
     "text": [
      "None\n"
     ]
    }
   ],
   "source": [
    "%%cython\n",
    "import time\n",
    "import sys\n",
    "\n",
    "cimport cython\n",
    "cimport numpy as cnp\n",
    "\n",
    "from libc.math cimport pow, sqrt,ceil\n",
    "cdef list a = [8, 1, 9, 2, 7, 5, 3, 8, 6, 7, 2, 4, 6, 2, 1, 8, 9, 1, 5, 7,2]\n",
    "\n",
    "cdef scler(x):\n",
    "    for i in x:\n",
    "        return x.lower()\n",
    "\n",
    "\n",
    "cdef int i = 0\n",
    "cdef whilescale(x):\n",
    "    while i < len(x[1]):\n",
    "        print(x)\n",
    "    \n",
    "\n",
    "cdef Cyisort(a):\n",
    "    for i in range(len(a)):\n",
    "        j = i\n",
    "        x = a.pop(j)\n",
    "        while j > 0 and a[j-i] > x:\n",
    "            j -= 1\n",
    "        a.insert(j, x)\n",
    "        \n",
    "\n",
    "\n",
    "print(Cyisort(a))"
   ]
  },
  {
   "cell_type": "code",
   "execution_count": null,
   "id": "9b8ced3e",
   "metadata": {},
   "outputs": [],
   "source": []
  },
  {
   "cell_type": "code",
   "execution_count": 30,
   "id": "3c107225",
   "metadata": {},
   "outputs": [
    {
     "data": {
      "text/plain": [
       "6"
      ]
     },
     "execution_count": 30,
     "metadata": {},
     "output_type": "execute_result"
    }
   ],
   "source": [
    "# Implementing Binary Search \n",
    "\n",
    "def binarySearch(a, x):\n",
    "    'Use a Binary search to find x in list a'\n",
    "    lower = -1\n",
    "    upper = len(a)\n",
    "    while upper > lower + 1:\n",
    "        mid = (lower + upper) // 2\n",
    "        if a[mid] == x:\n",
    "            return mid\n",
    "        if x < a[mid]:\n",
    "            upper = mid\n",
    "        else:\n",
    "            lower = mid\n",
    "    return None\n",
    "                \n",
    "                \n",
    "binarySearch(a, 46)\n",
    "\n",
    "\n",
    "\n",
    "consonants = ['b', 'c', 'd', 'f', 'g', 'h', 'j']\n",
    "binarySearch(consonants, 'j')"
   ]
  },
  {
   "cell_type": "code",
   "execution_count": 31,
   "id": "97a441ba",
   "metadata": {},
   "outputs": [
    {
     "name": "stdout",
     "output_type": "stream",
     "text": [
      "15\n"
     ]
    }
   ],
   "source": [
    "%%cython\n",
    "import time\n",
    "import sys\n",
    "\n",
    "cimport cython\n",
    "cimport numpy as cnp\n",
    "\n",
    "from libc.math cimport pow, sqrt,ceil\n",
    "cdef list a = [8, 1, 9, 2, 7, 5, 3, 8, 6, 7, 2, 4, 6, 2, 1, 8, 9, 1, 5, 7,2]\n",
    "\n",
    "cdef CinarySearch(a, int x):\n",
    "    lower = -1\n",
    "    upper = len(a)\n",
    "    while upper > lower + 1:\n",
    "        mid = (lower + upper) // 2\n",
    "        if a[mid] == x:\n",
    "            return mid\n",
    "        if x < a[mid]:\n",
    "            upper = mid\n",
    "        else:\n",
    "            lower = mid\n",
    "    return None\n",
    "                \n",
    "                \n",
    "        \n",
    "        \n",
    "print(CinarySearch(a, 8))"
   ]
  },
  {
   "cell_type": "code",
   "execution_count": null,
   "id": "cd9d9569",
   "metadata": {},
   "outputs": [],
   "source": []
  },
  {
   "cell_type": "code",
   "execution_count": 32,
   "id": "6787b6eb",
   "metadata": {},
   "outputs": [
    {
     "data": {
      "text/plain": [
       "[1, 2, 3, 5, 6, 7, 8, 9]"
      ]
     },
     "execution_count": 32,
     "metadata": {},
     "output_type": "execute_result"
    }
   ],
   "source": [
    "from math import ceil, log2 \n",
    "\n",
    "from heapq import merge\n",
    "\n",
    "def mSort(a):\n",
    "    groupsize = 1\n",
    "    while groupsize < len(a):\n",
    "        merge_groups(a, groupsize)\n",
    "        groupsize * 2\n",
    "        \n",
    "        \n",
    "def merge_groups(a, gs):\n",
    "    for i in range(len(a), 2*gs):\n",
    "        j = i + gs\n",
    "        k = j + gs \n",
    "        a[i:k] = list(merge(a[i:j], a[j:k]))\n",
    "\n",
    "\n",
    "a = [1,2,7,8]\n",
    "\n",
    "b = [3,5,6,9]\n",
    "\n",
    "c = a + b\n",
    "\n",
    "list(merge(a,b))\n"
   ]
  },
  {
   "cell_type": "code",
   "execution_count": 33,
   "id": "facc06ee",
   "metadata": {},
   "outputs": [
    {
     "name": "stdout",
     "output_type": "stream",
     "text": [
      "[1, 2, 3, 5, 6, 7, 8, 9]\n"
     ]
    }
   ],
   "source": [
    "%%cython\n",
    "import time\n",
    "import sys\n",
    "\n",
    "cimport cython\n",
    "cimport numpy as cn\n",
    "from math import ceil, log2 \n",
    "from heapq import merge\n",
    "\n",
    "cdef mSort(a):\n",
    "    groupsize = 1\n",
    "    while groupsize < len(a):\n",
    "        Cerge_groups(a, groupsize)\n",
    "        groupsize * 2\n",
    "        \n",
    "        \n",
    "cdef Cerge_groups(a, gs):\n",
    "    for i in range(len(a), 2*gs):\n",
    "        j = i + gs\n",
    "        k = j + gs \n",
    "        a[i:k] = list(merge(a[i:j], a[j:k]))\n",
    "\n",
    "\n",
    "cdef a = [1,2,7,8]\n",
    "\n",
    "cdef b = [3,5,6,9]\n",
    "\n",
    "c = a + b\n",
    "\n",
    "print(list(merge(a,b)))"
   ]
  },
  {
   "cell_type": "code",
   "execution_count": 52,
   "id": "dfe29ec7",
   "metadata": {},
   "outputs": [],
   "source": [
    "def bsearch(a,x):\n",
    "    \"Resursive binary search to find x in list a\"\n",
    "    return rsearch(a, x, -1, len(a))\n",
    "\n",
    "def rsearch(a, x, lower, upper):\n",
    "    \"Search a between lower and upper for item x\"\n",
    "    if upper == lower + 1:\n",
    "        return None\n",
    "    mid = (lower + upper) // 2\n",
    "    if a[mid] == x:\n",
    "        return mid\n",
    "    if x < a[mid]:\n",
    "        return rsearch(a, x, lower, mid)\n",
    "    else:\n",
    "        return rsearch(a, x, mid, upper)\n",
    "    \n",
    "    "
   ]
  },
  {
   "cell_type": "code",
   "execution_count": 53,
   "id": "956873ba",
   "metadata": {},
   "outputs": [],
   "source": [
    "%%cython\n",
    "import time\n",
    "import sys\n",
    "\n",
    "cimport cython\n",
    "cimport numpy as cn\n",
    "from math import ceil, log2 \n",
    "from heapq import merge\n",
    "\n",
    "\n",
    "cdef Cbsearch(c, x):\n",
    "    \"Resursive binary search to find x in list a\"\n",
    "    return Crsearch(c, x, -1, len(c))\n",
    "\n",
    "cdef Crsearch(c, x, lower, upper):\n",
    "    \"Search a between lower and upper for item x\"\n",
    "    if upper == lower + 1:\n",
    "        return None\n",
    "    mid = (lower + upper) // 2\n",
    "    if c[mid] == x:\n",
    "        return mid\n",
    "    if x < c[mid]:\n",
    "        return Crsearch(c, x, lower, mid)\n",
    "    else:\n",
    "        return Crsearch(c, x, mid, upper)\n",
    "    \n",
    "    \n",
    "    \n",
    "cdef list c = [1, 9, 2, 7, 5, 3, 8, 6, 4]\n",
    "\n",
    "\n",
    "print(Cbsearch(c,  4))"
   ]
  },
  {
   "cell_type": "code",
   "execution_count": 54,
   "id": "5100d28f",
   "metadata": {},
   "outputs": [
    {
     "ename": "TypeError",
     "evalue": "'<' not supported between instances of 'str' and 'int'",
     "output_type": "error",
     "traceback": [
      "\u001b[1;31m---------------------------------------------------------------------------\u001b[0m",
      "\u001b[1;31mTypeError\u001b[0m                                 Traceback (most recent call last)",
      "Input \u001b[1;32mIn [54]\u001b[0m, in \u001b[0;36m<cell line: 23>\u001b[1;34m()\u001b[0m\n\u001b[0;32m     20\u001b[0m         qs(a, p, q\u001b[38;5;241m-\u001b[39m\u001b[38;5;241m1\u001b[39m)\n\u001b[0;32m     21\u001b[0m         qs(a, q\u001b[38;5;241m+\u001b[39m\u001b[38;5;241m1\u001b[39m, r)\n\u001b[1;32m---> 23\u001b[0m \u001b[43mqs\u001b[49m\u001b[43m(\u001b[49m\u001b[43ma\u001b[49m\u001b[43m,\u001b[49m\u001b[43m \u001b[49m\u001b[43mp\u001b[49m\u001b[43m,\u001b[49m\u001b[43m \u001b[49m\u001b[38;5;241;43m2\u001b[39;49m\u001b[43m)\u001b[49m\n",
      "Input \u001b[1;32mIn [54]\u001b[0m, in \u001b[0;36mqs\u001b[1;34m(a, p, r)\u001b[0m\n\u001b[0;32m     17\u001b[0m \u001b[38;5;28;01mdef\u001b[39;00m \u001b[38;5;21mqs\u001b[39m(a, p, r):\n\u001b[1;32m---> 18\u001b[0m     \u001b[38;5;28;01mif\u001b[39;00m \u001b[43mp\u001b[49m\u001b[43m \u001b[49m\u001b[38;5;241;43m<\u001b[39;49m\u001b[43m \u001b[49m\u001b[43mr\u001b[49m:\n\u001b[0;32m     19\u001b[0m         q \u001b[38;5;241m=\u001b[39m partition(a, p, r)\n\u001b[0;32m     20\u001b[0m         qs(a, p, q\u001b[38;5;241m-\u001b[39m\u001b[38;5;241m1\u001b[39m)\n",
      "\u001b[1;31mTypeError\u001b[0m: '<' not supported between instances of 'str' and 'int'"
     ]
    }
   ],
   "source": [
    "def partition(a, p, r):\n",
    "    x = a[p]\n",
    "    i = p\n",
    "    for j in range(p+1, r+1):\n",
    "        if a[j] <= x:\n",
    "            i += 1\n",
    "            a[i], a[j] = a[j], a[i]\n",
    "    a[p], a[i] = a[i], a[p]\n",
    "    return i   \n",
    "\n",
    "\n",
    "def qsort(a):\n",
    "    \"Sort list a using the Quicksort algorithm\"\n",
    "    qs(a, 0, len(a)-1)\n",
    "\n",
    "\n",
    "def qs(a, p, r):\n",
    "    if p < r:\n",
    "        q = partition(a, p, r)\n",
    "        qs(a, p, q-1)\n",
    "        qs(a, q+1, r)\n",
    "        \n",
    "qs(a, p, 2)"
   ]
  },
  {
   "cell_type": "code",
   "execution_count": null,
   "id": "dcdaa839",
   "metadata": {},
   "outputs": [],
   "source": [
    "\n",
    "    "
   ]
  },
  {
   "cell_type": "code",
   "execution_count": 55,
   "id": "9a3aaea4",
   "metadata": {},
   "outputs": [],
   "source": [
    "%%cython\n",
    "import time\n",
    "import sys\n",
    "\n",
    "cimport cython\n",
    "cimport numpy as cnp\n",
    "\n",
    "from libc.math cimport pow, sqrt,ceil\n",
    "cdef list a = [8, 1, 9, 2, 7, 5, 3, 8, 6, 7, 2, 4, 6, 2, 1, 8, 9, 1, 5, 7,2]\n",
    "\n",
    "cdef Cartition(a, p, r):\n",
    "    x = a[p]\n",
    "    i = p\n",
    "    for j in range(p+1, r+1):\n",
    "        if a[j] <= x:\n",
    "            i += 1\n",
    "            a[i], a[j] = a[j], a[i]\n",
    "    a[p], a[i] = a[i], a[p]\n",
    "    return i\n",
    "\n",
    "cdef Cbsearch(a,int x):\n",
    "    return Crsearch(a, x, -1, len(a))\n",
    "\n",
    "cdef Crsearch(a, x, lower, upper):\n",
    "    if upper == lower + 1:\n",
    "        return None\n",
    "    mid = (lower + upper) // 2\n",
    "    if a[mid] == x:\n",
    "        return mid\n",
    "    if x < a[mid]:\n",
    "        return Crsearch(a, x, lower, mid)\n",
    "    else:\n",
    "        return Crsearch(a, x, mid, upper)\n",
    "    \n",
    "\n",
    "cdef qsort(a):\n",
    "    qs(a, 0, len(a)-1)\n",
    "\n",
    "\n",
    "cdef qs(a, p, r):\n",
    "    if p < r:\n",
    "        q = Cartition(a, p, r)\n",
    "        qs(a, p, q-1)\n",
    "        qs(a, q+1, r)"
   ]
  },
  {
   "cell_type": "code",
   "execution_count": null,
   "id": "934bfbfc",
   "metadata": {},
   "outputs": [],
   "source": []
  },
  {
   "cell_type": "code",
   "execution_count": 56,
   "id": "d8bb6cbe",
   "metadata": {},
   "outputs": [
    {
     "data": {
      "text/plain": [
       "'are'"
      ]
     },
     "execution_count": 56,
     "metadata": {},
     "output_type": "execute_result"
    }
   ],
   "source": [
    "s4 = 'string are sequences of characters and are confusing'\n",
    "\n",
    "s4list = s4.split()\n",
    "s4list[1]"
   ]
  },
  {
   "cell_type": "code",
   "execution_count": 57,
   "id": "03c1dc6c",
   "metadata": {},
   "outputs": [
    {
     "name": "stdout",
     "output_type": "stream",
     "text": [
      "52 b'Mayra Roy Javier Foxy characters and are confusing'\n"
     ]
    }
   ],
   "source": [
    "%%cython\n",
    "import time\n",
    "import sys\n",
    "\n",
    "cimport cython\n",
    "cimport numpy as cnp\n",
    "from libc.string cimport strcpy, strlen\n",
    "\n",
    "from libc.math cimport pow, sqrt,ceil\n",
    "\n",
    "cdef char* c4 = 'string are sequences of characters and are confusing'\n",
    "cdef char* Names = 'Mayra Roy Javier Foxy characters and are confusing'\n",
    "\n",
    "\n",
    "\n",
    "print(strlen(c4), Names)"
   ]
  },
  {
   "cell_type": "code",
   "execution_count": null,
   "id": "94652e3d",
   "metadata": {},
   "outputs": [],
   "source": []
  },
  {
   "cell_type": "code",
   "execution_count": 58,
   "id": "43e36093",
   "metadata": {},
   "outputs": [],
   "source": [
    "# This computes monthly paymetns on a loan\n",
    "\n",
    "# Exercises\n",
    "\n",
    "languages = ['pearl', 'python', 'ruby', 'java', 'c++' ,'java', 'java']\n",
    "\n",
    "\n",
    "\n",
    "def pmt(amt, rate, yrs):\n",
    "    r = rate/100/12\n",
    "    p = 12 * yrs\n",
    "    return r * amt / 1-(1 + r)**-p\n",
    "\n",
    "\n",
    "pmt(150000, 4.5, 30)\n",
    "\n",
    "\n",
    "def print_list(a):\n",
    "    for x in a:\n",
    "        print(x)\n",
    "        \n",
    "def total(a):\n",
    "    sum = 0 \n",
    "    for x in a:\n",
    "        sum += x \n",
    "    return sum"
   ]
  },
  {
   "cell_type": "code",
   "execution_count": 59,
   "id": "1b8bb66f",
   "metadata": {},
   "outputs": [
    {
     "name": "stdout",
     "output_type": "stream",
     "text": [
      "pearl\n",
      "python\n",
      "ruby\n",
      "java\n",
      "c++\n",
      "java\n",
      "562.24 None 15\n"
     ]
    }
   ],
   "source": [
    "%%cython\n",
    "import time\n",
    "import sys\n",
    "\n",
    "cimport cython\n",
    "cimport numpy as cnp\n",
    "from libc.string cimport strcpy, strlen\n",
    "from libc.math cimport pow, sqrt,ceil\n",
    "from time import time\n",
    "\n",
    "\n",
    "cdef list languages = ['pearl', 'python', 'ruby', 'java', 'c++', 'java']\n",
    "\n",
    "\n",
    "cdef Cpmt(int amt, float rate, int yrs):\n",
    "    r = rate/100/12\n",
    "    p = 12 * yrs\n",
    "    return r * amt / 1-(1 + r)**-p\n",
    "\n",
    "cdef print_list(a):\n",
    "    for x in a:\n",
    "        print(x)\n",
    "        \n",
    "cdef total(a):\n",
    "    sum = 0 \n",
    "    for x in a:\n",
    "        sum += x \n",
    "    return sum\n",
    "\n",
    "print(round(Cpmt(150000, 4.5, 30), 3), print_list(languages), total(range(len(languages))))"
   ]
  },
  {
   "cell_type": "code",
   "execution_count": null,
   "id": "358cd1d2",
   "metadata": {},
   "outputs": [],
   "source": []
  },
  {
   "cell_type": "code",
   "execution_count": 60,
   "id": "4917080a",
   "metadata": {},
   "outputs": [
    {
     "data": {
      "text/plain": [
       "1654017903"
      ]
     },
     "metadata": {},
     "output_type": "display_data"
    },
    {
     "data": {
      "text/plain": [
       "2"
      ]
     },
     "execution_count": 60,
     "metadata": {},
     "output_type": "execute_result"
    }
   ],
   "source": [
    "from time import time\n",
    "\n",
    "x = 0 \n",
    "a = 81\n",
    "c = 337\n",
    "m = 1000\n",
    "\n",
    "\n",
    "def rand():\n",
    "    \"Generate a value between o and m-1\"\n",
    "    global x\n",
    "    x = (a * x + c) % m\n",
    "    return x\n",
    "\n",
    "def reset(mult, inc, mod):\n",
    "    'Define new a, c, and m values'\n",
    "    global x, a, c, m\n",
    "    \n",
    "    # Leads to diff sequence each time the module is loaded\n",
    "        # x = int(time()) %m\n",
    "\n",
    "    x = 0\n",
    "    a = mult\n",
    "    c = inc \n",
    "    m = mod\n",
    "\n",
    "    \n",
    "display(int(time()))\n",
    "\n",
    "\n",
    "def  roll():\n",
    "    return rand() % 6 + 1\n",
    "    \n",
    "\n",
    "roll()"
   ]
  },
  {
   "cell_type": "code",
   "execution_count": 61,
   "id": "9f38016f",
   "metadata": {},
   "outputs": [
    {
     "data": {
      "text/plain": [
       "[5, 2, 3, 2, 3, 6, 1, 6, 3, 6, 1, 6, 3, 2, 3]"
      ]
     },
     "metadata": {},
     "output_type": "display_data"
    }
   ],
   "source": [
    "%%cython\n",
    "import time\n",
    "import sys\n",
    "\n",
    "cimport cython\n",
    "cimport numpy as cnp\n",
    "from libc.string cimport strcpy, strlen\n",
    "\n",
    "from libc.math cimport pow, sqrt,ceil\n",
    "\n",
    "\n",
    "from time import time\n",
    "\n",
    "cdef int x = 0 \n",
    "cdef int  a = 81\n",
    "cdef int  c = 337\n",
    "cdef int m = 1000\n",
    "\n",
    "cdef rand():\n",
    "    global x\n",
    "    x = (a * x + c) % m\n",
    "    return x\n",
    "\n",
    "cdef reset(mult, inc, mod):\n",
    "    global x, a, c, m\n",
    "    \n",
    "    x = 0\n",
    "    a = mult\n",
    "    c = inc \n",
    "    m = mod\n",
    "\n",
    "\n",
    "cdef roll():\n",
    "    return rand() % 6 + 1\n",
    "    \n",
    "    \n",
    "cdef list dice = [0]\n",
    "\n",
    "for i in range(15):\n",
    "    dice.append(roll())\n",
    "\n",
    "cdef list dopedice = [roll() for i in range(15)]\n",
    "\n",
    "display(dopedice)\n"
   ]
  },
  {
   "cell_type": "code",
   "execution_count": 51,
   "id": "1c160a6d",
   "metadata": {},
   "outputs": [
    {
     "name": "stdout",
     "output_type": "stream",
     "text": [
      "None\n"
     ]
    }
   ],
   "source": [
    "%%cython\n",
    "import time\n",
    "import sys\n",
    "from random import randint\n",
    "import numpy as np\n",
    "cimport cython\n",
    "cimport numpy as cnp\n",
    "from libc.string cimport strcpy, strlen\n",
    "\n",
    "from libc.math cimport pow, sqrt,ceil\n",
    "\n",
    "\n",
    "from time import time\n",
    "cdef a = [8, 1, 9, 2, 7, 5, 3, 8, 6, 7, 2, 4, 6, 2, 1, 8, 9, 1, 5, 7,2]\n",
    "cdef list M = [i for i in range(1,10)]\n",
    "cdef list J = [i**2 for i in range(1,10)]\n",
    "\n",
    "\n",
    "cdef Cermute(a):\n",
    "    for i in range(0,len(a)-1):\n",
    "        r = randint(i, len(a)-1)\n",
    "        a[i], a[r] = a[r], a[i]\n",
    "\n",
    "        \n",
    "        \n",
    "        \n",
    "print(Cermute(a))"
   ]
  },
  {
   "cell_type": "code",
   "execution_count": null,
   "id": "148d79f9",
   "metadata": {},
   "outputs": [],
   "source": []
  },
  {
   "cell_type": "code",
   "execution_count": 62,
   "id": "8946e1c4",
   "metadata": {},
   "outputs": [
    {
     "name": "stdout",
     "output_type": "stream",
     "text": [
      "{1: 'I', 5: 'V', 10: 'X', 50: 'L', 100: 'C'}\n",
      "{1: 'I', 5: 'V', 10: 'X', 50: 'L', 100: 'C'}\n",
      "{1: 'I', 5: 'V', 10: 'X', 50: 'L', 100: 'C'}\n",
      "{1: 'I', 5: 'V', 10: 'X', 50: 'L', 100: 'C'}\n",
      "{1: 'I', 5: 'V', 10: 'X', 50: 'L', 100: 'C'}\n"
     ]
    }
   ],
   "source": [
    "%%cython\n",
    "import time\n",
    "import sys\n",
    "from random import randint\n",
    "import numpy as np\n",
    "cimport cython\n",
    "cimport numpy as cnp\n",
    "from libc.string cimport strcpy, strlen\n",
    "\n",
    "from libc.math cimport pow, sqrt,ceil\n",
    "\n",
    "cdef Coman = { 1: \"I\", 5: \"V\", 10: 'X', 50: \"L\", 100: 'C'}\n",
    "for n in Coman:\n",
    "    Coman[n].lower()\n",
    "    print(Coman)"
   ]
  },
  {
   "cell_type": "code",
   "execution_count": null,
   "id": "1faa298f",
   "metadata": {},
   "outputs": [],
   "source": []
  },
  {
   "cell_type": "code",
   "execution_count": null,
   "id": "15d9e499",
   "metadata": {},
   "outputs": [],
   "source": [
    "from string import punctuation\n",
    "\n",
    "def wf(fn):\n",
    "    \"Make a dictionary of word frequencies\"\n",
    "    count = {}\n",
    "    for line in open(fn):\n",
    "        for w in tokenize(line):\n",
    "            count.setdefault(w, 0)\n",
    "            count[w] += 1\n",
    "    return count\n",
    "\n",
    "\n",
    "def tokenize(s):\n",
    "    'return the list of words in string s'\n",
    "    a = []\n",
    "    for x in s.split():\n",
    "        a.append( x.strip(punctuation).lower())  \n",
    "    return a"
   ]
  },
  {
   "cell_type": "code",
   "execution_count": null,
   "id": "5ccb1429",
   "metadata": {},
   "outputs": [],
   "source": [
    "%%cython\n",
    "import time\n",
    "import sys\n",
    "from random import randint\n",
    "import numpy as np\n",
    "cimport cython\n",
    "cimport numpy as cnp\n",
    "from libc.string cimport strcpy, strlen\n",
    "from libc.math cimport pow, sqrt,ceil\n",
    "from string import punctuation\n",
    "from libc.string cimport strcpy, strlen\n",
    "\n",
    "cdef  hello_world = ['If you have no confidence in self,\\\n",
    "you are twice defeated in the race of life.\\\n",
    "With confidence, you have won even before you have started.']\n",
    "\n",
    "\n",
    "\n",
    "cdef C_create_acronym(x):\n",
    "    for word in (x):\n",
    "        if len(word) > 3:\n",
    "            print(word.title())\n",
    "            \n",
    "            \n",
    "print(C_create_acronym(hello_world))       "
   ]
  },
  {
   "cell_type": "code",
   "execution_count": null,
   "id": "82898537",
   "metadata": {},
   "outputs": [],
   "source": []
  },
  {
   "cell_type": "code",
   "execution_count": null,
   "id": "3a92cf12",
   "metadata": {},
   "outputs": [],
   "source": [
    "def massbodindx(height, weight, units = 'metric'):\n",
    "    if units == 'metric':\n",
    "        return (weight/ height**2)\n",
    "    elif units == 'standard':\n",
    "        return (weight / neight **2) * 703\n",
    "    else:\n",
    "        return None"
   ]
  },
  {
   "cell_type": "code",
   "execution_count": 100,
   "id": "80b8cc15",
   "metadata": {},
   "outputs": [],
   "source": [
    "%%cython\n",
    "import time\n",
    "import sys\n",
    "from random import randint\n",
    "import numpy as np\n",
    "cimport cython\n",
    "cimport numpy as cnp\n",
    "from libc.string cimport strcpy, strlen\n",
    "from libc.math cimport pow, sqrt,ceil\n",
    "from string import punctuation\n",
    "from libc.string cimport strcpy, strlen\n",
    "\n",
    "cdef massbodindx(double height, double weight, units = 'metric'):\n",
    "    if units == 'metric':\n",
    "        return (weight/ height**2)\n",
    "    elif units == 'standard':\n",
    "        return (weight / height **2) * 703\n",
    "    else:\n",
    "        return None"
   ]
  },
  {
   "cell_type": "code",
   "execution_count": null,
   "id": "e0fd1c4d",
   "metadata": {},
   "outputs": [],
   "source": []
  },
  {
   "cell_type": "code",
   "execution_count": null,
   "id": "7fb01bc7",
   "metadata": {},
   "outputs": [],
   "source": []
  },
  {
   "cell_type": "code",
   "execution_count": null,
   "id": "6825958c",
   "metadata": {},
   "outputs": [],
   "source": []
  },
  {
   "cell_type": "code",
   "execution_count": null,
   "id": "cd027c3d",
   "metadata": {},
   "outputs": [],
   "source": []
  },
  {
   "cell_type": "code",
   "execution_count": null,
   "id": "3ff3893c",
   "metadata": {},
   "outputs": [],
   "source": []
  },
  {
   "cell_type": "code",
   "execution_count": 98,
   "id": "aacab16d",
   "metadata": {},
   "outputs": [
    {
     "name": "stdout",
     "output_type": "stream",
     "text": [
      "If You Have No Confidence In Self,You Are Twice Defeated In The Race Of Life.With Confidence, You Have Won Even Before You Have Started.\n",
      "None\n"
     ]
    }
   ],
   "source": []
  },
  {
   "cell_type": "code",
   "execution_count": 95,
   "id": "5b045955",
   "metadata": {},
   "outputs": [
    {
     "ename": "TypeError",
     "evalue": "expected bytes, str found",
     "output_type": "error",
     "traceback": [
      "\u001b[1;31m---------------------------------------------------------------------------\u001b[0m",
      "\u001b[1;31mTypeError\u001b[0m                                 Traceback (most recent call last)",
      "Input \u001b[1;32mIn [95]\u001b[0m, in \u001b[0;36m<cell line: 1>\u001b[1;34m()\u001b[0m\n\u001b[1;32m----> 1\u001b[0m \u001b[43mget_ipython\u001b[49m\u001b[43m(\u001b[49m\u001b[43m)\u001b[49m\u001b[38;5;241;43m.\u001b[39;49m\u001b[43mrun_cell_magic\u001b[49m\u001b[43m(\u001b[49m\u001b[38;5;124;43m'\u001b[39;49m\u001b[38;5;124;43mcython\u001b[39;49m\u001b[38;5;124;43m'\u001b[39;49m\u001b[43m,\u001b[49m\u001b[43m \u001b[49m\u001b[38;5;124;43m'\u001b[39;49m\u001b[38;5;124;43m'\u001b[39;49m\u001b[43m,\u001b[49m\u001b[43m \u001b[49m\u001b[38;5;124;43m\"\u001b[39;49m\u001b[38;5;124;43mimport time\u001b[39;49m\u001b[38;5;130;43;01m\\n\u001b[39;49;00m\u001b[38;5;124;43mimport sys\u001b[39;49m\u001b[38;5;130;43;01m\\n\u001b[39;49;00m\u001b[38;5;124;43mfrom random import randint\u001b[39;49m\u001b[38;5;130;43;01m\\n\u001b[39;49;00m\u001b[38;5;124;43mimport numpy as np\u001b[39;49m\u001b[38;5;130;43;01m\\n\u001b[39;49;00m\u001b[38;5;124;43mcimport cython\u001b[39;49m\u001b[38;5;130;43;01m\\n\u001b[39;49;00m\u001b[38;5;124;43mcimport numpy as cnp\u001b[39;49m\u001b[38;5;130;43;01m\\n\u001b[39;49;00m\u001b[38;5;124;43mfrom libc.string cimport strcpy, strlen\u001b[39;49m\u001b[38;5;130;43;01m\\n\u001b[39;49;00m\u001b[38;5;124;43mfrom libc.math cimport pow, sqrt,ceil\u001b[39;49m\u001b[38;5;130;43;01m\\n\u001b[39;49;00m\u001b[38;5;124;43mfrom string import punctuation\u001b[39;49m\u001b[38;5;130;43;01m\\n\u001b[39;49;00m\u001b[38;5;124;43mfrom libc.string cimport strcpy, strlen\u001b[39;49m\u001b[38;5;130;43;01m\\n\u001b[39;49;00m\u001b[38;5;130;43;01m\\n\u001b[39;49;00m\u001b[38;5;130;43;01m\\n\u001b[39;49;00m\u001b[38;5;124;43mcdef  hello_world = [\u001b[39;49m\u001b[38;5;124;43m'\u001b[39;49m\u001b[38;5;124;43mIf you have no confidence in self,\u001b[39;49m\u001b[38;5;130;43;01m\\\\\u001b[39;49;00m\u001b[38;5;130;43;01m\\n\u001b[39;49;00m\u001b[38;5;124;43myou are twice defeated in the race of life.\u001b[39;49m\u001b[38;5;130;43;01m\\\\\u001b[39;49;00m\u001b[38;5;130;43;01m\\n\u001b[39;49;00m\u001b[38;5;124;43mWith confidence, you have won even before you have started.\u001b[39;49m\u001b[38;5;124;43m'\u001b[39;49m\u001b[38;5;124;43m]\u001b[39;49m\u001b[38;5;130;43;01m\\n\u001b[39;49;00m\u001b[38;5;130;43;01m\\n\u001b[39;49;00m\u001b[38;5;124;43mcdef wf(fn):\u001b[39;49m\u001b[38;5;130;43;01m\\n\u001b[39;49;00m\u001b[38;5;124;43m    cdef count = \u001b[39;49m\u001b[38;5;132;43;01m{}\u001b[39;49;00m\u001b[38;5;130;43;01m\\n\u001b[39;49;00m\u001b[38;5;124;43m    for line in hello_world:\u001b[39;49m\u001b[38;5;130;43;01m\\n\u001b[39;49;00m\u001b[38;5;124;43m        for w in tokenize(line):\u001b[39;49m\u001b[38;5;130;43;01m\\n\u001b[39;49;00m\u001b[38;5;124;43m            count.setdefault(w, 0)\u001b[39;49m\u001b[38;5;130;43;01m\\n\u001b[39;49;00m\u001b[38;5;124;43m            count[w] += 1\u001b[39;49m\u001b[38;5;130;43;01m\\n\u001b[39;49;00m\u001b[38;5;124;43m    return count\u001b[39;49m\u001b[38;5;130;43;01m\\n\u001b[39;49;00m\u001b[38;5;130;43;01m\\n\u001b[39;49;00m\u001b[38;5;130;43;01m\\n\u001b[39;49;00m\u001b[38;5;124;43mcdef tokenize(char* s):\u001b[39;49m\u001b[38;5;130;43;01m\\n\u001b[39;49;00m\u001b[38;5;124;43m    cdef a = []\u001b[39;49m\u001b[38;5;130;43;01m\\n\u001b[39;49;00m\u001b[38;5;124;43m    for x in s.split():\u001b[39;49m\u001b[38;5;130;43;01m\\n\u001b[39;49;00m\u001b[38;5;124;43m        a.append( x.strip(punctuation).lower())  \u001b[39;49m\u001b[38;5;130;43;01m\\n\u001b[39;49;00m\u001b[38;5;124;43m    return a\u001b[39;49m\u001b[38;5;130;43;01m\\n\u001b[39;49;00m\u001b[38;5;130;43;01m\\n\u001b[39;49;00m\u001b[38;5;130;43;01m\\n\u001b[39;49;00m\u001b[38;5;124;43mprint(wf(hello_world))\u001b[39;49m\u001b[38;5;130;43;01m\\n\u001b[39;49;00m\u001b[38;5;124;43m\"\u001b[39;49m\u001b[43m)\u001b[49m\n",
      "File \u001b[1;32m~\\anaconda3\\envs\\blockchainDev\\lib\\site-packages\\IPython\\core\\interactiveshell.py:2347\u001b[0m, in \u001b[0;36mInteractiveShell.run_cell_magic\u001b[1;34m(self, magic_name, line, cell)\u001b[0m\n\u001b[0;32m   2345\u001b[0m \u001b[38;5;28;01mwith\u001b[39;00m \u001b[38;5;28mself\u001b[39m\u001b[38;5;241m.\u001b[39mbuiltin_trap:\n\u001b[0;32m   2346\u001b[0m     args \u001b[38;5;241m=\u001b[39m (magic_arg_s, cell)\n\u001b[1;32m-> 2347\u001b[0m     result \u001b[38;5;241m=\u001b[39m \u001b[43mfn\u001b[49m\u001b[43m(\u001b[49m\u001b[38;5;241;43m*\u001b[39;49m\u001b[43margs\u001b[49m\u001b[43m,\u001b[49m\u001b[43m \u001b[49m\u001b[38;5;241;43m*\u001b[39;49m\u001b[38;5;241;43m*\u001b[39;49m\u001b[43mkwargs\u001b[49m\u001b[43m)\u001b[49m\n\u001b[0;32m   2348\u001b[0m \u001b[38;5;28;01mreturn\u001b[39;00m result\n",
      "File \u001b[1;32m~\\anaconda3\\envs\\blockchainDev\\lib\\site-packages\\Cython\\Build\\IpythonMagic.py:351\u001b[0m, in \u001b[0;36mCythonMagics.cython\u001b[1;34m(self, line, cell)\u001b[0m\n\u001b[0;32m    347\u001b[0m \u001b[38;5;28;01mexcept\u001b[39;00m distutils\u001b[38;5;241m.\u001b[39merrors\u001b[38;5;241m.\u001b[39mCompileError:\n\u001b[0;32m    348\u001b[0m     \u001b[38;5;66;03m# Build failed and printed error message\u001b[39;00m\n\u001b[0;32m    349\u001b[0m     \u001b[38;5;28;01mreturn\u001b[39;00m \u001b[38;5;28;01mNone\u001b[39;00m\n\u001b[1;32m--> 351\u001b[0m module \u001b[38;5;241m=\u001b[39m \u001b[43mimp\u001b[49m\u001b[38;5;241;43m.\u001b[39;49m\u001b[43mload_dynamic\u001b[49m\u001b[43m(\u001b[49m\u001b[43mmodule_name\u001b[49m\u001b[43m,\u001b[49m\u001b[43m \u001b[49m\u001b[43mmodule_path\u001b[49m\u001b[43m)\u001b[49m\n\u001b[0;32m    352\u001b[0m \u001b[38;5;28mself\u001b[39m\u001b[38;5;241m.\u001b[39m_import_all(module)\n\u001b[0;32m    354\u001b[0m \u001b[38;5;28;01mif\u001b[39;00m args\u001b[38;5;241m.\u001b[39mannotate:\n",
      "File \u001b[1;32m~\\anaconda3\\envs\\blockchainDev\\lib\\imp.py:342\u001b[0m, in \u001b[0;36mload_dynamic\u001b[1;34m(name, path, file)\u001b[0m\n\u001b[0;32m    338\u001b[0m \u001b[38;5;66;03m# Issue #24748: Skip the sys.modules check in _load_module_shim;\u001b[39;00m\n\u001b[0;32m    339\u001b[0m \u001b[38;5;66;03m# always load new extension\u001b[39;00m\n\u001b[0;32m    340\u001b[0m spec \u001b[38;5;241m=\u001b[39m importlib\u001b[38;5;241m.\u001b[39mmachinery\u001b[38;5;241m.\u001b[39mModuleSpec(\n\u001b[0;32m    341\u001b[0m     name\u001b[38;5;241m=\u001b[39mname, loader\u001b[38;5;241m=\u001b[39mloader, origin\u001b[38;5;241m=\u001b[39mpath)\n\u001b[1;32m--> 342\u001b[0m \u001b[38;5;28;01mreturn\u001b[39;00m \u001b[43m_load\u001b[49m\u001b[43m(\u001b[49m\u001b[43mspec\u001b[49m\u001b[43m)\u001b[49m\n",
      "File \u001b[1;32m<frozen importlib._bootstrap>:702\u001b[0m, in \u001b[0;36m_load\u001b[1;34m(spec)\u001b[0m\n",
      "File \u001b[1;32m<frozen importlib._bootstrap>:671\u001b[0m, in \u001b[0;36m_load_unlocked\u001b[1;34m(spec)\u001b[0m\n",
      "File \u001b[1;32m<frozen importlib._bootstrap_external>:1174\u001b[0m, in \u001b[0;36mexec_module\u001b[1;34m(self, module)\u001b[0m\n",
      "File \u001b[1;32m<frozen importlib._bootstrap>:219\u001b[0m, in \u001b[0;36m_call_with_frames_removed\u001b[1;34m(f, *args, **kwds)\u001b[0m\n",
      "File \u001b[1;32m_cython_magic_54b9584139ce45786847287c26bb9c40.pyx:33\u001b[0m, in \u001b[0;36minit _cython_magic_54b9584139ce45786847287c26bb9c40\u001b[1;34m()\u001b[0m\n",
      "File \u001b[1;32m_cython_magic_54b9584139ce45786847287c26bb9c40.pyx:20\u001b[0m, in \u001b[0;36m_cython_magic_54b9584139ce45786847287c26bb9c40.wf\u001b[1;34m()\u001b[0m\n",
      "\u001b[1;31mTypeError\u001b[0m: expected bytes, str found"
     ]
    }
   ],
   "source": [
    "%%cython\n",
    "import time\n",
    "import sys\n",
    "from random import randint\n",
    "import numpy as np\n",
    "cimport cython\n",
    "cimport numpy as cnp\n",
    "from libc.string cimport strcpy, strlen\n",
    "from libc.math cimport pow, sqrt,ceil\n",
    "from string import punctuation\n",
    "from libc.string cimport strcpy, strlen\n",
    "\n",
    "\n",
    "cdef  hello_world = ['If you have no confidence in self,\\\n",
    "you are twice defeated in the race of life.\\\n",
    "With confidence, you have won even before you have started.']\n",
    "\n",
    "cdef wf(fn):\n",
    "    cdef count = {}\n",
    "    for line in hello_world:\n",
    "        for w in tokenize(line):\n",
    "            count.setdefault(w, 0)\n",
    "            count[w] += 1\n",
    "    return count\n",
    "\n",
    "\n",
    "cdef tokenize(char* s):\n",
    "    cdef a = []\n",
    "    for x in s.split():\n",
    "        a.append( x.strip(punctuation).lower())  \n",
    "    return a\n",
    "\n",
    "\n",
    "print(wf(hello_world))"
   ]
  },
  {
   "cell_type": "code",
   "execution_count": null,
   "id": "8c4738ec",
   "metadata": {},
   "outputs": [],
   "source": []
  },
  {
   "cell_type": "code",
   "execution_count": 45,
   "id": "35e0e4f7",
   "metadata": {},
   "outputs": [
    {
     "name": "stdout",
     "output_type": "stream",
     "text": [
      "[2♣, 3♣, 4♣, 5♣, 6♣, 7♣, 8♣, 9♣, 10♣, J♣, Q♣, K♣, A♣, 2♦, 3♦, 4♦, 5♦, 6♦, 7♦, 8♦, 9♦, 10♦, J♦, Q♦, K♦, A♦, 2♥, 3♥, 4♥, 5♥, 6♥, 7♥, 8♥, 9♥, 10♥, J♥, Q♥, K♥, A♥, 2♠, 3♠, 4♠, 5♠, 6♠, 7♠, 8♠, 9♠, 10♠, J♠, Q♠, K♠, A♠]\n"
     ]
    }
   ],
   "source": [
    "class Card:\n",
    "\n",
    "    'An instance of the Card class is a single playing card.'\n",
    "    suit_sym = {3:'\\u2660', 2:'\\u2665', 1:'\\u2666', 0:'\\u2663'}\n",
    "    rank_sym = {0: \"2\", 1: '3', 2: '4', 3: '5', 4: '6', 5: '7', 6:'8', 7:'9', 8:'10', 9: 'J', 10:'Q', 11: 'K', 12:'A'}\n",
    "\n",
    "    def __init__(self, n):\n",
    "        'Assign the ID for a new card'\n",
    "        self._id = n\n",
    "\n",
    "        \n",
    "    def rank(self):\n",
    "        \"A card's rank is an interger between 0 (2) and 12 (ace).\"\n",
    "        return self._id % 13\n",
    "\n",
    "    def suit(self):\n",
    "        'Return a suit number: 0 = clubs, 1 = diamonds, 2 = hearts, 3 = spades.'\n",
    "        return self._id // 13\n",
    "    \n",
    "    def __repr__(self):\n",
    "        return Card.rank_sym[self.rank()] + Card.suit_sym[self.suit()]\n",
    "\n",
    "    def __eq__(self, other):\n",
    "        return self._id == other._id\n",
    "        \n",
    "\n",
    "def new_deck():\n",
    "    'Create a list of 52 cards objects.'\n",
    "    return [Card(i) for i in range(52)]\n",
    "\n",
    "print([Card(i) for i in range(52)])"
   ]
  },
  {
   "cell_type": "code",
   "execution_count": 64,
   "id": "3a4eec9b",
   "metadata": {},
   "outputs": [
    {
     "ename": "AttributeError",
     "evalue": "'_cython_magic_263d47b7185df463f6933341bf620eb6.Card' object has no attribute '_id'",
     "output_type": "error",
     "traceback": [
      "\u001b[1;31m---------------------------------------------------------------------------\u001b[0m",
      "\u001b[1;31mAttributeError\u001b[0m                            Traceback (most recent call last)",
      "Input \u001b[1;32mIn [64]\u001b[0m, in \u001b[0;36m<cell line: 1>\u001b[1;34m()\u001b[0m\n\u001b[1;32m----> 1\u001b[0m \u001b[43mget_ipython\u001b[49m\u001b[43m(\u001b[49m\u001b[43m)\u001b[49m\u001b[38;5;241;43m.\u001b[39;49m\u001b[43mrun_cell_magic\u001b[49m\u001b[43m(\u001b[49m\u001b[38;5;124;43m'\u001b[39;49m\u001b[38;5;124;43mcython\u001b[39;49m\u001b[38;5;124;43m'\u001b[39;49m\u001b[43m,\u001b[49m\u001b[43m \u001b[49m\u001b[38;5;124;43m'\u001b[39;49m\u001b[38;5;124;43m'\u001b[39;49m\u001b[43m,\u001b[49m\u001b[43m \u001b[49m\u001b[38;5;124;43m'\u001b[39;49m\u001b[38;5;124;43mimport time\u001b[39;49m\u001b[38;5;130;43;01m\\n\u001b[39;49;00m\u001b[38;5;124;43mimport sys\u001b[39;49m\u001b[38;5;130;43;01m\\n\u001b[39;49;00m\u001b[38;5;124;43mfrom random import randint\u001b[39;49m\u001b[38;5;130;43;01m\\n\u001b[39;49;00m\u001b[38;5;124;43mimport numpy as np\u001b[39;49m\u001b[38;5;130;43;01m\\n\u001b[39;49;00m\u001b[38;5;124;43mcimport cython\u001b[39;49m\u001b[38;5;130;43;01m\\n\u001b[39;49;00m\u001b[38;5;124;43mcimport numpy as cnp\u001b[39;49m\u001b[38;5;130;43;01m\\n\u001b[39;49;00m\u001b[38;5;124;43mfrom libc.string cimport strcpy, strlen\u001b[39;49m\u001b[38;5;130;43;01m\\n\u001b[39;49;00m\u001b[38;5;130;43;01m\\n\u001b[39;49;00m\u001b[38;5;124;43mfrom libc.math cimport pow, sqrt,ceil\u001b[39;49m\u001b[38;5;130;43;01m\\n\u001b[39;49;00m\u001b[38;5;130;43;01m\\n\u001b[39;49;00m\u001b[38;5;130;43;01m\\n\u001b[39;49;00m\u001b[38;5;124;43mcdef suit_sym = \u001b[39;49m\u001b[38;5;124;43m{\u001b[39;49m\u001b[38;5;124;43m3:\u001b[39;49m\u001b[38;5;130;43;01m\\'\u001b[39;49;00m\u001b[38;5;130;43;01m\\\\\u001b[39;49;00m\u001b[38;5;124;43mu2660\u001b[39;49m\u001b[38;5;130;43;01m\\'\u001b[39;49;00m\u001b[38;5;124;43m, 2:\u001b[39;49m\u001b[38;5;130;43;01m\\'\u001b[39;49;00m\u001b[38;5;130;43;01m\\\\\u001b[39;49;00m\u001b[38;5;124;43mu2665\u001b[39;49m\u001b[38;5;130;43;01m\\'\u001b[39;49;00m\u001b[38;5;124;43m, 1:\u001b[39;49m\u001b[38;5;130;43;01m\\'\u001b[39;49;00m\u001b[38;5;130;43;01m\\\\\u001b[39;49;00m\u001b[38;5;124;43mu2666\u001b[39;49m\u001b[38;5;130;43;01m\\'\u001b[39;49;00m\u001b[38;5;124;43m, 0:\u001b[39;49m\u001b[38;5;130;43;01m\\'\u001b[39;49;00m\u001b[38;5;130;43;01m\\\\\u001b[39;49;00m\u001b[38;5;124;43mu2663\u001b[39;49m\u001b[38;5;130;43;01m\\'\u001b[39;49;00m\u001b[38;5;124;43m}\u001b[39;49m\u001b[38;5;130;43;01m\\n\u001b[39;49;00m\u001b[38;5;124;43mcdef rank_sym = \u001b[39;49m\u001b[38;5;124;43m{\u001b[39;49m\u001b[38;5;124;43m0: \u001b[39;49m\u001b[38;5;124;43m\"\u001b[39;49m\u001b[38;5;124;43m2\u001b[39;49m\u001b[38;5;124;43m\"\u001b[39;49m\u001b[38;5;124;43m, 1: \u001b[39;49m\u001b[38;5;130;43;01m\\'\u001b[39;49;00m\u001b[38;5;124;43m3\u001b[39;49m\u001b[38;5;130;43;01m\\'\u001b[39;49;00m\u001b[38;5;124;43m, 2: \u001b[39;49m\u001b[38;5;130;43;01m\\'\u001b[39;49;00m\u001b[38;5;124;43m4\u001b[39;49m\u001b[38;5;130;43;01m\\'\u001b[39;49;00m\u001b[38;5;124;43m, 3: \u001b[39;49m\u001b[38;5;130;43;01m\\'\u001b[39;49;00m\u001b[38;5;124;43m5\u001b[39;49m\u001b[38;5;130;43;01m\\'\u001b[39;49;00m\u001b[38;5;124;43m, 4: \u001b[39;49m\u001b[38;5;130;43;01m\\'\u001b[39;49;00m\u001b[38;5;124;43m6\u001b[39;49m\u001b[38;5;130;43;01m\\'\u001b[39;49;00m\u001b[38;5;124;43m, 5: \u001b[39;49m\u001b[38;5;130;43;01m\\'\u001b[39;49;00m\u001b[38;5;124;43m7\u001b[39;49m\u001b[38;5;130;43;01m\\'\u001b[39;49;00m\u001b[38;5;124;43m, 6:\u001b[39;49m\u001b[38;5;130;43;01m\\'\u001b[39;49;00m\u001b[38;5;124;43m8\u001b[39;49m\u001b[38;5;130;43;01m\\'\u001b[39;49;00m\u001b[38;5;124;43m, 7:\u001b[39;49m\u001b[38;5;130;43;01m\\'\u001b[39;49;00m\u001b[38;5;124;43m9\u001b[39;49m\u001b[38;5;130;43;01m\\'\u001b[39;49;00m\u001b[38;5;124;43m, 8:\u001b[39;49m\u001b[38;5;130;43;01m\\'\u001b[39;49;00m\u001b[38;5;124;43m10\u001b[39;49m\u001b[38;5;130;43;01m\\'\u001b[39;49;00m\u001b[38;5;124;43m, 9: \u001b[39;49m\u001b[38;5;130;43;01m\\'\u001b[39;49;00m\u001b[38;5;124;43mJ\u001b[39;49m\u001b[38;5;130;43;01m\\'\u001b[39;49;00m\u001b[38;5;124;43m, 10:\u001b[39;49m\u001b[38;5;130;43;01m\\'\u001b[39;49;00m\u001b[38;5;124;43mQ\u001b[39;49m\u001b[38;5;130;43;01m\\'\u001b[39;49;00m\u001b[38;5;124;43m, 11: \u001b[39;49m\u001b[38;5;130;43;01m\\'\u001b[39;49;00m\u001b[38;5;124;43mK\u001b[39;49m\u001b[38;5;130;43;01m\\'\u001b[39;49;00m\u001b[38;5;124;43m, 12:\u001b[39;49m\u001b[38;5;130;43;01m\\'\u001b[39;49;00m\u001b[38;5;124;43mA\u001b[39;49m\u001b[38;5;130;43;01m\\'\u001b[39;49;00m\u001b[38;5;124;43m}\u001b[39;49m\u001b[38;5;130;43;01m\\n\u001b[39;49;00m\u001b[38;5;130;43;01m\\n\u001b[39;49;00m\u001b[38;5;124;43mcdef class Card:\u001b[39;49m\u001b[38;5;130;43;01m\\n\u001b[39;49;00m\u001b[38;5;124;43m    \u001b[39;49m\u001b[38;5;130;43;01m\\n\u001b[39;49;00m\u001b[38;5;124;43m    def  __init__(self, n):\u001b[39;49m\u001b[38;5;130;43;01m\\n\u001b[39;49;00m\u001b[38;5;124;43m        self._id = n\u001b[39;49m\u001b[38;5;130;43;01m\\n\u001b[39;49;00m\u001b[38;5;124;43m        \u001b[39;49m\u001b[38;5;130;43;01m\\n\u001b[39;49;00m\u001b[38;5;124;43m    def  rank(self):\u001b[39;49m\u001b[38;5;130;43;01m\\n\u001b[39;49;00m\u001b[38;5;124;43m        return self._id \u001b[39;49m\u001b[38;5;124;43m%\u001b[39;49m\u001b[38;5;124;43m 13\u001b[39;49m\u001b[38;5;130;43;01m\\n\u001b[39;49;00m\u001b[38;5;130;43;01m\\n\u001b[39;49;00m\u001b[38;5;124;43m    def  suit(self):\u001b[39;49m\u001b[38;5;130;43;01m\\n\u001b[39;49;00m\u001b[38;5;124;43m        return self._id // 13\u001b[39;49m\u001b[38;5;130;43;01m\\n\u001b[39;49;00m\u001b[38;5;124;43m    \u001b[39;49m\u001b[38;5;130;43;01m\\n\u001b[39;49;00m\u001b[38;5;124;43m    def  __repr__(self):\u001b[39;49m\u001b[38;5;130;43;01m\\n\u001b[39;49;00m\u001b[38;5;124;43m        return Card.rank_sym[self.rank()] + Card.suit_sym[self.suit()]\u001b[39;49m\u001b[38;5;130;43;01m\\n\u001b[39;49;00m\u001b[38;5;130;43;01m\\n\u001b[39;49;00m\u001b[38;5;124;43m    def  __eq__(self, other):\u001b[39;49m\u001b[38;5;130;43;01m\\n\u001b[39;49;00m\u001b[38;5;124;43m        return self._id == other._id\u001b[39;49m\u001b[38;5;130;43;01m\\n\u001b[39;49;00m\u001b[38;5;124;43m        \u001b[39;49m\u001b[38;5;130;43;01m\\n\u001b[39;49;00m\u001b[38;5;130;43;01m\\n\u001b[39;49;00m\u001b[38;5;124;43mdef new_deck():\u001b[39;49m\u001b[38;5;130;43;01m\\n\u001b[39;49;00m\u001b[38;5;124;43m    return [Card(i) for i in range(52)]\u001b[39;49m\u001b[38;5;130;43;01m\\n\u001b[39;49;00m\u001b[38;5;130;43;01m\\n\u001b[39;49;00m\u001b[38;5;124;43mprint([Card(i) for i in range(52)])\u001b[39;49m\u001b[38;5;130;43;01m\\n\u001b[39;49;00m\u001b[38;5;124;43m'\u001b[39;49m\u001b[43m)\u001b[49m\n",
      "File \u001b[1;32m~\\anaconda3\\envs\\blockchainDev\\lib\\site-packages\\IPython\\core\\interactiveshell.py:2347\u001b[0m, in \u001b[0;36mInteractiveShell.run_cell_magic\u001b[1;34m(self, magic_name, line, cell)\u001b[0m\n\u001b[0;32m   2345\u001b[0m \u001b[38;5;28;01mwith\u001b[39;00m \u001b[38;5;28mself\u001b[39m\u001b[38;5;241m.\u001b[39mbuiltin_trap:\n\u001b[0;32m   2346\u001b[0m     args \u001b[38;5;241m=\u001b[39m (magic_arg_s, cell)\n\u001b[1;32m-> 2347\u001b[0m     result \u001b[38;5;241m=\u001b[39m \u001b[43mfn\u001b[49m\u001b[43m(\u001b[49m\u001b[38;5;241;43m*\u001b[39;49m\u001b[43margs\u001b[49m\u001b[43m,\u001b[49m\u001b[43m \u001b[49m\u001b[38;5;241;43m*\u001b[39;49m\u001b[38;5;241;43m*\u001b[39;49m\u001b[43mkwargs\u001b[49m\u001b[43m)\u001b[49m\n\u001b[0;32m   2348\u001b[0m \u001b[38;5;28;01mreturn\u001b[39;00m result\n",
      "File \u001b[1;32m~\\anaconda3\\envs\\blockchainDev\\lib\\site-packages\\Cython\\Build\\IpythonMagic.py:351\u001b[0m, in \u001b[0;36mCythonMagics.cython\u001b[1;34m(self, line, cell)\u001b[0m\n\u001b[0;32m    347\u001b[0m \u001b[38;5;28;01mexcept\u001b[39;00m distutils\u001b[38;5;241m.\u001b[39merrors\u001b[38;5;241m.\u001b[39mCompileError:\n\u001b[0;32m    348\u001b[0m     \u001b[38;5;66;03m# Build failed and printed error message\u001b[39;00m\n\u001b[0;32m    349\u001b[0m     \u001b[38;5;28;01mreturn\u001b[39;00m \u001b[38;5;28;01mNone\u001b[39;00m\n\u001b[1;32m--> 351\u001b[0m module \u001b[38;5;241m=\u001b[39m \u001b[43mimp\u001b[49m\u001b[38;5;241;43m.\u001b[39;49m\u001b[43mload_dynamic\u001b[49m\u001b[43m(\u001b[49m\u001b[43mmodule_name\u001b[49m\u001b[43m,\u001b[49m\u001b[43m \u001b[49m\u001b[43mmodule_path\u001b[49m\u001b[43m)\u001b[49m\n\u001b[0;32m    352\u001b[0m \u001b[38;5;28mself\u001b[39m\u001b[38;5;241m.\u001b[39m_import_all(module)\n\u001b[0;32m    354\u001b[0m \u001b[38;5;28;01mif\u001b[39;00m args\u001b[38;5;241m.\u001b[39mannotate:\n",
      "File \u001b[1;32m~\\anaconda3\\envs\\blockchainDev\\lib\\imp.py:342\u001b[0m, in \u001b[0;36mload_dynamic\u001b[1;34m(name, path, file)\u001b[0m\n\u001b[0;32m    338\u001b[0m \u001b[38;5;66;03m# Issue #24748: Skip the sys.modules check in _load_module_shim;\u001b[39;00m\n\u001b[0;32m    339\u001b[0m \u001b[38;5;66;03m# always load new extension\u001b[39;00m\n\u001b[0;32m    340\u001b[0m spec \u001b[38;5;241m=\u001b[39m importlib\u001b[38;5;241m.\u001b[39mmachinery\u001b[38;5;241m.\u001b[39mModuleSpec(\n\u001b[0;32m    341\u001b[0m     name\u001b[38;5;241m=\u001b[39mname, loader\u001b[38;5;241m=\u001b[39mloader, origin\u001b[38;5;241m=\u001b[39mpath)\n\u001b[1;32m--> 342\u001b[0m \u001b[38;5;28;01mreturn\u001b[39;00m \u001b[43m_load\u001b[49m\u001b[43m(\u001b[49m\u001b[43mspec\u001b[49m\u001b[43m)\u001b[49m\n",
      "File \u001b[1;32m<frozen importlib._bootstrap>:702\u001b[0m, in \u001b[0;36m_load\u001b[1;34m(spec)\u001b[0m\n",
      "File \u001b[1;32m<frozen importlib._bootstrap>:671\u001b[0m, in \u001b[0;36m_load_unlocked\u001b[1;34m(spec)\u001b[0m\n",
      "File \u001b[1;32m<frozen importlib._bootstrap_external>:1174\u001b[0m, in \u001b[0;36mexec_module\u001b[1;34m(self, module)\u001b[0m\n",
      "File \u001b[1;32m<frozen importlib._bootstrap>:219\u001b[0m, in \u001b[0;36m_call_with_frames_removed\u001b[1;34m(f, *args, **kwds)\u001b[0m\n",
      "File \u001b[1;32m_cython_magic_263d47b7185df463f6933341bf620eb6.pyx:36\u001b[0m, in \u001b[0;36minit _cython_magic_263d47b7185df463f6933341bf620eb6\u001b[1;34m()\u001b[0m\n",
      "File \u001b[1;32m_cython_magic_263d47b7185df463f6933341bf620eb6.pyx:18\u001b[0m, in \u001b[0;36m_cython_magic_263d47b7185df463f6933341bf620eb6.Card.__init__\u001b[1;34m()\u001b[0m\n",
      "\u001b[1;31mAttributeError\u001b[0m: '_cython_magic_263d47b7185df463f6933341bf620eb6.Card' object has no attribute '_id'"
     ]
    }
   ],
   "source": [
    "%%cython\n",
    "import time\n",
    "import sys\n",
    "from random import randint\n",
    "import numpy as np\n",
    "cimport cython\n",
    "cimport numpy as cnp\n",
    "from libc.string cimport strcpy, strlen\n",
    "\n",
    "from libc.math cimport pow, sqrt,ceil\n",
    "\n",
    "\n",
    "cdef suit_sym = {3:'\\u2660', 2:'\\u2665', 1:'\\u2666', 0:'\\u2663'}\n",
    "cdef rank_sym = {0: \"2\", 1: '3', 2: '4', 3: '5', 4: '6', 5: '7', 6:'8', 7:'9', 8:'10', 9: 'J', 10:'Q', 11: 'K', 12:'A'}\n",
    "\n",
    "cdef class Card:\n",
    "    \n",
    "    def  __init__(self, n):\n",
    "        self._id = n\n",
    "        \n",
    "    def  rank(self):\n",
    "        return self._id % 13\n",
    "\n",
    "    def  suit(self):\n",
    "        return self._id // 13\n",
    "    \n",
    "    def  __repr__(self):\n",
    "        return Card.rank_sym[self.rank()] + Card.suit_sym[self.suit()]\n",
    "\n",
    "    def  __eq__(self, other):\n",
    "        return self._id == other._id\n",
    "        \n",
    "\n",
    "def new_deck():\n",
    "    return [Card(i) for i in range(52)]\n",
    "\n",
    "print([Card(i) for i in range(52)])"
   ]
  },
  {
   "cell_type": "code",
   "execution_count": null,
   "id": "0d943a27",
   "metadata": {},
   "outputs": [],
   "source": [
    "    "
   ]
  },
  {
   "cell_type": "code",
   "execution_count": null,
   "id": "36bc95b7",
   "metadata": {},
   "outputs": [],
   "source": [
    "    'An instance of the Card class is a single playing card.'\n",
    "\n",
    "suit_sym = {3:'\\u2660', 2:'\\u2665', 1:'\\u2666', 0:'\\u2663'}\n",
    "\n",
    "rank_sym = {0: \"2\", 1: '3', 2: '4', 3: '5', 4: '6', 5: '7', 6:'8', 7:'9', 8:'10', 9: 'J', 10:'Q', 11: 'K', 12:'A'}\n",
    "\n",
    "suit_num = dict(zip(suit_sym.values(), suit_sym.keys()))\n",
    "\n",
    "rank_num = dict(zip(rank_sym.values(), rank_sym.keys()))"
   ]
  },
  {
   "cell_type": "code",
   "execution_count": 94,
   "id": "6b826cf2",
   "metadata": {},
   "outputs": [],
   "source": [
    "%%cython\n",
    "import time\n",
    "import sys\n",
    "from random import randint\n",
    "import numpy as np\n",
    "cimport cython\n",
    "cimport numpy as cnp\n",
    "from libc.string cimport strcpy, strlen\n",
    "\n",
    "from libc.math cimport pow, sqrt,ceil\n",
    "\n",
    "cdef suit_sym = {3:'\\u2660', 2:'\\u2665', 1:'\\u2666', 0:'\\u2663'}\n",
    "\n",
    "cdef rank_sym = {0: \"2\", 1: '3', 2: '4', 3: '5', 4: '6', 5: '7', 6:'8', 7:'9', 8:'10', 9: 'J', 10:'Q', 11: 'K', 12:'A'}\n",
    "\n",
    "cdef suit_num = dict(zip(suit_sym.values(), suit_sym.keys()))\n",
    "\n",
    "cdef rank_num = dict(zip(rank_sym.values(), rank_sym.keys()))\n",
    "\n",
    "cdef make_card(n):\n",
    "    try:\n",
    "        return Card(n)\n",
    "    except Exception as e:\n",
    "        print('invalid card:', e)\n",
    "        return None\n"
   ]
  },
  {
   "cell_type": "code",
   "execution_count": null,
   "id": "f19e90ed",
   "metadata": {},
   "outputs": [],
   "source": [
    "    "
   ]
  },
  {
   "cell_type": "code",
   "execution_count": null,
   "id": "e2a8371f",
   "metadata": {},
   "outputs": [],
   "source": []
  },
  {
   "cell_type": "code",
   "execution_count": null,
   "id": "fa3a8eb0",
   "metadata": {},
   "outputs": [],
   "source": [
    "%%cython\n",
    "import time\n",
    "import sys\n",
    "from random import randint\n",
    "import numpy as np\n",
    "cimport cython\n",
    "cimport numpy as cnp\n",
    "from libc.string cimport strcpy, strlen\n",
    "\n",
    "from libc.math cimport pow, sqrt,ceil\n",
    "\n",
    "\n",
    "        \n",
    "def permute(a):\n",
    "    \"Rearrange list a in a random order\"\n",
    "    for i in range(0,len(a)-1):\n",
    "        r = randint(i, len(a)-1)\n",
    "        a[i], a[r] = a[r], a[i]\n",
    "\n",
    "        \n"
   ]
  },
  {
   "cell_type": "code",
   "execution_count": null,
   "id": "b84ceffc",
   "metadata": {},
   "outputs": [],
   "source": []
  },
  {
   "cell_type": "code",
   "execution_count": null,
   "id": "cdec7dd8",
   "metadata": {},
   "outputs": [],
   "source": []
  },
  {
   "cell_type": "code",
   "execution_count": null,
   "id": "023b1dfe-210a-416f-8e6c-52de22b7809b",
   "metadata": {},
   "outputs": [],
   "source": []
  },
  {
   "cell_type": "markdown",
   "id": "fd8585c9-f425-405d-80c7-acf73c82bf51",
   "metadata": {},
   "source": [
    "# The Insertion Sort Algorithm \n",
    "\n",
    "## A Helper Function for Insertion Sort:\n",
    "\n",
    "This operation ia itself defined by an iterative algorithm.\n",
    "If i is the current location, we want to scan left from i -1 ands work back towards the beginning of the list.\n",
    "The scan stops when we find a smaller value or the front of the list.\n"
   ]
  },
  {
   "cell_type": "code",
   "execution_count": null,
   "id": "ed62380d",
   "metadata": {},
   "outputs": [],
   "source": []
  },
  {
   "cell_type": "markdown",
   "id": "d4e916d7",
   "metadata": {},
   "source": [
    "\n"
   ]
  },
  {
   "cell_type": "markdown",
   "id": "3c3cb54e",
   "metadata": {},
   "source": [
    "\n",
    "# Chapter 5 - Divide and Conquer\n",
    "\n",
    "### A new strategy: Breaking large problems into smaller subproblems"
   ]
  },
  {
   "cell_type": "markdown",
   "id": "5fb53bb6",
   "metadata": {},
   "source": [
    "\n",
    "A search algo known as binary search uses divide and conquer to look for an item in a list.\n",
    "    \"Binary\" comes from the fact that when the list is divided it is cut into two equals pieces.\n",
    "    \n",
    "Quicksort also uses divide and conquer strategy by breaking a list to be sorted into smaller lists \n",
    "and then sorting each sublist.\n"
   ]
  },
  {
   "cell_type": "code",
   "execution_count": null,
   "id": "2bd8cfff",
   "metadata": {},
   "outputs": [],
   "source": []
  },
  {
   "cell_type": "code",
   "execution_count": null,
   "id": "492e9c65",
   "metadata": {},
   "outputs": [],
   "source": [
    "\"\"\" \n",
    "The Merge Sort Algorithm \n",
    "Works by first diving the input list into several small chunks\n",
    "and the combining the chuncks into biggers and bigger groups until the final merged group includes the full list.\n",
    "The key step in the algo is an operation that merges two small groups that are already in order into a single bigger group\n",
    "\"\"\""
   ]
  },
  {
   "cell_type": "code",
   "execution_count": null,
   "id": "ec736c85",
   "metadata": {},
   "outputs": [],
   "source": []
  },
  {
   "cell_type": "code",
   "execution_count": null,
   "id": "dc769567",
   "metadata": {},
   "outputs": [],
   "source": [
    "# Recursive Functions \n",
    "\n",
    "\"\"\"\n",
    "Parameter passed to the recursive call must be different from the one passed as argumetns in the recursive call.\n",
    "Second recursive call needs to be inside an if statement that tests whether or not to make the call.\n",
    "The if statement checks to see if the problem is solved without a recursive call, is so the problem is solved without the recursive call\n",
    "otherwise it is futher divided and the pieces handed off to the recursive call.\n",
    "\"\"\"\n"
   ]
  },
  {
   "cell_type": "code",
   "execution_count": null,
   "id": "d134904d",
   "metadata": {},
   "outputs": [],
   "source": []
  },
  {
   "cell_type": "code",
   "execution_count": null,
   "id": "d774d663",
   "metadata": {},
   "outputs": [],
   "source": [
    "\n",
    "filename = \"./text/techinterviwe.txt\"\n",
    "\n",
    "\n",
    "f = open(filename)\n",
    "\n",
    "testList = f.readlines(100)"
   ]
  },
  {
   "cell_type": "code",
   "execution_count": null,
   "id": "88e84a95",
   "metadata": {},
   "outputs": [],
   "source": [
    "def filesize(fn):\n",
    "    'Count characters in file fn.'\n",
    "    nchars = 0 \n",
    "    for line in open(fn):\n",
    "        nchars += len(line)\n",
    "    return nchars\n",
    "\n",
    "filesize(filename)"
   ]
  },
  {
   "cell_type": "code",
   "execution_count": null,
   "id": "8b3a8f24",
   "metadata": {},
   "outputs": [],
   "source": []
  },
  {
   "cell_type": "code",
   "execution_count": null,
   "id": "32d8a626",
   "metadata": {},
   "outputs": [],
   "source": [
    "fileline = []\n",
    "\n",
    "def files(filename):\n",
    "    for line in open(filename):\n",
    "        fileline.append(line)\n",
    "        print(line, end='')\n",
    "\n",
    "\n",
    "filename = files(filename)"
   ]
  },
  {
   "cell_type": "code",
   "execution_count": null,
   "id": "0907d686",
   "metadata": {},
   "outputs": [],
   "source": [
    "testList = testList"
   ]
  },
  {
   "cell_type": "code",
   "execution_count": null,
   "id": "01ff26cb",
   "metadata": {},
   "outputs": [],
   "source": [
    "def wc(fn):\n",
    "    \"\"\"\n",
    "    Count the number of lines, words,\n",
    "    and characters in file fn.    \n",
    "    \"\"\"\n",
    "    nlines = nwords = nchars = 0\n",
    "    for line in open(fn):\n",
    "        nlines += 1\n",
    "        nwords += len(line.split())\n",
    "        nchars += len(line)\n",
    "    return nlines, nwords, nchars"
   ]
  },
  {
   "cell_type": "code",
   "execution_count": null,
   "id": "50f7ccca",
   "metadata": {},
   "outputs": [],
   "source": [
    "wc(filename)"
   ]
  },
  {
   "cell_type": "code",
   "execution_count": null,
   "id": "5422371c",
   "metadata": {},
   "outputs": [],
   "source": [
    "filename = \"./text/techinterviwe.txt\"\n",
    "\n",
    "\n",
    "f = open(filename)\n",
    "\n",
    "sS = f.readline()"
   ]
  },
  {
   "cell_type": "code",
   "execution_count": null,
   "id": "6cdc4e70",
   "metadata": {},
   "outputs": [],
   "source": []
  },
  {
   "cell_type": "code",
   "execution_count": null,
   "id": "d6624ff4",
   "metadata": {},
   "outputs": [],
   "source": []
  },
  {
   "cell_type": "code",
   "execution_count": null,
   "id": "eaf38821",
   "metadata": {},
   "outputs": [],
   "source": []
  },
  {
   "cell_type": "code",
   "execution_count": null,
   "id": "da463c94",
   "metadata": {},
   "outputs": [],
   "source": [
    "from PythonLabs.SpamLab import *\n",
    "\n",
    "import tokenize\n",
    "#import spamicity\n",
    "def pspam(fn):\n",
    "    'Compute the probability the message in file fn is spam'\n",
    "    queue = WordQueue(15)\n",
    "  #  pgood = load_probabilities(path_to_data(\"./text/good.txt\"))\n",
    "   # pbad = load_probabilities(path_to_data(\"./text/bad.txt\"))\n",
    "    for line in open(fn):\n",
    "        for word in tokenize(line):\n",
    "            p = spamicity(word, pbad, pgood)\n",
    "            if p != None:\n",
    "                queue.insert(word, p)\n",
    "    return combined_probability(queue)\n",
    "\n",
    "\n",
    "pspam(filename)"
   ]
  },
  {
   "cell_type": "code",
   "execution_count": null,
   "id": "dc1a7814",
   "metadata": {},
   "outputs": [],
   "source": [
    "# Filtering Spam\n",
    "\n",
    "def spamicity(w, pbad, pgood):\n",
    "    '''\n",
    "    Compute the prob a message is spam when it contains a word w.\n",
    "    The dictionary pbad and pgood hold p(w|spam) and p(w|good), repecctively.\n",
    "    '''\n",
    "\n",
    "    if w in pbad and w in pgood:\n",
    "        return pbad[w] / ( pbad[w] + pgood[w] )\n",
    "    else:\n",
    "        return None\n",
    "        "
   ]
  },
  {
   "cell_type": "code",
   "execution_count": null,
   "id": "a0637373",
   "metadata": {},
   "outputs": [],
   "source": [
    "testListPOS = testList[0]\n",
    "testListPOS = testListPOS.split()"
   ]
  },
  {
   "cell_type": "code",
   "execution_count": null,
   "id": "ac01a824",
   "metadata": {},
   "outputs": [],
   "source": [
    "\n",
    "testListNEG = testList[4]\n",
    "testListNEG = testListNEG.split()"
   ]
  },
  {
   "cell_type": "code",
   "execution_count": null,
   "id": "1aa2cb9f",
   "metadata": {},
   "outputs": [],
   "source": []
  },
  {
   "cell_type": "code",
   "execution_count": null,
   "id": "825ab733",
   "metadata": {},
   "outputs": [],
   "source": [
    "create_acronym(testListPOS)"
   ]
  },
  {
   "cell_type": "code",
   "execution_count": null,
   "id": "e213b5d7",
   "metadata": {},
   "outputs": [],
   "source": []
  },
  {
   "cell_type": "code",
   "execution_count": null,
   "id": "333535d8",
   "metadata": {},
   "outputs": [],
   "source": [
    "'''A general formula for adding a new value xi+1 to the end of the list x is\n",
    "\n",
    "    xi+1 =(a X xi + c) mod m'''\n"
   ]
  },
  {
   "cell_type": "code",
   "execution_count": null,
   "id": "24931941",
   "metadata": {},
   "outputs": [],
   "source": [
    "np.histogram(dopedice, bins=2)\n"
   ]
  },
  {
   "cell_type": "code",
   "execution_count": null,
   "id": "0357ebec",
   "metadata": {},
   "outputs": [],
   "source": []
  },
  {
   "cell_type": "code",
   "execution_count": null,
   "id": "32c200c0",
   "metadata": {},
   "outputs": [],
   "source": [
    "# Bad Design\n",
    "\n",
    "class X:\n",
    "    def __init__(self, n):\n",
    "        if n < 0:\n",
    "            print('n must be positive')\n",
    "        else:\n",
    "            self._val = n\n",
    "\n",
    "        "
   ]
  },
  {
   "cell_type": "code",
   "execution_count": 92,
   "id": "a2a93832",
   "metadata": {},
   "outputs": [],
   "source": []
  },
  {
   "cell_type": "code",
   "execution_count": 93,
   "id": "9e122a08",
   "metadata": {},
   "outputs": [
    {
     "ename": "SyntaxError",
     "evalue": "invalid syntax (713282651.py, line 7)",
     "output_type": "error",
     "traceback": [
      "\u001b[1;36m  Input \u001b[1;32mIn [93]\u001b[1;36m\u001b[0m\n\u001b[1;33m    elif arg1 in Card.rank_num and arg2 in Card.suit_num:\u001b[0m\n\u001b[1;37m    ^\u001b[0m\n\u001b[1;31mSyntaxError\u001b[0m\u001b[1;31m:\u001b[0m invalid syntax\n"
     ]
    }
   ],
   "source": [
    "def __init__(self, arg1, arg2 = None):\n",
    "        if type(arg1) == int:\n",
    "            if arg1 in range(0,52):\n",
    "                self._id = arg1\n",
    "        else:\n",
    "            raise Exception('Card number must be between 0 and 51')\n",
    "            elif arg1 in Card.rank_num and arg2 in Card.suit_num:\n",
    "                self._id = Card.rank_num[arg1] + 13 * Card.suit_num[arg2]\n",
    "        else:\n",
    "            raise Exception('Expected Card(n) or Card(\"rank\", \"suit\")')"
   ]
  }
 ],
 "metadata": {
  "interpreter": {
   "hash": "9ae16ef445867c3ddd8a030e03f508a31c88ab57810e24e3a3afaf36f09532d0"
  },
  "kernelspec": {
   "display_name": "Python 3 (ipykernel)",
   "language": "python",
   "name": "python3"
  },
  "language_info": {
   "codemirror_mode": {
    "name": "ipython",
    "version": 3
   },
   "file_extension": ".py",
   "mimetype": "text/x-python",
   "name": "python",
   "nbconvert_exporter": "python",
   "pygments_lexer": "ipython3",
   "version": "3.8.13"
  }
 },
 "nbformat": 4,
 "nbformat_minor": 5
}
