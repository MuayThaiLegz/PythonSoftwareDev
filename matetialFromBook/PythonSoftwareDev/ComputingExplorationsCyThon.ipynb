{
 "cells": [
  {
   "cell_type": "code",
   "execution_count": null,
   "id": "63596d9a-007c-4577-8ce6-17808c20a632",
   "metadata": {},
   "outputs": [],
   "source": []
  },
  {
   "cell_type": "code",
   "execution_count": null,
   "id": "463f9a04",
   "metadata": {},
   "outputs": [],
   "source": [
    "%load_ext Cython"
   ]
  },
  {
   "cell_type": "code",
   "execution_count": 412,
   "id": "9a67fca0",
   "metadata": {},
   "outputs": [
    {
     "data": {
      "text/plain": [
       "'%%cython\\n\\ncdef Cyfib(int n):\\n    cdef double a=0.0, b=1.0\\n    for i in range(n):\\n        a, b = a + b, a\\n    return a'"
      ]
     },
     "execution_count": 412,
     "metadata": {},
     "output_type": "execute_result"
    }
   ],
   "source": [
    "'''%%cython\n",
    "\n",
    "cdef Cyfib(int n):\n",
    "    cdef double a=0.0, b=1.0\n",
    "    for i in range(n):\n",
    "        a, b = a + b, a\n",
    "    return a'''"
   ]
  },
  {
   "cell_type": "code",
   "execution_count": 371,
   "id": "d67aec57",
   "metadata": {},
   "outputs": [
    {
     "name": "stdout",
     "output_type": "stream",
     "text": [
      "         800005 function calls in 0.251 seconds\n",
      "\n",
      "   Ordered by: internal time\n",
      "\n",
      "   ncalls  tottime  percall  cumtime  percall filename:lineno(function)\n",
      "   400000    0.109    0.000    0.155    0.000 2678769807.py:12(sin2)\n",
      "        1    0.095    0.095    0.251    0.251 2678769807.py:5(integrate)\n",
      "   400000    0.046    0.000    0.046    0.000 {built-in method math.sin}\n",
      "        1    0.000    0.000    0.251    0.251 {built-in method builtins.exec}\n",
      "        1    0.000    0.000    0.251    0.251 2678769807.py:15(main)\n",
      "        1    0.000    0.000    0.251    0.251 <string>:1(<module>)\n",
      "        1    0.000    0.000    0.000    0.000 {method 'disable' of '_lsprof.Profiler' objects}\n",
      "\n",
      "\n"
     ]
    }
   ],
   "source": [
    "from math import pi, sin\n",
    "import pyximport; pyximport.install()\n",
    "\n",
    "\n",
    "def integrate(a, b, f, N=2000):\n",
    "    dx = (b-a)/N\n",
    "    s = 0.0\n",
    "    for i in range(N):\n",
    "        s += f(a+i*dx)\n",
    "    return s * dx\n",
    "\n",
    "def sin2(x=55):\n",
    "    return sin(x)**2\n",
    "\n",
    "def main():\n",
    "    a, b = 0.0, 2.0 * pi\n",
    "    return integrate(a, b, sin2, N=400000)\n",
    "\n",
    "import cProfile\n",
    "cProfile.run('main()', sort='time')    "
   ]
  },
  {
   "cell_type": "code",
   "execution_count": 372,
   "id": "4fea92cc",
   "metadata": {},
   "outputs": [
    {
     "name": "stdout",
     "output_type": "stream",
     "text": [
      "151 ms ± 2.62 ms per loop (mean ± std. dev. of 7 runs, 10 loops each)\n"
     ]
    }
   ],
   "source": [
    "%timeit main()"
   ]
  },
  {
   "cell_type": "code",
   "execution_count": 373,
   "id": "9286e656",
   "metadata": {},
   "outputs": [
    {
     "name": "stdout",
     "output_type": "stream",
     "text": [
      "160 ms ± 5.81 ms per loop (mean ± std. dev. of 7 runs, 10 loops each)\n"
     ]
    }
   ],
   "source": [
    "%%timeit \n",
    "main()"
   ]
  },
  {
   "cell_type": "code",
   "execution_count": null,
   "id": "058b32cb",
   "metadata": {},
   "outputs": [],
   "source": []
  },
  {
   "cell_type": "code",
   "execution_count": 374,
   "id": "55486de1",
   "metadata": {},
   "outputs": [],
   "source": [
    "%%cython\n",
    "import cython\n",
    "\n",
    "import pyximport; pyximport.install()\n",
    "from math import pi\n",
    "# cython: profile=True\n",
    "\n",
    "# math.h `sin`, at compile time:\n",
    "from libc.math cimport sin\n",
    "\n",
    "# Pure-Python `sin`, at runtime:\n",
    "# from math import sin\n",
    "\n",
    "def sin2(x):\n",
    "    return sin(x)**2\n",
    "\n",
    "def integrate(double a, double b, f, int N=2000):\n",
    "    cdef:\n",
    "        int i\n",
    "        double dx = (b-a)/N\n",
    "        double s = 0.0\n",
    "    for i in range(N):\n",
    "        s += f(a+i*dx)\n",
    "    return s * dx\n",
    "\n",
    "def Cain():\n",
    "    a, b = 0.0, 2.0 * pi\n",
    "    return integrate(a, b, sin2, N=400000)"
   ]
  },
  {
   "cell_type": "code",
   "execution_count": 375,
   "id": "5b40ac79",
   "metadata": {},
   "outputs": [
    {
     "name": "stdout",
     "output_type": "stream",
     "text": [
      "33.6 ms ± 697 µs per loop (mean ± std. dev. of 7 runs, 10 loops each)\n"
     ]
    }
   ],
   "source": [
    "%timeit Cain()"
   ]
  },
  {
   "cell_type": "code",
   "execution_count": 376,
   "id": "15781418",
   "metadata": {},
   "outputs": [
    {
     "name": "stdout",
     "output_type": "stream",
     "text": [
      "34 ms ± 842 µs per loop (mean ± std. dev. of 7 runs, 10 loops each)\n"
     ]
    }
   ],
   "source": [
    "%%timeit \n",
    "Cain()"
   ]
  },
  {
   "cell_type": "code",
   "execution_count": 159,
   "id": "28367605",
   "metadata": {},
   "outputs": [
    {
     "name": "stdout",
     "output_type": "stream",
     "text": [
      "         4 function calls in 0.033 seconds\n",
      "\n",
      "   Ordered by: internal time\n",
      "\n",
      "   ncalls  tottime  percall  cumtime  percall filename:lineno(function)\n",
      "        1    0.033    0.033    0.033    0.033 {_cython_magic_185777e93dee5c8e087c13666665bec6.Cain}\n",
      "        1    0.000    0.000    0.033    0.033 <string>:1(<module>)\n",
      "        1    0.000    0.000    0.033    0.033 {built-in method builtins.exec}\n",
      "        1    0.000    0.000    0.000    0.000 {method 'disable' of '_lsprof.Profiler' objects}\n",
      "\n",
      "\n"
     ]
    }
   ],
   "source": [
    "if __name__ == '__main__':\n",
    "    import cProfile\n",
    "    cProfile.run('Cain()', sort='time')"
   ]
  },
  {
   "cell_type": "code",
   "execution_count": null,
   "id": "28c00b9e-87c6-414a-9e76-30f7c8aadeb7",
   "metadata": {},
   "outputs": [],
   "source": []
  },
  {
   "cell_type": "code",
   "execution_count": 377,
   "id": "26ae37d5",
   "metadata": {},
   "outputs": [
    {
     "name": "stdout",
     "output_type": "stream",
     "text": [
      "         4 function calls in 0.000 seconds\n",
      "\n",
      "   Ordered by: internal time\n",
      "\n",
      "   ncalls  tottime  percall  cumtime  percall filename:lineno(function)\n",
      "        1    0.000    0.000    0.000    0.000 {built-in method builtins.exec}\n",
      "        1    0.000    0.000    0.000    0.000 2358434335.py:1(countertop)\n",
      "        1    0.000    0.000    0.000    0.000 <string>:1(<module>)\n",
      "        1    0.000    0.000    0.000    0.000 {method 'disable' of '_lsprof.Profiler' objects}\n",
      "\n",
      "\n"
     ]
    }
   ],
   "source": [
    "def countertop(x):\n",
    "    square = x ** 2 # area of the full squar    \n",
    "    triangle = ((x / 2 ) ** 2) / 2  # area of the misssing wedge \n",
    "    \n",
    "    return square - triangle\n",
    "\n",
    "cProfile.run('countertop(55)', sort='time')\n"
   ]
  },
  {
   "cell_type": "code",
   "execution_count": 378,
   "id": "1d982c69-4865-4dc9-aa01-9f537ef2166f",
   "metadata": {},
   "outputs": [
    {
     "name": "stdout",
     "output_type": "stream",
     "text": [
      "534 ns ± 5.58 ns per loop (mean ± std. dev. of 7 runs, 1,000,000 loops each)\n"
     ]
    }
   ],
   "source": [
    "%timeit countertop(20)"
   ]
  },
  {
   "cell_type": "code",
   "execution_count": 379,
   "id": "0f06006c",
   "metadata": {},
   "outputs": [
    {
     "name": "stdout",
     "output_type": "stream",
     "text": [
      "561 ns ± 32.9 ns per loop (mean ± std. dev. of 7 runs, 1,000,000 loops each)\n"
     ]
    }
   ],
   "source": [
    "%%timeit \n",
    "countertop(20)"
   ]
  },
  {
   "cell_type": "code",
   "execution_count": null,
   "id": "02ef7dd1",
   "metadata": {},
   "outputs": [],
   "source": []
  },
  {
   "cell_type": "code",
   "execution_count": 380,
   "id": "b692586d",
   "metadata": {},
   "outputs": [],
   "source": [
    "%%cython\n",
    "import cython\n",
    "import cProfile\n",
    "\n",
    "import pyximport; pyximport.install()\n",
    "from math import pi\n",
    "# cython: profile=True\n",
    "\n",
    "# math.h `sin`, at compile time:\n",
    "from libc.math cimport sin\n",
    "\n",
    "# Pure-Python `sin`, at runtime:\n",
    "# from math import sin\n",
    "def Ccountertop(int x):\n",
    "    \n",
    "    square = x ** 2 # area of the full square\n",
    "    \n",
    "    triangle = ((x / 2 ) ** 2) / 2  # area of the misssing wedge \n",
    "    \n",
    "    return square - triangle"
   ]
  },
  {
   "cell_type": "code",
   "execution_count": 381,
   "id": "fa75adbb",
   "metadata": {},
   "outputs": [
    {
     "name": "stdout",
     "output_type": "stream",
     "text": [
      "         4 function calls in 0.000 seconds\n",
      "\n",
      "   Ordered by: internal time\n",
      "\n",
      "   ncalls  tottime  percall  cumtime  percall filename:lineno(function)\n",
      "        1    0.000    0.000    0.000    0.000 <string>:1(<module>)\n",
      "        1    0.000    0.000    0.000    0.000 {built-in method builtins.exec}\n",
      "        1    0.000    0.000    0.000    0.000 {_cython_magic_324ee6806a47c637305d98044cde3bcd.Ccountertop}\n",
      "        1    0.000    0.000    0.000    0.000 {method 'disable' of '_lsprof.Profiler' objects}\n",
      "\n",
      "\n"
     ]
    }
   ],
   "source": [
    "if __name__ == '__main__':\n",
    "    import cProfile\n",
    "    cProfile.run('Ccountertop(20)', sort='time')"
   ]
  },
  {
   "cell_type": "code",
   "execution_count": 382,
   "id": "3d2427d8",
   "metadata": {},
   "outputs": [
    {
     "name": "stdout",
     "output_type": "stream",
     "text": [
      "121 ns ± 1.97 ns per loop (mean ± std. dev. of 7 runs, 10,000,000 loops each)\n"
     ]
    }
   ],
   "source": [
    "%timeit Ccountertop(20) "
   ]
  },
  {
   "cell_type": "code",
   "execution_count": 383,
   "id": "bae332a1",
   "metadata": {},
   "outputs": [
    {
     "name": "stdout",
     "output_type": "stream",
     "text": [
      "120 ns ± 1.09 ns per loop (mean ± std. dev. of 7 runs, 10,000,000 loops each)\n"
     ]
    }
   ],
   "source": [
    "%%timeit \n",
    "Ccountertop(20)"
   ]
  },
  {
   "cell_type": "code",
   "execution_count": null,
   "id": "ef83f5aa",
   "metadata": {
    "scrolled": true
   },
   "outputs": [],
   "source": []
  },
  {
   "cell_type": "code",
   "execution_count": 384,
   "id": "7ad903fc",
   "metadata": {},
   "outputs": [],
   "source": [
    "%%cython\n",
    "import cython\n",
    "import cProfile\n",
    "\n",
    "import pyximport; pyximport.install()\n",
    "from math import pi\n",
    "# cython: profile=True\n",
    "\n",
    "# math.h `sin`, at compile time:\n",
    "from libc.math cimport sin\n",
    "\n",
    "# Pure-Python `sin`, at runtime:\n",
    "# from math import sin\n",
    "\n",
    "\n",
    "def add():\n",
    "    Pargs = [i for i in range(50000)]\n",
    "    total = 0\n",
    "    for x in Pargs:\n",
    "        total += x\n",
    "    return total"
   ]
  },
  {
   "cell_type": "code",
   "execution_count": 385,
   "id": "2891bf34",
   "metadata": {},
   "outputs": [
    {
     "name": "stdout",
     "output_type": "stream",
     "text": [
      "         4 function calls in 0.006 seconds\n",
      "\n",
      "   Ordered by: internal time\n",
      "\n",
      "   ncalls  tottime  percall  cumtime  percall filename:lineno(function)\n",
      "        1    0.006    0.006    0.006    0.006 {_cython_magic_23420685f2386c74ba7e92deab3c11bb.add}\n",
      "        1    0.000    0.000    0.006    0.006 <string>:1(<module>)\n",
      "        1    0.000    0.000    0.006    0.006 {built-in method builtins.exec}\n",
      "        1    0.000    0.000    0.000    0.000 {method 'disable' of '_lsprof.Profiler' objects}\n",
      "\n",
      "\n"
     ]
    }
   ],
   "source": [
    "if __name__ == '__main__':\n",
    "    import cProfile\n",
    "    cProfile.run('add()', sort='time')"
   ]
  },
  {
   "cell_type": "code",
   "execution_count": 386,
   "id": "2a797674",
   "metadata": {},
   "outputs": [
    {
     "name": "stdout",
     "output_type": "stream",
     "text": [
      "1.91 ms ± 72.9 µs per loop (mean ± std. dev. of 7 runs, 1,000 loops each)\n"
     ]
    }
   ],
   "source": [
    "%timeit add() "
   ]
  },
  {
   "cell_type": "code",
   "execution_count": 387,
   "id": "2f4c1501",
   "metadata": {},
   "outputs": [
    {
     "name": "stdout",
     "output_type": "stream",
     "text": [
      "1.89 ms ± 46.9 µs per loop (mean ± std. dev. of 7 runs, 1,000 loops each)\n"
     ]
    }
   ],
   "source": [
    "%%timeit\n",
    "add() "
   ]
  },
  {
   "cell_type": "code",
   "execution_count": null,
   "id": "beaa9cdc",
   "metadata": {},
   "outputs": [],
   "source": []
  },
  {
   "cell_type": "code",
   "execution_count": 388,
   "id": "a2baaf00",
   "metadata": {},
   "outputs": [],
   "source": [
    "%%cython\n",
    "import cython\n",
    "import cProfile\n",
    "\n",
    "import pyximport; pyximport.install()\n",
    "from math import pi\n",
    "# cython: profile=True\n",
    "\n",
    "# math.h `sin`, at compile time:\n",
    "from libc.math cimport sin\n",
    "\n",
    "# Pure-Python `sin`, at runtime:\n",
    "# from math import sin\n",
    "\n",
    "def Cdd():\n",
    "    cdef Cargs = [i for i in range(50000)]\n",
    "    cdef int total = 0\n",
    "    for x in Cargs:\n",
    "        total += x\n",
    "    return total\n"
   ]
  },
  {
   "cell_type": "code",
   "execution_count": 389,
   "id": "6b192c4e",
   "metadata": {},
   "outputs": [
    {
     "name": "stdout",
     "output_type": "stream",
     "text": [
      "         4 function calls in 0.005 seconds\n",
      "\n",
      "   Ordered by: internal time\n",
      "\n",
      "   ncalls  tottime  percall  cumtime  percall filename:lineno(function)\n",
      "        1    0.005    0.005    0.005    0.005 {_cython_magic_d0c27e5da9a13ce6358a0d51136bbd06.Cdd}\n",
      "        1    0.000    0.000    0.005    0.005 {built-in method builtins.exec}\n",
      "        1    0.000    0.000    0.005    0.005 <string>:1(<module>)\n",
      "        1    0.000    0.000    0.000    0.000 {method 'disable' of '_lsprof.Profiler' objects}\n",
      "\n",
      "\n"
     ]
    }
   ],
   "source": [
    "if __name__ == '__main__':\n",
    "    import cProfile\n",
    "    cProfile.run('Cdd()', sort='time')"
   ]
  },
  {
   "cell_type": "code",
   "execution_count": 390,
   "id": "29c52f57",
   "metadata": {},
   "outputs": [
    {
     "name": "stdout",
     "output_type": "stream",
     "text": [
      "2.76 ms ± 129 µs per loop (mean ± std. dev. of 7 runs, 100 loops each)\n"
     ]
    }
   ],
   "source": [
    "%timeit Cdd()"
   ]
  },
  {
   "cell_type": "code",
   "execution_count": 391,
   "id": "a075c83a",
   "metadata": {},
   "outputs": [
    {
     "name": "stdout",
     "output_type": "stream",
     "text": [
      "2.83 ms ± 229 µs per loop (mean ± std. dev. of 7 runs, 100 loops each)\n"
     ]
    }
   ],
   "source": [
    "%%timeit \n",
    "Cdd()"
   ]
  },
  {
   "cell_type": "code",
   "execution_count": null,
   "id": "309ae9b6",
   "metadata": {},
   "outputs": [],
   "source": []
  },
  {
   "cell_type": "code",
   "execution_count": 392,
   "id": "133b9c00",
   "metadata": {},
   "outputs": [
    {
     "name": "stdout",
     "output_type": "stream",
     "text": [
      "422160800\n"
     ]
    }
   ],
   "source": [
    "def add3(x,y,z):\n",
    "    return x + y + z\n",
    "\n",
    "print(add3(415645646, 500, 6514654))"
   ]
  },
  {
   "cell_type": "code",
   "execution_count": 396,
   "id": "ef00d878",
   "metadata": {},
   "outputs": [
    {
     "name": "stdout",
     "output_type": "stream",
     "text": [
      "         4 function calls in 0.000 seconds\n",
      "\n",
      "   Ordered by: internal time\n",
      "\n",
      "   ncalls  tottime  percall  cumtime  percall filename:lineno(function)\n",
      "        1    0.000    0.000    0.000    0.000 {built-in method builtins.exec}\n",
      "        1    0.000    0.000    0.000    0.000 <string>:1(<module>)\n",
      "        1    0.000    0.000    0.000    0.000 2917471247.py:1(add3)\n",
      "        1    0.000    0.000    0.000    0.000 {method 'disable' of '_lsprof.Profiler' objects}\n",
      "\n",
      "\n"
     ]
    }
   ],
   "source": [
    "if __name__ == '__main__':\n",
    "    import cProfile\n",
    "    cProfile.run('add3(415645646, 500, 6514654)', sort='time')"
   ]
  },
  {
   "cell_type": "code",
   "execution_count": 397,
   "id": "9edda05f",
   "metadata": {},
   "outputs": [
    {
     "name": "stdout",
     "output_type": "stream",
     "text": [
      "148 ns ± 4.44 ns per loop (mean ± std. dev. of 7 runs, 10,000,000 loops each)\n"
     ]
    }
   ],
   "source": [
    "%timeit add3(415645646, 500, 6514654)"
   ]
  },
  {
   "cell_type": "code",
   "execution_count": 398,
   "id": "946f24e2",
   "metadata": {},
   "outputs": [
    {
     "name": "stdout",
     "output_type": "stream",
     "text": [
      "145 ns ± 3.27 ns per loop (mean ± std. dev. of 7 runs, 10,000,000 loops each)\n"
     ]
    }
   ],
   "source": [
    "%%timeit \n",
    "add3(415645646, 500, 6514654)"
   ]
  },
  {
   "cell_type": "code",
   "execution_count": 58,
   "id": "fa575b9c",
   "metadata": {},
   "outputs": [
    {
     "name": "stdout",
     "output_type": "stream",
     "text": [
      "422160800\n"
     ]
    }
   ],
   "source": []
  },
  {
   "cell_type": "code",
   "execution_count": 399,
   "id": "ba82e9ef",
   "metadata": {},
   "outputs": [],
   "source": [
    "%%cython\n",
    "import cython\n",
    "import cProfile\n",
    "\n",
    "import pyximport; pyximport.install()\n",
    "from math import pi\n",
    "# cython: profile=True\n",
    "# math.h `sin`, at compile time:\n",
    "from libc.math cimport sin\n",
    "\n",
    "# Pure-Python `sin`, at runtime:\n",
    "# from math import sin\n",
    "\n",
    "def add3CY(int x,int y, int z):\n",
    "    return x + y + z\n",
    "\n",
    "print(add3CY(415645646, 500, 6514654))"
   ]
  },
  {
   "cell_type": "code",
   "execution_count": 400,
   "id": "eef35b04",
   "metadata": {},
   "outputs": [
    {
     "name": "stdout",
     "output_type": "stream",
     "text": [
      "         4 function calls in 0.000 seconds\n",
      "\n",
      "   Ordered by: internal time\n",
      "\n",
      "   ncalls  tottime  percall  cumtime  percall filename:lineno(function)\n",
      "        1    0.000    0.000    0.000    0.000 {built-in method builtins.exec}\n",
      "        1    0.000    0.000    0.000    0.000 <string>:1(<module>)\n",
      "        1    0.000    0.000    0.000    0.000 {_cython_magic_e26a5195e6fb9bf14334062af2dd069b.add3CY}\n",
      "        1    0.000    0.000    0.000    0.000 {method 'disable' of '_lsprof.Profiler' objects}\n",
      "\n",
      "\n"
     ]
    }
   ],
   "source": [
    "if __name__ == '__main__':\n",
    "    import cProfile\n",
    "    cProfile.run('add3CY(100, 500, 6514654)', sort='time')"
   ]
  },
  {
   "cell_type": "code",
   "execution_count": 401,
   "id": "10eea182",
   "metadata": {},
   "outputs": [
    {
     "name": "stdout",
     "output_type": "stream",
     "text": [
      "100 ns ± 2.56 ns per loop (mean ± std. dev. of 7 runs, 10,000,000 loops each)\n"
     ]
    }
   ],
   "source": [
    "%timeit add3CY(415645646, 500, 6514654)"
   ]
  },
  {
   "cell_type": "code",
   "execution_count": 402,
   "id": "b316a0fe",
   "metadata": {},
   "outputs": [
    {
     "name": "stdout",
     "output_type": "stream",
     "text": [
      "103 ns ± 2.64 ns per loop (mean ± std. dev. of 7 runs, 10,000,000 loops each)\n"
     ]
    }
   ],
   "source": [
    "%%timeit\n",
    "add3CY(415645646, 500, 6514654)\n"
   ]
  },
  {
   "cell_type": "code",
   "execution_count": null,
   "id": "8a61c1cf",
   "metadata": {},
   "outputs": [],
   "source": []
  },
  {
   "cell_type": "code",
   "execution_count": 405,
   "id": "0e4b2946",
   "metadata": {},
   "outputs": [
    {
     "name": "stdout",
     "output_type": "stream",
     "text": [
      "1773002.7662222502\n",
      "382.77216451009605\n",
      "155.13869555449224\n",
      "241.69677156\n",
      "84.00559130699642\n",
      "None\n",
      "1322.3821477472127\n"
     ]
    }
   ],
   "source": [
    "%%cython\n",
    "import cython\n",
    "import cProfile\n",
    "\n",
    "import pyximport; pyximport.install()\n",
    "from math import pi\n",
    "# cython: profile=True\n",
    "# math.h `sin`, at compile time:\n",
    "from libc.math cimport sin\n",
    "\n",
    "# Pure-Python `sin`, at runtime:\n",
    "# from math import sin\n",
    "import time\n",
    "import sys\n",
    "\n",
    "cimport cython\n",
    "cimport numpy as cnp\n",
    "\n",
    "from libc.math cimport pow, sqrt\n",
    "\n",
    "\n",
    "mileages = [1331.5415, 19.564564, 12.4554685, 15.5466, 9.16545641564]\n",
    "\n",
    "def partial_total(mileages):\n",
    "    for i in mileages:\n",
    "        print(i ** 2)\n",
    "        \n",
    "print(partial_total(mileages))\n",
    "\n",
    "\n",
    "\n",
    "def subtract(mileages):\n",
    "    return (mileages[0] - mileages[-1], mileages[-2] - mileages[-4])\n",
    "\n",
    "def length(mileages):\n",
    "    return sqrt(mileages[0]**2 + mileages[1]**2)\n",
    "\n",
    "\n",
    "def add(mileages):\n",
    "    return (mileages[0] + mileages[0], mileages[1] + mileages[1])\n",
    "\n",
    "\n",
    "def distance(mileages):\n",
    "    return length(subtract(mileages))\n",
    "\n",
    "\n",
    "print(distance(mileages))\n",
    "   "
   ]
  },
  {
   "cell_type": "code",
   "execution_count": 406,
   "id": "47eb7e56",
   "metadata": {},
   "outputs": [
    {
     "name": "stdout",
     "output_type": "stream",
     "text": [
      "         4 function calls in 0.000 seconds\n",
      "\n",
      "   Ordered by: internal time\n",
      "\n",
      "   ncalls  tottime  percall  cumtime  percall filename:lineno(function)\n",
      "        1    0.000    0.000    0.000    0.000 {built-in method builtins.exec}\n",
      "        1    0.000    0.000    0.000    0.000 {_cython_magic_d05af0700996f4d46891447ac84170b8.distance}\n",
      "        1    0.000    0.000    0.000    0.000 <string>:1(<module>)\n",
      "        1    0.000    0.000    0.000    0.000 {method 'disable' of '_lsprof.Profiler' objects}\n",
      "\n",
      "\n"
     ]
    }
   ],
   "source": [
    "if __name__ == '__main__':\n",
    "    import cProfile\n",
    "    cProfile.run('distance(mileages)', sort='time')"
   ]
  },
  {
   "cell_type": "code",
   "execution_count": 407,
   "id": "d6f68253",
   "metadata": {},
   "outputs": [
    {
     "name": "stdout",
     "output_type": "stream",
     "text": [
      "420 ns ± 17.1 ns per loop (mean ± std. dev. of 7 runs, 1,000,000 loops each)\n"
     ]
    }
   ],
   "source": [
    "%timeit distance(mileages)"
   ]
  },
  {
   "cell_type": "code",
   "execution_count": 408,
   "id": "ce0dc8a2",
   "metadata": {},
   "outputs": [
    {
     "name": "stdout",
     "output_type": "stream",
     "text": [
      "406 ns ± 20 ns per loop (mean ± std. dev. of 7 runs, 1,000,000 loops each)\n"
     ]
    }
   ],
   "source": [
    "%%timeit \n",
    "distance(mileages)"
   ]
  },
  {
   "cell_type": "code",
   "execution_count": null,
   "id": "02d49db7",
   "metadata": {},
   "outputs": [],
   "source": []
  },
  {
   "cell_type": "code",
   "execution_count": null,
   "id": "6a24424b",
   "metadata": {},
   "outputs": [],
   "source": []
  },
  {
   "cell_type": "code",
   "execution_count": 197,
   "id": "32df45bd",
   "metadata": {},
   "outputs": [],
   "source": [
    "%%cython\n",
    "import cython\n",
    "import cProfile\n",
    "\n",
    "import pyximport; pyximport.install()\n",
    "from math import pi\n",
    "# cython: profile=True\n",
    "# math.h `sin`, at compile time:\n",
    "from libc.math cimport sin\n",
    "\n",
    "# Pure-Python `sin`, at runtime:\n",
    "# from math import sin\n",
    "import time\n",
    "import sys\n",
    "\n",
    "cimport cython\n",
    "cimport numpy as cnp\n",
    "\n",
    "from libc.math cimport pow, sqrt\n",
    "\n",
    "\n",
    "cdef list mileages = [1331.5415, 19.564564, 12.4554685, 15.5466, 9.16545641564]\n",
    "\n",
    "def partial_total(mileages):\n",
    "    cdef float i  \n",
    "    for i in mileages:\n",
    "        print(i ** 2)\n",
    "        \n",
    "print(partial_total(mileages))\n",
    "\n",
    "\n",
    "\n",
    "def subtract(mileages):\n",
    "    return (mileages[0] - mileages[-1], mileages[-2] - mileages[-4])\n",
    "\n",
    "def length(mileages):\n",
    "    return sqrt(mileages[0]**2 + mileages[1]**2)\n",
    "\n",
    "\n",
    "def add(mileages):\n",
    "    return (mileages[0] + mileages[0], mileages[1] + mileages[1])\n",
    "\n",
    "\n",
    "def distanceC(mileages):\n",
    "    return length(subtract(mileages))\n",
    "\n",
    "\n",
    "print(distanceC(mileages))\n",
    "   "
   ]
  },
  {
   "cell_type": "code",
   "execution_count": 198,
   "id": "ba053f7e",
   "metadata": {},
   "outputs": [
    {
     "name": "stdout",
     "output_type": "stream",
     "text": [
      "         4 function calls in 0.000 seconds\n",
      "\n",
      "   Ordered by: internal time\n",
      "\n",
      "   ncalls  tottime  percall  cumtime  percall filename:lineno(function)\n",
      "        1    0.000    0.000    0.000    0.000 {built-in method builtins.exec}\n",
      "        1    0.000    0.000    0.000    0.000 {_cython_magic_f494832cdeb6407eb445d3b4d69c2699.distanceC}\n",
      "        1    0.000    0.000    0.000    0.000 <string>:1(<module>)\n",
      "        1    0.000    0.000    0.000    0.000 {method 'disable' of '_lsprof.Profiler' objects}\n",
      "\n",
      "\n"
     ]
    }
   ],
   "source": [
    "if __name__ == '__main__':\n",
    "    import cProfile\n",
    "    cProfile.run('distanceC(mileages)', sort='time')"
   ]
  },
  {
   "cell_type": "code",
   "execution_count": 199,
   "id": "f7d14f57",
   "metadata": {},
   "outputs": [
    {
     "name": "stdout",
     "output_type": "stream",
     "text": [
      "382 ns ± 4.07 ns per loop (mean ± std. dev. of 7 runs, 1,000,000 loops each)\n"
     ]
    }
   ],
   "source": [
    "%timeit distanceC(mileages)\n"
   ]
  },
  {
   "cell_type": "code",
   "execution_count": 200,
   "id": "a75b4a2e",
   "metadata": {},
   "outputs": [
    {
     "name": "stdout",
     "output_type": "stream",
     "text": [
      "386 ns ± 9.08 ns per loop (mean ± std. dev. of 7 runs, 1,000,000 loops each)\n"
     ]
    }
   ],
   "source": [
    "%%timeit \n",
    "distanceC(mileages)"
   ]
  },
  {
   "cell_type": "code",
   "execution_count": null,
   "id": "e791161b",
   "metadata": {},
   "outputs": [],
   "source": []
  },
  {
   "cell_type": "code",
   "execution_count": 409,
   "id": "b433e016",
   "metadata": {},
   "outputs": [
    {
     "name": "stdout",
     "output_type": "stream",
     "text": [
      "[None, None, 2, 3, 4, 5, 6, 7, 8, 9, 10, 11]\n"
     ]
    }
   ],
   "source": [
    "def retSeive(n):\n",
    "    worksheet = [None, None] + list(range(2,n))\n",
    "    return worksheet\n",
    "\n",
    "print(retSeive(12))"
   ]
  },
  {
   "cell_type": "code",
   "execution_count": 411,
   "id": "261c6127",
   "metadata": {},
   "outputs": [
    {
     "name": "stdout",
     "output_type": "stream",
     "text": [
      "[None, None, 2, 3, 4, 5, 6, 7, 8, 9, 10, 11]\n"
     ]
    }
   ],
   "source": [
    "%%cython\n",
    "\n",
    "cdef CretSeive(int n):\n",
    "    cdef list worksheet = [None, None] + list(range(2,n))\n",
    "    return worksheet\n",
    "\n",
    "\n",
    "print(CretSeive(12))"
   ]
  },
  {
   "cell_type": "code",
   "execution_count": null,
   "id": "e9ffc91d",
   "metadata": {},
   "outputs": [],
   "source": []
  },
  {
   "cell_type": "code",
   "execution_count": null,
   "id": "84f75f56",
   "metadata": {},
   "outputs": [],
   "source": [
    "def celsisus(f):\n",
    "    \"Convert temperature f from Fahrenheit to Celsius\"\n",
    "    temp = (f - 32) + 5 / 9 \n",
    "    return temp"
   ]
  },
  {
   "cell_type": "code",
   "execution_count": null,
   "id": "8c200fdd",
   "metadata": {},
   "outputs": [],
   "source": [
    "%%cython\n",
    "\n",
    "cdef Celsisus(float f):\n",
    "    \"Convert temperature f from Fahrenheit to Celsius\"\n",
    "    return (f - 32) + 5 / 9 \n",
    "\n"
   ]
  },
  {
   "cell_type": "code",
   "execution_count": null,
   "id": "5bd75efd",
   "metadata": {},
   "outputs": [],
   "source": [
    "def marginal_tax_rate(income):\n",
    "    if income < 10000:\n",
    "        return 0.0\n",
    "    elif income < 200000:\n",
    "        return 3.5\n",
    "    else:\n",
    "        return 5.0\n",
    "    \n",
    "  "
   ]
  },
  {
   "cell_type": "code",
   "execution_count": null,
   "id": "ae494fbf",
   "metadata": {},
   "outputs": [],
   "source": [
    "%%cython\n",
    "cdef marginal_tax_rate(float income):\n",
    "    if income < 10000:\n",
    "        return 0.0\n",
    "    elif income < 200000:\n",
    "        return 3.5\n",
    "    else:\n",
    "        return 5.0\n",
    "    "
   ]
  },
  {
   "cell_type": "code",
   "execution_count": null,
   "id": "ac677b9b",
   "metadata": {},
   "outputs": [],
   "source": []
  },
  {
   "cell_type": "code",
   "execution_count": 413,
   "id": "186fe453",
   "metadata": {},
   "outputs": [],
   "source": [
    "# Compute the total of the first n items in list a.\n",
    "\n",
    "a = [36.92643406152292,\n",
    " 52.22186385988152,\n",
    " 63.95845993689967,\n",
    " 73.85286812304584,\n",
    " 82.5700167282289,\n",
    " 90.45092147125976,\n",
    " 97.69816133121442,\n",
    " 104.44372771976305]\n",
    "\n",
    "tryIT = []\n",
    "\n",
    "def partial_total(n,a):\n",
    "    \n",
    "    \n",
    "    sum = 0 \n",
    "    for i in range(0,n):\n",
    "        sum += a[i]\n",
    "\n",
    "    for i in range(1,25):\n",
    "        tryIT.append(sqrt(i*sum))\n",
    "\n",
    "    return tryIT\n",
    "    \n",
    "\n",
    "\n",
    "    \n",
    "#partial_total(7,a)"
   ]
  },
  {
   "cell_type": "code",
   "execution_count": 414,
   "id": "d94719f7",
   "metadata": {},
   "outputs": [
    {
     "name": "stdout",
     "output_type": "stream",
     "text": [
      "5.7 µs ± 600 ns per loop (mean ± std. dev. of 7 runs, 100,000 loops each)\n"
     ]
    }
   ],
   "source": [
    "%timeit partial_total(7,a)"
   ]
  },
  {
   "cell_type": "code",
   "execution_count": 415,
   "id": "d2ddda09",
   "metadata": {},
   "outputs": [
    {
     "name": "stdout",
     "output_type": "stream",
     "text": [
      "5.37 µs ± 264 ns per loop (mean ± std. dev. of 7 runs, 100,000 loops each)\n"
     ]
    }
   ],
   "source": [
    "%%timeit\n",
    "\n",
    "partial_total(7,a)"
   ]
  },
  {
   "cell_type": "code",
   "execution_count": 416,
   "id": "e0f8f68e",
   "metadata": {},
   "outputs": [
    {
     "name": "stdout",
     "output_type": "stream",
     "text": [
      "         52 function calls in 0.000 seconds\n",
      "\n",
      "   Ordered by: internal time\n",
      "\n",
      "   ncalls  tottime  percall  cumtime  percall filename:lineno(function)\n",
      "        1    0.000    0.000    0.000    0.000 {built-in method builtins.exec}\n",
      "        1    0.000    0.000    0.000    0.000 3432950132.py:14(partial_total)\n",
      "       24    0.000    0.000    0.000    0.000 {built-in method math.sqrt}\n",
      "       24    0.000    0.000    0.000    0.000 {method 'append' of 'list' objects}\n",
      "        1    0.000    0.000    0.000    0.000 <string>:1(<module>)\n",
      "        1    0.000    0.000    0.000    0.000 {method 'disable' of '_lsprof.Profiler' objects}\n",
      "\n",
      "\n"
     ]
    }
   ],
   "source": [
    "if __name__ == '__main__':\n",
    "    import cProfile\n",
    "    cProfile.run('partial_total(7,a)', sort='time')"
   ]
  },
  {
   "cell_type": "code",
   "execution_count": null,
   "id": "d4f928d2",
   "metadata": {},
   "outputs": [],
   "source": []
  },
  {
   "cell_type": "code",
   "execution_count": 417,
   "id": "e82469a0",
   "metadata": {},
   "outputs": [],
   "source": [
    "%%cython\n",
    "import cython\n",
    "import cProfile\n",
    "\n",
    "import pyximport; pyximport.install()\n",
    "from math import pi\n",
    "# cython: profile=True\n",
    "# math.h `sin`, at compile time:\n",
    "from libc.math cimport sin\n",
    "\n",
    "# Pure-Python `sin`, at runtime:\n",
    "# from math import sin\n",
    "import time\n",
    "import sys\n",
    "\n",
    "cimport cython\n",
    "cimport numpy as cnp\n",
    "\n",
    "from libc.math cimport pow, sqrt\n",
    "\n",
    "cdef list a = [36.92643406152292,\n",
    " 52.22186385988152,\n",
    " 63.95845993689967,\n",
    " 73.85286812304584,\n",
    " 82.5700167282289,\n",
    " 90.45092147125976,\n",
    " 97.69816133121442,\n",
    " 104.44372771976305]\n",
    "\n",
    "cdef list tryIT = []\n",
    "\n",
    "def Crtial_total(int n, a):\n",
    "    cdef int sum = 0 \n",
    "    for i in range(0,n):\n",
    "        sum += a[i]\n",
    " \n",
    "\n",
    "    for i in range(1,25):\n",
    "        tryIT.append(sqrt(i*sum))\n",
    "        \n",
    "    return tryIT\n",
    "\n",
    "\n",
    "\n",
    "\n",
    "print(Crtial_total(7,a))"
   ]
  },
  {
   "cell_type": "code",
   "execution_count": 418,
   "id": "4417b73d",
   "metadata": {},
   "outputs": [
    {
     "name": "stdout",
     "output_type": "stream",
     "text": [
      "3.03 µs ± 1.15 µs per loop (mean ± std. dev. of 7 runs, 100,000 loops each)\n"
     ]
    }
   ],
   "source": [
    "%timeit Crtial_total(7,a)"
   ]
  },
  {
   "cell_type": "code",
   "execution_count": 419,
   "id": "f41d8fed",
   "metadata": {},
   "outputs": [
    {
     "name": "stdout",
     "output_type": "stream",
     "text": [
      "2.88 µs ± 894 ns per loop (mean ± std. dev. of 7 runs, 100,000 loops each)\n"
     ]
    }
   ],
   "source": [
    "%%timeit \n",
    "Crtial_total(7,a)"
   ]
  },
  {
   "cell_type": "code",
   "execution_count": 420,
   "id": "fbb67ce9",
   "metadata": {},
   "outputs": [
    {
     "name": "stdout",
     "output_type": "stream",
     "text": [
      "         4 function calls in 0.000 seconds\n",
      "\n",
      "   Ordered by: internal time\n",
      "\n",
      "   ncalls  tottime  percall  cumtime  percall filename:lineno(function)\n",
      "        1    0.000    0.000    0.000    0.000 {built-in method builtins.exec}\n",
      "        1    0.000    0.000    0.000    0.000 {_cython_magic_e6ae4f1fccd3e4e539f1368799a64dc0.Crtial_total}\n",
      "        1    0.000    0.000    0.000    0.000 <string>:1(<module>)\n",
      "        1    0.000    0.000    0.000    0.000 {method 'disable' of '_lsprof.Profiler' objects}\n",
      "\n",
      "\n"
     ]
    }
   ],
   "source": [
    "if __name__ == '__main__':\n",
    "    import cProfile\n",
    "    cProfile.run('Crtial_total(7,a)', sort='time')"
   ]
  },
  {
   "cell_type": "code",
   "execution_count": null,
   "id": "4eca012a",
   "metadata": {},
   "outputs": [],
   "source": []
  },
  {
   "cell_type": "code",
   "execution_count": null,
   "id": "88e9ad6f",
   "metadata": {},
   "outputs": [],
   "source": [
    "''' \n",
    "A Helper Function:\n",
    "Programmers write these sorts of specialized functions as a way of focusing on a sigle aspect of a complex\n",
    "problem, allowing them to design and test the code for each piece separately.\n",
    "'''"
   ]
  },
  {
   "cell_type": "code",
   "execution_count": null,
   "id": "db5b17e0",
   "metadata": {},
   "outputs": [],
   "source": [
    "from math import sqrt, ceil \n",
    "\n",
    "def sieve(n):\n",
    "    \"Return a list of all prime numbers less than n\"\n",
    "    \n",
    "    worksheet = [None, None] + list(range(2,n))\n",
    "    \n",
    "    for k in range(2, ceil(sqrt(n))):\n",
    "        if worksheet[k] is not None:\n",
    "            sift(k, worksheet)\n",
    "            \n",
    "    return non_nulls(worksheet)\n",
    "\n",
    "def sift(k, a):\n",
    "    \"Remove multiples of k from list a\"\n",
    "    for i in range(2*k, len(a), k):\n",
    "        a[i] = None\n",
    "        \n",
    "        \n",
    "def non_nulls(a):\n",
    "    'Return a copy of list a with None objects removed'\n",
    "    res = []\n",
    "    for x in a:\n",
    "        if x is not None:\n",
    "            res.append(x)\n",
    "    return res"
   ]
  },
  {
   "cell_type": "code",
   "execution_count": null,
   "id": "690968e4",
   "metadata": {},
   "outputs": [],
   "source": [
    "%%cython\n",
    "import time\n",
    "import sys\n",
    "\n",
    "cimport cython\n",
    "cimport numpy as cnp\n",
    "\n",
    "from libc.math cimport pow, sqrt,ceil\n",
    "cdef  a = [8, 1, 9, 2, 7, 5, 3]\n",
    "\n",
    "cdef sieve(n):\n",
    "    \n",
    "    cdef worksheet = list(range(2,n))\n",
    "    \n",
    "    for k in range(100, ceil(sqrt(n))):\n",
    "        if worksheet[k] is not None:\n",
    "            Cift(k, worksheet)\n",
    "            \n",
    "    return non_nulls(worksheet)\n",
    "\n",
    "cdef Cift(k, a):\n",
    "    for i in range(2*k, len(a), k):\n",
    "        a[i] = i\n",
    "        \n",
    "            \n",
    "cdef non_nulls(a):\n",
    "    cdef res = []\n",
    "    for x in a:\n",
    "        if x is not None:\n",
    "            res.append(x)\n",
    "    return res\n",
    "\n",
    "cdef crime_before(a):\n",
    "    return Cift(100, a)\n",
    "\n",
    "print(crime_before(a))"
   ]
  },
  {
   "cell_type": "code",
   "execution_count": null,
   "id": "42cd3bd0",
   "metadata": {},
   "outputs": [],
   "source": []
  },
  {
   "cell_type": "code",
   "execution_count": null,
   "id": "24c4cc15",
   "metadata": {},
   "outputs": [],
   "source": []
  },
  {
   "cell_type": "code",
   "execution_count": 106,
   "id": "077401c9",
   "metadata": {},
   "outputs": [
    {
     "name": "stdout",
     "output_type": "stream",
     "text": [
      "None\n"
     ]
    }
   ],
   "source": []
  },
  {
   "cell_type": "code",
   "execution_count": 421,
   "id": "62af2fc2",
   "metadata": {},
   "outputs": [],
   "source": [
    "# The Linear Search Algorithm\n",
    "\n",
    "a = [8, 1, 9, 2, 7, 5, 3, 8, 6, 7, 2, 4, 6, 2, 1, 8, 9, 1, 5, 7,2]\n",
    "\n",
    "def linsearch(a, x):\n",
    "    \"Use a for loop to search for x\"\n",
    "    for i in range(0, len(a)):\n",
    "        if a[i] == x:\n",
    "            return i \n",
    "    return None\n",
    "\n",
    "\n",
    "def linearSearch(a, x):\n",
    "    \"Use a while loop to search for x\"\n",
    "    i = 0 \n",
    "    while i < len(a):\n",
    "        if a[i] == x:\n",
    "            return i\n",
    "        i += 1 \n",
    "    return None"
   ]
  },
  {
   "cell_type": "code",
   "execution_count": 422,
   "id": "dfc4bc5e",
   "metadata": {},
   "outputs": [
    {
     "name": "stdout",
     "output_type": "stream",
     "text": [
      "         5 function calls in 0.000 seconds\n",
      "\n",
      "   Ordered by: internal time\n",
      "\n",
      "   ncalls  tottime  percall  cumtime  percall filename:lineno(function)\n",
      "        1    0.000    0.000    0.000    0.000 {built-in method builtins.exec}\n",
      "        1    0.000    0.000    0.000    0.000 880922933.py:5(linsearch)\n",
      "        1    0.000    0.000    0.000    0.000 <string>:1(<module>)\n",
      "        1    0.000    0.000    0.000    0.000 {built-in method builtins.len}\n",
      "        1    0.000    0.000    0.000    0.000 {method 'disable' of '_lsprof.Profiler' objects}\n",
      "\n",
      "\n"
     ]
    }
   ],
   "source": [
    "if __name__ == '__main__':\n",
    "    import cProfile\n",
    "    cProfile.run('linsearch(a, 9)', sort='time')\n",
    "    "
   ]
  },
  {
   "cell_type": "code",
   "execution_count": 423,
   "id": "49253408",
   "metadata": {},
   "outputs": [
    {
     "name": "stdout",
     "output_type": "stream",
     "text": [
      "485 ns ± 4.96 ns per loop (mean ± std. dev. of 7 runs, 1,000,000 loops each)\n"
     ]
    }
   ],
   "source": [
    "%timeit linsearch(a, 9)"
   ]
  },
  {
   "cell_type": "code",
   "execution_count": 424,
   "id": "eea52987",
   "metadata": {},
   "outputs": [
    {
     "name": "stdout",
     "output_type": "stream",
     "text": [
      "507 ns ± 24.1 ns per loop (mean ± std. dev. of 7 runs, 1,000,000 loops each)\n"
     ]
    }
   ],
   "source": [
    "%%timeit\n",
    "linsearch(a, 9)"
   ]
  },
  {
   "cell_type": "code",
   "execution_count": null,
   "id": "e4bf4231",
   "metadata": {},
   "outputs": [],
   "source": []
  },
  {
   "cell_type": "code",
   "execution_count": 425,
   "id": "9a4f188e",
   "metadata": {},
   "outputs": [
    {
     "name": "stdout",
     "output_type": "stream",
     "text": [
      "         7 function calls in 0.000 seconds\n",
      "\n",
      "   Ordered by: internal time\n",
      "\n",
      "   ncalls  tottime  percall  cumtime  percall filename:lineno(function)\n",
      "        1    0.000    0.000    0.000    0.000 {built-in method builtins.exec}\n",
      "        1    0.000    0.000    0.000    0.000 880922933.py:13(linearSearch)\n",
      "        1    0.000    0.000    0.000    0.000 <string>:1(<module>)\n",
      "        3    0.000    0.000    0.000    0.000 {built-in method builtins.len}\n",
      "        1    0.000    0.000    0.000    0.000 {method 'disable' of '_lsprof.Profiler' objects}\n",
      "\n",
      "\n"
     ]
    }
   ],
   "source": [
    "if __name__ == '__main__':\n",
    "    import cProfile\n",
    "    cProfile.run('linearSearch(a, 9)', sort='time')"
   ]
  },
  {
   "cell_type": "code",
   "execution_count": 426,
   "id": "93036207",
   "metadata": {},
   "outputs": [
    {
     "name": "stdout",
     "output_type": "stream",
     "text": [
      "473 ns ± 19.6 ns per loop (mean ± std. dev. of 7 runs, 1,000,000 loops each)\n"
     ]
    }
   ],
   "source": [
    "%timeit linearSearch(a, 9)"
   ]
  },
  {
   "cell_type": "code",
   "execution_count": 427,
   "id": "dfbaeade",
   "metadata": {},
   "outputs": [
    {
     "name": "stdout",
     "output_type": "stream",
     "text": [
      "450 ns ± 12.8 ns per loop (mean ± std. dev. of 7 runs, 1,000,000 loops each)\n"
     ]
    }
   ],
   "source": [
    "%%timeit\n",
    "linearSearch(a, 9)"
   ]
  },
  {
   "cell_type": "code",
   "execution_count": null,
   "id": "65580039",
   "metadata": {},
   "outputs": [],
   "source": []
  },
  {
   "cell_type": "code",
   "execution_count": 428,
   "id": "c2ab9e49",
   "metadata": {},
   "outputs": [],
   "source": [
    "%%cython\n",
    "import cython\n",
    "import cProfile\n",
    "\n",
    "import pyximport; pyximport.install()\n",
    "from math import pi\n",
    "# cython: profile=True\n",
    "# math.h `sin`, at compile time:\n",
    "from libc.math cimport sin\n",
    "\n",
    "# Pure-Python `sin`, at runtime:\n",
    "# from math import sin\n",
    "import time\n",
    "import sys\n",
    "\n",
    "cimport cython\n",
    "cimport numpy as cnp\n",
    "\n",
    "from libc.math cimport pow, sqrt\n",
    "\n",
    "\n",
    "cdef a = [8, 1, 9, 2, 7, 5, 3, 8, 6, 7, 2, 4, 6, 2, 1, 8, 9, 1, 5, 7,2]\n",
    "\n",
    "\n",
    "def Clinsearch(a, int x):\n",
    "    for i in range(0, len(a)):\n",
    "        if a[i] == x:\n",
    "            return i \n",
    "    return None\n",
    "\n",
    "\n",
    "\n",
    "def ClinearSearch(a, int x):\n",
    "    i = 0 \n",
    "    while i < len(a):\n",
    "        if a[i] == x:\n",
    "            return i\n",
    "        i += 1 \n",
    "    return None"
   ]
  },
  {
   "cell_type": "code",
   "execution_count": null,
   "id": "dd936403",
   "metadata": {},
   "outputs": [],
   "source": []
  },
  {
   "cell_type": "code",
   "execution_count": 429,
   "id": "4374aa82",
   "metadata": {},
   "outputs": [
    {
     "name": "stdout",
     "output_type": "stream",
     "text": [
      "         4 function calls in 0.000 seconds\n",
      "\n",
      "   Ordered by: internal time\n",
      "\n",
      "   ncalls  tottime  percall  cumtime  percall filename:lineno(function)\n",
      "        1    0.000    0.000    0.000    0.000 {built-in method builtins.exec}\n",
      "        1    0.000    0.000    0.000    0.000 <string>:1(<module>)\n",
      "        1    0.000    0.000    0.000    0.000 {_cython_magic_7841eeefb637632d426f5a284a537188.ClinearSearch}\n",
      "        1    0.000    0.000    0.000    0.000 {method 'disable' of '_lsprof.Profiler' objects}\n",
      "\n",
      "\n"
     ]
    }
   ],
   "source": [
    "if __name__ == '__main__':\n",
    "    import cProfile\n",
    "    cProfile.run('ClinearSearch(a, 9)', sort='time')\n",
    "    "
   ]
  },
  {
   "cell_type": "code",
   "execution_count": 430,
   "id": "dcc60764",
   "metadata": {},
   "outputs": [
    {
     "name": "stdout",
     "output_type": "stream",
     "text": [
      "213 ns ± 4.05 ns per loop (mean ± std. dev. of 7 runs, 1,000,000 loops each)\n"
     ]
    }
   ],
   "source": [
    "%timeit ClinearSearch(a, 9)"
   ]
  },
  {
   "cell_type": "code",
   "execution_count": 431,
   "id": "6224d7a2",
   "metadata": {},
   "outputs": [
    {
     "name": "stdout",
     "output_type": "stream",
     "text": [
      "212 ns ± 4.47 ns per loop (mean ± std. dev. of 7 runs, 1,000,000 loops each)\n"
     ]
    }
   ],
   "source": [
    "%%timeit \n",
    "ClinearSearch(a, 9)"
   ]
  },
  {
   "cell_type": "code",
   "execution_count": null,
   "id": "48291282",
   "metadata": {},
   "outputs": [],
   "source": []
  },
  {
   "cell_type": "code",
   "execution_count": 433,
   "id": "034f3491",
   "metadata": {},
   "outputs": [
    {
     "name": "stdout",
     "output_type": "stream",
     "text": [
      "         4 function calls in 0.000 seconds\n",
      "\n",
      "   Ordered by: internal time\n",
      "\n",
      "   ncalls  tottime  percall  cumtime  percall filename:lineno(function)\n",
      "        1    0.000    0.000    0.000    0.000 {built-in method builtins.exec}\n",
      "        1    0.000    0.000    0.000    0.000 <string>:1(<module>)\n",
      "        1    0.000    0.000    0.000    0.000 {_cython_magic_7841eeefb637632d426f5a284a537188.Clinsearch}\n",
      "        1    0.000    0.000    0.000    0.000 {method 'disable' of '_lsprof.Profiler' objects}\n",
      "\n",
      "\n"
     ]
    }
   ],
   "source": [
    "if __name__ == '__main__':\n",
    "    import cProfile\n",
    "    cProfile.run('Clinsearch(a, 9)', sort='time')"
   ]
  },
  {
   "cell_type": "code",
   "execution_count": 434,
   "id": "f902888f",
   "metadata": {},
   "outputs": [
    {
     "name": "stdout",
     "output_type": "stream",
     "text": [
      "217 ns ± 14.1 ns per loop (mean ± std. dev. of 7 runs, 1,000,000 loops each)\n"
     ]
    }
   ],
   "source": [
    "%%timeit \n",
    "ClinearSearch(a, 9)"
   ]
  },
  {
   "cell_type": "code",
   "execution_count": 435,
   "id": "b1b886e9",
   "metadata": {},
   "outputs": [
    {
     "name": "stdout",
     "output_type": "stream",
     "text": [
      "226 ns ± 14.7 ns per loop (mean ± std. dev. of 7 runs, 1,000,000 loops each)\n"
     ]
    }
   ],
   "source": [
    "%timeit ClinearSearch(a, 9)"
   ]
  },
  {
   "cell_type": "code",
   "execution_count": null,
   "id": "445a1d60",
   "metadata": {},
   "outputs": [],
   "source": []
  },
  {
   "cell_type": "code",
   "execution_count": null,
   "id": "300b5892",
   "metadata": {},
   "outputs": [],
   "source": []
  },
  {
   "cell_type": "code",
   "execution_count": 436,
   "id": "6a2fbc1b",
   "metadata": {},
   "outputs": [],
   "source": [
    "# Implementing Insertion Sort \n",
    "a = [8, 1, 9, 2, 7, 5, 3, 8, 6, 7, 2, 4, 6, 2, 1, 8, 9, 1, 5, 7,2]\n",
    "\n",
    "def isort(a):\n",
    "    'Sort list a using insertion sort'\n",
    "    for i in range(1, len(a)):\n",
    "        print(a[:i], a[i:])\n",
    "        move_left(a,i)\n",
    "        \n",
    "\n",
    "def move_left(a, j):\n",
    "    'isort helper function that moves a[j]'\n",
    "    x = a.pop(j)\n",
    "    while j > 0 and a [j - 1] > x:\n",
    "        j -= 1\n",
    "    a.insert(j, x)      \n",
    "    "
   ]
  },
  {
   "cell_type": "code",
   "execution_count": 437,
   "id": "d4e3c993",
   "metadata": {},
   "outputs": [
    {
     "name": "stdout",
     "output_type": "stream",
     "text": [
      "         6 function calls in 0.000 seconds\n",
      "\n",
      "   Ordered by: internal time\n",
      "\n",
      "   ncalls  tottime  percall  cumtime  percall filename:lineno(function)\n",
      "        1    0.000    0.000    0.000    0.000 {built-in method builtins.exec}\n",
      "        1    0.000    0.000    0.000    0.000 4041639334.py:11(move_left)\n",
      "        1    0.000    0.000    0.000    0.000 <string>:1(<module>)\n",
      "        1    0.000    0.000    0.000    0.000 {method 'pop' of 'list' objects}\n",
      "        1    0.000    0.000    0.000    0.000 {method 'disable' of '_lsprof.Profiler' objects}\n",
      "        1    0.000    0.000    0.000    0.000 {method 'insert' of 'list' objects}\n",
      "\n",
      "\n"
     ]
    }
   ],
   "source": [
    "if __name__ == '__main__':\n",
    "    import cProfile\n",
    "    cProfile.run('move_left(a, 3)', sort='time')\n",
    "    "
   ]
  },
  {
   "cell_type": "code",
   "execution_count": 438,
   "id": "fdd2d048",
   "metadata": {},
   "outputs": [
    {
     "name": "stdout",
     "output_type": "stream",
     "text": [
      "333 ns ± 10.8 ns per loop (mean ± std. dev. of 7 runs, 1,000,000 loops each)\n"
     ]
    }
   ],
   "source": [
    "%timeit move_left(a, 3)"
   ]
  },
  {
   "cell_type": "code",
   "execution_count": 439,
   "id": "91c512b3",
   "metadata": {},
   "outputs": [
    {
     "name": "stdout",
     "output_type": "stream",
     "text": [
      "328 ns ± 3.69 ns per loop (mean ± std. dev. of 7 runs, 1,000,000 loops each)\n"
     ]
    }
   ],
   "source": [
    "%%timeit\n",
    "move_left(a, 3)"
   ]
  },
  {
   "cell_type": "code",
   "execution_count": 440,
   "id": "d3b4533e",
   "metadata": {},
   "outputs": [
    {
     "name": "stdout",
     "output_type": "stream",
     "text": [
      "[8] [1, 2, 9, 7, 5, 3, 8, 6, 7, 2, 4, 6, 2, 1, 8, 9, 1, 5, 7, 2]\n",
      "[1, 8] [2, 9, 7, 5, 3, 8, 6, 7, 2, 4, 6, 2, 1, 8, 9, 1, 5, 7, 2]\n",
      "[1, 2, 8] [9, 7, 5, 3, 8, 6, 7, 2, 4, 6, 2, 1, 8, 9, 1, 5, 7, 2]\n",
      "[1, 2, 8, 9] [7, 5, 3, 8, 6, 7, 2, 4, 6, 2, 1, 8, 9, 1, 5, 7, 2]\n",
      "[1, 2, 7, 8, 9] [5, 3, 8, 6, 7, 2, 4, 6, 2, 1, 8, 9, 1, 5, 7, 2]\n",
      "[1, 2, 5, 7, 8, 9] [3, 8, 6, 7, 2, 4, 6, 2, 1, 8, 9, 1, 5, 7, 2]\n",
      "[1, 2, 3, 5, 7, 8, 9] [8, 6, 7, 2, 4, 6, 2, 1, 8, 9, 1, 5, 7, 2]\n",
      "[1, 2, 3, 5, 7, 8, 8, 9] [6, 7, 2, 4, 6, 2, 1, 8, 9, 1, 5, 7, 2]\n",
      "[1, 2, 3, 5, 6, 7, 8, 8, 9] [7, 2, 4, 6, 2, 1, 8, 9, 1, 5, 7, 2]\n",
      "[1, 2, 3, 5, 6, 7, 7, 8, 8, 9] [2, 4, 6, 2, 1, 8, 9, 1, 5, 7, 2]\n",
      "[1, 2, 2, 3, 5, 6, 7, 7, 8, 8, 9] [4, 6, 2, 1, 8, 9, 1, 5, 7, 2]\n",
      "[1, 2, 2, 3, 4, 5, 6, 7, 7, 8, 8, 9] [6, 2, 1, 8, 9, 1, 5, 7, 2]\n",
      "[1, 2, 2, 3, 4, 5, 6, 6, 7, 7, 8, 8, 9] [2, 1, 8, 9, 1, 5, 7, 2]\n",
      "[1, 2, 2, 2, 3, 4, 5, 6, 6, 7, 7, 8, 8, 9] [1, 8, 9, 1, 5, 7, 2]\n",
      "[1, 1, 2, 2, 2, 3, 4, 5, 6, 6, 7, 7, 8, 8, 9] [8, 9, 1, 5, 7, 2]\n",
      "[1, 1, 2, 2, 2, 3, 4, 5, 6, 6, 7, 7, 8, 8, 8, 9] [9, 1, 5, 7, 2]\n",
      "[1, 1, 2, 2, 2, 3, 4, 5, 6, 6, 7, 7, 8, 8, 8, 9, 9] [1, 5, 7, 2]\n",
      "[1, 1, 1, 2, 2, 2, 3, 4, 5, 6, 6, 7, 7, 8, 8, 8, 9, 9] [5, 7, 2]\n",
      "[1, 1, 1, 2, 2, 2, 3, 4, 5, 5, 6, 6, 7, 7, 8, 8, 8, 9, 9] [7, 2]\n",
      "[1, 1, 1, 2, 2, 2, 3, 4, 5, 5, 6, 6, 7, 7, 7, 8, 8, 8, 9, 9] [2]\n",
      "         1213 function calls in 0.001 seconds\n",
      "\n",
      "   Ordered by: internal time\n",
      "\n",
      "   ncalls  tottime  percall  cumtime  percall filename:lineno(function)\n",
      "       81    0.000    0.000    0.000    0.000 socket.py:480(send)\n",
      "       80    0.000    0.000    0.001    0.000 iostream.py:502(write)\n",
      "       81    0.000    0.000    0.001    0.000 iostream.py:208(schedule)\n",
      "       20    0.000    0.000    0.001    0.000 {built-in method builtins.print}\n",
      "       81    0.000    0.000    0.000    0.000 threading.py:1071(is_alive)\n",
      "       80    0.000    0.000    0.000    0.000 iostream.py:420(_is_master_process)\n",
      "       20    0.000    0.000    0.000    0.000 4041639334.py:11(move_left)\n",
      "       81    0.000    0.000    0.000    0.000 {method 'acquire' of '_thread.lock' objects}\n",
      "        1    0.000    0.000    0.001    0.001 4041639334.py:4(isort)\n",
      "       81    0.000    0.000    0.000    0.000 threading.py:1017(_wait_for_tstate_lock)\n",
      "       81    0.000    0.000    0.000    0.000 iostream.py:97(_event_pipe)\n",
      "        1    0.000    0.000    0.001    0.001 {built-in method builtins.exec}\n",
      "       80    0.000    0.000    0.000    0.000 iostream.py:439(_schedule_flush)\n",
      "       80    0.000    0.000    0.000    0.000 {built-in method nt.getpid}\n",
      "       81    0.000    0.000    0.000    0.000 {built-in method builtins.len}\n",
      "       80    0.000    0.000    0.000    0.000 {built-in method builtins.isinstance}\n",
      "       81    0.000    0.000    0.000    0.000 threading.py:513(is_set)\n",
      "       81    0.000    0.000    0.000    0.000 {method 'append' of 'collections.deque' objects}\n",
      "       20    0.000    0.000    0.000    0.000 {method 'pop' of 'list' objects}\n",
      "       20    0.000    0.000    0.000    0.000 {method 'insert' of 'list' objects}\n",
      "        1    0.000    0.000    0.001    0.001 <string>:1(<module>)\n",
      "        1    0.000    0.000    0.000    0.000 {method 'disable' of '_lsprof.Profiler' objects}\n",
      "\n",
      "\n"
     ]
    }
   ],
   "source": [
    "if __name__ == '__main__':\n",
    "    import cProfile\n",
    "    cProfile.run('isort(a)', sort='time')"
   ]
  },
  {
   "cell_type": "code",
   "execution_count": null,
   "id": "f4d4b60a",
   "metadata": {},
   "outputs": [],
   "source": []
  },
  {
   "cell_type": "code",
   "execution_count": null,
   "id": "b9f3e0b6",
   "metadata": {},
   "outputs": [],
   "source": [
    "%%cython\n",
    "import cython\n",
    "import cProfile\n",
    "\n",
    "import pyximport; pyximport.install()\n",
    "from math import pi\n",
    "# cython: profile=True\n",
    "# math.h `sin`, at compile time:\n",
    "from libc.math cimport sin\n",
    "\n",
    "# Pure-Python `sin`, at runtime:\n",
    "# from math import sin\n",
    "import time\n",
    "import sys\n",
    "\n",
    "cimport cython\n",
    "cimport numpy as cnp\n",
    "\n",
    "from libc.math cimport pow, sqrt\n",
    "\n",
    "cdef list a = [8, 1, 9, 2, 7, 5, 3, 8, 6, 7, 2, 4, 6, 2, 1, 8, 9, 1, 5, 7,2]\n",
    "def CYsort(a):\n",
    "    for i in range(1, len(a)):\n",
    "        print(a[:i], a[i:])\n",
    "        CYmove_left(a,i)\n",
    "        \n",
    "\n",
    "def CYmove_left(a, int j):\n",
    "    x = a.pop(j)\n",
    "    while j > 0 and a [j - 1] > x:\n",
    "        j -= 1\n",
    "    a.extend([j, x])      \n",
    "    \n",
    "CYmove_left(a, 3)"
   ]
  },
  {
   "cell_type": "code",
   "execution_count": null,
   "id": "36a2075d",
   "metadata": {},
   "outputs": [],
   "source": []
  },
  {
   "cell_type": "code",
   "execution_count": null,
   "id": "9b8ced3e",
   "metadata": {},
   "outputs": [],
   "source": []
  },
  {
   "cell_type": "code",
   "execution_count": 524,
   "id": "69be798b",
   "metadata": {},
   "outputs": [
    {
     "data": {
      "text/plain": [
       "22"
      ]
     },
     "execution_count": 524,
     "metadata": {},
     "output_type": "execute_result"
    }
   ],
   "source": [
    "# Implementing Binary Search \n",
    "\n",
    "list =  consonants = []\n",
    "for i in range(100):\n",
    "    consonants.append(np.random.randint(9))\n",
    "    \n",
    "def binarySearch(a, x):\n",
    "    'Use a Binary search to find x in list a'\n",
    "    lower = -1\n",
    "    upper = len(a)\n",
    "    while upper > lower + 1:\n",
    "        mid = (lower + upper) // 2\n",
    "        if a[mid] == x:\n",
    "            return mid\n",
    "        if x < a[mid]:\n",
    "            upper = mid\n",
    "        else:\n",
    "            lower = mid\n",
    "    return None\n",
    "                \n",
    "                \n",
    "binarySearch(consonants, 7)"
   ]
  },
  {
   "cell_type": "code",
   "execution_count": null,
   "id": "3c107225",
   "metadata": {},
   "outputs": [],
   "source": []
  },
  {
   "cell_type": "code",
   "execution_count": 551,
   "id": "97a441ba",
   "metadata": {},
   "outputs": [
    {
     "name": "stdout",
     "output_type": "stream",
     "text": [
      "87\n"
     ]
    }
   ],
   "source": [
    "%%cython\n",
    "import cython\n",
    "import cProfile\n",
    "\n",
    "import pyximport; pyximport.install()\n",
    "from math import pi\n",
    "# cython: profile=True\n",
    "# math.h `sin`, at compile time:\n",
    "from libc.math cimport sin\n",
    "\n",
    "# Pure-Python `sin`, at runtime:\n",
    "# from math import sin\n",
    "import time\n",
    "import sys\n",
    "\n",
    "cimport cython\n",
    "cimport numpy as np\n",
    "import numpy as np\n",
    "\n",
    "from libc.math cimport pow, sqrt\n",
    "\n",
    "cdef list con = []\n",
    "for i in range(100):\n",
    "    con.append(np.random.randint(9))\n",
    "\n",
    "cdef CinarySearch(a, int x):\n",
    "    lower = -1\n",
    "    upper = len(a)\n",
    "    while upper > lower + 1:\n",
    "        mid = (lower + upper) // 2\n",
    "        if a[mid] == x:\n",
    "            return mid\n",
    "        if x < a[mid]:\n",
    "            upper = mid\n",
    "        else:\n",
    "            lower = mid\n",
    "    return None\n",
    "                \n",
    "        \n",
    "print(CinarySearch(con, 7))"
   ]
  },
  {
   "cell_type": "code",
   "execution_count": null,
   "id": "cd9d9569",
   "metadata": {},
   "outputs": [],
   "source": []
  },
  {
   "cell_type": "code",
   "execution_count": 561,
   "id": "7c70b41e",
   "metadata": {},
   "outputs": [
    {
     "name": "stdout",
     "output_type": "stream",
     "text": [
      "[6, 3, 7, 1, 1, 6, 3, 4, 8, 3, 2, 4, 7, 8, 8, 6, 1, 6, 3, 4, 8, 6, 7, 1, 0, 5, 5, 3, 3, 7, 2, 2, 1, 3, 0, 2, 7, 0, 7, 4, 0, 7, 3, 4, 6, 3, 6, 3, 7, 8, 5, 6, 1, 2, 2, 7, 4, 7, 1, 5, 5, 5, 2, 7, 1, 4, 1, 3, 8, 8, 7, 5, 3, 7, 1, 8, 4, 4, 7, 1, 4, 1, 1, 2, 7, 2, 6, 8, 8, 6, 0, 8, 8, 6, 8, 3, 1, 5, 2, 0]\n"
     ]
    }
   ],
   "source": [
    "from math import ceil, log2 \n",
    "\n",
    "from heapq import merge\n",
    "\n",
    "def mSort(a):\n",
    "    groupsize = 1\n",
    "    while groupsize < len(a):\n",
    "        merge_groups(a, groupsize)\n",
    "        groupsize * 2\n",
    "        \n",
    "        \n",
    "def merge_groups(a, gs):\n",
    "    for i in range(len(a), 2*gs):\n",
    "        j = i + gs\n",
    "        k = j + gs \n",
    "        a[i:k] = list(merge(a[i:j], a[j:k]))\n",
    "\n",
    "\n",
    "Pa = []\n",
    "for i in range(50):\n",
    "    Pa.append(np.random.randint(9))\n",
    "\n",
    "Pb = []\n",
    "for i in range(50):\n",
    "    Pb.append(np.random.randint(9))\n",
    "\n",
    "\n",
    "Pc = Pa + Pb\n",
    "\n",
    "\n",
    "print(Pc)"
   ]
  },
  {
   "cell_type": "code",
   "execution_count": 606,
   "id": "20b788aa",
   "metadata": {},
   "outputs": [
    {
     "name": "stdout",
     "output_type": "stream",
     "text": [
      "[33.7, 63.4, 69.1, 30.8, 28.5, 42.2, 51.9, 37.6, 79.3, 57.0, 50.7, 40.4, 6.1, 27.8, 85.5, 59.2, 28.9, 74.6, 76.3, 14.0, 67.7, 17.4, 43.1, 24.8, 42.5, 76.2, 5.9, 11.6, 73.3, 71.0, 84.7, 94.4, 80.1, 21.8, 99.5, 93.2, 82.9, 48.6, 70.3, 28.0, 1.7, 71.4, 17.1, 18.8, 56.5, 10.2, 59.9, 85.6, 67.3, 85.0, 18.7, 48.4, 54.1, 15.8, 13.5, 27.2, 36.9, 22.6, 64.3, 42.0, 35.7, 25.4, 91.1, 12.8, 70.5, 44.2, 13.9, 59.6, 61.3, 99.0, 52.7, 2.4, 28.1, 9.8, 27.5, 61.2, 90.9, 96.6, 58.3, 56.0, 69.7, 79.4, 65.1, 6.8, 84.5, 78.2, 67.9, 33.6, 55.3, 13.0, 86.7, 56.4, 2.1, 3.8, 41.5, 95.2, 44.9, 70.6, 52.3, 70.0, 3.7, 33.4, 39.1, 0.8, 98.5, 12.2, 21.9, 7.6, 49.3, 27.0, 20.7, 10.4, 76.1, 97.8, 55.5, 29.2, 98.9, 44.6, 46.3, 84.0, 37.7, 87.4, 13.1, 94.8, 12.5, 46.2, 75.9, 81.6, 43.3, 41.0, 54.7, 64.4, 50.1, 91.8, 69.5, 63.2, 52.9, 18.6, 40.3, 98.0, 71.7, 41.4, 87.1, 88.8, 26.5, 80.2, 29.9, 55.6, 37.3, 55.0, 88.7, 18.4, 24.1, 85.8, 83.5, 97.2, 6.9, 92.6, 34.3, 12.0, 5.7, 95.4, 61.1, 82.8, 40.5, 14.2, 83.9, 29.6, 31.3, 69.0, 22.7, 72.4, 98.1, 79.8, 97.5, 31.2, 60.9, 66.6, 28.3, 26.0, 39.7, 49.4, 35.1, 76.8, 54.5, 48.2, 37.9, 3.6, 25.3, 83.0, 56.7, 26.4, 72.1, 73.8, 11.5, 65.2, 14.9, 40.6, 22.3, 40.0]\n"
     ]
    }
   ],
   "source": [
    "%%cython\n",
    "import time\n",
    "import sys\n",
    "\n",
    "cimport cython\n",
    "cimport numpy as np\n",
    "from math import ceil, log2 \n",
    "from heapq import merge\n",
    "        \n",
    "\n",
    "x = 0 \n",
    "a = 81\n",
    "c = 337\n",
    "m = 1000\n",
    "\n",
    "cdef rand():\n",
    "    global x\n",
    "    x = (a * x + c) % m\n",
    "    return x\n",
    "\n",
    "cdef list Cya = []\n",
    "for i in range(100):\n",
    "    Cya.append(round(rand()) / 10)\n",
    "    \n",
    "\n",
    "cdef list Cyb = []\n",
    "for i in range(100):\n",
    "    Cya.append(round(rand()) / 10)\n",
    "Cyc = Cya + Cyb\n",
    "\n",
    "\n",
    "\n",
    "print(Cyc)"
   ]
  },
  {
   "cell_type": "code",
   "execution_count": 604,
   "id": "6787b6eb",
   "metadata": {},
   "outputs": [],
   "source": []
  },
  {
   "cell_type": "code",
   "execution_count": 611,
   "id": "28ffbe43",
   "metadata": {},
   "outputs": [
    {
     "name": "stdout",
     "output_type": "stream",
     "text": [
      "11\n"
     ]
    }
   ],
   "source": [
    "list =  a = []\n",
    "for i in range(100):\n",
    "    a.append(np.random.randint(9))\n",
    "\n",
    "def bsearch(a,x):\n",
    "    \"Resursive binary search to find x in list a\"\n",
    "    return rsearch(a, x, -1, len(a))\n",
    "\n",
    "def rsearch(a, x, lower, upper):\n",
    "    \"Search a between lower and upper for item x\"\n",
    "    if upper == lower + 1:\n",
    "        return None\n",
    "    mid = (lower + upper) // 2\n",
    "    if a[mid] == x:\n",
    "        return mid\n",
    "    if x < a[mid]:\n",
    "        return rsearch(a, x, lower, mid)\n",
    "    else:\n",
    "        return rsearch(a, x, mid, upper)\n",
    "    \n",
    "    \n",
    "print(bsearch(a, 3))"
   ]
  },
  {
   "cell_type": "code",
   "execution_count": null,
   "id": "dfe29ec7",
   "metadata": {},
   "outputs": [],
   "source": []
  },
  {
   "cell_type": "code",
   "execution_count": 619,
   "id": "e1994a6b",
   "metadata": {},
   "outputs": [
    {
     "name": "stdout",
     "output_type": "stream",
     "text": [
      "[33.7, 63.4, 69.1, 30.8, 28.5, 42.2, 51.9, 37.6, 79.3, 57.0, 50.7, 40.4, 6.1, 27.8, 85.5, 59.2, 28.9, 74.6, 76.3, 14.0, 67.7, 17.4, 43.1, 24.8, 42.5, 76.2, 5.9, 11.6, 73.3, 71.0, 84.7, 94.4, 80.1, 21.8, 99.5, 93.2, 82.9, 48.6, 70.3, 28.0, 1.7, 71.4, 17.1, 18.8, 56.5, 10.2, 59.9, 85.6, 67.3, 85.0, 18.7, 48.4, 54.1, 15.8, 13.5, 27.2, 36.9, 22.6, 64.3, 42.0, 35.7, 25.4, 91.1, 12.8, 70.5, 44.2, 13.9, 59.6, 61.3, 99.0, 52.7, 2.4, 28.1, 9.8, 27.5, 61.2, 90.9, 96.6, 58.3, 56.0, 69.7, 79.4, 65.1, 6.8, 84.5, 78.2, 67.9, 33.6, 55.3, 13.0, 86.7, 56.4, 2.1, 3.8, 41.5, 95.2, 44.9, 70.6, 52.3, 70.0]\n",
      "None\n"
     ]
    }
   ],
   "source": [
    "%%cython\n",
    "import time\n",
    "import sys\n",
    "\n",
    "cimport cython\n",
    "cimport numpy as cn\n",
    "from math import ceil, log2 \n",
    "from heapq import merge\n",
    "\n",
    "\n",
    "cdef int x = 0 \n",
    "cdef int a = 81\n",
    "cdef int c = 337\n",
    "cdef int m = 1000\n",
    "\n",
    "cdef rand():\n",
    "    global x\n",
    "    x = (a * x + c) % m\n",
    "    return x\n",
    "\n",
    "cdef list Cy = []\n",
    "for i in range(100):\n",
    "    Cy.append(round(rand()) / 10)\n",
    "    \n",
    "print(Cy)\n",
    "    \n",
    "cdef Cbsearch(c, x):\n",
    "    \"Resursive binary search to find x in list a\"\n",
    "    return Crsearch(c, x, -1, len(c))\n",
    "\n",
    "cdef Crsearch(c, x, lower, upper):\n",
    "    \"Search a between lower and upper for item x\"\n",
    "    if upper == lower + 1:\n",
    "        return None\n",
    "    mid = (lower + upper) // 2\n",
    "    if c[mid] == x:\n",
    "        return mid\n",
    "    if x < c[mid]:\n",
    "        return Crsearch(c, x, lower, mid)\n",
    "    else:\n",
    "        return Crsearch(c, x, mid, upper)\n",
    "    \n",
    "\n",
    "print(Cbsearch(Cy, 5))\n",
    "  "
   ]
  },
  {
   "cell_type": "code",
   "execution_count": 566,
   "id": "956873ba",
   "metadata": {},
   "outputs": [],
   "source": [
    "  "
   ]
  },
  {
   "cell_type": "code",
   "execution_count": 283,
   "id": "5100d28f",
   "metadata": {},
   "outputs": [],
   "source": [
    "def partition(a, p, r):\n",
    "    x = a[p]\n",
    "    i = p\n",
    "    for j in range(p+1, r+1):\n",
    "        if a[j] <= x:\n",
    "            i += 1\n",
    "            a[i], a[j] = a[j], a[i]\n",
    "    a[p], a[i] = a[i], a[p]\n",
    "    return i   \n",
    "\n",
    "\n",
    "def qsort(a):\n",
    "    \"Sort list a using the Quicksort algorithm\"\n",
    "    qs(a, 0, len(a)-1)\n",
    "\n",
    "\n",
    "def qs(a, p, r):\n",
    "    if p < r:\n",
    "        q = partition(a, p, r)\n",
    "        qs(a, p, q-1)\n",
    "        qs(a, q+1, r)\n",
    "        \n"
   ]
  },
  {
   "cell_type": "code",
   "execution_count": null,
   "id": "dcdaa839",
   "metadata": {},
   "outputs": [],
   "source": [
    "\n",
    "    "
   ]
  },
  {
   "cell_type": "code",
   "execution_count": 286,
   "id": "9a3aaea4",
   "metadata": {},
   "outputs": [],
   "source": [
    "%%cython\n",
    "import time\n",
    "import sys\n",
    "\n",
    "cimport cython\n",
    "cimport numpy as cnp\n",
    "\n",
    "from libc.math cimport pow, sqrt,ceil\n",
    "cdef list a = [8, 1, 9, 2, 7, 5, 3, 8, 6, 7, 2, 4, 6, 2, 1, 8, 9, 1, 5, 7,2]\n",
    "\n",
    "cdef Cartition(a, p, r):\n",
    "    x = a[p]\n",
    "    i = p\n",
    "    for j in range(p+1, r+1):\n",
    "        if a[j] <= x:\n",
    "            i += 1\n",
    "            a[i], a[j] = a[j], a[i]\n",
    "    a[p], a[i] = a[i], a[p]\n",
    "    return i\n",
    "\n",
    "cdef Cbsearch(a,int x):\n",
    "    return Crsearch(a, x, -1, len(a))\n",
    "\n",
    "cdef Crsearch(a, x, lower, upper):\n",
    "    if upper == lower + 1:\n",
    "        return None\n",
    "    mid = (lower + upper) // 2\n",
    "    if a[mid] == x:\n",
    "        return mid\n",
    "    if x < a[mid]:\n",
    "        return Crsearch(a, x, lower, mid)\n",
    "    else:\n",
    "        return Crsearch(a, x, mid, upper)\n",
    "    \n",
    "\n",
    "cdef qsort(a):\n",
    "    qs(a, 0, len(a)-1)\n",
    "\n",
    "\n",
    "cdef qs(a, p, r):\n",
    "    if p < r:\n",
    "        q = Cartition(a, p, r)\n",
    "        qs(a, p, q-1)\n",
    "        qs(a, q+1, r)"
   ]
  },
  {
   "cell_type": "code",
   "execution_count": null,
   "id": "934bfbfc",
   "metadata": {},
   "outputs": [],
   "source": []
  },
  {
   "cell_type": "code",
   "execution_count": null,
   "id": "94652e3d",
   "metadata": {},
   "outputs": [],
   "source": []
  },
  {
   "cell_type": "code",
   "execution_count": 621,
   "id": "43e36093",
   "metadata": {},
   "outputs": [
    {
     "name": "stdout",
     "output_type": "stream",
     "text": [
      "pearl\n",
      "python\n",
      "ruby\n",
      "java\n",
      "c++\n",
      "java\n",
      "java\n",
      "562.24 None 21\n"
     ]
    }
   ],
   "source": [
    "\n",
    "languages = ['pearl', 'python', 'ruby', 'java', 'c++' ,'java', 'java']\n",
    "\n",
    "\n",
    "def pmt(amt, rate, yrs):\n",
    "    r = rate/100/12\n",
    "    p = 12 * yrs\n",
    "    return r * amt / 1-(1 + r)**-p\n",
    "\n",
    "\n",
    "pmt(150000, 4.5, 30)\n",
    "\n",
    "\n",
    "def print_list(a):\n",
    "    for x in a:\n",
    "        print(x)\n",
    "        \n",
    "def total(a):\n",
    "    sum = 0 \n",
    "    for x in a:\n",
    "        sum += x \n",
    "    return sum\n",
    "\n",
    "\n",
    "print(round(pmt(150000, 4.5, 30), 3), print_list(languages), total(range(len(languages))))"
   ]
  },
  {
   "cell_type": "code",
   "execution_count": 622,
   "id": "1b8bb66f",
   "metadata": {},
   "outputs": [
    {
     "name": "stdout",
     "output_type": "stream",
     "text": [
      "pearl\n",
      "python\n",
      "ruby\n",
      "java\n",
      "c++\n",
      "java\n",
      "562.24 None 15\n"
     ]
    }
   ],
   "source": [
    "%%cython\n",
    "import time\n",
    "import sys\n",
    "\n",
    "cimport cython\n",
    "cimport numpy as cnp\n",
    "from libc.string cimport strcpy, strlen\n",
    "from libc.math cimport pow, sqrt,ceil\n",
    "from time import time\n",
    "\n",
    "\n",
    "cdef list languages = ['pearl', 'python', 'ruby', 'java', 'c++', 'java']\n",
    "\n",
    "\n",
    "cdef Cpmt(int amt, float rate, int yrs):\n",
    "    r = rate/100/12\n",
    "    p = 12 * yrs\n",
    "    return r * amt / 1-(1 + r)**-p\n",
    "\n",
    "cdef Crint_list(a):\n",
    "    for x in a:\n",
    "        print(x)\n",
    "        \n",
    "cdef Cotal(a):\n",
    "    sum = 0 \n",
    "    for x in a:\n",
    "        sum += x \n",
    "    return sum\n",
    "\n",
    "print(round(Cpmt(150000, 4.5, 30), 3), Crint_list(languages), Cotal(range(len(languages))))"
   ]
  },
  {
   "cell_type": "code",
   "execution_count": null,
   "id": "78238048",
   "metadata": {},
   "outputs": [],
   "source": [
    "    "
   ]
  },
  {
   "cell_type": "code",
   "execution_count": 448,
   "id": "ba3f119e",
   "metadata": {},
   "outputs": [],
   "source": [
    "%%cython\n",
    "import time\n",
    "import sys\n",
    "\n",
    "cimport cython\n",
    "cimport numpy as cnp\n",
    "from libc.string cimport strcpy, strlen\n",
    "\n",
    "from libc.math cimport pow, sqrt,ceil\n",
    "\n",
    "\n",
    "from time import time\n",
    "\n",
    "x = 0 \n",
    "a = 81\n",
    "c = 337\n",
    "m = 1000\n",
    "\n",
    "def rand():\n",
    "    global x\n",
    "    x = (a * x + c) % m\n",
    "    return x\n",
    "\n",
    "def reset(mult, inc, mod):\n",
    "    global x, a, c, m\n",
    "    \n",
    "    x = 0\n",
    "    a = mult\n",
    "    c = inc \n",
    "    m = mod\n",
    "\n",
    "\n",
    "def roll():\n",
    "    return rand() % 6 + 1\n",
    "    \n",
    "    \n",
    "def Pydice(n):\n",
    "    return [roll() for i in range(n)]"
   ]
  },
  {
   "cell_type": "code",
   "execution_count": 449,
   "id": "867c1cbb",
   "metadata": {},
   "outputs": [
    {
     "data": {
      "text/plain": [
       "[4, 5, 6, 3, 2, 5, 4, 1, 4, 5, 6, 3, 4, 3, 2, 1, 6, 1, 2, 1]"
      ]
     },
     "execution_count": 449,
     "metadata": {},
     "output_type": "execute_result"
    }
   ],
   "source": [
    "Pydice(20)"
   ]
  },
  {
   "cell_type": "code",
   "execution_count": 457,
   "id": "4bd12f21",
   "metadata": {},
   "outputs": [
    {
     "name": "stdout",
     "output_type": "stream",
     "text": [
      "         4 function calls in 0.000 seconds\n",
      "\n",
      "   Ordered by: internal time\n",
      "\n",
      "   ncalls  tottime  percall  cumtime  percall filename:lineno(function)\n",
      "        1    0.000    0.000    0.000    0.000 {_cython_magic_4954931b8a67a4706cc1a0062308e38c.Pydice}\n",
      "        1    0.000    0.000    0.000    0.000 {built-in method builtins.exec}\n",
      "        1    0.000    0.000    0.000    0.000 <string>:1(<module>)\n",
      "        1    0.000    0.000    0.000    0.000 {method 'disable' of '_lsprof.Profiler' objects}\n",
      "\n",
      "\n"
     ]
    }
   ],
   "source": [
    "if __name__ == '__main__':\n",
    "    import cProfile\n",
    "    cProfile.run('Pydice(100)', sort='time')\n",
    "    "
   ]
  },
  {
   "cell_type": "code",
   "execution_count": 623,
   "id": "7595cb94",
   "metadata": {},
   "outputs": [
    {
     "name": "stdout",
     "output_type": "stream",
     "text": [
      "93.9 µs ± 1.9 µs per loop (mean ± std. dev. of 7 runs, 10,000 loops each)\n"
     ]
    }
   ],
   "source": [
    "%timeit Pydice(500)"
   ]
  },
  {
   "cell_type": "code",
   "execution_count": 624,
   "id": "09a7608c",
   "metadata": {},
   "outputs": [
    {
     "name": "stdout",
     "output_type": "stream",
     "text": [
      "96.1 µs ± 3.18 µs per loop (mean ± std. dev. of 7 runs, 10,000 loops each)\n"
     ]
    }
   ],
   "source": [
    "%%timeit\n",
    "Pydice(500)"
   ]
  },
  {
   "cell_type": "code",
   "execution_count": null,
   "id": "4917080a",
   "metadata": {},
   "outputs": [],
   "source": []
  },
  {
   "cell_type": "code",
   "execution_count": 453,
   "id": "67bc6f6a",
   "metadata": {},
   "outputs": [],
   "source": [
    "%%cython\n",
    "import time\n",
    "import sys\n",
    "\n",
    "cimport cython\n",
    "cimport numpy as cnp\n",
    "from libc.string cimport strcpy, strlen\n",
    "\n",
    "from libc.math cimport pow, sqrt,ceil\n",
    "\n",
    "\n",
    "from time import time\n",
    "\n",
    "cdef int x = 0 \n",
    "cdef int  a = 81\n",
    "cdef int  c = 337\n",
    "cdef int m = 1000\n",
    "\n",
    "def rand():\n",
    "    global x\n",
    "    x = (a * x + c) % m\n",
    "    return x\n",
    "\n",
    "def reset(mult, inc, mod):\n",
    "    global x, a, c, m\n",
    "    \n",
    "    x = 0\n",
    "    a = mult\n",
    "    c = inc \n",
    "    m = mod\n",
    "\n",
    "\n",
    "def roll():\n",
    "    return rand() % 6 + 1\n",
    "    \n",
    "    \n",
    "cdef list dice = [0]\n",
    "\n",
    "for i in range(15):\n",
    "    dice.append(roll())\n",
    "\n",
    "def Cydice(n):\n",
    "    return [roll() for i in range(n)]\n",
    "\n",
    "\n"
   ]
  },
  {
   "cell_type": "code",
   "execution_count": 460,
   "id": "806e20dd",
   "metadata": {},
   "outputs": [
    {
     "name": "stdout",
     "output_type": "stream",
     "text": [
      "         4 function calls in 0.000 seconds\n",
      "\n",
      "   Ordered by: internal time\n",
      "\n",
      "   ncalls  tottime  percall  cumtime  percall filename:lineno(function)\n",
      "        1    0.000    0.000    0.000    0.000 {built-in method builtins.exec}\n",
      "        1    0.000    0.000    0.000    0.000 {_cython_magic_ab431293f2dd58033c19f273ee27fe4e.Cydice}\n",
      "        1    0.000    0.000    0.000    0.000 <string>:1(<module>)\n",
      "        1    0.000    0.000    0.000    0.000 {method 'disable' of '_lsprof.Profiler' objects}\n",
      "\n",
      "\n"
     ]
    }
   ],
   "source": [
    "if __name__ == '__main__':\n",
    "    import cProfile\n",
    "    cProfile.run('Cydice(100)', sort='time')"
   ]
  },
  {
   "cell_type": "code",
   "execution_count": 625,
   "id": "dcae22f9",
   "metadata": {},
   "outputs": [
    {
     "name": "stdout",
     "output_type": "stream",
     "text": [
      "30 µs ± 1.16 µs per loop (mean ± std. dev. of 7 runs, 10,000 loops each)\n"
     ]
    }
   ],
   "source": [
    "%timeit Cydice(500)"
   ]
  },
  {
   "cell_type": "code",
   "execution_count": 626,
   "id": "164c8134",
   "metadata": {},
   "outputs": [
    {
     "name": "stdout",
     "output_type": "stream",
     "text": [
      "29.9 µs ± 551 ns per loop (mean ± std. dev. of 7 runs, 10,000 loops each)\n"
     ]
    }
   ],
   "source": [
    "%%timeit\n",
    "Cydice(500)"
   ]
  },
  {
   "cell_type": "code",
   "execution_count": null,
   "id": "9f38016f",
   "metadata": {},
   "outputs": [],
   "source": []
  },
  {
   "cell_type": "code",
   "execution_count": null,
   "id": "148d79f9",
   "metadata": {},
   "outputs": [],
   "source": []
  },
  {
   "cell_type": "code",
   "execution_count": 467,
   "id": "8946e1c4",
   "metadata": {},
   "outputs": [
    {
     "name": "stdout",
     "output_type": "stream",
     "text": [
      "{1: 'I', 5: 'V', 10: 'X', 50: 'L', 100: 'C'}\n",
      "{1: 'I', 5: 'V', 10: 'X', 50: 'L', 100: 'C'}\n",
      "{1: 'I', 5: 'V', 10: 'X', 50: 'L', 100: 'C'}\n",
      "{1: 'I', 5: 'V', 10: 'X', 50: 'L', 100: 'C'}\n",
      "{1: 'I', 5: 'V', 10: 'X', 50: 'L', 100: 'C'}\n"
     ]
    }
   ],
   "source": [
    "%%cython\n",
    "import time\n",
    "import sys\n",
    "from random import randint\n",
    "import numpy as np\n",
    "cimport cython\n",
    "cimport numpy as cnp\n",
    "from libc.string cimport strcpy, strlen\n",
    "\n",
    "from libc.math cimport pow, sqrt,ceil\n",
    "\n",
    "cdef Coman = { 1: \"I\", 5: \"V\", 10: 'X', 50: \"L\", 100: 'C'}\n",
    "for n in Coman:\n",
    "    Coman[n].lower()\n",
    "    print(Coman)"
   ]
  },
  {
   "cell_type": "code",
   "execution_count": null,
   "id": "c2fb9c9e",
   "metadata": {},
   "outputs": [],
   "source": []
  },
  {
   "cell_type": "code",
   "execution_count": 627,
   "id": "69aa6c1b",
   "metadata": {},
   "outputs": [],
   "source": [
    "%%cython\n",
    "import time\n",
    "import sys\n",
    "\n",
    "cimport cython\n",
    "cimport numpy as cnp\n",
    "from libc.string cimport strcpy, strlen\n",
    "\n",
    "from libc.math cimport pow, sqrt,ceil\n",
    "\n",
    "cdef char* c4 = 'string are sequences of characters and are confusing'\n",
    "cdef char* Names = 'Mayra Roy Javier Foxy characters and are confusing'\n",
    "\n",
    "\n",
    "\n",
    "print(strlen(c4), Names)"
   ]
  },
  {
   "cell_type": "code",
   "execution_count": null,
   "id": "1faa298f",
   "metadata": {},
   "outputs": [],
   "source": []
  },
  {
   "cell_type": "code",
   "execution_count": null,
   "id": "15d9e499",
   "metadata": {},
   "outputs": [],
   "source": [
    "from string import punctuation\n",
    "\n",
    "def wf(fn):\n",
    "    \"Make a dictionary of word frequencies\"\n",
    "    count = {}\n",
    "    for line in open(fn):\n",
    "        for w in tokenize(line):\n",
    "            count.setdefault(w, 0)\n",
    "            count[w] += 1\n",
    "    return count\n",
    "\n",
    "\n",
    "def tokenize(s):\n",
    "    'return the list of words in string s'\n",
    "    a = []\n",
    "    for x in s.split():\n",
    "        a.append( x.strip(punctuation).lower())  \n",
    "    return a"
   ]
  },
  {
   "cell_type": "code",
   "execution_count": null,
   "id": "5ccb1429",
   "metadata": {},
   "outputs": [],
   "source": [
    "%%cython\n",
    "import time\n",
    "import sys\n",
    "from random import randint\n",
    "import numpy as np\n",
    "cimport cython\n",
    "cimport numpy as cnp\n",
    "from libc.string cimport strcpy, strlen\n",
    "from libc.math cimport pow, sqrt,ceil\n",
    "from string import punctuation\n",
    "from libc.string cimport strcpy, strlen\n",
    "\n",
    "cdef  hello_world = ['If you have no confidence in self,\\\n",
    "you are twice defeated in the race of life.\\\n",
    "With confidence, you have won even before you have started.']\n",
    "\n",
    "\n",
    "\n",
    "cdef C_create_acronym(x):\n",
    "    for word in (x):\n",
    "        if len(word) > 3:\n",
    "            print(word.title())\n",
    "            \n",
    "            \n",
    "print(C_create_acronym(hello_world))       "
   ]
  },
  {
   "cell_type": "code",
   "execution_count": null,
   "id": "82898537",
   "metadata": {},
   "outputs": [],
   "source": []
  },
  {
   "cell_type": "code",
   "execution_count": null,
   "id": "3a92cf12",
   "metadata": {},
   "outputs": [],
   "source": [
    "def massbodindx(height, weight, units = 'metric'):\n",
    "    if units == 'metric':\n",
    "        return (weight/ height**2)\n",
    "    elif units == 'standard':\n",
    "        return (weight / neight **2) * 703\n",
    "    else:\n",
    "        return None"
   ]
  },
  {
   "cell_type": "code",
   "execution_count": null,
   "id": "80b8cc15",
   "metadata": {},
   "outputs": [],
   "source": [
    "%%cython\n",
    "import time\n",
    "import sys\n",
    "from random import randint\n",
    "import numpy as np\n",
    "cimport cython\n",
    "cimport numpy as cnp\n",
    "from libc.string cimport strcpy, strlen\n",
    "from libc.math cimport pow, sqrt,ceil\n",
    "from string import punctuation\n",
    "from libc.string cimport strcpy, strlen\n",
    "\n",
    "cdef massbodindx(double height, double weight, units = 'metric'):\n",
    "    if units == 'metric':\n",
    "        return (weight/ height**2)\n",
    "    elif units == 'standard':\n",
    "        return (weight / height **2) * 703\n",
    "    else:\n",
    "        return None"
   ]
  },
  {
   "cell_type": "code",
   "execution_count": null,
   "id": "e0fd1c4d",
   "metadata": {},
   "outputs": [],
   "source": []
  },
  {
   "cell_type": "code",
   "execution_count": null,
   "id": "7fb01bc7",
   "metadata": {},
   "outputs": [],
   "source": []
  },
  {
   "cell_type": "code",
   "execution_count": null,
   "id": "6825958c",
   "metadata": {},
   "outputs": [],
   "source": []
  },
  {
   "cell_type": "code",
   "execution_count": null,
   "id": "cd027c3d",
   "metadata": {},
   "outputs": [],
   "source": []
  },
  {
   "cell_type": "code",
   "execution_count": null,
   "id": "3ff3893c",
   "metadata": {},
   "outputs": [],
   "source": []
  },
  {
   "cell_type": "code",
   "execution_count": null,
   "id": "aacab16d",
   "metadata": {},
   "outputs": [],
   "source": []
  },
  {
   "cell_type": "code",
   "execution_count": null,
   "id": "5b045955",
   "metadata": {},
   "outputs": [],
   "source": [
    "%%cython\n",
    "import time\n",
    "import sys\n",
    "from random import randint\n",
    "import numpy as np\n",
    "cimport cython\n",
    "cimport numpy as cnp\n",
    "from libc.string cimport strcpy, strlen\n",
    "from libc.math cimport pow, sqrt,ceil\n",
    "from string import punctuation\n",
    "from libc.string cimport strcpy, strlen\n",
    "\n",
    "\n",
    "cdef  hello_world = ['If you have no confidence in self,\\\n",
    "you are twice defeated in the race of life.\\\n",
    "With confidence, you have won even before you have started.']\n",
    "\n",
    "cdef wf(fn):\n",
    "    cdef count = {}\n",
    "    for line in hello_world:\n",
    "        for w in tokenize(line):\n",
    "            count.setdefault(w, 0)\n",
    "            count[w] += 1\n",
    "    return count\n",
    "\n",
    "\n",
    "cdef tokenize(char* s):\n",
    "    cdef a = []\n",
    "    for x in s.split():\n",
    "        a.append( x.strip(punctuation).lower())  \n",
    "    return a\n",
    "\n",
    "\n",
    "print(wf(hello_world))"
   ]
  },
  {
   "cell_type": "code",
   "execution_count": null,
   "id": "8c4738ec",
   "metadata": {},
   "outputs": [],
   "source": []
  },
  {
   "cell_type": "code",
   "execution_count": null,
   "id": "35e0e4f7",
   "metadata": {},
   "outputs": [],
   "source": [
    "class Card:\n",
    "\n",
    "    'An instance of the Card class is a single playing card.'\n",
    "    suit_sym = {3:'\\u2660', 2:'\\u2665', 1:'\\u2666', 0:'\\u2663'}\n",
    "    rank_sym = {0: \"2\", 1: '3', 2: '4', 3: '5', 4: '6', 5: '7', 6:'8', 7:'9', 8:'10', 9: 'J', 10:'Q', 11: 'K', 12:'A'}\n",
    "\n",
    "    def __init__(self, n):\n",
    "        'Assign the ID for a new card'\n",
    "        self._id = n\n",
    "\n",
    "        \n",
    "    def rank(self):\n",
    "        \"A card's rank is an interger between 0 (2) and 12 (ace).\"\n",
    "        return self._id % 13\n",
    "\n",
    "    def suit(self):\n",
    "        'Return a suit number: 0 = clubs, 1 = diamonds, 2 = hearts, 3 = spades.'\n",
    "        return self._id // 13\n",
    "    \n",
    "    def __repr__(self):\n",
    "        return Card.rank_sym[self.rank()] + Card.suit_sym[self.suit()]\n",
    "\n",
    "    def __eq__(self, other):\n",
    "        return self._id == other._id\n",
    "        \n",
    "\n",
    "def new_deck():\n",
    "    'Create a list of 52 cards objects.'\n",
    "    return [Card(i) for i in range(52)]\n",
    "\n",
    "print([Card(i) for i in range(52)])"
   ]
  },
  {
   "cell_type": "code",
   "execution_count": 559,
   "id": "3a4eec9b",
   "metadata": {},
   "outputs": [
    {
     "ename": "AttributeError",
     "evalue": "'_cython_magic_dfd5f325135e11b0329cb47fe1bc32c4.Card' object has no attribute '_id'",
     "output_type": "error",
     "traceback": [
      "\u001b[1;31m---------------------------------------------------------------------------\u001b[0m",
      "\u001b[1;31mAttributeError\u001b[0m                            Traceback (most recent call last)",
      "Input \u001b[1;32mIn [559]\u001b[0m, in \u001b[0;36m<cell line: 1>\u001b[1;34m()\u001b[0m\n\u001b[1;32m----> 1\u001b[0m \u001b[43mget_ipython\u001b[49m\u001b[43m(\u001b[49m\u001b[43m)\u001b[49m\u001b[38;5;241;43m.\u001b[39;49m\u001b[43mrun_cell_magic\u001b[49m\u001b[43m(\u001b[49m\u001b[38;5;124;43m'\u001b[39;49m\u001b[38;5;124;43mcython\u001b[39;49m\u001b[38;5;124;43m'\u001b[39;49m\u001b[43m,\u001b[49m\u001b[43m \u001b[49m\u001b[38;5;124;43m'\u001b[39;49m\u001b[38;5;124;43m'\u001b[39;49m\u001b[43m,\u001b[49m\u001b[43m \u001b[49m\u001b[38;5;124;43m'\u001b[39;49m\u001b[38;5;124;43mimport time\u001b[39;49m\u001b[38;5;130;43;01m\\n\u001b[39;49;00m\u001b[38;5;124;43mimport sys\u001b[39;49m\u001b[38;5;130;43;01m\\n\u001b[39;49;00m\u001b[38;5;124;43mfrom random import randint\u001b[39;49m\u001b[38;5;130;43;01m\\n\u001b[39;49;00m\u001b[38;5;124;43mimport numpy as np\u001b[39;49m\u001b[38;5;130;43;01m\\n\u001b[39;49;00m\u001b[38;5;124;43mcimport cython\u001b[39;49m\u001b[38;5;130;43;01m\\n\u001b[39;49;00m\u001b[38;5;124;43mcimport numpy as cnp\u001b[39;49m\u001b[38;5;130;43;01m\\n\u001b[39;49;00m\u001b[38;5;124;43mfrom libc.string cimport strcpy, strlen\u001b[39;49m\u001b[38;5;130;43;01m\\n\u001b[39;49;00m\u001b[38;5;130;43;01m\\n\u001b[39;49;00m\u001b[38;5;124;43mfrom libc.math cimport pow, sqrt,ceil\u001b[39;49m\u001b[38;5;130;43;01m\\n\u001b[39;49;00m\u001b[38;5;130;43;01m\\n\u001b[39;49;00m\u001b[38;5;130;43;01m\\n\u001b[39;49;00m\u001b[38;5;124;43mcdef suit_sym = \u001b[39;49m\u001b[38;5;124;43m{\u001b[39;49m\u001b[38;5;124;43m3:\u001b[39;49m\u001b[38;5;130;43;01m\\'\u001b[39;49;00m\u001b[38;5;130;43;01m\\\\\u001b[39;49;00m\u001b[38;5;124;43mu2660\u001b[39;49m\u001b[38;5;130;43;01m\\'\u001b[39;49;00m\u001b[38;5;124;43m, 2:\u001b[39;49m\u001b[38;5;130;43;01m\\'\u001b[39;49;00m\u001b[38;5;130;43;01m\\\\\u001b[39;49;00m\u001b[38;5;124;43mu2665\u001b[39;49m\u001b[38;5;130;43;01m\\'\u001b[39;49;00m\u001b[38;5;124;43m, 1:\u001b[39;49m\u001b[38;5;130;43;01m\\'\u001b[39;49;00m\u001b[38;5;130;43;01m\\\\\u001b[39;49;00m\u001b[38;5;124;43mu2666\u001b[39;49m\u001b[38;5;130;43;01m\\'\u001b[39;49;00m\u001b[38;5;124;43m, 0:\u001b[39;49m\u001b[38;5;130;43;01m\\'\u001b[39;49;00m\u001b[38;5;130;43;01m\\\\\u001b[39;49;00m\u001b[38;5;124;43mu2663\u001b[39;49m\u001b[38;5;130;43;01m\\'\u001b[39;49;00m\u001b[38;5;124;43m}\u001b[39;49m\u001b[38;5;130;43;01m\\n\u001b[39;49;00m\u001b[38;5;124;43mcdef rank_sym = \u001b[39;49m\u001b[38;5;124;43m{\u001b[39;49m\u001b[38;5;124;43m0: \u001b[39;49m\u001b[38;5;124;43m\"\u001b[39;49m\u001b[38;5;124;43m2\u001b[39;49m\u001b[38;5;124;43m\"\u001b[39;49m\u001b[38;5;124;43m, 1: \u001b[39;49m\u001b[38;5;130;43;01m\\'\u001b[39;49;00m\u001b[38;5;124;43m3\u001b[39;49m\u001b[38;5;130;43;01m\\'\u001b[39;49;00m\u001b[38;5;124;43m, 2: \u001b[39;49m\u001b[38;5;130;43;01m\\'\u001b[39;49;00m\u001b[38;5;124;43m4\u001b[39;49m\u001b[38;5;130;43;01m\\'\u001b[39;49;00m\u001b[38;5;124;43m, 3: \u001b[39;49m\u001b[38;5;130;43;01m\\'\u001b[39;49;00m\u001b[38;5;124;43m5\u001b[39;49m\u001b[38;5;130;43;01m\\'\u001b[39;49;00m\u001b[38;5;124;43m, 4: \u001b[39;49m\u001b[38;5;130;43;01m\\'\u001b[39;49;00m\u001b[38;5;124;43m6\u001b[39;49m\u001b[38;5;130;43;01m\\'\u001b[39;49;00m\u001b[38;5;124;43m, 5: \u001b[39;49m\u001b[38;5;130;43;01m\\'\u001b[39;49;00m\u001b[38;5;124;43m7\u001b[39;49m\u001b[38;5;130;43;01m\\'\u001b[39;49;00m\u001b[38;5;124;43m, 6:\u001b[39;49m\u001b[38;5;130;43;01m\\'\u001b[39;49;00m\u001b[38;5;124;43m8\u001b[39;49m\u001b[38;5;130;43;01m\\'\u001b[39;49;00m\u001b[38;5;124;43m, 7:\u001b[39;49m\u001b[38;5;130;43;01m\\'\u001b[39;49;00m\u001b[38;5;124;43m9\u001b[39;49m\u001b[38;5;130;43;01m\\'\u001b[39;49;00m\u001b[38;5;124;43m, 8:\u001b[39;49m\u001b[38;5;130;43;01m\\'\u001b[39;49;00m\u001b[38;5;124;43m10\u001b[39;49m\u001b[38;5;130;43;01m\\'\u001b[39;49;00m\u001b[38;5;124;43m, 9: \u001b[39;49m\u001b[38;5;130;43;01m\\'\u001b[39;49;00m\u001b[38;5;124;43mJ\u001b[39;49m\u001b[38;5;130;43;01m\\'\u001b[39;49;00m\u001b[38;5;124;43m, 10:\u001b[39;49m\u001b[38;5;130;43;01m\\'\u001b[39;49;00m\u001b[38;5;124;43mQ\u001b[39;49m\u001b[38;5;130;43;01m\\'\u001b[39;49;00m\u001b[38;5;124;43m, 11: \u001b[39;49m\u001b[38;5;130;43;01m\\'\u001b[39;49;00m\u001b[38;5;124;43mK\u001b[39;49m\u001b[38;5;130;43;01m\\'\u001b[39;49;00m\u001b[38;5;124;43m, 12:\u001b[39;49m\u001b[38;5;130;43;01m\\'\u001b[39;49;00m\u001b[38;5;124;43mA\u001b[39;49m\u001b[38;5;130;43;01m\\'\u001b[39;49;00m\u001b[38;5;124;43m}\u001b[39;49m\u001b[38;5;130;43;01m\\n\u001b[39;49;00m\u001b[38;5;130;43;01m\\n\u001b[39;49;00m\u001b[38;5;124;43mcdef class Card:\u001b[39;49m\u001b[38;5;130;43;01m\\n\u001b[39;49;00m\u001b[38;5;124;43m    \u001b[39;49m\u001b[38;5;130;43;01m\\n\u001b[39;49;00m\u001b[38;5;124;43m    def  __init__(self, n):\u001b[39;49m\u001b[38;5;130;43;01m\\n\u001b[39;49;00m\u001b[38;5;124;43m        self._id = n\u001b[39;49m\u001b[38;5;130;43;01m\\n\u001b[39;49;00m\u001b[38;5;124;43m        \u001b[39;49m\u001b[38;5;130;43;01m\\n\u001b[39;49;00m\u001b[38;5;124;43m    def  rank(self):\u001b[39;49m\u001b[38;5;130;43;01m\\n\u001b[39;49;00m\u001b[38;5;124;43m        return self._id \u001b[39;49m\u001b[38;5;124;43m%\u001b[39;49m\u001b[38;5;124;43m 13\u001b[39;49m\u001b[38;5;130;43;01m\\n\u001b[39;49;00m\u001b[38;5;130;43;01m\\n\u001b[39;49;00m\u001b[38;5;124;43m    def  suit(self):\u001b[39;49m\u001b[38;5;130;43;01m\\n\u001b[39;49;00m\u001b[38;5;124;43m        return self._id // 13\u001b[39;49m\u001b[38;5;130;43;01m\\n\u001b[39;49;00m\u001b[38;5;124;43m    \u001b[39;49m\u001b[38;5;130;43;01m\\n\u001b[39;49;00m\u001b[38;5;124;43m    def  __repr__(self):\u001b[39;49m\u001b[38;5;130;43;01m\\n\u001b[39;49;00m\u001b[38;5;124;43m        return Card.rank_sym[self.rank()] + Card.suit_sym[self.suit()]\u001b[39;49m\u001b[38;5;130;43;01m\\n\u001b[39;49;00m\u001b[38;5;130;43;01m\\n\u001b[39;49;00m\u001b[38;5;124;43m    def  __eq__(self, other):\u001b[39;49m\u001b[38;5;130;43;01m\\n\u001b[39;49;00m\u001b[38;5;124;43m        return self._id == other._id\u001b[39;49m\u001b[38;5;130;43;01m\\n\u001b[39;49;00m\u001b[38;5;124;43m        \u001b[39;49m\u001b[38;5;130;43;01m\\n\u001b[39;49;00m\u001b[38;5;130;43;01m\\n\u001b[39;49;00m\u001b[38;5;124;43mcdef new_deck():\u001b[39;49m\u001b[38;5;130;43;01m\\n\u001b[39;49;00m\u001b[38;5;124;43m    return [Card(i) for i in range(52)]\u001b[39;49m\u001b[38;5;130;43;01m\\n\u001b[39;49;00m\u001b[38;5;130;43;01m\\n\u001b[39;49;00m\u001b[38;5;124;43mprint([Card(i) for i in range(52)])\u001b[39;49m\u001b[38;5;130;43;01m\\n\u001b[39;49;00m\u001b[38;5;124;43m'\u001b[39;49m\u001b[43m)\u001b[49m\n",
      "File \u001b[1;32m~\\anaconda3\\envs\\blockchainDev\\lib\\site-packages\\IPython\\core\\interactiveshell.py:2347\u001b[0m, in \u001b[0;36mInteractiveShell.run_cell_magic\u001b[1;34m(self, magic_name, line, cell)\u001b[0m\n\u001b[0;32m   2345\u001b[0m \u001b[38;5;28;01mwith\u001b[39;00m \u001b[38;5;28mself\u001b[39m\u001b[38;5;241m.\u001b[39mbuiltin_trap:\n\u001b[0;32m   2346\u001b[0m     args \u001b[38;5;241m=\u001b[39m (magic_arg_s, cell)\n\u001b[1;32m-> 2347\u001b[0m     result \u001b[38;5;241m=\u001b[39m \u001b[43mfn\u001b[49m\u001b[43m(\u001b[49m\u001b[38;5;241;43m*\u001b[39;49m\u001b[43margs\u001b[49m\u001b[43m,\u001b[49m\u001b[43m \u001b[49m\u001b[38;5;241;43m*\u001b[39;49m\u001b[38;5;241;43m*\u001b[39;49m\u001b[43mkwargs\u001b[49m\u001b[43m)\u001b[49m\n\u001b[0;32m   2348\u001b[0m \u001b[38;5;28;01mreturn\u001b[39;00m result\n",
      "File \u001b[1;32m~\\anaconda3\\envs\\blockchainDev\\lib\\site-packages\\Cython\\Build\\IpythonMagic.py:351\u001b[0m, in \u001b[0;36mCythonMagics.cython\u001b[1;34m(self, line, cell)\u001b[0m\n\u001b[0;32m    347\u001b[0m \u001b[38;5;28;01mexcept\u001b[39;00m distutils\u001b[38;5;241m.\u001b[39merrors\u001b[38;5;241m.\u001b[39mCompileError:\n\u001b[0;32m    348\u001b[0m     \u001b[38;5;66;03m# Build failed and printed error message\u001b[39;00m\n\u001b[0;32m    349\u001b[0m     \u001b[38;5;28;01mreturn\u001b[39;00m \u001b[38;5;28;01mNone\u001b[39;00m\n\u001b[1;32m--> 351\u001b[0m module \u001b[38;5;241m=\u001b[39m \u001b[43mimp\u001b[49m\u001b[38;5;241;43m.\u001b[39;49m\u001b[43mload_dynamic\u001b[49m\u001b[43m(\u001b[49m\u001b[43mmodule_name\u001b[49m\u001b[43m,\u001b[49m\u001b[43m \u001b[49m\u001b[43mmodule_path\u001b[49m\u001b[43m)\u001b[49m\n\u001b[0;32m    352\u001b[0m \u001b[38;5;28mself\u001b[39m\u001b[38;5;241m.\u001b[39m_import_all(module)\n\u001b[0;32m    354\u001b[0m \u001b[38;5;28;01mif\u001b[39;00m args\u001b[38;5;241m.\u001b[39mannotate:\n",
      "File \u001b[1;32m~\\anaconda3\\envs\\blockchainDev\\lib\\imp.py:342\u001b[0m, in \u001b[0;36mload_dynamic\u001b[1;34m(name, path, file)\u001b[0m\n\u001b[0;32m    338\u001b[0m \u001b[38;5;66;03m# Issue #24748: Skip the sys.modules check in _load_module_shim;\u001b[39;00m\n\u001b[0;32m    339\u001b[0m \u001b[38;5;66;03m# always load new extension\u001b[39;00m\n\u001b[0;32m    340\u001b[0m spec \u001b[38;5;241m=\u001b[39m importlib\u001b[38;5;241m.\u001b[39mmachinery\u001b[38;5;241m.\u001b[39mModuleSpec(\n\u001b[0;32m    341\u001b[0m     name\u001b[38;5;241m=\u001b[39mname, loader\u001b[38;5;241m=\u001b[39mloader, origin\u001b[38;5;241m=\u001b[39mpath)\n\u001b[1;32m--> 342\u001b[0m \u001b[38;5;28;01mreturn\u001b[39;00m \u001b[43m_load\u001b[49m\u001b[43m(\u001b[49m\u001b[43mspec\u001b[49m\u001b[43m)\u001b[49m\n",
      "File \u001b[1;32m<frozen importlib._bootstrap>:702\u001b[0m, in \u001b[0;36m_load\u001b[1;34m(spec)\u001b[0m\n",
      "File \u001b[1;32m<frozen importlib._bootstrap>:671\u001b[0m, in \u001b[0;36m_load_unlocked\u001b[1;34m(spec)\u001b[0m\n",
      "File \u001b[1;32m<frozen importlib._bootstrap_external>:1174\u001b[0m, in \u001b[0;36mexec_module\u001b[1;34m(self, module)\u001b[0m\n",
      "File \u001b[1;32m<frozen importlib._bootstrap>:219\u001b[0m, in \u001b[0;36m_call_with_frames_removed\u001b[1;34m(f, *args, **kwds)\u001b[0m\n",
      "File \u001b[1;32m_cython_magic_dfd5f325135e11b0329cb47fe1bc32c4.pyx:36\u001b[0m, in \u001b[0;36minit _cython_magic_dfd5f325135e11b0329cb47fe1bc32c4\u001b[1;34m()\u001b[0m\n",
      "File \u001b[1;32m_cython_magic_dfd5f325135e11b0329cb47fe1bc32c4.pyx:18\u001b[0m, in \u001b[0;36m_cython_magic_dfd5f325135e11b0329cb47fe1bc32c4.Card.__init__\u001b[1;34m()\u001b[0m\n",
      "\u001b[1;31mAttributeError\u001b[0m: '_cython_magic_dfd5f325135e11b0329cb47fe1bc32c4.Card' object has no attribute '_id'"
     ]
    }
   ],
   "source": [
    "%%cython\n",
    "import time\n",
    "import sys\n",
    "from random import randint\n",
    "import numpy as np\n",
    "cimport cython\n",
    "cimport numpy as cnp\n",
    "from libc.string cimport strcpy, strlen\n",
    "\n",
    "from libc.math cimport pow, sqrt,ceil\n",
    "\n",
    "\n",
    "cdef suit_sym = {3:'\\u2660', 2:'\\u2665', 1:'\\u2666', 0:'\\u2663'}\n",
    "cdef rank_sym = {0: \"2\", 1: '3', 2: '4', 3: '5', 4: '6', 5: '7', 6:'8', 7:'9', 8:'10', 9: 'J', 10:'Q', 11: 'K', 12:'A'}\n",
    "\n",
    "cdef class Card:\n",
    "    \n",
    "    def  __init__(self, n):\n",
    "        self._id = n\n",
    "        \n",
    "    def  rank(self):\n",
    "        return self._id % 13\n",
    "\n",
    "    def  suit(self):\n",
    "        return self._id // 13\n",
    "    \n",
    "    def  __repr__(self):\n",
    "        return Card.rank_sym[self.rank()] + Card.suit_sym[self.suit()]\n",
    "\n",
    "    def  __eq__(self, other):\n",
    "        return self._id == other._id\n",
    "        \n",
    "\n",
    "cdef new_deck():\n",
    "    return [Card(i) for i in range(52)]\n",
    "\n",
    "print([Card(i) for i in range(52)])"
   ]
  },
  {
   "cell_type": "code",
   "execution_count": null,
   "id": "0d943a27",
   "metadata": {},
   "outputs": [],
   "source": [
    "    "
   ]
  },
  {
   "cell_type": "code",
   "execution_count": null,
   "id": "36bc95b7",
   "metadata": {},
   "outputs": [],
   "source": [
    "    'An instance of the Card class is a single playing card.'\n",
    "\n",
    "suit_sym = {3:'\\u2660', 2:'\\u2665', 1:'\\u2666', 0:'\\u2663'}\n",
    "\n",
    "rank_sym = {0: \"2\", 1: '3', 2: '4', 3: '5', 4: '6', 5: '7', 6:'8', 7:'9', 8:'10', 9: 'J', 10:'Q', 11: 'K', 12:'A'}\n",
    "\n",
    "suit_num = dict(zip(suit_sym.values(), suit_sym.keys()))\n",
    "\n",
    "rank_num = dict(zip(rank_sym.values(), rank_sym.keys()))"
   ]
  },
  {
   "cell_type": "code",
   "execution_count": null,
   "id": "6b826cf2",
   "metadata": {},
   "outputs": [],
   "source": [
    "%%cython\n",
    "import time\n",
    "import sys\n",
    "from random import randint\n",
    "import numpy as np\n",
    "cimport cython\n",
    "cimport numpy as cnp\n",
    "from libc.string cimport strcpy, strlen\n",
    "\n",
    "from libc.math cimport pow, sqrt,ceil\n",
    "\n",
    "cdef suit_sym = {3:'\\u2660', 2:'\\u2665', 1:'\\u2666', 0:'\\u2663'}\n",
    "\n",
    "cdef rank_sym = {0: \"2\", 1: '3', 2: '4', 3: '5', 4: '6', 5: '7', 6:'8', 7:'9', 8:'10', 9: 'J', 10:'Q', 11: 'K', 12:'A'}\n",
    "\n",
    "cdef suit_num = dict(zip(suit_sym.values(), suit_sym.keys()))\n",
    "\n",
    "cdef rank_num = dict(zip(rank_sym.values(), rank_sym.keys()))\n",
    "\n",
    "cdef make_card(n):\n",
    "    try:\n",
    "        return Card(n)\n",
    "    except Exception as e:\n",
    "        print('invalid card:', e)\n",
    "        return None\n"
   ]
  },
  {
   "cell_type": "code",
   "execution_count": null,
   "id": "f19e90ed",
   "metadata": {},
   "outputs": [],
   "source": [
    "    "
   ]
  },
  {
   "cell_type": "code",
   "execution_count": null,
   "id": "e2a8371f",
   "metadata": {},
   "outputs": [],
   "source": []
  },
  {
   "cell_type": "code",
   "execution_count": 557,
   "id": "fa3a8eb0",
   "metadata": {},
   "outputs": [
    {
     "name": "stdout",
     "output_type": "stream",
     "text": [
      "[2, 9, 5, 1, 9, 4, 2, 7, 8, 2, 7, 8, 1, 7, 1, 2, 6, 5, 8, 6, 3]\n"
     ]
    }
   ],
   "source": [
    "%%cython\n",
    "import time\n",
    "import sys\n",
    "from random import randint\n",
    "import numpy as np\n",
    "cimport cython\n",
    "cimport numpy as cnp\n",
    "from libc.string cimport strcpy, strlen\n",
    "\n",
    "from libc.math cimport pow, sqrt,ceil\n",
    "\n",
    "\n",
    "a = [8, 1, 9, 2, 7, 5, 3, 8, 6, 7, 2, 4, 6, 2, 1, 8, 9, 1, 5, 7,2]\n",
    "        \n",
    "def permute(a):\n",
    "\n",
    "    \"Rearrange list a in a random order\"\n",
    "    for i in range(0,len(a)-1):\n",
    "        r = randint(i, len(a)-1)\n",
    "        a[i], a[r] = a[r], a[i]\n",
    "\n",
    "    print(a)\n",
    "        \n",
    "        \n",
    "        \n",
    "permute(a)"
   ]
  },
  {
   "cell_type": "code",
   "execution_count": null,
   "id": "b84ceffc",
   "metadata": {},
   "outputs": [],
   "source": []
  },
  {
   "cell_type": "code",
   "execution_count": null,
   "id": "cdec7dd8",
   "metadata": {},
   "outputs": [],
   "source": []
  },
  {
   "cell_type": "code",
   "execution_count": null,
   "id": "023b1dfe-210a-416f-8e6c-52de22b7809b",
   "metadata": {},
   "outputs": [],
   "source": []
  },
  {
   "cell_type": "markdown",
   "id": "fd8585c9-f425-405d-80c7-acf73c82bf51",
   "metadata": {},
   "source": [
    "# The Insertion Sort Algorithm \n",
    "\n",
    "## A Helper Function for Insertion Sort:\n",
    "\n",
    "This operation ia itself defined by an iterative algorithm.\n",
    "If i is the current location, we want to scan left from i -1 ands work back towards the beginning of the list.\n",
    "The scan stops when we find a smaller value or the front of the list.\n"
   ]
  },
  {
   "cell_type": "code",
   "execution_count": null,
   "id": "ed62380d",
   "metadata": {},
   "outputs": [],
   "source": []
  },
  {
   "cell_type": "markdown",
   "id": "d4e916d7",
   "metadata": {},
   "source": [
    "\n"
   ]
  },
  {
   "cell_type": "markdown",
   "id": "3c3cb54e",
   "metadata": {},
   "source": [
    "\n",
    "# Chapter 5 - Divide and Conquer\n",
    "\n",
    "### A new strategy: Breaking large problems into smaller subproblems"
   ]
  },
  {
   "cell_type": "markdown",
   "id": "5fb53bb6",
   "metadata": {},
   "source": [
    "\n",
    "A search algo known as binary search uses divide and conquer to look for an item in a list.\n",
    "    \"Binary\" comes from the fact that when the list is divided it is cut into two equals pieces.\n",
    "    \n",
    "Quicksort also uses divide and conquer strategy by breaking a list to be sorted into smaller lists \n",
    "and then sorting each sublist.\n"
   ]
  },
  {
   "cell_type": "code",
   "execution_count": null,
   "id": "2bd8cfff",
   "metadata": {},
   "outputs": [],
   "source": []
  },
  {
   "cell_type": "code",
   "execution_count": null,
   "id": "492e9c65",
   "metadata": {},
   "outputs": [],
   "source": [
    "\"\"\" \n",
    "The Merge Sort Algorithm \n",
    "Works by first diving the input list into several small chunks\n",
    "and the combining the chuncks into biggers and bigger groups until the final merged group includes the full list.\n",
    "The key step in the algo is an operation that merges two small groups that are already in order into a single bigger group\n",
    "\"\"\""
   ]
  },
  {
   "cell_type": "code",
   "execution_count": null,
   "id": "ec736c85",
   "metadata": {},
   "outputs": [],
   "source": []
  },
  {
   "cell_type": "code",
   "execution_count": null,
   "id": "dc769567",
   "metadata": {},
   "outputs": [],
   "source": [
    "# Recursive Functions \n",
    "\n",
    "\"\"\"\n",
    "Parameter passed to the recursive call must be different from the one passed as argumetns in the recursive call.\n",
    "Second recursive call needs to be inside an if statement that tests whether or not to make the call.\n",
    "The if statement checks to see if the problem is solved without a recursive call, is so the problem is solved without the recursive call\n",
    "otherwise it is futher divided and the pieces handed off to the recursive call.\n",
    "\"\"\"\n"
   ]
  },
  {
   "cell_type": "code",
   "execution_count": null,
   "id": "d134904d",
   "metadata": {},
   "outputs": [],
   "source": []
  },
  {
   "cell_type": "code",
   "execution_count": null,
   "id": "d774d663",
   "metadata": {},
   "outputs": [],
   "source": [
    "\n",
    "filename = \"./text/techinterviwe.txt\"\n",
    "\n",
    "\n",
    "f = open(filename)\n",
    "\n",
    "testList = f.readlines(100)"
   ]
  },
  {
   "cell_type": "code",
   "execution_count": null,
   "id": "88e84a95",
   "metadata": {},
   "outputs": [],
   "source": [
    "def filesize(fn):\n",
    "    'Count characters in file fn.'\n",
    "    nchars = 0 \n",
    "    for line in open(fn):\n",
    "        nchars += len(line)\n",
    "    return nchars\n",
    "\n",
    "filesize(filename)"
   ]
  },
  {
   "cell_type": "code",
   "execution_count": null,
   "id": "8b3a8f24",
   "metadata": {},
   "outputs": [],
   "source": []
  },
  {
   "cell_type": "code",
   "execution_count": null,
   "id": "32d8a626",
   "metadata": {},
   "outputs": [],
   "source": [
    "fileline = []\n",
    "\n",
    "def files(filename):\n",
    "    for line in open(filename):\n",
    "        fileline.append(line)\n",
    "        print(line, end='')\n",
    "\n",
    "\n",
    "filename = files(filename)"
   ]
  },
  {
   "cell_type": "code",
   "execution_count": null,
   "id": "0907d686",
   "metadata": {},
   "outputs": [],
   "source": [
    "testList = testList"
   ]
  },
  {
   "cell_type": "code",
   "execution_count": null,
   "id": "01ff26cb",
   "metadata": {},
   "outputs": [],
   "source": [
    "def wc(fn):\n",
    "    \"\"\"\n",
    "    Count the number of lines, words,\n",
    "    and characters in file fn.    \n",
    "    \"\"\"\n",
    "    nlines = nwords = nchars = 0\n",
    "    for line in open(fn):\n",
    "        nlines += 1\n",
    "        nwords += len(line.split())\n",
    "        nchars += len(line)\n",
    "    return nlines, nwords, nchars"
   ]
  },
  {
   "cell_type": "code",
   "execution_count": null,
   "id": "50f7ccca",
   "metadata": {},
   "outputs": [],
   "source": [
    "wc(filename)"
   ]
  },
  {
   "cell_type": "code",
   "execution_count": null,
   "id": "5422371c",
   "metadata": {},
   "outputs": [],
   "source": [
    "filename = \"./text/techinterviwe.txt\"\n",
    "\n",
    "\n",
    "f = open(filename)\n",
    "\n",
    "sS = f.readline()"
   ]
  },
  {
   "cell_type": "code",
   "execution_count": null,
   "id": "6cdc4e70",
   "metadata": {},
   "outputs": [],
   "source": []
  },
  {
   "cell_type": "code",
   "execution_count": null,
   "id": "d6624ff4",
   "metadata": {},
   "outputs": [],
   "source": []
  },
  {
   "cell_type": "code",
   "execution_count": null,
   "id": "eaf38821",
   "metadata": {},
   "outputs": [],
   "source": []
  },
  {
   "cell_type": "code",
   "execution_count": null,
   "id": "da463c94",
   "metadata": {},
   "outputs": [],
   "source": []
  },
  {
   "cell_type": "code",
   "execution_count": null,
   "id": "dc1a7814",
   "metadata": {},
   "outputs": [],
   "source": [
    "# Filtering Spam\n",
    "\n",
    "def spamicity(w, pbad, pgood):\n",
    "    '''\n",
    "    Compute the prob a message is spam when it contains a word w.\n",
    "    The dictionary pbad and pgood hold p(w|spam) and p(w|good), repecctively.\n",
    "    '''\n",
    "\n",
    "    if w in pbad and w in pgood:\n",
    "        return pbad[w] / ( pbad[w] + pgood[w] )\n",
    "    else:\n",
    "        return None\n",
    "        "
   ]
  },
  {
   "cell_type": "code",
   "execution_count": null,
   "id": "1aa2cb9f",
   "metadata": {},
   "outputs": [],
   "source": []
  },
  {
   "cell_type": "code",
   "execution_count": null,
   "id": "e213b5d7",
   "metadata": {},
   "outputs": [],
   "source": []
  },
  {
   "cell_type": "code",
   "execution_count": null,
   "id": "0357ebec",
   "metadata": {},
   "outputs": [],
   "source": []
  },
  {
   "cell_type": "code",
   "execution_count": null,
   "id": "a2a93832",
   "metadata": {},
   "outputs": [],
   "source": []
  },
  {
   "cell_type": "code",
   "execution_count": null,
   "id": "9e122a08",
   "metadata": {},
   "outputs": [],
   "source": [
    "def __init__(self, arg1, arg2 = None):\n",
    "        if type(arg1) == int:\n",
    "            if arg1 in range(0,52):\n",
    "                self._id = arg1\n",
    "        else:\n",
    "            raise Exception('Card number must be between 0 and 51')\n",
    "            elif arg1 in Card.rank_num and arg2 in Card.suit_num:\n",
    "                self._id = Card.rank_num[arg1] + 13 * Card.suit_num[arg2]\n",
    "        else:\n",
    "            raise Exception('Expected Card(n) or Card(\"rank\", \"suit\")')"
   ]
  }
 ],
 "metadata": {
  "interpreter": {
   "hash": "9ae16ef445867c3ddd8a030e03f508a31c88ab57810e24e3a3afaf36f09532d0"
  },
  "kernelspec": {
   "display_name": "Python 3 (ipykernel)",
   "language": "python",
   "name": "python3"
  },
  "language_info": {
   "codemirror_mode": {
    "name": "ipython",
    "version": 3
   },
   "file_extension": ".py",
   "mimetype": "text/x-python",
   "name": "python",
   "nbconvert_exporter": "python",
   "pygments_lexer": "ipython3",
   "version": "3.8.13"
  }
 },
 "nbformat": 4,
 "nbformat_minor": 5
}
