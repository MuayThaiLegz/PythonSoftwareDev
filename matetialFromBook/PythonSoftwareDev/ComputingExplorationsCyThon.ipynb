{
 "cells": [
  {
   "cell_type": "code",
   "execution_count": null,
   "id": "63596d9a-007c-4577-8ce6-17808c20a632",
   "metadata": {},
   "outputs": [],
   "source": []
  },
  {
   "cell_type": "code",
   "execution_count": 152,
   "id": "9a67fca0",
   "metadata": {},
   "outputs": [
    {
     "name": "stdout",
     "output_type": "stream",
     "text": [
      "The Cython extension is already loaded. To reload it, use:\n",
      "  %reload_ext Cython\n"
     ]
    }
   ],
   "source": [
    "%load_ext Cython"
   ]
  },
  {
   "cell_type": "code",
   "execution_count": 153,
   "id": "d67aec57",
   "metadata": {},
   "outputs": [
    {
     "name": "stdout",
     "output_type": "stream",
     "text": [
      "         800005 function calls in 0.247 seconds\n",
      "\n",
      "   Ordered by: internal time\n",
      "\n",
      "   ncalls  tottime  percall  cumtime  percall filename:lineno(function)\n",
      "   400000    0.104    0.000    0.149    0.000 2678769807.py:12(sin2)\n",
      "        1    0.098    0.098    0.247    0.247 2678769807.py:5(integrate)\n",
      "   400000    0.046    0.000    0.046    0.000 {built-in method math.sin}\n",
      "        1    0.000    0.000    0.247    0.247 {built-in method builtins.exec}\n",
      "        1    0.000    0.000    0.247    0.247 2678769807.py:15(main)\n",
      "        1    0.000    0.000    0.247    0.247 <string>:1(<module>)\n",
      "        1    0.000    0.000    0.000    0.000 {method 'disable' of '_lsprof.Profiler' objects}\n",
      "\n",
      "\n"
     ]
    }
   ],
   "source": [
    "from math import pi, sin\n",
    "import pyximport; pyximport.install()\n",
    "\n",
    "\n",
    "def integrate(a, b, f, N=2000):\n",
    "    dx = (b-a)/N\n",
    "    s = 0.0\n",
    "    for i in range(N):\n",
    "        s += f(a+i*dx)\n",
    "    return s * dx\n",
    "\n",
    "def sin2(x=55):\n",
    "    return sin(x)**2\n",
    "\n",
    "def main():\n",
    "    a, b = 0.0, 2.0 * pi\n",
    "    return integrate(a, b, sin2, N=400000)\n",
    "\n",
    "import cProfile\n",
    "cProfile.run('main()', sort='time')    "
   ]
  },
  {
   "cell_type": "code",
   "execution_count": 154,
   "id": "4fea92cc",
   "metadata": {},
   "outputs": [
    {
     "name": "stdout",
     "output_type": "stream",
     "text": [
      "143 ms ± 964 µs per loop (mean ± std. dev. of 7 runs, 10 loops each)\n"
     ]
    }
   ],
   "source": [
    "%timeit main()"
   ]
  },
  {
   "cell_type": "code",
   "execution_count": 155,
   "id": "9286e656",
   "metadata": {},
   "outputs": [
    {
     "name": "stdout",
     "output_type": "stream",
     "text": [
      "144 ms ± 2.47 ms per loop (mean ± std. dev. of 7 runs, 10 loops each)\n"
     ]
    }
   ],
   "source": [
    "%%timeit \n",
    "main()"
   ]
  },
  {
   "cell_type": "code",
   "execution_count": null,
   "id": "058b32cb",
   "metadata": {},
   "outputs": [],
   "source": []
  },
  {
   "cell_type": "code",
   "execution_count": 156,
   "id": "55486de1",
   "metadata": {},
   "outputs": [],
   "source": [
    "%%cython\n",
    "import cython\n",
    "\n",
    "import pyximport; pyximport.install()\n",
    "from math import pi\n",
    "# cython: profile=True\n",
    "\n",
    "# math.h `sin`, at compile time:\n",
    "from libc.math cimport sin\n",
    "\n",
    "# Pure-Python `sin`, at runtime:\n",
    "# from math import sin\n",
    "\n",
    "def sin2(x):\n",
    "    return sin(x)**2\n",
    "\n",
    "def integrate(double a, double b, f, int N=2000):\n",
    "    cdef:\n",
    "        int i\n",
    "        double dx = (b-a)/N\n",
    "        double s = 0.0\n",
    "    for i in range(N):\n",
    "        s += f(a+i*dx)\n",
    "    return s * dx\n",
    "\n",
    "def Cain():\n",
    "    a, b = 0.0, 2.0 * pi\n",
    "    return integrate(a, b, sin2, N=400000)"
   ]
  },
  {
   "cell_type": "code",
   "execution_count": 157,
   "id": "5b40ac79",
   "metadata": {},
   "outputs": [
    {
     "name": "stdout",
     "output_type": "stream",
     "text": [
      "32.3 ms ± 840 µs per loop (mean ± std. dev. of 7 runs, 10 loops each)\n"
     ]
    }
   ],
   "source": [
    "%timeit Cain()"
   ]
  },
  {
   "cell_type": "code",
   "execution_count": 158,
   "id": "15781418",
   "metadata": {},
   "outputs": [
    {
     "name": "stdout",
     "output_type": "stream",
     "text": [
      "31.8 ms ± 361 µs per loop (mean ± std. dev. of 7 runs, 10 loops each)\n"
     ]
    }
   ],
   "source": [
    "%%timeit \n",
    "Cain()"
   ]
  },
  {
   "cell_type": "code",
   "execution_count": 159,
   "id": "28367605",
   "metadata": {},
   "outputs": [
    {
     "name": "stdout",
     "output_type": "stream",
     "text": [
      "         4 function calls in 0.033 seconds\n",
      "\n",
      "   Ordered by: internal time\n",
      "\n",
      "   ncalls  tottime  percall  cumtime  percall filename:lineno(function)\n",
      "        1    0.033    0.033    0.033    0.033 {_cython_magic_185777e93dee5c8e087c13666665bec6.Cain}\n",
      "        1    0.000    0.000    0.033    0.033 <string>:1(<module>)\n",
      "        1    0.000    0.000    0.033    0.033 {built-in method builtins.exec}\n",
      "        1    0.000    0.000    0.000    0.000 {method 'disable' of '_lsprof.Profiler' objects}\n",
      "\n",
      "\n"
     ]
    }
   ],
   "source": [
    "if __name__ == '__main__':\n",
    "    import cProfile\n",
    "    cProfile.run('Cain()', sort='time')"
   ]
  },
  {
   "cell_type": "code",
   "execution_count": null,
   "id": "17fa909e-c5f1-4d4e-a6fc-19a4d360646a",
   "metadata": {},
   "outputs": [],
   "source": []
  },
  {
   "cell_type": "code",
   "execution_count": null,
   "id": "9fe135ff",
   "metadata": {},
   "outputs": [],
   "source": []
  },
  {
   "cell_type": "code",
   "execution_count": 160,
   "id": "d579f763",
   "metadata": {},
   "outputs": [],
   "source": [
    "%%cython\n",
    "import cython\n",
    "import cProfile\n",
    "\n",
    "import pyximport; pyximport.install()\n",
    "from math import pi\n",
    "# cython: profile=True\n",
    "\n",
    "# math.h `sin`, at compile time:\n",
    "from libc.math cimport sin\n",
    "\n",
    "# Pure-Python `sin`, at runtime:\n",
    "# from math import sin\n",
    "\n",
    "def integrate(a, b, f, N=2000):\n",
    "    dx = (b-a)/N\n",
    "    s = 0.0\n",
    "    for i in range(N):\n",
    "        s += f(a+i*dx)\n",
    "    return s * dx\n",
    "\n",
    "def CYmain():\n",
    "    a, b = 0.0, 2.0 * pi\n",
    "    return integrate(a, b, sin, N=400000)"
   ]
  },
  {
   "cell_type": "code",
   "execution_count": 161,
   "id": "72de2f68",
   "metadata": {},
   "outputs": [
    {
     "name": "stdout",
     "output_type": "stream",
     "text": [
      "41.3 ms ± 747 µs per loop (mean ± std. dev. of 7 runs, 10 loops each)\n"
     ]
    }
   ],
   "source": [
    "%timeit CYmain() "
   ]
  },
  {
   "cell_type": "code",
   "execution_count": 162,
   "id": "033dd81e",
   "metadata": {},
   "outputs": [
    {
     "name": "stdout",
     "output_type": "stream",
     "text": [
      "41.4 ms ± 702 µs per loop (mean ± std. dev. of 7 runs, 10 loops each)\n"
     ]
    }
   ],
   "source": [
    "%%timeit \n",
    "CYmain()"
   ]
  },
  {
   "cell_type": "code",
   "execution_count": 163,
   "id": "f44d9b85",
   "metadata": {},
   "outputs": [
    {
     "name": "stdout",
     "output_type": "stream",
     "text": [
      "         4 function calls in 0.043 seconds\n",
      "\n",
      "   Ordered by: internal time\n",
      "\n",
      "   ncalls  tottime  percall  cumtime  percall filename:lineno(function)\n",
      "        1    0.042    0.042    0.042    0.042 {_cython_magic_79db3d24c1bd89184beeb14fb25c32b5.CYmain}\n",
      "        1    0.000    0.000    0.043    0.043 <string>:1(<module>)\n",
      "        1    0.000    0.000    0.043    0.043 {built-in method builtins.exec}\n",
      "        1    0.000    0.000    0.000    0.000 {method 'disable' of '_lsprof.Profiler' objects}\n",
      "\n",
      "\n"
     ]
    }
   ],
   "source": [
    "if __name__ == '__main__':\n",
    "    import cProfile\n",
    "    cProfile.run('CYmain()', sort='time')"
   ]
  },
  {
   "cell_type": "code",
   "execution_count": null,
   "id": "a02aa8cf",
   "metadata": {},
   "outputs": [],
   "source": []
  },
  {
   "cell_type": "code",
   "execution_count": null,
   "id": "28c00b9e-87c6-414a-9e76-30f7c8aadeb7",
   "metadata": {},
   "outputs": [],
   "source": []
  },
  {
   "cell_type": "code",
   "execution_count": 164,
   "id": "26ae37d5",
   "metadata": {},
   "outputs": [
    {
     "name": "stdout",
     "output_type": "stream",
     "text": [
      "         4 function calls in 0.000 seconds\n",
      "\n",
      "   Ordered by: internal time\n",
      "\n",
      "   ncalls  tottime  percall  cumtime  percall filename:lineno(function)\n",
      "        1    0.000    0.000    0.000    0.000 {built-in method builtins.exec}\n",
      "        1    0.000    0.000    0.000    0.000 2358434335.py:1(countertop)\n",
      "        1    0.000    0.000    0.000    0.000 <string>:1(<module>)\n",
      "        1    0.000    0.000    0.000    0.000 {method 'disable' of '_lsprof.Profiler' objects}\n",
      "\n",
      "\n"
     ]
    }
   ],
   "source": [
    "def countertop(x):\n",
    "    square = x ** 2 # area of the full squar    \n",
    "    triangle = ((x / 2 ) ** 2) / 2  # area of the misssing wedge \n",
    "    \n",
    "    return square - triangle\n",
    "\n",
    "cProfile.run('countertop(55)', sort='time')\n"
   ]
  },
  {
   "cell_type": "code",
   "execution_count": 165,
   "id": "1d982c69-4865-4dc9-aa01-9f537ef2166f",
   "metadata": {},
   "outputs": [
    {
     "name": "stdout",
     "output_type": "stream",
     "text": [
      "514 ns ± 7.41 ns per loop (mean ± std. dev. of 7 runs, 1,000,000 loops each)\n"
     ]
    }
   ],
   "source": [
    "%timeit countertop(20)"
   ]
  },
  {
   "cell_type": "code",
   "execution_count": 166,
   "id": "0f06006c",
   "metadata": {},
   "outputs": [
    {
     "name": "stdout",
     "output_type": "stream",
     "text": [
      "519 ns ± 13.3 ns per loop (mean ± std. dev. of 7 runs, 1,000,000 loops each)\n"
     ]
    }
   ],
   "source": [
    "%%timeit \n",
    "countertop(20)"
   ]
  },
  {
   "cell_type": "code",
   "execution_count": null,
   "id": "02ef7dd1",
   "metadata": {},
   "outputs": [],
   "source": []
  },
  {
   "cell_type": "code",
   "execution_count": null,
   "id": "b692586d",
   "metadata": {},
   "outputs": [],
   "source": [
    "%%cython\n",
    "import cython\n",
    "import cProfile\n",
    "\n",
    "import pyximport; pyximport.install()\n",
    "from math import pi\n",
    "# cython: profile=True\n",
    "\n",
    "# math.h `sin`, at compile time:\n",
    "from libc.math cimport sin\n",
    "\n",
    "# Pure-Python `sin`, at runtime:\n",
    "# from math import sin\n",
    "def Ccountertop(int x):\n",
    "    \n",
    "    square = x ** 2 # area of the full square\n",
    "    \n",
    "    triangle = ((x / 2 ) ** 2) / 2  # area of the misssing wedge \n",
    "    \n",
    "    return square - triangle"
   ]
  },
  {
   "cell_type": "code",
   "execution_count": 169,
   "id": "fa75adbb",
   "metadata": {},
   "outputs": [
    {
     "name": "stdout",
     "output_type": "stream",
     "text": [
      "         4 function calls in 0.000 seconds\n",
      "\n",
      "   Ordered by: internal time\n",
      "\n",
      "   ncalls  tottime  percall  cumtime  percall filename:lineno(function)\n",
      "        1    0.000    0.000    0.000    0.000 {built-in method builtins.exec}\n",
      "        1    0.000    0.000    0.000    0.000 {_cython_magic_1fda66c0787897588792c72d24964708.Ccountertop}\n",
      "        1    0.000    0.000    0.000    0.000 <string>:1(<module>)\n",
      "        1    0.000    0.000    0.000    0.000 {method 'disable' of '_lsprof.Profiler' objects}\n",
      "\n",
      "\n"
     ]
    }
   ],
   "source": [
    "if __name__ == '__main__':\n",
    "    import cProfile\n",
    "    cProfile.run('Ccountertop(20)', sort='time')"
   ]
  },
  {
   "cell_type": "code",
   "execution_count": 22,
   "id": "3d2427d8",
   "metadata": {},
   "outputs": [
    {
     "name": "stdout",
     "output_type": "stream",
     "text": [
      "139 ns ± 12.8 ns per loop (mean ± std. dev. of 7 runs, 10,000,000 loops each)\n"
     ]
    }
   ],
   "source": [
    "%timeit Ccountertop(20) "
   ]
  },
  {
   "cell_type": "code",
   "execution_count": 23,
   "id": "bae332a1",
   "metadata": {},
   "outputs": [
    {
     "name": "stdout",
     "output_type": "stream",
     "text": [
      "129 ns ± 5.93 ns per loop (mean ± std. dev. of 7 runs, 10,000,000 loops each)\n"
     ]
    }
   ],
   "source": [
    "%%timeit \n",
    "Ccountertop(20)"
   ]
  },
  {
   "cell_type": "code",
   "execution_count": null,
   "id": "ef83f5aa",
   "metadata": {
    "scrolled": true
   },
   "outputs": [],
   "source": []
  },
  {
   "cell_type": "code",
   "execution_count": 170,
   "id": "7ad903fc",
   "metadata": {},
   "outputs": [],
   "source": [
    "%%cython\n",
    "import cython\n",
    "import cProfile\n",
    "\n",
    "import pyximport; pyximport.install()\n",
    "from math import pi\n",
    "# cython: profile=True\n",
    "\n",
    "# math.h `sin`, at compile time:\n",
    "from libc.math cimport sin\n",
    "\n",
    "# Pure-Python `sin`, at runtime:\n",
    "# from math import sin\n",
    "\n",
    "\n",
    "def add():\n",
    "    Pargs = [i for i in range(50000)]\n",
    "    total = 0\n",
    "    for x in Pargs:\n",
    "        total += x\n",
    "    return total"
   ]
  },
  {
   "cell_type": "code",
   "execution_count": null,
   "id": "76f189f9",
   "metadata": {},
   "outputs": [],
   "source": []
  },
  {
   "cell_type": "code",
   "execution_count": 172,
   "id": "2891bf34",
   "metadata": {},
   "outputs": [
    {
     "name": "stdout",
     "output_type": "stream",
     "text": [
      "         4 function calls in 0.002 seconds\n",
      "\n",
      "   Ordered by: internal time\n",
      "\n",
      "   ncalls  tottime  percall  cumtime  percall filename:lineno(function)\n",
      "        1    0.002    0.002    0.002    0.002 {_cython_magic_23420685f2386c74ba7e92deab3c11bb.add}\n",
      "        1    0.000    0.000    0.002    0.002 {built-in method builtins.exec}\n",
      "        1    0.000    0.000    0.002    0.002 <string>:1(<module>)\n",
      "        1    0.000    0.000    0.000    0.000 {method 'disable' of '_lsprof.Profiler' objects}\n",
      "\n",
      "\n"
     ]
    }
   ],
   "source": [
    "if __name__ == '__main__':\n",
    "    import cProfile\n",
    "    cProfile.run('add()', sort='time')"
   ]
  },
  {
   "cell_type": "code",
   "execution_count": 173,
   "id": "2a797674",
   "metadata": {},
   "outputs": [
    {
     "name": "stdout",
     "output_type": "stream",
     "text": [
      "1.77 ms ± 34 µs per loop (mean ± std. dev. of 7 runs, 1,000 loops each)\n"
     ]
    }
   ],
   "source": [
    "%timeit add() "
   ]
  },
  {
   "cell_type": "code",
   "execution_count": 180,
   "id": "2f4c1501",
   "metadata": {},
   "outputs": [
    {
     "name": "stdout",
     "output_type": "stream",
     "text": [
      "1.98 ms ± 142 µs per loop (mean ± std. dev. of 7 runs, 100 loops each)\n"
     ]
    }
   ],
   "source": [
    "%%timeit\n",
    "add() "
   ]
  },
  {
   "cell_type": "code",
   "execution_count": null,
   "id": "beaa9cdc",
   "metadata": {},
   "outputs": [],
   "source": []
  },
  {
   "cell_type": "code",
   "execution_count": 179,
   "id": "a2baaf00",
   "metadata": {},
   "outputs": [],
   "source": [
    "%%cython\n",
    "import cython\n",
    "import cProfile\n",
    "\n",
    "import pyximport; pyximport.install()\n",
    "from math import pi\n",
    "# cython: profile=True\n",
    "# math.h `sin`, at compile time:\n",
    "from libc.math cimport sin\n",
    "\n",
    "# Pure-Python `sin`, at runtime:\n",
    "# from math import sin\n",
    "\n",
    "\n",
    "def Cdd():\n",
    "    cdef Cargs = [i for i in range(50000)]\n",
    "    cdef int total = 0\n",
    "    for x in Cargs:\n",
    "        total += x\n",
    "    return total\n",
    "\n",
    "\n"
   ]
  },
  {
   "cell_type": "code",
   "execution_count": 176,
   "id": "6b192c4e",
   "metadata": {},
   "outputs": [
    {
     "name": "stdout",
     "output_type": "stream",
     "text": [
      "         4 function calls in 0.003 seconds\n",
      "\n",
      "   Ordered by: internal time\n",
      "\n",
      "   ncalls  tottime  percall  cumtime  percall filename:lineno(function)\n",
      "        1    0.003    0.003    0.003    0.003 {_cython_magic_f186f0123e5b3a7278124fb08e29ab64.Cdd}\n",
      "        1    0.000    0.000    0.003    0.003 {built-in method builtins.exec}\n",
      "        1    0.000    0.000    0.003    0.003 <string>:1(<module>)\n",
      "        1    0.000    0.000    0.000    0.000 {method 'disable' of '_lsprof.Profiler' objects}\n",
      "\n",
      "\n"
     ]
    }
   ],
   "source": [
    "if __name__ == '__main__':\n",
    "    import cProfile\n",
    "    cProfile.run('Cdd()', sort='time')"
   ]
  },
  {
   "cell_type": "code",
   "execution_count": 177,
   "id": "29c52f57",
   "metadata": {},
   "outputs": [
    {
     "name": "stdout",
     "output_type": "stream",
     "text": [
      "2.74 ms ± 162 µs per loop (mean ± std. dev. of 7 runs, 100 loops each)\n"
     ]
    }
   ],
   "source": [
    "%timeit Cdd()"
   ]
  },
  {
   "cell_type": "code",
   "execution_count": 178,
   "id": "a075c83a",
   "metadata": {},
   "outputs": [
    {
     "name": "stdout",
     "output_type": "stream",
     "text": [
      "2.65 ms ± 204 µs per loop (mean ± std. dev. of 7 runs, 100 loops each)\n"
     ]
    }
   ],
   "source": [
    "%%timeit \n",
    "Cdd()"
   ]
  },
  {
   "cell_type": "code",
   "execution_count": null,
   "id": "309ae9b6",
   "metadata": {},
   "outputs": [],
   "source": []
  },
  {
   "cell_type": "code",
   "execution_count": null,
   "id": "133b9c00",
   "metadata": {},
   "outputs": [],
   "source": [
    "def add3(x,y,z):\n",
    "    return x + y + z\n",
    "\n",
    "print(add3(415645646, 500, 6514654))"
   ]
  },
  {
   "cell_type": "code",
   "execution_count": 59,
   "id": "ef00d878",
   "metadata": {},
   "outputs": [
    {
     "name": "stdout",
     "output_type": "stream",
     "text": [
      "         4 function calls in 0.000 seconds\n",
      "\n",
      "   Ordered by: internal time\n",
      "\n",
      "   ncalls  tottime  percall  cumtime  percall filename:lineno(function)\n",
      "        1    0.000    0.000    0.000    0.000 {built-in method builtins.exec}\n",
      "        1    0.000    0.000    0.000    0.000 <string>:1(<module>)\n",
      "        1    0.000    0.000    0.000    0.000 2917471247.py:1(add3)\n",
      "        1    0.000    0.000    0.000    0.000 {method 'disable' of '_lsprof.Profiler' objects}\n",
      "\n",
      "\n"
     ]
    }
   ],
   "source": [
    "if __name__ == '__main__':\n",
    "    import cProfile\n",
    "    cProfile.run('add3(100, 500, 6514654)', sort='time')"
   ]
  },
  {
   "cell_type": "code",
   "execution_count": 60,
   "id": "9edda05f",
   "metadata": {},
   "outputs": [
    {
     "name": "stdout",
     "output_type": "stream",
     "text": [
      "163 ns ± 20.3 ns per loop (mean ± std. dev. of 7 runs, 10,000,000 loops each)\n"
     ]
    }
   ],
   "source": [
    "%timeit add3(415645646, 500, 6514654)"
   ]
  },
  {
   "cell_type": "code",
   "execution_count": 61,
   "id": "946f24e2",
   "metadata": {},
   "outputs": [
    {
     "name": "stdout",
     "output_type": "stream",
     "text": [
      "149 ns ± 5.84 ns per loop (mean ± std. dev. of 7 runs, 10,000,000 loops each)\n"
     ]
    }
   ],
   "source": [
    "%%timeit \n",
    "add3(415645646, 500, 6514654)"
   ]
  },
  {
   "cell_type": "code",
   "execution_count": null,
   "id": "6fb61447",
   "metadata": {},
   "outputs": [],
   "source": []
  },
  {
   "cell_type": "code",
   "execution_count": 58,
   "id": "fa575b9c",
   "metadata": {},
   "outputs": [
    {
     "name": "stdout",
     "output_type": "stream",
     "text": [
      "422160800\n"
     ]
    }
   ],
   "source": []
  },
  {
   "cell_type": "code",
   "execution_count": 54,
   "id": "ba82e9ef",
   "metadata": {},
   "outputs": [
    {
     "name": "stdout",
     "output_type": "stream",
     "text": [
      "422160800\n"
     ]
    }
   ],
   "source": [
    "%%cython\n",
    "import cython\n",
    "import cProfile\n",
    "\n",
    "import pyximport; pyximport.install()\n",
    "from math import pi\n",
    "# cython: profile=True\n",
    "# math.h `sin`, at compile time:\n",
    "from libc.math cimport sin\n",
    "\n",
    "# Pure-Python `sin`, at runtime:\n",
    "# from math import sin\n",
    "\n",
    "def add3CY(int x,int y, int z):\n",
    "    return x + y + z\n",
    "\n",
    "print(add3CY(415645646, 500, 6514654))"
   ]
  },
  {
   "cell_type": "code",
   "execution_count": 55,
   "id": "eef35b04",
   "metadata": {},
   "outputs": [
    {
     "name": "stdout",
     "output_type": "stream",
     "text": [
      "         4 function calls in 0.000 seconds\n",
      "\n",
      "   Ordered by: internal time\n",
      "\n",
      "   ncalls  tottime  percall  cumtime  percall filename:lineno(function)\n",
      "        1    0.000    0.000    0.000    0.000 {built-in method builtins.exec}\n",
      "        1    0.000    0.000    0.000    0.000 <string>:1(<module>)\n",
      "        1    0.000    0.000    0.000    0.000 {_cython_magic_e26a5195e6fb9bf14334062af2dd069b.add3CY}\n",
      "        1    0.000    0.000    0.000    0.000 {method 'disable' of '_lsprof.Profiler' objects}\n",
      "\n",
      "\n"
     ]
    }
   ],
   "source": [
    "if __name__ == '__main__':\n",
    "    import cProfile\n",
    "    cProfile.run('add3CY(100, 500, 6514654)', sort='time')"
   ]
  },
  {
   "cell_type": "code",
   "execution_count": 56,
   "id": "10eea182",
   "metadata": {},
   "outputs": [
    {
     "name": "stdout",
     "output_type": "stream",
     "text": [
      "101 ns ± 4.28 ns per loop (mean ± std. dev. of 7 runs, 10,000,000 loops each)\n"
     ]
    }
   ],
   "source": [
    "%timeit add3CY(415645646, 500, 6514654)"
   ]
  },
  {
   "cell_type": "code",
   "execution_count": 57,
   "id": "b316a0fe",
   "metadata": {},
   "outputs": [
    {
     "name": "stdout",
     "output_type": "stream",
     "text": [
      "101 ns ± 2.22 ns per loop (mean ± std. dev. of 7 runs, 10,000,000 loops each)\n"
     ]
    }
   ],
   "source": [
    "%%timeit\n",
    "add3CY(415645646, 500, 6514654)\n"
   ]
  },
  {
   "cell_type": "code",
   "execution_count": null,
   "id": "6a24424b",
   "metadata": {},
   "outputs": [],
   "source": []
  },
  {
   "cell_type": "code",
   "execution_count": null,
   "id": "6dd98136",
   "metadata": {},
   "outputs": [],
   "source": []
  },
  {
   "cell_type": "code",
   "execution_count": 197,
   "id": "32df45bd",
   "metadata": {},
   "outputs": [],
   "source": [
    "%%cython\n",
    "import cython\n",
    "import cProfile\n",
    "\n",
    "import pyximport; pyximport.install()\n",
    "from math import pi\n",
    "# cython: profile=True\n",
    "# math.h `sin`, at compile time:\n",
    "from libc.math cimport sin\n",
    "\n",
    "# Pure-Python `sin`, at runtime:\n",
    "# from math import sin\n",
    "import time\n",
    "import sys\n",
    "\n",
    "cimport cython\n",
    "cimport numpy as cnp\n",
    "\n",
    "from libc.math cimport pow, sqrt\n",
    "\n",
    "\n",
    "cdef list mileages = [1331.5415, 19.564564, 12.4554685, 15.5466, 9.16545641564]\n",
    "\n",
    "def partial_total(mileages):\n",
    "    cdef float i  \n",
    "    for i in mileages:\n",
    "        print(i ** 2)\n",
    "        \n",
    "print(partial_total(mileages))\n",
    "\n",
    "\n",
    "\n",
    "def subtract(mileages):\n",
    "    return (mileages[0] - mileages[-1], mileages[-2] - mileages[-4])\n",
    "\n",
    "def length(mileages):\n",
    "    return sqrt(mileages[0]**2 + mileages[1]**2)\n",
    "\n",
    "\n",
    "def add(mileages):\n",
    "    return (mileages[0] + mileages[0], mileages[1] + mileages[1])\n",
    "\n",
    "\n",
    "def distanceC(mileages):\n",
    "    return length(subtract(mileages))\n",
    "\n",
    "\n",
    "print(distanceC(mileages))\n",
    "   "
   ]
  },
  {
   "cell_type": "code",
   "execution_count": 198,
   "id": "ba053f7e",
   "metadata": {},
   "outputs": [
    {
     "name": "stdout",
     "output_type": "stream",
     "text": [
      "         4 function calls in 0.000 seconds\n",
      "\n",
      "   Ordered by: internal time\n",
      "\n",
      "   ncalls  tottime  percall  cumtime  percall filename:lineno(function)\n",
      "        1    0.000    0.000    0.000    0.000 {built-in method builtins.exec}\n",
      "        1    0.000    0.000    0.000    0.000 {_cython_magic_f494832cdeb6407eb445d3b4d69c2699.distanceC}\n",
      "        1    0.000    0.000    0.000    0.000 <string>:1(<module>)\n",
      "        1    0.000    0.000    0.000    0.000 {method 'disable' of '_lsprof.Profiler' objects}\n",
      "\n",
      "\n"
     ]
    }
   ],
   "source": [
    "if __name__ == '__main__':\n",
    "    import cProfile\n",
    "    cProfile.run('distanceC(mileages)', sort='time')"
   ]
  },
  {
   "cell_type": "code",
   "execution_count": 199,
   "id": "f7d14f57",
   "metadata": {},
   "outputs": [
    {
     "name": "stdout",
     "output_type": "stream",
     "text": [
      "382 ns ± 4.07 ns per loop (mean ± std. dev. of 7 runs, 1,000,000 loops each)\n"
     ]
    }
   ],
   "source": [
    "%timeit distanceC(mileages)"
   ]
  },
  {
   "cell_type": "code",
   "execution_count": 200,
   "id": "a75b4a2e",
   "metadata": {},
   "outputs": [
    {
     "name": "stdout",
     "output_type": "stream",
     "text": [
      "386 ns ± 9.08 ns per loop (mean ± std. dev. of 7 runs, 1,000,000 loops each)\n"
     ]
    }
   ],
   "source": [
    "%%timeit \n",
    "distanceC(mileages)"
   ]
  },
  {
   "cell_type": "code",
   "execution_count": null,
   "id": "e791161b",
   "metadata": {},
   "outputs": [],
   "source": []
  },
  {
   "cell_type": "code",
   "execution_count": null,
   "id": "b433e016",
   "metadata": {},
   "outputs": [],
   "source": [
    "def retSeive(n):\n",
    "    worksheet = [None, None] + list(range(2,n))\n",
    "    return worksheet\n",
    "\n",
    "worksheet  = retSeive(12)"
   ]
  },
  {
   "cell_type": "code",
   "execution_count": null,
   "id": "261c6127",
   "metadata": {},
   "outputs": [],
   "source": [
    "%%cython\n",
    "\n",
    "cdef CretSeive(int n):\n",
    "    cdef worksheet = [None, None] + list(range(2,n))\n",
    "    return worksheet\n",
    "\n",
    "\n",
    "print(CretSeive(12))"
   ]
  },
  {
   "cell_type": "code",
   "execution_count": null,
   "id": "13563efb",
   "metadata": {},
   "outputs": [],
   "source": [
    "%%cython\n",
    "\n",
    "cdef Cyfib(int n):\n",
    "    cdef double a=0.0, b=1.0\n",
    "    for i in range(n):\n",
    "        a, b = a + b, a\n",
    "    return a"
   ]
  },
  {
   "cell_type": "code",
   "execution_count": null,
   "id": "e9ffc91d",
   "metadata": {},
   "outputs": [],
   "source": []
  },
  {
   "cell_type": "code",
   "execution_count": null,
   "id": "84f75f56",
   "metadata": {},
   "outputs": [],
   "source": [
    "def celsisus(f):\n",
    "    \"Convert temperature f from Fahrenheit to Celsius\"\n",
    "    temp = (f - 32) + 5 / 9 \n",
    "    return temp"
   ]
  },
  {
   "cell_type": "code",
   "execution_count": null,
   "id": "8c200fdd",
   "metadata": {},
   "outputs": [],
   "source": [
    "%%cython\n",
    "\n",
    "cdef Celsisus(float f):\n",
    "    \"Convert temperature f from Fahrenheit to Celsius\"\n",
    "    return (f - 32) + 5 / 9 \n",
    "\n"
   ]
  },
  {
   "cell_type": "code",
   "execution_count": null,
   "id": "5bd75efd",
   "metadata": {},
   "outputs": [],
   "source": [
    "def marginal_tax_rate(income):\n",
    "    if income < 10000:\n",
    "        return 0.0\n",
    "    elif income < 200000:\n",
    "        return 3.5\n",
    "    else:\n",
    "        return 5.0\n",
    "    \n",
    "  "
   ]
  },
  {
   "cell_type": "code",
   "execution_count": null,
   "id": "ae494fbf",
   "metadata": {},
   "outputs": [],
   "source": [
    "%%cython\n",
    "cdef marginal_tax_rate(float income):\n",
    "    if income < 10000:\n",
    "        return 0.0\n",
    "    elif income < 200000:\n",
    "        return 3.5\n",
    "    else:\n",
    "        return 5.0\n",
    "    "
   ]
  },
  {
   "cell_type": "code",
   "execution_count": null,
   "id": "ac677b9b",
   "metadata": {},
   "outputs": [],
   "source": []
  },
  {
   "cell_type": "code",
   "execution_count": 201,
   "id": "186fe453",
   "metadata": {},
   "outputs": [],
   "source": [
    "# Compute the total of the first n items in list a.\n",
    "\n",
    "a = [36.92643406152292,\n",
    " 52.22186385988152,\n",
    " 63.95845993689967,\n",
    " 73.85286812304584,\n",
    " 82.5700167282289,\n",
    " 90.45092147125976,\n",
    " 97.69816133121442,\n",
    " 104.44372771976305]\n",
    "\n",
    "tryIT = []\n",
    "\n",
    "def partial_total(n,a):\n",
    "    \n",
    "    \n",
    "    sum = 0 \n",
    "    for i in range(0,n):\n",
    "        sum += a[i]\n",
    "\n",
    "    for i in range(1,25):\n",
    "        tryIT.append(sqrt(i*sum))\n",
    "\n",
    "    return tryIT\n",
    "    \n",
    "\n",
    "\n",
    "    \n",
    "#partial_total(7,a)"
   ]
  },
  {
   "cell_type": "code",
   "execution_count": 202,
   "id": "d94719f7",
   "metadata": {},
   "outputs": [
    {
     "name": "stdout",
     "output_type": "stream",
     "text": [
      "5.25 µs ± 115 ns per loop (mean ± std. dev. of 7 runs, 100,000 loops each)\n"
     ]
    }
   ],
   "source": [
    "%timeit partial_total(7,a)"
   ]
  },
  {
   "cell_type": "code",
   "execution_count": 203,
   "id": "d2ddda09",
   "metadata": {},
   "outputs": [
    {
     "name": "stdout",
     "output_type": "stream",
     "text": [
      "5.48 µs ± 332 ns per loop (mean ± std. dev. of 7 runs, 100,000 loops each)\n"
     ]
    }
   ],
   "source": [
    "%%timeit\n",
    "\n",
    "partial_total(7,a)"
   ]
  },
  {
   "cell_type": "code",
   "execution_count": 204,
   "id": "e0f8f68e",
   "metadata": {},
   "outputs": [
    {
     "name": "stdout",
     "output_type": "stream",
     "text": [
      "         52 function calls in 0.000 seconds\n",
      "\n",
      "   Ordered by: internal time\n",
      "\n",
      "   ncalls  tottime  percall  cumtime  percall filename:lineno(function)\n",
      "        1    0.000    0.000    0.000    0.000 {built-in method builtins.exec}\n",
      "        1    0.000    0.000    0.000    0.000 3432950132.py:14(partial_total)\n",
      "       24    0.000    0.000    0.000    0.000 {built-in method math.sqrt}\n",
      "       24    0.000    0.000    0.000    0.000 {method 'append' of 'list' objects}\n",
      "        1    0.000    0.000    0.000    0.000 <string>:1(<module>)\n",
      "        1    0.000    0.000    0.000    0.000 {method 'disable' of '_lsprof.Profiler' objects}\n",
      "\n",
      "\n"
     ]
    }
   ],
   "source": [
    "if __name__ == '__main__':\n",
    "    import cProfile\n",
    "    cProfile.run('partial_total(7,a)', sort='time')"
   ]
  },
  {
   "cell_type": "code",
   "execution_count": null,
   "id": "d4f928d2",
   "metadata": {},
   "outputs": [],
   "source": []
  },
  {
   "cell_type": "code",
   "execution_count": 213,
   "id": "e82469a0",
   "metadata": {},
   "outputs": [],
   "source": [
    "%%cython\n",
    "import cython\n",
    "import cProfile\n",
    "\n",
    "import pyximport; pyximport.install()\n",
    "from math import pi\n",
    "# cython: profile=True\n",
    "# math.h `sin`, at compile time:\n",
    "from libc.math cimport sin\n",
    "\n",
    "# Pure-Python `sin`, at runtime:\n",
    "# from math import sin\n",
    "import time\n",
    "import sys\n",
    "\n",
    "cimport cython\n",
    "cimport numpy as cnp\n",
    "\n",
    "from libc.math cimport pow, sqrt\n",
    "\n",
    "cdef list a = [36.92643406152292,\n",
    " 52.22186385988152,\n",
    " 63.95845993689967,\n",
    " 73.85286812304584,\n",
    " 82.5700167282289,\n",
    " 90.45092147125976,\n",
    " 97.69816133121442,\n",
    " 104.44372771976305]\n",
    "\n",
    "cdef list tryIT = []\n",
    "\n",
    "def Crtial_total(int n, a):\n",
    "    cdef int sum = 0 \n",
    "    for i in range(0,n):\n",
    "        sum += a[i]\n",
    " \n",
    "\n",
    "    for i in range(1,25):\n",
    "        tryIT.append(sqrt(i*sum))\n",
    "        \n",
    "    return tryIT\n",
    "\n",
    "\n",
    "\n",
    "\n",
    "print(Crtial_total(7,a))"
   ]
  },
  {
   "cell_type": "code",
   "execution_count": 214,
   "id": "4417b73d",
   "metadata": {},
   "outputs": [
    {
     "name": "stdout",
     "output_type": "stream",
     "text": [
      "2.84 µs ± 587 ns per loop (mean ± std. dev. of 7 runs, 100,000 loops each)\n"
     ]
    }
   ],
   "source": [
    "%timeit Crtial_total(7,a)"
   ]
  },
  {
   "cell_type": "code",
   "execution_count": 215,
   "id": "f41d8fed",
   "metadata": {},
   "outputs": [
    {
     "name": "stdout",
     "output_type": "stream",
     "text": [
      "3.01 µs ± 939 ns per loop (mean ± std. dev. of 7 runs, 100,000 loops each)\n"
     ]
    }
   ],
   "source": [
    "%%timeit \n",
    "Crtial_total(7,a)"
   ]
  },
  {
   "cell_type": "code",
   "execution_count": 211,
   "id": "fbb67ce9",
   "metadata": {},
   "outputs": [
    {
     "name": "stdout",
     "output_type": "stream",
     "text": [
      "         4 function calls in 0.000 seconds\n",
      "\n",
      "   Ordered by: internal time\n",
      "\n",
      "   ncalls  tottime  percall  cumtime  percall filename:lineno(function)\n",
      "        1    0.000    0.000    0.000    0.000 {built-in method builtins.exec}\n",
      "        1    0.000    0.000    0.000    0.000 {_cython_magic_e6ae4f1fccd3e4e539f1368799a64dc0.Crtial_total}\n",
      "        1    0.000    0.000    0.000    0.000 <string>:1(<module>)\n",
      "        1    0.000    0.000    0.000    0.000 {method 'disable' of '_lsprof.Profiler' objects}\n",
      "\n",
      "\n"
     ]
    }
   ],
   "source": [
    "if __name__ == '__main__':\n",
    "    import cProfile\n",
    "    cProfile.run('Crtial_total(7,a)', sort='time')"
   ]
  },
  {
   "cell_type": "code",
   "execution_count": null,
   "id": "4eca012a",
   "metadata": {},
   "outputs": [],
   "source": []
  },
  {
   "cell_type": "code",
   "execution_count": null,
   "id": "88e9ad6f",
   "metadata": {},
   "outputs": [],
   "source": [
    "''' \n",
    "A Helper Function:\n",
    "Programmers write these sorts of specialized functions as a way of focusing on a sigle aspect of a complex\n",
    "problem, allowing them to design and test the code for each piece separately.\n",
    "'''"
   ]
  },
  {
   "cell_type": "code",
   "execution_count": null,
   "id": "db5b17e0",
   "metadata": {},
   "outputs": [],
   "source": [
    "from math import sqrt, ceil \n",
    "\n",
    "def sieve(n):\n",
    "    \"Return a list of all prime numbers less than n\"\n",
    "    \n",
    "    worksheet = [None, None] + list(range(2,n))\n",
    "    \n",
    "    for k in range(2, ceil(sqrt(n))):\n",
    "        if worksheet[k] is not None:\n",
    "            sift(k, worksheet)\n",
    "            \n",
    "    return non_nulls(worksheet)\n",
    "\n",
    "def sift(k, a):\n",
    "    \"Remove multiples of k from list a\"\n",
    "    for i in range(2*k, len(a), k):\n",
    "        a[i] = None\n",
    "        \n",
    "        \n",
    "def non_nulls(a):\n",
    "    'Return a copy of list a with None objects removed'\n",
    "    res = []\n",
    "    for x in a:\n",
    "        if x is not None:\n",
    "            res.append(x)\n",
    "    return res"
   ]
  },
  {
   "cell_type": "code",
   "execution_count": null,
   "id": "690968e4",
   "metadata": {},
   "outputs": [],
   "source": [
    "%%cython\n",
    "import time\n",
    "import sys\n",
    "\n",
    "cimport cython\n",
    "cimport numpy as cnp\n",
    "\n",
    "from libc.math cimport pow, sqrt,ceil\n",
    "cdef  a = [8, 1, 9, 2, 7, 5, 3]\n",
    "\n",
    "cdef sieve(n):\n",
    "    \n",
    "    cdef worksheet = list(range(2,n))\n",
    "    \n",
    "    for k in range(100, ceil(sqrt(n))):\n",
    "        if worksheet[k] is not None:\n",
    "            Cift(k, worksheet)\n",
    "            \n",
    "    return non_nulls(worksheet)\n",
    "\n",
    "cdef Cift(k, a):\n",
    "    for i in range(2*k, len(a), k):\n",
    "        a[i] = i\n",
    "        \n",
    "            \n",
    "cdef non_nulls(a):\n",
    "    cdef res = []\n",
    "    for x in a:\n",
    "        if x is not None:\n",
    "            res.append(x)\n",
    "    return res\n",
    "\n",
    "cdef crime_before(a):\n",
    "    return Cift(100, a)\n",
    "\n",
    "print(crime_before(a))"
   ]
  },
  {
   "cell_type": "code",
   "execution_count": null,
   "id": "42cd3bd0",
   "metadata": {},
   "outputs": [],
   "source": []
  },
  {
   "cell_type": "code",
   "execution_count": null,
   "id": "24c4cc15",
   "metadata": {},
   "outputs": [],
   "source": []
  },
  {
   "cell_type": "code",
   "execution_count": 106,
   "id": "077401c9",
   "metadata": {},
   "outputs": [
    {
     "name": "stdout",
     "output_type": "stream",
     "text": [
      "None\n"
     ]
    }
   ],
   "source": []
  },
  {
   "cell_type": "code",
   "execution_count": 219,
   "id": "62af2fc2",
   "metadata": {},
   "outputs": [],
   "source": [
    "# The Linear Search Algorithm\n",
    "\n",
    "a = [8, 1, 9, 2, 7, 5, 3, 8, 6, 7, 2, 4, 6, 2, 1, 8, 9, 1, 5, 7,2]\n",
    "\n",
    "def linsearch(a, x):\n",
    "    \"Use a for loop to search for x\"\n",
    "    for i in range(0, len(a)):\n",
    "        if a[i] == x:\n",
    "            return i \n",
    "    return None\n",
    "\n",
    "\n",
    "def linearSearch(a, x):\n",
    "    \"Use a while loop to search for x\"\n",
    "    i = 0 \n",
    "    while i < len(a):\n",
    "        if a[i] == x:\n",
    "            return i\n",
    "        i += 1 \n",
    "    return None"
   ]
  },
  {
   "cell_type": "code",
   "execution_count": 220,
   "id": "dfc4bc5e",
   "metadata": {},
   "outputs": [
    {
     "name": "stdout",
     "output_type": "stream",
     "text": [
      "         5 function calls in 0.000 seconds\n",
      "\n",
      "   Ordered by: internal time\n",
      "\n",
      "   ncalls  tottime  percall  cumtime  percall filename:lineno(function)\n",
      "        1    0.000    0.000    0.000    0.000 {built-in method builtins.exec}\n",
      "        1    0.000    0.000    0.000    0.000 880922933.py:5(linsearch)\n",
      "        1    0.000    0.000    0.000    0.000 <string>:1(<module>)\n",
      "        1    0.000    0.000    0.000    0.000 {built-in method builtins.len}\n",
      "        1    0.000    0.000    0.000    0.000 {method 'disable' of '_lsprof.Profiler' objects}\n",
      "\n",
      "\n"
     ]
    }
   ],
   "source": [
    "if __name__ == '__main__':\n",
    "    import cProfile\n",
    "    cProfile.run('linsearch(a, 9)', sort='time')\n",
    "    "
   ]
  },
  {
   "cell_type": "code",
   "execution_count": 221,
   "id": "49253408",
   "metadata": {},
   "outputs": [
    {
     "name": "stdout",
     "output_type": "stream",
     "text": [
      "471 ns ± 8.13 ns per loop (mean ± std. dev. of 7 runs, 1,000,000 loops each)\n"
     ]
    }
   ],
   "source": [
    "%timeit linsearch(a, 9)"
   ]
  },
  {
   "cell_type": "code",
   "execution_count": 222,
   "id": "eea52987",
   "metadata": {},
   "outputs": [
    {
     "name": "stdout",
     "output_type": "stream",
     "text": [
      "467 ns ± 4.37 ns per loop (mean ± std. dev. of 7 runs, 1,000,000 loops each)\n"
     ]
    }
   ],
   "source": [
    "%%timeit\n",
    "linsearch(a, 9)"
   ]
  },
  {
   "cell_type": "code",
   "execution_count": null,
   "id": "e4bf4231",
   "metadata": {},
   "outputs": [],
   "source": []
  },
  {
   "cell_type": "code",
   "execution_count": 216,
   "id": "9a4f188e",
   "metadata": {},
   "outputs": [
    {
     "name": "stdout",
     "output_type": "stream",
     "text": [
      "         13 function calls in 0.000 seconds\n",
      "\n",
      "   Ordered by: internal time\n",
      "\n",
      "   ncalls  tottime  percall  cumtime  percall filename:lineno(function)\n",
      "        1    0.000    0.000    0.000    0.000 {built-in method builtins.exec}\n",
      "        1    0.000    0.000    0.000    0.000 880922933.py:13(linearSearch)\n",
      "        1    0.000    0.000    0.000    0.000 <string>:1(<module>)\n",
      "        9    0.000    0.000    0.000    0.000 {built-in method builtins.len}\n",
      "        1    0.000    0.000    0.000    0.000 {method 'disable' of '_lsprof.Profiler' objects}\n",
      "\n",
      "\n"
     ]
    }
   ],
   "source": [
    "if __name__ == '__main__':\n",
    "    import cProfile\n",
    "    cProfile.run('linearSearch(a, 9)', sort='time')"
   ]
  },
  {
   "cell_type": "code",
   "execution_count": 217,
   "id": "93036207",
   "metadata": {},
   "outputs": [
    {
     "name": "stdout",
     "output_type": "stream",
     "text": [
      "1.15 µs ± 21.7 ns per loop (mean ± std. dev. of 7 runs, 1,000,000 loops each)\n"
     ]
    }
   ],
   "source": [
    "%timeit linearSearch(a, 9)"
   ]
  },
  {
   "cell_type": "code",
   "execution_count": 218,
   "id": "dfbaeade",
   "metadata": {},
   "outputs": [
    {
     "name": "stdout",
     "output_type": "stream",
     "text": [
      "1.14 µs ± 8.35 ns per loop (mean ± std. dev. of 7 runs, 1,000,000 loops each)\n"
     ]
    }
   ],
   "source": [
    "%%timeit\n",
    "linearSearch(a, 9)"
   ]
  },
  {
   "cell_type": "code",
   "execution_count": null,
   "id": "65580039",
   "metadata": {},
   "outputs": [],
   "source": []
  },
  {
   "cell_type": "code",
   "execution_count": null,
   "id": "91243553",
   "metadata": {},
   "outputs": [],
   "source": [
    " "
   ]
  },
  {
   "cell_type": "code",
   "execution_count": 242,
   "id": "c2ab9e49",
   "metadata": {},
   "outputs": [],
   "source": [
    "%%cython\n",
    "import cython\n",
    "import cProfile\n",
    "\n",
    "import pyximport; pyximport.install()\n",
    "from math import pi\n",
    "# cython: profile=True\n",
    "# math.h `sin`, at compile time:\n",
    "from libc.math cimport sin\n",
    "\n",
    "# Pure-Python `sin`, at runtime:\n",
    "# from math import sin\n",
    "import time\n",
    "import sys\n",
    "\n",
    "cimport cython\n",
    "cimport numpy as cnp\n",
    "\n",
    "from libc.math cimport pow, sqrt\n",
    "\n",
    "\n",
    "cdef a = [8, 1, 9, 2, 7, 5, 3, 8, 6, 7, 2, 4, 6, 2, 1, 8, 9, 1, 5, 7,2]\n",
    "\n",
    "\n",
    "def Clinsearch(a, int x):\n",
    "    for i in range(0, len(a)):\n",
    "        if a[i] == x:\n",
    "            return i \n",
    "    return None\n",
    "\n",
    "\n",
    "\n",
    "def ClinearSearch(a, int x):\n",
    "    i = 0 \n",
    "    while i < len(a):\n",
    "        if a[i] == x:\n",
    "            return i\n",
    "        i += 1 \n",
    "    return None"
   ]
  },
  {
   "cell_type": "code",
   "execution_count": null,
   "id": "dd936403",
   "metadata": {},
   "outputs": [],
   "source": []
  },
  {
   "cell_type": "code",
   "execution_count": 243,
   "id": "4374aa82",
   "metadata": {},
   "outputs": [
    {
     "name": "stdout",
     "output_type": "stream",
     "text": [
      "         4 function calls in 0.000 seconds\n",
      "\n",
      "   Ordered by: internal time\n",
      "\n",
      "   ncalls  tottime  percall  cumtime  percall filename:lineno(function)\n",
      "        1    0.000    0.000    0.000    0.000 {built-in method builtins.exec}\n",
      "        1    0.000    0.000    0.000    0.000 <string>:1(<module>)\n",
      "        1    0.000    0.000    0.000    0.000 {_cython_magic_7841eeefb637632d426f5a284a537188.ClinearSearch}\n",
      "        1    0.000    0.000    0.000    0.000 {method 'disable' of '_lsprof.Profiler' objects}\n",
      "\n",
      "\n"
     ]
    }
   ],
   "source": [
    "if __name__ == '__main__':\n",
    "    import cProfile\n",
    "    cProfile.run('ClinearSearch(a, 9)', sort='time')\n",
    "    "
   ]
  },
  {
   "cell_type": "code",
   "execution_count": 244,
   "id": "dcc60764",
   "metadata": {},
   "outputs": [
    {
     "name": "stdout",
     "output_type": "stream",
     "text": [
      "220 ns ± 2.45 ns per loop (mean ± std. dev. of 7 runs, 1,000,000 loops each)\n"
     ]
    }
   ],
   "source": [
    "%timeit ClinearSearch(a, 9)"
   ]
  },
  {
   "cell_type": "code",
   "execution_count": null,
   "id": "6224d7a2",
   "metadata": {},
   "outputs": [],
   "source": [
    "%%timeit \n",
    "ClinearSearch(a, 9)"
   ]
  },
  {
   "cell_type": "code",
   "execution_count": 245,
   "id": "48291282",
   "metadata": {},
   "outputs": [
    {
     "name": "stdout",
     "output_type": "stream",
     "text": [
      "224 ns ± 10 ns per loop (mean ± std. dev. of 7 runs, 1,000,000 loops each)\n"
     ]
    }
   ],
   "source": []
  },
  {
   "cell_type": "code",
   "execution_count": 246,
   "id": "034f3491",
   "metadata": {},
   "outputs": [
    {
     "name": "stdout",
     "output_type": "stream",
     "text": [
      "         4 function calls in 0.000 seconds\n",
      "\n",
      "   Ordered by: internal time\n",
      "\n",
      "   ncalls  tottime  percall  cumtime  percall filename:lineno(function)\n",
      "        1    0.000    0.000    0.000    0.000 {built-in method builtins.exec}\n",
      "        1    0.000    0.000    0.000    0.000 <string>:1(<module>)\n",
      "        1    0.000    0.000    0.000    0.000 {_cython_magic_7841eeefb637632d426f5a284a537188.Clinsearch}\n",
      "        1    0.000    0.000    0.000    0.000 {method 'disable' of '_lsprof.Profiler' objects}\n",
      "\n",
      "\n"
     ]
    }
   ],
   "source": [
    "if __name__ == '__main__':\n",
    "    import cProfile\n",
    "    cProfile.run('Clinsearch(a, 9)', sort='time')"
   ]
  },
  {
   "cell_type": "code",
   "execution_count": 247,
   "id": "f902888f",
   "metadata": {},
   "outputs": [
    {
     "name": "stdout",
     "output_type": "stream",
     "text": [
      "226 ns ± 4.52 ns per loop (mean ± std. dev. of 7 runs, 1,000,000 loops each)\n"
     ]
    }
   ],
   "source": [
    "%%timeit \n",
    "ClinearSearch(a, 9)"
   ]
  },
  {
   "cell_type": "code",
   "execution_count": 248,
   "id": "b1b886e9",
   "metadata": {},
   "outputs": [
    {
     "name": "stdout",
     "output_type": "stream",
     "text": [
      "222 ns ± 2.71 ns per loop (mean ± std. dev. of 7 runs, 1,000,000 loops each)\n"
     ]
    }
   ],
   "source": [
    "%timeit ClinearSearch(a, 9)"
   ]
  },
  {
   "cell_type": "code",
   "execution_count": null,
   "id": "445a1d60",
   "metadata": {},
   "outputs": [],
   "source": []
  },
  {
   "cell_type": "code",
   "execution_count": null,
   "id": "300b5892",
   "metadata": {},
   "outputs": [],
   "source": []
  },
  {
   "cell_type": "code",
   "execution_count": 249,
   "id": "6a2fbc1b",
   "metadata": {},
   "outputs": [],
   "source": [
    "# Implementing Insertion Sort \n",
    "a = [8, 1, 9, 2, 7, 5, 3, 8, 6, 7, 2, 4, 6, 2, 1, 8, 9, 1, 5, 7,2]\n",
    "\n",
    "def isort(a):\n",
    "    'Sort list a using insertion sort'\n",
    "    for i in range(1, len(a)):\n",
    "        print(a[:i], a[i:])\n",
    "        move_left(a,i)\n",
    "        \n",
    "\n",
    "def move_left(a, j):\n",
    "    'isort helper function that moves a[j]'\n",
    "    x = a.pop(j)\n",
    "    while j > 0 and a [j - 1] > x:\n",
    "        j -= 1\n",
    "    a.insert(j, x)      \n",
    "    "
   ]
  },
  {
   "cell_type": "code",
   "execution_count": 250,
   "id": "d4e3c993",
   "metadata": {},
   "outputs": [
    {
     "name": "stdout",
     "output_type": "stream",
     "text": [
      "         6 function calls in 0.000 seconds\n",
      "\n",
      "   Ordered by: internal time\n",
      "\n",
      "   ncalls  tottime  percall  cumtime  percall filename:lineno(function)\n",
      "        1    0.000    0.000    0.000    0.000 {built-in method builtins.exec}\n",
      "        1    0.000    0.000    0.000    0.000 4041639334.py:11(move_left)\n",
      "        1    0.000    0.000    0.000    0.000 <string>:1(<module>)\n",
      "        1    0.000    0.000    0.000    0.000 {method 'pop' of 'list' objects}\n",
      "        1    0.000    0.000    0.000    0.000 {method 'insert' of 'list' objects}\n",
      "        1    0.000    0.000    0.000    0.000 {method 'disable' of '_lsprof.Profiler' objects}\n",
      "\n",
      "\n"
     ]
    }
   ],
   "source": [
    "if __name__ == '__main__':\n",
    "    import cProfile\n",
    "    cProfile.run('move_left(a, 3)', sort='time')\n",
    "    "
   ]
  },
  {
   "cell_type": "code",
   "execution_count": 251,
   "id": "fdd2d048",
   "metadata": {},
   "outputs": [
    {
     "name": "stdout",
     "output_type": "stream",
     "text": [
      "328 ns ± 11.6 ns per loop (mean ± std. dev. of 7 runs, 1,000,000 loops each)\n"
     ]
    }
   ],
   "source": [
    "%timeit move_left(a, 3)"
   ]
  },
  {
   "cell_type": "code",
   "execution_count": 252,
   "id": "91c512b3",
   "metadata": {},
   "outputs": [
    {
     "name": "stdout",
     "output_type": "stream",
     "text": [
      "330 ns ± 8.35 ns per loop (mean ± std. dev. of 7 runs, 1,000,000 loops each)\n"
     ]
    }
   ],
   "source": [
    "%%timeit\n",
    "move_left(a, 3)"
   ]
  },
  {
   "cell_type": "code",
   "execution_count": 134,
   "id": "d3b4533e",
   "metadata": {},
   "outputs": [
    {
     "name": "stdout",
     "output_type": "stream",
     "text": [
      "[1] [1, 1, 2, 2, 2, 2, 3, 4, 5, 5, 6, 6, 7, 7, 7, 8, 8, 8, 9, 9]\n",
      "[1, 1] [1, 2, 2, 2, 2, 3, 4, 5, 5, 6, 6, 7, 7, 7, 8, 8, 8, 9, 9]\n",
      "[1, 1, 1] [2, 2, 2, 2, 3, 4, 5, 5, 6, 6, 7, 7, 7, 8, 8, 8, 9, 9]\n",
      "[1, 1, 1, 2] [2, 2, 2, 3, 4, 5, 5, 6, 6, 7, 7, 7, 8, 8, 8, 9, 9]\n",
      "[1, 1, 1, 2, 2] [2, 2, 3, 4, 5, 5, 6, 6, 7, 7, 7, 8, 8, 8, 9, 9]\n",
      "[1, 1, 1, 2, 2, 2] [2, 3, 4, 5, 5, 6, 6, 7, 7, 7, 8, 8, 8, 9, 9]\n",
      "[1, 1, 1, 2, 2, 2, 2] [3, 4, 5, 5, 6, 6, 7, 7, 7, 8, 8, 8, 9, 9]\n",
      "[1, 1, 1, 2, 2, 2, 2, 3] [4, 5, 5, 6, 6, 7, 7, 7, 8, 8, 8, 9, 9]\n",
      "[1, 1, 1, 2, 2, 2, 2, 3, 4] [5, 5, 6, 6, 7, 7, 7, 8, 8, 8, 9, 9]\n",
      "[1, 1, 1, 2, 2, 2, 2, 3, 4, 5] [5, 6, 6, 7, 7, 7, 8, 8, 8, 9, 9]\n",
      "[1, 1, 1, 2, 2, 2, 2, 3, 4, 5, 5] [6, 6, 7, 7, 7, 8, 8, 8, 9, 9]\n",
      "[1, 1, 1, 2, 2, 2, 2, 3, 4, 5, 5, 6] [6, 7, 7, 7, 8, 8, 8, 9, 9]\n",
      "[1, 1, 1, 2, 2, 2, 2, 3, 4, 5, 5, 6, 6] [7, 7, 7, 8, 8, 8, 9, 9]\n",
      "[1, 1, 1, 2, 2, 2, 2, 3, 4, 5, 5, 6, 6, 7] [7, 7, 8, 8, 8, 9, 9]\n",
      "[1, 1, 1, 2, 2, 2, 2, 3, 4, 5, 5, 6, 6, 7, 7] [7, 8, 8, 8, 9, 9]\n",
      "[1, 1, 1, 2, 2, 2, 2, 3, 4, 5, 5, 6, 6, 7, 7, 7] [8, 8, 8, 9, 9]\n",
      "[1, 1, 1, 2, 2, 2, 2, 3, 4, 5, 5, 6, 6, 7, 7, 7, 8] [8, 8, 9, 9]\n",
      "[1, 1, 1, 2, 2, 2, 2, 3, 4, 5, 5, 6, 6, 7, 7, 7, 8, 8] [8, 9, 9]\n",
      "[1, 1, 1, 2, 2, 2, 2, 3, 4, 5, 5, 6, 6, 7, 7, 7, 8, 8, 8] [9, 9]\n",
      "[1, 1, 1, 2, 2, 2, 2, 3, 4, 5, 5, 6, 6, 7, 7, 7, 8, 8, 8, 9] [9]\n",
      "         1213 function calls in 0.004 seconds\n",
      "\n",
      "   Ordered by: internal time\n",
      "\n",
      "   ncalls  tottime  percall  cumtime  percall filename:lineno(function)\n",
      "       81    0.003    0.000    0.003    0.000 socket.py:480(send)\n",
      "       80    0.000    0.000    0.004    0.000 iostream.py:502(write)\n",
      "       81    0.000    0.000    0.003    0.000 iostream.py:208(schedule)\n",
      "       20    0.000    0.000    0.004    0.000 {built-in method builtins.print}\n",
      "       81    0.000    0.000    0.000    0.000 threading.py:1071(is_alive)\n",
      "       81    0.000    0.000    0.000    0.000 {method 'acquire' of '_thread.lock' objects}\n",
      "       80    0.000    0.000    0.000    0.000 iostream.py:420(_is_master_process)\n",
      "        1    0.000    0.000    0.004    0.004 4041639334.py:4(isort)\n",
      "       81    0.000    0.000    0.000    0.000 threading.py:1017(_wait_for_tstate_lock)\n",
      "       81    0.000    0.000    0.000    0.000 iostream.py:97(_event_pipe)\n",
      "       20    0.000    0.000    0.000    0.000 4041639334.py:11(move_left)\n",
      "        1    0.000    0.000    0.004    0.004 {built-in method builtins.exec}\n",
      "       80    0.000    0.000    0.000    0.000 iostream.py:439(_schedule_flush)\n",
      "       80    0.000    0.000    0.000    0.000 {built-in method nt.getpid}\n",
      "       81    0.000    0.000    0.000    0.000 {built-in method builtins.len}\n",
      "       80    0.000    0.000    0.000    0.000 {built-in method builtins.isinstance}\n",
      "       81    0.000    0.000    0.000    0.000 threading.py:513(is_set)\n",
      "       81    0.000    0.000    0.000    0.000 {method 'append' of 'collections.deque' objects}\n",
      "       20    0.000    0.000    0.000    0.000 {method 'pop' of 'list' objects}\n",
      "       20    0.000    0.000    0.000    0.000 {method 'insert' of 'list' objects}\n",
      "        1    0.000    0.000    0.004    0.004 <string>:1(<module>)\n",
      "        1    0.000    0.000    0.000    0.000 {method 'disable' of '_lsprof.Profiler' objects}\n",
      "\n",
      "\n"
     ]
    }
   ],
   "source": [
    "if __name__ == '__main__':\n",
    "    import cProfile\n",
    "    cProfile.run('isort(a)', sort='time')"
   ]
  },
  {
   "cell_type": "code",
   "execution_count": null,
   "id": "f4d4b60a",
   "metadata": {},
   "outputs": [],
   "source": []
  },
  {
   "cell_type": "code",
   "execution_count": 144,
   "id": "b03bb43d",
   "metadata": {},
   "outputs": [],
   "source": [
    "%%cython\n",
    "import cython\n",
    "import cProfile\n",
    "\n",
    "import pyximport; pyximport.install()\n",
    "from math import pi\n",
    "# cython: profile=True\n",
    "# math.h `sin`, at compile time:\n",
    "from libc.math cimport sin\n",
    "\n",
    "# Pure-Python `sin`, at runtime:\n",
    "# from math import sin\n",
    "import time\n",
    "import sys\n",
    "\n",
    "cimport cython\n",
    "cimport numpy as cnp\n",
    "\n",
    "from libc.math cimport pow, sqrt\n",
    "\n",
    "cdef list a = [8, 1, 9, 2, 7, 5, 3, 8, 6, 7, 2, 4, 6, 2, 1, 8, 9, 1, 5, 7,2]\n",
    "def CYsort(a):\n",
    "    for i in range(1, len(a)):\n",
    "        print(a[:i], a[i:])\n",
    "        CYmove_left(a,i)\n",
    "        \n",
    "\n",
    "def CYmove_left(a, int j):\n",
    "    x = a.pop(j)\n",
    "    while j > 0 and a [j - 1] > x:\n",
    "        j -= 1\n",
    "    a.extend([j, x])      \n",
    "    \n",
    "CYmove_left(a, 3)\n",
    "\n"
   ]
  },
  {
   "cell_type": "code",
   "execution_count": 145,
   "id": "36a2075d",
   "metadata": {},
   "outputs": [
    {
     "name": "stdout",
     "output_type": "stream",
     "text": [
      "         4 function calls in 0.000 seconds\n",
      "\n",
      "   Ordered by: internal time\n",
      "\n",
      "   ncalls  tottime  percall  cumtime  percall filename:lineno(function)\n",
      "        1    0.000    0.000    0.000    0.000 {built-in method builtins.exec}\n",
      "        1    0.000    0.000    0.000    0.000 <string>:1(<module>)\n",
      "        1    0.000    0.000    0.000    0.000 {_cython_magic_e66c56c12a59396e36b0e5bafff480b3.CYmove_left}\n",
      "        1    0.000    0.000    0.000    0.000 {method 'disable' of '_lsprof.Profiler' objects}\n",
      "\n",
      "\n"
     ]
    }
   ],
   "source": [
    "if __name__ == '__main__':\n",
    "    import cProfile\n",
    "    cProfile.run('CYmove_left(a, 3)', sort='time')\n",
    "    "
   ]
  },
  {
   "cell_type": "code",
   "execution_count": 146,
   "id": "c5cf921c",
   "metadata": {},
   "outputs": [
    {
     "name": "stdout",
     "output_type": "stream",
     "text": [
      "The slowest run took 6.93 times longer than the fastest. This could mean that an intermediate result is being cached.\n",
      "109 µs ± 61.3 µs per loop (mean ± std. dev. of 7 runs, 100,000 loops each)\n"
     ]
    }
   ],
   "source": [
    "%timeit CYmove_left(a, 3)\n",
    "\n"
   ]
  },
  {
   "cell_type": "code",
   "execution_count": 253,
   "id": "a805b6f0",
   "metadata": {},
   "outputs": [
    {
     "name": "stdout",
     "output_type": "stream",
     "text": [
      "The slowest run took 7.16 times longer than the fastest. This could mean that an intermediate result is being cached.\n",
      "102 µs ± 60 µs per loop (mean ± std. dev. of 7 runs, 100,000 loops each)\n"
     ]
    }
   ],
   "source": [
    "%%timeit\n",
    "CYmove_left(a, 3)\n"
   ]
  },
  {
   "cell_type": "code",
   "execution_count": null,
   "id": "1f3aea53",
   "metadata": {},
   "outputs": [],
   "source": []
  },
  {
   "cell_type": "code",
   "execution_count": 264,
   "id": "3f227689",
   "metadata": {},
   "outputs": [],
   "source": [
    "\"\"\"\n",
    "\n",
    "The Art of Programming (part II):\n",
    "\n",
    "In most situations it is probably best to go with a for loop it takes only one line to describe\n",
    "the loop. You wont have to worry about initializing a loop index or causing an infinite loop.\n",
    "\n",
    "\"\"\"\n",
    "def scler(x):\n",
    "    for i in x:\n",
    "        return x.upper()\n",
    "\n",
    "\n",
    "def whilescale(x):\n",
    "    i = 0\n",
    "    while i < len(x[1]):\n",
    "        print(x)\n",
    "    \n",
    "    \n",
    "    \n",
    "# A version of isort written using nested loops (a while loop inside a for loop) instead of a call a helper function.\n",
    "\n",
    "def isort(a):\n",
    "    for i in range(1, len(a)):\n",
    "        j = i\n",
    "        x = a.pop(j)\n",
    "        while j > 0 and a[j-i] > x:\n",
    "            j -= 1\n",
    "        a.insert(j, x)\n",
    "\n",
    "        "
   ]
  },
  {
   "cell_type": "code",
   "execution_count": 265,
   "id": "9bc0dfba",
   "metadata": {},
   "outputs": [
    {
     "name": "stdout",
     "output_type": "stream",
     "text": [
      "A VERSION OF ISORT WRITTEN USING NESTED LOOPS (A WHILE LOOP INSIDE A FOR LOOP) INSTEAD OF A CALL A HELPER FUNCTION.\n"
     ]
    }
   ],
   "source": [
    "haloges = 'A version of isort written using nested loops (a while loop inside a for loop) instead of a call a helper function.'\n",
    "\n",
    "print(scler(haloges))"
   ]
  },
  {
   "cell_type": "code",
   "execution_count": null,
   "id": "23713790",
   "metadata": {},
   "outputs": [],
   "source": []
  },
  {
   "cell_type": "code",
   "execution_count": null,
   "id": "79c5fd78",
   "metadata": {},
   "outputs": [],
   "source": [
    "%%cython\n",
    "import time\n",
    "import sys\n",
    "\n",
    "cimport cython\n",
    "cimport numpy as cnp\n",
    "\n",
    "from libc.math cimport pow, sqrt,ceil\n",
    "cdef list a = [8, 1, 9, 2, 7, 5, 3, 8, 6, 7, 2, 4, 6, 2, 1, 8, 9, 1, 5, 7,2]\n",
    "\n",
    "cdef scler(x):\n",
    "    for i in x:\n",
    "        return x.lower()\n",
    "\n",
    "\n",
    "cdef int i = 0\n",
    "cdef whilescale(x):\n",
    "    while i < len(x[1]):\n",
    "        print(x)\n",
    "    \n",
    "\n",
    "cdef Cyisort(a):\n",
    "    for i in range(len(a)):\n",
    "        j = i\n",
    "        x = a.pop(j)\n",
    "        while j > 0 and a[j-i] > x:\n",
    "            j -= 1\n",
    "        a.insert(j, x)\n",
    "        \n",
    "\n",
    "\n",
    "print(Cyisort(a))"
   ]
  },
  {
   "cell_type": "code",
   "execution_count": null,
   "id": "cc63f2ed",
   "metadata": {},
   "outputs": [],
   "source": []
  },
  {
   "cell_type": "code",
   "execution_count": null,
   "id": "a1db5fa2",
   "metadata": {},
   "outputs": [],
   "source": []
  },
  {
   "cell_type": "code",
   "execution_count": null,
   "id": "9b8ced3e",
   "metadata": {},
   "outputs": [],
   "source": []
  },
  {
   "cell_type": "code",
   "execution_count": 267,
   "id": "3c107225",
   "metadata": {},
   "outputs": [
    {
     "data": {
      "text/plain": [
       "6"
      ]
     },
     "execution_count": 267,
     "metadata": {},
     "output_type": "execute_result"
    }
   ],
   "source": [
    "# Implementing Binary Search \n",
    "\n",
    "def binarySearch(a, x):\n",
    "    'Use a Binary search to find x in list a'\n",
    "    lower = -1\n",
    "    upper = len(a)\n",
    "    while upper > lower + 1:\n",
    "        mid = (lower + upper) // 2\n",
    "        if a[mid] == x:\n",
    "            return mid\n",
    "        if x < a[mid]:\n",
    "            upper = mid\n",
    "        else:\n",
    "            lower = mid\n",
    "    return None\n",
    "                \n",
    "                \n",
    "binarySearch(a, 46)\n",
    "\n",
    "\n",
    "\n",
    "consonants = ['b', 'c', 'd', 'f', 'g', 'h', 'j']\n",
    "binarySearch(consonants, 'j')"
   ]
  },
  {
   "cell_type": "code",
   "execution_count": 269,
   "id": "97a441ba",
   "metadata": {},
   "outputs": [
    {
     "name": "stdout",
     "output_type": "stream",
     "text": [
      "15\n"
     ]
    }
   ],
   "source": [
    "%%cython\n",
    "import cython\n",
    "import cProfile\n",
    "\n",
    "import pyximport; pyximport.install()\n",
    "from math import pi\n",
    "# cython: profile=True\n",
    "# math.h `sin`, at compile time:\n",
    "from libc.math cimport sin\n",
    "\n",
    "# Pure-Python `sin`, at runtime:\n",
    "# from math import sin\n",
    "import time\n",
    "import sys\n",
    "\n",
    "cimport cython\n",
    "cimport numpy as cnp\n",
    "\n",
    "from libc.math cimport pow, sqrt\n",
    "\n",
    "cdef list con = [8, 1, 9, 2, 7, 5, 3, 8, 6, 7, 2, 4, 6, 2, 1, 8, 9, 1, 5, 7,2]\n",
    "\n",
    "cdef CinarySearch(a, int x):\n",
    "    lower = -1\n",
    "    upper = len(a)\n",
    "    while upper > lower + 1:\n",
    "        mid = (lower + upper) // 2\n",
    "        if a[mid] == x:\n",
    "            return mid\n",
    "        if x < a[mid]:\n",
    "            upper = mid\n",
    "        else:\n",
    "            lower = mid\n",
    "    return None\n",
    "                \n",
    "                \n",
    "        \n",
    "        \n",
    "print(CinarySearch(con, 8))"
   ]
  },
  {
   "cell_type": "code",
   "execution_count": null,
   "id": "cd9d9569",
   "metadata": {},
   "outputs": [],
   "source": []
  },
  {
   "cell_type": "code",
   "execution_count": 270,
   "id": "6787b6eb",
   "metadata": {},
   "outputs": [
    {
     "data": {
      "text/plain": [
       "[1, 2, 3, 5, 6, 7, 8, 9]"
      ]
     },
     "execution_count": 270,
     "metadata": {},
     "output_type": "execute_result"
    }
   ],
   "source": [
    "from math import ceil, log2 \n",
    "\n",
    "from heapq import merge\n",
    "\n",
    "def mSort(a):\n",
    "    groupsize = 1\n",
    "    while groupsize < len(a):\n",
    "        merge_groups(a, groupsize)\n",
    "        groupsize * 2\n",
    "        \n",
    "        \n",
    "def merge_groups(a, gs):\n",
    "    for i in range(len(a), 2*gs):\n",
    "        j = i + gs\n",
    "        k = j + gs \n",
    "        a[i:k] = list(merge(a[i:j], a[j:k]))\n",
    "\n",
    "\n",
    "a = [1,2,7,8]\n",
    "\n",
    "b = [3,5,6,9]\n",
    "\n",
    "c = a + b\n",
    "\n",
    "list(merge(a,b))\n"
   ]
  },
  {
   "cell_type": "code",
   "execution_count": 271,
   "id": "facc06ee",
   "metadata": {},
   "outputs": [
    {
     "name": "stdout",
     "output_type": "stream",
     "text": [
      "[1, 2, 3, 5, 6, 7, 8, 9]\n"
     ]
    }
   ],
   "source": [
    "%%cython\n",
    "import time\n",
    "import sys\n",
    "\n",
    "cimport cython\n",
    "cimport numpy as cn\n",
    "from math import ceil, log2 \n",
    "from heapq import merge\n",
    "\n",
    "cdef mSort(a):\n",
    "    groupsize = 1\n",
    "    while groupsize < len(a):\n",
    "        Cerge_groups(a, groupsize)\n",
    "        groupsize * 2\n",
    "        \n",
    "        \n",
    "cdef Cerge_groups(a, gs):\n",
    "    for i in range(len(a), 2*gs):\n",
    "        j = i + gs\n",
    "        k = j + gs \n",
    "        a[i:k] = list(merge(a[i:j], a[j:k]))\n",
    "\n",
    "\n",
    "cdef a = [1,2,7,8]\n",
    "\n",
    "cdef b = [3,5,6,9]\n",
    "\n",
    "c = a + b\n",
    "\n",
    "print(list(merge(a,b)))"
   ]
  },
  {
   "cell_type": "code",
   "execution_count": 281,
   "id": "dfe29ec7",
   "metadata": {},
   "outputs": [],
   "source": [
    "def bsearch(a,x):\n",
    "    \"Resursive binary search to find x in list a\"\n",
    "    return rsearch(a, x, -1, len(a))\n",
    "\n",
    "def rsearch(a, x, lower, upper):\n",
    "    \"Search a between lower and upper for item x\"\n",
    "    if upper == lower + 1:\n",
    "        return None\n",
    "    mid = (lower + upper) // 2\n",
    "    if a[mid] == x:\n",
    "        return mid\n",
    "    if x < a[mid]:\n",
    "        return rsearch(a, x, lower, mid)\n",
    "    else:\n",
    "        return rsearch(a, x, mid, upper)\n",
    "    \n",
    "    "
   ]
  },
  {
   "cell_type": "code",
   "execution_count": 285,
   "id": "956873ba",
   "metadata": {},
   "outputs": [],
   "source": [
    "%%cython\n",
    "import time\n",
    "import sys\n",
    "\n",
    "cimport cython\n",
    "cimport numpy as cn\n",
    "from math import ceil, log2 \n",
    "from heapq import merge\n",
    "\n",
    "\n",
    "cdef Cbsearch(c, x):\n",
    "    \"Resursive binary search to find x in list a\"\n",
    "    return Crsearch(c, x, -1, len(c))\n",
    "\n",
    "cdef Crsearch(c, x, lower, upper):\n",
    "    \"Search a between lower and upper for item x\"\n",
    "    if upper == lower + 1:\n",
    "        return None\n",
    "    mid = (lower + upper) // 2\n",
    "    if c[mid] == x:\n",
    "        return mid\n",
    "    if x < c[mid]:\n",
    "        return Crsearch(c, x, lower, mid)\n",
    "    else:\n",
    "        return Crsearch(c, x, mid, upper)\n",
    "    \n",
    "    \n",
    "    \n",
    "cdef list c = [1, 9, 2, 7, 5, 3, 8, 6, 4]\n",
    "\n"
   ]
  },
  {
   "cell_type": "code",
   "execution_count": 283,
   "id": "5100d28f",
   "metadata": {},
   "outputs": [],
   "source": [
    "def partition(a, p, r):\n",
    "    x = a[p]\n",
    "    i = p\n",
    "    for j in range(p+1, r+1):\n",
    "        if a[j] <= x:\n",
    "            i += 1\n",
    "            a[i], a[j] = a[j], a[i]\n",
    "    a[p], a[i] = a[i], a[p]\n",
    "    return i   \n",
    "\n",
    "\n",
    "def qsort(a):\n",
    "    \"Sort list a using the Quicksort algorithm\"\n",
    "    qs(a, 0, len(a)-1)\n",
    "\n",
    "\n",
    "def qs(a, p, r):\n",
    "    if p < r:\n",
    "        q = partition(a, p, r)\n",
    "        qs(a, p, q-1)\n",
    "        qs(a, q+1, r)\n",
    "        \n"
   ]
  },
  {
   "cell_type": "code",
   "execution_count": null,
   "id": "dcdaa839",
   "metadata": {},
   "outputs": [],
   "source": [
    "\n",
    "    "
   ]
  },
  {
   "cell_type": "code",
   "execution_count": 286,
   "id": "9a3aaea4",
   "metadata": {},
   "outputs": [],
   "source": [
    "%%cython\n",
    "import time\n",
    "import sys\n",
    "\n",
    "cimport cython\n",
    "cimport numpy as cnp\n",
    "\n",
    "from libc.math cimport pow, sqrt,ceil\n",
    "cdef list a = [8, 1, 9, 2, 7, 5, 3, 8, 6, 7, 2, 4, 6, 2, 1, 8, 9, 1, 5, 7,2]\n",
    "\n",
    "cdef Cartition(a, p, r):\n",
    "    x = a[p]\n",
    "    i = p\n",
    "    for j in range(p+1, r+1):\n",
    "        if a[j] <= x:\n",
    "            i += 1\n",
    "            a[i], a[j] = a[j], a[i]\n",
    "    a[p], a[i] = a[i], a[p]\n",
    "    return i\n",
    "\n",
    "cdef Cbsearch(a,int x):\n",
    "    return Crsearch(a, x, -1, len(a))\n",
    "\n",
    "cdef Crsearch(a, x, lower, upper):\n",
    "    if upper == lower + 1:\n",
    "        return None\n",
    "    mid = (lower + upper) // 2\n",
    "    if a[mid] == x:\n",
    "        return mid\n",
    "    if x < a[mid]:\n",
    "        return Crsearch(a, x, lower, mid)\n",
    "    else:\n",
    "        return Crsearch(a, x, mid, upper)\n",
    "    \n",
    "\n",
    "cdef qsort(a):\n",
    "    qs(a, 0, len(a)-1)\n",
    "\n",
    "\n",
    "cdef qs(a, p, r):\n",
    "    if p < r:\n",
    "        q = Cartition(a, p, r)\n",
    "        qs(a, p, q-1)\n",
    "        qs(a, q+1, r)"
   ]
  },
  {
   "cell_type": "code",
   "execution_count": null,
   "id": "934bfbfc",
   "metadata": {},
   "outputs": [],
   "source": []
  },
  {
   "cell_type": "code",
   "execution_count": 287,
   "id": "d8bb6cbe",
   "metadata": {},
   "outputs": [
    {
     "data": {
      "text/plain": [
       "'are'"
      ]
     },
     "execution_count": 287,
     "metadata": {},
     "output_type": "execute_result"
    }
   ],
   "source": [
    "s4 = 'string are sequences of characters and are confusing'\n",
    "\n",
    "s4list = s4.split()\n",
    "s4list[1]"
   ]
  },
  {
   "cell_type": "code",
   "execution_count": 288,
   "id": "03c1dc6c",
   "metadata": {},
   "outputs": [
    {
     "name": "stdout",
     "output_type": "stream",
     "text": [
      "52 b'Mayra Roy Javier Foxy characters and are confusing'\n"
     ]
    }
   ],
   "source": [
    "%%cython\n",
    "import time\n",
    "import sys\n",
    "\n",
    "cimport cython\n",
    "cimport numpy as cnp\n",
    "from libc.string cimport strcpy, strlen\n",
    "\n",
    "from libc.math cimport pow, sqrt,ceil\n",
    "\n",
    "cdef char* c4 = 'string are sequences of characters and are confusing'\n",
    "cdef char* Names = 'Mayra Roy Javier Foxy characters and are confusing'\n",
    "\n",
    "\n",
    "\n",
    "print(strlen(c4), Names)"
   ]
  },
  {
   "cell_type": "code",
   "execution_count": null,
   "id": "94652e3d",
   "metadata": {},
   "outputs": [],
   "source": []
  },
  {
   "cell_type": "code",
   "execution_count": 297,
   "id": "43e36093",
   "metadata": {},
   "outputs": [],
   "source": [
    "\n",
    "languages = ['pearl', 'python', 'ruby', 'java', 'c++' ,'java', 'java']\n",
    "\n",
    "\n",
    "\n",
    "def pmt(amt, rate, yrs):\n",
    "    r = rate/100/12\n",
    "    p = 12 * yrs\n",
    "    return r * amt / 1-(1 + r)**-p\n",
    "\n",
    "\n",
    "pmt(150000, 4.5, 30)\n",
    "\n",
    "\n",
    "def print_list(a):\n",
    "    for x in a:\n",
    "        print(x)\n",
    "        \n",
    "def total(a):\n",
    "    sum = 0 \n",
    "    for x in a:\n",
    "        sum += x \n",
    "    return sum"
   ]
  },
  {
   "cell_type": "code",
   "execution_count": 277,
   "id": "1b8bb66f",
   "metadata": {},
   "outputs": [
    {
     "name": "stdout",
     "output_type": "stream",
     "text": [
      "pearl\n",
      "python\n",
      "ruby\n",
      "java\n",
      "c++\n",
      "java\n",
      "562.24 None 15\n"
     ]
    }
   ],
   "source": [
    "%%cython\n",
    "import time\n",
    "import sys\n",
    "\n",
    "cimport cython\n",
    "cimport numpy as cnp\n",
    "from libc.string cimport strcpy, strlen\n",
    "from libc.math cimport pow, sqrt,ceil\n",
    "from time import time\n",
    "\n",
    "\n",
    "cdef list languages = ['pearl', 'python', 'ruby', 'java', 'c++', 'java']\n",
    "\n",
    "\n",
    "cdef Cpmt(int amt, float rate, int yrs):\n",
    "    r = rate/100/12\n",
    "    p = 12 * yrs\n",
    "    return r * amt / 1-(1 + r)**-p\n",
    "\n",
    "cdef print_list(a):\n",
    "    for x in a:\n",
    "        print(x)\n",
    "        \n",
    "cdef total(a):\n",
    "    sum = 0 \n",
    "    for x in a:\n",
    "        sum += x \n",
    "    return sum\n",
    "\n",
    "print(round(Cpmt(150000, 4.5, 30), 3), print_list(languages), total(range(len(languages))))"
   ]
  },
  {
   "cell_type": "code",
   "execution_count": null,
   "id": "358cd1d2",
   "metadata": {},
   "outputs": [],
   "source": []
  },
  {
   "cell_type": "code",
   "execution_count": null,
   "id": "bd33aa5f",
   "metadata": {},
   "outputs": [],
   "source": []
  },
  {
   "cell_type": "code",
   "execution_count": null,
   "id": "78238048",
   "metadata": {},
   "outputs": [],
   "source": [
    "    "
   ]
  },
  {
   "cell_type": "code",
   "execution_count": 349,
   "id": "ba3f119e",
   "metadata": {},
   "outputs": [],
   "source": [
    "%%cython\n",
    "import time\n",
    "import sys\n",
    "\n",
    "cimport cython\n",
    "cimport numpy as cnp\n",
    "from libc.string cimport strcpy, strlen\n",
    "\n",
    "from libc.math cimport pow, sqrt,ceil\n",
    "\n",
    "\n",
    "from time import time\n",
    "\n",
    "x = 0 \n",
    "a = 81\n",
    "c = 337\n",
    "m = 1000\n",
    "\n",
    "def rand():\n",
    "    global x\n",
    "    x = (a * x + c) % m\n",
    "    return x\n",
    "\n",
    "def reset(mult, inc, mod):\n",
    "    global x, a, c, m\n",
    "    \n",
    "    x = 0\n",
    "    a = mult\n",
    "    c = inc \n",
    "    m = mod\n",
    "\n",
    "\n",
    "def roll():\n",
    "    return rand() % 6 + 1\n",
    "    \n",
    "    \n",
    "def Pydice(n):\n",
    "    return [roll() for i in range(n)]"
   ]
  },
  {
   "cell_type": "code",
   "execution_count": 351,
   "id": "867c1cbb",
   "metadata": {},
   "outputs": [
    {
     "data": {
      "text/plain": [
       "[4, 3, 2, 3, 4, 5, 2, 3, 2, 3, 6, 1, 6, 3, 6, 1, 6, 3, 2, 3]"
      ]
     },
     "execution_count": 351,
     "metadata": {},
     "output_type": "execute_result"
    }
   ],
   "source": [
    "Pydice(20)"
   ]
  },
  {
   "cell_type": "code",
   "execution_count": 352,
   "id": "4bd12f21",
   "metadata": {},
   "outputs": [
    {
     "name": "stdout",
     "output_type": "stream",
     "text": [
      "         4 function calls in 0.000 seconds\n",
      "\n",
      "   Ordered by: internal time\n",
      "\n",
      "   ncalls  tottime  percall  cumtime  percall filename:lineno(function)\n",
      "        1    0.000    0.000    0.000    0.000 {built-in method builtins.exec}\n",
      "        1    0.000    0.000    0.000    0.000 {_cython_magic_4954931b8a67a4706cc1a0062308e38c.Pydice}\n",
      "        1    0.000    0.000    0.000    0.000 <string>:1(<module>)\n",
      "        1    0.000    0.000    0.000    0.000 {method 'disable' of '_lsprof.Profiler' objects}\n",
      "\n",
      "\n"
     ]
    }
   ],
   "source": [
    "if __name__ == '__main__':\n",
    "    import cProfile\n",
    "    cProfile.run('Pydice(20)', sort='time')\n",
    "    "
   ]
  },
  {
   "cell_type": "code",
   "execution_count": 353,
   "id": "7595cb94",
   "metadata": {},
   "outputs": [
    {
     "name": "stdout",
     "output_type": "stream",
     "text": [
      "4.01 µs ± 219 ns per loop (mean ± std. dev. of 7 runs, 100,000 loops each)\n"
     ]
    }
   ],
   "source": [
    "%timeit Pydice(20)"
   ]
  },
  {
   "cell_type": "code",
   "execution_count": 354,
   "id": "09a7608c",
   "metadata": {},
   "outputs": [
    {
     "name": "stdout",
     "output_type": "stream",
     "text": [
      "3.73 µs ± 109 ns per loop (mean ± std. dev. of 7 runs, 100,000 loops each)\n"
     ]
    }
   ],
   "source": [
    "%%timeit\n",
    "Pydice(20)"
   ]
  },
  {
   "cell_type": "code",
   "execution_count": null,
   "id": "6fed1ece",
   "metadata": {},
   "outputs": [],
   "source": []
  },
  {
   "cell_type": "code",
   "execution_count": null,
   "id": "59adea01",
   "metadata": {},
   "outputs": [],
   "source": []
  },
  {
   "cell_type": "code",
   "execution_count": null,
   "id": "77f6b885",
   "metadata": {},
   "outputs": [],
   "source": []
  },
  {
   "cell_type": "code",
   "execution_count": null,
   "id": "4917080a",
   "metadata": {},
   "outputs": [],
   "source": []
  },
  {
   "cell_type": "code",
   "execution_count": 363,
   "id": "67bc6f6a",
   "metadata": {},
   "outputs": [],
   "source": [
    "%%cython\n",
    "import time\n",
    "import sys\n",
    "\n",
    "cimport cython\n",
    "cimport numpy as cnp\n",
    "from libc.string cimport strcpy, strlen\n",
    "\n",
    "from libc.math cimport pow, sqrt,ceil\n",
    "\n",
    "\n",
    "from time import time\n",
    "\n",
    "cdef int x = 0 \n",
    "cdef int  a = 81\n",
    "cdef int  c = 337\n",
    "cdef int m = 1000\n",
    "\n",
    "def rand():\n",
    "    global x\n",
    "    x = (a * x + c) % m\n",
    "    return x\n",
    "\n",
    "def reset(mult, inc, mod):\n",
    "    global x, a, c, m\n",
    "    \n",
    "    x = 0\n",
    "    a = mult\n",
    "    c = inc \n",
    "    m = mod\n",
    "\n",
    "\n",
    "def roll():\n",
    "    return rand() % 6 + 1\n",
    "    \n",
    "    \n",
    "cdef list dice = [0]\n",
    "\n",
    "for i in range(15):\n",
    "    dice.append(roll())\n",
    "\n",
    "def Cydice(n):\n",
    "    return [roll() for i in range(n)]\n",
    "\n",
    "\n"
   ]
  },
  {
   "cell_type": "code",
   "execution_count": 364,
   "id": "806e20dd",
   "metadata": {},
   "outputs": [
    {
     "name": "stdout",
     "output_type": "stream",
     "text": [
      "         4 function calls in 0.000 seconds\n",
      "\n",
      "   Ordered by: internal time\n",
      "\n",
      "   ncalls  tottime  percall  cumtime  percall filename:lineno(function)\n",
      "        1    0.000    0.000    0.000    0.000 {built-in method builtins.exec}\n",
      "        1    0.000    0.000    0.000    0.000 {_cython_magic_ab431293f2dd58033c19f273ee27fe4e.Cydice}\n",
      "        1    0.000    0.000    0.000    0.000 <string>:1(<module>)\n",
      "        1    0.000    0.000    0.000    0.000 {method 'disable' of '_lsprof.Profiler' objects}\n",
      "\n",
      "\n"
     ]
    }
   ],
   "source": [
    "if __name__ == '__main__':\n",
    "    import cProfile\n",
    "    cProfile.run('Cydice(20)', sort='time')"
   ]
  },
  {
   "cell_type": "code",
   "execution_count": 367,
   "id": "dcae22f9",
   "metadata": {},
   "outputs": [
    {
     "name": "stdout",
     "output_type": "stream",
     "text": [
      "1.4 µs ± 14.9 ns per loop (mean ± std. dev. of 7 runs, 1,000,000 loops each)\n"
     ]
    }
   ],
   "source": [
    "%timeit Cydice(20)"
   ]
  },
  {
   "cell_type": "code",
   "execution_count": 369,
   "id": "164c8134",
   "metadata": {},
   "outputs": [
    {
     "name": "stdout",
     "output_type": "stream",
     "text": [
      "1.35 µs ± 6.27 ns per loop (mean ± std. dev. of 7 runs, 1,000,000 loops each)\n"
     ]
    }
   ],
   "source": [
    "%%timeit\n",
    "Cydice(20)"
   ]
  },
  {
   "cell_type": "code",
   "execution_count": null,
   "id": "7bffd85e",
   "metadata": {},
   "outputs": [],
   "source": []
  },
  {
   "cell_type": "code",
   "execution_count": null,
   "id": "aa5a13d0",
   "metadata": {},
   "outputs": [],
   "source": []
  },
  {
   "cell_type": "code",
   "execution_count": null,
   "id": "e1d9c06e",
   "metadata": {},
   "outputs": [],
   "source": []
  },
  {
   "cell_type": "code",
   "execution_count": null,
   "id": "149b0833",
   "metadata": {},
   "outputs": [],
   "source": []
  },
  {
   "cell_type": "code",
   "execution_count": 368,
   "id": "9f38016f",
   "metadata": {},
   "outputs": [
    {
     "name": "stdout",
     "output_type": "stream",
     "text": [
      "1.37 µs ± 24.3 ns per loop (mean ± std. dev. of 7 runs, 1,000,000 loops each)\n"
     ]
    }
   ],
   "source": []
  },
  {
   "cell_type": "code",
   "execution_count": 294,
   "id": "1c160a6d",
   "metadata": {},
   "outputs": [
    {
     "name": "stdout",
     "output_type": "stream",
     "text": [
      "None\n"
     ]
    }
   ],
   "source": [
    "%%cython\n",
    "import time\n",
    "import sys\n",
    "from random import randint\n",
    "import numpy as np\n",
    "cimport cython\n",
    "cimport numpy as cnp\n",
    "from libc.string cimport strcpy, strlen\n",
    "\n",
    "from libc.math cimport pow, sqrt,ceil\n",
    "\n",
    "\n",
    "from time import time\n",
    "cdef a = [8, 1, 9, 2, 7, 5, 3, 8, 6, 7, 2, 4, 6, 2, 1, 8, 9, 1, 5, 7,2]\n",
    "cdef list M = [i for i in range(1,10)]\n",
    "cdef list J = [i**2 for i in range(1,10)]\n",
    "\n",
    "\n",
    "cdef Cermute(a):\n",
    "    for i in range(0,len(a)-1):\n",
    "        r = randint(i, len(a)-1)\n",
    "        a[i], a[r] = a[r], a[i]\n",
    "\n",
    "        \n",
    "        \n",
    "        \n",
    "print(Cermute(a))"
   ]
  },
  {
   "cell_type": "code",
   "execution_count": null,
   "id": "148d79f9",
   "metadata": {},
   "outputs": [],
   "source": []
  },
  {
   "cell_type": "code",
   "execution_count": null,
   "id": "8946e1c4",
   "metadata": {},
   "outputs": [],
   "source": [
    "%%cython\n",
    "import time\n",
    "import sys\n",
    "from random import randint\n",
    "import numpy as np\n",
    "cimport cython\n",
    "cimport numpy as cnp\n",
    "from libc.string cimport strcpy, strlen\n",
    "\n",
    "from libc.math cimport pow, sqrt,ceil\n",
    "\n",
    "cdef Coman = { 1: \"I\", 5: \"V\", 10: 'X', 50: \"L\", 100: 'C'}\n",
    "for n in Coman:\n",
    "    Coman[n].lower()\n",
    "    print(Coman)"
   ]
  },
  {
   "cell_type": "code",
   "execution_count": null,
   "id": "1faa298f",
   "metadata": {},
   "outputs": [],
   "source": []
  },
  {
   "cell_type": "code",
   "execution_count": null,
   "id": "15d9e499",
   "metadata": {},
   "outputs": [],
   "source": [
    "from string import punctuation\n",
    "\n",
    "def wf(fn):\n",
    "    \"Make a dictionary of word frequencies\"\n",
    "    count = {}\n",
    "    for line in open(fn):\n",
    "        for w in tokenize(line):\n",
    "            count.setdefault(w, 0)\n",
    "            count[w] += 1\n",
    "    return count\n",
    "\n",
    "\n",
    "def tokenize(s):\n",
    "    'return the list of words in string s'\n",
    "    a = []\n",
    "    for x in s.split():\n",
    "        a.append( x.strip(punctuation).lower())  \n",
    "    return a"
   ]
  },
  {
   "cell_type": "code",
   "execution_count": null,
   "id": "5ccb1429",
   "metadata": {},
   "outputs": [],
   "source": [
    "%%cython\n",
    "import time\n",
    "import sys\n",
    "from random import randint\n",
    "import numpy as np\n",
    "cimport cython\n",
    "cimport numpy as cnp\n",
    "from libc.string cimport strcpy, strlen\n",
    "from libc.math cimport pow, sqrt,ceil\n",
    "from string import punctuation\n",
    "from libc.string cimport strcpy, strlen\n",
    "\n",
    "cdef  hello_world = ['If you have no confidence in self,\\\n",
    "you are twice defeated in the race of life.\\\n",
    "With confidence, you have won even before you have started.']\n",
    "\n",
    "\n",
    "\n",
    "cdef C_create_acronym(x):\n",
    "    for word in (x):\n",
    "        if len(word) > 3:\n",
    "            print(word.title())\n",
    "            \n",
    "            \n",
    "print(C_create_acronym(hello_world))       "
   ]
  },
  {
   "cell_type": "code",
   "execution_count": null,
   "id": "82898537",
   "metadata": {},
   "outputs": [],
   "source": []
  },
  {
   "cell_type": "code",
   "execution_count": null,
   "id": "3a92cf12",
   "metadata": {},
   "outputs": [],
   "source": [
    "def massbodindx(height, weight, units = 'metric'):\n",
    "    if units == 'metric':\n",
    "        return (weight/ height**2)\n",
    "    elif units == 'standard':\n",
    "        return (weight / neight **2) * 703\n",
    "    else:\n",
    "        return None"
   ]
  },
  {
   "cell_type": "code",
   "execution_count": null,
   "id": "80b8cc15",
   "metadata": {},
   "outputs": [],
   "source": [
    "%%cython\n",
    "import time\n",
    "import sys\n",
    "from random import randint\n",
    "import numpy as np\n",
    "cimport cython\n",
    "cimport numpy as cnp\n",
    "from libc.string cimport strcpy, strlen\n",
    "from libc.math cimport pow, sqrt,ceil\n",
    "from string import punctuation\n",
    "from libc.string cimport strcpy, strlen\n",
    "\n",
    "cdef massbodindx(double height, double weight, units = 'metric'):\n",
    "    if units == 'metric':\n",
    "        return (weight/ height**2)\n",
    "    elif units == 'standard':\n",
    "        return (weight / height **2) * 703\n",
    "    else:\n",
    "        return None"
   ]
  },
  {
   "cell_type": "code",
   "execution_count": null,
   "id": "e0fd1c4d",
   "metadata": {},
   "outputs": [],
   "source": []
  },
  {
   "cell_type": "code",
   "execution_count": null,
   "id": "7fb01bc7",
   "metadata": {},
   "outputs": [],
   "source": []
  },
  {
   "cell_type": "code",
   "execution_count": null,
   "id": "6825958c",
   "metadata": {},
   "outputs": [],
   "source": []
  },
  {
   "cell_type": "code",
   "execution_count": null,
   "id": "cd027c3d",
   "metadata": {},
   "outputs": [],
   "source": []
  },
  {
   "cell_type": "code",
   "execution_count": null,
   "id": "3ff3893c",
   "metadata": {},
   "outputs": [],
   "source": []
  },
  {
   "cell_type": "code",
   "execution_count": null,
   "id": "aacab16d",
   "metadata": {},
   "outputs": [],
   "source": []
  },
  {
   "cell_type": "code",
   "execution_count": null,
   "id": "5b045955",
   "metadata": {},
   "outputs": [],
   "source": [
    "%%cython\n",
    "import time\n",
    "import sys\n",
    "from random import randint\n",
    "import numpy as np\n",
    "cimport cython\n",
    "cimport numpy as cnp\n",
    "from libc.string cimport strcpy, strlen\n",
    "from libc.math cimport pow, sqrt,ceil\n",
    "from string import punctuation\n",
    "from libc.string cimport strcpy, strlen\n",
    "\n",
    "\n",
    "cdef  hello_world = ['If you have no confidence in self,\\\n",
    "you are twice defeated in the race of life.\\\n",
    "With confidence, you have won even before you have started.']\n",
    "\n",
    "cdef wf(fn):\n",
    "    cdef count = {}\n",
    "    for line in hello_world:\n",
    "        for w in tokenize(line):\n",
    "            count.setdefault(w, 0)\n",
    "            count[w] += 1\n",
    "    return count\n",
    "\n",
    "\n",
    "cdef tokenize(char* s):\n",
    "    cdef a = []\n",
    "    for x in s.split():\n",
    "        a.append( x.strip(punctuation).lower())  \n",
    "    return a\n",
    "\n",
    "\n",
    "print(wf(hello_world))"
   ]
  },
  {
   "cell_type": "code",
   "execution_count": null,
   "id": "8c4738ec",
   "metadata": {},
   "outputs": [],
   "source": []
  },
  {
   "cell_type": "code",
   "execution_count": null,
   "id": "35e0e4f7",
   "metadata": {},
   "outputs": [],
   "source": [
    "class Card:\n",
    "\n",
    "    'An instance of the Card class is a single playing card.'\n",
    "    suit_sym = {3:'\\u2660', 2:'\\u2665', 1:'\\u2666', 0:'\\u2663'}\n",
    "    rank_sym = {0: \"2\", 1: '3', 2: '4', 3: '5', 4: '6', 5: '7', 6:'8', 7:'9', 8:'10', 9: 'J', 10:'Q', 11: 'K', 12:'A'}\n",
    "\n",
    "    def __init__(self, n):\n",
    "        'Assign the ID for a new card'\n",
    "        self._id = n\n",
    "\n",
    "        \n",
    "    def rank(self):\n",
    "        \"A card's rank is an interger between 0 (2) and 12 (ace).\"\n",
    "        return self._id % 13\n",
    "\n",
    "    def suit(self):\n",
    "        'Return a suit number: 0 = clubs, 1 = diamonds, 2 = hearts, 3 = spades.'\n",
    "        return self._id // 13\n",
    "    \n",
    "    def __repr__(self):\n",
    "        return Card.rank_sym[self.rank()] + Card.suit_sym[self.suit()]\n",
    "\n",
    "    def __eq__(self, other):\n",
    "        return self._id == other._id\n",
    "        \n",
    "\n",
    "def new_deck():\n",
    "    'Create a list of 52 cards objects.'\n",
    "    return [Card(i) for i in range(52)]\n",
    "\n",
    "print([Card(i) for i in range(52)])"
   ]
  },
  {
   "cell_type": "code",
   "execution_count": null,
   "id": "3a4eec9b",
   "metadata": {},
   "outputs": [],
   "source": [
    "%%cython\n",
    "import time\n",
    "import sys\n",
    "from random import randint\n",
    "import numpy as np\n",
    "cimport cython\n",
    "cimport numpy as cnp\n",
    "from libc.string cimport strcpy, strlen\n",
    "\n",
    "from libc.math cimport pow, sqrt,ceil\n",
    "\n",
    "\n",
    "cdef suit_sym = {3:'\\u2660', 2:'\\u2665', 1:'\\u2666', 0:'\\u2663'}\n",
    "cdef rank_sym = {0: \"2\", 1: '3', 2: '4', 3: '5', 4: '6', 5: '7', 6:'8', 7:'9', 8:'10', 9: 'J', 10:'Q', 11: 'K', 12:'A'}\n",
    "\n",
    "cdef class Card:\n",
    "    \n",
    "    def  __init__(self, n):\n",
    "        self._id = n\n",
    "        \n",
    "    def  rank(self):\n",
    "        return self._id % 13\n",
    "\n",
    "    def  suit(self):\n",
    "        return self._id // 13\n",
    "    \n",
    "    def  __repr__(self):\n",
    "        return Card.rank_sym[self.rank()] + Card.suit_sym[self.suit()]\n",
    "\n",
    "    def  __eq__(self, other):\n",
    "        return self._id == other._id\n",
    "        \n",
    "\n",
    "def new_deck():\n",
    "    return [Card(i) for i in range(52)]\n",
    "\n",
    "print([Card(i) for i in range(52)])"
   ]
  },
  {
   "cell_type": "code",
   "execution_count": null,
   "id": "0d943a27",
   "metadata": {},
   "outputs": [],
   "source": [
    "    "
   ]
  },
  {
   "cell_type": "code",
   "execution_count": null,
   "id": "36bc95b7",
   "metadata": {},
   "outputs": [],
   "source": [
    "    'An instance of the Card class is a single playing card.'\n",
    "\n",
    "suit_sym = {3:'\\u2660', 2:'\\u2665', 1:'\\u2666', 0:'\\u2663'}\n",
    "\n",
    "rank_sym = {0: \"2\", 1: '3', 2: '4', 3: '5', 4: '6', 5: '7', 6:'8', 7:'9', 8:'10', 9: 'J', 10:'Q', 11: 'K', 12:'A'}\n",
    "\n",
    "suit_num = dict(zip(suit_sym.values(), suit_sym.keys()))\n",
    "\n",
    "rank_num = dict(zip(rank_sym.values(), rank_sym.keys()))"
   ]
  },
  {
   "cell_type": "code",
   "execution_count": null,
   "id": "6b826cf2",
   "metadata": {},
   "outputs": [],
   "source": [
    "%%cython\n",
    "import time\n",
    "import sys\n",
    "from random import randint\n",
    "import numpy as np\n",
    "cimport cython\n",
    "cimport numpy as cnp\n",
    "from libc.string cimport strcpy, strlen\n",
    "\n",
    "from libc.math cimport pow, sqrt,ceil\n",
    "\n",
    "cdef suit_sym = {3:'\\u2660', 2:'\\u2665', 1:'\\u2666', 0:'\\u2663'}\n",
    "\n",
    "cdef rank_sym = {0: \"2\", 1: '3', 2: '4', 3: '5', 4: '6', 5: '7', 6:'8', 7:'9', 8:'10', 9: 'J', 10:'Q', 11: 'K', 12:'A'}\n",
    "\n",
    "cdef suit_num = dict(zip(suit_sym.values(), suit_sym.keys()))\n",
    "\n",
    "cdef rank_num = dict(zip(rank_sym.values(), rank_sym.keys()))\n",
    "\n",
    "cdef make_card(n):\n",
    "    try:\n",
    "        return Card(n)\n",
    "    except Exception as e:\n",
    "        print('invalid card:', e)\n",
    "        return None\n"
   ]
  },
  {
   "cell_type": "code",
   "execution_count": null,
   "id": "f19e90ed",
   "metadata": {},
   "outputs": [],
   "source": [
    "    "
   ]
  },
  {
   "cell_type": "code",
   "execution_count": null,
   "id": "e2a8371f",
   "metadata": {},
   "outputs": [],
   "source": []
  },
  {
   "cell_type": "code",
   "execution_count": null,
   "id": "fa3a8eb0",
   "metadata": {},
   "outputs": [],
   "source": [
    "%%cython\n",
    "import time\n",
    "import sys\n",
    "from random import randint\n",
    "import numpy as np\n",
    "cimport cython\n",
    "cimport numpy as cnp\n",
    "from libc.string cimport strcpy, strlen\n",
    "\n",
    "from libc.math cimport pow, sqrt,ceil\n",
    "\n",
    "\n",
    "        \n",
    "def permute(a):\n",
    "    \"Rearrange list a in a random order\"\n",
    "    for i in range(0,len(a)-1):\n",
    "        r = randint(i, len(a)-1)\n",
    "        a[i], a[r] = a[r], a[i]\n",
    "\n",
    "        \n"
   ]
  },
  {
   "cell_type": "code",
   "execution_count": null,
   "id": "b84ceffc",
   "metadata": {},
   "outputs": [],
   "source": []
  },
  {
   "cell_type": "code",
   "execution_count": null,
   "id": "cdec7dd8",
   "metadata": {},
   "outputs": [],
   "source": []
  },
  {
   "cell_type": "code",
   "execution_count": null,
   "id": "023b1dfe-210a-416f-8e6c-52de22b7809b",
   "metadata": {},
   "outputs": [],
   "source": []
  },
  {
   "cell_type": "markdown",
   "id": "fd8585c9-f425-405d-80c7-acf73c82bf51",
   "metadata": {},
   "source": [
    "# The Insertion Sort Algorithm \n",
    "\n",
    "## A Helper Function for Insertion Sort:\n",
    "\n",
    "This operation ia itself defined by an iterative algorithm.\n",
    "If i is the current location, we want to scan left from i -1 ands work back towards the beginning of the list.\n",
    "The scan stops when we find a smaller value or the front of the list.\n"
   ]
  },
  {
   "cell_type": "code",
   "execution_count": null,
   "id": "ed62380d",
   "metadata": {},
   "outputs": [],
   "source": []
  },
  {
   "cell_type": "markdown",
   "id": "d4e916d7",
   "metadata": {},
   "source": [
    "\n"
   ]
  },
  {
   "cell_type": "markdown",
   "id": "3c3cb54e",
   "metadata": {},
   "source": [
    "\n",
    "# Chapter 5 - Divide and Conquer\n",
    "\n",
    "### A new strategy: Breaking large problems into smaller subproblems"
   ]
  },
  {
   "cell_type": "markdown",
   "id": "5fb53bb6",
   "metadata": {},
   "source": [
    "\n",
    "A search algo known as binary search uses divide and conquer to look for an item in a list.\n",
    "    \"Binary\" comes from the fact that when the list is divided it is cut into two equals pieces.\n",
    "    \n",
    "Quicksort also uses divide and conquer strategy by breaking a list to be sorted into smaller lists \n",
    "and then sorting each sublist.\n"
   ]
  },
  {
   "cell_type": "code",
   "execution_count": null,
   "id": "2bd8cfff",
   "metadata": {},
   "outputs": [],
   "source": []
  },
  {
   "cell_type": "code",
   "execution_count": null,
   "id": "492e9c65",
   "metadata": {},
   "outputs": [],
   "source": [
    "\"\"\" \n",
    "The Merge Sort Algorithm \n",
    "Works by first diving the input list into several small chunks\n",
    "and the combining the chuncks into biggers and bigger groups until the final merged group includes the full list.\n",
    "The key step in the algo is an operation that merges two small groups that are already in order into a single bigger group\n",
    "\"\"\""
   ]
  },
  {
   "cell_type": "code",
   "execution_count": null,
   "id": "ec736c85",
   "metadata": {},
   "outputs": [],
   "source": []
  },
  {
   "cell_type": "code",
   "execution_count": null,
   "id": "dc769567",
   "metadata": {},
   "outputs": [],
   "source": [
    "# Recursive Functions \n",
    "\n",
    "\"\"\"\n",
    "Parameter passed to the recursive call must be different from the one passed as argumetns in the recursive call.\n",
    "Second recursive call needs to be inside an if statement that tests whether or not to make the call.\n",
    "The if statement checks to see if the problem is solved without a recursive call, is so the problem is solved without the recursive call\n",
    "otherwise it is futher divided and the pieces handed off to the recursive call.\n",
    "\"\"\"\n"
   ]
  },
  {
   "cell_type": "code",
   "execution_count": null,
   "id": "d134904d",
   "metadata": {},
   "outputs": [],
   "source": []
  },
  {
   "cell_type": "code",
   "execution_count": null,
   "id": "d774d663",
   "metadata": {},
   "outputs": [],
   "source": [
    "\n",
    "filename = \"./text/techinterviwe.txt\"\n",
    "\n",
    "\n",
    "f = open(filename)\n",
    "\n",
    "testList = f.readlines(100)"
   ]
  },
  {
   "cell_type": "code",
   "execution_count": null,
   "id": "88e84a95",
   "metadata": {},
   "outputs": [],
   "source": [
    "def filesize(fn):\n",
    "    'Count characters in file fn.'\n",
    "    nchars = 0 \n",
    "    for line in open(fn):\n",
    "        nchars += len(line)\n",
    "    return nchars\n",
    "\n",
    "filesize(filename)"
   ]
  },
  {
   "cell_type": "code",
   "execution_count": null,
   "id": "8b3a8f24",
   "metadata": {},
   "outputs": [],
   "source": []
  },
  {
   "cell_type": "code",
   "execution_count": null,
   "id": "32d8a626",
   "metadata": {},
   "outputs": [],
   "source": [
    "fileline = []\n",
    "\n",
    "def files(filename):\n",
    "    for line in open(filename):\n",
    "        fileline.append(line)\n",
    "        print(line, end='')\n",
    "\n",
    "\n",
    "filename = files(filename)"
   ]
  },
  {
   "cell_type": "code",
   "execution_count": null,
   "id": "0907d686",
   "metadata": {},
   "outputs": [],
   "source": [
    "testList = testList"
   ]
  },
  {
   "cell_type": "code",
   "execution_count": null,
   "id": "01ff26cb",
   "metadata": {},
   "outputs": [],
   "source": [
    "def wc(fn):\n",
    "    \"\"\"\n",
    "    Count the number of lines, words,\n",
    "    and characters in file fn.    \n",
    "    \"\"\"\n",
    "    nlines = nwords = nchars = 0\n",
    "    for line in open(fn):\n",
    "        nlines += 1\n",
    "        nwords += len(line.split())\n",
    "        nchars += len(line)\n",
    "    return nlines, nwords, nchars"
   ]
  },
  {
   "cell_type": "code",
   "execution_count": null,
   "id": "50f7ccca",
   "metadata": {},
   "outputs": [],
   "source": [
    "wc(filename)"
   ]
  },
  {
   "cell_type": "code",
   "execution_count": null,
   "id": "5422371c",
   "metadata": {},
   "outputs": [],
   "source": [
    "filename = \"./text/techinterviwe.txt\"\n",
    "\n",
    "\n",
    "f = open(filename)\n",
    "\n",
    "sS = f.readline()"
   ]
  },
  {
   "cell_type": "code",
   "execution_count": null,
   "id": "6cdc4e70",
   "metadata": {},
   "outputs": [],
   "source": []
  },
  {
   "cell_type": "code",
   "execution_count": null,
   "id": "d6624ff4",
   "metadata": {},
   "outputs": [],
   "source": []
  },
  {
   "cell_type": "code",
   "execution_count": null,
   "id": "eaf38821",
   "metadata": {},
   "outputs": [],
   "source": []
  },
  {
   "cell_type": "code",
   "execution_count": null,
   "id": "da463c94",
   "metadata": {},
   "outputs": [],
   "source": [
    "from PythonLabs.SpamLab import *\n",
    "\n",
    "import tokenize\n",
    "#import spamicity\n",
    "def pspam(fn):\n",
    "    'Compute the probability the message in file fn is spam'\n",
    "    queue = WordQueue(15)\n",
    "  #  pgood = load_probabilities(path_to_data(\"./text/good.txt\"))\n",
    "   # pbad = load_probabilities(path_to_data(\"./text/bad.txt\"))\n",
    "    for line in open(fn):\n",
    "        for word in tokenize(line):\n",
    "            p = spamicity(word, pbad, pgood)\n",
    "            if p != None:\n",
    "                queue.insert(word, p)\n",
    "    return combined_probability(queue)\n",
    "\n",
    "\n",
    "pspam(filename)"
   ]
  },
  {
   "cell_type": "code",
   "execution_count": null,
   "id": "dc1a7814",
   "metadata": {},
   "outputs": [],
   "source": [
    "# Filtering Spam\n",
    "\n",
    "def spamicity(w, pbad, pgood):\n",
    "    '''\n",
    "    Compute the prob a message is spam when it contains a word w.\n",
    "    The dictionary pbad and pgood hold p(w|spam) and p(w|good), repecctively.\n",
    "    '''\n",
    "\n",
    "    if w in pbad and w in pgood:\n",
    "        return pbad[w] / ( pbad[w] + pgood[w] )\n",
    "    else:\n",
    "        return None\n",
    "        "
   ]
  },
  {
   "cell_type": "code",
   "execution_count": null,
   "id": "a0637373",
   "metadata": {},
   "outputs": [],
   "source": [
    "testListPOS = testList[0]\n",
    "testListPOS = testListPOS.split()"
   ]
  },
  {
   "cell_type": "code",
   "execution_count": null,
   "id": "ac01a824",
   "metadata": {},
   "outputs": [],
   "source": [
    "\n",
    "testListNEG = testList[4]\n",
    "testListNEG = testListNEG.split()"
   ]
  },
  {
   "cell_type": "code",
   "execution_count": null,
   "id": "1aa2cb9f",
   "metadata": {},
   "outputs": [],
   "source": []
  },
  {
   "cell_type": "code",
   "execution_count": null,
   "id": "825ab733",
   "metadata": {},
   "outputs": [],
   "source": [
    "create_acronym(testListPOS)"
   ]
  },
  {
   "cell_type": "code",
   "execution_count": null,
   "id": "e213b5d7",
   "metadata": {},
   "outputs": [],
   "source": []
  },
  {
   "cell_type": "code",
   "execution_count": null,
   "id": "333535d8",
   "metadata": {},
   "outputs": [],
   "source": [
    "'''A general formula for adding a new value xi+1 to the end of the list x is\n",
    "\n",
    "    xi+1 =(a X xi + c) mod m'''\n"
   ]
  },
  {
   "cell_type": "code",
   "execution_count": null,
   "id": "24931941",
   "metadata": {},
   "outputs": [],
   "source": [
    "np.histogram(dopedice, bins=2)\n"
   ]
  },
  {
   "cell_type": "code",
   "execution_count": null,
   "id": "0357ebec",
   "metadata": {},
   "outputs": [],
   "source": []
  },
  {
   "cell_type": "code",
   "execution_count": null,
   "id": "32c200c0",
   "metadata": {},
   "outputs": [],
   "source": [
    "# Bad Design\n",
    "\n",
    "class X:\n",
    "    def __init__(self, n):\n",
    "        if n < 0:\n",
    "            print('n must be positive')\n",
    "        else:\n",
    "            self._val = n\n",
    "\n",
    "        "
   ]
  },
  {
   "cell_type": "code",
   "execution_count": null,
   "id": "a2a93832",
   "metadata": {},
   "outputs": [],
   "source": []
  },
  {
   "cell_type": "code",
   "execution_count": null,
   "id": "9e122a08",
   "metadata": {},
   "outputs": [],
   "source": [
    "def __init__(self, arg1, arg2 = None):\n",
    "        if type(arg1) == int:\n",
    "            if arg1 in range(0,52):\n",
    "                self._id = arg1\n",
    "        else:\n",
    "            raise Exception('Card number must be between 0 and 51')\n",
    "            elif arg1 in Card.rank_num and arg2 in Card.suit_num:\n",
    "                self._id = Card.rank_num[arg1] + 13 * Card.suit_num[arg2]\n",
    "        else:\n",
    "            raise Exception('Expected Card(n) or Card(\"rank\", \"suit\")')"
   ]
  }
 ],
 "metadata": {
  "interpreter": {
   "hash": "9ae16ef445867c3ddd8a030e03f508a31c88ab57810e24e3a3afaf36f09532d0"
  },
  "kernelspec": {
   "display_name": "Python 3 (ipykernel)",
   "language": "python",
   "name": "python3"
  },
  "language_info": {
   "codemirror_mode": {
    "name": "ipython",
    "version": 3
   },
   "file_extension": ".py",
   "mimetype": "text/x-python",
   "name": "python",
   "nbconvert_exporter": "python",
   "pygments_lexer": "ipython3",
   "version": "3.8.13"
  }
 },
 "nbformat": 4,
 "nbformat_minor": 5
}
