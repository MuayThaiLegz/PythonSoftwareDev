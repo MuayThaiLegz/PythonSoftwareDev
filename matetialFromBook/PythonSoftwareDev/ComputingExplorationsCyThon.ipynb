{
 "cells": [
  {
   "cell_type": "code",
   "execution_count": 1,
   "id": "63596d9a-007c-4577-8ce6-17808c20a632",
   "metadata": {},
   "outputs": [],
   "source": [
    "from PythonLabs import *"
   ]
  },
  {
   "cell_type": "code",
   "execution_count": 1,
   "id": "17fa909e-c5f1-4d4e-a6fc-19a4d360646a",
   "metadata": {},
   "outputs": [],
   "source": [
    "%load_ext Cython"
   ]
  },
  {
   "cell_type": "code",
   "execution_count": null,
   "id": "0edfbcf2",
   "metadata": {},
   "outputs": [],
   "source": [
    "# Celsius function\n",
    "def celsiusConver(f):\n",
    "    f - 32 * 5/9\n",
    "    return FromCelToFahren(f) \n",
    "    \"Convert temperature f from Fahrenheit to Celsius\"\n",
    "\n",
    "def FromCelToFahren(f):\n",
    "    c = f * 9/5 + 32\n",
    "    return c"
   ]
  },
  {
   "cell_type": "code",
   "execution_count": 21,
   "id": "f10fc288",
   "metadata": {},
   "outputs": [
    {
     "name": "stdout",
     "output_type": "stream",
     "text": [
      "20.0\n"
     ]
    }
   ],
   "source": [
    "%%cython\n",
    "cdef CcelsiusConver(double f):\n",
    "    f - 32 * 5/9\n",
    "    return f\n",
    "    \n",
    "    \n",
    "    \n",
    "print(CcelsiusConver(f=20))  "
   ]
  },
  {
   "cell_type": "code",
   "execution_count": 22,
   "id": "9d78afc9",
   "metadata": {},
   "outputs": [],
   "source": [
    "%%cython\n",
    "cdef FromCelToFahren(int f):\n",
    "    c = f * 9/5 + 32\n",
    "    return c"
   ]
  },
  {
   "cell_type": "code",
   "execution_count": null,
   "id": "28c00b9e-87c6-414a-9e76-30f7c8aadeb7",
   "metadata": {},
   "outputs": [],
   "source": []
  },
  {
   "cell_type": "code",
   "execution_count": 5,
   "id": "1d982c69-4865-4dc9-aa01-9f537ef2166f",
   "metadata": {},
   "outputs": [],
   "source": [
    "def countertop(x):\n",
    "    \"\"\"\n",
    "    Compute the area of a square countertop with a mizzing wedge.\n",
    "    The pameter x is the length of one side of the square.\n",
    "    \"\"\"\n",
    "    \n",
    "    square = x ** 2 # area of the full square\n",
    "    \n",
    "    triangle = ((x / 2 ) ** 2) / 2  # area of the misssing wedge \n",
    "    \n",
    "    return square - triangle"
   ]
  },
  {
   "cell_type": "code",
   "execution_count": 28,
   "id": "ef83f5aa",
   "metadata": {},
   "outputs": [
    {
     "name": "stdout",
     "output_type": "stream",
     "text": [
      "2646.875\n"
     ]
    }
   ],
   "source": [
    "%%cython\n",
    "\n",
    "cdef Ccountertop(double x):\n",
    "    \"\"\"\n",
    "    Compute the area of a square countertop with a mizzing wedge.\n",
    "    The pameter x is the length of one side of the square.\n",
    "    \"\"\"\n",
    "    \n",
    "    square = x ** 2 # area of the full square\n",
    "    \n",
    "    triangle = ((x / 2 ) ** 2) / 2  # area of the misssing wedge \n",
    "    \n",
    "    return square - triangle\n",
    "\n",
    "print(Ccountertop(55))"
   ]
  },
  {
   "cell_type": "code",
   "execution_count": null,
   "id": "4995e807",
   "metadata": {},
   "outputs": [],
   "source": [
    "def add(*args):\n",
    "    total = 0\n",
    "    for x in args:\n",
    "        total += x\n",
    "    return total"
   ]
  },
  {
   "cell_type": "code",
   "execution_count": null,
   "id": "6dd98136",
   "metadata": {},
   "outputs": [],
   "source": [
    "%%cython \n",
    "\n",
    "cdef add3CY(int x,int y, int z):\n",
    "    return x + y + z\n"
   ]
  },
  {
   "cell_type": "code",
   "execution_count": 65,
   "id": "a75b4a2e",
   "metadata": {},
   "outputs": [
    {
     "name": "stdout",
     "output_type": "stream",
     "text": [
      "1773002.7662222502\n",
      "382.77216451009605\n",
      "155.13869555449224\n",
      "None\n"
     ]
    }
   ],
   "source": [
    "%%cython\n",
    "import time\n",
    "import sys\n",
    "\n",
    "cimport cython\n",
    "cimport numpy as cnp\n",
    "\n",
    "from libc.math cimport pow, sqrt\n",
    "\n",
    "\n",
    "cdef mileages = [1331.5415, 19.564564, 12.4554685]\n",
    "\n",
    "cdef partial_total(mileages):\n",
    "    \"\"\"\n",
    "    Compute the total of the first n items in list a.\n",
    "    \"\"\"\n",
    "    for i in mileages:\n",
    "        print(i ** 2)\n",
    "        \n",
    "print(partial_total(mileages))"
   ]
  },
  {
   "cell_type": "code",
   "execution_count": null,
   "id": "b13f5b5c",
   "metadata": {},
   "outputs": [],
   "source": []
  },
  {
   "cell_type": "code",
   "execution_count": null,
   "id": "c2d99bc2",
   "metadata": {},
   "outputs": [],
   "source": []
  },
  {
   "cell_type": "code",
   "execution_count": 30,
   "id": "8903a15c",
   "metadata": {},
   "outputs": [],
   "source": [
    "def subtract(mileages):\n",
    "    return (mileages[0] - mileages[-1], mileages[-2] - mileages[-4])\n",
    "\n",
    "cdef length(mileages):\n",
    "    return sqrt(mileages[0]**2 + mileages[1]**2)\n",
    "\n",
    "\n",
    "cdef add(mileages):\n",
    "    return (mileages[0] + mileages[0], mileages[1] + mileages[1])\n",
    "\n",
    "\n",
    "cdef distanceC(mileages):\n",
    "    return length(subtract(mileages))\n",
    "   \n"
   ]
  },
  {
   "cell_type": "code",
   "execution_count": null,
   "id": "13563efb",
   "metadata": {},
   "outputs": [],
   "source": [
    "# Cython\n",
    "cdef Cyfib(int n):\n",
    "    cdef int int\n",
    "    cdef double a=0.0, b=1.0\n",
    "    for i in range(n):\n",
    "        a, b = a + b, a\n",
    "    return a"
   ]
  },
  {
   "cell_type": "code",
   "execution_count": null,
   "id": "929f3cf1",
   "metadata": {},
   "outputs": [],
   "source": []
  },
  {
   "cell_type": "code",
   "execution_count": null,
   "id": "cfe12d47",
   "metadata": {},
   "outputs": [],
   "source": []
  },
  {
   "cell_type": "code",
   "execution_count": null,
   "id": "a0bf8acb",
   "metadata": {},
   "outputs": [],
   "source": []
  },
  {
   "cell_type": "code",
   "execution_count": null,
   "id": "c7b3748b",
   "metadata": {},
   "outputs": [],
   "source": []
  },
  {
   "cell_type": "code",
   "execution_count": null,
   "id": "e9ffc91d",
   "metadata": {},
   "outputs": [],
   "source": []
  },
  {
   "cell_type": "code",
   "execution_count": 7,
   "id": "84f75f56",
   "metadata": {},
   "outputs": [],
   "source": [
    "def celsisus(f):\n",
    "    \"Convert temperature f from Fahrenheit to Celsius\"\n",
    "    temp = (f - 32) + 5 / 9 \n",
    "    return temp"
   ]
  },
  {
   "cell_type": "code",
   "execution_count": null,
   "id": "d50d2495-0651-465d-bd64-b839d707fd5c",
   "metadata": {},
   "outputs": [],
   "source": []
  },
  {
   "cell_type": "code",
   "execution_count": 9,
   "id": "bb4ff1c8-15bc-4370-85b9-27319b258df7",
   "metadata": {},
   "outputs": [],
   "source": [
    "def marginal_tax_rate(income):\n",
    "    if income < 10000:\n",
    "        return 0.0\n",
    "    elif income < 200000:\n",
    "        return 3.5\n",
    "    else:\n",
    "        return 5.0"
   ]
  },
  {
   "cell_type": "code",
   "execution_count": null,
   "id": "d411c92e-51a6-4722-9e82-291286911968",
   "metadata": {},
   "outputs": [],
   "source": []
  },
  {
   "cell_type": "code",
   "execution_count": 10,
   "id": "901ff0d4",
   "metadata": {},
   "outputs": [
    {
     "data": {
      "text/plain": [
       "'hellohellohello'"
      ]
     },
     "execution_count": 10,
     "metadata": {},
     "output_type": "execute_result"
    }
   ],
   "source": [
    "\"Strings\"\n",
    "\n",
    "s = 'hello'\n",
    "\n",
    "t = \"Who's there?\"\n",
    "\n",
    "s + \"?\"\n",
    "\n",
    "s * 3 "
   ]
  },
  {
   "cell_type": "code",
   "execution_count": 11,
   "id": "da48e2b3",
   "metadata": {},
   "outputs": [
    {
     "name": "stdout",
     "output_type": "stream",
     "text": [
      "True\n",
      "True\n",
      "False\n"
     ]
    }
   ],
   "source": [
    "\n",
    "print(\"ll\" in s)\n",
    "\n",
    "\n",
    "print('here' in t)\n",
    "\n",
    "\n",
    "print('who' in t)\n"
   ]
  },
  {
   "cell_type": "code",
   "execution_count": 12,
   "id": "bc087064",
   "metadata": {},
   "outputs": [
    {
     "data": {
      "text/plain": [
       "4"
      ]
     },
     "execution_count": 12,
     "metadata": {},
     "output_type": "execute_result"
    }
   ],
   "source": [
    "sentence = 'Im from the bay where we hyphy and go dumb. from that soil where them rappers been getting they lingo from'\n",
    "\n",
    "oneWord = 'one'\n",
    "\n",
    "\n",
    "str.count(oneWord, \"\")"
   ]
  },
  {
   "cell_type": "code",
   "execution_count": 13,
   "id": "a0f868ae",
   "metadata": {},
   "outputs": [
    {
     "name": "stdout",
     "output_type": "stream",
     "text": [
      "False\n",
      "True\n"
     ]
    }
   ],
   "source": [
    "test1 = 'duck'\n",
    "\n",
    "test2 = 'fish'\n",
    "\n",
    "print(test1.endswith('h'))\n",
    "\n",
    "print(test2.endswith('h'))"
   ]
  },
  {
   "cell_type": "code",
   "execution_count": null,
   "id": "92692a5e",
   "metadata": {},
   "outputs": [],
   "source": []
  },
  {
   "cell_type": "code",
   "execution_count": 14,
   "id": "110f2313-8d0f-4203-b3c0-4d6d42276288",
   "metadata": {},
   "outputs": [],
   "source": [
    "def plural(w):\n",
    "    \"Return the plural form of word w.\"\n",
    "    if w.endswith('h'):\n",
    "        return w + 'es'\n",
    "    elif w.endswith('y'):\n",
    "        return prefix(w) + 'ies'\n",
    "    else:\n",
    "        return w + 's'\n",
    "                "
   ]
  },
  {
   "cell_type": "code",
   "execution_count": 15,
   "id": "044b1a88-9eb1-40a6-b6e0-dc707a0b7891",
   "metadata": {},
   "outputs": [
    {
     "name": "stdout",
     "output_type": "stream",
     "text": [
      "BJs\n",
      "fishes\n"
     ]
    }
   ],
   "source": [
    "print(plural(\"BJ\"))\n",
    "\n",
    "print(plural(test2))"
   ]
  },
  {
   "cell_type": "code",
   "execution_count": null,
   "id": "b1e3ae8d-25db-4a51-b536-265f3b230591",
   "metadata": {},
   "outputs": [],
   "source": []
  },
  {
   "cell_type": "code",
   "execution_count": 16,
   "id": "1a797a19",
   "metadata": {},
   "outputs": [
    {
     "name": "stdout",
     "output_type": "stream",
     "text": [
      "pon\n",
      "y\n",
      "duc\n",
      "k\n"
     ]
    }
   ],
   "source": [
    "from PythonLabs.Tools import prefix, suffix\n",
    "\n",
    "test4 = 'pony'\n",
    "\n",
    "print(prefix(test4))\n",
    "print(suffix(test4))\n",
    "\n",
    "print(prefix(test1))\n",
    "print(suffix(test1))"
   ]
  },
  {
   "cell_type": "code",
   "execution_count": null,
   "id": "cce47a2d",
   "metadata": {},
   "outputs": [],
   "source": []
  },
  {
   "cell_type": "code",
   "execution_count": 17,
   "id": "8665c69b",
   "metadata": {},
   "outputs": [],
   "source": [
    "from PythonLabs.Tools import prefix\n",
    "\n",
    "def plurals(w):\n",
    "    'Return the plurual form of word w.'\n",
    "    if w.endswith('h') or w.endswith('s'):\n",
    "        return w + 'es'\n",
    "    elif w.endswith('y'):\n",
    "        return prefix(w) + 'ies'\n",
    "    else:\n",
    "        return w + 's'\n"
   ]
  },
  {
   "cell_type": "code",
   "execution_count": 18,
   "id": "851b54a6",
   "metadata": {},
   "outputs": [
    {
     "data": {
      "text/plain": [
       "'ponies'"
      ]
     },
     "execution_count": 18,
     "metadata": {},
     "output_type": "execute_result"
    }
   ],
   "source": [
    "plurals(test4)"
   ]
  },
  {
   "cell_type": "code",
   "execution_count": 19,
   "id": "6b8d7972",
   "metadata": {},
   "outputs": [
    {
     "data": {
      "text/plain": [
       "'force'"
      ]
     },
     "execution_count": 19,
     "metadata": {},
     "output_type": "execute_result"
    }
   ],
   "source": [
    "from PythonLabs.Tools import randnoun\n",
    "\n",
    "randnoun()\n"
   ]
  },
  {
   "cell_type": "code",
   "execution_count": 20,
   "id": "18a98969",
   "metadata": {},
   "outputs": [
    {
     "data": {
      "text/plain": [
       "'worries'"
      ]
     },
     "execution_count": 20,
     "metadata": {},
     "output_type": "execute_result"
    }
   ],
   "source": [
    "plurals(randnoun())"
   ]
  },
  {
   "cell_type": "code",
   "execution_count": null,
   "id": "87b1a618",
   "metadata": {},
   "outputs": [],
   "source": []
  },
  {
   "cell_type": "code",
   "execution_count": 21,
   "id": "ca327c53-c61a-48d9-a2b2-9065ff34a688",
   "metadata": {},
   "outputs": [],
   "source": [
    "def fahrenheit(c):\n",
    "    \"Convert temperature f from Fahrenheit to Celsius\"\n",
    "    f = (c * 9) /5 + 32 \n",
    "    return f"
   ]
  },
  {
   "cell_type": "code",
   "execution_count": 22,
   "id": "785c4810",
   "metadata": {},
   "outputs": [
    {
     "data": {
      "text/plain": [
       "190.4"
      ]
     },
     "execution_count": 22,
     "metadata": {},
     "output_type": "execute_result"
    }
   ],
   "source": [
    "fahrenheit(88)"
   ]
  },
  {
   "cell_type": "code",
   "execution_count": null,
   "id": "14dd7a73",
   "metadata": {},
   "outputs": [],
   "source": []
  },
  {
   "cell_type": "code",
   "execution_count": 23,
   "id": "4b216cb8-f9a7-4328-b7e3-c48eb67ade13",
   "metadata": {},
   "outputs": [
    {
     "data": {
      "text/plain": [
       "75.0"
      ]
     },
     "execution_count": 23,
     "metadata": {},
     "output_type": "execute_result"
    }
   ],
   "source": [
    "distance_unit_Miles = 1 \n",
    "\n",
    "timelen = 3600\n",
    "\n",
    "mph = timelen / 48\n",
    "\n",
    "mph"
   ]
  },
  {
   "cell_type": "code",
   "execution_count": 24,
   "id": "285f2637-0c9f-4580-8ca7-e8c394ce7816",
   "metadata": {},
   "outputs": [],
   "source": [
    "def mphCal(t=3600):\n",
    "    timelens = t\n",
    "    return timelens / 60 * 100"
   ]
  },
  {
   "cell_type": "code",
   "execution_count": 25,
   "id": "40eff9bd-f68c-423f-9d7c-c8a43b753681",
   "metadata": {},
   "outputs": [
    {
     "data": {
      "text/plain": [
       "6000.0"
      ]
     },
     "execution_count": 25,
     "metadata": {},
     "output_type": "execute_result"
    }
   ],
   "source": [
    "catch = mphCal()\n",
    "\n",
    "\n",
    "catch"
   ]
  },
  {
   "cell_type": "code",
   "execution_count": 26,
   "id": "f94b90c5-79bb-4daf-9437-b3c16a342bec",
   "metadata": {},
   "outputs": [],
   "source": [
    "def bmi(weight, height):\n",
    "    modyMassIndex = weight / height**2 * 703\n",
    "    return modyMassIndex"
   ]
  },
  {
   "cell_type": "code",
   "execution_count": 27,
   "id": "c2192a1b-4c83-4747-bb1b-e6ac56e176d0",
   "metadata": {},
   "outputs": [
    {
     "data": {
      "text/plain": [
       "25.559210526315788"
      ]
     },
     "execution_count": 27,
     "metadata": {},
     "output_type": "execute_result"
    }
   ],
   "source": [
    "bmi(210, 76) "
   ]
  },
  {
   "cell_type": "code",
   "execution_count": null,
   "id": "f39bd3f4-d66b-41b9-922b-1d5026353a15",
   "metadata": {},
   "outputs": [],
   "source": []
  },
  {
   "cell_type": "code",
   "execution_count": 28,
   "id": "d37c18e8-9106-4756-945b-43c2f48cacb9",
   "metadata": {},
   "outputs": [],
   "source": [
    "# This computes monthly paymetns on a loan\n",
    "\n",
    "def pmt(amt, rate, yrs):\n",
    "    r = rate/100/12\n",
    "    p = 12 * yrs\n",
    "    return r * amt / 1-(1 + r)**-p"
   ]
  },
  {
   "cell_type": "code",
   "execution_count": 29,
   "id": "4671d58e-27bb-47c4-8175-d19cd5b216bd",
   "metadata": {},
   "outputs": [
    {
     "data": {
      "text/plain": [
       "562.2401043462833"
      ]
     },
     "execution_count": 29,
     "metadata": {},
     "output_type": "execute_result"
    }
   ],
   "source": [
    "pmt(150000, 4.5, 30)"
   ]
  },
  {
   "cell_type": "code",
   "execution_count": null,
   "id": "d1b892b5-56ba-4650-bef9-af1339fe9c84",
   "metadata": {},
   "outputs": [],
   "source": []
  },
  {
   "cell_type": "code",
   "execution_count": 30,
   "id": "a0ee4ae8-5df5-49b9-aae2-c010805f6202",
   "metadata": {},
   "outputs": [
    {
     "data": {
      "text/plain": [
       "''"
      ]
     },
     "execution_count": 30,
     "metadata": {},
     "output_type": "execute_result"
    }
   ],
   "source": [
    "# ERA = 27 X runs/outs\n",
    "\n",
    "def era(runs, outs):\n",
    "    return 27 * runs / outs\n",
    "\n",
    "'Define a function named repeat that will take a word s and an integer n as the arguments and return n copies of s'\n",
    "\n",
    "def repeat(s, n):\n",
    "    return(s * n)\n",
    "    \n",
    "\"\"    "
   ]
  },
  {
   "cell_type": "code",
   "execution_count": 31,
   "id": "95d2378d",
   "metadata": {},
   "outputs": [
    {
     "name": "stdout",
     "output_type": "stream",
     "text": [
      "3.6\n",
      "Win, Win, Win, \n"
     ]
    }
   ],
   "source": [
    "print(era(2, 15))\n",
    "\n",
    "print(repeat('Win, ',  3))"
   ]
  },
  {
   "cell_type": "code",
   "execution_count": null,
   "id": "a0651e92",
   "metadata": {},
   "outputs": [],
   "source": []
  },
  {
   "cell_type": "code",
   "execution_count": 32,
   "id": "5846f71d",
   "metadata": {},
   "outputs": [
    {
     "data": {
      "text/plain": [
       "15"
      ]
     },
     "execution_count": 32,
     "metadata": {},
     "output_type": "execute_result"
    }
   ],
   "source": [
    "from PythonLabs.SieveLab import sieve\n",
    "\n",
    "sieveList = list(sieve(50))\n",
    "\n",
    "len(sieveList)"
   ]
  },
  {
   "cell_type": "code",
   "execution_count": 33,
   "id": "34a3e589",
   "metadata": {},
   "outputs": [
    {
     "name": "stdout",
     "output_type": "stream",
     "text": [
      "0\n",
      "1\n",
      "2\n"
     ]
    }
   ],
   "source": [
    "breakfast = []\n",
    "\n",
    "print(len(breakfast))\n",
    "\n",
    "breakfast.append(['spam', 'eggs'])\n",
    "\n",
    "print(len(breakfast))\n",
    "\n",
    "breakfast.append('hashbrowns')\n",
    "\n",
    "print(len(breakfast))"
   ]
  },
  {
   "cell_type": "code",
   "execution_count": 34,
   "id": "cc924efb",
   "metadata": {},
   "outputs": [],
   "source": [
    "def randCreator(n):\n",
    "    listOfrand = []\n",
    "    for i in range(5):\n",
    "        i = randnoun()\n",
    "        listOfrand.append(i)\n",
    "    return listOfrand\n",
    "\n",
    "lit = randCreator(10)"
   ]
  },
  {
   "cell_type": "code",
   "execution_count": 35,
   "id": "a18d6854",
   "metadata": {},
   "outputs": [
    {
     "data": {
      "text/plain": [
       "'arguing'"
      ]
     },
     "execution_count": 35,
     "metadata": {},
     "output_type": "execute_result"
    }
   ],
   "source": [
    "lit[2]"
   ]
  },
  {
   "cell_type": "code",
   "execution_count": 36,
   "id": "f0cca3b0",
   "metadata": {},
   "outputs": [],
   "source": [
    "def print_list(a):\n",
    "    for x in a:\n",
    "        print(x)\n",
    "        \n",
    "def total(a):\n",
    "    sum = 0 \n",
    "    for x in a:\n",
    "        sum += x \n",
    "    return sum"
   ]
  },
  {
   "cell_type": "code",
   "execution_count": null,
   "id": "dda67f81",
   "metadata": {},
   "outputs": [],
   "source": []
  },
  {
   "cell_type": "code",
   "execution_count": 37,
   "id": "92c96ac9-5148-4804-9766-a7b028676f6a",
   "metadata": {},
   "outputs": [],
   "source": [
    "# Iterationg Over Lists: for statementns"
   ]
  },
  {
   "cell_type": "code",
   "execution_count": 38,
   "id": "df1363b0-ca0b-4628-ba11-299aa7feecd1",
   "metadata": {},
   "outputs": [],
   "source": [
    "def partial_total(n,a):\n",
    "    \"\"\"\n",
    "    Compute the total of the first n items in list a.\n",
    "    \"\"\"\n",
    "    sum = 0 \n",
    "    for i in range(0,n):\n",
    "        sum += a[i]\n",
    "        return sum\n",
    "    "
   ]
  },
  {
   "cell_type": "code",
   "execution_count": 39,
   "id": "de959cd3-bd6e-402d-b08d-84f378f8d76d",
   "metadata": {},
   "outputs": [
    {
     "name": "stdout",
     "output_type": "stream",
     "text": [
      "1 1.0\n",
      "2 1.4142135623730951\n",
      "3 1.7320508075688772\n",
      "4 2.0\n",
      "5 2.23606797749979\n",
      "6 2.449489742783178\n",
      "7 2.6457513110645907\n",
      "8 2.8284271247461903\n",
      "9 3.0\n",
      "10 3.1622776601683795\n",
      "11 3.3166247903554\n",
      "12 3.4641016151377544\n",
      "13 3.605551275463989\n",
      "14 3.7416573867739413\n",
      "15 3.872983346207417\n",
      "16 4.0\n",
      "17 4.123105625617661\n",
      "18 4.242640687119285\n",
      "19 4.358898943540674\n",
      "20 4.47213595499958\n",
      "21 4.58257569495584\n",
      "22 4.69041575982343\n",
      "23 4.795831523312719\n",
      "24 4.898979485566356\n"
     ]
    }
   ],
   "source": [
    "from math import sqrt \n",
    "tryIT = []\n",
    "for i in range(1,25):\n",
    "    tryIT.append(sqrt(i))\n",
    "\n",
    "    print(i, sqrt(i))\n",
    "\n",
    "    "
   ]
  },
  {
   "cell_type": "code",
   "execution_count": null,
   "id": "5be98040",
   "metadata": {},
   "outputs": [],
   "source": []
  },
  {
   "cell_type": "code",
   "execution_count": null,
   "id": "b84ceffc",
   "metadata": {},
   "outputs": [],
   "source": []
  },
  {
   "cell_type": "code",
   "execution_count": 40,
   "id": "32aa7f5c-19ac-40db-95f8-3339ee3d4854",
   "metadata": {},
   "outputs": [],
   "source": [
    "from PythonLabs.SieveLab import * "
   ]
  },
  {
   "cell_type": "code",
   "execution_count": 41,
   "id": "a4368191-7b47-4f93-bf99-db2c45226165",
   "metadata": {},
   "outputs": [],
   "source": [
    "\n",
    "def retSeive(n):\n",
    "    worksheet = [None, None] + list(range(2,n))\n",
    "    return worksheet"
   ]
  },
  {
   "cell_type": "code",
   "execution_count": 42,
   "id": "0608afa4",
   "metadata": {},
   "outputs": [
    {
     "data": {
      "text/plain": [
       "[None, None, 2, 3, 4, 5, 6, 7, 8, 9]"
      ]
     },
     "execution_count": 42,
     "metadata": {},
     "output_type": "execute_result"
    }
   ],
   "source": [
    "\n",
    "worksheet = [None, None] + list(range(2,10))\n",
    "worksheet"
   ]
  },
  {
   "cell_type": "code",
   "execution_count": 43,
   "id": "6e68760d-1ac1-4847-85ad-edf5590cd401",
   "metadata": {},
   "outputs": [
    {
     "data": {
      "text/plain": [
       "<PythonLabs.SieveLab.SieveView at 0x277b4f814c8>"
      ]
     },
     "execution_count": 43,
     "metadata": {},
     "output_type": "execute_result"
    }
   ],
   "source": [
    "view_sieve(worksheet)"
   ]
  },
  {
   "cell_type": "code",
   "execution_count": 44,
   "id": "15831210-9d2d-46de-8070-441f21ea2a63",
   "metadata": {},
   "outputs": [
    {
     "data": {
      "text/plain": [
       "[None, None, 2, 3, 4, 5, 6, 7, 8, 9, 10, 11, 12, 13, 14, 15, 16, 17, 18, 19]"
      ]
     },
     "execution_count": 44,
     "metadata": {},
     "output_type": "execute_result"
    }
   ],
   "source": [
    "retSeive(20)"
   ]
  },
  {
   "cell_type": "code",
   "execution_count": 45,
   "id": "0bad9929",
   "metadata": {},
   "outputs": [],
   "source": [
    "mark_multiples(2, worksheet)"
   ]
  },
  {
   "cell_type": "code",
   "execution_count": null,
   "id": "cdec7dd8",
   "metadata": {},
   "outputs": [],
   "source": []
  },
  {
   "cell_type": "code",
   "execution_count": 46,
   "id": "0e10577a-0344-4157-8251-ef78963d3fc6",
   "metadata": {},
   "outputs": [
    {
     "data": {
      "text/plain": [
       "[None, None, 2, 3, 4]"
      ]
     },
     "execution_count": 46,
     "metadata": {},
     "output_type": "execute_result"
    }
   ],
   "source": [
    "''' \n",
    "A Helper Function:\n",
    "Programmers write these sorts of specialized functions as a way of focusing on a sigle aspect of a complex\n",
    "problem, allowing them to design and test the code for each piece separately.\n",
    "'''\n",
    "\n",
    "def sift(k, a):\n",
    "    \"Remove multiples of k from list a\"\n",
    "    for i in range(2*k, len(a), k):\n",
    "        a[i] = None\n",
    "        \n",
    "sift(5, worksheet)\n",
    "\n",
    "worksheet[:5]"
   ]
  },
  {
   "cell_type": "code",
   "execution_count": 47,
   "id": "4843430e-0bac-4ace-8611-265a01bfed84",
   "metadata": {},
   "outputs": [],
   "source": [
    "from math import sqrt, ceil \n",
    "\n",
    "def sieve(n):\n",
    "    \"Return a list of all prime numbers less than n\"\n",
    "    \n",
    "    worksheet = [None, None] + list(range(2,n))\n",
    "    \n",
    "    for k in range(2, ceil(sqrt(n))):\n",
    "        if worksheet[k] is not None:\n",
    "            sift(k, worksheet)\n",
    "            \n",
    "    return non_nulls(worksheet)\n",
    "\n",
    "def sift(k, a):\n",
    "    \"Remove multiples of k from list a\"\n",
    "    for i in range(2*k, len(a), k):\n",
    "        a[i] = None\n",
    "        \n",
    "        \n",
    "def non_nulls(a):\n",
    "    'Return a copy of list a with None objects removed'\n",
    "    res = []\n",
    "    for x in a:\n",
    "        if x is not None:\n",
    "            res.append(x)\n",
    "    return res"
   ]
  },
  {
   "cell_type": "code",
   "execution_count": null,
   "id": "023b1dfe-210a-416f-8e6c-52de22b7809b",
   "metadata": {},
   "outputs": [],
   "source": []
  },
  {
   "cell_type": "code",
   "execution_count": 48,
   "id": "ced07e19-0e4d-4183-98c4-495094d016e9",
   "metadata": {},
   "outputs": [],
   "source": [
    "from sys import argv \n",
    "\n",
    "def celsius(f):\n",
    "    \"[PythonLabs] Convert temperature t from Fahrenheit to Celsius.\"\n",
    "    return (f - 32) * 5 / 9\n",
    "\n",
    "\n",
    "if __name__ == \"__main__\" :\n",
    "    celsisus(56)\n",
    "    \n"
   ]
  },
  {
   "cell_type": "code",
   "execution_count": 49,
   "id": "90c12677",
   "metadata": {},
   "outputs": [
    {
     "ename": "IndexError",
     "evalue": "list index out of range",
     "output_type": "error",
     "traceback": [
      "\u001b[1;31m---------------------------------------------------------------------------\u001b[0m",
      "\u001b[1;31mIndexError\u001b[0m                                Traceback (most recent call last)",
      "\u001b[1;32m~\\AppData\\Local\\Temp/ipykernel_18388/595474186.py\u001b[0m in \u001b[0;36m<module>\u001b[1;34m\u001b[0m\n\u001b[0;32m      1\u001b[0m \u001b[1;31m#print(argv)\u001b[0m\u001b[1;33m\u001b[0m\u001b[1;33m\u001b[0m\u001b[1;33m\u001b[0m\u001b[0m\n\u001b[1;32m----> 2\u001b[1;33m \u001b[0mt\u001b[0m \u001b[1;33m=\u001b[0m \u001b[0mint\u001b[0m\u001b[1;33m(\u001b[0m\u001b[0margv\u001b[0m\u001b[1;33m[\u001b[0m\u001b[1;36m5\u001b[0m\u001b[1;33m]\u001b[0m\u001b[1;33m)\u001b[0m\u001b[1;33m\u001b[0m\u001b[1;33m\u001b[0m\u001b[0m\n\u001b[0m\u001b[0;32m      3\u001b[0m \u001b[0mprint\u001b[0m\u001b[1;33m(\u001b[0m\u001b[0mcelsius\u001b[0m\u001b[1;33m(\u001b[0m\u001b[0mt\u001b[0m\u001b[1;33m)\u001b[0m\u001b[1;33m)\u001b[0m\u001b[1;33m\u001b[0m\u001b[1;33m\u001b[0m\u001b[0m\n",
      "\u001b[1;31mIndexError\u001b[0m: list index out of range"
     ]
    }
   ],
   "source": [
    "    #print(argv)\n",
    "    t = int(argv[5])\n",
    "    print(celsius(t))"
   ]
  },
  {
   "cell_type": "markdown",
   "id": "fe52933e-325b-4b70-bab0-0bb996b112c5",
   "metadata": {},
   "source": []
  },
  {
   "cell_type": "code",
   "execution_count": null,
   "id": "62f4abcf-5446-496a-8ae3-d859ca2c6b2c",
   "metadata": {},
   "outputs": [],
   "source": [
    "def prime_before(a):\n",
    "    return sift(2, a)\n",
    "    \n",
    "    \n",
    "    "
   ]
  },
  {
   "cell_type": "code",
   "execution_count": null,
   "id": "6d4de6c5-a5ba-485c-b10b-ce4ae29002da",
   "metadata": {},
   "outputs": [],
   "source": [
    "prime_before(100)"
   ]
  },
  {
   "cell_type": "code",
   "execution_count": null,
   "id": "413206c0-67a5-4c63-973d-3366455347ac",
   "metadata": {},
   "outputs": [],
   "source": [
    "def sift(k, a):\n",
    "    \"Remove multiples of k from list a\"\n",
    "    for i in range(2*k, len(a), k):\n",
    "        a[i] = None"
   ]
  },
  {
   "cell_type": "code",
   "execution_count": null,
   "id": "6d771d2d-c195-47ab-bca9-6f726be6aed4",
   "metadata": {},
   "outputs": [],
   "source": [
    "from PythonLabs.IterationLab import *"
   ]
  },
  {
   "cell_type": "markdown",
   "id": "547d82c5",
   "metadata": {},
   "source": [
    "\"Chapter 4 Searching Algorithm\""
   ]
  },
  {
   "cell_type": "code",
   "execution_count": null,
   "id": "81d14f62",
   "metadata": {},
   "outputs": [],
   "source": [
    "RandomList.sources()"
   ]
  },
  {
   "cell_type": "code",
   "execution_count": null,
   "id": "1119f696-97ca-43df-9bd9-ac49f9f44448",
   "metadata": {},
   "outputs": [],
   "source": [
    "# The Linear Search Algorithm\n",
    "\n",
    "a = [8, 1, 9, 2, 7, 5, 3]"
   ]
  },
  {
   "cell_type": "code",
   "execution_count": null,
   "id": "e0d4dea3-23f3-42b9-b8ac-c2d687114efd",
   "metadata": {},
   "outputs": [],
   "source": []
  },
  {
   "cell_type": "code",
   "execution_count": null,
   "id": "ad3c8a5b",
   "metadata": {},
   "outputs": [],
   "source": [
    "%%timeit\n",
    "\n",
    "RandomList(5)\n",
    "\n",
    "RandomList(5, 'cars')"
   ]
  },
  {
   "cell_type": "code",
   "execution_count": null,
   "id": "afbbde64-fcfb-43dc-a490-6c4ba37427f0",
   "metadata": {},
   "outputs": [],
   "source": [
    "\n"
   ]
  },
  {
   "cell_type": "code",
   "execution_count": null,
   "id": "86dbe5a5-085b-4278-a1ac-12c57703f70d",
   "metadata": {},
   "outputs": [],
   "source": [
    "# Implementing Linear Search\n",
    "\n",
    "def linsearch(a, x):\n",
    "    \"Use a for loop to search for x\"\n",
    "    for i in range(0, len(a)):\n",
    "        if a[i] == x:\n",
    "            return i \n",
    "    return None\n",
    "\n"
   ]
  },
  {
   "cell_type": "code",
   "execution_count": null,
   "id": "7ddb1fc2",
   "metadata": {},
   "outputs": [],
   "source": [
    "%%timeit\n",
    "\n",
    "linsearch(a, 3)"
   ]
  },
  {
   "cell_type": "code",
   "execution_count": null,
   "id": "4d435636",
   "metadata": {},
   "outputs": [],
   "source": [
    "def linearSearch(a, x):\n",
    "    \"Use a while loop to search for x\"\n",
    "    i = 0 \n",
    "    while i < len(a):\n",
    "        if a[i] == x:\n",
    "            return i\n",
    "        i += 1 \n",
    "    return None"
   ]
  },
  {
   "cell_type": "code",
   "execution_count": null,
   "id": "62966b7d",
   "metadata": {},
   "outputs": [],
   "source": [
    "%%timeit\n",
    "\n",
    "\n",
    "linearSearch(a, 9)"
   ]
  },
  {
   "cell_type": "code",
   "execution_count": null,
   "id": "822f619b",
   "metadata": {},
   "outputs": [],
   "source": [
    "print(4)"
   ]
  },
  {
   "cell_type": "markdown",
   "id": "fd8585c9-f425-405d-80c7-acf73c82bf51",
   "metadata": {},
   "source": [
    "# The Insertion Sort Algorithm \n",
    "\n",
    "## A Helper Function for Insertion Sort:\n",
    "\n",
    "This operation ia itself defined by an iterative algorithm.\n",
    "If i is the current location, we want to scan left from i -1 ands work back towards the beginning of the list.\n",
    "The scan stops when we find a smaller value or the front of the list.\n"
   ]
  },
  {
   "cell_type": "code",
   "execution_count": null,
   "id": "ed62380d",
   "metadata": {},
   "outputs": [],
   "source": [
    "# Implementing Insertion Sort \n",
    "\n",
    "def isort(a):\n",
    "    'Sort list a using insertion sort'\n",
    "    for i in range(1, len(a)):\n",
    "        print(a[:i], a[i:])\n",
    "        move_left(a,i)\n",
    "        \n",
    "\n",
    "def move_left(a, j):\n",
    "    'isort helper function that moves a[j]'\n",
    "    x = a.pop(j)\n",
    "    while j > 0 and a [j - 1] > x:\n",
    "        j -= 1\n",
    "    a.insert(j, x)      "
   ]
  },
  {
   "cell_type": "code",
   "execution_count": null,
   "id": "9b337e8e-ea0f-492d-bdb4-08ba6ccb63d5",
   "metadata": {},
   "outputs": [],
   "source": [
    "    \n",
    "a = [8, 1, 9, 2, 7, 5, 3]\n",
    "\n",
    "print(a)\n",
    "\n",
    "move_left(a, 1)\n",
    "\n",
    "print(a)\n",
    "\n",
    "isort(a)\n",
    "\n",
    "print(a)"
   ]
  },
  {
   "cell_type": "code",
   "execution_count": null,
   "id": "827d17d0",
   "metadata": {},
   "outputs": [],
   "source": [
    "  # Tutorial Project"
   ]
  },
  {
   "cell_type": "code",
   "execution_count": null,
   "id": "81a88998",
   "metadata": {},
   "outputs": [],
   "source": [
    "gas  = ['H', 'O', 'He', 'Ar', 'Xe']\n",
    "\n",
    "isearch(gas, 'C')\n",
    "\n",
    "# Find out number of comparisions this search\n",
    "\n",
    "Counter.value('comparisons')"
   ]
  },
  {
   "cell_type": "code",
   "execution_count": null,
   "id": "0eb22ae8",
   "metadata": {},
   "outputs": [],
   "source": [
    "ab = RandomList(10, 'elements'); isearch(a, a.random('success'))"
   ]
  },
  {
   "cell_type": "code",
   "execution_count": null,
   "id": "60628806",
   "metadata": {},
   "outputs": [],
   "source": [
    "ab = RandomList(10, 'elements'); isearch(a, a.random('fail'))"
   ]
  },
  {
   "cell_type": "code",
   "execution_count": null,
   "id": "e8a40355",
   "metadata": {},
   "outputs": [],
   "source": []
  },
  {
   "cell_type": "code",
   "execution_count": null,
   "id": "7331963f-45bd-4345-a553-286b7f51fa60",
   "metadata": {},
   "outputs": [],
   "source": [
    "# create test list of varying sizes and count the number of comparisons required to sort them\n",
    "\n",
    "testlist1 = RandomList(10); isort(testlist1); Counter.value('comparisons')"
   ]
  },
  {
   "cell_type": "code",
   "execution_count": null,
   "id": "15cb870e-e353-4297-a9e1-9120eace31bb",
   "metadata": {},
   "outputs": [],
   "source": [
    "# Scalablity\n",
    "\n",
    "scale = RandomList(10, 'elements') ; isort(scale) ; print(Counter.value('comparisons'))"
   ]
  },
  {
   "cell_type": "code",
   "execution_count": null,
   "id": "395b7dee-8ee7-4b69-b5ef-b0fcaf0a5e32",
   "metadata": {},
   "outputs": [],
   "source": [
    "\"\"\"\n",
    "\n",
    "The Art of Programming (part II):\n",
    "\n",
    "In most situations it is probably best to go with a for loop it takes only one line to describe\n",
    "the loop. You wont have to worry about initializing a loop index or causing an infinite loop.\n",
    "\n",
    "\"\"\"\n",
    "def scler(x):\n",
    "    for i in x:\n",
    "        return x.lower()\n",
    "\n",
    "\n",
    "i = 0\n",
    "def whilescale(x):\n",
    "    while i < len(x[1]):\n",
    "        print(x)\n",
    "    \n",
    "    \n",
    "    \n",
    "# A version of isort written using nested loops (a while loop inside a for loop) instead of a call a helper function.\n",
    "\n",
    "def isort(a):\n",
    "    for i in range(1, len(a)):\n",
    "        j = i\n",
    "        x = a.pop(j)\n",
    "        while j > 0 and a[j-i] > x:\n",
    "            j -= 1\n",
    "        a.insert(j, x)\n",
    "\n",
    "\n"
   ]
  },
  {
   "cell_type": "code",
   "execution_count": null,
   "id": "82f81dda",
   "metadata": {},
   "outputs": [],
   "source": [
    "# Exercises\n",
    "\n",
    "languages = ['pearl', 'python', 'ruby', 'java', 'c++' ,'java', 'java']\n",
    "\n",
    "isearch(languages, 'java')"
   ]
  },
  {
   "cell_type": "code",
   "execution_count": null,
   "id": "a273547a-912f-4508-a700-584dcbb3f41a",
   "metadata": {},
   "outputs": [],
   "source": [
    "# the highest total number of comparisions that isort would ever have to make to sort a list with n items is roughly \n",
    "# n ** 2/2 / Linear search making up to n comparisons\n",
    "\n",
    "# Programming Projects \n",
    "\n",
    "haloges = ['F', 'Cl', 'Br', 'I', 'At']\n",
    "\n",
    "isort(haloges)"
   ]
  },
  {
   "cell_type": "markdown",
   "id": "d4e916d7",
   "metadata": {},
   "source": [
    "\n"
   ]
  },
  {
   "cell_type": "code",
   "execution_count": null,
   "id": "d70eab53",
   "metadata": {},
   "outputs": [],
   "source": [
    "%%timeit\n",
    "\n",
    "isort(a)\n",
    "\n",
    "#"
   ]
  },
  {
   "cell_type": "markdown",
   "id": "3c3cb54e",
   "metadata": {},
   "source": [
    "\n",
    "# Chapter 5 - Divide and Conquer\n",
    "\n",
    "### A new strategy: Breaking large problems into smaller subproblems"
   ]
  },
  {
   "cell_type": "markdown",
   "id": "5fb53bb6",
   "metadata": {},
   "source": [
    "\n",
    "A search algo known as binary search uses divide and conquer to look for an item in a list.\n",
    "    \"Binary\" comes from the fact that when the list is divided it is cut into two equals pieces.\n",
    "    \n",
    "Quicksort also uses divide and conquer strategy by breaking a list to be sorted into smaller lists \n",
    "and then sorting each sublist.\n"
   ]
  },
  {
   "cell_type": "code",
   "execution_count": 1,
   "id": "1a249d30",
   "metadata": {},
   "outputs": [
    {
     "data": {
      "text/plain": [
       "6"
      ]
     },
     "execution_count": 1,
     "metadata": {},
     "output_type": "execute_result"
    }
   ],
   "source": [
    "# The Binary Search Algorithm \n",
    "\n",
    "from PythonLabs.RecursionLab import *\n",
    "\n",
    "application = ['h', 'c', 'd', 'f', 'g', 'h', 'j']\n",
    "\n",
    "bsearch(application, 'j')"
   ]
  },
  {
   "cell_type": "code",
   "execution_count": 2,
   "id": "2bb5f8d6",
   "metadata": {},
   "outputs": [
    {
     "data": {
      "text/plain": [
       "['h', 'c', 'd', 'f', 'g', 'h', 'j']"
      ]
     },
     "execution_count": 2,
     "metadata": {},
     "output_type": "execute_result"
    }
   ],
   "source": [
    "application"
   ]
  },
  {
   "cell_type": "code",
   "execution_count": 3,
   "id": "93b9725a",
   "metadata": {},
   "outputs": [
    {
     "name": "stdout",
     "output_type": "stream",
     "text": [
      "[1, 3, 4, 8, 23, 25, 26, 28, 31, 56, 58, 68, 92, 129, 136, 144, 149, 152, 156, 165, 184, 185, 196, 201, 224, 234, 239, 252, 256, 296, 303, 306, 310, 316, 325, 336, 342, 362, 366, 370, 393, 409, 415, 416, 427, 438, 464, 469, 473, 479, 493, 495, 502, 510, 535]\n"
     ]
    }
   ],
   "source": [
    "a = RandomList(55, sorted=True)\n",
    "\n",
    "print(a)\n",
    "\n"
   ]
  },
  {
   "cell_type": "code",
   "execution_count": 4,
   "id": "3c00c29b",
   "metadata": {},
   "outputs": [
    {
     "data": {
      "text/plain": [
       "16"
      ]
     },
     "execution_count": 4,
     "metadata": {},
     "output_type": "execute_result"
    }
   ],
   "source": [
    "bsearch(a, a.random('success'))"
   ]
  },
  {
   "cell_type": "code",
   "execution_count": 5,
   "id": "852be67b",
   "metadata": {},
   "outputs": [],
   "source": [
    "# Implementing Binary Search \n",
    "\n",
    "def binarySearch(a, x):\n",
    "    'Use a Binary search to find x in list a'\n",
    "    lower = -1\n",
    "    upper = len(a)\n",
    "    while upper > lower + 1:\n",
    "        mid = (lower + upper) // 2\n",
    "        if a[mid] == x:\n",
    "            return mid\n",
    "        if x < a[mid]:\n",
    "            upper = mid\n",
    "        else:\n",
    "            lower = mid\n",
    "    return None\n",
    "                \n",
    "                \n"
   ]
  },
  {
   "cell_type": "code",
   "execution_count": 6,
   "id": "0a4cc07d",
   "metadata": {},
   "outputs": [
    {
     "name": "stdout",
     "output_type": "stream",
     "text": [
      "1.3 µs ± 15.5 ns per loop (mean ± std. dev. of 7 runs, 1000000 loops each)\n"
     ]
    }
   ],
   "source": [
    "%%timeit\n",
    "\n",
    "binarySearch(a, 46)"
   ]
  },
  {
   "cell_type": "code",
   "execution_count": 7,
   "id": "32f188ca",
   "metadata": {},
   "outputs": [],
   "source": [
    "consonants = ['b', 'c', 'd', 'f', 'g', 'h', 'j']"
   ]
  },
  {
   "cell_type": "code",
   "execution_count": 8,
   "id": "29967ac7",
   "metadata": {},
   "outputs": [
    {
     "data": {
      "text/plain": [
       "6"
      ]
     },
     "execution_count": 8,
     "metadata": {},
     "output_type": "execute_result"
    }
   ],
   "source": [
    "binarySearch(consonants, 'j')"
   ]
  },
  {
   "cell_type": "code",
   "execution_count": 9,
   "id": "21a16270",
   "metadata": {},
   "outputs": [
    {
     "data": {
      "text/plain": [
       "16"
      ]
     },
     "execution_count": 9,
     "metadata": {},
     "output_type": "execute_result"
    }
   ],
   "source": [
    "a = RandomList(31, sorted=True)\n",
    "\n",
    "bsearch(a,a.random('success'))"
   ]
  },
  {
   "cell_type": "code",
   "execution_count": null,
   "id": "2bd8cfff",
   "metadata": {},
   "outputs": [],
   "source": []
  },
  {
   "cell_type": "code",
   "execution_count": 10,
   "id": "b6f0371c",
   "metadata": {},
   "outputs": [],
   "source": [
    "from math import ceil, log2 \n",
    "\n",
    "from PythonLabs.RecursionLab import *\n"
   ]
  },
  {
   "cell_type": "code",
   "execution_count": 11,
   "id": "44f76c19",
   "metadata": {},
   "outputs": [
    {
     "data": {
      "text/plain": [
       "3.0"
      ]
     },
     "metadata": {},
     "output_type": "display_data"
    },
    {
     "data": {
      "text/plain": [
       "3.9068905956085187"
      ]
     },
     "metadata": {},
     "output_type": "display_data"
    },
    {
     "data": {
      "text/plain": [
       "4"
      ]
     },
     "metadata": {},
     "output_type": "display_data"
    }
   ],
   "source": [
    "display(log2(8))\n",
    "\n",
    "display(log2(15))\n",
    "\n",
    "display(ceil(log2(15)))"
   ]
  },
  {
   "cell_type": "code",
   "execution_count": 12,
   "id": "aa3e11d9",
   "metadata": {},
   "outputs": [
    {
     "data": {
      "text/plain": [
       "18"
      ]
     },
     "execution_count": 12,
     "metadata": {},
     "output_type": "execute_result"
    }
   ],
   "source": [
    "# Make a list of 50 Random integers and use bsearch to find a value known to be in the list \n",
    "\n",
    "a = RandomList(50, sorted= True)\n",
    "\n",
    "bsearch(a, a.random('success'))\n"
   ]
  },
  {
   "cell_type": "code",
   "execution_count": 13,
   "id": "e098f9a3",
   "metadata": {},
   "outputs": [
    {
     "data": {
      "text/plain": [
       "5"
      ]
     },
     "execution_count": 13,
     "metadata": {},
     "output_type": "execute_result"
    }
   ],
   "source": [
    "Counter.value('comparisons')"
   ]
  },
  {
   "cell_type": "code",
   "execution_count": 14,
   "id": "af15952b",
   "metadata": {},
   "outputs": [
    {
     "data": {
      "text/plain": [
       "5"
      ]
     },
     "execution_count": 14,
     "metadata": {},
     "output_type": "execute_result"
    }
   ],
   "source": [
    "loc = bsearch(a, a.random('success')); Counter.value('comparisons')"
   ]
  },
  {
   "cell_type": "code",
   "execution_count": 15,
   "id": "492e9c65",
   "metadata": {},
   "outputs": [
    {
     "data": {
      "text/plain": [
       "' \\nThe Merge Sort Algorithm \\nWorks by first diving the input list into several small chunks\\nand the combining the chuncks into biggers and bigger groups until the final merged group includes the full list.\\nThe key step in the algo is an operation that merges two small groups that are already in order into a single bigger group\\n'"
      ]
     },
     "execution_count": 15,
     "metadata": {},
     "output_type": "execute_result"
    }
   ],
   "source": [
    "\"\"\" \n",
    "The Merge Sort Algorithm \n",
    "Works by first diving the input list into several small chunks\n",
    "and the combining the chuncks into biggers and bigger groups until the final merged group includes the full list.\n",
    "The key step in the algo is an operation that merges two small groups that are already in order into a single bigger group\n",
    "\"\"\""
   ]
  },
  {
   "cell_type": "code",
   "execution_count": 16,
   "id": "02ed037c",
   "metadata": {},
   "outputs": [
    {
     "name": "stdout",
     "output_type": "stream",
     "text": [
      "[4, 8, 37, 45, 47, 60, 61, 75, 80, 81, 83, 84, 88, 89, 128, 152, 170, 174, 176, 203, 215, 249, 269, 278, 279, 288, 307, 321, 322, 337, 340, 341, 362, 363, 368, 372, 382, 389, 390, 404, 409, 413, 432, 436, 442, 464, 471, 474, 489, 498]\n",
      "[4, 27, 45, 31, 69, 89, 61, 99, 8, 38, 50, 46, 14, 22, 77]\n"
     ]
    }
   ],
   "source": [
    "from PythonLabs import * \n",
    "\n",
    "aRand = RandomList(15)\n",
    "\n",
    "msort(a = RandomList(15))\n",
    "\n",
    "print(a)\n",
    "\n",
    "print(aRand)"
   ]
  },
  {
   "cell_type": "code",
   "execution_count": 17,
   "id": "fac7d27b",
   "metadata": {},
   "outputs": [],
   "source": [
    "from heapq import merge\n",
    "\n",
    "def mSort(a):\n",
    "    groupsize = 1\n",
    "    while groupsize < len(a):\n",
    "        merge_groups(a, groupsize)\n",
    "        groupsize * 2\n",
    "        \n",
    "        \n",
    "def merge_groups(a, gs):\n",
    "    for i in range(len(a), 2*gs):\n",
    "        j = i + gs\n",
    "        k = j + gs \n",
    "        a[i:k] = list(merge(a[i:j], a[j:k]))\n"
   ]
  },
  {
   "cell_type": "code",
   "execution_count": 18,
   "id": "2b4e7ee3",
   "metadata": {},
   "outputs": [
    {
     "data": {
      "text/plain": [
       "[1, 2, 3, 5, 6, 7, 8, 9]"
      ]
     },
     "execution_count": 18,
     "metadata": {},
     "output_type": "execute_result"
    }
   ],
   "source": [
    "a = [1,2,7,8]\n",
    "\n",
    "b = [3,5,6,9]\n",
    "\n",
    "c = a + b\n",
    "\n",
    "list(merge(a,b))\n",
    "\n"
   ]
  },
  {
   "cell_type": "code",
   "execution_count": 19,
   "id": "16999a13",
   "metadata": {},
   "outputs": [],
   "source": [
    "# i will refer to the first location in the first group.\n",
    "# j will be the first location in the second group.\n",
    "# k will mark the end of the second group.\n",
    "\n",
    "# To merge all the items from location i up to j with all the items from j up to k we simply have to write \n",
    "\n",
    "# --> list(merge(a[i:j], a[j:k]))\n",
    "\n",
    "# The next question is, where do we put the result of the call to merge?\n",
    "# Using slice notation on the left side of an assignment statement to put the merged items right back into the list\n",
    "\n",
    "# --> a[i:k] = list(merge(a[i:j], a[j:k]))"
   ]
  },
  {
   "cell_type": "code",
   "execution_count": null,
   "id": "ec736c85",
   "metadata": {},
   "outputs": [],
   "source": []
  },
  {
   "cell_type": "code",
   "execution_count": 20,
   "id": "a5bca1b0",
   "metadata": {},
   "outputs": [
    {
     "data": {
      "text/plain": [
       "['Bi', 'Hs', 'O', 'W']"
      ]
     },
     "metadata": {},
     "output_type": "display_data"
    },
    {
     "data": {
      "text/plain": [
       "['C', 'Cn', 'Ho', 'Sr']"
      ]
     },
     "metadata": {},
     "output_type": "display_data"
    },
    {
     "data": {
      "text/plain": [
       "['Bi', 'C', 'Cn', 'Ho', 'Hs', 'O', 'Sr', 'W']"
      ]
     },
     "metadata": {},
     "output_type": "display_data"
    },
    {
     "name": "stdout",
     "output_type": "stream",
     "text": [
      "['Bi', 'Hs', 'O', 'W']\n",
      "['O', 'W']\n"
     ]
    },
    {
     "data": {
      "text/plain": [
       "'Cn'"
      ]
     },
     "metadata": {},
     "output_type": "display_data"
    },
    {
     "data": {
      "text/plain": [
       "566"
      ]
     },
     "execution_count": 20,
     "metadata": {},
     "output_type": "execute_result"
    }
   ],
   "source": [
    "# Totorial Project \n",
    "\n",
    "from heapq import merge\n",
    "\n",
    "a = RandomList(4, 'elements', sorted=True)\n",
    "\n",
    "b = RandomList(4, 'elements', sorted=True)\n",
    "\n",
    "#'5.6 Merge Sort Tutorial Project'\n",
    "\n",
    "from PythonLabs.RecursionLab import *\n",
    "\n",
    "from math import log2 \n",
    "\n",
    "display(a)\n",
    "\n",
    "display(b)\n",
    "\n",
    "display(list(merge(a,b)))\n",
    "\n",
    "i = 0; j = 2; k = 4\n",
    "\n",
    "print(a[i:k])\n",
    "\n",
    "print(a[j:k])\n",
    "\n",
    "a[i:k] = list(merge(a[i:j], a[j:k]))\n",
    "\n",
    "a = RandomList(16, 'elements')\n",
    "msort(a)\n",
    "\n",
    "display(a[2])\n",
    "\n",
    "msort(RandomList(100)); Counter.value('comparisons')"
   ]
  },
  {
   "cell_type": "code",
   "execution_count": 21,
   "id": "dc769567",
   "metadata": {},
   "outputs": [
    {
     "data": {
      "text/plain": [
       "'\\nParameter passed to the recursive call must be different from the one passed as argumetns in the recursive call.\\nSecond recursive call needs to be inside an if statement that tests whether or not to make the call.\\nThe if statement checks to see if the problem is solved without a recursive call, is so the problem is solved without the recursive call\\notherwise it is futher divided and the pieces handed off to the recursive call.\\n'"
      ]
     },
     "execution_count": 21,
     "metadata": {},
     "output_type": "execute_result"
    }
   ],
   "source": [
    "# Recursive Functions \n",
    "\n",
    "\"\"\"\n",
    "Parameter passed to the recursive call must be different from the one passed as argumetns in the recursive call.\n",
    "Second recursive call needs to be inside an if statement that tests whether or not to make the call.\n",
    "The if statement checks to see if the problem is solved without a recursive call, is so the problem is solved without the recursive call\n",
    "otherwise it is futher divided and the pieces handed off to the recursive call.\n",
    "\"\"\"\n"
   ]
  },
  {
   "cell_type": "code",
   "execution_count": 22,
   "id": "f8bbeb0b",
   "metadata": {},
   "outputs": [],
   "source": [
    "def bsearch(a,x):\n",
    "    \"Resursive binary search to find x in list a\"\n",
    "    return rsearch(a, x, -1, len(a))\n",
    "\n",
    "def rsearch(a, x, lower, upper):\n",
    "    \"Search a between lower and upper for item x\"\n",
    "    if upper == lower + 1:\n",
    "        return None\n",
    "    mid = (lower + upper) // 2\n",
    "    if a[mid] == x:\n",
    "        return mid\n",
    "    if x < a[mid]:\n",
    "        return rsearch(a, x, lower, mid)\n",
    "    else:\n",
    "        return rsearch(a, x, mid, upper)"
   ]
  },
  {
   "cell_type": "code",
   "execution_count": 23,
   "id": "e7457090",
   "metadata": {},
   "outputs": [],
   "source": [
    "from PythonLabs.RecursionLab import partition\n",
    "\n",
    "def qsort(a):\n",
    "    \"Sort list a using the Quicksort algorithm\"\n",
    "    qs(a, 0, len(a)-1)\n",
    "\n",
    "\n",
    "def qs(a, p, r):\n",
    "    if p < r:\n",
    "        q = partition(a, p, r)\n",
    "        qs(a, p, q-1)\n",
    "        qs(a, q+1, r)"
   ]
  },
  {
   "cell_type": "code",
   "execution_count": 24,
   "id": "d134904d",
   "metadata": {},
   "outputs": [
    {
     "data": {
      "text/plain": [
       "'are'"
      ]
     },
     "execution_count": 24,
     "metadata": {},
     "output_type": "execute_result"
    }
   ],
   "source": [
    "s4 = 'string are sequences of characters and are confusing anf suck ass'\n",
    "\n",
    "s4list = s4.split()\n",
    "s4list[1]"
   ]
  },
  {
   "cell_type": "code",
   "execution_count": 25,
   "id": "2866504a",
   "metadata": {},
   "outputs": [
    {
     "data": {
      "text/plain": [
       "'I ☙ cats'"
      ]
     },
     "execution_count": 25,
     "metadata": {},
     "output_type": "execute_result"
    }
   ],
   "source": [
    "'I \\u2619 cats'\n",
    "\n"
   ]
  },
  {
   "cell_type": "code",
   "execution_count": 26,
   "id": "d774d663",
   "metadata": {},
   "outputs": [],
   "source": [
    "\n",
    "filename = \"./text/techinterviwe.txt\"\n",
    "\n",
    "\n",
    "f = open(filename)\n",
    "\n",
    "testList = f.readlines(100)"
   ]
  },
  {
   "cell_type": "code",
   "execution_count": 27,
   "id": "88e84a95",
   "metadata": {},
   "outputs": [
    {
     "data": {
      "text/plain": [
       "2615"
      ]
     },
     "execution_count": 27,
     "metadata": {},
     "output_type": "execute_result"
    }
   ],
   "source": [
    "def filesize(fn):\n",
    "    'Count characters in file fn.'\n",
    "    nchars = 0 \n",
    "    for line in open(fn):\n",
    "        nchars += len(line)\n",
    "    return nchars\n",
    "\n",
    "filesize(filename)"
   ]
  },
  {
   "cell_type": "code",
   "execution_count": 28,
   "id": "8b3a8f24",
   "metadata": {},
   "outputs": [
    {
     "data": {
      "text/plain": [
       "['Why are tech interviews getting harder?\\n',\n",
       " '\\n',\n",
       " 'Blame Gayle Laakmann McDowell.*\\n',\n",
       " '\\n',\n",
       " \"No, really, I'm serious.**\\n\"]"
      ]
     },
     "execution_count": 28,
     "metadata": {},
     "output_type": "execute_result"
    }
   ],
   "source": [
    "testList"
   ]
  },
  {
   "cell_type": "code",
   "execution_count": 29,
   "id": "32d8a626",
   "metadata": {},
   "outputs": [
    {
     "name": "stdout",
     "output_type": "stream",
     "text": [
      "Why are tech interviews getting harder?\n",
      "\n",
      "Blame Gayle Laakmann McDowell.*\n",
      "\n",
      "No, really, I'm serious.**\n",
      "\n",
      "For the uninitiated: McDowell is the founder of CareerCup and author of the ubiquitous interview prep book, \"Cracking the Coding Interview\" (CtCI for short).\n",
      "\n",
      "I say ubiquitous because, poll any room of industry #softwareengineers on the resources they found useful for landing their current job, and a majority will include CtCI on their shortlist.\n",
      "\n",
      "Actually, recruiters for companies that can afford to send applicants prep packets do just thatâ€”they'll typically forward links to books and online resources, based on employee (i.e., your potential interviewer's) feedback.\n",
      "\n",
      "Here's the thingâ€”CtCI's focus has always been on #bigtech, and even includes company-by-company breakdowns for the hiring processes of the biggest players. But \"Cracking the Big Tech Interview\" just isn't as catchy or generalizable, and furthermore, most tech giants can justify asking extremely difficult questions as a means to filter out the millions of candidates they receive annually.\n",
      "\n",
      "For brevity, let's fast forward to 2021: CtCI has been on the market for nearly 13 years and is on its sixth edition (published in 2015). Just as well, there's dozens of copycat series, adapted to various languages (spoken and programming), all hoping to capitalize on a sort of industrialization of the tech career development industry.\n",
      "\n",
      "And yeah, there's been a few million impressionable tech hires in the meantime, who believe that this is what tech interviewing looks like, regardless of whether one works for Apple or Applebee's. It's a vicious, self-perpetuating cycle.\n",
      "\n",
      "Now, in my last post, I made it a point to highlight the misattribution of blame that goes to managers over job requisitions. Similarly, here I'll say, if tech interviews bother you, stop meme'ing and start critiquing tech interviewing culture, especially here on LinkedIn (you know the kind of posts I'm talking about).\n",
      "\n",
      "Better yet, get hired and start evangelizing the processes you'd like to see from the inside.***\n",
      "\n",
      "Because I really, really don't want to imagine myself as that old dude struggling over a DS&A question when my hair's already either completely grey or just gone.****\n",
      "\n",
      "* Figuratively. Don't actually blame her.\n",
      "\n",
      "** I'm not /that/ serious.\n",
      "\n",
      "*** Credit where credit's dueâ€”most companies I've interviewed with in the past have already started diversifying their processes.\n",
      "\n",
      "**** Realistically, I probably wouldn't struggle.\n",
      "\n",
      "(DISCLAIMER: Opinions are my own and don't reflect any stances by Google/Amazon/etc...)\n",
      "LIKE MAYBE INTEREST 10\n",
      "3 comments"
     ]
    }
   ],
   "source": [
    "fileline = []\n",
    "\n",
    "def files(filename):\n",
    "    for line in open(filename):\n",
    "        fileline.append(line)\n",
    "        print(line, end='')\n",
    "\n",
    "\n",
    "filename = files(filename)"
   ]
  },
  {
   "cell_type": "code",
   "execution_count": 30,
   "id": "0907d686",
   "metadata": {},
   "outputs": [],
   "source": [
    "testList = testList"
   ]
  },
  {
   "cell_type": "code",
   "execution_count": 31,
   "id": "01ff26cb",
   "metadata": {},
   "outputs": [],
   "source": [
    "def wc(fn):\n",
    "    \"\"\"\n",
    "    Count the number of lines, words,\n",
    "    and characters in file fn.    \n",
    "    \"\"\"\n",
    "    nlines = nwords = nchars = 0\n",
    "    for line in open(fn):\n",
    "        nlines += 1\n",
    "        nwords += len(line.split())\n",
    "        nchars += len(line)\n",
    "    return nlines, nwords, nchars"
   ]
  },
  {
   "cell_type": "code",
   "execution_count": 32,
   "id": "50f7ccca",
   "metadata": {},
   "outputs": [
    {
     "ename": "TypeError",
     "evalue": "expected str, bytes or os.PathLike object, not NoneType",
     "output_type": "error",
     "traceback": [
      "\u001b[1;31m---------------------------------------------------------------------------\u001b[0m",
      "\u001b[1;31mTypeError\u001b[0m                                 Traceback (most recent call last)",
      "\u001b[1;32m~\\AppData\\Local\\Temp/ipykernel_30412/669884991.py\u001b[0m in \u001b[0;36m<module>\u001b[1;34m\u001b[0m\n\u001b[1;32m----> 1\u001b[1;33m \u001b[0mwc\u001b[0m\u001b[1;33m(\u001b[0m\u001b[0mfilename\u001b[0m\u001b[1;33m)\u001b[0m\u001b[1;33m\u001b[0m\u001b[1;33m\u001b[0m\u001b[0m\n\u001b[0m",
      "\u001b[1;32m~\\AppData\\Local\\Temp/ipykernel_30412/3532223754.py\u001b[0m in \u001b[0;36mwc\u001b[1;34m(fn)\u001b[0m\n\u001b[0;32m      5\u001b[0m     \"\"\"\n\u001b[0;32m      6\u001b[0m     \u001b[0mnlines\u001b[0m \u001b[1;33m=\u001b[0m \u001b[0mnwords\u001b[0m \u001b[1;33m=\u001b[0m \u001b[0mnchars\u001b[0m \u001b[1;33m=\u001b[0m \u001b[1;36m0\u001b[0m\u001b[1;33m\u001b[0m\u001b[1;33m\u001b[0m\u001b[0m\n\u001b[1;32m----> 7\u001b[1;33m     \u001b[1;32mfor\u001b[0m \u001b[0mline\u001b[0m \u001b[1;32min\u001b[0m \u001b[0mopen\u001b[0m\u001b[1;33m(\u001b[0m\u001b[0mfn\u001b[0m\u001b[1;33m)\u001b[0m\u001b[1;33m:\u001b[0m\u001b[1;33m\u001b[0m\u001b[1;33m\u001b[0m\u001b[0m\n\u001b[0m\u001b[0;32m      8\u001b[0m         \u001b[0mnlines\u001b[0m \u001b[1;33m+=\u001b[0m \u001b[1;36m1\u001b[0m\u001b[1;33m\u001b[0m\u001b[1;33m\u001b[0m\u001b[0m\n\u001b[0;32m      9\u001b[0m         \u001b[0mnwords\u001b[0m \u001b[1;33m+=\u001b[0m \u001b[0mlen\u001b[0m\u001b[1;33m(\u001b[0m\u001b[0mline\u001b[0m\u001b[1;33m.\u001b[0m\u001b[0msplit\u001b[0m\u001b[1;33m(\u001b[0m\u001b[1;33m)\u001b[0m\u001b[1;33m)\u001b[0m\u001b[1;33m\u001b[0m\u001b[1;33m\u001b[0m\u001b[0m\n",
      "\u001b[1;31mTypeError\u001b[0m: expected str, bytes or os.PathLike object, not NoneType"
     ]
    }
   ],
   "source": [
    "wc(filename)"
   ]
  },
  {
   "cell_type": "code",
   "execution_count": 36,
   "id": "5422371c",
   "metadata": {},
   "outputs": [
    {
     "name": "stdout",
     "output_type": "stream",
     "text": [
      "{1: 'I', 5: 'V', 10: 'X', 50: 'L', 100: 'C'}\n",
      "{1: 'I', 5: 'V', 10: 'X', 50: 'L', 100: 'C'}\n",
      "{1: 'I', 5: 'V', 10: 'X', 50: 'L', 100: 'C'}\n",
      "{1: 'I', 5: 'V', 10: 'X', 50: 'L', 100: 'C'}\n",
      "{1: 'I', 5: 'V', 10: 'X', 50: 'L', 100: 'C'}\n"
     ]
    }
   ],
   "source": [
    "\n",
    "roman = { 1: \"I\", 5: \"V\", 10: 'X', 50: \"L\", 100: 'C'}\n",
    "\n",
    "for n in roman:\n",
    "    roman[n].lower()\n",
    "    \n",
    "    print(roman)\n",
    "\n",
    "\n",
    "filename = \"./text/techinterviwe.txt\"\n",
    "\n",
    "\n",
    "f = open(filename)\n",
    "\n",
    "sS = f.readline()"
   ]
  },
  {
   "cell_type": "code",
   "execution_count": 37,
   "id": "6cdc4e70",
   "metadata": {},
   "outputs": [],
   "source": [
    "from string import punctuation\n",
    "\n",
    "def wf(fn):\n",
    "    \"Make a dictionary of word frequencies\"\n",
    "    count = {}\n",
    "    for line in open(fn):\n",
    "        for w in tokenize(line):\n",
    "            count.setdefault(w, 0)\n",
    "            count[w] += 1\n",
    "    return count\n",
    "\n",
    "\n",
    "def tokenize(s):\n",
    "    'return the list of words in string s'\n",
    "    a = []\n",
    "    for x in s.split():\n",
    "        a.append( x.strip(punctuation).lower())  \n",
    "    return a"
   ]
  },
  {
   "cell_type": "code",
   "execution_count": null,
   "id": "d6624ff4",
   "metadata": {},
   "outputs": [],
   "source": []
  },
  {
   "cell_type": "code",
   "execution_count": null,
   "id": "eaf38821",
   "metadata": {},
   "outputs": [],
   "source": []
  },
  {
   "cell_type": "code",
   "execution_count": 38,
   "id": "da463c94",
   "metadata": {},
   "outputs": [
    {
     "ename": "TypeError",
     "evalue": "'module' object is not callable",
     "output_type": "error",
     "traceback": [
      "\u001b[1;31m---------------------------------------------------------------------------\u001b[0m",
      "\u001b[1;31mTypeError\u001b[0m                                 Traceback (most recent call last)",
      "\u001b[1;32m~\\AppData\\Local\\Temp/ipykernel_30412/2164405497.py\u001b[0m in \u001b[0;36m<module>\u001b[1;34m\u001b[0m\n\u001b[0;32m     16\u001b[0m \u001b[1;33m\u001b[0m\u001b[0m\n\u001b[0;32m     17\u001b[0m \u001b[1;33m\u001b[0m\u001b[0m\n\u001b[1;32m---> 18\u001b[1;33m \u001b[0mpspam\u001b[0m\u001b[1;33m(\u001b[0m\u001b[0mfilename\u001b[0m\u001b[1;33m)\u001b[0m\u001b[1;33m\u001b[0m\u001b[1;33m\u001b[0m\u001b[0m\n\u001b[0m",
      "\u001b[1;32m~\\AppData\\Local\\Temp/ipykernel_30412/2164405497.py\u001b[0m in \u001b[0;36mpspam\u001b[1;34m(fn)\u001b[0m\n\u001b[0;32m      9\u001b[0m    \u001b[1;31m# pbad = load_probabilities(path_to_data(\"./text/bad.txt\"))\u001b[0m\u001b[1;33m\u001b[0m\u001b[1;33m\u001b[0m\u001b[1;33m\u001b[0m\u001b[0m\n\u001b[0;32m     10\u001b[0m     \u001b[1;32mfor\u001b[0m \u001b[0mline\u001b[0m \u001b[1;32min\u001b[0m \u001b[0mopen\u001b[0m\u001b[1;33m(\u001b[0m\u001b[0mfn\u001b[0m\u001b[1;33m)\u001b[0m\u001b[1;33m:\u001b[0m\u001b[1;33m\u001b[0m\u001b[1;33m\u001b[0m\u001b[0m\n\u001b[1;32m---> 11\u001b[1;33m         \u001b[1;32mfor\u001b[0m \u001b[0mword\u001b[0m \u001b[1;32min\u001b[0m \u001b[0mtokenize\u001b[0m\u001b[1;33m(\u001b[0m\u001b[0mline\u001b[0m\u001b[1;33m)\u001b[0m\u001b[1;33m:\u001b[0m\u001b[1;33m\u001b[0m\u001b[1;33m\u001b[0m\u001b[0m\n\u001b[0m\u001b[0;32m     12\u001b[0m             \u001b[0mp\u001b[0m \u001b[1;33m=\u001b[0m \u001b[0mspamicity\u001b[0m\u001b[1;33m(\u001b[0m\u001b[0mword\u001b[0m\u001b[1;33m,\u001b[0m \u001b[0mpbad\u001b[0m\u001b[1;33m,\u001b[0m \u001b[0mpgood\u001b[0m\u001b[1;33m)\u001b[0m\u001b[1;33m\u001b[0m\u001b[1;33m\u001b[0m\u001b[0m\n\u001b[0;32m     13\u001b[0m             \u001b[1;32mif\u001b[0m \u001b[0mp\u001b[0m \u001b[1;33m!=\u001b[0m \u001b[1;32mNone\u001b[0m\u001b[1;33m:\u001b[0m\u001b[1;33m\u001b[0m\u001b[1;33m\u001b[0m\u001b[0m\n",
      "\u001b[1;31mTypeError\u001b[0m: 'module' object is not callable"
     ]
    }
   ],
   "source": [
    "from PythonLabs.SpamLab import *\n",
    "\n",
    "import tokenize\n",
    "#import spamicity\n",
    "def pspam(fn):\n",
    "    'Compute the probability the message in file fn is spam'\n",
    "    queue = WordQueue(15)\n",
    "  #  pgood = load_probabilities(path_to_data(\"./text/good.txt\"))\n",
    "   # pbad = load_probabilities(path_to_data(\"./text/bad.txt\"))\n",
    "    for line in open(fn):\n",
    "        for word in tokenize(line):\n",
    "            p = spamicity(word, pbad, pgood)\n",
    "            if p != None:\n",
    "                queue.insert(word, p)\n",
    "    return combined_probability(queue)\n",
    "\n",
    "\n",
    "pspam(filename)"
   ]
  },
  {
   "cell_type": "code",
   "execution_count": 39,
   "id": "dc1a7814",
   "metadata": {},
   "outputs": [],
   "source": [
    "# Filtering Spam\n",
    "\n",
    "def spamicity(w, pbad, pgood):\n",
    "    '''\n",
    "    Compute the prob a message is spam when it contains a word w.\n",
    "    The dictionary pbad and pgood hold p(w|spam) and p(w|good), repecctively.\n",
    "    '''\n",
    "\n",
    "    if w in pbad and w in pgood:\n",
    "        return pbad[w] / ( pbad[w] + pgood[w] )\n",
    "    else:\n",
    "        return None\n",
    "        "
   ]
  },
  {
   "cell_type": "code",
   "execution_count": 40,
   "id": "a0637373",
   "metadata": {},
   "outputs": [],
   "source": [
    "testListPOS = testList[0]\n",
    "testListPOS = testListPOS.split()"
   ]
  },
  {
   "cell_type": "code",
   "execution_count": 41,
   "id": "ac01a824",
   "metadata": {},
   "outputs": [],
   "source": [
    "\n",
    "testListNEG = testList[4]\n",
    "testListNEG = testListNEG.split()"
   ]
  },
  {
   "cell_type": "code",
   "execution_count": null,
   "id": "1aa2cb9f",
   "metadata": {},
   "outputs": [],
   "source": []
  },
  {
   "cell_type": "code",
   "execution_count": 42,
   "id": "b2a12624",
   "metadata": {},
   "outputs": [],
   "source": [
    "'''\n",
    "Make a funtion that creates acronyms for the list letter on each long word in a list\n",
    "long = >3\n",
    "\n",
    "'''\n",
    "\n",
    "def create_acronym(x):\n",
    "    for word in (x):\n",
    "        if len(word) > 3:\n",
    "            print(word.title())\n",
    "        "
   ]
  },
  {
   "cell_type": "code",
   "execution_count": 43,
   "id": "825ab733",
   "metadata": {},
   "outputs": [
    {
     "name": "stdout",
     "output_type": "stream",
     "text": [
      "Tech\n",
      "Interviews\n",
      "Getting\n",
      "Harder?\n"
     ]
    }
   ],
   "source": [
    "create_acronym(testListPOS)"
   ]
  },
  {
   "cell_type": "code",
   "execution_count": null,
   "id": "af08780b",
   "metadata": {},
   "outputs": [],
   "source": [
    "\n"
   ]
  },
  {
   "cell_type": "code",
   "execution_count": null,
   "id": "e213b5d7",
   "metadata": {},
   "outputs": [],
   "source": []
  },
  {
   "cell_type": "code",
   "execution_count": 44,
   "id": "333535d8",
   "metadata": {},
   "outputs": [
    {
     "data": {
      "text/plain": [
       "'A general formula for adding a new value xi+1 to the end of the list x is\\n\\n    xi+1 =(a X xi + c) mod m'"
      ]
     },
     "execution_count": 44,
     "metadata": {},
     "output_type": "execute_result"
    }
   ],
   "source": [
    "'''A general formula for adding a new value xi+1 to the end of the list x is\n",
    "\n",
    "    xi+1 =(a X xi + c) mod m'''\n"
   ]
  },
  {
   "cell_type": "code",
   "execution_count": 45,
   "id": "5820fe78",
   "metadata": {},
   "outputs": [
    {
     "data": {
      "text/plain": [
       "1644800670"
      ]
     },
     "metadata": {},
     "output_type": "display_data"
    }
   ],
   "source": [
    "from time import time\n",
    "\n",
    "x = 0 \n",
    "a = 81\n",
    "c = 337\n",
    "m = 1000\n",
    "\n",
    "\n",
    "def rand():\n",
    "    \"Generate a value between o and m-1\"\n",
    "    global x\n",
    "    x = (a * x + c) % m\n",
    "    return x\n",
    "\n",
    "def reset(mult, inc, mod):\n",
    "    'Define new a, c, and m values'\n",
    "    global x, a, c, m\n",
    "    \n",
    "    # Leads to diff sequence each time the module is loaded\n",
    "        # x = int(time()) %m\n",
    "\n",
    "    x = 0\n",
    "    a = mult\n",
    "    c = inc \n",
    "    m = mod\n",
    "\n",
    "    \n",
    "display(int(time()))\n"
   ]
  },
  {
   "cell_type": "code",
   "execution_count": 46,
   "id": "b675ed8d",
   "metadata": {},
   "outputs": [
    {
     "data": {
      "text/plain": [
       "['__class__',\n",
       " '__contains__',\n",
       " '__delattr__',\n",
       " '__delitem__',\n",
       " '__dir__',\n",
       " '__doc__',\n",
       " '__eq__',\n",
       " '__format__',\n",
       " '__ge__',\n",
       " '__getattribute__',\n",
       " '__getitem__',\n",
       " '__gt__',\n",
       " '__hash__',\n",
       " '__init__',\n",
       " '__init_subclass__']"
      ]
     },
     "execution_count": 46,
     "metadata": {},
     "output_type": "execute_result"
    }
   ],
   "source": [
    "dir(roman)[0:15]"
   ]
  },
  {
   "cell_type": "code",
   "execution_count": 47,
   "id": "9013f3e1",
   "metadata": {},
   "outputs": [
    {
     "data": {
      "text/plain": [
       "634"
      ]
     },
     "execution_count": 47,
     "metadata": {},
     "output_type": "execute_result"
    }
   ],
   "source": [
    "t = [0]\n",
    "\n",
    "for i in range(15):\n",
    "    t.append(rand())\n",
    "\n",
    "t[2]\n"
   ]
  },
  {
   "cell_type": "code",
   "execution_count": 48,
   "id": "0e473c26",
   "metadata": {},
   "outputs": [
    {
     "data": {
      "text/plain": [
       "5"
      ]
     },
     "execution_count": 48,
     "metadata": {},
     "output_type": "execute_result"
    }
   ],
   "source": [
    "def  roll():\n",
    "    return rand() % 6 + 1\n",
    "    \n",
    "\n",
    "roll()"
   ]
  },
  {
   "cell_type": "code",
   "execution_count": 49,
   "id": "1a97c72e",
   "metadata": {},
   "outputs": [
    {
     "name": "stdout",
     "output_type": "stream",
     "text": [
      "[0, 2, 3, 2, 3, 6, 1, 6, 3, 6, 1, 6, 3, 2, 3, 2]\n"
     ]
    },
    {
     "data": {
      "text/plain": [
       "[3, 4, 3, 6, 3, 2, 1, 2, 5, 6, 1, 4, 3, 2, 1]"
      ]
     },
     "metadata": {},
     "output_type": "display_data"
    }
   ],
   "source": [
    "dice = [0]\n",
    "\n",
    "for i in range(15):\n",
    "    dice.append(roll())\n",
    "\n",
    "print(dice)\n",
    "\n",
    "dopedice = [roll() for i in range(15)]\n",
    "\n",
    "display(dopedice)"
   ]
  },
  {
   "cell_type": "code",
   "execution_count": 50,
   "id": "df46c32c",
   "metadata": {},
   "outputs": [
    {
     "name": "stdout",
     "output_type": "stream",
     "text": [
      "[1, 2, 3, 4, 5, 6, 7, 8, 9]\n",
      "[1, 4, 9, 16, 25, 36, 49, 64, 81]\n"
     ]
    }
   ],
   "source": [
    "# list comprehension\n",
    "'''\n",
    "A convinient alternative to writing a for statement to create a list in python.\n",
    "\n",
    "'''\n",
    "\n",
    "print([i for i in range(1,10)])\n",
    "\n",
    "print([i**2 for i in range(1,10)])"
   ]
  },
  {
   "cell_type": "code",
   "execution_count": 51,
   "id": "935ccd13",
   "metadata": {},
   "outputs": [],
   "source": [
    "from random import randint\n",
    "import numpy as np\n",
    "\n",
    "def permute(a):\n",
    "    \"Rearrange list a in a random order\"\n",
    "    for i in range(0,len(a)-1):\n",
    "        r = randint(i, len(a)-1)\n",
    "        a[i], a[r] = a[r], a[i]\n"
   ]
  },
  {
   "cell_type": "code",
   "execution_count": 52,
   "id": "43ef9379",
   "metadata": {},
   "outputs": [],
   "source": [
    "permute(dopedice)"
   ]
  },
  {
   "cell_type": "code",
   "execution_count": 53,
   "id": "24931941",
   "metadata": {},
   "outputs": [
    {
     "data": {
      "text/plain": [
       "(array([10,  5], dtype=int64), array([1. , 3.5, 6. ]))"
      ]
     },
     "execution_count": 53,
     "metadata": {},
     "output_type": "execute_result"
    }
   ],
   "source": [
    "np.histogram(dopedice, bins=2)\n"
   ]
  },
  {
   "cell_type": "code",
   "execution_count": 54,
   "id": "e827e36a",
   "metadata": {},
   "outputs": [
    {
     "name": "stdout",
     "output_type": "stream",
     "text": [
      "[2♣, 3♣, 4♣, 5♣, 6♣, 7♣, 8♣, 9♣, 10♣, J♣, Q♣, K♣, A♣, 2♦, 3♦, 4♦, 5♦, 6♦, 7♦, 8♦, 9♦, 10♦, J♦, Q♦, K♦, A♦, 2♥, 3♥, 4♥, 5♥, 6♥, 7♥, 8♥, 9♥, 10♥, J♥, Q♥, K♥, A♥, 2♠, 3♠, 4♠, 5♠, 6♠, 7♠, 8♠, 9♠, 10♠, J♠, Q♠, K♠, A♠]\n"
     ]
    }
   ],
   "source": [
    "# Card class\n",
    "\n",
    "class Card:\n",
    "\n",
    "    'An instance of the Card class is a single playing card.'\n",
    "    suit_sym = {3:'\\u2660', 2:'\\u2665', 1:'\\u2666', 0:'\\u2663'}\n",
    "    rank_sym = {0: \"2\", 1: '3', 2: '4', 3: '5', 4: '6', 5: '7', 6:'8', 7:'9', 8:'10', 9: 'J', 10:'Q', 11: 'K', 12:'A'}\n",
    "\n",
    "    def __init__(self, n):\n",
    "        'Assign the ID for a new card'\n",
    "        self._id = n\n",
    "\n",
    "        \n",
    "    def rank(self):\n",
    "        \"A card's rank is an interger between 0 (2) and 12 (ace).\"\n",
    "        return self._id % 13\n",
    "\n",
    "    def suit(self):\n",
    "        'Return a suit number: 0 = clubs, 1 = diamonds, 2 = hearts, 3 = spades.'\n",
    "        return self._id // 13\n",
    "    \n",
    "    suit_sym = {3:'\\u2660', 2:'\\u2665', 1:'\\u2666', 0:'\\u2663'}\n",
    "    rank_sym = {0: \"2\", 1: '3', 2: '4', 3: '5', 4: '6', 5: '7', 6:'8', 7:'9', 8:'10', 9: 'J', 10:'Q', 11: 'K', 12:'A'}\n",
    "    def __repr__(self):\n",
    "        return Card.rank_sym[self.rank()] + Card.suit_sym[self.suit()]\n",
    "\n",
    "    def __eq__(self, other):\n",
    "        return self._id == other._id\n",
    "        \n",
    "\n",
    "def new_deck():\n",
    "    'Create a list of 52 cards objects.'\n",
    "    return [Card(i) for i in range(52)]\n",
    "\n",
    "print([Card(i) for i in range(52)])"
   ]
  },
  {
   "cell_type": "code",
   "execution_count": 55,
   "id": "0357ebec",
   "metadata": {},
   "outputs": [],
   "source": [
    "def make_card(n):\n",
    "    'make a card object'\n",
    "    try:\n",
    "        return Card(n)\n",
    "    except Exception as e:\n",
    "        print('invalid card:', e)\n",
    "        return None"
   ]
  },
  {
   "cell_type": "code",
   "execution_count": 56,
   "id": "32c200c0",
   "metadata": {},
   "outputs": [],
   "source": [
    "# Bad Design\n",
    "\n",
    "class X:\n",
    "    def __init__(self, n):\n",
    "        if n < 0:\n",
    "            print('n must be positive')\n",
    "        else:\n",
    "            self._val = n\n",
    "\n",
    "        "
   ]
  },
  {
   "cell_type": "code",
   "execution_count": 69,
   "id": "a2a93832",
   "metadata": {},
   "outputs": [],
   "source": [
    "    'An instance of the Card class is a single playing card.'\n",
    "\n",
    "suit_sym = {3:'\\u2660', 2:'\\u2665', 1:'\\u2666', 0:'\\u2663'}\n",
    "\n",
    "rank_sym = {0: \"2\", 1: '3', 2: '4', 3: '5', 4: '6', 5: '7', 6:'8', 7:'9', 8:'10', 9: 'J', 10:'Q', 11: 'K', 12:'A'}\n",
    "\n",
    "suit_num = dict(zip(suit_sym.values(), suit_sym.keys()))\n",
    "\n",
    "rank_num = dict(zip(rank_sym.values(), rank_sym.keys()))"
   ]
  },
  {
   "cell_type": "code",
   "execution_count": 68,
   "id": "9e122a08",
   "metadata": {},
   "outputs": [
    {
     "ename": "SyntaxError",
     "evalue": "invalid syntax (Temp/ipykernel_30412/1659458305.py, line 17)",
     "output_type": "error",
     "traceback": [
      "\u001b[1;36m  File \u001b[1;32m\"C:\\Users\\JBarr\\AppData\\Local\\Temp/ipykernel_30412/1659458305.py\"\u001b[1;36m, line \u001b[1;32m17\u001b[0m\n\u001b[1;33m    elif arg1 in Card.rank_num and arg2 in Card.suit_num:\u001b[0m\n\u001b[1;37m       ^\u001b[0m\n\u001b[1;31mSyntaxError\u001b[0m\u001b[1;31m:\u001b[0m invalid syntax\n"
     ]
    }
   ],
   "source": [
    "def __init__(self, arg1, arg2 = None):\n",
    "        if type(arg1) == int:\n",
    "            if arg1 in range(0,52):\n",
    "                self._id = arg1\n",
    "        else:\n",
    "            raise Exception('Card number must be between 0 and 51')\n",
    "            elif arg1 in Card.rank_num and arg2 in Card.suit_num:\n",
    "                self._id = Card.rank_num[arg1] + 13 * Card.suit_num[arg2]\n",
    "        else:\n",
    "            raise Exception('Expected Card(n) or Card(\"rank\", \"suit\")')"
   ]
  },
  {
   "cell_type": "code",
   "execution_count": 70,
   "id": "26c7762b",
   "metadata": {},
   "outputs": [],
   "source": [
    "def massbodindx(height, weight, units = 'metric'):\n",
    "    if units == 'metric':\n",
    "        return (weight/ height**2)\n",
    "    elif units == 'standard':\n",
    "        return (weight / neight **2) * 703\n",
    "    else:\n",
    "        return None"
   ]
  },
  {
   "cell_type": "code",
   "execution_count": 194,
   "id": "4c711fba",
   "metadata": {},
   "outputs": [],
   "source": [
    "# Class Variables "
   ]
  },
  {
   "cell_type": "code",
   "execution_count": null,
   "id": "295e65b6",
   "metadata": {},
   "outputs": [],
   "source": []
  },
  {
   "cell_type": "code",
   "execution_count": null,
   "id": "8d8a5db2",
   "metadata": {},
   "outputs": [],
   "source": []
  }
 ],
 "metadata": {
  "interpreter": {
   "hash": "9ae16ef445867c3ddd8a030e03f508a31c88ab57810e24e3a3afaf36f09532d0"
  },
  "kernelspec": {
   "display_name": "Python 3 (ipykernel)",
   "language": "python",
   "name": "python3"
  },
  "language_info": {
   "codemirror_mode": {
    "name": "ipython",
    "version": 3
   },
   "file_extension": ".py",
   "mimetype": "text/x-python",
   "name": "python",
   "nbconvert_exporter": "python",
   "pygments_lexer": "ipython3",
   "version": "3.8.13"
  }
 },
 "nbformat": 4,
 "nbformat_minor": 5
}
