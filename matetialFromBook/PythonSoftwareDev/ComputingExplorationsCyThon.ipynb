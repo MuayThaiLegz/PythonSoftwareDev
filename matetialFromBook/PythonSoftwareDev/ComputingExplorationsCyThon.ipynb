{
 "cells": [
  {
   "cell_type": "code",
   "execution_count": 1,
   "id": "63596d9a-007c-4577-8ce6-17808c20a632",
   "metadata": {},
   "outputs": [],
   "source": [
    "from PythonLabs import *"
   ]
  },
  {
   "cell_type": "code",
   "execution_count": 2,
   "id": "17fa909e-c5f1-4d4e-a6fc-19a4d360646a",
   "metadata": {},
   "outputs": [],
   "source": [
    "%load_ext Cython"
   ]
  },
  {
   "cell_type": "code",
   "execution_count": 3,
   "id": "0edfbcf2",
   "metadata": {},
   "outputs": [],
   "source": [
    "# Celsius function\n",
    "def celsiusConver(f):\n",
    "    f - 32 * 5/9\n",
    "    return FromCelToFahren(f) \n",
    "    \"Convert temperature f from Fahrenheit to Celsius\"\n",
    "\n",
    "def FromCelToFahren(f):\n",
    "    c = f * 9/5 + 32\n",
    "    return c"
   ]
  },
  {
   "cell_type": "code",
   "execution_count": 4,
   "id": "f10fc288",
   "metadata": {},
   "outputs": [
    {
     "name": "stdout",
     "output_type": "stream",
     "text": [
      "210.2\n"
     ]
    }
   ],
   "source": [
    "%%cython\n",
    "# Celsius function\n",
    "cdef CelsiusConver(double f):\n",
    "    f - 32 * 5/9\n",
    "    return FromCToFahren(f) \n",
    "    \n",
    "cdef FromCToFahren(f):\n",
    "   cdef double c\n",
    "   c = f * 9/5 + 32\n",
    "   return c\n",
    "\n",
    "\n",
    "print(CelsiusConver(99))"
   ]
  },
  {
   "cell_type": "code",
   "execution_count": null,
   "id": "9d78afc9",
   "metadata": {},
   "outputs": [],
   "source": []
  },
  {
   "cell_type": "code",
   "execution_count": null,
   "id": "28c00b9e-87c6-414a-9e76-30f7c8aadeb7",
   "metadata": {},
   "outputs": [],
   "source": []
  },
  {
   "cell_type": "code",
   "execution_count": 5,
   "id": "1d982c69-4865-4dc9-aa01-9f537ef2166f",
   "metadata": {},
   "outputs": [],
   "source": [
    "def countertop(x):\n",
    "    \"\"\"\n",
    "    Compute the area of a square countertop with a mizzing wedge.\n",
    "    The pameter x is the length of one side of the square.\n",
    "    \"\"\"\n",
    "    \n",
    "    square = x ** 2 # area of the full square\n",
    "    \n",
    "    triangle = ((x / 2 ) ** 2) / 2  # area of the misssing wedge \n",
    "    \n",
    "    return square - triangle"
   ]
  },
  {
   "cell_type": "code",
   "execution_count": 6,
   "id": "ef83f5aa",
   "metadata": {},
   "outputs": [
    {
     "name": "stdout",
     "output_type": "stream",
     "text": [
      "2646.875\n"
     ]
    }
   ],
   "source": [
    "%%cython\n",
    "\n",
    "cdef Ccountertop(double x):\n",
    "    \"\"\"\n",
    "    Compute the area of a square countertop with a mizzing wedge.\n",
    "    The pameter x is the length of one side of the square.\n",
    "    \"\"\"\n",
    "    \n",
    "    square = x ** 2 # area of the full square\n",
    "    \n",
    "    triangle = ((x / 2 ) ** 2) / 2  # area of the misssing wedge \n",
    "    \n",
    "    return square - triangle\n",
    "\n",
    "print(Ccountertop(55))"
   ]
  },
  {
   "cell_type": "code",
   "execution_count": 7,
   "id": "2ed8d3d5",
   "metadata": {},
   "outputs": [],
   "source": [
    "def add(*args):\n",
    "    total = 0\n",
    "    for x in args:\n",
    "        total += x\n",
    "    return total"
   ]
  },
  {
   "cell_type": "code",
   "execution_count": 8,
   "id": "fa575b9c",
   "metadata": {},
   "outputs": [
    {
     "name": "stdout",
     "output_type": "stream",
     "text": [
      "26\n"
     ]
    }
   ],
   "source": [
    "%%cython\n",
    "cdef list Cargs = [1,5,1,6,5,8]\n",
    "def add(args):\n",
    "    cdef int total = 0\n",
    "    for x in args:\n",
    "        total += x\n",
    "    return total\n",
    "\n",
    "\n",
    "print(add(Cargs))"
   ]
  },
  {
   "cell_type": "code",
   "execution_count": 9,
   "id": "6dd98136",
   "metadata": {},
   "outputs": [],
   "source": [
    "%%cython \n",
    "\n",
    "cdef add3CY(int x,int y, int z):\n",
    "    return x + y + z\n"
   ]
  },
  {
   "cell_type": "code",
   "execution_count": 10,
   "id": "a75b4a2e",
   "metadata": {},
   "outputs": [
    {
     "name": "stdout",
     "output_type": "stream",
     "text": [
      "1773002.7662222502\n",
      "382.77216451009605\n",
      "155.13869555449224\n",
      "241.69677156\n",
      "84.00559130699642\n",
      "None\n",
      "1322.3821477472127\n"
     ]
    }
   ],
   "source": [
    "%%cython\n",
    "import time\n",
    "import sys\n",
    "\n",
    "cimport cython\n",
    "cimport numpy as cnp\n",
    "\n",
    "from libc.math cimport pow, sqrt\n",
    "\n",
    "\n",
    "cdef mileages = [1331.5415, 19.564564, 12.4554685, 15.5466, 9.16545641564]\n",
    "\n",
    "cdef partial_total(mileages):\n",
    "    cdef i = float\n",
    "    for i in mileages:\n",
    "        print(i ** 2)\n",
    "        \n",
    "print(partial_total(mileages))\n",
    "\n",
    "\n",
    "\n",
    "cdef subtract(mileages):\n",
    "    return (mileages[0] - mileages[-1], mileages[-2] - mileages[-4])\n",
    "\n",
    "cdef length(mileages):\n",
    "    return sqrt(mileages[0]**2 + mileages[1]**2)\n",
    "\n",
    "\n",
    "cdef add(mileages):\n",
    "    return (mileages[0] + mileages[0], mileages[1] + mileages[1])\n",
    "\n",
    "\n",
    "cdef distanceC(mileages):\n",
    "    return length(subtract(mileages))\n",
    "\n",
    "\n",
    "print(distanceC(mileages))\n",
    "   "
   ]
  },
  {
   "cell_type": "code",
   "execution_count": 11,
   "id": "13563efb",
   "metadata": {},
   "outputs": [],
   "source": [
    "%%cython\n",
    "\n",
    "cdef Cyfib(int n):\n",
    "    cdef double a=0.0, b=1.0\n",
    "    for i in range(n):\n",
    "        a, b = a + b, a\n",
    "    return a"
   ]
  },
  {
   "cell_type": "code",
   "execution_count": null,
   "id": "e9ffc91d",
   "metadata": {},
   "outputs": [],
   "source": []
  },
  {
   "cell_type": "code",
   "execution_count": 12,
   "id": "84f75f56",
   "metadata": {},
   "outputs": [],
   "source": [
    "def celsisus(f):\n",
    "    \"Convert temperature f from Fahrenheit to Celsius\"\n",
    "    temp = (f - 32) + 5 / 9 \n",
    "    return temp"
   ]
  },
  {
   "cell_type": "code",
   "execution_count": 13,
   "id": "8c200fdd",
   "metadata": {},
   "outputs": [],
   "source": [
    "%%cython\n",
    "\n",
    "cdef Celsisus(float f):\n",
    "    \"Convert temperature f from Fahrenheit to Celsius\"\n",
    "    return (f - 32) + 5 / 9 \n",
    "\n"
   ]
  },
  {
   "cell_type": "code",
   "execution_count": 14,
   "id": "5bd75efd",
   "metadata": {},
   "outputs": [],
   "source": [
    "def marginal_tax_rate(income):\n",
    "    if income < 10000:\n",
    "        return 0.0\n",
    "    elif income < 200000:\n",
    "        return 3.5\n",
    "    else:\n",
    "        return 5.0\n",
    "    \n",
    "  "
   ]
  },
  {
   "cell_type": "code",
   "execution_count": 15,
   "id": "ac677b9b",
   "metadata": {},
   "outputs": [],
   "source": [
    "%%cython\n",
    "cdef marginal_tax_rate(float income):\n",
    "    if income < 10000:\n",
    "        return 0.0\n",
    "    elif income < 200000:\n",
    "        return 3.5\n",
    "    else:\n",
    "        return 5.0"
   ]
  },
  {
   "cell_type": "code",
   "execution_count": 16,
   "id": "d4f928d2",
   "metadata": {},
   "outputs": [
    {
     "name": "stdout",
     "output_type": "stream",
     "text": [
      "1 1.0\n",
      "2 1.4142135623730951\n",
      "3 1.7320508075688772\n",
      "4 2.0\n",
      "5 2.23606797749979\n",
      "6 2.449489742783178\n",
      "7 2.6457513110645907\n",
      "8 2.8284271247461903\n",
      "9 3.0\n",
      "10 3.1622776601683795\n",
      "11 3.3166247903554\n",
      "12 3.4641016151377544\n",
      "13 3.605551275463989\n",
      "14 3.7416573867739413\n",
      "15 3.872983346207417\n",
      "16 4.0\n",
      "17 4.123105625617661\n",
      "18 4.242640687119285\n",
      "19 4.358898943540674\n",
      "20 4.47213595499958\n",
      "21 4.58257569495584\n",
      "22 4.69041575982343\n",
      "23 4.795831523312719\n",
      "24 4.898979485566356\n"
     ]
    }
   ],
   "source": [
    "def partial_total(n,a):\n",
    "    \"\"\"\n",
    "    Compute the total of the first n items in list a.\n",
    "    \"\"\"\n",
    "    sum = 0 \n",
    "    for i in range(0,n):\n",
    "        sum += a[i]\n",
    "        return sum\n",
    "\n",
    "from math import sqrt \n",
    "tryIT = []\n",
    "for i in range(1,25):\n",
    "    tryIT.append(sqrt(i))\n",
    "\n",
    "    print(i, sqrt(i))\n"
   ]
  },
  {
   "cell_type": "code",
   "execution_count": 17,
   "id": "bcad15e1",
   "metadata": {},
   "outputs": [
    {
     "name": "stdout",
     "output_type": "stream",
     "text": [
      "1 1.0\n",
      "2 1.4142135623730951\n",
      "3 1.7320508075688772\n",
      "4 2.0\n",
      "5 2.23606797749979\n",
      "6 2.449489742783178\n",
      "7 2.6457513110645907\n",
      "8 2.8284271247461903\n",
      "9 3.0\n"
     ]
    }
   ],
   "source": [
    "%%cython\n",
    "\n",
    "from math import sqrt\n",
    "\n",
    "cdef partial_total(int n, a):\n",
    "    cdef int sum = 0 \n",
    "    for i in range(0,n):\n",
    "        sum += a[i]\n",
    "        return sum\n",
    " \n",
    "\n",
    "cdef list tryIT = []\n",
    "for i in range(1,10):\n",
    "    tryIT.append(sqrt(i))\n",
    "\n",
    "    print(i, sqrt(i))"
   ]
  },
  {
   "cell_type": "code",
   "execution_count": null,
   "id": "f41d8fed",
   "metadata": {},
   "outputs": [],
   "source": []
  },
  {
   "cell_type": "code",
   "execution_count": 18,
   "id": "fbb67ce9",
   "metadata": {},
   "outputs": [],
   "source": [
    "\n",
    "def retSeive(n):\n",
    "    worksheet = [None, None] + list(range(2,n))\n",
    "    return worksheet\n",
    "\n",
    "worksheet  = retSeive(12)"
   ]
  },
  {
   "cell_type": "code",
   "execution_count": 19,
   "id": "3a452b96",
   "metadata": {},
   "outputs": [
    {
     "name": "stdout",
     "output_type": "stream",
     "text": [
      "[None, None, 2, 3, 4, 5, 6, 7, 8, 9, 10, 11]\n"
     ]
    }
   ],
   "source": [
    "%%cython\n",
    "\n",
    "cdef CretSeive(int n):\n",
    "    cdef worksheet = [None, None] + list(range(2,n))\n",
    "    return worksheet\n",
    "\n",
    "\n",
    "print(CretSeive(12))"
   ]
  },
  {
   "cell_type": "code",
   "execution_count": null,
   "id": "4eca012a",
   "metadata": {},
   "outputs": [],
   "source": []
  },
  {
   "cell_type": "code",
   "execution_count": 20,
   "id": "88e9ad6f",
   "metadata": {},
   "outputs": [
    {
     "data": {
      "text/plain": [
       "' \\nA Helper Function:\\nProgrammers write these sorts of specialized functions as a way of focusing on a sigle aspect of a complex\\nproblem, allowing them to design and test the code for each piece separately.\\n'"
      ]
     },
     "execution_count": 20,
     "metadata": {},
     "output_type": "execute_result"
    }
   ],
   "source": [
    "''' \n",
    "A Helper Function:\n",
    "Programmers write these sorts of specialized functions as a way of focusing on a sigle aspect of a complex\n",
    "problem, allowing them to design and test the code for each piece separately.\n",
    "'''"
   ]
  },
  {
   "cell_type": "code",
   "execution_count": 21,
   "id": "db5b17e0",
   "metadata": {},
   "outputs": [],
   "source": [
    "from math import sqrt, ceil \n",
    "\n",
    "def sieve(n):\n",
    "    \"Return a list of all prime numbers less than n\"\n",
    "    \n",
    "    worksheet = [None, None] + list(range(2,n))\n",
    "    \n",
    "    for k in range(2, ceil(sqrt(n))):\n",
    "        if worksheet[k] is not None:\n",
    "            sift(k, worksheet)\n",
    "            \n",
    "    return non_nulls(worksheet)\n",
    "\n",
    "def sift(k, a):\n",
    "    \"Remove multiples of k from list a\"\n",
    "    for i in range(2*k, len(a), k):\n",
    "        a[i] = None\n",
    "        \n",
    "        \n",
    "def non_nulls(a):\n",
    "    'Return a copy of list a with None objects removed'\n",
    "    res = []\n",
    "    for x in a:\n",
    "        if x is not None:\n",
    "            res.append(x)\n",
    "    return res"
   ]
  },
  {
   "cell_type": "code",
   "execution_count": 22,
   "id": "077401c9",
   "metadata": {},
   "outputs": [
    {
     "name": "stdout",
     "output_type": "stream",
     "text": [
      "None\n"
     ]
    }
   ],
   "source": [
    "%%cython\n",
    "import time\n",
    "import sys\n",
    "\n",
    "cimport cython\n",
    "cimport numpy as cnp\n",
    "\n",
    "from libc.math cimport pow, sqrt,ceil\n",
    "cdef  a = [8, 1, 9, 2, 7, 5, 3]\n",
    "\n",
    "cdef sieve(n):\n",
    "    \n",
    "    cdef worksheet = list(range(2,n))\n",
    "    \n",
    "    for k in range(100, ceil(sqrt(n))):\n",
    "        if worksheet[k] is not None:\n",
    "            Cift(k, worksheet)\n",
    "            \n",
    "    return non_nulls(worksheet)\n",
    "\n",
    "cdef Cift(k, a):\n",
    "    for i in range(2*k, len(a), k):\n",
    "        a[i] = i\n",
    "        \n",
    "            \n",
    "cdef non_nulls(a):\n",
    "    cdef res = []\n",
    "    for x in a:\n",
    "        if x is not None:\n",
    "            res.append(x)\n",
    "    return res\n",
    "\n",
    "cdef crime_before(a):\n",
    "    return Cift(100, a)\n",
    "\n",
    "print(crime_before(a))"
   ]
  },
  {
   "cell_type": "code",
   "execution_count": 23,
   "id": "dfbaeade",
   "metadata": {},
   "outputs": [],
   "source": [
    "# The Linear Search Algorithm\n",
    "\n",
    "a = [8, 1, 9, 2, 7, 5, 3, 8, 6, 7, 2, 4, 6, 2, 1, 8, 9, 1, 5, 7,2]\n",
    "\n",
    "def linsearch(a, x):\n",
    "    \"Use a for loop to search for x\"\n",
    "    for i in range(0, len(a)):\n",
    "        if a[i] == x:\n",
    "            return i \n",
    "    return None\n",
    "\n",
    "\n",
    "def linearSearch(a, x):\n",
    "    \"Use a while loop to search for x\"\n",
    "    i = 0 \n",
    "    while i < len(a):\n",
    "        if a[i] == x:\n",
    "            return i\n",
    "        i += 1 \n",
    "    return None"
   ]
  },
  {
   "cell_type": "code",
   "execution_count": null,
   "id": "91243553",
   "metadata": {},
   "outputs": [],
   "source": []
  },
  {
   "cell_type": "code",
   "execution_count": 24,
   "id": "dd936403",
   "metadata": {},
   "outputs": [
    {
     "name": "stdout",
     "output_type": "stream",
     "text": [
      "5 2\n"
     ]
    }
   ],
   "source": [
    "%%cython\n",
    "import time\n",
    "import sys\n",
    "\n",
    "cimport cython\n",
    "cimport numpy as cnp\n",
    "\n",
    "from libc.math cimport pow, sqrt,ceil\n",
    "\n",
    "\n",
    "cdef a = [8, 1, 9, 2, 7, 5, 3, 8, 6, 7, 2, 4, 6, 2, 1, 8, 9, 1, 5, 7,2]\n",
    "\n",
    "\n",
    "cdef Clinsearch(a, int x):\n",
    "    for i in range(0, len(a)):\n",
    "        if a[i] == x:\n",
    "            return i \n",
    "    return None\n",
    "\n",
    "\n",
    "\n",
    "cdef ClinearSearch(a, int x):\n",
    "    i = 0 \n",
    "    while i < len(a):\n",
    "        if a[i] == x:\n",
    "            return i\n",
    "        i += 1 \n",
    "    return None\n",
    "\n",
    "\n",
    "\n",
    "\n",
    "print(Clinsearch(a, 5), ClinearSearch(a, 9))"
   ]
  },
  {
   "cell_type": "code",
   "execution_count": null,
   "id": "300b5892",
   "metadata": {},
   "outputs": [],
   "source": []
  },
  {
   "cell_type": "code",
   "execution_count": 25,
   "id": "f4d4b60a",
   "metadata": {},
   "outputs": [
    {
     "name": "stdout",
     "output_type": "stream",
     "text": [
      "[8, 1, 9, 2, 7, 5, 3, 8, 6, 7, 2, 4, 6, 2, 1, 8, 9, 1, 5, 7, 2]\n",
      "[1, 8, 9, 2, 7, 5, 3, 8, 6, 7, 2, 4, 6, 2, 1, 8, 9, 1, 5, 7, 2]\n",
      "[1] [8, 9, 2, 7, 5, 3, 8, 6, 7, 2, 4, 6, 2, 1, 8, 9, 1, 5, 7, 2]\n",
      "[1, 8] [9, 2, 7, 5, 3, 8, 6, 7, 2, 4, 6, 2, 1, 8, 9, 1, 5, 7, 2]\n",
      "[1, 8, 9] [2, 7, 5, 3, 8, 6, 7, 2, 4, 6, 2, 1, 8, 9, 1, 5, 7, 2]\n",
      "[1, 2, 8, 9] [7, 5, 3, 8, 6, 7, 2, 4, 6, 2, 1, 8, 9, 1, 5, 7, 2]\n",
      "[1, 2, 7, 8, 9] [5, 3, 8, 6, 7, 2, 4, 6, 2, 1, 8, 9, 1, 5, 7, 2]\n",
      "[1, 2, 5, 7, 8, 9] [3, 8, 6, 7, 2, 4, 6, 2, 1, 8, 9, 1, 5, 7, 2]\n",
      "[1, 2, 3, 5, 7, 8, 9] [8, 6, 7, 2, 4, 6, 2, 1, 8, 9, 1, 5, 7, 2]\n",
      "[1, 2, 3, 5, 7, 8, 8, 9] [6, 7, 2, 4, 6, 2, 1, 8, 9, 1, 5, 7, 2]\n",
      "[1, 2, 3, 5, 6, 7, 8, 8, 9] [7, 2, 4, 6, 2, 1, 8, 9, 1, 5, 7, 2]\n",
      "[1, 2, 3, 5, 6, 7, 7, 8, 8, 9] [2, 4, 6, 2, 1, 8, 9, 1, 5, 7, 2]\n",
      "[1, 2, 2, 3, 5, 6, 7, 7, 8, 8, 9] [4, 6, 2, 1, 8, 9, 1, 5, 7, 2]\n",
      "[1, 2, 2, 3, 4, 5, 6, 7, 7, 8, 8, 9] [6, 2, 1, 8, 9, 1, 5, 7, 2]\n",
      "[1, 2, 2, 3, 4, 5, 6, 6, 7, 7, 8, 8, 9] [2, 1, 8, 9, 1, 5, 7, 2]\n",
      "[1, 2, 2, 2, 3, 4, 5, 6, 6, 7, 7, 8, 8, 9] [1, 8, 9, 1, 5, 7, 2]\n",
      "[1, 1, 2, 2, 2, 3, 4, 5, 6, 6, 7, 7, 8, 8, 9] [8, 9, 1, 5, 7, 2]\n",
      "[1, 1, 2, 2, 2, 3, 4, 5, 6, 6, 7, 7, 8, 8, 8, 9] [9, 1, 5, 7, 2]\n",
      "[1, 1, 2, 2, 2, 3, 4, 5, 6, 6, 7, 7, 8, 8, 8, 9, 9] [1, 5, 7, 2]\n",
      "[1, 1, 1, 2, 2, 2, 3, 4, 5, 6, 6, 7, 7, 8, 8, 8, 9, 9] [5, 7, 2]\n",
      "[1, 1, 1, 2, 2, 2, 3, 4, 5, 5, 6, 6, 7, 7, 8, 8, 8, 9, 9] [7, 2]\n",
      "[1, 1, 1, 2, 2, 2, 3, 4, 5, 5, 6, 6, 7, 7, 7, 8, 8, 8, 9, 9] [2]\n",
      "[1, 1, 1, 2, 2, 2, 2, 3, 4, 5, 5, 6, 6, 7, 7, 7, 8, 8, 8, 9, 9]\n"
     ]
    }
   ],
   "source": [
    "# Implementing Insertion Sort \n",
    "a = [8, 1, 9, 2, 7, 5, 3, 8, 6, 7, 2, 4, 6, 2, 1, 8, 9, 1, 5, 7,2]\n",
    "\n",
    "def isort(a):\n",
    "    'Sort list a using insertion sort'\n",
    "    for i in range(1, len(a)):\n",
    "        print(a[:i], a[i:])\n",
    "        move_left(a,i)\n",
    "        \n",
    "\n",
    "def move_left(a, j):\n",
    "    'isort helper function that moves a[j]'\n",
    "    x = a.pop(j)\n",
    "    while j > 0 and a [j - 1] > x:\n",
    "        j -= 1\n",
    "    a.insert(j, x)      \n",
    "    \n",
    "\n",
    "print(a)\n",
    "\n",
    "move_left(a, 1)\n",
    "\n",
    "print(a)\n",
    "\n",
    "isort(a)\n",
    "\n",
    "print(a)"
   ]
  },
  {
   "cell_type": "code",
   "execution_count": 26,
   "id": "b03bb43d",
   "metadata": {},
   "outputs": [
    {
     "name": "stdout",
     "output_type": "stream",
     "text": [
      "[8, 1, 9, 2, 7, 5, 3, 8, 6, 7, 2, 4, 6, 2, 1, 8, 9, 1, 5, 7, 2]\n",
      "[8] [9, 2, 7, 5, 3, 8, 6, 7, 2, 4, 6, 2, 1, 8, 9, 1, 5, 7, 2, 0, 1]\n",
      "[8, 2] [7, 5, 3, 8, 6, 7, 2, 4, 6, 2, 1, 8, 9, 1, 5, 7, 2, 0, 1, 1, 9]\n",
      "[8, 2, 5] [3, 8, 6, 7, 2, 4, 6, 2, 1, 8, 9, 1, 5, 7, 2, 0, 1, 1, 9, 2, 7]\n",
      "[8, 2, 5, 8] [6, 7, 2, 4, 6, 2, 1, 8, 9, 1, 5, 7, 2, 0, 1, 1, 9, 2, 7, 2, 3]\n",
      "[8, 2, 5, 8, 7] [2, 4, 6, 2, 1, 8, 9, 1, 5, 7, 2, 0, 1, 1, 9, 2, 7, 2, 3, 3, 6]\n",
      "[8, 2, 5, 8, 7, 4] [6, 2, 1, 8, 9, 1, 5, 7, 2, 0, 1, 1, 9, 2, 7, 2, 3, 3, 6, 2, 2]\n",
      "[8, 2, 5, 8, 7, 4, 2] [1, 8, 9, 1, 5, 7, 2, 0, 1, 1, 9, 2, 7, 2, 3, 3, 6, 2, 2, 6, 6]\n",
      "[8, 2, 5, 8, 7, 4, 2, 8] [9, 1, 5, 7, 2, 0, 1, 1, 9, 2, 7, 2, 3, 3, 6, 2, 2, 6, 6, 0, 1]\n",
      "[8, 2, 5, 8, 7, 4, 2, 8, 1] [5, 7, 2, 0, 1, 1, 9, 2, 7, 2, 3, 3, 6, 2, 2, 6, 6, 0, 1, 8, 9]\n",
      "[8, 2, 5, 8, 7, 4, 2, 8, 1, 7] [2, 0, 1, 1, 9, 2, 7, 2, 3, 3, 6, 2, 2, 6, 6, 0, 1, 8, 9, 9, 5]\n",
      "[8, 2, 5, 8, 7, 4, 2, 8, 1, 7, 0] [1, 1, 9, 2, 7, 2, 3, 3, 6, 2, 2, 6, 6, 0, 1, 8, 9, 9, 5, 9, 2]\n",
      "[8, 2, 5, 8, 7, 4, 2, 8, 1, 7, 0, 1] [9, 2, 7, 2, 3, 3, 6, 2, 2, 6, 6, 0, 1, 8, 9, 9, 5, 9, 2, 11, 1]\n",
      "[8, 2, 5, 8, 7, 4, 2, 8, 1, 7, 0, 1, 2] [7, 2, 3, 3, 6, 2, 2, 6, 6, 0, 1, 8, 9, 9, 5, 9, 2, 11, 1, 12, 9]\n",
      "[8, 2, 5, 8, 7, 4, 2, 8, 1, 7, 0, 1, 2, 2] [3, 3, 6, 2, 2, 6, 6, 0, 1, 8, 9, 9, 5, 9, 2, 11, 1, 12, 9, 13, 7]\n",
      "[8, 2, 5, 8, 7, 4, 2, 8, 1, 7, 0, 1, 2, 2, 3] [6, 2, 2, 6, 6, 0, 1, 8, 9, 9, 5, 9, 2, 11, 1, 12, 9, 13, 7, 14, 3]\n",
      "[8, 2, 5, 8, 7, 4, 2, 8, 1, 7, 0, 1, 2, 2, 3, 2] [2, 6, 6, 0, 1, 8, 9, 9, 5, 9, 2, 11, 1, 12, 9, 13, 7, 14, 3, 15, 6]\n",
      "[8, 2, 5, 8, 7, 4, 2, 8, 1, 7, 0, 1, 2, 2, 3, 2, 6] [6, 0, 1, 8, 9, 9, 5, 9, 2, 11, 1, 12, 9, 13, 7, 14, 3, 15, 6, 16, 2]\n",
      "[8, 2, 5, 8, 7, 4, 2, 8, 1, 7, 0, 1, 2, 2, 3, 2, 6, 0] [1, 8, 9, 9, 5, 9, 2, 11, 1, 12, 9, 13, 7, 14, 3, 15, 6, 16, 2, 17, 6]\n",
      "[8, 2, 5, 8, 7, 4, 2, 8, 1, 7, 0, 1, 2, 2, 3, 2, 6, 0, 8] [9, 9, 5, 9, 2, 11, 1, 12, 9, 13, 7, 14, 3, 15, 6, 16, 2, 17, 6, 18, 1]\n",
      "[8, 2, 5, 8, 7, 4, 2, 8, 1, 7, 0, 1, 2, 2, 3, 2, 6, 0, 8, 9] [5, 9, 2, 11, 1, 12, 9, 13, 7, 14, 3, 15, 6, 16, 2, 17, 6, 18, 1, 19, 9]\n",
      "[8, 2, 5, 8, 7, 4, 2, 8, 1, 7, 0, 1, 2, 2, 3, 2, 6, 0, 8, 9, 9] [2, 11, 1, 12, 9, 13, 7, 14, 3, 15, 6, 16, 2, 17, 6, 18, 1, 19, 9, 18, 5]\n",
      "[8, 2, 5, 8, 7, 4, 2, 8, 1, 7, 0, 1, 2, 2, 3, 2, 6, 0, 8, 9, 9, 11, 1, 12, 9, 13, 7, 14, 3, 15, 6, 16, 2, 17, 6, 18, 1, 19, 9, 18, 5, 18, 2]\n"
     ]
    }
   ],
   "source": [
    "%%cython\n",
    "import time\n",
    "import sys\n",
    "\n",
    "cimport cython\n",
    "cimport numpy as cnp\n",
    "\n",
    "from libc.math cimport pow, sqrt,ceil\n",
    "\n",
    "cdef list a = [8, 1, 9, 2, 7, 5, 3, 8, 6, 7, 2, 4, 6, 2, 1, 8, 9, 1, 5, 7,2]\n",
    "cdef CYsort(a):\n",
    "    for i in range(1, len(a)):\n",
    "        print(a[:i], a[i:])\n",
    "        CYmove_left(a,i)\n",
    "        \n",
    "\n",
    "cdef CYmove_left(a, int j):\n",
    "    x = a.pop(j)\n",
    "    while j > 0 and a [j - 1] > x:\n",
    "        j -= 1\n",
    "    a.extend([j, x])      \n",
    "    \n",
    "    \n",
    "    \n",
    "   \n",
    "\n",
    "print(a)\n",
    "\n",
    "CYmove_left(a, 1)\n",
    "CYsort(a)\n",
    "\n",
    "print(a)"
   ]
  },
  {
   "cell_type": "code",
   "execution_count": 32,
   "id": "3f227689",
   "metadata": {},
   "outputs": [],
   "source": [
    "\"\"\"\n",
    "\n",
    "The Art of Programming (part II):\n",
    "\n",
    "In most situations it is probably best to go with a for loop it takes only one line to describe\n",
    "the loop. You wont have to worry about initializing a loop index or causing an infinite loop.\n",
    "\n",
    "\"\"\"\n",
    "def scler(x):\n",
    "    for i in x:\n",
    "        return x.lower()\n",
    "\n",
    "\n",
    "i = 0\n",
    "def whilescale(x):\n",
    "    while i < len(x[1]):\n",
    "        print(x)\n",
    "    \n",
    "    \n",
    "    \n",
    "# A version of isort written using nested loops (a while loop inside a for loop) instead of a call a helper function.\n",
    "\n",
    "def isort(a):\n",
    "    for i in range(1, len(a)):\n",
    "        j = i\n",
    "        x = a.pop(j)\n",
    "        while j > 0 and a[j-i] > x:\n",
    "            j -= 1\n",
    "        a.insert(j, x)\n",
    "\n",
    "        "
   ]
  },
  {
   "cell_type": "code",
   "execution_count": 34,
   "id": "9bc0dfba",
   "metadata": {},
   "outputs": [
    {
     "name": "stdout",
     "output_type": "stream",
     "text": [
      "None\n"
     ]
    }
   ],
   "source": [
    "haloges = ['F', 'Cl', 'Br', 'I', 'At']\n",
    "\n",
    "print(isort(haloges)        )"
   ]
  },
  {
   "cell_type": "code",
   "execution_count": null,
   "id": "23713790",
   "metadata": {},
   "outputs": [],
   "source": []
  },
  {
   "cell_type": "code",
   "execution_count": 36,
   "id": "79c5fd78",
   "metadata": {},
   "outputs": [
    {
     "name": "stdout",
     "output_type": "stream",
     "text": [
      "None\n"
     ]
    }
   ],
   "source": [
    "%%cython\n",
    "import time\n",
    "import sys\n",
    "\n",
    "cimport cython\n",
    "cimport numpy as cnp\n",
    "\n",
    "from libc.math cimport pow, sqrt,ceil\n",
    "cdef list a = [8, 1, 9, 2, 7, 5, 3, 8, 6, 7, 2, 4, 6, 2, 1, 8, 9, 1, 5, 7,2]\n",
    "\n",
    "cdef scler(x):\n",
    "    for i in x:\n",
    "        return x.lower()\n",
    "\n",
    "\n",
    "cdef int i = 0\n",
    "cdef whilescale(x):\n",
    "    while i < len(x[1]):\n",
    "        print(x)\n",
    "    \n",
    "\n",
    "cdef Cyisort(a):\n",
    "    for i in range(len(a)):\n",
    "        j = i\n",
    "        x = a.pop(j)\n",
    "        while j > 0 and a[j-i] > x:\n",
    "            j -= 1\n",
    "        a.insert(j, x)\n",
    "        \n",
    "\n",
    "\n",
    "print(Cyisort(a))"
   ]
  },
  {
   "cell_type": "code",
   "execution_count": null,
   "id": "9b8ced3e",
   "metadata": {},
   "outputs": [],
   "source": []
  },
  {
   "cell_type": "code",
   "execution_count": null,
   "id": "3c107225",
   "metadata": {},
   "outputs": [],
   "source": [
    "# Implementing Binary Search \n",
    "\n",
    "def binarySearch(a, x):\n",
    "    'Use a Binary search to find x in list a'\n",
    "    lower = -1\n",
    "    upper = len(a)\n",
    "    while upper > lower + 1:\n",
    "        mid = (lower + upper) // 2\n",
    "        if a[mid] == x:\n",
    "            return mid\n",
    "        if x < a[mid]:\n",
    "            upper = mid\n",
    "        else:\n",
    "            lower = mid\n",
    "    return None\n",
    "                \n",
    "                \n",
    "binarySearch(a, 46)\n",
    "\n",
    "\n",
    "\n",
    "consonants = ['b', 'c', 'd', 'f', 'g', 'h', 'j']\n",
    "binarySearch(consonants, 'j')"
   ]
  },
  {
   "cell_type": "code",
   "execution_count": 47,
   "id": "97a441ba",
   "metadata": {},
   "outputs": [
    {
     "name": "stdout",
     "output_type": "stream",
     "text": [
      "15\n"
     ]
    }
   ],
   "source": [
    "%%cython\n",
    "import time\n",
    "import sys\n",
    "\n",
    "cimport cython\n",
    "cimport numpy as cnp\n",
    "\n",
    "from libc.math cimport pow, sqrt,ceil\n",
    "cdef list a = [8, 1, 9, 2, 7, 5, 3, 8, 6, 7, 2, 4, 6, 2, 1, 8, 9, 1, 5, 7,2]\n",
    "\n",
    "cdef CinarySearch(a, int x):\n",
    "    lower = -1\n",
    "    upper = len(a)\n",
    "    while upper > lower + 1:\n",
    "        mid = (lower + upper) // 2\n",
    "        if a[mid] == x:\n",
    "            return mid\n",
    "        if x < a[mid]:\n",
    "            upper = mid\n",
    "        else:\n",
    "            lower = mid\n",
    "    return None\n",
    "                \n",
    "                \n",
    "        \n",
    "        \n",
    "print(CinarySearch(a, 8))"
   ]
  },
  {
   "cell_type": "code",
   "execution_count": null,
   "id": "cd9d9569",
   "metadata": {},
   "outputs": [],
   "source": []
  },
  {
   "cell_type": "code",
   "execution_count": 48,
   "id": "6787b6eb",
   "metadata": {},
   "outputs": [
    {
     "data": {
      "text/plain": [
       "[1, 2, 3, 5, 6, 7, 8, 9]"
      ]
     },
     "execution_count": 48,
     "metadata": {},
     "output_type": "execute_result"
    }
   ],
   "source": [
    "from math import ceil, log2 \n",
    "\n",
    "from heapq import merge\n",
    "\n",
    "def mSort(a):\n",
    "    groupsize = 1\n",
    "    while groupsize < len(a):\n",
    "        merge_groups(a, groupsize)\n",
    "        groupsize * 2\n",
    "        \n",
    "        \n",
    "def merge_groups(a, gs):\n",
    "    for i in range(len(a), 2*gs):\n",
    "        j = i + gs\n",
    "        k = j + gs \n",
    "        a[i:k] = list(merge(a[i:j], a[j:k]))\n",
    "\n",
    "\n",
    "a = [1,2,7,8]\n",
    "\n",
    "b = [3,5,6,9]\n",
    "\n",
    "c = a + b\n",
    "\n",
    "list(merge(a,b))\n"
   ]
  },
  {
   "cell_type": "code",
   "execution_count": 50,
   "id": "facc06ee",
   "metadata": {},
   "outputs": [
    {
     "name": "stdout",
     "output_type": "stream",
     "text": [
      "[1, 2, 3, 5, 6, 7, 8, 9]\n"
     ]
    }
   ],
   "source": [
    "%%cython\n",
    "import time\n",
    "import sys\n",
    "\n",
    "cimport cython\n",
    "cimport numpy as cn\n",
    "from math import ceil, log2 \n",
    "from heapq import merge\n",
    "\n",
    "cdef mSort(a):\n",
    "    groupsize = 1\n",
    "    while groupsize < len(a):\n",
    "        Cerge_groups(a, groupsize)\n",
    "        groupsize * 2\n",
    "        \n",
    "        \n",
    "cdef Cerge_groups(a, gs):\n",
    "    for i in range(len(a), 2*gs):\n",
    "        j = i + gs\n",
    "        k = j + gs \n",
    "        a[i:k] = list(merge(a[i:j], a[j:k]))\n",
    "\n",
    "\n",
    "cdef a = [1,2,7,8]\n",
    "\n",
    "cdef b = [3,5,6,9]\n",
    "\n",
    "c = a + b\n",
    "\n",
    "print(list(merge(a,b)))"
   ]
  },
  {
   "cell_type": "code",
   "execution_count": null,
   "id": "cceb5983",
   "metadata": {},
   "outputs": [],
   "source": []
  },
  {
   "cell_type": "code",
   "execution_count": null,
   "id": "dfe29ec7",
   "metadata": {},
   "outputs": [],
   "source": []
  },
  {
   "cell_type": "code",
   "execution_count": null,
   "id": "956873ba",
   "metadata": {},
   "outputs": [],
   "source": []
  },
  {
   "cell_type": "code",
   "execution_count": null,
   "id": "b7d4bd8b",
   "metadata": {},
   "outputs": [],
   "source": []
  },
  {
   "cell_type": "code",
   "execution_count": null,
   "id": "3b3e1c58",
   "metadata": {},
   "outputs": [],
   "source": []
  },
  {
   "cell_type": "code",
   "execution_count": null,
   "id": "c359cccc",
   "metadata": {},
   "outputs": [],
   "source": []
  },
  {
   "cell_type": "code",
   "execution_count": null,
   "id": "59563b5f",
   "metadata": {},
   "outputs": [],
   "source": []
  },
  {
   "cell_type": "code",
   "execution_count": 96,
   "id": "4409b57b",
   "metadata": {},
   "outputs": [],
   "source": []
  },
  {
   "cell_type": "code",
   "execution_count": 114,
   "id": "73e4ea67",
   "metadata": {},
   "outputs": [
    {
     "name": "stdout",
     "output_type": "stream",
     "text": [
      "5\n"
     ]
    }
   ],
   "source": [
    "def bsearch(a,x):\n",
    "    \"Resursive binary search to find x in list a\"\n",
    "    return rsearch(a, x, -1, len(a))\n",
    "\n",
    "def rsearch(a, x, lower, upper):\n",
    "    \"Search a between lower and upper for item x\"\n",
    "    if upper == lower + 1:\n",
    "        return None\n",
    "    mid = (lower + upper) // 2\n",
    "    if a[mid] == x:\n",
    "        return mid\n",
    "    if x < a[mid]:\n",
    "        return rsearch(a, x, lower, mid)\n",
    "    else:\n",
    "        return rsearch(a, x, mid, upper)\n",
    "    \n",
    "    \n",
    "a = [1,2,7,8,3,5,6,9, 8, 1, 9, 2, 7, 5, 3, 8, 6, 7, 2, 4, 6, 2]    \n",
    "print(bsearch(a, 5))"
   ]
  },
  {
   "cell_type": "code",
   "execution_count": null,
   "id": "335c38f7",
   "metadata": {},
   "outputs": [],
   "source": []
  },
  {
   "cell_type": "code",
   "execution_count": 83,
   "id": "8fdb14e9",
   "metadata": {},
   "outputs": [],
   "source": []
  },
  {
   "cell_type": "code",
   "execution_count": 113,
   "id": "dcdaa839",
   "metadata": {},
   "outputs": [
    {
     "ename": "TypeError",
     "evalue": "'<' not supported between instances of 'str' and 'int'",
     "output_type": "error",
     "traceback": [
      "\u001b[1;31m---------------------------------------------------------------------------\u001b[0m",
      "\u001b[1;31mTypeError\u001b[0m                                 Traceback (most recent call last)",
      "Input \u001b[1;32mIn [113]\u001b[0m, in \u001b[0;36m<cell line: 39>\u001b[1;34m()\u001b[0m\n\u001b[0;32m     36\u001b[0m         qs(a, p, q\u001b[38;5;241m-\u001b[39m\u001b[38;5;241m1\u001b[39m)\n\u001b[0;32m     37\u001b[0m         qs(a, q\u001b[38;5;241m+\u001b[39m\u001b[38;5;241m1\u001b[39m, r)\n\u001b[1;32m---> 39\u001b[0m \u001b[43mqs\u001b[49m\u001b[43m(\u001b[49m\u001b[43ma\u001b[49m\u001b[43m,\u001b[49m\u001b[43m \u001b[49m\u001b[43mp\u001b[49m\u001b[43m,\u001b[49m\u001b[43m \u001b[49m\u001b[38;5;241;43m2\u001b[39;49m\u001b[43m)\u001b[49m\n",
      "Input \u001b[1;32mIn [113]\u001b[0m, in \u001b[0;36mqs\u001b[1;34m(a, p, r)\u001b[0m\n\u001b[0;32m     33\u001b[0m \u001b[38;5;28;01mdef\u001b[39;00m \u001b[38;5;21mqs\u001b[39m(a, p, r):\n\u001b[1;32m---> 34\u001b[0m     \u001b[38;5;28;01mif\u001b[39;00m \u001b[43mp\u001b[49m\u001b[43m \u001b[49m\u001b[38;5;241;43m<\u001b[39;49m\u001b[43m \u001b[49m\u001b[43mr\u001b[49m:\n\u001b[0;32m     35\u001b[0m         q \u001b[38;5;241m=\u001b[39m partition(a, p, r)\n\u001b[0;32m     36\u001b[0m         qs(a, p, q\u001b[38;5;241m-\u001b[39m\u001b[38;5;241m1\u001b[39m)\n",
      "\u001b[1;31mTypeError\u001b[0m: '<' not supported between instances of 'str' and 'int'"
     ]
    }
   ],
   "source": [
    "def partition(a, p, r):\n",
    "    x = a[p]\n",
    "    i = p\n",
    "    for j in range(p+1, r+1):\n",
    "        if a[j] <= x:\n",
    "            i += 1\n",
    "            a[i], a[j] = a[j], a[i]\n",
    "    a[p], a[i] = a[i], a[p]\n",
    "    return i   \n",
    "\n",
    "def bsearch(a,x):\n",
    "    \"Resursive binary search to find x in list a\"\n",
    "    return rsearch(a, x, -1, len(a))\n",
    "\n",
    "def rsearch(a, x, lower, upper):\n",
    "    \"Search a between lower and upper for item x\"\n",
    "    if upper == lower + 1:\n",
    "        return None\n",
    "    mid = (lower + upper) // 2\n",
    "    if a[mid] == x:\n",
    "        return mid\n",
    "    if x < a[mid]:\n",
    "        return rsearch(a, x, lower, mid)\n",
    "    else:\n",
    "        return rsearch(a, x, mid, upper)\n",
    "    \n",
    "\n",
    "def qsort(a):\n",
    "    \"Sort list a using the Quicksort algorithm\"\n",
    "    qs(a, 0, len(a)-1)\n",
    "\n",
    "\n",
    "def qs(a, p, r):\n",
    "    if p < r:\n",
    "        q = partition(a, p, r)\n",
    "        qs(a, p, q-1)\n",
    "        qs(a, q+1, r)\n",
    "        \n",
    "qs(a, p, 2)"
   ]
  },
  {
   "cell_type": "code",
   "execution_count": 115,
   "id": "9a3aaea4",
   "metadata": {},
   "outputs": [],
   "source": [
    "%%cython\n",
    "import time\n",
    "import sys\n",
    "\n",
    "cimport cython\n",
    "cimport numpy as cnp\n",
    "\n",
    "from libc.math cimport pow, sqrt,ceil\n",
    "cdef list a = [8, 1, 9, 2, 7, 5, 3, 8, 6, 7, 2, 4, 6, 2, 1, 8, 9, 1, 5, 7,2]\n",
    "\n",
    "cdef Cartition(a, p, r):\n",
    "    x = a[p]\n",
    "    i = p\n",
    "    for j in range(p+1, r+1):\n",
    "        if a[j] <= x:\n",
    "            i += 1\n",
    "            a[i], a[j] = a[j], a[i]\n",
    "    a[p], a[i] = a[i], a[p]\n",
    "    return i\n",
    "\n",
    "cdef Cbsearch(a,int x):\n",
    "    return Crsearch(a, x, -1, len(a))\n",
    "\n",
    "cdef Crsearch(a, x, lower, upper):\n",
    "    if upper == lower + 1:\n",
    "        return None\n",
    "    mid = (lower + upper) // 2\n",
    "    if a[mid] == x:\n",
    "        return mid\n",
    "    if x < a[mid]:\n",
    "        return Crsearch(a, x, lower, mid)\n",
    "    else:\n",
    "        return Crsearch(a, x, mid, upper)\n",
    "    \n",
    "\n",
    "cdef qsort(a):\n",
    "    qs(a, 0, len(a)-1)\n",
    "\n",
    "\n",
    "cdef qs(a, p, r):\n",
    "    if p < r:\n",
    "        q = Cartition(a, p, r)\n",
    "        qs(a, p, q-1)\n",
    "        qs(a, q+1, r)"
   ]
  },
  {
   "cell_type": "code",
   "execution_count": null,
   "id": "943e558a",
   "metadata": {},
   "outputs": [],
   "source": []
  },
  {
   "cell_type": "code",
   "execution_count": null,
   "id": "4917080a",
   "metadata": {},
   "outputs": [],
   "source": [
    "# This computes monthly paymetns on a loan\n",
    "\n",
    "def pmt(amt, rate, yrs):\n",
    "    r = rate/100/12\n",
    "    p = 12 * yrs\n",
    "    return r * amt / 1-(1 + r)**-p\n",
    "\n",
    "\n",
    "pmt(150000, 4.5, 30)\n",
    "\n",
    "\n",
    "def randCreator(n):\n",
    "    listOfrand = []\n",
    "    for i in range(5):\n",
    "        i = randnoun()\n",
    "        listOfrand.append(i)\n",
    "    return listOfrand\n",
    "\n",
    "lit = randCreator(10)\n",
    "\n",
    "\n",
    "def print_list(a):\n",
    "    for x in a:\n",
    "        print(x)\n",
    "        \n",
    "def total(a):\n",
    "    sum = 0 \n",
    "    for x in a:\n",
    "        sum += x \n",
    "    return sum\n",
    "\n",
    "\n",
    "\n",
    "# Exercises\n",
    "\n",
    "languages = ['pearl', 'python', 'ruby', 'java', 'c++' ,'java', 'java']\n",
    "\n",
    "isearch(languages, 'java')"
   ]
  },
  {
   "cell_type": "code",
   "execution_count": null,
   "id": "8c4738ec",
   "metadata": {},
   "outputs": [],
   "source": []
  },
  {
   "cell_type": "code",
   "execution_count": null,
   "id": "35e0e4f7",
   "metadata": {},
   "outputs": [],
   "source": []
  },
  {
   "cell_type": "code",
   "execution_count": null,
   "id": "3a4eec9b",
   "metadata": {},
   "outputs": [],
   "source": []
  },
  {
   "cell_type": "code",
   "execution_count": null,
   "id": "e2a8371f",
   "metadata": {},
   "outputs": [],
   "source": []
  },
  {
   "cell_type": "code",
   "execution_count": null,
   "id": "fa3a8eb0",
   "metadata": {},
   "outputs": [],
   "source": []
  },
  {
   "cell_type": "code",
   "execution_count": null,
   "id": "325406fd",
   "metadata": {},
   "outputs": [],
   "source": []
  },
  {
   "cell_type": "code",
   "execution_count": null,
   "id": "a6e753ff",
   "metadata": {},
   "outputs": [],
   "source": []
  },
  {
   "cell_type": "code",
   "execution_count": null,
   "id": "d50d2495-0651-465d-bd64-b839d707fd5c",
   "metadata": {},
   "outputs": [],
   "source": []
  },
  {
   "cell_type": "code",
   "execution_count": null,
   "id": "31b56bdb",
   "metadata": {},
   "outputs": [],
   "source": []
  },
  {
   "cell_type": "code",
   "execution_count": null,
   "id": "73ec2f0a",
   "metadata": {},
   "outputs": [],
   "source": []
  },
  {
   "cell_type": "code",
   "execution_count": null,
   "id": "0494a24d",
   "metadata": {},
   "outputs": [],
   "source": []
  },
  {
   "cell_type": "code",
   "execution_count": null,
   "id": "c96e1096",
   "metadata": {},
   "outputs": [],
   "source": []
  },
  {
   "cell_type": "code",
   "execution_count": null,
   "id": "63954542",
   "metadata": {},
   "outputs": [],
   "source": []
  },
  {
   "cell_type": "code",
   "execution_count": null,
   "id": "638aa4b4",
   "metadata": {},
   "outputs": [],
   "source": []
  },
  {
   "cell_type": "code",
   "execution_count": null,
   "id": "d411c92e-51a6-4722-9e82-291286911968",
   "metadata": {},
   "outputs": [],
   "source": []
  },
  {
   "cell_type": "code",
   "execution_count": null,
   "id": "87b1a618",
   "metadata": {},
   "outputs": [],
   "source": []
  },
  {
   "cell_type": "code",
   "execution_count": null,
   "id": "dda67f81",
   "metadata": {},
   "outputs": [],
   "source": []
  },
  {
   "cell_type": "code",
   "execution_count": null,
   "id": "5be98040",
   "metadata": {},
   "outputs": [],
   "source": []
  },
  {
   "cell_type": "code",
   "execution_count": null,
   "id": "b84ceffc",
   "metadata": {},
   "outputs": [],
   "source": []
  },
  {
   "cell_type": "code",
   "execution_count": null,
   "id": "cdec7dd8",
   "metadata": {},
   "outputs": [],
   "source": []
  },
  {
   "cell_type": "code",
   "execution_count": null,
   "id": "023b1dfe-210a-416f-8e6c-52de22b7809b",
   "metadata": {},
   "outputs": [],
   "source": []
  },
  {
   "cell_type": "markdown",
   "id": "fd8585c9-f425-405d-80c7-acf73c82bf51",
   "metadata": {},
   "source": [
    "# The Insertion Sort Algorithm \n",
    "\n",
    "## A Helper Function for Insertion Sort:\n",
    "\n",
    "This operation ia itself defined by an iterative algorithm.\n",
    "If i is the current location, we want to scan left from i -1 ands work back towards the beginning of the list.\n",
    "The scan stops when we find a smaller value or the front of the list.\n"
   ]
  },
  {
   "cell_type": "code",
   "execution_count": null,
   "id": "ed62380d",
   "metadata": {},
   "outputs": [],
   "source": []
  },
  {
   "cell_type": "markdown",
   "id": "d4e916d7",
   "metadata": {},
   "source": [
    "\n"
   ]
  },
  {
   "cell_type": "markdown",
   "id": "3c3cb54e",
   "metadata": {},
   "source": [
    "\n",
    "# Chapter 5 - Divide and Conquer\n",
    "\n",
    "### A new strategy: Breaking large problems into smaller subproblems"
   ]
  },
  {
   "cell_type": "markdown",
   "id": "5fb53bb6",
   "metadata": {},
   "source": [
    "\n",
    "A search algo known as binary search uses divide and conquer to look for an item in a list.\n",
    "    \"Binary\" comes from the fact that when the list is divided it is cut into two equals pieces.\n",
    "    \n",
    "Quicksort also uses divide and conquer strategy by breaking a list to be sorted into smaller lists \n",
    "and then sorting each sublist.\n"
   ]
  },
  {
   "cell_type": "code",
   "execution_count": null,
   "id": "2bd8cfff",
   "metadata": {},
   "outputs": [],
   "source": []
  },
  {
   "cell_type": "code",
   "execution_count": null,
   "id": "492e9c65",
   "metadata": {},
   "outputs": [],
   "source": [
    "\"\"\" \n",
    "The Merge Sort Algorithm \n",
    "Works by first diving the input list into several small chunks\n",
    "and the combining the chuncks into biggers and bigger groups until the final merged group includes the full list.\n",
    "The key step in the algo is an operation that merges two small groups that are already in order into a single bigger group\n",
    "\"\"\""
   ]
  },
  {
   "cell_type": "code",
   "execution_count": null,
   "id": "ec736c85",
   "metadata": {},
   "outputs": [],
   "source": []
  },
  {
   "cell_type": "code",
   "execution_count": null,
   "id": "dc769567",
   "metadata": {},
   "outputs": [],
   "source": [
    "# Recursive Functions \n",
    "\n",
    "\"\"\"\n",
    "Parameter passed to the recursive call must be different from the one passed as argumetns in the recursive call.\n",
    "Second recursive call needs to be inside an if statement that tests whether or not to make the call.\n",
    "The if statement checks to see if the problem is solved without a recursive call, is so the problem is solved without the recursive call\n",
    "otherwise it is futher divided and the pieces handed off to the recursive call.\n",
    "\"\"\"\n"
   ]
  },
  {
   "cell_type": "code",
   "execution_count": 116,
   "id": "d134904d",
   "metadata": {},
   "outputs": [
    {
     "data": {
      "text/plain": [
       "'are'"
      ]
     },
     "execution_count": 116,
     "metadata": {},
     "output_type": "execute_result"
    }
   ],
   "source": [
    "s4 = 'string are sequences of characters and are confusing'\n",
    "\n",
    "s4list = s4.split()\n",
    "s4list[1]"
   ]
  },
  {
   "cell_type": "code",
   "execution_count": 117,
   "id": "2866504a",
   "metadata": {},
   "outputs": [
    {
     "data": {
      "text/plain": [
       "'I ☙ cats'"
      ]
     },
     "execution_count": 117,
     "metadata": {},
     "output_type": "execute_result"
    }
   ],
   "source": [
    "'I \\u2619 cats'\n",
    "\n"
   ]
  },
  {
   "cell_type": "code",
   "execution_count": null,
   "id": "d774d663",
   "metadata": {},
   "outputs": [],
   "source": [
    "\n",
    "filename = \"./text/techinterviwe.txt\"\n",
    "\n",
    "\n",
    "f = open(filename)\n",
    "\n",
    "testList = f.readlines(100)"
   ]
  },
  {
   "cell_type": "code",
   "execution_count": null,
   "id": "88e84a95",
   "metadata": {},
   "outputs": [],
   "source": [
    "def filesize(fn):\n",
    "    'Count characters in file fn.'\n",
    "    nchars = 0 \n",
    "    for line in open(fn):\n",
    "        nchars += len(line)\n",
    "    return nchars\n",
    "\n",
    "filesize(filename)"
   ]
  },
  {
   "cell_type": "code",
   "execution_count": null,
   "id": "8b3a8f24",
   "metadata": {},
   "outputs": [],
   "source": [
    "testList"
   ]
  },
  {
   "cell_type": "code",
   "execution_count": null,
   "id": "32d8a626",
   "metadata": {},
   "outputs": [],
   "source": [
    "fileline = []\n",
    "\n",
    "def files(filename):\n",
    "    for line in open(filename):\n",
    "        fileline.append(line)\n",
    "        print(line, end='')\n",
    "\n",
    "\n",
    "filename = files(filename)"
   ]
  },
  {
   "cell_type": "code",
   "execution_count": null,
   "id": "0907d686",
   "metadata": {},
   "outputs": [],
   "source": [
    "testList = testList"
   ]
  },
  {
   "cell_type": "code",
   "execution_count": null,
   "id": "01ff26cb",
   "metadata": {},
   "outputs": [],
   "source": [
    "def wc(fn):\n",
    "    \"\"\"\n",
    "    Count the number of lines, words,\n",
    "    and characters in file fn.    \n",
    "    \"\"\"\n",
    "    nlines = nwords = nchars = 0\n",
    "    for line in open(fn):\n",
    "        nlines += 1\n",
    "        nwords += len(line.split())\n",
    "        nchars += len(line)\n",
    "    return nlines, nwords, nchars"
   ]
  },
  {
   "cell_type": "code",
   "execution_count": null,
   "id": "50f7ccca",
   "metadata": {},
   "outputs": [],
   "source": [
    "wc(filename)"
   ]
  },
  {
   "cell_type": "code",
   "execution_count": null,
   "id": "5422371c",
   "metadata": {},
   "outputs": [],
   "source": [
    "\n",
    "roman = { 1: \"I\", 5: \"V\", 10: 'X', 50: \"L\", 100: 'C'}\n",
    "\n",
    "for n in roman:\n",
    "    roman[n].lower()\n",
    "    \n",
    "    print(roman)\n",
    "\n",
    "\n",
    "filename = \"./text/techinterviwe.txt\"\n",
    "\n",
    "\n",
    "f = open(filename)\n",
    "\n",
    "sS = f.readline()"
   ]
  },
  {
   "cell_type": "code",
   "execution_count": null,
   "id": "6cdc4e70",
   "metadata": {},
   "outputs": [],
   "source": [
    "from string import punctuation\n",
    "\n",
    "def wf(fn):\n",
    "    \"Make a dictionary of word frequencies\"\n",
    "    count = {}\n",
    "    for line in open(fn):\n",
    "        for w in tokenize(line):\n",
    "            count.setdefault(w, 0)\n",
    "            count[w] += 1\n",
    "    return count\n",
    "\n",
    "\n",
    "def tokenize(s):\n",
    "    'return the list of words in string s'\n",
    "    a = []\n",
    "    for x in s.split():\n",
    "        a.append( x.strip(punctuation).lower())  \n",
    "    return a"
   ]
  },
  {
   "cell_type": "code",
   "execution_count": null,
   "id": "d6624ff4",
   "metadata": {},
   "outputs": [],
   "source": []
  },
  {
   "cell_type": "code",
   "execution_count": null,
   "id": "eaf38821",
   "metadata": {},
   "outputs": [],
   "source": []
  },
  {
   "cell_type": "code",
   "execution_count": null,
   "id": "da463c94",
   "metadata": {},
   "outputs": [],
   "source": [
    "from PythonLabs.SpamLab import *\n",
    "\n",
    "import tokenize\n",
    "#import spamicity\n",
    "def pspam(fn):\n",
    "    'Compute the probability the message in file fn is spam'\n",
    "    queue = WordQueue(15)\n",
    "  #  pgood = load_probabilities(path_to_data(\"./text/good.txt\"))\n",
    "   # pbad = load_probabilities(path_to_data(\"./text/bad.txt\"))\n",
    "    for line in open(fn):\n",
    "        for word in tokenize(line):\n",
    "            p = spamicity(word, pbad, pgood)\n",
    "            if p != None:\n",
    "                queue.insert(word, p)\n",
    "    return combined_probability(queue)\n",
    "\n",
    "\n",
    "pspam(filename)"
   ]
  },
  {
   "cell_type": "code",
   "execution_count": null,
   "id": "dc1a7814",
   "metadata": {},
   "outputs": [],
   "source": [
    "# Filtering Spam\n",
    "\n",
    "def spamicity(w, pbad, pgood):\n",
    "    '''\n",
    "    Compute the prob a message is spam when it contains a word w.\n",
    "    The dictionary pbad and pgood hold p(w|spam) and p(w|good), repecctively.\n",
    "    '''\n",
    "\n",
    "    if w in pbad and w in pgood:\n",
    "        return pbad[w] / ( pbad[w] + pgood[w] )\n",
    "    else:\n",
    "        return None\n",
    "        "
   ]
  },
  {
   "cell_type": "code",
   "execution_count": null,
   "id": "a0637373",
   "metadata": {},
   "outputs": [],
   "source": [
    "testListPOS = testList[0]\n",
    "testListPOS = testListPOS.split()"
   ]
  },
  {
   "cell_type": "code",
   "execution_count": null,
   "id": "ac01a824",
   "metadata": {},
   "outputs": [],
   "source": [
    "\n",
    "testListNEG = testList[4]\n",
    "testListNEG = testListNEG.split()"
   ]
  },
  {
   "cell_type": "code",
   "execution_count": null,
   "id": "1aa2cb9f",
   "metadata": {},
   "outputs": [],
   "source": []
  },
  {
   "cell_type": "code",
   "execution_count": null,
   "id": "b2a12624",
   "metadata": {},
   "outputs": [],
   "source": [
    "'''\n",
    "Make a funtion that creates acronyms for the list letter on each long word in a list\n",
    "long = >3\n",
    "\n",
    "'''\n",
    "\n",
    "def create_acronym(x):\n",
    "    for word in (x):\n",
    "        if len(word) > 3:\n",
    "            print(word.title())\n",
    "        "
   ]
  },
  {
   "cell_type": "code",
   "execution_count": null,
   "id": "825ab733",
   "metadata": {},
   "outputs": [],
   "source": [
    "create_acronym(testListPOS)"
   ]
  },
  {
   "cell_type": "code",
   "execution_count": null,
   "id": "af08780b",
   "metadata": {},
   "outputs": [],
   "source": [
    "\n"
   ]
  },
  {
   "cell_type": "code",
   "execution_count": null,
   "id": "e213b5d7",
   "metadata": {},
   "outputs": [],
   "source": []
  },
  {
   "cell_type": "code",
   "execution_count": null,
   "id": "333535d8",
   "metadata": {},
   "outputs": [],
   "source": [
    "'''A general formula for adding a new value xi+1 to the end of the list x is\n",
    "\n",
    "    xi+1 =(a X xi + c) mod m'''\n"
   ]
  },
  {
   "cell_type": "code",
   "execution_count": null,
   "id": "5820fe78",
   "metadata": {},
   "outputs": [],
   "source": [
    "from time import time\n",
    "\n",
    "x = 0 \n",
    "a = 81\n",
    "c = 337\n",
    "m = 1000\n",
    "\n",
    "\n",
    "def rand():\n",
    "    \"Generate a value between o and m-1\"\n",
    "    global x\n",
    "    x = (a * x + c) % m\n",
    "    return x\n",
    "\n",
    "def reset(mult, inc, mod):\n",
    "    'Define new a, c, and m values'\n",
    "    global x, a, c, m\n",
    "    \n",
    "    # Leads to diff sequence each time the module is loaded\n",
    "        # x = int(time()) %m\n",
    "\n",
    "    x = 0\n",
    "    a = mult\n",
    "    c = inc \n",
    "    m = mod\n",
    "\n",
    "    \n",
    "display(int(time()))\n"
   ]
  },
  {
   "cell_type": "code",
   "execution_count": null,
   "id": "b675ed8d",
   "metadata": {},
   "outputs": [],
   "source": [
    "dir(roman)[0:15]"
   ]
  },
  {
   "cell_type": "code",
   "execution_count": null,
   "id": "9013f3e1",
   "metadata": {},
   "outputs": [],
   "source": [
    "t = [0]\n",
    "\n",
    "for i in range(15):\n",
    "    t.append(rand())\n",
    "\n",
    "t[2]\n"
   ]
  },
  {
   "cell_type": "code",
   "execution_count": null,
   "id": "0e473c26",
   "metadata": {},
   "outputs": [],
   "source": [
    "def  roll():\n",
    "    return rand() % 6 + 1\n",
    "    \n",
    "\n",
    "roll()"
   ]
  },
  {
   "cell_type": "code",
   "execution_count": null,
   "id": "1a97c72e",
   "metadata": {},
   "outputs": [],
   "source": [
    "dice = [0]\n",
    "\n",
    "for i in range(15):\n",
    "    dice.append(roll())\n",
    "\n",
    "print(dice)\n",
    "\n",
    "dopedice = [roll() for i in range(15)]\n",
    "\n",
    "display(dopedice)"
   ]
  },
  {
   "cell_type": "code",
   "execution_count": null,
   "id": "df46c32c",
   "metadata": {},
   "outputs": [],
   "source": [
    "# list comprehension\n",
    "'''\n",
    "A convinient alternative to writing a for statement to create a list in python.\n",
    "\n",
    "'''\n",
    "\n",
    "print([i for i in range(1,10)])\n",
    "\n",
    "print([i**2 for i in range(1,10)])"
   ]
  },
  {
   "cell_type": "code",
   "execution_count": null,
   "id": "935ccd13",
   "metadata": {},
   "outputs": [],
   "source": [
    "from random import randint\n",
    "import numpy as np\n",
    "\n",
    "def permute(a):\n",
    "    \"Rearrange list a in a random order\"\n",
    "    for i in range(0,len(a)-1):\n",
    "        r = randint(i, len(a)-1)\n",
    "        a[i], a[r] = a[r], a[i]\n"
   ]
  },
  {
   "cell_type": "code",
   "execution_count": null,
   "id": "43ef9379",
   "metadata": {},
   "outputs": [],
   "source": [
    "permute(dopedice)"
   ]
  },
  {
   "cell_type": "code",
   "execution_count": null,
   "id": "24931941",
   "metadata": {},
   "outputs": [],
   "source": [
    "np.histogram(dopedice, bins=2)\n"
   ]
  },
  {
   "cell_type": "code",
   "execution_count": null,
   "id": "e827e36a",
   "metadata": {},
   "outputs": [],
   "source": [
    "# Card class\n",
    "\n",
    "class Card:\n",
    "\n",
    "    'An instance of the Card class is a single playing card.'\n",
    "    suit_sym = {3:'\\u2660', 2:'\\u2665', 1:'\\u2666', 0:'\\u2663'}\n",
    "    rank_sym = {0: \"2\", 1: '3', 2: '4', 3: '5', 4: '6', 5: '7', 6:'8', 7:'9', 8:'10', 9: 'J', 10:'Q', 11: 'K', 12:'A'}\n",
    "\n",
    "    def __init__(self, n):\n",
    "        'Assign the ID for a new card'\n",
    "        self._id = n\n",
    "\n",
    "        \n",
    "    def rank(self):\n",
    "        \"A card's rank is an interger between 0 (2) and 12 (ace).\"\n",
    "        return self._id % 13\n",
    "\n",
    "    def suit(self):\n",
    "        'Return a suit number: 0 = clubs, 1 = diamonds, 2 = hearts, 3 = spades.'\n",
    "        return self._id // 13\n",
    "    \n",
    "    suit_sym = {3:'\\u2660', 2:'\\u2665', 1:'\\u2666', 0:'\\u2663'}\n",
    "    rank_sym = {0: \"2\", 1: '3', 2: '4', 3: '5', 4: '6', 5: '7', 6:'8', 7:'9', 8:'10', 9: 'J', 10:'Q', 11: 'K', 12:'A'}\n",
    "    def __repr__(self):\n",
    "        return Card.rank_sym[self.rank()] + Card.suit_sym[self.suit()]\n",
    "\n",
    "    def __eq__(self, other):\n",
    "        return self._id == other._id\n",
    "        \n",
    "\n",
    "def new_deck():\n",
    "    'Create a list of 52 cards objects.'\n",
    "    return [Card(i) for i in range(52)]\n",
    "\n",
    "print([Card(i) for i in range(52)])"
   ]
  },
  {
   "cell_type": "code",
   "execution_count": null,
   "id": "0357ebec",
   "metadata": {},
   "outputs": [],
   "source": [
    "def make_card(n):\n",
    "    'make a card object'\n",
    "    try:\n",
    "        return Card(n)\n",
    "    except Exception as e:\n",
    "        print('invalid card:', e)\n",
    "        return None"
   ]
  },
  {
   "cell_type": "code",
   "execution_count": null,
   "id": "32c200c0",
   "metadata": {},
   "outputs": [],
   "source": [
    "# Bad Design\n",
    "\n",
    "class X:\n",
    "    def __init__(self, n):\n",
    "        if n < 0:\n",
    "            print('n must be positive')\n",
    "        else:\n",
    "            self._val = n\n",
    "\n",
    "        "
   ]
  },
  {
   "cell_type": "code",
   "execution_count": null,
   "id": "a2a93832",
   "metadata": {},
   "outputs": [],
   "source": [
    "    'An instance of the Card class is a single playing card.'\n",
    "\n",
    "suit_sym = {3:'\\u2660', 2:'\\u2665', 1:'\\u2666', 0:'\\u2663'}\n",
    "\n",
    "rank_sym = {0: \"2\", 1: '3', 2: '4', 3: '5', 4: '6', 5: '7', 6:'8', 7:'9', 8:'10', 9: 'J', 10:'Q', 11: 'K', 12:'A'}\n",
    "\n",
    "suit_num = dict(zip(suit_sym.values(), suit_sym.keys()))\n",
    "\n",
    "rank_num = dict(zip(rank_sym.values(), rank_sym.keys()))"
   ]
  },
  {
   "cell_type": "code",
   "execution_count": null,
   "id": "9e122a08",
   "metadata": {},
   "outputs": [],
   "source": [
    "def __init__(self, arg1, arg2 = None):\n",
    "        if type(arg1) == int:\n",
    "            if arg1 in range(0,52):\n",
    "                self._id = arg1\n",
    "        else:\n",
    "            raise Exception('Card number must be between 0 and 51')\n",
    "            elif arg1 in Card.rank_num and arg2 in Card.suit_num:\n",
    "                self._id = Card.rank_num[arg1] + 13 * Card.suit_num[arg2]\n",
    "        else:\n",
    "            raise Exception('Expected Card(n) or Card(\"rank\", \"suit\")')"
   ]
  },
  {
   "cell_type": "code",
   "execution_count": null,
   "id": "26c7762b",
   "metadata": {},
   "outputs": [],
   "source": [
    "def massbodindx(height, weight, units = 'metric'):\n",
    "    if units == 'metric':\n",
    "        return (weight/ height**2)\n",
    "    elif units == 'standard':\n",
    "        return (weight / neight **2) * 703\n",
    "    else:\n",
    "        return None"
   ]
  },
  {
   "cell_type": "code",
   "execution_count": null,
   "id": "4c711fba",
   "metadata": {},
   "outputs": [],
   "source": [
    "# Class Variables "
   ]
  },
  {
   "cell_type": "code",
   "execution_count": null,
   "id": "295e65b6",
   "metadata": {},
   "outputs": [],
   "source": []
  },
  {
   "cell_type": "code",
   "execution_count": null,
   "id": "8d8a5db2",
   "metadata": {},
   "outputs": [],
   "source": []
  }
 ],
 "metadata": {
  "interpreter": {
   "hash": "9ae16ef445867c3ddd8a030e03f508a31c88ab57810e24e3a3afaf36f09532d0"
  },
  "kernelspec": {
   "display_name": "Python 3 (ipykernel)",
   "language": "python",
   "name": "python3"
  },
  "language_info": {
   "codemirror_mode": {
    "name": "ipython",
    "version": 3
   },
   "file_extension": ".py",
   "mimetype": "text/x-python",
   "name": "python",
   "nbconvert_exporter": "python",
   "pygments_lexer": "ipython3",
   "version": "3.8.13"
  }
 },
 "nbformat": 4,
 "nbformat_minor": 5
}
