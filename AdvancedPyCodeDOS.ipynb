{
 "cells": [
  {
   "cell_type": "code",
   "execution_count": 133,
   "metadata": {},
   "outputs": [
    {
     "data": {
      "text/plain": [
       "'\\n\\nChapter 5: Exploring Compilers. \\nExploring Numba and PyPy.\\n_______________________________\\n\\nNumba exposes specialized types using the signatures attribute. Right after the sum_sq definition.\\n\\nIf we call this function with a specific argument Numba compiles a specialized version\\n\\nAn individual signature can be passed as a tuple containg type we would like to accept.\\nIf we want to specify an array of a specific type, use slicing operator [:] on type itself\\n\\nAnother way to declare signatures is through type strings. Also pass multiple signatue\\n\\nNumba provides a function, called inspect_types,\\nhelps understand how effictive type inference was and which operations were optimized.\\n\\n_______________________________\\n\\nNumba and Numpy:\\n    Originally developed to increase performance of code using NP arr.\\n    Currently, many NP features are implemented efficiaently by compiler\\n\\nUniversal functions: np broadcast function:\\n    U funcs can be dif in np by the scalar version and the\\n    np.verctorize func to enhance the func with broadcasting feature\\n\\n'"
      ]
     },
     "execution_count": 133,
     "metadata": {},
     "output_type": "execute_result"
    }
   ],
   "source": [
    "\"\"\"\n",
    "\n",
    "Chapter 5: Exploring Compilers. \n",
    "Exploring Numba and PyPy.\n",
    "_______________________________\n",
    "\n",
    "Numba exposes specialized types using the signatures attribute. Right after the sum_sq definition.\n",
    "\n",
    "If we call this function with a specific argument Numba compiles a specialized version\n",
    "\n",
    "An individual signature can be passed as a tuple containg type we would like to accept.\n",
    "If we want to specify an array of a specific type, use slicing operator [:] on type itself\n",
    "\n",
    "Another way to declare signatures is through type strings. Also pass multiple signatue\n",
    "\n",
    "Numba provides a function, called inspect_types,\n",
    "helps understand how effictive type inference was and which operations were optimized.\n",
    "\n",
    "_______________________________\n",
    "\n",
    "Numba and Numpy:\n",
    "    Originally developed to increase performance of code using NP arr.\n",
    "    Currently, many NP features are implemented efficiaently by compiler\n",
    "\n",
    "Universal functions: np broadcast function:\n",
    "    U funcs can be dif in np by the scalar version and the\n",
    "    np.verctorize func to enhance the func with broadcasting feature\n",
    "\n",
    "\"\"\"\n"
   ]
  },
  {
   "cell_type": "code",
   "execution_count": 134,
   "metadata": {},
   "outputs": [],
   "source": [
    "import numba as nb\n",
    "\n",
    "\n",
    "def sum_sq(a):\n",
    "    resultofSum = 0\n",
    "    N  = len(a)\n",
    "    for i in range(N):\n",
    "        resultofSum += a[i]\n",
    "    return resultofSum\n",
    "\n"
   ]
  },
  {
   "cell_type": "code",
   "execution_count": 135,
   "metadata": {},
   "outputs": [
    {
     "name": "stdout",
     "output_type": "stream",
     "text": [
      "1.43 ms ± 63.4 µs per loop (mean ± std. dev. of 7 runs, 1000 loops each)\n"
     ]
    },
    {
     "name": "stderr",
     "output_type": "stream",
     "text": [
      "C:\\Users\\JBarr\\anaconda3\\envs\\dev\\lib\\site-packages\\IPython\\core\\magics\\execution.py:165: RuntimeWarning: coroutine 'fetch_urls' was never awaited\n",
      "  it = itertools.repeat(None, number)\n",
      "RuntimeWarning: Enable tracemalloc to get the object allocation traceback\n"
     ]
    },
    {
     "name": "stdout",
     "output_type": "stream",
     "text": [
      "11 µs ± 86.4 ns per loop (mean ± std. dev. of 7 runs, 100000 loops each)\n"
     ]
    }
   ],
   "source": [
    "# first steps with numba\n",
    "\n",
    "@nb.jit\n",
    "\n",
    "def sum_sq(a):\n",
    "    resultofSum = 0\n",
    "    N  = len(a)\n",
    "    for i in range(N):\n",
    "        resultofSum += a[i]\n",
    "    return resultofSum\n",
    "\n",
    "import numpy as np \n",
    "\n",
    "x = np.random.rand(10000)\n",
    "\n",
    "# Original\n",
    "\n",
    "%timeit sum_sq.py_func(x)\n",
    "\n",
    "# numba\n",
    "\n",
    "%timeit sum_sq(x)\n",
    "\n"
   ]
  },
  {
   "cell_type": "code",
   "execution_count": 136,
   "metadata": {},
   "outputs": [
    {
     "data": {
      "text/plain": [
       "[(array(float64, 1d, C),)]"
      ]
     },
     "metadata": {},
     "output_type": "display_data"
    },
    {
     "name": "stderr",
     "output_type": "stream",
     "text": [
      "C:\\Users\\JBarr\\AppData\\Roaming\\Python\\Python37\\site-packages\\numba\\core\\ir.py:194: RuntimeWarning: coroutine 'fetch_urls' was never awaited\n",
      "  return type(self)(self.filename, line, col)\n",
      "RuntimeWarning: Enable tracemalloc to get the object allocation traceback\n"
     ]
    },
    {
     "data": {
      "text/plain": [
       "[(array(float64, 1d, C),), (array(float32, 1d, C),)]"
      ]
     },
     "metadata": {},
     "output_type": "display_data"
    }
   ],
   "source": [
    "\n",
    "sum_sq.signatures\n",
    "\n",
    "x = np.random.rand(1000).astype('float64')\n",
    "\n",
    "sum_sq(x)\n",
    "\n",
    "display(sum_sq.signatures)\n",
    "\n",
    "xx = np.random.rand(1000).astype('float32')\n",
    "sum_sq(xx)\n",
    "\n",
    "display(sum_sq.signatures)"
   ]
  },
  {
   "cell_type": "code",
   "execution_count": 137,
   "metadata": {},
   "outputs": [],
   "source": [
    "#@nb.jit(\"float64(float64[:])\")\n",
    "@nb.jit([\"float64(float64[:])\",\n",
    "        \"float64(float32[:])\"])\n",
    "def sum_sq(a):\n",
    "    resultofSum = 0\n",
    "    N  = len(a)\n",
    "    for i in range(N):\n",
    "        resultofSum += a[i]\n",
    "    return resultofSum\n",
    "\n"
   ]
  },
  {
   "cell_type": "code",
   "execution_count": 138,
   "metadata": {},
   "outputs": [
    {
     "data": {
      "text/plain": [
       "498.23671908999677"
      ]
     },
     "execution_count": 138,
     "metadata": {},
     "output_type": "execute_result"
    }
   ],
   "source": [
    "sum_sq(x.astype(\"float32\"))"
   ]
  },
  {
   "cell_type": "code",
   "execution_count": 139,
   "metadata": {},
   "outputs": [
    {
     "name": "stdout",
     "output_type": "stream",
     "text": [
      "sum_sq (array(float64, 1d, A),)\n",
      "--------------------------------------------------------------------------------\n",
      "# File: C:\\Users\\JBarr\\AppData\\Local\\Temp/ipykernel_15272/4038124245.py\n",
      "# --- LINE 2 --- \n",
      "\n",
      "@nb.jit([\"float64(float64[:])\",\n",
      "\n",
      "        # --- LINE 3 --- \n",
      "\n",
      "        \"float64(float32[:])\"])\n",
      "\n",
      "# --- LINE 4 --- \n",
      "\n",
      "def sum_sq(a):\n",
      "\n",
      "    # --- LINE 5 --- \n",
      "    # label 0\n",
      "    #   a = arg(0, name=a)  :: array(float64, 1d, A)\n",
      "    #   resultofSum = const(int, 0)  :: Literal[int](0)\n",
      "    #   resultofSum.2 = resultofSum  :: float64\n",
      "    #   del resultofSum\n",
      "\n",
      "    resultofSum = 0\n",
      "\n",
      "    # --- LINE 6 --- \n",
      "    #   $6load_global.1 = global(len: <built-in function len>)  :: Function(<built-in function len>)\n",
      "    #   N = call $6load_global.1(a, func=$6load_global.1, args=[Var(a, 4038124245.py:5)], kws=(), vararg=None, target=None)  :: (array(float64, 1d, A),) -> int64\n",
      "    #   del $6load_global.1\n",
      "\n",
      "    N  = len(a)\n",
      "\n",
      "    # --- LINE 7 --- \n",
      "    #   jump 14\n",
      "    # label 14\n",
      "    #   $16load_global.0 = global(range: <class 'range'>)  :: Function(<class 'range'>)\n",
      "    #   $20call_function.2 = call $16load_global.0(N, func=$16load_global.0, args=[Var(N, 4038124245.py:6)], kws=(), vararg=None, target=None)  :: (int64,) -> range_state_int64\n",
      "    #   del N\n",
      "    #   del $16load_global.0\n",
      "    #   $22get_iter.3 = getiter(value=$20call_function.2)  :: range_iter_int64\n",
      "    #   del $20call_function.2\n",
      "    #   $phi24.0 = $22get_iter.3  :: range_iter_int64\n",
      "    #   del $22get_iter.3\n",
      "    #   jump 24\n",
      "    # label 24\n",
      "    #   $24for_iter.1 = iternext(value=$phi24.0)  :: pair<int64, bool>\n",
      "    #   $24for_iter.2 = pair_first(value=$24for_iter.1)  :: int64\n",
      "    #   $24for_iter.3 = pair_second(value=$24for_iter.1)  :: bool\n",
      "    #   del $24for_iter.1\n",
      "    #   $phi26.1 = $24for_iter.2  :: int64\n",
      "    #   del $24for_iter.2\n",
      "    #   branch $24for_iter.3, 26, 42\n",
      "    # label 26\n",
      "    #   del $24for_iter.3\n",
      "    #   i = $phi26.1  :: int64\n",
      "    #   del $phi26.1\n",
      "\n",
      "    for i in range(N):\n",
      "\n",
      "        # --- LINE 8 --- \n",
      "        #   $34binary_subscr.5 = getitem(value=a, index=i, fn=<built-in function getitem>)  :: float64\n",
      "        #   del i\n",
      "        #   $36inplace_add.6 = inplace_binop(fn=<built-in function iadd>, immutable_fn=<built-in function add>, lhs=resultofSum.2, rhs=$34binary_subscr.5, static_lhs=Undefined, static_rhs=Undefined)  :: float64\n",
      "        #   del $34binary_subscr.5\n",
      "        #   resultofSum.1 = $36inplace_add.6  :: float64\n",
      "        #   del $36inplace_add.6\n",
      "        #   resultofSum.2 = resultofSum.1  :: float64\n",
      "        #   del resultofSum.1\n",
      "        #   jump 24\n",
      "        # label 42\n",
      "\n",
      "        resultofSum += a[i]\n",
      "\n",
      "    # --- LINE 9 --- \n",
      "    #   del a\n",
      "    #   del $phi26.1\n",
      "    #   del $phi24.0\n",
      "    #   del $24for_iter.3\n",
      "    #   jump 44\n",
      "    # label 44\n",
      "    #   $46return_value.1 = cast(value=resultofSum.2)  :: float64\n",
      "    #   del resultofSum.2\n",
      "    #   return $46return_value.1\n",
      "\n",
      "    return resultofSum\n",
      "\n",
      "\n",
      "================================================================================\n",
      "sum_sq (array(float32, 1d, A),)\n",
      "--------------------------------------------------------------------------------\n",
      "# File: C:\\Users\\JBarr\\AppData\\Local\\Temp/ipykernel_15272/4038124245.py\n",
      "# --- LINE 2 --- \n",
      "\n",
      "@nb.jit([\"float64(float64[:])\",\n",
      "\n",
      "        # --- LINE 3 --- \n",
      "\n",
      "        \"float64(float32[:])\"])\n",
      "\n",
      "# --- LINE 4 --- \n",
      "\n",
      "def sum_sq(a):\n",
      "\n",
      "    # --- LINE 5 --- \n",
      "    # label 0\n",
      "    #   a = arg(0, name=a)  :: array(float32, 1d, A)\n",
      "    #   resultofSum = const(int, 0)  :: Literal[int](0)\n",
      "    #   resultofSum.2 = resultofSum  :: float64\n",
      "    #   del resultofSum\n",
      "\n",
      "    resultofSum = 0\n",
      "\n",
      "    # --- LINE 6 --- \n",
      "    #   $6load_global.1 = global(len: <built-in function len>)  :: Function(<built-in function len>)\n",
      "    #   N = call $6load_global.1(a, func=$6load_global.1, args=[Var(a, 4038124245.py:5)], kws=(), vararg=None, target=None)  :: (array(float32, 1d, A),) -> int64\n",
      "    #   del $6load_global.1\n",
      "\n",
      "    N  = len(a)\n",
      "\n",
      "    # --- LINE 7 --- \n",
      "    #   jump 14\n",
      "    # label 14\n",
      "    #   $16load_global.0 = global(range: <class 'range'>)  :: Function(<class 'range'>)\n",
      "    #   $20call_function.2 = call $16load_global.0(N, func=$16load_global.0, args=[Var(N, 4038124245.py:6)], kws=(), vararg=None, target=None)  :: (int64,) -> range_state_int64\n",
      "    #   del N\n",
      "    #   del $16load_global.0\n",
      "    #   $22get_iter.3 = getiter(value=$20call_function.2)  :: range_iter_int64\n",
      "    #   del $20call_function.2\n",
      "    #   $phi24.0 = $22get_iter.3  :: range_iter_int64\n",
      "    #   del $22get_iter.3\n",
      "    #   jump 24\n",
      "    # label 24\n",
      "    #   $24for_iter.1 = iternext(value=$phi24.0)  :: pair<int64, bool>\n",
      "    #   $24for_iter.2 = pair_first(value=$24for_iter.1)  :: int64\n",
      "    #   $24for_iter.3 = pair_second(value=$24for_iter.1)  :: bool\n",
      "    #   del $24for_iter.1\n",
      "    #   $phi26.1 = $24for_iter.2  :: int64\n",
      "    #   del $24for_iter.2\n",
      "    #   branch $24for_iter.3, 26, 42\n",
      "    # label 26\n",
      "    #   del $24for_iter.3\n",
      "    #   i = $phi26.1  :: int64\n",
      "    #   del $phi26.1\n",
      "\n",
      "    for i in range(N):\n",
      "\n",
      "        # --- LINE 8 --- \n",
      "        #   $34binary_subscr.5 = getitem(value=a, index=i, fn=<built-in function getitem>)  :: float32\n",
      "        #   del i\n",
      "        #   $36inplace_add.6 = inplace_binop(fn=<built-in function iadd>, immutable_fn=<built-in function add>, lhs=resultofSum.2, rhs=$34binary_subscr.5, static_lhs=Undefined, static_rhs=Undefined)  :: float64\n",
      "        #   del $34binary_subscr.5\n",
      "        #   resultofSum.1 = $36inplace_add.6  :: float64\n",
      "        #   del $36inplace_add.6\n",
      "        #   resultofSum.2 = resultofSum.1  :: float64\n",
      "        #   del resultofSum.1\n",
      "        #   jump 24\n",
      "        # label 42\n",
      "\n",
      "        resultofSum += a[i]\n",
      "\n",
      "    # --- LINE 9 --- \n",
      "    #   del a\n",
      "    #   del $phi26.1\n",
      "    #   del $phi24.0\n",
      "    #   del $24for_iter.3\n",
      "    #   jump 44\n",
      "    # label 44\n",
      "    #   $46return_value.1 = cast(value=resultofSum.2)  :: float64\n",
      "    #   del resultofSum.2\n",
      "    #   return $46return_value.1\n",
      "\n",
      "    return resultofSum\n",
      "\n",
      "\n",
      "================================================================================\n"
     ]
    }
   ],
   "source": [
    "sum_sq.inspect_types()"
   ]
  },
  {
   "cell_type": "code",
   "execution_count": 140,
   "metadata": {},
   "outputs": [],
   "source": [
    "def contor_py(a, b):\n",
    "    return int(0.5 * (a + b) * ( a + b + 1 ) + b)"
   ]
  },
  {
   "cell_type": "code",
   "execution_count": 141,
   "metadata": {},
   "outputs": [],
   "source": [
    "np.vectorize\n",
    "def contor(a, b):\n",
    "    return int(0.5 * (a + b) * ( a + b + 1 ) + b)\n",
    "    "
   ]
  },
  {
   "cell_type": "code",
   "execution_count": null,
   "metadata": {},
   "outputs": [],
   "source": []
  },
  {
   "cell_type": "code",
   "execution_count": 142,
   "metadata": {},
   "outputs": [
    {
     "name": "stdout",
     "output_type": "stream",
     "text": [
      "329 ns ± 13.2 ns per loop (mean ± std. dev. of 7 runs, 1000000 loops each)\n"
     ]
    }
   ],
   "source": [
    "# Py\n",
    "%timeit contor_py(10, 33)"
   ]
  },
  {
   "cell_type": "code",
   "execution_count": 143,
   "metadata": {},
   "outputs": [
    {
     "name": "stdout",
     "output_type": "stream",
     "text": [
      "314 ns ± 9.24 ns per loop (mean ± std. dev. of 7 runs, 1000000 loops each)\n"
     ]
    }
   ],
   "source": [
    "# Numba\n",
    "\n",
    "%timeit contor(10, 33)"
   ]
  },
  {
   "cell_type": "code",
   "execution_count": 144,
   "metadata": {},
   "outputs": [
    {
     "name": "stdout",
     "output_type": "stream",
     "text": [
      "6.72 ns ± 0.129 ns per loop (mean ± std. dev. of 7 runs, 100000000 loops each)\n"
     ]
    }
   ],
   "source": [
    "# Numpy\n",
    "\n",
    "%timeit (0.5 * (10.0 + 33.3) * ( 10.0 + 33.3 + 1.0 ) + 33)"
   ]
  },
  {
   "cell_type": "code",
   "execution_count": 145,
   "metadata": {},
   "outputs": [],
   "source": [
    "# In Python we define a Node class as follows:\n",
    "# Wecanmanage the collection of Nodeinstances creating another class,\n",
    "# called LinkedList. The class keeps track of head of list\n",
    "\n",
    "\n",
    "class Node:\n",
    "    def __init__(self, value):\n",
    "        self.next = None\n",
    "        self.value=  value\n",
    "\n",
    "class  LinkedList:\n",
    "    def __init__(self):\n",
    "        self.head = None\n",
    "    def push_front(self, value):\n",
    "        if self.head == None:\n",
    "            self.head = Node(value)\n",
    "        else:\n",
    "            # We replace the head\n",
    "            new_head = Node(value)           \n",
    "            new_head.next = self.head\n",
    "            self.head = new_head\n",
    "        # For debugging implement LinkedList.show that print each element\n",
    "    def show(self):\n",
    "        node = self.head\n",
    "        while node is not None:\n",
    "            print(node.value)\n",
    "            node = node.next"
   ]
  },
  {
   "cell_type": "code",
   "execution_count": 146,
   "metadata": {},
   "outputs": [
    {
     "name": "stdout",
     "output_type": "stream",
     "text": [
      "3\n",
      "2\n",
      "1\n"
     ]
    }
   ],
   "source": [
    "first = LinkedList()\n",
    "first.push_front(1)\n",
    "first.push_front(2)\n",
    "first.push_front(3)\n",
    "first.show()\n"
   ]
  },
  {
   "cell_type": "code",
   "execution_count": 147,
   "metadata": {},
   "outputs": [],
   "source": [
    "@nb.jit\n",
    "def sum_list(first):\n",
    "    res = 0\n",
    "    node = first.head\n",
    "    while node is not None:\n",
    "        \n",
    "        result += node.value\n",
    "        node = node.next\n",
    "    return result\n",
    "    "
   ]
  },
  {
   "cell_type": "code",
   "execution_count": 148,
   "metadata": {},
   "outputs": [
    {
     "data": {
      "text/plain": [
       "[None, None, None, None, None, None, None, None, None, None]"
      ]
     },
     "execution_count": 148,
     "metadata": {},
     "output_type": "execute_result"
    }
   ],
   "source": [
    "javone = LinkedList()\n",
    "[javone.push_front(i) for i in range(10)]\n"
   ]
  },
  {
   "cell_type": "code",
   "execution_count": 149,
   "metadata": {},
   "outputs": [],
   "source": [
    "node_type = nb.deferred_type()\n",
    "\n",
    "node_spec = [\n",
    "    ('next', nb.optional(node_type)),\n",
    "    ('value', nb.int64)\n",
    "]\n"
   ]
  },
  {
   "cell_type": "code",
   "execution_count": 150,
   "metadata": {},
   "outputs": [
    {
     "data": {
      "text/plain": [
       "[('next', OptionalType(DeferredType#1732800261896)), ('value', int64)]"
      ]
     },
     "execution_count": 150,
     "metadata": {},
     "output_type": "execute_result"
    }
   ],
   "source": [
    "node_spec"
   ]
  },
  {
   "cell_type": "code",
   "execution_count": 151,
   "metadata": {},
   "outputs": [
    {
     "ename": "AttributeError",
     "evalue": "module 'numba' has no attribute 'jitclass'",
     "output_type": "error",
     "traceback": [
      "\u001b[1;31m---------------------------------------------------------------------------\u001b[0m",
      "\u001b[1;31mAttributeError\u001b[0m                            Traceback (most recent call last)",
      "\u001b[1;32m~\\AppData\\Local\\Temp/ipykernel_15272/1635405752.py\u001b[0m in \u001b[0;36m<module>\u001b[1;34m\u001b[0m\n\u001b[1;32m----> 1\u001b[1;33m \u001b[1;33m@\u001b[0m\u001b[0mnb\u001b[0m\u001b[1;33m.\u001b[0m\u001b[0mjitclass\u001b[0m\u001b[1;33m(\u001b[0m\u001b[0mnode_spec\u001b[0m\u001b[1;33m)\u001b[0m\u001b[1;33m\u001b[0m\u001b[1;33m\u001b[0m\u001b[0m\n\u001b[0m\u001b[0;32m      2\u001b[0m \u001b[1;33m\u001b[0m\u001b[0m\n\u001b[0;32m      3\u001b[0m \u001b[1;32mclass\u001b[0m \u001b[0mNode\u001b[0m\u001b[1;33m:\u001b[0m\u001b[1;33m\u001b[0m\u001b[1;33m\u001b[0m\u001b[0m\n\u001b[0;32m      4\u001b[0m     \u001b[1;32mdef\u001b[0m \u001b[0m__init__\u001b[0m\u001b[1;33m(\u001b[0m\u001b[0mself\u001b[0m\u001b[1;33m,\u001b[0m \u001b[0mvalue\u001b[0m\u001b[1;33m)\u001b[0m\u001b[1;33m:\u001b[0m\u001b[1;33m\u001b[0m\u001b[1;33m\u001b[0m\u001b[0m\n\u001b[0;32m      5\u001b[0m         \u001b[0mself\u001b[0m\u001b[1;33m.\u001b[0m\u001b[0mnext\u001b[0m \u001b[1;33m=\u001b[0m \u001b[1;32mNone\u001b[0m\u001b[1;33m\u001b[0m\u001b[1;33m\u001b[0m\u001b[0m\n",
      "\u001b[1;31mAttributeError\u001b[0m: module 'numba' has no attribute 'jitclass'"
     ]
    }
   ],
   "source": [
    "\n",
    "@nb.jitclass(node_spec)\n",
    "\n",
    "class Node:\n",
    "    def __init__(self, value):\n",
    "        self.next = None\n",
    "        self.value=  value\n",
    "\n",
    "\n",
    "node_type.define(Node.class_type.instance_type)"
   ]
  },
  {
   "cell_type": "code",
   "execution_count": null,
   "metadata": {},
   "outputs": [
    {
     "data": {
      "text/plain": [
       "'\\nChapter 6 Implementing Concurrency: Asychoronous programming is a programming paradigm that deal\\nwith slow and unpredictable resources. \\n\\n\\n\\nCallbacks: To makethe code start  working on other tasks  we need to find away to avoid blocking\\nthe program flow so that the restof the program can work on other task.\\n'"
      ]
     },
     "execution_count": 118,
     "metadata": {},
     "output_type": "execute_result"
    }
   ],
   "source": [
    "\n",
    "\"\"\"\n",
    "Chapter 6 Implementing Concurrency: Asychoronous programming is a programming paradigm that deal\n",
    "with slow and unpredictable resources. \n",
    "\n",
    "\n",
    "\n",
    "Callbacks: To makethe code start  working on other tasks  we need to find away to avoid blocking\n",
    "the program flow so that the restof the program can work on other task.\n",
    "\"\"\"\n",
    "\n",
    "\n"
   ]
  },
  {
   "cell_type": "code",
   "execution_count": null,
   "metadata": {},
   "outputs": [
    {
     "name": "stdout",
     "output_type": "stream",
     "text": [
      "Result is: 4\n",
      "Result is: 9\n",
      "Result is: 16\n"
     ]
    }
   ],
   "source": [
    "import time\n",
    "\n",
    "def network_request(number):\n",
    "    time.sleep(1.0)\n",
    "    return {\"success\": True, \"result\": number **  2}\n",
    "\n",
    "def fetch_square(number):\n",
    "    REPOS = network_request(number)\n",
    "    if REPOS['success']:\n",
    "        print(\"Result is: {}\".format(REPOS['result']))\n",
    "\n",
    "\n",
    "fetch_square(2)\n",
    "\n",
    "fetch_square(3)\n",
    "\n",
    "fetch_square(4)"
   ]
  },
  {
   "cell_type": "code",
   "execution_count": null,
   "metadata": {},
   "outputs": [],
   "source": [
    "# will block program execution then print()\n",
    "\n",
    "def wait_and_print(msg):\n",
    "    time.sleep(1.0)\n",
    "    print(msg)"
   ]
  },
  {
   "cell_type": "code",
   "execution_count": null,
   "metadata": {},
   "outputs": [],
   "source": [
    "# A callback is a functin the will be called when the timer expires.\n",
    "# we also call the Timer.start method  to activate timer.\n",
    "\n",
    "import threading\n",
    "\n",
    "def wait_and_print_async(msg):\n",
    "    def callback():\n",
    "        print(msg)\n",
    "\n",
    "    timer = threading.Timer(1.0, callback)\n",
    "    timer.start()"
   ]
  },
  {
   "cell_type": "code",
   "execution_count": null,
   "metadata": {},
   "outputs": [
    {
     "name": "stdout",
     "output_type": "stream",
     "text": [
      "Hello world\n",
      "Wall time: 1.01 s\n"
     ]
    }
   ],
   "source": [
    "%%time\n",
    "wait_and_print('Hello world');\n"
   ]
  },
  {
   "cell_type": "code",
   "execution_count": null,
   "metadata": {},
   "outputs": [
    {
     "name": "stdout",
     "output_type": "stream",
     "text": [
      "Wall time: 997 µs\n",
      "Hello world\n"
     ]
    }
   ],
   "source": [
    "\n",
    "%%time\n",
    "wait_and_print_async('Hello world')"
   ]
  },
  {
   "cell_type": "code",
   "execution_count": null,
   "metadata": {},
   "outputs": [],
   "source": [
    "def network_request_async(number, on_done):\n",
    "\n",
    "    def  timer_done():\n",
    "        on_done({\"success\": True, \"result\": number ** 2})\n",
    "        timer = threading.Timer(1.0, timer_done)\n",
    "        timer.start()\n",
    "\n",
    "def on_done(result):\n",
    "    print(result)\n",
    "\n",
    "network_request_async(2, on_done)"
   ]
  },
  {
   "cell_type": "code",
   "execution_count": null,
   "metadata": {},
   "outputs": [
    {
     "name": "stdout",
     "output_type": "stream",
     "text": [
      "After submmision\n"
     ]
    }
   ],
   "source": [
    "network_request_async(2, on_done)\n",
    "network_request_async(3, on_done)\n",
    "network_request_async(4, on_done)\n",
    "print(\"After submmision\")"
   ]
  },
  {
   "cell_type": "code",
   "execution_count": null,
   "metadata": {},
   "outputs": [],
   "source": [
    "def fetch_square(number):\n",
    "    def on_done(response):\n",
    "        if response['success']:\n",
    "            print(\"Result is: {}\".format(response['result']))\n",
    "\n",
    "    network_request_async(number, on_done)"
   ]
  },
  {
   "cell_type": "code",
   "execution_count": null,
   "metadata": {},
   "outputs": [
    {
     "name": "stdout",
     "output_type": "stream",
     "text": [
      "Hello world\n"
     ]
    }
   ],
   "source": [
    "fetch_square(4)\n"
   ]
  },
  {
   "cell_type": "code",
   "execution_count": null,
   "metadata": {},
   "outputs": [
    {
     "data": {
      "text/plain": [
       "'\\nFutures are a more conbenient pattern used to track results of asynchronous calls.\\nof the requested resources and that we are waiting to become available. \\n\\nTo attact a callback it is sufficient to pass a function to the Future.add_done_callback method.\\nWhen the task completes, the func will be called with Fut instance as first arg\\nresult can is retrived suing Future.result() method\\n\\n'"
      ]
     },
     "execution_count": 119,
     "metadata": {},
     "output_type": "execute_result"
    }
   ],
   "source": [
    "\"\"\"\n",
    "Futures are a more conbenient pattern used to track results of asynchronous calls.\n",
    "of the requested resources and that we are waiting to become available. \n",
    "\n",
    "To attact a callback it is sufficient to pass a function to the Future.add_done_callback method.\n",
    "When the task completes, the func will be called with Fut instance as first arg\n",
    "result can is retrived suing Future.result() method\n",
    "\n",
    "In practical apps futures would be handled by frameworks\n",
    "_________________________________\n",
    "\n",
    "In many asynchronous frameworks, the coordination of concurrent tasks is managed by an event loop.\n",
    "With E.L we continuosly monitor status of various resources (network connections and databse queries) \n",
    "triggeating execution of callbacks when events take place (when resouce is ready of timer expires)\n",
    "\n",
    "Events over Threading\n",
    "every unit of execution never runs at the same time helping with shared resources.\n",
    "\n",
    "\"\"\""
   ]
  },
  {
   "cell_type": "code",
   "execution_count": null,
   "metadata": {},
   "outputs": [
    {
     "data": {
      "text/plain": [
       "<Future at 0x1f184094cc8 state=pending>"
      ]
     },
     "metadata": {},
     "output_type": "display_data"
    },
    {
     "data": {
      "text/plain": [
       "'Hello'"
      ]
     },
     "execution_count": 149,
     "metadata": {},
     "output_type": "execute_result"
    }
   ],
   "source": [
    "# Futures\n",
    "\n",
    "import threading\n",
    "import concurrent\n",
    "\n",
    "fut = concurrent.futures.Future()\n",
    "\n",
    "display(fut)\n",
    "\n",
    "fut.set_result('Hello')\n",
    "\n",
    "fut.result()\n",
    "\n"
   ]
  },
  {
   "cell_type": "code",
   "execution_count": null,
   "metadata": {},
   "outputs": [
    {
     "data": {
      "text/plain": [
       "<Future at 0x1f183feec88 state=pending>"
      ]
     },
     "metadata": {},
     "output_type": "display_data"
    },
    {
     "name": "stdout",
     "output_type": "stream",
     "text": [
      "World\n"
     ]
    }
   ],
   "source": [
    "\n",
    "FuncFut = concurrent.futures.Future()\n",
    "\n",
    "\n",
    "FuncFut.add_done_callback(lambda future: print(future.result(), flush=True))\n",
    "display(FuncFut)\n",
    "\n",
    "FuncFut.set_result('World')\n"
   ]
  },
  {
   "cell_type": "code",
   "execution_count": null,
   "metadata": {},
   "outputs": [],
   "source": [
    "from concurrent.futures import Future\n",
    "\n",
    "def network_request_async(number):\n",
    "    future = Future()\n",
    "    result = {\"success\": True, \"result\": number ** 2}\n",
    "    timer = threading.Timer(1.0, lambda: future.set_result(result))\n",
    "    timer.start()\n",
    "    return future\n",
    "\n",
    "\n",
    "\n",
    "fut =  network_request_async(2)\n"
   ]
  },
  {
   "cell_type": "code",
   "execution_count": null,
   "metadata": {},
   "outputs": [],
   "source": [
    "from concurrent.futures import Future\n",
    "\n",
    "def fet_square(number):\n",
    "    futnum = network_request_async(number)\n",
    "\n",
    "    def on_done_future(future):\n",
    "        responce = future.result()\n",
    "        if responce['success']:\n",
    "            print(\"Result is: {}\".format(responce[\"result\"]))\n",
    "    futnum.add_done_callback(on_done_future)"
   ]
  },
  {
   "cell_type": "code",
   "execution_count": null,
   "metadata": {},
   "outputs": [],
   "source": [
    "# Event loops\n",
    "import time"
   ]
  },
  {
   "cell_type": "code",
   "execution_count": null,
   "metadata": {},
   "outputs": [
    {
     "name": "stdout",
     "output_type": "stream",
     "text": [
      "Timer is done!\n"
     ]
    }
   ],
   "source": [
    "class Timer:\n",
    "    def __init__(self, timeout):\n",
    "        self.timeout = timeout\n",
    "        self.start = time.time()\n",
    "    def done(self):\n",
    "        return time.time() - self.start > self.timeout\n",
    "\n",
    "    def on_timer_done(self, callback):\n",
    "        self.callback = callback\n",
    "\n",
    "# Determine is timer expired with loop that continuously checks status\n",
    "# by bcalling Timer.done method\n",
    "\n",
    "# implamenting timer this way, the flow of execution is never blocked and we can, work inside loop\n",
    "# This method is often called lazy waiting\n",
    "\n",
    "timer = Timer(1.0)\n",
    "\n",
    "while True:\n",
    "    if timer.done():\n",
    "        print(\"Timer is done!\")\n",
    "        break\n"
   ]
  },
  {
   "cell_type": "code",
   "execution_count": null,
   "metadata": {},
   "outputs": [
    {
     "name": "stdout",
     "output_type": "stream",
     "text": [
      "Timer is done!\n"
     ]
    }
   ],
   "source": [
    "class Timer:\n",
    "    def __init__(self, timeout):\n",
    "        self.timeout = timeout\n",
    "        self.start = time.time()\n",
    "    def done(self):\n",
    "        return time.time() - self.start > self.timeout\n",
    "\n",
    "    def on_timer_done(self, callback):\n",
    "        self.callback = callback\n",
    "\n",
    "# Determine is timer expired with loop that continuously checks status\n",
    "# by bcalling Timer.done method\n",
    "\n",
    "# implamenting timer this way, the flow of execution is never blocked and we can, work inside loop\n",
    "# This method is often called lazy waiting\n",
    "\n",
    "timer = Timer(5.0)\n",
    "timer.on_timer_done(lambda: print(\"Timer is done!\"))\n",
    "\n",
    "while True:\n",
    "    if timer.done():\n",
    "        timer.callback()\n",
    "        break\n"
   ]
  },
  {
   "cell_type": "code",
   "execution_count": null,
   "metadata": {},
   "outputs": [
    {
     "name": "stdout",
     "output_type": "stream",
     "text": [
      "Second Timer is done!\n",
      "First Timer is done!\n"
     ]
    }
   ],
   "source": [
    "\"\"\"\n",
    "A nat way to implement mul timers is to add a few Timer instances to a list\n",
    "and modidy E.L periodically check all the timers and dispatch the callbacks when requied.\n",
    "\"\"\"\n",
    "\n",
    "timers = []\n",
    "\n",
    "timer1 = Timer(3.0)\n",
    "timer1.on_timer_done(lambda: print(\"First Timer is done!\"))\n",
    "\n",
    "timer2 = Timer(2.0)\n",
    "timer2.on_timer_done(lambda: print(\"Second Timer is done!\"))\n",
    "\n",
    "timers.append(timer1)\n",
    "\n",
    "timers.append(timer2)\n",
    "\n",
    "while True:\n",
    "    for timer in timers:\n",
    "        if timer.done():\n",
    "            timer.callback()\n",
    "            timers.remove(timer)\n",
    "    if len(timers) == 0:\n",
    "        break"
   ]
  },
  {
   "cell_type": "code",
   "execution_count": null,
   "metadata": {},
   "outputs": [
    {
     "data": {
      "text/plain": [
       "<generator object range_generator at 0x0000019370C1CD48>"
      ]
     },
     "metadata": {},
     "output_type": "display_data"
    },
    {
     "name": "stdout",
     "output_type": "stream",
     "text": [
      "Generating value 0\n"
     ]
    },
    {
     "data": {
      "text/plain": [
       "0"
      ]
     },
     "metadata": {},
     "output_type": "display_data"
    },
    {
     "name": "stdout",
     "output_type": "stream",
     "text": [
      "Generating value 1\n"
     ]
    },
    {
     "data": {
      "text/plain": [
       "1"
      ]
     },
     "metadata": {},
     "output_type": "display_data"
    },
    {
     "name": "stdout",
     "output_type": "stream",
     "text": [
      "Generating value 2\n"
     ]
    },
    {
     "data": {
      "text/plain": [
       "2"
      ]
     },
     "metadata": {},
     "output_type": "display_data"
    }
   ],
   "source": [
    "\"\"\"\n",
    "The Py standard lib include an event loop-based concurrency framework:The asyncio framework\n",
    "\n",
    "Coroutines:\n",
    "    A more nat wat to break up code execution into chunks. Allowing dev to code in synchronous syntax\n",
    "    but will ececute assynchronouslly. Think of Corouties as function that can be stopped and resumed.\n",
    "\n",
    "    You can think of a yield statement as a breakpoint where we stop and resume execution\n",
    "        (while maintaining internal stateof genearator)\n",
    "    Thid can be leveranged by event loop for concurrency.\n",
    "\n",
    "\n",
    "    import asyncio\n",
    "\n",
    "#loop = asyncio.get_event_loop()\n",
    "\n",
    "#def callback():\n",
    " #   print(\"Hello, asyncio\")\n",
    "  #  loop.stop()\n",
    "\n",
    "\n",
    "\n",
    "#loop.call_later(1.0, callback)\n",
    "#loop.stop()\n",
    "\n",
    "# To define coroutine with asyncio use async def statement\n",
    "\n",
    "async def hello():\n",
    "    print(\"Hello, Neato\")\n",
    "\n",
    "coro = hello()\n",
    "loop = asyncio.get_event_loop()\n",
    "loop.run_until_complete(coro)\n",
    "\n",
    "loop.close()\n",
    "\n",
    "\n",
    "async def wait_and_print(msg):\n",
    "    await asyncio.sleep(2)\n",
    "    print(\"Message: \", msg)\n",
    "loop.run_until_complete(wait_and_print(\"Hello\"))\n",
    "\n",
    "SKIPPED REST OF SYINC EXAMPLES0\n",
    "30\n",
    "\n",
    "\"\"\"\n",
    "\n",
    "\n",
    "def range_generator(n):\n",
    "    i = 0\n",
    "    while i < n:\n",
    "        print('Generating value {}'.format(i))\n",
    "        yield i\n",
    "        i += 1\n",
    "        \n",
    "gen = range_generator(3)\n",
    "\n",
    "display(gen)\n",
    "\n",
    "display(next(gen))\n",
    "\n",
    "display(next(gen))\n",
    "\n",
    "display(next(gen))        "
   ]
  },
  {
   "cell_type": "code",
   "execution_count": null,
   "metadata": {},
   "outputs": [
    {
     "data": {
      "text/plain": [
       "None"
      ]
     },
     "metadata": {},
     "output_type": "display_data"
    },
    {
     "name": "stdout",
     "output_type": "stream",
     "text": [
      "Parrot says: Hello\n"
     ]
    },
    {
     "data": {
      "text/plain": [
       "None"
      ]
     },
     "metadata": {},
     "output_type": "display_data"
    },
    {
     "name": "stdout",
     "output_type": "stream",
     "text": [
      "Parrot says: World\n"
     ]
    },
    {
     "data": {
      "text/plain": [
       "None"
      ]
     },
     "metadata": {},
     "output_type": "display_data"
    }
   ],
   "source": [
    "# Inject values in the generator through the yield statement. \n",
    "# we need to issue a generator.send(None) before we start sending messages;\n",
    "    # This is done to bootstarp function execution and bring us to first yield statement\n",
    "import asyncio\n",
    "def parrot():\n",
    "    while True:\n",
    "        message = yield\n",
    "        print(\"Parrot says: {}\".format(message))\n",
    "\n",
    "\n",
    "gen = parrot()\n",
    "display(gen.send(None))\n",
    "display(gen.send(\"Hello\"))\n",
    "display(gen.send(\"World\"))"
   ]
  },
  {
   "cell_type": "code",
   "execution_count": null,
   "metadata": {},
   "outputs": [
    {
     "data": {
      "text/plain": [
       "'\\nConverting blocking code into non-blocking code:\\nAn effective strategy for dealing with blocking code run it in seperate thread.\\nThreads are implemnted at OS level and allow parallel exectuin of blocking code\\n_____________________\\n\\n\\n'"
      ]
     },
     "execution_count": 73,
     "metadata": {},
     "output_type": "execute_result"
    }
   ],
   "source": [
    "\"\"\"\n",
    "Converting blocking code into non-blocking code:\n",
    "An effective strategy for dealing with blocking code run it in seperate thread.\n",
    "Threads are implemnted at OS level and allow parallel exectuin of blocking code.\n",
    "\n",
    "The .submit method immediately schedules the function and returns a fut.\n",
    "Manage execution of task in asyncio \n",
    "_____________________\n",
    "\n",
    "\n",
    "\"\"\"\n"
   ]
  },
  {
   "cell_type": "code",
   "execution_count": null,
   "metadata": {},
   "outputs": [],
   "source": []
  },
  {
   "cell_type": "code",
   "execution_count": 152,
   "metadata": {},
   "outputs": [],
   "source": [
    "from concurrent.futures import ThreadPoolExecutor\n",
    "import time \n",
    "\n",
    "\n",
    "executor = ThreadPoolExecutor(max_workers=6)\n",
    "\n",
    "def wait_and_ret(msg):\n",
    "    time.sleep(1)\n",
    "    return msg\n",
    "\n",
    "\n",
    "urls = [\"https://api.alternative.me/v2/ticker/Bitcoin/?convert=USD\",\n",
    "    \"https://api.alternative.me/v2/ticker/Ethereum/?convert=USD\",\n",
    "    \"https://api.alternative.me/v2/ticker/Chainlink/?convert=USD\",\n",
    "    \"https://api.alternative.me/v2/ticker/Cosmos/?convert=USD\",\n",
    "    \"https://api.alternative.me/v2/ticker/Algorand/?convert=USD\"]"
   ]
  },
  {
   "cell_type": "code",
   "execution_count": 153,
   "metadata": {},
   "outputs": [
    {
     "name": "stderr",
     "output_type": "stream",
     "text": [
      "Python-dotenv could not parse statement starting at line 29\n",
      "Python-dotenv could not parse statement starting at line 30\n"
     ]
    },
    {
     "ename": "RuntimeError",
     "evalue": "This event loop is already running",
     "output_type": "error",
     "traceback": [
      "\u001b[1;31m---------------------------------------------------------------------------\u001b[0m",
      "\u001b[1;31mRuntimeError\u001b[0m                              Traceback (most recent call last)",
      "\u001b[1;32m~\\AppData\\Local\\Temp/ipykernel_15272/531562906.py\u001b[0m in \u001b[0;36m<module>\u001b[1;34m\u001b[0m\n\u001b[0;32m     33\u001b[0m     \u001b[1;32mreturn\u001b[0m \u001b[0mrespon\u001b[0m\u001b[1;33m\u001b[0m\u001b[1;33m\u001b[0m\u001b[0m\n\u001b[0;32m     34\u001b[0m \u001b[1;33m\u001b[0m\u001b[0m\n\u001b[1;32m---> 35\u001b[1;33m \u001b[0mloop\u001b[0m\u001b[1;33m.\u001b[0m\u001b[0mrun_until_complete\u001b[0m\u001b[1;33m(\u001b[0m\u001b[0mfetch_urls\u001b[0m\u001b[1;33m(\u001b[0m\u001b[0murls\u001b[0m\u001b[1;33m)\u001b[0m\u001b[1;33m)\u001b[0m\u001b[1;33m\u001b[0m\u001b[1;33m\u001b[0m\u001b[0m\n\u001b[0m",
      "\u001b[1;32m~\\anaconda3\\envs\\dev\\lib\\asyncio\\base_events.py\u001b[0m in \u001b[0;36mrun_until_complete\u001b[1;34m(self, future)\u001b[0m\n\u001b[0;32m    561\u001b[0m         \"\"\"\n\u001b[0;32m    562\u001b[0m         \u001b[0mself\u001b[0m\u001b[1;33m.\u001b[0m\u001b[0m_check_closed\u001b[0m\u001b[1;33m(\u001b[0m\u001b[1;33m)\u001b[0m\u001b[1;33m\u001b[0m\u001b[1;33m\u001b[0m\u001b[0m\n\u001b[1;32m--> 563\u001b[1;33m         \u001b[0mself\u001b[0m\u001b[1;33m.\u001b[0m\u001b[0m_check_runnung\u001b[0m\u001b[1;33m(\u001b[0m\u001b[1;33m)\u001b[0m\u001b[1;33m\u001b[0m\u001b[1;33m\u001b[0m\u001b[0m\n\u001b[0m\u001b[0;32m    564\u001b[0m \u001b[1;33m\u001b[0m\u001b[0m\n\u001b[0;32m    565\u001b[0m         \u001b[0mnew_task\u001b[0m \u001b[1;33m=\u001b[0m \u001b[1;32mnot\u001b[0m \u001b[0mfutures\u001b[0m\u001b[1;33m.\u001b[0m\u001b[0misfuture\u001b[0m\u001b[1;33m(\u001b[0m\u001b[0mfuture\u001b[0m\u001b[1;33m)\u001b[0m\u001b[1;33m\u001b[0m\u001b[1;33m\u001b[0m\u001b[0m\n",
      "\u001b[1;32m~\\anaconda3\\envs\\dev\\lib\\asyncio\\base_events.py\u001b[0m in \u001b[0;36m_check_runnung\u001b[1;34m(self)\u001b[0m\n\u001b[0;32m    521\u001b[0m     \u001b[1;32mdef\u001b[0m \u001b[0m_check_runnung\u001b[0m\u001b[1;33m(\u001b[0m\u001b[0mself\u001b[0m\u001b[1;33m)\u001b[0m\u001b[1;33m:\u001b[0m\u001b[1;33m\u001b[0m\u001b[1;33m\u001b[0m\u001b[0m\n\u001b[0;32m    522\u001b[0m         \u001b[1;32mif\u001b[0m \u001b[0mself\u001b[0m\u001b[1;33m.\u001b[0m\u001b[0mis_running\u001b[0m\u001b[1;33m(\u001b[0m\u001b[1;33m)\u001b[0m\u001b[1;33m:\u001b[0m\u001b[1;33m\u001b[0m\u001b[1;33m\u001b[0m\u001b[0m\n\u001b[1;32m--> 523\u001b[1;33m             \u001b[1;32mraise\u001b[0m \u001b[0mRuntimeError\u001b[0m\u001b[1;33m(\u001b[0m\u001b[1;34m'This event loop is already running'\u001b[0m\u001b[1;33m)\u001b[0m\u001b[1;33m\u001b[0m\u001b[1;33m\u001b[0m\u001b[0m\n\u001b[0m\u001b[0;32m    524\u001b[0m         \u001b[1;32mif\u001b[0m \u001b[0mevents\u001b[0m\u001b[1;33m.\u001b[0m\u001b[0m_get_running_loop\u001b[0m\u001b[1;33m(\u001b[0m\u001b[1;33m)\u001b[0m \u001b[1;32mis\u001b[0m \u001b[1;32mnot\u001b[0m \u001b[1;32mNone\u001b[0m\u001b[1;33m:\u001b[0m\u001b[1;33m\u001b[0m\u001b[1;33m\u001b[0m\u001b[0m\n\u001b[0;32m    525\u001b[0m             raise RuntimeError(\n",
      "\u001b[1;31mRuntimeError\u001b[0m: This event loop is already running"
     ]
    }
   ],
   "source": [
    "import os\n",
    "\n",
    "import requests\n",
    "\n",
    "import json\n",
    "\n",
    "import msgpack\n",
    "\n",
    "import pandas as pd\n",
    "\n",
    "from dotenv import load_dotenv\n",
    "\n",
    "import alpaca_trade_api as tradeapi\n",
    "\n",
    "#from MCForecastTools import MCSimulation\n",
    "\n",
    "import datetime\n",
    "\n",
    "# Load the environment variables from the .env file\n",
    "#by calling the load_dotenv function\n",
    "\n",
    "load_dotenv()\n",
    "\n",
    "pd.set_option('display.max_rows', 2000)\n",
    "pd.set_option('display.max_columns', 2000)\n",
    "pd.set_option('display.width', 1000)\n",
    "\n",
    "async def fetch_urls(urls):\n",
    "    respon = []\n",
    "    for u in urls:\n",
    "        respon.append(await loop.run_in_executor(executor, requests.get, u))\n",
    "    \n",
    "    return respon\n",
    "\n",
    "loop.run_until_complete(fetch_urls(urls))"
   ]
  },
  {
   "cell_type": "code",
   "execution_count": 170,
   "metadata": {},
   "outputs": [],
   "source": [
    "def fetch_urls(urls):\n",
    "    return asyncio.gather(*[loop.run_in_executor\n",
    "    (executor, requests.get, u) for u in urls])\n",
    "\n",
    "inN = fetch_urls(urls)\n"
   ]
  },
  {
   "cell_type": "code",
   "execution_count": 171,
   "metadata": {},
   "outputs": [
    {
     "data": {
      "text/plain": [
       "[<Response [200]>,\n",
       " <Response [200]>,\n",
       " <Response [200]>,\n",
       " <Response [200]>,\n",
       " <Response [200]>]"
      ]
     },
     "execution_count": 171,
     "metadata": {},
     "output_type": "execute_result"
    }
   ],
   "source": [
    "\n",
    "inN.result()\n",
    "    "
   ]
  },
  {
   "cell_type": "code",
   "execution_count": null,
   "metadata": {},
   "outputs": [],
   "source": []
  },
  {
   "cell_type": "code",
   "execution_count": null,
   "metadata": {},
   "outputs": [],
   "source": [
    "\n"
   ]
  },
  {
   "cell_type": "code",
   "execution_count": null,
   "metadata": {},
   "outputs": [],
   "source": []
  }
 ],
 "metadata": {
  "interpreter": {
   "hash": "9ae16ef445867c3ddd8a030e03f508a31c88ab57810e24e3a3afaf36f09532d0"
  },
  "kernelspec": {
   "display_name": "dev",
   "language": "python",
   "name": "dev"
  },
  "language_info": {
   "codemirror_mode": {
    "name": "ipython",
    "version": 3
   },
   "file_extension": ".py",
   "mimetype": "text/x-python",
   "name": "python",
   "nbconvert_exporter": "python",
   "pygments_lexer": "ipython3",
   "version": "3.7.11"
  },
  "orig_nbformat": 4
 },
 "nbformat": 4,
 "nbformat_minor": 2
}
