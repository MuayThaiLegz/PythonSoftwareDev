{
 "cells": [
  {
   "cell_type": "code",
   "execution_count": 37,
   "metadata": {},
   "outputs": [
    {
     "data": {
      "text/plain": [
       "'\\nA structual design pattern proposes a way of composing objects for creating\\nnew functionality.\\n\\n_______________________\\n\\nThe adapter pattern is a structual design pattern helping make two incompatible\\ninterfaces compatible.\\n'"
      ]
     },
     "execution_count": 37,
     "metadata": {},
     "output_type": "execute_result"
    }
   ],
   "source": [
    "\"\"\"\n",
    "A structual design pattern proposes a way of composing objects for creating\n",
    "new functionality.\n",
    "\n",
    "_______________________\n",
    "\n",
    "The adapter pattern is a structual design pattern helping make two incompatible\n",
    "interfaces compatible.\n",
    "\"\"\"\n"
   ]
  },
  {
   "cell_type": "code",
   "execution_count": 38,
   "metadata": {},
   "outputs": [],
   "source": [
    "class Club:\n",
    "    \n",
    "    def __init__(self, name):\n",
    "        self.name = name\n",
    "                \n",
    "    def __str__(self):\n",
    "        return f'the club {self.name}'\n",
    "    \n",
    "    def organize_event(self):\n",
    "        return 'hires an artist to perform for the people'"
   ]
  },
  {
   "cell_type": "code",
   "execution_count": 39,
   "metadata": {},
   "outputs": [],
   "source": [
    "class Musician:\n",
    "    \n",
    "    def __init__(self, name):\n",
    "        self.name = name\n",
    "    \n",
    "    def __str__(self):\n",
    "        return f'the musician {self.name}'   \n",
    "        \n",
    "    def dance(self):\n",
    "        return 'does a musician performance'\n",
    "    \n",
    "    "
   ]
  },
  {
   "cell_type": "code",
   "execution_count": 40,
   "metadata": {},
   "outputs": [],
   "source": [
    "class Dancer:\n",
    "    \n",
    "    def __init__(self, name):\n",
    "        self.name = name\n",
    "    \n",
    "    def __str__(self):\n",
    "        return f'the dancer {self.name}'   \n",
    "        \n",
    "    def dance(self):\n",
    "        return 'does a dance performance'"
   ]
  },
  {
   "cell_type": "code",
   "execution_count": 41,
   "metadata": {},
   "outputs": [],
   "source": [
    "class Adapter:\n",
    "    \n",
    "    def __init__(self, obj, adapted_methods):\n",
    "        self.obj = obj\n",
    "        self.__dict__.update(adapted_methods)\n",
    "        \n",
    "    def __str__(self):\n",
    "        return str(self.obj)\n",
    "    \n",
    "    "
   ]
  },
  {
   "cell_type": "code",
   "execution_count": 42,
   "metadata": {},
   "outputs": [],
   "source": [
    "def main():\n",
    "    objects = [Club('Jazz Cafe'), Musician('Roy Ayers'), Dancer('Shane Sparks')]\n",
    "    for obj in objects:\n",
    "        if hasattr(obj, 'play') or hasattr(obj, 'dance'):\n",
    "            if hasattr(obj, 'play'):\n",
    "                adapted_methods = dict(organize_event=obj.play)\n",
    "            elif hasattr(obj, 'dance'):\n",
    "                adapted_methods = dict(organize_event=obj.dance)\n",
    "            \n",
    "            obj = Adapter(obj,adapted_methods)\n",
    "        print(f'{obj} {obj.organize_event()}')"
   ]
  },
  {
   "cell_type": "code",
   "execution_count": 43,
   "metadata": {},
   "outputs": [
    {
     "name": "stdout",
     "output_type": "stream",
     "text": [
      "the club Jazz Cafe hires an artist to perform for the people\n",
      "the musician Roy Ayers does a musician performance\n",
      "the dancer Shane Sparks does a dance performance\n"
     ]
    }
   ],
   "source": [
    "main()"
   ]
  },
  {
   "cell_type": "code",
   "execution_count": 44,
   "metadata": {},
   "outputs": [],
   "source": [
    "# The Decorator Pattern"
   ]
  },
  {
   "cell_type": "code",
   "execution_count": 45,
   "metadata": {},
   "outputs": [
    {
     "name": "stdout",
     "output_type": "stream",
     "text": [
      "Time:  5.421251900000243\n"
     ]
    }
   ],
   "source": [
    "def number_sum(n):\n",
    "    assert(n >= 0), 'n must be >= 0'\n",
    "    if n == 0:\n",
    "        return 0\n",
    "    else:\n",
    "        return n + number_sum(n-1)\n",
    "    \n",
    "if __name__ == '__main__':\n",
    "    from timeit import Timer\n",
    "    t = Timer('number_sum(30)', 'from __main__ import number_sum')\n",
    "    print('Time: ', t.timeit())"
   ]
  },
  {
   "cell_type": "code",
   "execution_count": 46,
   "metadata": {},
   "outputs": [
    {
     "name": "stdout",
     "output_type": "stream",
     "text": [
      "Time:  0.16321049999987736\n"
     ]
    }
   ],
   "source": [
    "sum_cache = {0:0}\n",
    "def number_sum(n):\n",
    "    assert(n >= 0), 'n must be >= 0'\n",
    "    if n in sum_cache:\n",
    "        return sum_cache[n]\n",
    "    res = n + number_sum(n-1)\n",
    "    sum_cache[n] = res\n",
    "    return res\n",
    "\n",
    "if __name__ == '__main__':\n",
    "    from timeit import Timer\n",
    "    t = Timer('number_sum(30)', 'from __main__ import number_sum')\n",
    "    print('Time: ', t.timeit())"
   ]
  },
  {
   "cell_type": "code",
   "execution_count": 47,
   "metadata": {},
   "outputs": [],
   "source": [
    "cache_fib =  {0:0, 1:1}\n",
    "\n",
    "def fibonacci(n):\n",
    "    assert(n >= 0), 'n must be >= 0'\n",
    "    if n in cache_fib:\n",
    "        return cache_fib[n]\n",
    "    res = fibonacci(n - 1) + fibonacci(n - 2)\n",
    "    cache_fib[n] = res\n",
    "    return res"
   ]
  },
  {
   "cell_type": "code",
   "execution_count": 48,
   "metadata": {},
   "outputs": [],
   "source": [
    "import functools\n",
    "\n",
    "def memoize(fn):\n",
    "    cache = dict()\n",
    "    \n",
    "    @functools.wraps(fn)\n",
    "    def memoizer(*args):\n",
    "        if args not in cache:\n",
    "            cache[args] = fn(*args)\n",
    "        return cache[args]\n",
    "    \n",
    "    return memoizer\n",
    "    "
   ]
  },
  {
   "cell_type": "code",
   "execution_count": 49,
   "metadata": {},
   "outputs": [],
   "source": [
    "@memoize\n",
    "def number_sum(n):\n",
    "    assert(n >= 0), 'n must be >= 0'\n",
    "    if n == 0:\n",
    "        return 0\n",
    "    else:\n",
    "        return n + number_sum(n-1)"
   ]
  },
  {
   "cell_type": "code",
   "execution_count": 50,
   "metadata": {},
   "outputs": [],
   "source": [
    "@memoize\n",
    "\n",
    "def fibonacci(n):\n",
    "    assert(n >= 0), 'n must be >= 0'\n",
    "    if n in (0,1):\n",
    "        return n\n",
    "    else:\n",
    "        return fibonacci(n - 1) + fibonacci(n - 2)\n"
   ]
  },
  {
   "cell_type": "code",
   "execution_count": 51,
   "metadata": {},
   "outputs": [
    {
     "name": "stdout",
     "output_type": "stream",
     "text": [
      "Function \"number_sum\": None\n",
      "Time: 0.22442319999936444\n",
      "\n",
      "Function \"fibonacci\": None\n",
      "Time: 0.27155210000000807\n",
      "\n"
     ]
    }
   ],
   "source": [
    "def main():\n",
    "    from timeit import Timer\n",
    "\n",
    "    to_execute = [\n",
    "        (number_sum, \n",
    "         Timer('number_sum(300)', 'from __main__ import number_sum')),\n",
    "        (fibonacci, \n",
    "         Timer('fibonacci(100)', 'from __main__ import fibonacci'))    \n",
    "    ]\n",
    "    \n",
    "    for item in to_execute:\n",
    "        fn = item[0]\n",
    "        print(f'Function \"{fn.__name__}\": {fn.__doc__}')\n",
    "        t = item[1]\n",
    "        print(f'Time: {t.timeit()}')\n",
    "        print()\n",
    "\n",
    "if __name__ == '__main__': \n",
    "    main()"
   ]
  },
  {
   "cell_type": "code",
   "execution_count": 52,
   "metadata": {},
   "outputs": [],
   "source": [
    "# The Bridge Pattern \n",
    "\n",
    "class ResourceContent:\n",
    "    \"\"\"\n",
    "    Define the abstraction's interface.\n",
    "    Maintain a reference to an object which represents the Implementor\n",
    "    \"\"\"\n",
    "    def __init__(self, imp):\n",
    "        self._imp = imp\n",
    "        \n",
    "    def show_content(self, path):\n",
    "        self._imp.fetch(path)\n",
    "        \n"
   ]
  },
  {
   "cell_type": "code",
   "execution_count": 59,
   "metadata": {},
   "outputs": [
    {
     "ename": "TypeError",
     "evalue": "mro() takes no arguments (3 given)",
     "output_type": "error",
     "traceback": [
      "\u001b[1;31m---------------------------------------------------------------------------\u001b[0m",
      "\u001b[1;31mTypeError\u001b[0m                                 Traceback (most recent call last)",
      "\u001b[1;32mc:\\Users\\JBarr\\OneDrive\\Documents\\FinTech\\career_services\\mathemeticsDevelopment\\mathemetics\\Computer_Science\\AdvancedPythonProgramming\\BookWork\\structuralDesignPatterns.ipynb Cell 17'\u001b[0m in \u001b[0;36m<cell line: 1>\u001b[1;34m()\u001b[0m\n\u001b[1;32m----> <a href='vscode-notebook-cell:/c%3A/Users/JBarr/OneDrive/Documents/FinTech/career_services/mathemeticsDevelopment/mathemetics/Computer_Science/AdvancedPythonProgramming/BookWork/structuralDesignPatterns.ipynb#ch0000041?line=0'>1</a>\u001b[0m \u001b[39mclass\u001b[39;00m \u001b[39mResourceContentFetcher\u001b[39;00m(metaclass\u001b[39m=\u001b[39mAdapter\u001b[39m.\u001b[39mmro):\n\u001b[0;32m      <a href='vscode-notebook-cell:/c%3A/Users/JBarr/OneDrive/Documents/FinTech/career_services/mathemeticsDevelopment/mathemetics/Computer_Science/AdvancedPythonProgramming/BookWork/structuralDesignPatterns.ipynb#ch0000041?line=1'>2</a>\u001b[0m     \u001b[39m\"\"\"\u001b[39;00m\n\u001b[0;32m      <a href='vscode-notebook-cell:/c%3A/Users/JBarr/OneDrive/Documents/FinTech/career_services/mathemeticsDevelopment/mathemetics/Computer_Science/AdvancedPythonProgramming/BookWork/structuralDesignPatterns.ipynb#ch0000041?line=2'>3</a>\u001b[0m \u001b[39m    Define the interface for implementation classes that fetch content.\u001b[39;00m\n\u001b[0;32m      <a href='vscode-notebook-cell:/c%3A/Users/JBarr/OneDrive/Documents/FinTech/career_services/mathemeticsDevelopment/mathemetics/Computer_Science/AdvancedPythonProgramming/BookWork/structuralDesignPatterns.ipynb#ch0000041?line=3'>4</a>\u001b[0m \u001b[39m    \"\"\"\u001b[39;00m\n\u001b[0;32m      <a href='vscode-notebook-cell:/c%3A/Users/JBarr/OneDrive/Documents/FinTech/career_services/mathemeticsDevelopment/mathemetics/Computer_Science/AdvancedPythonProgramming/BookWork/structuralDesignPatterns.ipynb#ch0000041?line=4'>5</a>\u001b[0m     \u001b[39m#@mro.abstractmethod\u001b[39;00m\n",
      "\u001b[1;31mTypeError\u001b[0m: mro() takes no arguments (3 given)"
     ]
    }
   ],
   "source": [
    "class ResourceContentFetcher(metaclass=Adapter):\n",
    "    \"\"\"\n",
    "    Define the interface for implementation classes that fetch content.\n",
    "    \"\"\"\n",
    "    #@mro.abstractmethod\n",
    "    def fetch(path):\n",
    "        pass\n",
    "    \n",
    "    "
   ]
  },
  {
   "cell_type": "code",
   "execution_count": 55,
   "metadata": {},
   "outputs": [
    {
     "ename": "NameError",
     "evalue": "name 'ResourceContentFetcher' is not defined",
     "output_type": "error",
     "traceback": [
      "\u001b[1;31m---------------------------------------------------------------------------\u001b[0m",
      "\u001b[1;31mNameError\u001b[0m                                 Traceback (most recent call last)",
      "\u001b[1;32mc:\\Users\\JBarr\\OneDrive\\Documents\\FinTech\\career_services\\mathemeticsDevelopment\\mathemetics\\Computer_Science\\AdvancedPythonProgramming\\BookWork\\structuralDesignPatterns.ipynb Cell 18'\u001b[0m in \u001b[0;36m<cell line: 1>\u001b[1;34m()\u001b[0m\n\u001b[1;32m----> <a href='vscode-notebook-cell:/c%3A/Users/JBarr/OneDrive/Documents/FinTech/career_services/mathemeticsDevelopment/mathemetics/Computer_Science/AdvancedPythonProgramming/BookWork/structuralDesignPatterns.ipynb#ch0000025?line=0'>1</a>\u001b[0m \u001b[39mclass\u001b[39;00m \u001b[39mURLFetcher\u001b[39;00m(ResourceContentFetcher):\n\u001b[0;32m      <a href='vscode-notebook-cell:/c%3A/Users/JBarr/OneDrive/Documents/FinTech/career_services/mathemeticsDevelopment/mathemetics/Computer_Science/AdvancedPythonProgramming/BookWork/structuralDesignPatterns.ipynb#ch0000025?line=1'>2</a>\u001b[0m     \u001b[39m'''\u001b[39;00m\n\u001b[0;32m      <a href='vscode-notebook-cell:/c%3A/Users/JBarr/OneDrive/Documents/FinTech/career_services/mathemeticsDevelopment/mathemetics/Computer_Science/AdvancedPythonProgramming/BookWork/structuralDesignPatterns.ipynb#ch0000025?line=2'>3</a>\u001b[0m \u001b[39m    Implement the Implementor interface and define its contrete\u001b[39;00m\n\u001b[0;32m      <a href='vscode-notebook-cell:/c%3A/Users/JBarr/OneDrive/Documents/FinTech/career_services/mathemeticsDevelopment/mathemetics/Computer_Science/AdvancedPythonProgramming/BookWork/structuralDesignPatterns.ipynb#ch0000025?line=3'>4</a>\u001b[0m \u001b[39m    implementation\u001b[39;00m\n\u001b[0;32m      <a href='vscode-notebook-cell:/c%3A/Users/JBarr/OneDrive/Documents/FinTech/career_services/mathemeticsDevelopment/mathemetics/Computer_Science/AdvancedPythonProgramming/BookWork/structuralDesignPatterns.ipynb#ch0000025?line=4'>5</a>\u001b[0m \u001b[39m    '''\u001b[39;00m\n\u001b[0;32m      <a href='vscode-notebook-cell:/c%3A/Users/JBarr/OneDrive/Documents/FinTech/career_services/mathemeticsDevelopment/mathemetics/Computer_Science/AdvancedPythonProgramming/BookWork/structuralDesignPatterns.ipynb#ch0000025?line=5'>6</a>\u001b[0m     \u001b[39mdef\u001b[39;00m \u001b[39mfetch\u001b[39m(\u001b[39mself\u001b[39m, path):\n",
      "\u001b[1;31mNameError\u001b[0m: name 'ResourceContentFetcher' is not defined"
     ]
    }
   ],
   "source": [
    "class URLFetcher(ResourceContentFetcher):\n",
    "    '''\n",
    "    Implement the Implementor interface and define its contrete\n",
    "    implementation\n",
    "    '''\n",
    "    def fetch(self, path):\n",
    "        req = urllib.request.Request(path)\n",
    "        with urllib.request.urlopen(req) as response:\n",
    "            if response.code == 200:\n",
    "                the_page = response.read()\n",
    "                print(the_page)"
   ]
  },
  {
   "cell_type": "code",
   "execution_count": 57,
   "metadata": {},
   "outputs": [
    {
     "ename": "NameError",
     "evalue": "name 'ResourceContentFetcher' is not defined",
     "output_type": "error",
     "traceback": [
      "\u001b[1;31m---------------------------------------------------------------------------\u001b[0m",
      "\u001b[1;31mNameError\u001b[0m                                 Traceback (most recent call last)",
      "\u001b[1;32mc:\\Users\\JBarr\\OneDrive\\Documents\\FinTech\\career_services\\mathemeticsDevelopment\\mathemetics\\Computer_Science\\AdvancedPythonProgramming\\BookWork\\structuralDesignPatterns.ipynb Cell 19'\u001b[0m in \u001b[0;36m<cell line: 1>\u001b[1;34m()\u001b[0m\n\u001b[1;32m----> <a href='vscode-notebook-cell:/c%3A/Users/JBarr/OneDrive/Documents/FinTech/career_services/mathemeticsDevelopment/mathemetics/Computer_Science/AdvancedPythonProgramming/BookWork/structuralDesignPatterns.ipynb#ch0000024?line=0'>1</a>\u001b[0m \u001b[39mclass\u001b[39;00m \u001b[39mLocalFileFetcher\u001b[39;00m(ResourceContentFetcher):\n\u001b[0;32m      <a href='vscode-notebook-cell:/c%3A/Users/JBarr/OneDrive/Documents/FinTech/career_services/mathemeticsDevelopment/mathemetics/Computer_Science/AdvancedPythonProgramming/BookWork/structuralDesignPatterns.ipynb#ch0000024?line=1'>2</a>\u001b[0m     \u001b[39m'''\u001b[39;00m\n\u001b[0;32m      <a href='vscode-notebook-cell:/c%3A/Users/JBarr/OneDrive/Documents/FinTech/career_services/mathemeticsDevelopment/mathemetics/Computer_Science/AdvancedPythonProgramming/BookWork/structuralDesignPatterns.ipynb#ch0000024?line=2'>3</a>\u001b[0m \u001b[39m    Implement the Implementor interface and define its concrete implementation.\u001b[39;00m\n\u001b[0;32m      <a href='vscode-notebook-cell:/c%3A/Users/JBarr/OneDrive/Documents/FinTech/career_services/mathemeticsDevelopment/mathemetics/Computer_Science/AdvancedPythonProgramming/BookWork/structuralDesignPatterns.ipynb#ch0000024?line=3'>4</a>\u001b[0m \u001b[39m    \u001b[39;00m\n\u001b[0;32m      <a href='vscode-notebook-cell:/c%3A/Users/JBarr/OneDrive/Documents/FinTech/career_services/mathemeticsDevelopment/mathemetics/Computer_Science/AdvancedPythonProgramming/BookWork/structuralDesignPatterns.ipynb#ch0000024?line=4'>5</a>\u001b[0m \u001b[39m    '''\u001b[39;00m\n\u001b[0;32m      <a href='vscode-notebook-cell:/c%3A/Users/JBarr/OneDrive/Documents/FinTech/career_services/mathemeticsDevelopment/mathemetics/Computer_Science/AdvancedPythonProgramming/BookWork/structuralDesignPatterns.ipynb#ch0000024?line=6'>7</a>\u001b[0m     \u001b[39mdef\u001b[39;00m \u001b[39mfetch\u001b[39m(\u001b[39mself\u001b[39m, path):\n\u001b[0;32m      <a href='vscode-notebook-cell:/c%3A/Users/JBarr/OneDrive/Documents/FinTech/career_services/mathemeticsDevelopment/mathemetics/Computer_Science/AdvancedPythonProgramming/BookWork/structuralDesignPatterns.ipynb#ch0000024?line=7'>8</a>\u001b[0m         \u001b[39m# path is the filepath to the text file\u001b[39;00m\n",
      "\u001b[1;31mNameError\u001b[0m: name 'ResourceContentFetcher' is not defined"
     ]
    }
   ],
   "source": [
    "class LocalFileFetcher(ResourceContentFetcher):\n",
    "    '''\n",
    "    Implement the Implementor interface and define its concrete implementation.\n",
    "    \n",
    "    '''\n",
    "    \n",
    "    def fetch(self, path):\n",
    "        # path is the filepath to the text file\n",
    "        with open(path) as f:\n",
    "            print(r.read())"
   ]
  },
  {
   "cell_type": "code",
   "execution_count": 63,
   "metadata": {},
   "outputs": [],
   "source": [
    "def main():\n",
    "    url_Fetcher = URLFetcher()\n",
    "    iface = ResourceContent(url_Fetcher)\n",
    "    iface.show_content('htt[://python.org')\n",
    "    \n",
    "    print(\"=\" * 20)\n",
    "    \n",
    "    localfs_fetcher = LocalFileFetcher()\n",
    "    iface = ResourceContent(localfs_fetcher)\n",
    "    iface.show_content('file.txt')"
   ]
  },
  {
   "cell_type": "code",
   "execution_count": 69,
   "metadata": {},
   "outputs": [],
   "source": [
    "# The Facade Pattern:\n",
    "# Implementation\n",
    "\n",
    "from enum import Enum\n",
    "from abc import ABCMeta, abstractmethod\n"
   ]
  },
  {
   "cell_type": "code",
   "execution_count": 70,
   "metadata": {},
   "outputs": [],
   "source": [
    "State = Enum('State', 'new running sleeping restart zombine')\n",
    "class Server(metaclass=ABCMeta):\n",
    "    @abstractmethod\n",
    "    def __init__(self):\n",
    "        pass\n",
    "    def __str__(self):\n",
    "        return self.name\n",
    "    @abstractmethod\n",
    "    def boot(self):\n",
    "        pass\n",
    "    @abstractmethod\n",
    "    def kill(self, restart=True):\n",
    "        pass\n",
    "    "
   ]
  },
  {
   "cell_type": "code",
   "execution_count": 71,
   "metadata": {},
   "outputs": [],
   "source": [
    "class FileServer(Server):\n",
    "    \n",
    "    def __init__(self):\n",
    "        '''actions required for initializing the file server'''\n",
    "        self.name = 'FileServer'\n",
    "        self.state = State.new\n",
    "        \n",
    "    def boot(self):\n",
    "        print(f'booting the {self}')\n",
    "        '''actions required for booting the file server'''\n",
    "        self.state = State.running\n",
    "        \n",
    "    def kill(self, restart=True):\n",
    "        print(f'Killing {self}')\n",
    "        '''actions required for killing the file server'''\n",
    "        self.state = State.restart if restart else State.zombine\n",
    "        \n",
    "    def create_file(self, user, name, permissions):\n",
    "        '''check validity of permissions, user rights, etc.'''\n",
    "        print(f\"trying to create the file {name}' for user '{user}' with permissions {permissions}\")"
   ]
  },
  {
   "cell_type": "code",
   "execution_count": 72,
   "metadata": {},
   "outputs": [],
   "source": [
    "class ProcessServer(Server):\n",
    "    \n",
    "    def __init__(self):\n",
    "        '''actions required for initializing the file server'''\n",
    "        self.name = 'FileServer'\n",
    "        self.state = State.new\n",
    "        \n",
    "    def boot(self):\n",
    "        print(f'booting the {self}')\n",
    "        '''actions required for booting the file server'''\n",
    "        self.state = State.running\n",
    "        \n",
    "    def kill(self, restart=True):\n",
    "        print(f'Killing {self}')\n",
    "        '''actions required for killing the file server'''\n",
    "        self.state = State.restart if restart else State.zombine\n",
    "        \n",
    "    def create_file(self, user, name, permissions):\n",
    "        '''check validity of permissions, user rights, etc.'''\n",
    "        print(f\"trying to create the file {name}' for user '{user}' with permissions {permissions}\")"
   ]
  },
  {
   "cell_type": "code",
   "execution_count": 73,
   "metadata": {},
   "outputs": [],
   "source": [
    "class OperationSystem:\n",
    "    '''The Facade'''\n",
    "    def __init__(self):\n",
    "        self.fs = FileServer()\n",
    "        self.ps = ProcessServer()\n",
    "        \n",
    "    def start(self):\n",
    "        [i.boot() for i in (self.fs, self.ps)]\n",
    "        \n",
    "    def create_file(self, user, name, permissions):\n",
    "        return self.fs.create_file(user, name, permissions)\n",
    "    \n",
    "    def create_process(self, user, name):\n",
    "        return self.ps.create_file(user, name)"
   ]
  },
  {
   "cell_type": "code",
   "execution_count": 74,
   "metadata": {},
   "outputs": [],
   "source": [
    "class User:\n",
    "    pass\n",
    "\n",
    "class Process:\n",
    "    pass\n",
    "\n",
    "class File:\n",
    "    pass"
   ]
  },
  {
   "cell_type": "code",
   "execution_count": 75,
   "metadata": {},
   "outputs": [],
   "source": [
    "class WindowServer:\n",
    "    pass\n",
    "\n",
    "class NetworkServer:\n",
    "    pass"
   ]
  },
  {
   "cell_type": "code",
   "execution_count": 76,
   "metadata": {},
   "outputs": [
    {
     "name": "stdout",
     "output_type": "stream",
     "text": [
      "booting the FileServer\n",
      "booting the FileServer\n",
      "trying to create the file hello' for user 'foo' with permissions -rw-r-r\n"
     ]
    },
    {
     "ename": "TypeError",
     "evalue": "create_file() missing 1 required positional argument: 'permissions'",
     "output_type": "error",
     "traceback": [
      "\u001b[1;31m---------------------------------------------------------------------------\u001b[0m",
      "\u001b[1;31mTypeError\u001b[0m                                 Traceback (most recent call last)",
      "\u001b[1;32mc:\\Users\\JBarr\\OneDrive\\Documents\\FinTech\\career_services\\mathemeticsDevelopment\\mathemetics\\Computer_Science\\AdvancedPythonProgramming\\BookWork\\structuralDesignPatterns.ipynb Cell 28'\u001b[0m in \u001b[0;36m<cell line: 7>\u001b[1;34m()\u001b[0m\n\u001b[0;32m      <a href='vscode-notebook-cell:/c%3A/Users/JBarr/OneDrive/Documents/FinTech/career_services/mathemeticsDevelopment/mathemetics/Computer_Science/AdvancedPythonProgramming/BookWork/structuralDesignPatterns.ipynb#ch0000014?line=4'>5</a>\u001b[0m     os\u001b[39m.\u001b[39mcreate_process(\u001b[39m'\u001b[39m\u001b[39mbar\u001b[39m\u001b[39m'\u001b[39m, \u001b[39m'\u001b[39m\u001b[39mis/tmp\u001b[39m\u001b[39m'\u001b[39m)\n\u001b[0;32m      <a href='vscode-notebook-cell:/c%3A/Users/JBarr/OneDrive/Documents/FinTech/career_services/mathemeticsDevelopment/mathemetics/Computer_Science/AdvancedPythonProgramming/BookWork/structuralDesignPatterns.ipynb#ch0000014?line=6'>7</a>\u001b[0m \u001b[39mif\u001b[39;00m \u001b[39m__name__\u001b[39m \u001b[39m==\u001b[39m \u001b[39m'\u001b[39m\u001b[39m__main__\u001b[39m\u001b[39m'\u001b[39m:\n\u001b[1;32m----> <a href='vscode-notebook-cell:/c%3A/Users/JBarr/OneDrive/Documents/FinTech/career_services/mathemeticsDevelopment/mathemetics/Computer_Science/AdvancedPythonProgramming/BookWork/structuralDesignPatterns.ipynb#ch0000014?line=7'>8</a>\u001b[0m     main()\n",
      "\u001b[1;32mc:\\Users\\JBarr\\OneDrive\\Documents\\FinTech\\career_services\\mathemeticsDevelopment\\mathemetics\\Computer_Science\\AdvancedPythonProgramming\\BookWork\\structuralDesignPatterns.ipynb Cell 28'\u001b[0m in \u001b[0;36mmain\u001b[1;34m()\u001b[0m\n\u001b[0;32m      <a href='vscode-notebook-cell:/c%3A/Users/JBarr/OneDrive/Documents/FinTech/career_services/mathemeticsDevelopment/mathemetics/Computer_Science/AdvancedPythonProgramming/BookWork/structuralDesignPatterns.ipynb#ch0000014?line=2'>3</a>\u001b[0m os\u001b[39m.\u001b[39mstart()\n\u001b[0;32m      <a href='vscode-notebook-cell:/c%3A/Users/JBarr/OneDrive/Documents/FinTech/career_services/mathemeticsDevelopment/mathemetics/Computer_Science/AdvancedPythonProgramming/BookWork/structuralDesignPatterns.ipynb#ch0000014?line=3'>4</a>\u001b[0m os\u001b[39m.\u001b[39mcreate_file(\u001b[39m'\u001b[39m\u001b[39mfoo\u001b[39m\u001b[39m'\u001b[39m, \u001b[39m'\u001b[39m\u001b[39mhello\u001b[39m\u001b[39m'\u001b[39m, \u001b[39m'\u001b[39m\u001b[39m-rw-r-r\u001b[39m\u001b[39m'\u001b[39m)\n\u001b[1;32m----> <a href='vscode-notebook-cell:/c%3A/Users/JBarr/OneDrive/Documents/FinTech/career_services/mathemeticsDevelopment/mathemetics/Computer_Science/AdvancedPythonProgramming/BookWork/structuralDesignPatterns.ipynb#ch0000014?line=4'>5</a>\u001b[0m os\u001b[39m.\u001b[39;49mcreate_process(\u001b[39m'\u001b[39;49m\u001b[39mbar\u001b[39;49m\u001b[39m'\u001b[39;49m, \u001b[39m'\u001b[39;49m\u001b[39mis/tmp\u001b[39;49m\u001b[39m'\u001b[39;49m)\n",
      "\u001b[1;32mc:\\Users\\JBarr\\OneDrive\\Documents\\FinTech\\career_services\\mathemeticsDevelopment\\mathemetics\\Computer_Science\\AdvancedPythonProgramming\\BookWork\\structuralDesignPatterns.ipynb Cell 25'\u001b[0m in \u001b[0;36mOperationSystem.create_process\u001b[1;34m(self, user, name)\u001b[0m\n\u001b[0;32m     <a href='vscode-notebook-cell:/c%3A/Users/JBarr/OneDrive/Documents/FinTech/career_services/mathemeticsDevelopment/mathemetics/Computer_Science/AdvancedPythonProgramming/BookWork/structuralDesignPatterns.ipynb#ch0000017?line=12'>13</a>\u001b[0m \u001b[39mdef\u001b[39;00m \u001b[39mcreate_process\u001b[39m(\u001b[39mself\u001b[39m, user, name):\n\u001b[1;32m---> <a href='vscode-notebook-cell:/c%3A/Users/JBarr/OneDrive/Documents/FinTech/career_services/mathemeticsDevelopment/mathemetics/Computer_Science/AdvancedPythonProgramming/BookWork/structuralDesignPatterns.ipynb#ch0000017?line=13'>14</a>\u001b[0m     \u001b[39mreturn\u001b[39;00m \u001b[39mself\u001b[39;49m\u001b[39m.\u001b[39;49mps\u001b[39m.\u001b[39;49mcreate_file(user, name)\n",
      "\u001b[1;31mTypeError\u001b[0m: create_file() missing 1 required positional argument: 'permissions'"
     ]
    }
   ],
   "source": [
    "def main():\n",
    "    os = OperationSystem()\n",
    "    os.start()\n",
    "    os.create_file('foo', 'hello', '-rw-r-r')\n",
    "    os.create_process('bar', 'is/tmp')\n",
    "    \n",
    "if __name__ == '__main__':\n",
    "    main()"
   ]
  },
  {
   "cell_type": "code",
   "execution_count": null,
   "metadata": {},
   "outputs": [],
   "source": [
    "# Other Structural Patterns\n"
   ]
  },
  {
   "cell_type": "code",
   "execution_count": 85,
   "metadata": {},
   "outputs": [],
   "source": [
    "\n",
    "import random"
   ]
  },
  {
   "cell_type": "code",
   "execution_count": 86,
   "metadata": {},
   "outputs": [],
   "source": [
    "CarType = Enum('CarType', 'subcompact compact suv')\n",
    "\n",
    "class Car:\n",
    "    pool = dict()\n",
    "    \n",
    "    def __new__(cls, car_type):\n",
    "        obj =  cls.pool.get(car_type, None)\n",
    "        if not obj:\n",
    "            obj = object.__new__(cls)\n",
    "            cls.pool[car_type] = car_type\n",
    "            obj.car_type = car_type\n",
    "        return obj\n",
    "    \n",
    "    def render(self, color, x, y):\n",
    "        type = self.car_type\n",
    "        msg = f'render a car of type {type} and color {color} at ({x},{y})'\n",
    "        print(msg)\n",
    "        \n",
    "    "
   ]
  },
  {
   "cell_type": "code",
   "execution_count": 87,
   "metadata": {},
   "outputs": [],
   "source": [
    "def main():\n",
    "    rnd = random.Random()\n",
    "    colors = 'white black silver gray red blue brown beige yellow green'.split()\n",
    "    min_point , max_point = 0, 100\n",
    "    car_counter = 0\n",
    "    \n",
    "    for _ in range(10):\n",
    "        c1 = Car(CarType.subcompact)\n",
    "        c1.render(random.choice(colors),\n",
    "                  rnd.randint(min_point, max_point),\n",
    "                  rnd.randint(min_point, max_point))\n",
    "        \n",
    "        car_counter += 1\n",
    "        \n",
    "    \n",
    "    for _ in range(3):\n",
    "        c2 = Car(CarType.compact)\n",
    "        c2.render(random.choice(colors),\n",
    "                  rnd.randint(min_point, max_point),\n",
    "                  rnd.randint(min_point, max_point))\n",
    "        \n",
    "        car_counter += 1\n",
    "        \n",
    "    \n",
    "    for _ in range(5):\n",
    "        c3 = Car(CarType.suv)\n",
    "        c3.render(random.choice(colors),\n",
    "                  rnd.randint(min_point, max_point),\n",
    "                  rnd.randint(min_point, max_point))\n",
    "        \n",
    "        car_counter += 1\n",
    "        \n",
    "        \n",
    "    print(f'cars rendered: {car_counter}')\n",
    "    print(f'cars actually created: {len(Car.pool)}')\n",
    "    \n",
    "    \n",
    "    c4 = Car(CarType.subcompact)\n",
    "    c5 = Car(CarType.subcompact)\n",
    "    c6 = Car(CarType.suv)\n",
    "    print(f'{id(c4)} == {id(c5)}? {id(c4) == id(c5)}')\n",
    "    print(f'{id(c5)} == {id(c6)}? {id(c5) == id(c6)}')"
   ]
  },
  {
   "cell_type": "code",
   "execution_count": 88,
   "metadata": {},
   "outputs": [
    {
     "name": "stdout",
     "output_type": "stream",
     "text": [
      "render a car of type CarType.subcompact and color gray at (70,60)\n"
     ]
    },
    {
     "ename": "AttributeError",
     "evalue": "'CarType' object has no attribute 'render'",
     "output_type": "error",
     "traceback": [
      "\u001b[1;31m---------------------------------------------------------------------------\u001b[0m",
      "\u001b[1;31mAttributeError\u001b[0m                            Traceback (most recent call last)",
      "\u001b[1;32mc:\\Users\\JBarr\\OneDrive\\Documents\\FinTech\\career_services\\mathemeticsDevelopment\\mathemetics\\Computer_Science\\AdvancedPythonProgramming\\BookWork\\structuralDesignPatterns.ipynb Cell 33'\u001b[0m in \u001b[0;36m<cell line: 1>\u001b[1;34m()\u001b[0m\n\u001b[0;32m      <a href='vscode-notebook-cell:/c%3A/Users/JBarr/OneDrive/Documents/FinTech/career_services/mathemeticsDevelopment/mathemetics/Computer_Science/AdvancedPythonProgramming/BookWork/structuralDesignPatterns.ipynb#ch0000010?line=0'>1</a>\u001b[0m \u001b[39mif\u001b[39;00m \u001b[39m__name__\u001b[39m \u001b[39m==\u001b[39m \u001b[39m'\u001b[39m\u001b[39m__main__\u001b[39m\u001b[39m'\u001b[39m:\n\u001b[1;32m----> <a href='vscode-notebook-cell:/c%3A/Users/JBarr/OneDrive/Documents/FinTech/career_services/mathemeticsDevelopment/mathemetics/Computer_Science/AdvancedPythonProgramming/BookWork/structuralDesignPatterns.ipynb#ch0000010?line=1'>2</a>\u001b[0m     main()\n",
      "\u001b[1;32mc:\\Users\\JBarr\\OneDrive\\Documents\\FinTech\\career_services\\mathemeticsDevelopment\\mathemetics\\Computer_Science\\AdvancedPythonProgramming\\BookWork\\structuralDesignPatterns.ipynb Cell 32'\u001b[0m in \u001b[0;36mmain\u001b[1;34m()\u001b[0m\n\u001b[0;32m      <a href='vscode-notebook-cell:/c%3A/Users/JBarr/OneDrive/Documents/FinTech/career_services/mathemeticsDevelopment/mathemetics/Computer_Science/AdvancedPythonProgramming/BookWork/structuralDesignPatterns.ipynb#ch0000011?line=6'>7</a>\u001b[0m \u001b[39mfor\u001b[39;00m _ \u001b[39min\u001b[39;00m \u001b[39mrange\u001b[39m(\u001b[39m10\u001b[39m):\n\u001b[0;32m      <a href='vscode-notebook-cell:/c%3A/Users/JBarr/OneDrive/Documents/FinTech/career_services/mathemeticsDevelopment/mathemetics/Computer_Science/AdvancedPythonProgramming/BookWork/structuralDesignPatterns.ipynb#ch0000011?line=7'>8</a>\u001b[0m     c1 \u001b[39m=\u001b[39m Car(CarType\u001b[39m.\u001b[39msubcompact)\n\u001b[1;32m----> <a href='vscode-notebook-cell:/c%3A/Users/JBarr/OneDrive/Documents/FinTech/career_services/mathemeticsDevelopment/mathemetics/Computer_Science/AdvancedPythonProgramming/BookWork/structuralDesignPatterns.ipynb#ch0000011?line=8'>9</a>\u001b[0m     c1\u001b[39m.\u001b[39;49mrender(random\u001b[39m.\u001b[39mchoice(colors),\n\u001b[0;32m     <a href='vscode-notebook-cell:/c%3A/Users/JBarr/OneDrive/Documents/FinTech/career_services/mathemeticsDevelopment/mathemetics/Computer_Science/AdvancedPythonProgramming/BookWork/structuralDesignPatterns.ipynb#ch0000011?line=9'>10</a>\u001b[0m               rnd\u001b[39m.\u001b[39mrandint(min_point, max_point),\n\u001b[0;32m     <a href='vscode-notebook-cell:/c%3A/Users/JBarr/OneDrive/Documents/FinTech/career_services/mathemeticsDevelopment/mathemetics/Computer_Science/AdvancedPythonProgramming/BookWork/structuralDesignPatterns.ipynb#ch0000011?line=10'>11</a>\u001b[0m               rnd\u001b[39m.\u001b[39mrandint(min_point, max_point))\n\u001b[0;32m     <a href='vscode-notebook-cell:/c%3A/Users/JBarr/OneDrive/Documents/FinTech/career_services/mathemeticsDevelopment/mathemetics/Computer_Science/AdvancedPythonProgramming/BookWork/structuralDesignPatterns.ipynb#ch0000011?line=12'>13</a>\u001b[0m     car_counter \u001b[39m+\u001b[39m\u001b[39m=\u001b[39m \u001b[39m1\u001b[39m\n\u001b[0;32m     <a href='vscode-notebook-cell:/c%3A/Users/JBarr/OneDrive/Documents/FinTech/career_services/mathemeticsDevelopment/mathemetics/Computer_Science/AdvancedPythonProgramming/BookWork/structuralDesignPatterns.ipynb#ch0000011?line=15'>16</a>\u001b[0m \u001b[39mfor\u001b[39;00m _ \u001b[39min\u001b[39;00m \u001b[39mrange\u001b[39m(\u001b[39m3\u001b[39m):\n",
      "\u001b[1;31mAttributeError\u001b[0m: 'CarType' object has no attribute 'render'"
     ]
    }
   ],
   "source": [
    "if __name__ == '__main__':\n",
    "    main()"
   ]
  },
  {
   "cell_type": "code",
   "execution_count": null,
   "metadata": {},
   "outputs": [],
   "source": []
  },
  {
   "cell_type": "code",
   "execution_count": null,
   "metadata": {},
   "outputs": [],
   "source": []
  },
  {
   "cell_type": "code",
   "execution_count": null,
   "metadata": {},
   "outputs": [],
   "source": []
  },
  {
   "cell_type": "code",
   "execution_count": null,
   "metadata": {},
   "outputs": [],
   "source": []
  },
  {
   "cell_type": "code",
   "execution_count": null,
   "metadata": {},
   "outputs": [],
   "source": []
  },
  {
   "cell_type": "code",
   "execution_count": null,
   "metadata": {},
   "outputs": [],
   "source": []
  },
  {
   "cell_type": "code",
   "execution_count": null,
   "metadata": {},
   "outputs": [],
   "source": []
  },
  {
   "cell_type": "code",
   "execution_count": null,
   "metadata": {},
   "outputs": [],
   "source": []
  },
  {
   "cell_type": "code",
   "execution_count": null,
   "metadata": {},
   "outputs": [],
   "source": []
  }
 ],
 "metadata": {
  "kernelspec": {
   "display_name": "dev",
   "language": "python",
   "name": "dev"
  },
  "language_info": {
   "codemirror_mode": {
    "name": "ipython",
    "version": 3
   },
   "file_extension": ".py",
   "mimetype": "text/x-python",
   "name": "python",
   "nbconvert_exporter": "python",
   "pygments_lexer": "ipython3",
   "version": "3.8.12"
  },
  "orig_nbformat": 4
 },
 "nbformat": 4,
 "nbformat_minor": 2
}
