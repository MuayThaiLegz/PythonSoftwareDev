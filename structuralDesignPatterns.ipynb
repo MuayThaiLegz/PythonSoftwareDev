{
 "cells": [
  {
   "cell_type": "code",
   "execution_count": 37,
   "metadata": {},
   "outputs": [
    {
     "data": {
      "text/plain": [
       "'\\nA structual design pattern proposes a way of composing objects for creating\\nnew functionality.\\n\\n_______________________\\n\\nThe adapter pattern is a structual design pattern helping make two incompatible\\ninterfaces compatible.\\n'"
      ]
     },
     "execution_count": 37,
     "metadata": {},
     "output_type": "execute_result"
    }
   ],
   "source": [
    "\"\"\"\n",
    "A structual design pattern proposes a way of composing objects for creating\n",
    "new functionality.\n",
    "\n",
    "_______________________\n",
    "\n",
    "The adapter pattern is a structual design pattern helping make two incompatible\n",
    "interfaces compatible.\n",
    "\"\"\"\n"
   ]
  },
  {
   "cell_type": "code",
   "execution_count": 38,
   "metadata": {},
   "outputs": [],
   "source": [
    "class Club:\n",
    "    \n",
    "    def __init__(self, name):\n",
    "        self.name = name\n",
    "                \n",
    "    def __str__(self):\n",
    "        return f'the club {self.name}'\n",
    "    \n",
    "    def organize_event(self):\n",
    "        return 'hires an artist to perform for the people'"
   ]
  },
  {
   "cell_type": "code",
   "execution_count": 39,
   "metadata": {},
   "outputs": [],
   "source": [
    "class Musician:\n",
    "    \n",
    "    def __init__(self, name):\n",
    "        self.name = name\n",
    "    \n",
    "    def __str__(self):\n",
    "        return f'the musician {self.name}'   \n",
    "        \n",
    "    def dance(self):\n",
    "        return 'does a musician performance'\n",
    "    \n",
    "    "
   ]
  },
  {
   "cell_type": "code",
   "execution_count": 40,
   "metadata": {},
   "outputs": [],
   "source": [
    "class Dancer:\n",
    "    \n",
    "    def __init__(self, name):\n",
    "        self.name = name\n",
    "    \n",
    "    def __str__(self):\n",
    "        return f'the dancer {self.name}'   \n",
    "        \n",
    "    def dance(self):\n",
    "        return 'does a dance performance'"
   ]
  },
  {
   "cell_type": "code",
   "execution_count": 41,
   "metadata": {},
   "outputs": [],
   "source": [
    "class Adapter:\n",
    "    \n",
    "    def __init__(self, obj, adapted_methods):\n",
    "        self.obj = obj\n",
    "        self.__dict__.update(adapted_methods)\n",
    "        \n",
    "    def __str__(self):\n",
    "        return str(self.obj)\n",
    "    \n",
    "    "
   ]
  },
  {
   "cell_type": "code",
   "execution_count": 42,
   "metadata": {},
   "outputs": [],
   "source": [
    "def main():\n",
    "    objects = [Club('Jazz Cafe'), Musician('Roy Ayers'), Dancer('Shane Sparks')]\n",
    "    for obj in objects:\n",
    "        if hasattr(obj, 'play') or hasattr(obj, 'dance'):\n",
    "            if hasattr(obj, 'play'):\n",
    "                adapted_methods = dict(organize_event=obj.play)\n",
    "            elif hasattr(obj, 'dance'):\n",
    "                adapted_methods = dict(organize_event=obj.dance)\n",
    "            \n",
    "            obj = Adapter(obj,adapted_methods)\n",
    "        print(f'{obj} {obj.organize_event()}')"
   ]
  },
  {
   "cell_type": "code",
   "execution_count": 43,
   "metadata": {},
   "outputs": [
    {
     "name": "stdout",
     "output_type": "stream",
     "text": [
      "the club Jazz Cafe hires an artist to perform for the people\n",
      "the musician Roy Ayers does a musician performance\n",
      "the dancer Shane Sparks does a dance performance\n"
     ]
    }
   ],
   "source": [
    "main()"
   ]
  },
  {
   "cell_type": "code",
   "execution_count": 44,
   "metadata": {},
   "outputs": [],
   "source": [
    "# The Decorator Pattern"
   ]
  },
  {
   "cell_type": "code",
   "execution_count": 45,
   "metadata": {},
   "outputs": [
    {
     "name": "stdout",
     "output_type": "stream",
     "text": [
      "Time:  5.421251900000243\n"
     ]
    }
   ],
   "source": [
    "def number_sum(n):\n",
    "    assert(n >= 0), 'n must be >= 0'\n",
    "    if n == 0:\n",
    "        return 0\n",
    "    else:\n",
    "        return n + number_sum(n-1)\n",
    "    \n",
    "if __name__ == '__main__':\n",
    "    from timeit import Timer\n",
    "    t = Timer('number_sum(30)', 'from __main__ import number_sum')\n",
    "    print('Time: ', t.timeit())"
   ]
  },
  {
   "cell_type": "code",
   "execution_count": 46,
   "metadata": {},
   "outputs": [
    {
     "name": "stdout",
     "output_type": "stream",
     "text": [
      "Time:  0.16321049999987736\n"
     ]
    }
   ],
   "source": [
    "sum_cache = {0:0}\n",
    "def number_sum(n):\n",
    "    assert(n >= 0), 'n must be >= 0'\n",
    "    if n in sum_cache:\n",
    "        return sum_cache[n]\n",
    "    res = n + number_sum(n-1)\n",
    "    sum_cache[n] = res\n",
    "    return res\n",
    "\n",
    "if __name__ == '__main__':\n",
    "    from timeit import Timer\n",
    "    t = Timer('number_sum(30)', 'from __main__ import number_sum')\n",
    "    print('Time: ', t.timeit())"
   ]
  },
  {
   "cell_type": "code",
   "execution_count": 47,
   "metadata": {},
   "outputs": [],
   "source": [
    "cache_fib =  {0:0, 1:1}\n",
    "\n",
    "def fibonacci(n):\n",
    "    assert(n >= 0), 'n must be >= 0'\n",
    "    if n in cache_fib:\n",
    "        return cache_fib[n]\n",
    "    res = fibonacci(n - 1) + fibonacci(n - 2)\n",
    "    cache_fib[n] = res\n",
    "    return res"
   ]
  },
  {
   "cell_type": "code",
   "execution_count": 48,
   "metadata": {},
   "outputs": [],
   "source": [
    "import functools\n",
    "\n",
    "def memoize(fn):\n",
    "    cache = dict()\n",
    "    \n",
    "    @functools.wraps(fn)\n",
    "    def memoizer(*args):\n",
    "        if args not in cache:\n",
    "            cache[args] = fn(*args)\n",
    "        return cache[args]\n",
    "    \n",
    "    return memoizer\n",
    "    "
   ]
  },
  {
   "cell_type": "code",
   "execution_count": 49,
   "metadata": {},
   "outputs": [],
   "source": [
    "@memoize\n",
    "def number_sum(n):\n",
    "    assert(n >= 0), 'n must be >= 0'\n",
    "    if n == 0:\n",
    "        return 0\n",
    "    else:\n",
    "        return n + number_sum(n-1)"
   ]
  },
  {
   "cell_type": "code",
   "execution_count": 50,
   "metadata": {},
   "outputs": [],
   "source": [
    "@memoize\n",
    "\n",
    "def fibonacci(n):\n",
    "    assert(n >= 0), 'n must be >= 0'\n",
    "    if n in (0,1):\n",
    "        return n\n",
    "    else:\n",
    "        return fibonacci(n - 1) + fibonacci(n - 2)\n"
   ]
  },
  {
   "cell_type": "code",
   "execution_count": 51,
   "metadata": {},
   "outputs": [
    {
     "name": "stdout",
     "output_type": "stream",
     "text": [
      "Function \"number_sum\": None\n",
      "Time: 0.22442319999936444\n",
      "\n",
      "Function \"fibonacci\": None\n",
      "Time: 0.27155210000000807\n",
      "\n"
     ]
    }
   ],
   "source": [
    "def main():\n",
    "    from timeit import Timer\n",
    "\n",
    "    to_execute = [\n",
    "        (number_sum, \n",
    "         Timer('number_sum(300)', 'from __main__ import number_sum')),\n",
    "        (fibonacci, \n",
    "         Timer('fibonacci(100)', 'from __main__ import fibonacci'))    \n",
    "    ]\n",
    "    \n",
    "    for item in to_execute:\n",
    "        fn = item[0]\n",
    "        print(f'Function \"{fn.__name__}\": {fn.__doc__}')\n",
    "        t = item[1]\n",
    "        print(f'Time: {t.timeit()}')\n",
    "        print()\n",
    "\n",
    "if __name__ == '__main__': \n",
    "    main()"
   ]
  },
  {
   "cell_type": "code",
   "execution_count": 52,
   "metadata": {},
   "outputs": [],
   "source": [
    "# The Bridge Pattern \n",
    "\n",
    "class ResourceContent:\n",
    "    \"\"\"\n",
    "    Define the abstraction's interface.\n",
    "    Maintain a reference to an object which represents the Implementor\n",
    "    \"\"\"\n",
    "    def __init__(self, imp):\n",
    "        self._imp = imp\n",
    "        \n",
    "    def show_content(self, path):\n",
    "        self._imp.fetch(path)\n",
    "        \n"
   ]
  },
  {
   "cell_type": "code",
   "execution_count": 59,
   "metadata": {},
   "outputs": [
    {
     "ename": "TypeError",
     "evalue": "mro() takes no arguments (3 given)",
     "output_type": "error",
     "traceback": [
      "\u001b[1;31m---------------------------------------------------------------------------\u001b[0m",
      "\u001b[1;31mTypeError\u001b[0m                                 Traceback (most recent call last)",
      "\u001b[1;32mc:\\Users\\JBarr\\OneDrive\\Documents\\FinTech\\career_services\\mathemeticsDevelopment\\mathemetics\\Computer_Science\\AdvancedPythonProgramming\\BookWork\\structuralDesignPatterns.ipynb Cell 17'\u001b[0m in \u001b[0;36m<cell line: 1>\u001b[1;34m()\u001b[0m\n\u001b[1;32m----> <a href='vscode-notebook-cell:/c%3A/Users/JBarr/OneDrive/Documents/FinTech/career_services/mathemeticsDevelopment/mathemetics/Computer_Science/AdvancedPythonProgramming/BookWork/structuralDesignPatterns.ipynb#ch0000041?line=0'>1</a>\u001b[0m \u001b[39mclass\u001b[39;00m \u001b[39mResourceContentFetcher\u001b[39;00m(metaclass\u001b[39m=\u001b[39mAdapter\u001b[39m.\u001b[39mmro):\n\u001b[0;32m      <a href='vscode-notebook-cell:/c%3A/Users/JBarr/OneDrive/Documents/FinTech/career_services/mathemeticsDevelopment/mathemetics/Computer_Science/AdvancedPythonProgramming/BookWork/structuralDesignPatterns.ipynb#ch0000041?line=1'>2</a>\u001b[0m     \u001b[39m\"\"\"\u001b[39;00m\n\u001b[0;32m      <a href='vscode-notebook-cell:/c%3A/Users/JBarr/OneDrive/Documents/FinTech/career_services/mathemeticsDevelopment/mathemetics/Computer_Science/AdvancedPythonProgramming/BookWork/structuralDesignPatterns.ipynb#ch0000041?line=2'>3</a>\u001b[0m \u001b[39m    Define the interface for implementation classes that fetch content.\u001b[39;00m\n\u001b[0;32m      <a href='vscode-notebook-cell:/c%3A/Users/JBarr/OneDrive/Documents/FinTech/career_services/mathemeticsDevelopment/mathemetics/Computer_Science/AdvancedPythonProgramming/BookWork/structuralDesignPatterns.ipynb#ch0000041?line=3'>4</a>\u001b[0m \u001b[39m    \"\"\"\u001b[39;00m\n\u001b[0;32m      <a href='vscode-notebook-cell:/c%3A/Users/JBarr/OneDrive/Documents/FinTech/career_services/mathemeticsDevelopment/mathemetics/Computer_Science/AdvancedPythonProgramming/BookWork/structuralDesignPatterns.ipynb#ch0000041?line=4'>5</a>\u001b[0m     \u001b[39m#@mro.abstractmethod\u001b[39;00m\n",
      "\u001b[1;31mTypeError\u001b[0m: mro() takes no arguments (3 given)"
     ]
    }
   ],
   "source": [
    "class ResourceContentFetcher(metaclass=Adapter):\n",
    "    \"\"\"\n",
    "    Define the interface for implementation classes that fetch content.\n",
    "    \"\"\"\n",
    "    #@mro.abstractmethod\n",
    "    def fetch(path):\n",
    "        pass\n",
    "    \n",
    "    "
   ]
  },
  {
   "cell_type": "code",
   "execution_count": 55,
   "metadata": {},
   "outputs": [
    {
     "ename": "NameError",
     "evalue": "name 'ResourceContentFetcher' is not defined",
     "output_type": "error",
     "traceback": [
      "\u001b[1;31m---------------------------------------------------------------------------\u001b[0m",
      "\u001b[1;31mNameError\u001b[0m                                 Traceback (most recent call last)",
      "\u001b[1;32mc:\\Users\\JBarr\\OneDrive\\Documents\\FinTech\\career_services\\mathemeticsDevelopment\\mathemetics\\Computer_Science\\AdvancedPythonProgramming\\BookWork\\structuralDesignPatterns.ipynb Cell 18'\u001b[0m in \u001b[0;36m<cell line: 1>\u001b[1;34m()\u001b[0m\n\u001b[1;32m----> <a href='vscode-notebook-cell:/c%3A/Users/JBarr/OneDrive/Documents/FinTech/career_services/mathemeticsDevelopment/mathemetics/Computer_Science/AdvancedPythonProgramming/BookWork/structuralDesignPatterns.ipynb#ch0000025?line=0'>1</a>\u001b[0m \u001b[39mclass\u001b[39;00m \u001b[39mURLFetcher\u001b[39;00m(ResourceContentFetcher):\n\u001b[0;32m      <a href='vscode-notebook-cell:/c%3A/Users/JBarr/OneDrive/Documents/FinTech/career_services/mathemeticsDevelopment/mathemetics/Computer_Science/AdvancedPythonProgramming/BookWork/structuralDesignPatterns.ipynb#ch0000025?line=1'>2</a>\u001b[0m     \u001b[39m'''\u001b[39;00m\n\u001b[0;32m      <a href='vscode-notebook-cell:/c%3A/Users/JBarr/OneDrive/Documents/FinTech/career_services/mathemeticsDevelopment/mathemetics/Computer_Science/AdvancedPythonProgramming/BookWork/structuralDesignPatterns.ipynb#ch0000025?line=2'>3</a>\u001b[0m \u001b[39m    Implement the Implementor interface and define its contrete\u001b[39;00m\n\u001b[0;32m      <a href='vscode-notebook-cell:/c%3A/Users/JBarr/OneDrive/Documents/FinTech/career_services/mathemeticsDevelopment/mathemetics/Computer_Science/AdvancedPythonProgramming/BookWork/structuralDesignPatterns.ipynb#ch0000025?line=3'>4</a>\u001b[0m \u001b[39m    implementation\u001b[39;00m\n\u001b[0;32m      <a href='vscode-notebook-cell:/c%3A/Users/JBarr/OneDrive/Documents/FinTech/career_services/mathemeticsDevelopment/mathemetics/Computer_Science/AdvancedPythonProgramming/BookWork/structuralDesignPatterns.ipynb#ch0000025?line=4'>5</a>\u001b[0m \u001b[39m    '''\u001b[39;00m\n\u001b[0;32m      <a href='vscode-notebook-cell:/c%3A/Users/JBarr/OneDrive/Documents/FinTech/career_services/mathemeticsDevelopment/mathemetics/Computer_Science/AdvancedPythonProgramming/BookWork/structuralDesignPatterns.ipynb#ch0000025?line=5'>6</a>\u001b[0m     \u001b[39mdef\u001b[39;00m \u001b[39mfetch\u001b[39m(\u001b[39mself\u001b[39m, path):\n",
      "\u001b[1;31mNameError\u001b[0m: name 'ResourceContentFetcher' is not defined"
     ]
    }
   ],
   "source": [
    "class URLFetcher(ResourceContentFetcher):\n",
    "    '''\n",
    "    Implement the Implementor interface and define its contrete\n",
    "    implementation\n",
    "    '''\n",
    "    def fetch(self, path):\n",
    "        req = urllib.request.Request(path)\n",
    "        with urllib.request.urlopen(req) as response:\n",
    "            if response.code == 200:\n",
    "                the_page = response.read()\n",
    "                print(the_page)"
   ]
  },
  {
   "cell_type": "code",
   "execution_count": 57,
   "metadata": {},
   "outputs": [
    {
     "ename": "NameError",
     "evalue": "name 'ResourceContentFetcher' is not defined",
     "output_type": "error",
     "traceback": [
      "\u001b[1;31m---------------------------------------------------------------------------\u001b[0m",
      "\u001b[1;31mNameError\u001b[0m                                 Traceback (most recent call last)",
      "\u001b[1;32mc:\\Users\\JBarr\\OneDrive\\Documents\\FinTech\\career_services\\mathemeticsDevelopment\\mathemetics\\Computer_Science\\AdvancedPythonProgramming\\BookWork\\structuralDesignPatterns.ipynb Cell 19'\u001b[0m in \u001b[0;36m<cell line: 1>\u001b[1;34m()\u001b[0m\n\u001b[1;32m----> <a href='vscode-notebook-cell:/c%3A/Users/JBarr/OneDrive/Documents/FinTech/career_services/mathemeticsDevelopment/mathemetics/Computer_Science/AdvancedPythonProgramming/BookWork/structuralDesignPatterns.ipynb#ch0000024?line=0'>1</a>\u001b[0m \u001b[39mclass\u001b[39;00m \u001b[39mLocalFileFetcher\u001b[39;00m(ResourceContentFetcher):\n\u001b[0;32m      <a href='vscode-notebook-cell:/c%3A/Users/JBarr/OneDrive/Documents/FinTech/career_services/mathemeticsDevelopment/mathemetics/Computer_Science/AdvancedPythonProgramming/BookWork/structuralDesignPatterns.ipynb#ch0000024?line=1'>2</a>\u001b[0m     \u001b[39m'''\u001b[39;00m\n\u001b[0;32m      <a href='vscode-notebook-cell:/c%3A/Users/JBarr/OneDrive/Documents/FinTech/career_services/mathemeticsDevelopment/mathemetics/Computer_Science/AdvancedPythonProgramming/BookWork/structuralDesignPatterns.ipynb#ch0000024?line=2'>3</a>\u001b[0m \u001b[39m    Implement the Implementor interface and define its concrete implementation.\u001b[39;00m\n\u001b[0;32m      <a href='vscode-notebook-cell:/c%3A/Users/JBarr/OneDrive/Documents/FinTech/career_services/mathemeticsDevelopment/mathemetics/Computer_Science/AdvancedPythonProgramming/BookWork/structuralDesignPatterns.ipynb#ch0000024?line=3'>4</a>\u001b[0m \u001b[39m    \u001b[39;00m\n\u001b[0;32m      <a href='vscode-notebook-cell:/c%3A/Users/JBarr/OneDrive/Documents/FinTech/career_services/mathemeticsDevelopment/mathemetics/Computer_Science/AdvancedPythonProgramming/BookWork/structuralDesignPatterns.ipynb#ch0000024?line=4'>5</a>\u001b[0m \u001b[39m    '''\u001b[39;00m\n\u001b[0;32m      <a href='vscode-notebook-cell:/c%3A/Users/JBarr/OneDrive/Documents/FinTech/career_services/mathemeticsDevelopment/mathemetics/Computer_Science/AdvancedPythonProgramming/BookWork/structuralDesignPatterns.ipynb#ch0000024?line=6'>7</a>\u001b[0m     \u001b[39mdef\u001b[39;00m \u001b[39mfetch\u001b[39m(\u001b[39mself\u001b[39m, path):\n\u001b[0;32m      <a href='vscode-notebook-cell:/c%3A/Users/JBarr/OneDrive/Documents/FinTech/career_services/mathemeticsDevelopment/mathemetics/Computer_Science/AdvancedPythonProgramming/BookWork/structuralDesignPatterns.ipynb#ch0000024?line=7'>8</a>\u001b[0m         \u001b[39m# path is the filepath to the text file\u001b[39;00m\n",
      "\u001b[1;31mNameError\u001b[0m: name 'ResourceContentFetcher' is not defined"
     ]
    }
   ],
   "source": [
    "class LocalFileFetcher(ResourceContentFetcher):\n",
    "    '''\n",
    "    Implement the Implementor interface and define its concrete implementation.\n",
    "    \n",
    "    '''\n",
    "    \n",
    "    def fetch(self, path):\n",
    "        # path is the filepath to the text file\n",
    "        with open(path) as f:\n",
    "            print(r.read())"
   ]
  },
  {
   "cell_type": "code",
   "execution_count": 63,
   "metadata": {},
   "outputs": [],
   "source": [
    "def main():\n",
    "    url_Fetcher = URLFetcher()\n",
    "    iface = ResourceContent(url_Fetcher)\n",
    "    iface.show_content('htt[://python.org')\n",
    "    \n",
    "    print(\"=\" * 20)\n",
    "    \n",
    "    localfs_fetcher = LocalFileFetcher()\n",
    "    iface = ResourceContent(localfs_fetcher)\n",
    "    iface.show_content('file.txt')"
   ]
  },
  {
   "cell_type": "code",
   "execution_count": null,
   "metadata": {},
   "outputs": [],
   "source": []
  },
  {
   "cell_type": "code",
   "execution_count": null,
   "metadata": {},
   "outputs": [],
   "source": []
  },
  {
   "cell_type": "code",
   "execution_count": null,
   "metadata": {},
   "outputs": [],
   "source": []
  },
  {
   "cell_type": "code",
   "execution_count": null,
   "metadata": {},
   "outputs": [],
   "source": []
  },
  {
   "cell_type": "code",
   "execution_count": null,
   "metadata": {},
   "outputs": [],
   "source": []
  },
  {
   "cell_type": "code",
   "execution_count": null,
   "metadata": {},
   "outputs": [],
   "source": []
  },
  {
   "cell_type": "code",
   "execution_count": null,
   "metadata": {},
   "outputs": [],
   "source": []
  },
  {
   "cell_type": "code",
   "execution_count": null,
   "metadata": {},
   "outputs": [],
   "source": []
  },
  {
   "cell_type": "code",
   "execution_count": null,
   "metadata": {},
   "outputs": [],
   "source": []
  },
  {
   "cell_type": "code",
   "execution_count": null,
   "metadata": {},
   "outputs": [],
   "source": []
  },
  {
   "cell_type": "code",
   "execution_count": null,
   "metadata": {},
   "outputs": [],
   "source": []
  },
  {
   "cell_type": "code",
   "execution_count": null,
   "metadata": {},
   "outputs": [],
   "source": []
  },
  {
   "cell_type": "code",
   "execution_count": null,
   "metadata": {},
   "outputs": [],
   "source": []
  },
  {
   "cell_type": "code",
   "execution_count": null,
   "metadata": {},
   "outputs": [],
   "source": []
  },
  {
   "cell_type": "code",
   "execution_count": null,
   "metadata": {},
   "outputs": [],
   "source": []
  },
  {
   "cell_type": "code",
   "execution_count": null,
   "metadata": {},
   "outputs": [],
   "source": []
  },
  {
   "cell_type": "code",
   "execution_count": null,
   "metadata": {},
   "outputs": [],
   "source": []
  },
  {
   "cell_type": "code",
   "execution_count": null,
   "metadata": {},
   "outputs": [],
   "source": []
  },
  {
   "cell_type": "code",
   "execution_count": null,
   "metadata": {},
   "outputs": [],
   "source": []
  },
  {
   "cell_type": "code",
   "execution_count": null,
   "metadata": {},
   "outputs": [],
   "source": []
  },
  {
   "cell_type": "code",
   "execution_count": null,
   "metadata": {},
   "outputs": [],
   "source": []
  },
  {
   "cell_type": "code",
   "execution_count": null,
   "metadata": {},
   "outputs": [],
   "source": []
  }
 ],
 "metadata": {
  "kernelspec": {
   "display_name": "dev",
   "language": "python",
   "name": "dev"
  },
  "language_info": {
   "codemirror_mode": {
    "name": "ipython",
    "version": 3
   },
   "file_extension": ".py",
   "mimetype": "text/x-python",
   "name": "python",
   "nbconvert_exporter": "python",
   "pygments_lexer": "ipython3",
   "version": "3.8.12"
  },
  "orig_nbformat": 4
 },
 "nbformat": 4,
 "nbformat_minor": 2
}
