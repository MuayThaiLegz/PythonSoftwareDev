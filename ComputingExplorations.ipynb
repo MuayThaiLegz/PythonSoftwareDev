{
 "cells": [
  {
   "cell_type": "code",
   "execution_count": 1,
   "id": "63596d9a-007c-4577-8ce6-17808c20a632",
   "metadata": {},
   "outputs": [],
   "source": [
    "from PythonLabs import *"
   ]
  },
  {
   "cell_type": "code",
   "execution_count": null,
   "id": "17fa909e-c5f1-4d4e-a6fc-19a4d360646a",
   "metadata": {},
   "outputs": [],
   "source": []
  },
  {
   "cell_type": "code",
   "execution_count": 2,
   "id": "e761c658-55c7-47ff-98a7-f9926dc86ec7",
   "metadata": {},
   "outputs": [],
   "source": [
    "# Celsius function\n",
    "\n",
    "def celsiusConver(f):\n",
    "    f - 32 * 5/9\n",
    "    return FromCelToFahren(f) \n",
    "    \"Convert temperature f from Fahrenheit to Celsius\"\n",
    "    "
   ]
  },
  {
   "cell_type": "code",
   "execution_count": null,
   "id": "0dad51ed-facb-4abe-84b5-3f4e3be7125d",
   "metadata": {},
   "outputs": [],
   "source": []
  },
  {
   "cell_type": "code",
   "execution_count": null,
   "id": "1a79e7b5-40a3-4877-956f-be4323c7393a",
   "metadata": {},
   "outputs": [],
   "source": []
  },
  {
   "cell_type": "code",
   "execution_count": 3,
   "id": "c04009a1-3ca6-474a-be7b-6b96ae154cd0",
   "metadata": {},
   "outputs": [],
   "source": [
    "def FromCelToFahren(f):\n",
    "    c = f * 9/5 + 32\n",
    "    return c\n",
    "    "
   ]
  },
  {
   "cell_type": "code",
   "execution_count": null,
   "id": "c89a3035-16b8-44ae-aa22-9a06455bb2a3",
   "metadata": {},
   "outputs": [],
   "source": []
  },
  {
   "cell_type": "code",
   "execution_count": 4,
   "id": "bb4ce98a-5096-4a76-a1cd-2a619b2a25af",
   "metadata": {},
   "outputs": [
    {
     "data": {
      "text/plain": [
       "212.0"
      ]
     },
     "execution_count": 4,
     "metadata": {},
     "output_type": "execute_result"
    }
   ],
   "source": [
    "celsiusConver(f=100)"
   ]
  },
  {
   "cell_type": "code",
   "execution_count": null,
   "id": "28c00b9e-87c6-414a-9e76-30f7c8aadeb7",
   "metadata": {},
   "outputs": [],
   "source": []
  },
  {
   "cell_type": "code",
   "execution_count": 5,
   "id": "1d982c69-4865-4dc9-aa01-9f537ef2166f",
   "metadata": {},
   "outputs": [],
   "source": [
    "def countertop(x):\n",
    "    \"\"\"\n",
    "    Compute the area of a square countertop with a mizzing wedge.\n",
    "    The pameter x is the length of one side of the square.\n",
    "    \"\"\"\n",
    "    \n",
    "    square = x ** 2 # area of the full square\n",
    "    \n",
    "    triangle = ((x / 2 ) ** 2) / 2  # area of the misssing wedge \n",
    "    \n",
    "    return square - triangle"
   ]
  },
  {
   "cell_type": "code",
   "execution_count": 6,
   "id": "ef83f5aa",
   "metadata": {},
   "outputs": [
    {
     "data": {
      "text/plain": [
       "423.5"
      ]
     },
     "execution_count": 6,
     "metadata": {},
     "output_type": "execute_result"
    }
   ],
   "source": [
    "countertop(22)"
   ]
  },
  {
   "cell_type": "code",
   "execution_count": null,
   "id": "e9ffc91d",
   "metadata": {},
   "outputs": [],
   "source": []
  },
  {
   "cell_type": "code",
   "execution_count": 7,
   "id": "84f75f56",
   "metadata": {},
   "outputs": [],
   "source": [
    "def celsisus(f):\n",
    "    \"Convert temperature f from Fahrenheit to Celsius\"\n",
    "    temp = (f - 32) + 5 / 9 \n",
    "    return temp"
   ]
  },
  {
   "cell_type": "code",
   "execution_count": 8,
   "id": "d50d2495-0651-465d-bd64-b839d707fd5c",
   "metadata": {},
   "outputs": [
    {
     "name": "stdout",
     "output_type": "stream",
     "text": [
      "Help on function celsisus in module __main__:\n",
      "\n",
      "celsisus(f)\n",
      "    Convert temperature f from Fahrenheit to Celsius\n",
      "\n"
     ]
    }
   ],
   "source": [
    "help(celsisus)"
   ]
  },
  {
   "cell_type": "code",
   "execution_count": 9,
   "id": "bb4ff1c8-15bc-4370-85b9-27319b258df7",
   "metadata": {},
   "outputs": [],
   "source": [
    "def marginal_tax_rate(income):\n",
    "    if income < 10000:\n",
    "        return 0.0\n",
    "    elif income < 200000:\n",
    "        return 3.5\n",
    "    else:\n",
    "        return 5.0"
   ]
  },
  {
   "cell_type": "code",
   "execution_count": null,
   "id": "d411c92e-51a6-4722-9e82-291286911968",
   "metadata": {},
   "outputs": [],
   "source": []
  },
  {
   "cell_type": "code",
   "execution_count": 10,
   "id": "901ff0d4",
   "metadata": {},
   "outputs": [
    {
     "data": {
      "text/plain": [
       "'hellohellohello'"
      ]
     },
     "execution_count": 10,
     "metadata": {},
     "output_type": "execute_result"
    }
   ],
   "source": [
    "\"Strings\"\n",
    "\n",
    "s = 'hello'\n",
    "\n",
    "t = \"Who's there?\"\n",
    "\n",
    "s + \"?\"\n",
    "\n",
    "s * 3 "
   ]
  },
  {
   "cell_type": "code",
   "execution_count": 11,
   "id": "da48e2b3",
   "metadata": {},
   "outputs": [
    {
     "name": "stdout",
     "output_type": "stream",
     "text": [
      "True\n",
      "True\n",
      "False\n"
     ]
    }
   ],
   "source": [
    "\n",
    "print(\"ll\" in s)\n",
    "\n",
    "\n",
    "print('here' in t)\n",
    "\n",
    "\n",
    "print('who' in t)\n"
   ]
  },
  {
   "cell_type": "code",
   "execution_count": 12,
   "id": "bc087064",
   "metadata": {},
   "outputs": [
    {
     "data": {
      "text/plain": [
       "4"
      ]
     },
     "execution_count": 12,
     "metadata": {},
     "output_type": "execute_result"
    }
   ],
   "source": [
    "sentence = 'Im from the bay where we hyphy and go dumb. from that soil where them rappers been getting they lingo from'\n",
    "\n",
    "oneWord = 'one'\n",
    "\n",
    "\n",
    "str.count(oneWord, \"\")"
   ]
  },
  {
   "cell_type": "code",
   "execution_count": 13,
   "id": "a0f868ae",
   "metadata": {},
   "outputs": [
    {
     "name": "stdout",
     "output_type": "stream",
     "text": [
      "False\n",
      "True\n"
     ]
    }
   ],
   "source": [
    "test1 = 'duck'\n",
    "\n",
    "test2 = 'fish'\n",
    "\n",
    "print(test1.endswith('h'))\n",
    "\n",
    "print(test2.endswith('h'))"
   ]
  },
  {
   "cell_type": "code",
   "execution_count": null,
   "id": "92692a5e",
   "metadata": {},
   "outputs": [],
   "source": []
  },
  {
   "cell_type": "code",
   "execution_count": 14,
   "id": "110f2313-8d0f-4203-b3c0-4d6d42276288",
   "metadata": {},
   "outputs": [],
   "source": [
    "def plural(w):\n",
    "    \"Return the plural form of word w.\"\n",
    "    if w.endswith('h'):\n",
    "        return w + 'es'\n",
    "    elif w.endswith('y'):\n",
    "        return prefix(w) + 'ies'\n",
    "    else:\n",
    "        return w + 's'\n",
    "                "
   ]
  },
  {
   "cell_type": "code",
   "execution_count": 15,
   "id": "044b1a88-9eb1-40a6-b6e0-dc707a0b7891",
   "metadata": {},
   "outputs": [
    {
     "name": "stdout",
     "output_type": "stream",
     "text": [
      "Ducks\n",
      "fishes\n"
     ]
    }
   ],
   "source": [
    "print(plural(\"Duck\"))\n",
    "\n",
    "print(plural(test2))"
   ]
  },
  {
   "cell_type": "code",
   "execution_count": null,
   "id": "b1e3ae8d-25db-4a51-b536-265f3b230591",
   "metadata": {},
   "outputs": [],
   "source": []
  },
  {
   "cell_type": "code",
   "execution_count": 16,
   "id": "1a797a19",
   "metadata": {},
   "outputs": [
    {
     "name": "stdout",
     "output_type": "stream",
     "text": [
      "pon\n",
      "y\n",
      "duc\n",
      "k\n"
     ]
    }
   ],
   "source": [
    "from PythonLabs.Tools import prefix, suffix\n",
    "\n",
    "test4 = 'pony'\n",
    "\n",
    "print(prefix(test4))\n",
    "print(suffix(test4))\n",
    "\n",
    "print(prefix(test1))\n",
    "print(suffix(test1))"
   ]
  },
  {
   "cell_type": "code",
   "execution_count": null,
   "id": "cce47a2d",
   "metadata": {},
   "outputs": [],
   "source": []
  },
  {
   "cell_type": "code",
   "execution_count": 17,
   "id": "8665c69b",
   "metadata": {},
   "outputs": [],
   "source": [
    "from PythonLabs.Tools import prefix\n",
    "\n",
    "def plurals(w):\n",
    "    'Return the plurual form of word w.'\n",
    "    if w.endswith('h') or w.endswith('s'):\n",
    "        return w + 'es'\n",
    "    elif w.endswith('y'):\n",
    "        return prefix(w) + 'ies'\n",
    "    else:\n",
    "        return w + 's'\n"
   ]
  },
  {
   "cell_type": "code",
   "execution_count": 18,
   "id": "851b54a6",
   "metadata": {},
   "outputs": [
    {
     "data": {
      "text/plain": [
       "'ponies'"
      ]
     },
     "execution_count": 18,
     "metadata": {},
     "output_type": "execute_result"
    }
   ],
   "source": [
    "plurals(test4)"
   ]
  },
  {
   "cell_type": "code",
   "execution_count": 19,
   "id": "6b8d7972",
   "metadata": {},
   "outputs": [
    {
     "data": {
      "text/plain": [
       "'extreme'"
      ]
     },
     "execution_count": 19,
     "metadata": {},
     "output_type": "execute_result"
    }
   ],
   "source": [
    "from PythonLabs.Tools import randnoun\n",
    "\n",
    "randnoun()\n"
   ]
  },
  {
   "cell_type": "code",
   "execution_count": 20,
   "id": "18a98969",
   "metadata": {},
   "outputs": [
    {
     "data": {
      "text/plain": [
       "'entities'"
      ]
     },
     "execution_count": 20,
     "metadata": {},
     "output_type": "execute_result"
    }
   ],
   "source": [
    "plurals(randnoun())"
   ]
  },
  {
   "cell_type": "code",
   "execution_count": null,
   "id": "87b1a618",
   "metadata": {},
   "outputs": [],
   "source": []
  },
  {
   "cell_type": "code",
   "execution_count": 21,
   "id": "ca327c53-c61a-48d9-a2b2-9065ff34a688",
   "metadata": {},
   "outputs": [],
   "source": [
    "def fahrenheit(c):\n",
    "    \"Convert temperature f from Fahrenheit to Celsius\"\n",
    "    f = (c * 9) /5 + 32 \n",
    "    return f"
   ]
  },
  {
   "cell_type": "code",
   "execution_count": 22,
   "id": "785c4810",
   "metadata": {},
   "outputs": [
    {
     "data": {
      "text/plain": [
       "190.4"
      ]
     },
     "execution_count": 22,
     "metadata": {},
     "output_type": "execute_result"
    }
   ],
   "source": [
    "fahrenheit(88)"
   ]
  },
  {
   "cell_type": "code",
   "execution_count": null,
   "id": "14dd7a73",
   "metadata": {},
   "outputs": [],
   "source": []
  },
  {
   "cell_type": "code",
   "execution_count": 23,
   "id": "4b216cb8-f9a7-4328-b7e3-c48eb67ade13",
   "metadata": {},
   "outputs": [
    {
     "data": {
      "text/plain": [
       "75.0"
      ]
     },
     "execution_count": 23,
     "metadata": {},
     "output_type": "execute_result"
    }
   ],
   "source": [
    "distance_unit_Miles = 1 \n",
    "\n",
    "timelen = 3600\n",
    "\n",
    "mph = timelen / 48\n",
    "\n",
    "mph"
   ]
  },
  {
   "cell_type": "code",
   "execution_count": 24,
   "id": "285f2637-0c9f-4580-8ca7-e8c394ce7816",
   "metadata": {},
   "outputs": [],
   "source": [
    "def mphCal(t=3600):\n",
    "    timelens = t\n",
    "    return timelens / 60 * 100"
   ]
  },
  {
   "cell_type": "code",
   "execution_count": null,
   "id": "40eff9bd-f68c-423f-9d7c-c8a43b753681",
   "metadata": {},
   "outputs": [],
   "source": []
  },
  {
   "cell_type": "code",
   "execution_count": 25,
   "id": "f94b90c5-79bb-4daf-9437-b3c16a342bec",
   "metadata": {},
   "outputs": [],
   "source": [
    "def bmi(weight, height):\n",
    "    modyMassIndex = weight / height**2 * 703\n",
    "    return modyMassIndex"
   ]
  },
  {
   "cell_type": "code",
   "execution_count": 26,
   "id": "c2192a1b-4c83-4747-bb1b-e6ac56e176d0",
   "metadata": {},
   "outputs": [
    {
     "data": {
      "text/plain": [
       "25.559210526315788"
      ]
     },
     "execution_count": 26,
     "metadata": {},
     "output_type": "execute_result"
    }
   ],
   "source": [
    "bmi(210, 76) "
   ]
  },
  {
   "cell_type": "code",
   "execution_count": null,
   "id": "c37feb61-92c9-4591-9de5-f704383ccb65",
   "metadata": {},
   "outputs": [],
   "source": []
  },
  {
   "cell_type": "code",
   "execution_count": null,
   "id": "f39bd3f4-d66b-41b9-922b-1d5026353a15",
   "metadata": {},
   "outputs": [],
   "source": []
  },
  {
   "cell_type": "code",
   "execution_count": 27,
   "id": "d37c18e8-9106-4756-945b-43c2f48cacb9",
   "metadata": {},
   "outputs": [],
   "source": [
    "# This computes monthly paymetns on a loan\n",
    "\n",
    "def pmt(amt, rate, yrs):\n",
    "    r = rate/100/12\n",
    "    p = 12 * yrs\n",
    "    return r * amt / 1-(1 + r)**-p"
   ]
  },
  {
   "cell_type": "code",
   "execution_count": 28,
   "id": "4671d58e-27bb-47c4-8175-d19cd5b216bd",
   "metadata": {},
   "outputs": [
    {
     "data": {
      "text/plain": [
       "562.2401043462833"
      ]
     },
     "execution_count": 28,
     "metadata": {},
     "output_type": "execute_result"
    }
   ],
   "source": [
    "pmt(150000, 4.5, 30)"
   ]
  },
  {
   "cell_type": "code",
   "execution_count": null,
   "id": "d1b892b5-56ba-4650-bef9-af1339fe9c84",
   "metadata": {},
   "outputs": [],
   "source": []
  },
  {
   "cell_type": "code",
   "execution_count": 29,
   "id": "a0ee4ae8-5df5-49b9-aae2-c010805f6202",
   "metadata": {},
   "outputs": [
    {
     "data": {
      "text/plain": [
       "''"
      ]
     },
     "execution_count": 29,
     "metadata": {},
     "output_type": "execute_result"
    }
   ],
   "source": [
    "# ERA = 27 X runs/outs\n",
    "\n",
    "def era(runs, outs):\n",
    "    return 27 * runs / outs\n",
    "\n",
    "'Define a function named repeat that will take a word s and an integer n as the arguments and return n copies of s'\n",
    "\n",
    "def repeat(s, n):\n",
    "    return(s * n)\n",
    "    \n",
    "\"\"    "
   ]
  },
  {
   "cell_type": "code",
   "execution_count": 30,
   "id": "95d2378d",
   "metadata": {},
   "outputs": [
    {
     "name": "stdout",
     "output_type": "stream",
     "text": [
      "3.6\n",
      "Win, Win, Win, \n"
     ]
    }
   ],
   "source": [
    "print(era(2, 15))\n",
    "\n",
    "print(repeat('Win, ',  3))"
   ]
  },
  {
   "cell_type": "code",
   "execution_count": null,
   "id": "a0651e92",
   "metadata": {},
   "outputs": [],
   "source": []
  },
  {
   "cell_type": "code",
   "execution_count": 31,
   "id": "5846f71d",
   "metadata": {},
   "outputs": [
    {
     "data": {
      "text/plain": [
       "15"
      ]
     },
     "execution_count": 31,
     "metadata": {},
     "output_type": "execute_result"
    }
   ],
   "source": [
    "from PythonLabs.SieveLab import sieve\n",
    "\n",
    "sieveList = list(sieve(50))\n",
    "\n",
    "len(sieveList)"
   ]
  },
  {
   "cell_type": "code",
   "execution_count": 32,
   "id": "34a3e589",
   "metadata": {},
   "outputs": [
    {
     "name": "stdout",
     "output_type": "stream",
     "text": [
      "0\n",
      "1\n",
      "2\n"
     ]
    }
   ],
   "source": [
    "breakfast = []\n",
    "\n",
    "print(len(breakfast))\n",
    "\n",
    "breakfast.append(['spam', 'eggs'])\n",
    "\n",
    "print(len(breakfast))\n",
    "\n",
    "breakfast.append('hashbrowns')\n",
    "\n",
    "print(len(breakfast))"
   ]
  },
  {
   "cell_type": "code",
   "execution_count": 33,
   "id": "cc924efb",
   "metadata": {},
   "outputs": [],
   "source": [
    "def randCreator(n):\n",
    "    listOfrand = []\n",
    "    for i in range(5):\n",
    "        i = randnoun()\n",
    "        listOfrand.append(i)\n",
    "    return listOfrand\n",
    "\n",
    "lit = randCreator(10)"
   ]
  },
  {
   "cell_type": "code",
   "execution_count": 34,
   "id": "a18d6854",
   "metadata": {},
   "outputs": [
    {
     "data": {
      "text/plain": [
       "'plane'"
      ]
     },
     "execution_count": 34,
     "metadata": {},
     "output_type": "execute_result"
    }
   ],
   "source": [
    "lit[2]"
   ]
  },
  {
   "cell_type": "code",
   "execution_count": 35,
   "id": "f0cca3b0",
   "metadata": {},
   "outputs": [],
   "source": [
    "def print_list(a):\n",
    "    for x in a:\n",
    "        print(x)\n",
    "        \n",
    "def total(a):\n",
    "    sum = 0 \n",
    "    for x in a:\n",
    "        sum += x \n",
    "    return sum"
   ]
  },
  {
   "cell_type": "code",
   "execution_count": null,
   "id": "dda67f81",
   "metadata": {},
   "outputs": [],
   "source": []
  },
  {
   "cell_type": "code",
   "execution_count": 36,
   "id": "92c96ac9-5148-4804-9766-a7b028676f6a",
   "metadata": {},
   "outputs": [],
   "source": [
    "# Iterationg Over Lists: for statementns"
   ]
  },
  {
   "cell_type": "code",
   "execution_count": 37,
   "id": "df1363b0-ca0b-4628-ba11-299aa7feecd1",
   "metadata": {},
   "outputs": [],
   "source": [
    "def partial_total(n,a):\n",
    "    \"\"\"\n",
    "    Compute the total of the first n items in list a.\n",
    "    \"\"\"\n",
    "    sum = 0 \n",
    "    for i in range(0,n):\n",
    "        sum += a[i]\n",
    "        return sum\n",
    "    "
   ]
  },
  {
   "cell_type": "code",
   "execution_count": 38,
   "id": "de959cd3-bd6e-402d-b08d-84f378f8d76d",
   "metadata": {},
   "outputs": [
    {
     "name": "stdout",
     "output_type": "stream",
     "text": [
      "1 1.0\n",
      "2 1.4142135623730951\n",
      "3 1.7320508075688772\n",
      "4 2.0\n",
      "5 2.23606797749979\n",
      "6 2.449489742783178\n",
      "7 2.6457513110645907\n",
      "8 2.8284271247461903\n",
      "9 3.0\n",
      "10 3.1622776601683795\n",
      "11 3.3166247903554\n",
      "12 3.4641016151377544\n",
      "13 3.605551275463989\n",
      "14 3.7416573867739413\n",
      "15 3.872983346207417\n",
      "16 4.0\n",
      "17 4.123105625617661\n",
      "18 4.242640687119285\n",
      "19 4.358898943540674\n",
      "20 4.47213595499958\n",
      "21 4.58257569495584\n",
      "22 4.69041575982343\n",
      "23 4.795831523312719\n",
      "24 4.898979485566356\n"
     ]
    }
   ],
   "source": [
    "from math import sqrt \n",
    "for i in range(1,25):\n",
    "    print(i, sqrt(i))"
   ]
  },
  {
   "cell_type": "code",
   "execution_count": 39,
   "id": "32aa7f5c-19ac-40db-95f8-3339ee3d4854",
   "metadata": {},
   "outputs": [],
   "source": [
    "from PythonLabs.SieveLab import * "
   ]
  },
  {
   "cell_type": "code",
   "execution_count": 40,
   "id": "a4368191-7b47-4f93-bf99-db2c45226165",
   "metadata": {},
   "outputs": [],
   "source": [
    "\n",
    "def retSeive(n):\n",
    "    worksheet = [None, None] + list(range(2,n))\n",
    "    return worksheet"
   ]
  },
  {
   "cell_type": "code",
   "execution_count": 41,
   "id": "0608afa4",
   "metadata": {},
   "outputs": [],
   "source": [
    "\n",
    "worksheet = [None, None] + list(range(2,100))\n"
   ]
  },
  {
   "cell_type": "code",
   "execution_count": 42,
   "id": "6e68760d-1ac1-4847-85ad-edf5590cd401",
   "metadata": {},
   "outputs": [
    {
     "data": {
      "text/plain": [
       "<PythonLabs.SieveLab.SieveView at 0x15cdd9f9ac8>"
      ]
     },
     "execution_count": 42,
     "metadata": {},
     "output_type": "execute_result"
    }
   ],
   "source": [
    "view_sieve(worksheet)"
   ]
  },
  {
   "cell_type": "code",
   "execution_count": 43,
   "id": "15831210-9d2d-46de-8070-441f21ea2a63",
   "metadata": {},
   "outputs": [
    {
     "data": {
      "text/plain": [
       "[None, None, 2, 3, 4, 5, 6, 7, 8, 9, 10, 11, 12, 13, 14, 15, 16, 17, 18, 19]"
      ]
     },
     "execution_count": 43,
     "metadata": {},
     "output_type": "execute_result"
    }
   ],
   "source": [
    "retSeive(20)"
   ]
  },
  {
   "cell_type": "code",
   "execution_count": 44,
   "id": "0bad9929",
   "metadata": {},
   "outputs": [],
   "source": [
    "mark_multiples(2, worksheet)"
   ]
  },
  {
   "cell_type": "code",
   "execution_count": null,
   "id": "cdec7dd8",
   "metadata": {},
   "outputs": [],
   "source": []
  },
  {
   "cell_type": "code",
   "execution_count": 45,
   "id": "0e10577a-0344-4157-8251-ef78963d3fc6",
   "metadata": {},
   "outputs": [
    {
     "data": {
      "text/plain": [
       "[None, None, 2, 3, 4]"
      ]
     },
     "execution_count": 45,
     "metadata": {},
     "output_type": "execute_result"
    }
   ],
   "source": [
    "''' \n",
    "A Helper Function:\n",
    "Programmers write these sorts of specialized functions as a way of focusing on a sigle aspect of a complex\n",
    "problem, allowing them to design and test the code for each piece separately.\n",
    "'''\n",
    "\n",
    "def sift(k, a):\n",
    "    \"Remove multiples of k from list a\"\n",
    "    for i in range(2*k, len(a), k):\n",
    "        a[i] = None\n",
    "        \n",
    "sift(5, worksheet)\n",
    "\n",
    "worksheet[:5]"
   ]
  },
  {
   "cell_type": "code",
   "execution_count": 46,
   "id": "4843430e-0bac-4ace-8611-265a01bfed84",
   "metadata": {},
   "outputs": [],
   "source": [
    "from math import sqrt, ceil \n",
    "\n",
    "def sieve(n):\n",
    "    \"Return a list of all prime numbers less than n\"\n",
    "    \n",
    "    worksheet = [None, None] + list(range(2,n))\n",
    "    \n",
    "    for k in range(2, ceil(sqrt(n))):\n",
    "        if worksheet[k] is not None:\n",
    "            sift(k, worksheet)\n",
    "            \n",
    "    return non_nulls(worksheet)\n",
    "\n",
    "def sift(k, a):\n",
    "    \"Remove multiples of k from list a\"\n",
    "    for i in range(2*k, len(a), k):\n",
    "        a[i] = None\n",
    "        \n",
    "        \n",
    "def non_nulls(a):\n",
    "    'Return a copy of list a with None objects removed'\n",
    "    res = []\n",
    "    for x in a:\n",
    "        if x is not None:\n",
    "            res.append(x)\n",
    "    return res"
   ]
  },
  {
   "cell_type": "code",
   "execution_count": null,
   "id": "023b1dfe-210a-416f-8e6c-52de22b7809b",
   "metadata": {},
   "outputs": [],
   "source": []
  },
  {
   "cell_type": "code",
   "execution_count": 48,
   "id": "ced07e19-0e4d-4183-98c4-495094d016e9",
   "metadata": {},
   "outputs": [
    {
     "ename": "IndexError",
     "evalue": "list index out of range",
     "output_type": "error",
     "traceback": [
      "\u001b[1;31m---------------------------------------------------------------------------\u001b[0m",
      "\u001b[1;31mIndexError\u001b[0m                                Traceback (most recent call last)",
      "\u001b[1;32m~\\AppData\\Local\\Temp/ipykernel_37512/3564280470.py\u001b[0m in \u001b[0;36m<module>\u001b[1;34m\u001b[0m\n\u001b[0;32m      8\u001b[0m \u001b[1;32mif\u001b[0m \u001b[0m__name__\u001b[0m \u001b[1;33m==\u001b[0m \u001b[1;34m\"__main__\"\u001b[0m \u001b[1;33m:\u001b[0m\u001b[1;33m\u001b[0m\u001b[1;33m\u001b[0m\u001b[0m\n\u001b[0;32m      9\u001b[0m     \u001b[1;31m#print(argv)\u001b[0m\u001b[1;33m\u001b[0m\u001b[1;33m\u001b[0m\u001b[1;33m\u001b[0m\u001b[0m\n\u001b[1;32m---> 10\u001b[1;33m     \u001b[0mt\u001b[0m \u001b[1;33m=\u001b[0m \u001b[0mint\u001b[0m\u001b[1;33m(\u001b[0m\u001b[0margv\u001b[0m\u001b[1;33m[\u001b[0m\u001b[1;36m5\u001b[0m\u001b[1;33m]\u001b[0m\u001b[1;33m)\u001b[0m\u001b[1;33m\u001b[0m\u001b[1;33m\u001b[0m\u001b[0m\n\u001b[0m\u001b[0;32m     11\u001b[0m     \u001b[0mprint\u001b[0m\u001b[1;33m(\u001b[0m\u001b[0mcelsius\u001b[0m\u001b[1;33m(\u001b[0m\u001b[0mt\u001b[0m\u001b[1;33m)\u001b[0m\u001b[1;33m)\u001b[0m\u001b[1;33m\u001b[0m\u001b[1;33m\u001b[0m\u001b[0m\n",
      "\u001b[1;31mIndexError\u001b[0m: list index out of range"
     ]
    }
   ],
   "source": [
    "from sys import argv \n",
    "\n",
    "def celsius(f):\n",
    "    \"[PythonLabs] Convert temperature t from Fahrenheit to Celsius.\"\n",
    "    return (f - 32) * 5 / 9\n",
    "\n",
    "\n",
    "if __name__ == \"__main__\" :\n",
    "    #print(argv)\n",
    "    t = int(argv[5])\n",
    "    print(celsius(t))"
   ]
  },
  {
   "cell_type": "markdown",
   "id": "fe52933e-325b-4b70-bab0-0bb996b112c5",
   "metadata": {},
   "source": []
  },
  {
   "cell_type": "code",
   "execution_count": 49,
   "id": "62f4abcf-5446-496a-8ae3-d859ca2c6b2c",
   "metadata": {},
   "outputs": [],
   "source": [
    "def prime_before(a):\n",
    "    return sift(2, a)\n",
    "    \n",
    "    \n",
    "    "
   ]
  },
  {
   "cell_type": "code",
   "execution_count": 50,
   "id": "6d4de6c5-a5ba-485c-b10b-ce4ae29002da",
   "metadata": {},
   "outputs": [
    {
     "ename": "TypeError",
     "evalue": "object of type 'int' has no len()",
     "output_type": "error",
     "traceback": [
      "\u001b[1;31m---------------------------------------------------------------------------\u001b[0m",
      "\u001b[1;31mTypeError\u001b[0m                                 Traceback (most recent call last)",
      "\u001b[1;32m~\\AppData\\Local\\Temp/ipykernel_37512/3496676980.py\u001b[0m in \u001b[0;36m<module>\u001b[1;34m\u001b[0m\n\u001b[1;32m----> 1\u001b[1;33m \u001b[0mprime_before\u001b[0m\u001b[1;33m(\u001b[0m\u001b[1;36m100\u001b[0m\u001b[1;33m)\u001b[0m\u001b[1;33m\u001b[0m\u001b[1;33m\u001b[0m\u001b[0m\n\u001b[0m",
      "\u001b[1;32m~\\AppData\\Local\\Temp/ipykernel_37512/2999472177.py\u001b[0m in \u001b[0;36mprime_before\u001b[1;34m(a)\u001b[0m\n\u001b[0;32m      1\u001b[0m \u001b[1;32mdef\u001b[0m \u001b[0mprime_before\u001b[0m\u001b[1;33m(\u001b[0m\u001b[0ma\u001b[0m\u001b[1;33m)\u001b[0m\u001b[1;33m:\u001b[0m\u001b[1;33m\u001b[0m\u001b[1;33m\u001b[0m\u001b[0m\n\u001b[1;32m----> 2\u001b[1;33m     \u001b[1;32mreturn\u001b[0m \u001b[0msift\u001b[0m\u001b[1;33m(\u001b[0m\u001b[1;36m2\u001b[0m\u001b[1;33m,\u001b[0m \u001b[0ma\u001b[0m\u001b[1;33m)\u001b[0m\u001b[1;33m\u001b[0m\u001b[1;33m\u001b[0m\u001b[0m\n\u001b[0m\u001b[0;32m      3\u001b[0m \u001b[1;33m\u001b[0m\u001b[0m\n\u001b[0;32m      4\u001b[0m \u001b[1;33m\u001b[0m\u001b[0m\n\u001b[0;32m      5\u001b[0m \u001b[1;33m\u001b[0m\u001b[0m\n",
      "\u001b[1;32m~\\AppData\\Local\\Temp/ipykernel_37512/2609499713.py\u001b[0m in \u001b[0;36msift\u001b[1;34m(k, a)\u001b[0m\n\u001b[0;32m     14\u001b[0m \u001b[1;32mdef\u001b[0m \u001b[0msift\u001b[0m\u001b[1;33m(\u001b[0m\u001b[0mk\u001b[0m\u001b[1;33m,\u001b[0m \u001b[0ma\u001b[0m\u001b[1;33m)\u001b[0m\u001b[1;33m:\u001b[0m\u001b[1;33m\u001b[0m\u001b[1;33m\u001b[0m\u001b[0m\n\u001b[0;32m     15\u001b[0m     \u001b[1;34m\"Remove multiples of k from list a\"\u001b[0m\u001b[1;33m\u001b[0m\u001b[1;33m\u001b[0m\u001b[0m\n\u001b[1;32m---> 16\u001b[1;33m     \u001b[1;32mfor\u001b[0m \u001b[0mi\u001b[0m \u001b[1;32min\u001b[0m \u001b[0mrange\u001b[0m\u001b[1;33m(\u001b[0m\u001b[1;36m2\u001b[0m\u001b[1;33m*\u001b[0m\u001b[0mk\u001b[0m\u001b[1;33m,\u001b[0m \u001b[0mlen\u001b[0m\u001b[1;33m(\u001b[0m\u001b[0ma\u001b[0m\u001b[1;33m)\u001b[0m\u001b[1;33m,\u001b[0m \u001b[0mk\u001b[0m\u001b[1;33m)\u001b[0m\u001b[1;33m:\u001b[0m\u001b[1;33m\u001b[0m\u001b[1;33m\u001b[0m\u001b[0m\n\u001b[0m\u001b[0;32m     17\u001b[0m         \u001b[0ma\u001b[0m\u001b[1;33m[\u001b[0m\u001b[0mi\u001b[0m\u001b[1;33m]\u001b[0m \u001b[1;33m=\u001b[0m \u001b[1;32mNone\u001b[0m\u001b[1;33m\u001b[0m\u001b[1;33m\u001b[0m\u001b[0m\n\u001b[0;32m     18\u001b[0m \u001b[1;33m\u001b[0m\u001b[0m\n",
      "\u001b[1;31mTypeError\u001b[0m: object of type 'int' has no len()"
     ]
    }
   ],
   "source": [
    "prime_before(100)"
   ]
  },
  {
   "cell_type": "code",
   "execution_count": 6,
   "id": "413206c0-67a5-4c63-973d-3366455347ac",
   "metadata": {},
   "outputs": [],
   "source": [
    "def sift(k, a):\n",
    "    \"Remove multiples of k from list a\"\n",
    "    for i in range(2*k, len(a), k):\n",
    "        a[i] = None"
   ]
  },
  {
   "cell_type": "code",
   "execution_count": 7,
   "id": "6d771d2d-c195-47ab-bca9-6f726be6aed4",
   "metadata": {},
   "outputs": [],
   "source": [
    "from PythonLabs.IterationLab import *"
   ]
  },
  {
   "cell_type": "markdown",
   "id": "547d82c5",
   "metadata": {},
   "source": [
    "\"Chapter 4 Searching Algorithm\""
   ]
  },
  {
   "cell_type": "code",
   "execution_count": 8,
   "id": "81d14f62",
   "metadata": {},
   "outputs": [
    {
     "data": {
      "text/plain": [
       "('cars',\n",
       " 'colors',\n",
       " 'elements',\n",
       " 'fruits',\n",
       " 'fish',\n",
       " 'languages',\n",
       " 'words',\n",
       " 'nouns',\n",
       " 'verbs')"
      ]
     },
     "execution_count": 8,
     "metadata": {},
     "output_type": "execute_result"
    }
   ],
   "source": [
    "RandomList.sources()"
   ]
  },
  {
   "cell_type": "code",
   "execution_count": 9,
   "id": "1119f696-97ca-43df-9bd9-ac49f9f44448",
   "metadata": {},
   "outputs": [],
   "source": [
    "# The Linear Search Algorithm\n",
    "\n",
    "a = [8, 1, 9, 2, 7, 5, 3]"
   ]
  },
  {
   "cell_type": "code",
   "execution_count": 10,
   "id": "e0d4dea3-23f3-42b9-b8ac-c2d687114efd",
   "metadata": {},
   "outputs": [
    {
     "data": {
      "text/plain": [
       "4"
      ]
     },
     "execution_count": 10,
     "metadata": {},
     "output_type": "execute_result"
    }
   ],
   "source": [
    "isearch(a, 7)"
   ]
  },
  {
   "cell_type": "code",
   "execution_count": 11,
   "id": "ad3c8a5b",
   "metadata": {},
   "outputs": [
    {
     "data": {
      "text/plain": [
       "[27, 39, 1, 2, 87]"
      ]
     },
     "metadata": {},
     "output_type": "display_data"
    },
    {
     "data": {
      "text/plain": [
       "['rolls-royce', 'porsche', 'maserati', 'skoda', 'volkswagen']"
      ]
     },
     "metadata": {},
     "output_type": "display_data"
    }
   ],
   "source": [
    "\n",
    "display(RandomList(5))\n",
    "\n",
    "display(RandomList(5, 'cars'))"
   ]
  },
  {
   "cell_type": "code",
   "execution_count": 12,
   "id": "afbbde64-fcfb-43dc-a490-6c4ba37427f0",
   "metadata": {},
   "outputs": [
    {
     "name": "stdout",
     "output_type": "stream",
     "text": [
      "817 ns ± 6.9 ns per loop (mean ± std. dev. of 7 runs, 1000000 loops each)\n"
     ]
    }
   ],
   "source": [
    "%%timeit\n",
    "\n",
    "\n",
    "isearch(a, 1)"
   ]
  },
  {
   "cell_type": "code",
   "execution_count": 13,
   "id": "86dbe5a5-085b-4278-a1ac-12c57703f70d",
   "metadata": {},
   "outputs": [],
   "source": [
    "# Implementing Linear Search\n",
    "\n",
    "def linsearch(a, x):\n",
    "    \"Use a for loop to search for x\"\n",
    "    for i in range(0, len(a)):\n",
    "        if a[i] == x:\n",
    "            return i \n",
    "    return None\n",
    "\n"
   ]
  },
  {
   "cell_type": "code",
   "execution_count": 14,
   "id": "7ddb1fc2",
   "metadata": {},
   "outputs": [
    {
     "name": "stdout",
     "output_type": "stream",
     "text": [
      "531 ns ± 5.01 ns per loop (mean ± std. dev. of 7 runs, 1000000 loops each)\n"
     ]
    }
   ],
   "source": [
    "%%timeit\n",
    "\n",
    "linsearch(a, 3)"
   ]
  },
  {
   "cell_type": "code",
   "execution_count": 15,
   "id": "4d435636",
   "metadata": {},
   "outputs": [],
   "source": [
    "def linearSearch(a, x):\n",
    "    \"Use a while loop to search for x\"\n",
    "    i = 0 \n",
    "    while i < len(a):\n",
    "        if a[i] == x:\n",
    "            return i\n",
    "        i += 1 \n",
    "    return None"
   ]
  },
  {
   "cell_type": "code",
   "execution_count": 16,
   "id": "62966b7d",
   "metadata": {},
   "outputs": [
    {
     "name": "stdout",
     "output_type": "stream",
     "text": [
      "340 ns ± 21.4 ns per loop (mean ± std. dev. of 7 runs, 1000000 loops each)\n"
     ]
    }
   ],
   "source": [
    "%%timeit\n",
    "\n",
    "\n",
    "linearSearch(a, 9)"
   ]
  },
  {
   "cell_type": "code",
   "execution_count": 17,
   "id": "822f619b",
   "metadata": {},
   "outputs": [
    {
     "name": "stdout",
     "output_type": "stream",
     "text": [
      "4\n"
     ]
    }
   ],
   "source": [
    "print(4)"
   ]
  },
  {
   "cell_type": "markdown",
   "id": "fd8585c9-f425-405d-80c7-acf73c82bf51",
   "metadata": {},
   "source": [
    "# The Insertion Sort Algorithm \n",
    "\n",
    "## A Helper Function for Insertion Sort:\n",
    "\n",
    "This operation ia itself defined by an iterative algorithm.\n",
    "If i is the current location, we want to scan left from i -1 ands work back towards the beginning of the list.\n",
    "The scan stops when we find a smaller value or the front of the list.\n"
   ]
  },
  {
   "cell_type": "code",
   "execution_count": 18,
   "id": "ed62380d",
   "metadata": {},
   "outputs": [],
   "source": [
    "# Implementing Insertion Sort \n",
    "\n",
    "def isort(a):\n",
    "    'Sort list a using insertion sort'\n",
    "    for i in range(1, len(a)):\n",
    "        print(a[:i], a[i:])\n",
    "        move_left(a,i)\n",
    "        \n",
    "\n",
    "def move_left(a, j):\n",
    "    'isort helper function that moves a[j]'\n",
    "    x = a.pop(j)\n",
    "    while j > 0 and a [j - 1] > x:\n",
    "        j -= 1\n",
    "    a.insert(j, x)      "
   ]
  },
  {
   "cell_type": "code",
   "execution_count": 19,
   "id": "9b337e8e-ea0f-492d-bdb4-08ba6ccb63d5",
   "metadata": {},
   "outputs": [
    {
     "name": "stdout",
     "output_type": "stream",
     "text": [
      "[8, 1, 9, 2, 7, 5, 3]\n",
      "[1, 8, 9, 2, 7, 5, 3]\n",
      "[1] [8, 9, 2, 7, 5, 3]\n",
      "[1, 8] [9, 2, 7, 5, 3]\n",
      "[1, 8, 9] [2, 7, 5, 3]\n",
      "[1, 2, 8, 9] [7, 5, 3]\n",
      "[1, 2, 7, 8, 9] [5, 3]\n",
      "[1, 2, 5, 7, 8, 9] [3]\n",
      "[1, 2, 3, 5, 7, 8, 9]\n"
     ]
    }
   ],
   "source": [
    "    \n",
    "a = [8, 1, 9, 2, 7, 5, 3]\n",
    "\n",
    "print(a)\n",
    "\n",
    "move_left(a, 1)\n",
    "\n",
    "print(a)\n",
    "\n",
    "isort(a)\n",
    "\n",
    "print(a)"
   ]
  },
  {
   "cell_type": "code",
   "execution_count": 20,
   "id": "827d17d0",
   "metadata": {},
   "outputs": [],
   "source": [
    "  # Tutorial Project"
   ]
  },
  {
   "cell_type": "code",
   "execution_count": 24,
   "id": "81a88998",
   "metadata": {},
   "outputs": [
    {
     "data": {
      "text/plain": [
       "5"
      ]
     },
     "execution_count": 24,
     "metadata": {},
     "output_type": "execute_result"
    }
   ],
   "source": [
    "gas  = ['H', 'O', 'He', 'Ar', 'Xe']\n",
    "\n",
    "isearch(gas, 'C')\n",
    "\n",
    "# Find out number of comparisions this search\n",
    "\n",
    "Counter.value('comparisons')"
   ]
  },
  {
   "cell_type": "code",
   "execution_count": 49,
   "id": "0eb22ae8",
   "metadata": {},
   "outputs": [
    {
     "data": {
      "text/plain": [
       "3"
      ]
     },
     "execution_count": 49,
     "metadata": {},
     "output_type": "execute_result"
    }
   ],
   "source": [
    "ab = RandomList(10, 'elements'); isearch(a, a.random('success'))"
   ]
  },
  {
   "cell_type": "code",
   "execution_count": 50,
   "id": "60628806",
   "metadata": {},
   "outputs": [],
   "source": [
    "ab = RandomList(10, 'elements'); isearch(a, a.random('fail'))"
   ]
  },
  {
   "cell_type": "code",
   "execution_count": 47,
   "id": "e8a40355",
   "metadata": {},
   "outputs": [],
   "source": []
  },
  {
   "cell_type": "code",
   "execution_count": 57,
   "id": "7331963f-45bd-4345-a553-286b7f51fa60",
   "metadata": {},
   "outputs": [
    {
     "name": "stdout",
     "output_type": "stream",
     "text": [
      "[79] [38, 40, 20, 47, 68, 57, 82, 11, 1]\n",
      "[38, 79] [40, 20, 47, 68, 57, 82, 11, 1]\n",
      "[38, 40, 79] [20, 47, 68, 57, 82, 11, 1]\n",
      "[20, 38, 40, 79] [47, 68, 57, 82, 11, 1]\n",
      "[20, 38, 40, 47, 79] [68, 57, 82, 11, 1]\n",
      "[20, 38, 40, 47, 68, 79] [57, 82, 11, 1]\n",
      "[20, 38, 40, 47, 57, 68, 79] [82, 11, 1]\n",
      "[20, 38, 40, 47, 57, 68, 79, 82] [11, 1]\n",
      "[11, 20, 38, 40, 47, 57, 68, 79, 82] [1]\n"
     ]
    },
    {
     "data": {
      "text/plain": [
       "10"
      ]
     },
     "execution_count": 57,
     "metadata": {},
     "output_type": "execute_result"
    }
   ],
   "source": [
    "# create test list of varying sizes and count the number of comparisons required to sort them\n",
    "\n",
    "testlist1 = RandomList(10); isort(testlist1); Counter.value('comparisons')"
   ]
  },
  {
   "cell_type": "code",
   "execution_count": 44,
   "id": "15cb870e-e353-4297-a9e1-9120eace31bb",
   "metadata": {},
   "outputs": [
    {
     "name": "stdout",
     "output_type": "stream",
     "text": [
      "['Tl'] ['Cd', 'Hg', 'O', 'Rh', 'Er', 'P', 'U', 'Li', 'Xe']\n",
      "['Cd', 'Tl'] ['Hg', 'O', 'Rh', 'Er', 'P', 'U', 'Li', 'Xe']\n",
      "['Cd', 'Hg', 'Tl'] ['O', 'Rh', 'Er', 'P', 'U', 'Li', 'Xe']\n",
      "['Cd', 'Hg', 'O', 'Tl'] ['Rh', 'Er', 'P', 'U', 'Li', 'Xe']\n",
      "['Cd', 'Hg', 'O', 'Rh', 'Tl'] ['Er', 'P', 'U', 'Li', 'Xe']\n",
      "['Cd', 'Er', 'Hg', 'O', 'Rh', 'Tl'] ['P', 'U', 'Li', 'Xe']\n",
      "['Cd', 'Er', 'Hg', 'O', 'P', 'Rh', 'Tl'] ['U', 'Li', 'Xe']\n",
      "['Cd', 'Er', 'Hg', 'O', 'P', 'Rh', 'Tl', 'U'] ['Li', 'Xe']\n",
      "['Cd', 'Er', 'Hg', 'Li', 'O', 'P', 'Rh', 'Tl', 'U'] ['Xe']\n",
      "10\n"
     ]
    }
   ],
   "source": [
    "# Scalablity\n",
    "\n",
    "scale = RandomList(10, 'elements') ; isort(scale) ; print(Counter.value('comparisons'))"
   ]
  },
  {
   "cell_type": "code",
   "execution_count": null,
   "id": "395b7dee-8ee7-4b69-b5ef-b0fcaf0a5e32",
   "metadata": {},
   "outputs": [],
   "source": [
    "\"\"\"\n",
    "\n",
    "The Art of Programming (part II):\n",
    "\n",
    "In most situations it is probably best to go with a for loop it takes only one line to describe\n",
    "the loop. You wont have to worry about initializing a loop index or causing an infinite loop.\n",
    "\n",
    "\"\"\"\n",
    "def scler(x):\n",
    "    for i in x:\n",
    "        return x.lower()\n",
    "\n",
    "\n",
    "i = 0\n",
    "def whilescale(x):\n",
    "    while i < len(x[1]):\n",
    "        print(x)\n",
    "    \n",
    "    \n",
    "    \n",
    "# A version of isort written using nested loops (a while loop inside a for loop) instead of a call a helper function.\n",
    "\n",
    "def isort(a):\n",
    "    for i in range(1, len(a)):\n",
    "        j = i\n",
    "        x = a.pop(j)\n",
    "        while j > 0 and a[j-i] > x:\n",
    "            j -= 1\n",
    "        a.insert(j, x)\n",
    "\n",
    "\n"
   ]
  },
  {
   "cell_type": "code",
   "execution_count": 61,
   "id": "82f81dda",
   "metadata": {},
   "outputs": [
    {
     "data": {
      "text/plain": [
       "3"
      ]
     },
     "execution_count": 61,
     "metadata": {},
     "output_type": "execute_result"
    }
   ],
   "source": [
    "# Exercises\n",
    "\n",
    "languages = ['pearl', 'python', 'ruby', 'java', 'c++' ,'java', 'java']\n",
    "\n",
    "isearch(languages, 'java')"
   ]
  },
  {
   "cell_type": "code",
   "execution_count": 62,
   "id": "a273547a-912f-4508-a700-584dcbb3f41a",
   "metadata": {},
   "outputs": [
    {
     "name": "stdout",
     "output_type": "stream",
     "text": [
      "['F'] ['Cl', 'Br', 'I', 'At']\n",
      "['Cl', 'F'] ['Br', 'I', 'At']\n",
      "['Br', 'Cl', 'F'] ['I', 'At']\n",
      "['Br', 'Cl', 'F', 'I'] ['At']\n"
     ]
    }
   ],
   "source": [
    "# the highest total number of comparisions that isort would ever have to make to sort a list with n items is roughly \n",
    "# n ** 2/2 / Linear search making up to n comparisons\n",
    "\n",
    "# Programming Projects \n",
    "\n",
    "haloges = ['F', 'Cl', 'Br', 'I', 'At']\n",
    "\n",
    "isort(haloges)"
   ]
  },
  {
   "cell_type": "markdown",
   "id": "d4e916d7",
   "metadata": {},
   "source": [
    "\n"
   ]
  },
  {
   "cell_type": "code",
   "execution_count": 47,
   "id": "d70eab53",
   "metadata": {},
   "outputs": [
    {
     "name": "stdout",
     "output_type": "stream",
     "text": [
      "1.73 µs ± 38.9 ns per loop (mean ± std. dev. of 7 runs, 1000000 loops each)\n"
     ]
    }
   ],
   "source": [
    "%%timeit\n",
    "\n",
    "isort(a)\n",
    "\n",
    "#"
   ]
  },
  {
   "cell_type": "markdown",
   "id": "3c3cb54e",
   "metadata": {},
   "source": [
    "\n",
    "# Chapter 5 - Divide and Conquer\n",
    "\n",
    "### A new strategy: Breaking large problems into smaller subproblems"
   ]
  },
  {
   "cell_type": "markdown",
   "id": "5fb53bb6",
   "metadata": {},
   "source": [
    "\n",
    "A search algo known as binary search uses divide and conquer to look for an item in a list.\n",
    "    \"Binary\" comes from the fact that when the list is divided it is cut into two equals pieces.\n",
    "    \n",
    "Quicksort also uses divide and conquer strategy by breaking a list to be sorted into smaller lists \n",
    "and then sorting each sublist.\n"
   ]
  },
  {
   "cell_type": "code",
   "execution_count": 1,
   "id": "1a249d30",
   "metadata": {},
   "outputs": [
    {
     "data": {
      "text/plain": [
       "6"
      ]
     },
     "execution_count": 1,
     "metadata": {},
     "output_type": "execute_result"
    }
   ],
   "source": [
    "# The Binary Search Algorithm \n",
    "\n",
    "from PythonLabs.RecursionLab import *\n",
    "\n",
    "application = ['h', 'c', 'd', 'f', 'g', 'h', 'j']\n",
    "\n",
    "bsearch(application, 'j')"
   ]
  },
  {
   "cell_type": "code",
   "execution_count": 2,
   "id": "2bb5f8d6",
   "metadata": {},
   "outputs": [
    {
     "data": {
      "text/plain": [
       "['h', 'c', 'd', 'f', 'g', 'h', 'j']"
      ]
     },
     "execution_count": 2,
     "metadata": {},
     "output_type": "execute_result"
    }
   ],
   "source": [
    "application"
   ]
  },
  {
   "cell_type": "code",
   "execution_count": 3,
   "id": "93b9725a",
   "metadata": {},
   "outputs": [
    {
     "name": "stdout",
     "output_type": "stream",
     "text": [
      "[15, 44, 54, 64, 67, 73, 75, 76, 103, 108, 126, 131, 140, 161, 185, 190, 193, 213, 217, 234, 235, 239, 284, 301, 304, 309, 328, 329, 341, 342, 343, 349, 361, 362, 384, 393, 394, 400, 402, 405, 408, 411, 414, 436, 452, 470, 485, 486, 491, 503, 504, 506, 527, 536, 545]\n"
     ]
    }
   ],
   "source": [
    "a = RandomList(55, sorted=True)\n",
    "\n",
    "print(a)\n",
    "\n",
    "view_list(a)"
   ]
  },
  {
   "cell_type": "code",
   "execution_count": 4,
   "id": "3c00c29b",
   "metadata": {},
   "outputs": [
    {
     "data": {
      "text/plain": [
       "48"
      ]
     },
     "execution_count": 4,
     "metadata": {},
     "output_type": "execute_result"
    }
   ],
   "source": [
    "bsearch(a, a.random('success'))"
   ]
  },
  {
   "cell_type": "code",
   "execution_count": 5,
   "id": "852be67b",
   "metadata": {},
   "outputs": [],
   "source": [
    "# Implementing Binary Search \n",
    "\n",
    "def binarySearch(a, x):\n",
    "    'Use a Binary search to find x in list a'\n",
    "    lower = -1\n",
    "    upper = len(a)\n",
    "    while upper > lower + 1:\n",
    "        mid = (lower + upper) // 2\n",
    "        if a[mid] == x:\n",
    "            return mid\n",
    "        if x < a[mid]:\n",
    "            upper = mid\n",
    "        else:\n",
    "            lower = mid\n",
    "    return None\n",
    "                \n",
    "                \n"
   ]
  },
  {
   "cell_type": "code",
   "execution_count": 6,
   "id": "0a4cc07d",
   "metadata": {},
   "outputs": [
    {
     "name": "stdout",
     "output_type": "stream",
     "text": [
      "1.24 µs ± 22 ns per loop (mean ± std. dev. of 7 runs, 1000000 loops each)\n"
     ]
    }
   ],
   "source": [
    "%%timeit\n",
    "\n",
    "binarySearch(a, 46)"
   ]
  },
  {
   "cell_type": "code",
   "execution_count": 7,
   "id": "32f188ca",
   "metadata": {},
   "outputs": [],
   "source": [
    "consonants = ['b', 'c', 'd', 'f', 'g', 'h', 'j']"
   ]
  },
  {
   "cell_type": "code",
   "execution_count": 9,
   "id": "29967ac7",
   "metadata": {},
   "outputs": [
    {
     "data": {
      "text/plain": [
       "6"
      ]
     },
     "execution_count": 9,
     "metadata": {},
     "output_type": "execute_result"
    }
   ],
   "source": [
    "binarySearch(consonants, 'j')"
   ]
  },
  {
   "cell_type": "code",
   "execution_count": 10,
   "id": "21a16270",
   "metadata": {},
   "outputs": [
    {
     "data": {
      "text/plain": [
       "16"
      ]
     },
     "execution_count": 10,
     "metadata": {},
     "output_type": "execute_result"
    }
   ],
   "source": [
    "a = RandomList(31, sorted=True)\n",
    "\n",
    "bsearch(a,a.random('success'))"
   ]
  },
  {
   "cell_type": "code",
   "execution_count": null,
   "id": "2bd8cfff",
   "metadata": {},
   "outputs": [],
   "source": []
  },
  {
   "cell_type": "code",
   "execution_count": 6,
   "id": "b6f0371c",
   "metadata": {},
   "outputs": [],
   "source": [
    "from math import ceil, log2 \n",
    "\n",
    "from PythonLabs.RecursionLab import *\n"
   ]
  },
  {
   "cell_type": "code",
   "execution_count": 7,
   "id": "40632224",
   "metadata": {},
   "outputs": [
    {
     "data": {
      "text/plain": [
       "3.0"
      ]
     },
     "metadata": {},
     "output_type": "display_data"
    },
    {
     "data": {
      "text/plain": [
       "3.9068905956085187"
      ]
     },
     "metadata": {},
     "output_type": "display_data"
    },
    {
     "data": {
      "text/plain": [
       "4"
      ]
     },
     "metadata": {},
     "output_type": "display_data"
    }
   ],
   "source": [
    "display(log2(8))\n",
    "\n",
    "display(log2(15))\n",
    "\n",
    "display(ceil(log2(15)))"
   ]
  },
  {
   "cell_type": "code",
   "execution_count": 8,
   "id": "93f70e0e",
   "metadata": {},
   "outputs": [
    {
     "data": {
      "text/plain": [
       "36"
      ]
     },
     "execution_count": 8,
     "metadata": {},
     "output_type": "execute_result"
    }
   ],
   "source": [
    "# Make a list of 50 Random integers and use bsearch to find a value known to be in the list \n",
    "\n",
    "a = RandomList(50, sorted= True)\n",
    "\n",
    "bsearch(a, a.random('success'))\n"
   ]
  },
  {
   "cell_type": "code",
   "execution_count": 9,
   "id": "c205e1f9",
   "metadata": {},
   "outputs": [
    {
     "data": {
      "text/plain": [
       "6"
      ]
     },
     "execution_count": 9,
     "metadata": {},
     "output_type": "execute_result"
    }
   ],
   "source": [
    "Counter.value('comparisons')"
   ]
  },
  {
   "cell_type": "code",
   "execution_count": 12,
   "id": "f5c7e019",
   "metadata": {},
   "outputs": [
    {
     "data": {
      "text/plain": [
       "6"
      ]
     },
     "execution_count": 12,
     "metadata": {},
     "output_type": "execute_result"
    }
   ],
   "source": [
    "loc = bsearch(a, a.random('success')); Counter.value('comparisons')"
   ]
  },
  {
   "cell_type": "code",
   "execution_count": 19,
   "id": "03708d10",
   "metadata": {},
   "outputs": [
    {
     "data": {
      "text/plain": [
       "' \\nThe Merge Sort Algorithm \\nWorks by first diving the input list into several small chunks\\nand the combining the chuncks into biggers and bigger groups until the final merged group includes the full list.\\nThe key step in the algo is an operation that merges two small groups that are already in order into a single bigger group\\n'"
      ]
     },
     "execution_count": 19,
     "metadata": {},
     "output_type": "execute_result"
    }
   ],
   "source": [
    "\"\"\" \n",
    "The Merge Sort Algorithm \n",
    "Works by first diving the input list into several small chunks\n",
    "and the combining the chuncks into biggers and bigger groups until the final merged group includes the full list.\n",
    "The key step in the algo is an operation that merges two small groups that are already in order into a single bigger group\n",
    "\"\"\""
   ]
  },
  {
   "cell_type": "code",
   "execution_count": 28,
   "id": "d3645b3d",
   "metadata": {},
   "outputs": [
    {
     "name": "stdout",
     "output_type": "stream",
     "text": [
      "[1, 11, 16, 24, 42, 50, 53, 59, 64, 82, 90, 93, 94, 95, 97]\n",
      "[66, 11, 12, 41, 10, 96, 9, 40, 61, 19, 29, 27, 1, 87, 68]\n"
     ]
    }
   ],
   "source": [
    "from PythonLabs import * \n",
    "\n",
    "aRand = RandomList(15)\n",
    "\n",
    "msort(a = RandomList(15))\n",
    "\n",
    "print(a)\n",
    "\n",
    "print(aRand)"
   ]
  },
  {
   "cell_type": "code",
   "execution_count": 34,
   "id": "ecef3e49",
   "metadata": {},
   "outputs": [],
   "source": [
    "from heapq import merge\n",
    "\n",
    "def mSort(a):\n",
    "    groupsize = 1\n",
    "    while groupsize < len(a):\n",
    "        merge_groups(a, groupsize)\n",
    "        groupsize * 2\n",
    "        \n",
    "        \n",
    "def merge_groups(a, gs):\n",
    "    for i in range(len(a), 2*gs):\n",
    "        j = i + gs\n",
    "        k = j + gs \n",
    "        a[i:k] = list(merge(a[i:j], a[j:k]))\n"
   ]
  },
  {
   "cell_type": "code",
   "execution_count": 35,
   "id": "eaec5557",
   "metadata": {},
   "outputs": [
    {
     "data": {
      "text/plain": [
       "[1, 2, 3, 5, 6, 7, 8, 9]"
      ]
     },
     "execution_count": 35,
     "metadata": {},
     "output_type": "execute_result"
    }
   ],
   "source": [
    "a = [1,2,7,8]\n",
    "\n",
    "b = [3,5,6,9]\n",
    "\n",
    "list(merge(a,b))\n",
    "\n"
   ]
  },
  {
   "cell_type": "code",
   "execution_count": 59,
   "id": "ca9f302b",
   "metadata": {},
   "outputs": [],
   "source": [
    "# i will refer to the first location in the first group.\n",
    "# j will be the first location in the second group.\n",
    "# k will mark the end of the second group.\n",
    "\n",
    "# To merge all the items from location i up to j with all the items from j up to k we simply have to write \n",
    "\n",
    "# --> list(merge(a[i:j], a[j:k]))\n",
    "\n",
    "# The next question is, where do we put the result of the call to merge?\n",
    "# Using slice notation on the left side of an assignment statement to put the merged items right back into the list\n",
    "\n",
    "# --> a[i:k] = list(merge(a[i:j], a[j:k]))"
   ]
  },
  {
   "cell_type": "code",
   "execution_count": null,
   "id": "bdffc65d",
   "metadata": {},
   "outputs": [],
   "source": []
  },
  {
   "cell_type": "code",
   "execution_count": 60,
   "id": "bc687f89",
   "metadata": {},
   "outputs": [
    {
     "data": {
      "text/plain": [
       "['Er', 'F', 'Ir', 'Pr']"
      ]
     },
     "metadata": {},
     "output_type": "display_data"
    },
    {
     "data": {
      "text/plain": [
       "['Cr', 'Lu', 'Pb', 'Sr']"
      ]
     },
     "metadata": {},
     "output_type": "display_data"
    },
    {
     "data": {
      "text/plain": [
       "['Cr', 'Er', 'F', 'Ir', 'Lu', 'Pb', 'Pr', 'Sr']"
      ]
     },
     "metadata": {},
     "output_type": "display_data"
    }
   ],
   "source": [
    "# Totorial Project \n",
    "\n",
    "from heapq import merge\n",
    "\n",
    "a = RandomList(4, 'elements', sorted=True)\n",
    "\n",
    "b = RandomList(4, 'elements', sorted=True)\n",
    "\n",
    "display(a)\n",
    "\n",
    "display(b)\n",
    "\n",
    "display(list(merge(a,b)))\n"
   ]
  },
  {
   "cell_type": "code",
   "execution_count": 61,
   "id": "1d196095",
   "metadata": {},
   "outputs": [],
   "source": [
    "i = 0; j = 2; k = 4"
   ]
  },
  {
   "cell_type": "code",
   "execution_count": 62,
   "id": "ec26ed75",
   "metadata": {},
   "outputs": [
    {
     "name": "stdout",
     "output_type": "stream",
     "text": [
      "['Er', 'F', 'Ir', 'Pr']\n",
      "['Ir', 'Pr']\n"
     ]
    }
   ],
   "source": [
    "print(a[i:k])\n",
    "\n",
    "print(a[j:k])"
   ]
  },
  {
   "cell_type": "code",
   "execution_count": 64,
   "id": "6934c8aa",
   "metadata": {},
   "outputs": [
    {
     "data": {
      "text/plain": [
       "['Er', 'F', 'Ir', 'Pr']"
      ]
     },
     "execution_count": 64,
     "metadata": {},
     "output_type": "execute_result"
    }
   ],
   "source": [
    "list(merge(a[i:j], a[j:k]))"
   ]
  },
  {
   "cell_type": "code",
   "execution_count": 68,
   "id": "b94fff57",
   "metadata": {},
   "outputs": [],
   "source": [
    "a = RandomList(16, 'elements')\n"
   ]
  },
  {
   "cell_type": "code",
   "execution_count": 69,
   "id": "614d444e",
   "metadata": {},
   "outputs": [],
   "source": [
    "msort(a)"
   ]
  },
  {
   "cell_type": "code",
   "execution_count": 70,
   "id": "4de0b006",
   "metadata": {},
   "outputs": [
    {
     "data": {
      "text/plain": [
       "['Ac',\n",
       " 'Be',\n",
       " 'Ce',\n",
       " 'Db',\n",
       " 'Ho',\n",
       " 'Lr',\n",
       " 'Md',\n",
       " 'O',\n",
       " 'P',\n",
       " 'Pm',\n",
       " 'Ru',\n",
       " 'Si',\n",
       " 'Tb',\n",
       " 'Tc',\n",
       " 'Th',\n",
       " 'Tm']"
      ]
     },
     "execution_count": 70,
     "metadata": {},
     "output_type": "execute_result"
    }
   ],
   "source": [
    "a"
   ]
  },
  {
   "cell_type": "code",
   "execution_count": null,
   "id": "2c3edaec",
   "metadata": {},
   "outputs": [],
   "source": []
  }
 ],
 "metadata": {
  "interpreter": {
   "hash": "9ae16ef445867c3ddd8a030e03f508a31c88ab57810e24e3a3afaf36f09532d0"
  },
  "kernelspec": {
   "display_name": "dev",
   "language": "python",
   "name": "dev"
  },
  "language_info": {
   "codemirror_mode": {
    "name": "ipython",
    "version": 3
   },
   "file_extension": ".py",
   "mimetype": "text/x-python",
   "name": "python",
   "nbconvert_exporter": "python",
   "pygments_lexer": "ipython3",
   "version": "3.7.11"
  }
 },
 "nbformat": 4,
 "nbformat_minor": 5
}
