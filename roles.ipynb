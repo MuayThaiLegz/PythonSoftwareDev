{
 "cells": [
  {
   "cell_type": "code",
   "execution_count": 57,
   "metadata": {},
   "outputs": [
    {
     "name": "stdout",
     "output_type": "stream",
     "text": [
      "\n"
     ]
    },
    {
     "ename": "TypeError",
     "evalue": "construct() missing 1 required positional argument: 'agent'",
     "output_type": "error",
     "traceback": [
      "\u001b[1;31m---------------------------------------------------------------------------\u001b[0m",
      "\u001b[1;31mTypeError\u001b[0m                                 Traceback (most recent call last)",
      "\u001b[1;32mc:\\Users\\JBarr\\OneDrive\\Documents\\FinTech\\TutorSection\\machineLearning\\roles.ipynb Cell 1\u001b[0m in \u001b[0;36m<cell line: 120>\u001b[1;34m()\u001b[0m\n\u001b[0;32m    <a href='vscode-notebook-cell:/c%3A/Users/JBarr/OneDrive/Documents/FinTech/TutorSection/machineLearning/roles.ipynb#W0sZmlsZQ%3D%3D?line=116'>117</a>\u001b[0m     \u001b[39mprint\u001b[39m(\u001b[39mf\u001b[39m\u001b[39m'\u001b[39m\u001b[39m{\u001b[39;00moffical\u001b[39m}\u001b[39;00m\u001b[39m!\u001b[39m\u001b[39m'\u001b[39m)\n\u001b[0;32m    <a href='vscode-notebook-cell:/c%3A/Users/JBarr/OneDrive/Documents/FinTech/TutorSection/machineLearning/roles.ipynb#W0sZmlsZQ%3D%3D?line=119'>120</a>\u001b[0m \u001b[39mif\u001b[39;00m \u001b[39m__name__\u001b[39m \u001b[39m==\u001b[39m \u001b[39m'\u001b[39m\u001b[39m__main__\u001b[39m\u001b[39m'\u001b[39m:\n\u001b[1;32m--> <a href='vscode-notebook-cell:/c%3A/Users/JBarr/OneDrive/Documents/FinTech/TutorSection/machineLearning/roles.ipynb#W0sZmlsZQ%3D%3D?line=120'>121</a>\u001b[0m     main()\n",
      "\u001b[1;32mc:\\Users\\JBarr\\OneDrive\\Documents\\FinTech\\TutorSection\\machineLearning\\roles.ipynb Cell 1\u001b[0m in \u001b[0;36mmain\u001b[1;34m()\u001b[0m\n\u001b[0;32m    <a href='vscode-notebook-cell:/c%3A/Users/JBarr/OneDrive/Documents/FinTech/TutorSection/machineLearning/roles.ipynb#W0sZmlsZQ%3D%3D?line=112'>113</a>\u001b[0m \u001b[39mprint\u001b[39m()\n\u001b[0;32m    <a href='vscode-notebook-cell:/c%3A/Users/JBarr/OneDrive/Documents/FinTech/TutorSection/machineLearning/roles.ipynb#W0sZmlsZQ%3D%3D?line=113'>114</a>\u001b[0m angent \u001b[39m=\u001b[39m setUp_agent\n\u001b[1;32m--> <a href='vscode-notebook-cell:/c%3A/Users/JBarr/OneDrive/Documents/FinTech/TutorSection/machineLearning/roles.ipynb#W0sZmlsZQ%3D%3D?line=114'>115</a>\u001b[0m angent\u001b[39m.\u001b[39;49mconstruct(builder)\n\u001b[0;32m    <a href='vscode-notebook-cell:/c%3A/Users/JBarr/OneDrive/Documents/FinTech/TutorSection/machineLearning/roles.ipynb#W0sZmlsZQ%3D%3D?line=115'>116</a>\u001b[0m offical \u001b[39m=\u001b[39m angent\u001b[39m.\u001b[39mdoc\n\u001b[0;32m    <a href='vscode-notebook-cell:/c%3A/Users/JBarr/OneDrive/Documents/FinTech/TutorSection/machineLearning/roles.ipynb#W0sZmlsZQ%3D%3D?line=116'>117</a>\u001b[0m \u001b[39mprint\u001b[39m(\u001b[39mf\u001b[39m\u001b[39m'\u001b[39m\u001b[39m{\u001b[39;00moffical\u001b[39m}\u001b[39;00m\u001b[39m!\u001b[39m\u001b[39m'\u001b[39m)\n",
      "\u001b[1;31mTypeError\u001b[0m: construct() missing 1 required positional argument: 'agent'"
     ]
    }
   ],
   "source": [
    "from enum import Enum\n",
    "import time\n",
    "\n",
    "\n",
    "\n",
    "Progress = Enum('Progress',\n",
    "                'assigned changed removed')\n",
    "\n",
    "Role = Enum('Role',\n",
    "            'role_one role_two role_three')\n",
    "\n",
    "Level = Enum('Level',\n",
    "             'lvl1 lvl2 lvl3')\n",
    "\n",
    "Permissions = Enum('Permissions',\n",
    "                   'read read_write')\n",
    "\n",
    "\n",
    "\n",
    "class allocate:\n",
    "    def __init__(self, name):\n",
    "        self.Name = None\n",
    "        self.Role = None\n",
    "        self.Level = None\n",
    "        self.Permissions = None\n",
    "        self.progress = None\n",
    "        self.meta = []\n",
    "\n",
    "\n",
    "    def __str__(self):\n",
    "        self.meta.append(self.name)\n",
    "        return self.name\n",
    "        \n",
    "  \n",
    "class Builder:\n",
    "\n",
    "    def __init__(self):\n",
    "        self.emp = allocate('Javier')\n",
    "        \n",
    "\n",
    "    \n",
    "    def add_Role(self, level=0):\n",
    "        if level == 1:\n",
    "            self.Role = Role.role_one\n",
    "        if level == 2:\n",
    "            self.Role = Role.role_two\n",
    "        elif level == 3: \n",
    "            self.Role = Role.role_three\n",
    "    \n",
    "        \n",
    "        \n",
    "    def add_Level(self, level=0):\n",
    "        if level == 1:\n",
    "            self.Level = Level.lvl1\n",
    "        if level == 2:\n",
    "            self.Level = Level.lvl2\n",
    "        elif level == 3: \n",
    "            self.Level = Level.lvl3\n",
    "            \n",
    "            \n",
    "        \n",
    "    def add_Permission(self, allow=False):\n",
    "        if allow == True:\n",
    "            self.progress = Progress.assigned\n",
    "            self.Permissions = Permissions.read_write\n",
    "            print(self.progress, self.Permissions)\n",
    "        else:\n",
    "            self.progress = Progress.assigned\n",
    "            self.Permissions = Permissions.read\n",
    "            \n",
    "            \n",
    "    def Document_assignment(self):\n",
    "        self.progress = Progress.assigned\n",
    "        self.emp.meta.append({'name': self.emp.Name, 'Level': self.emp.Level, 'Permissions':self.emp.Permissions})\n",
    "        \n",
    "\n",
    "        \n",
    "class setUp_agent:\n",
    "    def __init__(self):\n",
    "        self.agent = None\n",
    "\n",
    "    def construct(self, agent):\n",
    "        self.agent = agent\n",
    "        config = (agent.add_Role, \n",
    "                 agent.add_Level, \n",
    "                 agent.add_Permission, \n",
    "                 agent.Document_assignment)\n",
    "        [step() for step in config]\n",
    "\n",
    "    @property\n",
    "    def doc(self):\n",
    "        return self.setUp_agent\n",
    "\n",
    "        \n",
    "def validate_style(builders):\n",
    "    try:\n",
    "        input_msg = 'Adding [c]LevelTwo? '\n",
    "        newrole = input(input_msg)\n",
    "        builder = builders[newrole]()\n",
    "        valid_input = True\n",
    "    except KeyError:\n",
    "        error_msg = 'Sorry,not are available'\n",
    "        print(error_msg)\n",
    "        return (False, None)\n",
    "    return (True, builder)\n",
    "\n",
    "    \n",
    "def main():\n",
    "    builders = dict(c=Builder)\n",
    "    valid_input = False\n",
    "    while not valid_input:\n",
    "        valid_input, builder = validate_style(builders)\n",
    "    print()\n",
    "    \n",
    "    setUp_agent.construct(builder)\n",
    "    offical = angent.doc\n",
    "    print(f'{offical}!')\n",
    "         \n",
    "    \n",
    "if __name__ == '__main__':\n",
    "    main()\n",
    "             "
   ]
  },
  {
   "cell_type": "code",
   "execution_count": 41,
   "metadata": {},
   "outputs": [],
   "source": [
    "master = allocate('javier')"
   ]
  },
  {
   "cell_type": "code",
   "execution_count": 44,
   "metadata": {},
   "outputs": [
    {
     "name": "stdout",
     "output_type": "stream",
     "text": [
      "Progress.assigned Permissions.read_write\n"
     ]
    }
   ],
   "source": [
    "master.Add_Permission(True)"
   ]
  },
  {
   "cell_type": "code",
   "execution_count": 46,
   "metadata": {},
   "outputs": [
    {
     "data": {
      "text/plain": [
       "<Progress.assigned: 1>"
      ]
     },
     "execution_count": 46,
     "metadata": {},
     "output_type": "execute_result"
    }
   ],
   "source": [
    "master.progress"
   ]
  },
  {
   "cell_type": "code",
   "execution_count": null,
   "metadata": {},
   "outputs": [],
   "source": []
  },
  {
   "cell_type": "code",
   "execution_count": null,
   "metadata": {},
   "outputs": [],
   "source": [
    "\n",
    "    def add_sauce(self):\n",
    "        print('adding the crème fraîche sauce to your creamy bacon')\n",
    "        self.pizza.sauce = PizzaSauce.creme_fraiche\n",
    "        time.sleep(STEP_DELAY)\n",
    "        print('done with the crème fraîche sauce')\n",
    "\n",
    "    def add_topping(self):\n",
    "        topping_desc = 'mozzarella, bacon, ham, mushrooms, red onion, oregano'\n",
    "        topping_items =  (PizzaTopping.mozzarella,\n",
    "                          PizzaTopping.bacon,\n",
    "                          PizzaTopping.ham,\n",
    "                          PizzaTopping.mushrooms,\n",
    "                          PizzaTopping.red_onion, \n",
    "                          PizzaTopping.oregano)\n",
    "        print(f'adding the topping ({topping_desc}) to your creamy bacon')\n",
    "        self.pizza.topping.append([t for t in topping_items])\n",
    "        time.sleep(STEP_DELAY)\n",
    "        print(f'done with the topping ({topping_desc})')\n",
    "\n",
    "    def bake(self):\n",
    "        self.progress = PizzaProgress.baking\n",
    "        print(f'baking your creamy bacon for {self.baking_time} seconds')\n",
    "        time.sleep(self.baking_time)\n",
    "        self.progress = PizzaProgress.ready\n",
    "        print('your creamy bacon is ready')\n"
   ]
  },
  {
   "cell_type": "code",
   "execution_count": null,
   "metadata": {},
   "outputs": [],
   "source": []
  }
 ],
 "metadata": {
  "kernelspec": {
   "display_name": "Python 3.8.12 ('dev')",
   "language": "python",
   "name": "python3"
  },
  "language_info": {
   "codemirror_mode": {
    "name": "ipython",
    "version": 3
   },
   "file_extension": ".py",
   "mimetype": "text/x-python",
   "name": "python",
   "nbconvert_exporter": "python",
   "pygments_lexer": "ipython3",
   "version": "3.8.12"
  },
  "orig_nbformat": 4,
  "vscode": {
   "interpreter": {
    "hash": "4f446d5f5435d23b1141386b9b7beac3c42d699b38a8905e4f52aeeaf3f3e894"
   }
  }
 },
 "nbformat": 4,
 "nbformat_minor": 2
}
