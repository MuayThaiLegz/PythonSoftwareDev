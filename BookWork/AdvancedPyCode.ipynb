{
 "cells": [
  {
   "cell_type": "code",
   "execution_count": null,
   "id": "3d4b2527",
   "metadata": {},
   "outputs": [],
   "source": [
    "\n"
   ]
  },
  {
   "cell_type": "code",
   "execution_count": 93,
   "id": "c290c692",
   "metadata": {},
   "outputs": [],
   "source": [
    "''' \n",
    "Chapter One Benchmarking and Profiling. Profiliung is the rechnique that allows us to pinpoint most resource-intensive spots in\n",
    "an application A profiler is a program that runs an application and monitors how long each function takes to execute.\n",
    "BENCHMARKS: Are small scripts used to access the total execution time of your aplication\n",
    "\n",
    "The mantra here is \n",
    "* Make it run, Make it right, Make it fast.\n",
    "'''\n",
    "# we will by designing the application in an obnject-oriantatied way.\n",
    "class Particle:\n",
    "    def __init__(self, x, y, ang_vel): # we accept + and - numbers for all paramenters\n",
    "        self.x = x\n",
    "        self.y = y\n",
    "        self.ang_vel = ang_vel\n",
    "        \n",
    "\n",
    "# The full ParticleSimulation implementation:\n",
    "\n",
    "\n",
    "class ParticleSimulator:\n",
    "\n",
    "    def __init__(self, particles):\n",
    "        self.particles = particles\n",
    "\n",
    "    def evolve(self, dt):\n",
    "        timestep = 0.00001\n",
    "        nsteps = int(dt/timestep)\n",
    "        for i in range(nsteps):\n",
    "            for p in self.particles:\n",
    "                # 1. calculate the direction\n",
    "                norm = (p.x**2 + p.y**2) ** 0.5\n",
    "                v_x = -p.y/norm\n",
    "                v_y = p.x/norm\n",
    "\n",
    "                #2. calculate the displacement\n",
    "                d_x = timestep * p.ang_vel * v_x\n",
    "                d_y = timestep * p.ang_vel * v_y\n",
    "\n",
    "                p.x += d_x ; p.y += d_y\n",
    "                # 3. repeat for all the time steps\n"
   ]
  },
  {
   "cell_type": "code",
   "execution_count": 94,
   "id": "1529977d",
   "metadata": {},
   "outputs": [],
   "source": [
    "from matplotlib import pyplot as plt \n",
    "from matplotlib import animation\n",
    "\n",
    "def visualize(simulator):\n",
    "    \n",
    "    X = [p.x for p in simulator.particles]\n",
    "    Y = [p.y for p in simulator.particles]\n",
    "\n",
    "    fig = plt.figure()\n",
    "\n",
    "    ax = plt.subplot(111, aspect='equal')\n",
    "    line, = ax.plot(X, Y, 'ro')\n",
    "    plt.xlim(-1, 1)\n",
    "    plt.ylim(-1, 1)\n",
    "\n",
    "    def init():\n",
    "        line.set_data([], [])\n",
    "        return line, # the coma is important!\n",
    "\n",
    "    def animate(i):\n",
    "        # We let the particle evolve for 0.01 time units\n",
    "\n",
    "        simulator.evolve(0.01)\n",
    "        X = [p.x for p in simulator.particles]\n",
    "        Y = [p.y for p in simulator.particles]\n",
    "\n",
    "        line.set_data(X, Y)\n",
    "        return line,\n",
    "    \n",
    "\n",
    "\n",
    "    anim = animation.FuncAnimation(fig, animate, init_func=init, blit=True, interval=10)\n",
    "    \n",
    "    plt.show()"
   ]
  },
  {
   "cell_type": "code",
   "execution_count": 95,
   "id": "85064b43",
   "metadata": {},
   "outputs": [
    {
     "data": {
      "image/png": "[encoded data removed]",
      "text/plain": [
       "<Figure size 432x288 with 1 Axes>"
      ]
     },
     "metadata": {
      "needs_background": "light"
     },
     "output_type": "display_data"
    }
   ],
   "source": [
    "def test_visualize():\n",
    "    particles = [Particle(0.3, 0.5, 1),\n",
    "                 Particle(0.0, -0.5, -1),\n",
    "                 Particle(-0.1, -0.4, 3)]\n",
    "    \n",
    "    simulator = ParticleSimulator(particles)\n",
    "    visualize(simulator)\n",
    "\n",
    "if __name__ == '__main__':\n",
    "    test_visualize()"
   ]
  },
  {
   "cell_type": "code",
   "execution_count": 96,
   "id": "c94c0d24",
   "metadata": {},
   "outputs": [],
   "source": [
    "# Writing better tests and benchmarks with pytest-benchmark:\n",
    "\n",
    "def test_evolve():\n",
    "    particles = [Particle(0.3, 0.5, +1),\n",
    "                 Particle(0.0, -0.5, -1),\n",
    "                 Particle(-0.1, -0.4, +3)]\n",
    "    \n",
    "    simulator = ParticleSimulator(particles)\n",
    "\n",
    "    simulator.evolve(0.1)\n",
    "    p0, p1, p2 = particles\n",
    "\n",
    "    def fequal(a, b, eps=1e-5):\n",
    "        return abs(a - b) < eps \n",
    "\n",
    "    assert fequal(p0.x, 0.210269)\n",
    "    assert fequal(p0.y, 0.543863)\n",
    "\n",
    "    assert fequal(p1.x, -0.099334)\n",
    "    assert fequal(p1.y, -0.490034)\n",
    "\n",
    "    assert fequal(p2.x, 0.191358)\n",
    "    assert fequal(p2.y, -0.365227)\n"
   ]
  },
  {
   "cell_type": "code",
   "execution_count": 97,
   "id": "b535da0e",
   "metadata": {},
   "outputs": [
    {
     "ename": "NameError",
     "evalue": "name 'uniform' is not defined",
     "output_type": "error",
     "traceback": [
      "\u001b[1;31m---------------------------------------------------------------------------\u001b[0m",
      "\u001b[1;31mNameError\u001b[0m                                 Traceback (most recent call last)",
      "\u001b[1;32m~\\AppData\\Local\\Temp/ipykernel_20364/1559122893.py\u001b[0m in \u001b[0;36m<module>\u001b[1;34m\u001b[0m\n\u001b[0;32m      5\u001b[0m \u001b[0mpr\u001b[0m\u001b[1;33m.\u001b[0m\u001b[0menable\u001b[0m\u001b[1;33m(\u001b[0m\u001b[1;33m)\u001b[0m\u001b[1;33m\u001b[0m\u001b[1;33m\u001b[0m\u001b[0m\n\u001b[0;32m      6\u001b[0m \u001b[1;33m\u001b[0m\u001b[0m\n\u001b[1;32m----> 7\u001b[1;33m \u001b[0mbenchmark\u001b[0m\u001b[1;33m(\u001b[0m\u001b[1;33m)\u001b[0m\u001b[1;33m\u001b[0m\u001b[1;33m\u001b[0m\u001b[0m\n\u001b[0m\u001b[0;32m      8\u001b[0m \u001b[1;33m\u001b[0m\u001b[0m\n\u001b[0;32m      9\u001b[0m \u001b[0mpr\u001b[0m\u001b[1;33m.\u001b[0m\u001b[0mdisable\u001b[0m\u001b[1;33m(\u001b[0m\u001b[1;33m)\u001b[0m\u001b[1;33m\u001b[0m\u001b[1;33m\u001b[0m\u001b[0m\n",
      "\u001b[1;32m~\\AppData\\Local\\Temp/ipykernel_20364/252833525.py\u001b[0m in \u001b[0;36mbenchmark\u001b[1;34m(npart, method)\u001b[0m\n\u001b[0;32m      3\u001b[0m                            \u001b[0muniform\u001b[0m\u001b[1;33m(\u001b[0m\u001b[1;33m-\u001b[0m\u001b[1;36m1.0\u001b[0m\u001b[1;33m,\u001b[0m \u001b[1;36m1.0\u001b[0m\u001b[1;33m)\u001b[0m\u001b[1;33m,\u001b[0m\u001b[1;33m\u001b[0m\u001b[1;33m\u001b[0m\u001b[0m\n\u001b[0;32m      4\u001b[0m                            uniform(-1.0, 1.0))\n\u001b[1;32m----> 5\u001b[1;33m                            for i in range(npart)]\n\u001b[0m\u001b[0;32m      6\u001b[0m     \u001b[0msimulator\u001b[0m \u001b[1;33m=\u001b[0m \u001b[0mParticleSimulator\u001b[0m\u001b[1;33m(\u001b[0m\u001b[0mparticles\u001b[0m\u001b[1;33m)\u001b[0m\u001b[1;33m\u001b[0m\u001b[1;33m\u001b[0m\u001b[0m\n\u001b[0;32m      7\u001b[0m     \u001b[1;32mif\u001b[0m \u001b[0mmethod\u001b[0m \u001b[1;33m==\u001b[0m\u001b[1;34m'python'\u001b[0m\u001b[1;33m:\u001b[0m\u001b[1;33m\u001b[0m\u001b[1;33m\u001b[0m\u001b[0m\n",
      "\u001b[1;32m~\\AppData\\Local\\Temp/ipykernel_20364/252833525.py\u001b[0m in \u001b[0;36m<listcomp>\u001b[1;34m(.0)\u001b[0m\n\u001b[0;32m      3\u001b[0m                            \u001b[0muniform\u001b[0m\u001b[1;33m(\u001b[0m\u001b[1;33m-\u001b[0m\u001b[1;36m1.0\u001b[0m\u001b[1;33m,\u001b[0m \u001b[1;36m1.0\u001b[0m\u001b[1;33m)\u001b[0m\u001b[1;33m,\u001b[0m\u001b[1;33m\u001b[0m\u001b[1;33m\u001b[0m\u001b[0m\n\u001b[0;32m      4\u001b[0m                            uniform(-1.0, 1.0))\n\u001b[1;32m----> 5\u001b[1;33m                            for i in range(npart)]\n\u001b[0m\u001b[0;32m      6\u001b[0m     \u001b[0msimulator\u001b[0m \u001b[1;33m=\u001b[0m \u001b[0mParticleSimulator\u001b[0m\u001b[1;33m(\u001b[0m\u001b[0mparticles\u001b[0m\u001b[1;33m)\u001b[0m\u001b[1;33m\u001b[0m\u001b[1;33m\u001b[0m\u001b[0m\n\u001b[0;32m      7\u001b[0m     \u001b[1;32mif\u001b[0m \u001b[0mmethod\u001b[0m \u001b[1;33m==\u001b[0m\u001b[1;34m'python'\u001b[0m\u001b[1;33m:\u001b[0m\u001b[1;33m\u001b[0m\u001b[1;33m\u001b[0m\u001b[0m\n",
      "\u001b[1;31mNameError\u001b[0m: name 'uniform' is not defined"
     ]
    }
   ],
   "source": [
    "import cProfile\n",
    "\n",
    "pr =  cProfile.Profile()\n",
    "\n",
    "pr.enable()\n",
    "\n",
    "benchmark()\n",
    "\n",
    "pr.disable()\n",
    "\n",
    "pr.print_stats()"
   ]
  },
  {
   "cell_type": "code",
   "execution_count": null,
   "id": "7dd17617",
   "metadata": {},
   "outputs": [],
   "source": [
    "''' \n",
    "Optimizing our code \n",
    "Now that we have identified where exactly our app is spending most its time, make some changes and assess the change is performance.\n",
    "\n",
    "To express the equations of motion in terms of radius, r, and angle , alpha. (instead of x and y)\n",
    "then calculate the points on a circle using the following equation\n",
    "'''\n",
    "r = 11\n",
    "\n",
    "alpha = 7 \n",
    "from math import cos, sin\n",
    "\n",
    "x = r * cos(alpha)\n",
    "\n",
    "y = r * sin(alpha)\n",
    "\n"
   ]
  },
  {
   "cell_type": "code",
   "execution_count": null,
   "id": "585d5e43",
   "metadata": {},
   "outputs": [
    {
     "ename": "SyntaxError",
     "evalue": "invalid syntax (Temp/ipykernel_26960/1428581420.py, line 1)",
     "output_type": "error",
     "traceback": [
      "\u001b[1;36m  File \u001b[1;32m\"C:\\Users\\JBarr\\AppData\\Local\\Temp/ipykernel_26960/1428581420.py\"\u001b[1;36m, line \u001b[1;32m1\u001b[0m\n\u001b[1;33m    def (self, dt):\u001b[0m\n\u001b[1;37m        ^\u001b[0m\n\u001b[1;31mSyntaxError\u001b[0m\u001b[1;31m:\u001b[0m invalid syntax\n"
     ]
    }
   ],
   "source": [
    "def (self, dt):\n",
    "    timestep = 0.00001\n",
    "    nsteps = int(dt/timestep)\n",
    "\n",
    "    # Loop order is changed\n",
    "    for p in self.particles:\n",
    "        t_x_ang = timestep * p.ang_vel\n",
    "        for i in range(nsteps):\n",
    "            norm = (p.x**2 + p.y**2)**0.5\n",
    "            p.x, p.y = (p.x - t_x_ang * p.y/norm,\n",
    "                        p.y + t_x_ang * p.x/norm)\n"
   ]
  },
  {
   "cell_type": "code",
   "execution_count": null,
   "id": "05ca7b78",
   "metadata": {},
   "outputs": [
    {
     "ename": "NameError",
     "evalue": "name 'evolve_fast' is not defined",
     "output_type": "error",
     "traceback": [
      "\u001b[1;31m---------------------------------------------------------------------------\u001b[0m",
      "\u001b[1;31mNameError\u001b[0m                                 Traceback (most recent call last)",
      "\u001b[1;32m~\\AppData\\Local\\Temp/ipykernel_26960/2465294497.py\u001b[0m in \u001b[0;36m<module>\u001b[1;34m\u001b[0m\n\u001b[1;32m----> 1\u001b[1;33m \u001b[0mevolve_fast\u001b[0m\u001b[1;33m(\u001b[0m\u001b[0mself\u001b[0m\u001b[1;33m,\u001b[0m \u001b[0mdt\u001b[0m\u001b[1;33m)\u001b[0m\u001b[1;33m\u001b[0m\u001b[1;33m\u001b[0m\u001b[0m\n\u001b[0m",
      "\u001b[1;31mNameError\u001b[0m: name 'evolve_fast' is not defined"
     ]
    }
   ],
   "source": [
    "evolve_fast(self, dt) "
   ]
  },
  {
   "cell_type": "code",
   "execution_count": null,
   "id": "ea9a9285",
   "metadata": {},
   "outputs": [],
   "source": [
    "# The dis module: to inspect how the code is converted to bytecode, we can use the dis module\n",
    "\n",
    "import dis\n",
    "\n",
    "# will print for each line in the function, a list of bytecode instructions.\n",
    "\n",
    "#dis.dis(ParticleSimulator.evolve)[2]"
   ]
  },
  {
   "cell_type": "code",
   "execution_count": null,
   "id": "81abb621",
   "metadata": {},
   "outputs": [],
   "source": [
    "\n"
   ]
  },
  {
   "cell_type": "code",
   "execution_count": null,
   "id": "616f6182",
   "metadata": {},
   "outputs": [
    {
     "data": {
      "text/plain": [
       "[0, 1, 2, 3, 4, 5, 6, 7, 8, 9, 10, 11, 12, 13, 14]"
      ]
     },
     "metadata": {},
     "output_type": "display_data"
    },
    {
     "data": {
      "text/plain": [
       "[1, 2, 3, 4, 5, 6, 7, 8, 9, 10, 11, 12, 13, 14, 15]"
      ]
     },
     "metadata": {},
     "output_type": "display_data"
    }
   ],
   "source": [
    "# Pure Python Optimizations \n",
    " \n",
    "n = list(range(15))\n",
    "display(n)\n",
    "\n",
    "for i, _ in enumerate(n):\n",
    "    n[i] += 1\n",
    "\n",
    "display(n)"
   ]
  },
  {
   "cell_type": "code",
   "execution_count": null,
   "id": "4ba0dfbe",
   "metadata": {},
   "outputs": [
    {
     "data": {
      "text/plain": [
       "2"
      ]
     },
     "execution_count": 112,
     "metadata": {},
     "output_type": "execute_result"
    }
   ],
   "source": [
    "# bisect module allows fast searches on sorted arrays. \n",
    "# The bisect.bisect function can be used on a sorted list to find the index to place and elemnet \n",
    "# while maintaining the array in sorted order\n",
    "\n",
    "import bisect\n",
    "\n",
    "collection = [1, 2, 4, 5, 6]\n",
    "\n",
    "# This function uses the binary search algo with O(log(N)) running time. \n",
    "# running time will increase by a constant amount every time you double your input size.\n",
    "\n",
    "bisect.bisect(collection, 3)"
   ]
  },
  {
   "cell_type": "code",
   "execution_count": null,
   "id": "2be83eb3",
   "metadata": {},
   "outputs": [],
   "source": [
    "\"\"\"\n",
    "If value we are trying to insert is already present in list. the function will return location after\n",
    "already present value. Therefore, we can use the bisect.bisect_left variant, returning correct index.\n",
    "\"\"\"\n",
    "\n",
    "def index_bisect(a, x):\n",
    "    'Locate the leftmost value exactly equal to a'\n",
    "    i = bisect.bisect_left(a,  x)\n",
    "    if i != len(a) and a[i] == x:\n",
    "        return i\n",
    "        raise ValueError"
   ]
  },
  {
   "cell_type": "code",
   "execution_count": null,
   "id": "74ec4503",
   "metadata": {},
   "outputs": [
    {
     "data": {
      "text/plain": [
       "647163784322000273"
      ]
     },
     "metadata": {},
     "output_type": "display_data"
    },
    {
     "data": {
      "text/plain": [
       "3"
      ]
     },
     "metadata": {},
     "output_type": "display_data"
    }
   ],
   "source": [
    "\"\"\"\n",
    "Dictionaries: extremely versatile and extensively used in the py language.\n",
    "Dictionaries are implemented as hash maps\n",
    "\"\"\" \n",
    "\n",
    "display(hash('hello'))\n",
    "\n",
    "\n",
    "# To restrict the number to be a certain range use (%) operator\n",
    "\n",
    "display(hash('hello') % 10)"
   ]
  },
  {
   "cell_type": "code",
   "execution_count": null,
   "id": "0c679e03",
   "metadata": {},
   "outputs": [],
   "source": [
    "\"\"\"\n",
    "A dictionary can be used to efficiently count unique elements in a list.\n",
    "In this example, we define the counter_dict function that takes a list\n",
    "returning a dict containing the nunber of occurrences of each value in the list.\n",
    "\"\"\"\n",
    "\n",
    "def counter_dict(items):\n",
    "    counter = {}\n",
    "    for item in items:\n",
    "        if item not in counter:\n",
    "            counter[item] = 1\n",
    "        else:\n",
    "            counter[item] += 1\n",
    "        return counter\n"
   ]
  },
  {
   "cell_type": "code",
   "execution_count": null,
   "id": "006858cc",
   "metadata": {},
   "outputs": [],
   "source": [
    "\"\"\"\n",
    "The code can be simplified using collections.defaultdict.\n",
    "Will produce dictionaries where each new key is automatically assigned a default value\n",
    "\"\"\"\n",
    "\n",
    "from collections import defaultdict\n",
    "\n",
    "def counter_defaultdict(items):\n",
    "    counter = defaultdict(int)\n",
    "    for item in items:\n",
    "        counter[item] += 1\n",
    "    return counter"
   ]
  },
  {
   "cell_type": "code",
   "execution_count": null,
   "id": "03f1b8d6",
   "metadata": {},
   "outputs": [
    {
     "data": {
      "text/plain": [
       "Counter({0: 1, 1: 1, 2: 1, 3: 1, 4: 1, 5: 1, 6: 1, 7: 1, 8: 1, 9: 1})"
      ]
     },
     "execution_count": 117,
     "metadata": {},
     "output_type": "execute_result"
    }
   ],
   "source": [
    "\"\"\"\n",
    "The collections module also includes a Counter class that can be used for the same purpose\n",
    "\n",
    "\"\"\"\n",
    "items = range(10)\n",
    "from collections import Counter\n",
    "\n",
    "counter = Counter(items)\n",
    "counter"
   ]
  },
  {
   "cell_type": "code",
   "execution_count": null,
   "id": "65d81500",
   "metadata": {},
   "outputs": [
    {
     "data": {
      "text/plain": [
       "['the cat is under the table', 'the dog is under the table']"
      ]
     },
     "execution_count": 118,
     "metadata": {},
     "output_type": "execute_result"
    }
   ],
   "source": [
    "\"\"\"\n",
    "Bulding an in-memory search index using a hash map\n",
    "Ditionaries can be used to quickly search for a word in a list docs, similar to search engine.\n",
    "build an inverted index based on a dictionary of lists\n",
    "\"\"\"\n",
    "docs = ['the cat is under the table',\n",
    "        'the dog is under the table',\n",
    "        'cats and dogs smell roses'\n",
    "        'Carla eats an apple']\n",
    "\n",
    "# simple way to retrieve all documents that match a query is scan each document and test for the presence of a word\n",
    "\n",
    "matches = [doc for doc in docs if 'table' in doc]\n",
    "\n",
    "matches"
   ]
  },
  {
   "cell_type": "code",
   "execution_count": null,
   "id": "0a7dc926",
   "metadata": {},
   "outputs": [
    {
     "data": {
      "text/plain": [
       "[0, 1]"
      ]
     },
     "metadata": {},
     "output_type": "display_data"
    },
    {
     "data": {
      "text/plain": [
       "['the cat is under the table', 'the dog is under the table']"
      ]
     },
     "metadata": {},
     "output_type": "display_data"
    }
   ],
   "source": [
    "# building and index\n",
    "index = {}\n",
    "\n",
    "for i, doc in enumerate(docs):\n",
    "    # We iterate over each term in the document\n",
    "    for word in doc.split():\n",
    "        # We build a list containing the indices, where term appears\n",
    "        if word not in index:\n",
    "            index[word] = [i]\n",
    "        else:\n",
    "            index[word].append(i)\n",
    "\n",
    "# After bulding index, doing a query is a simple dic look up.\n",
    "\n",
    "index_result = index['table']\n",
    "display(index_result)\n",
    "\n",
    "result_documents = [docs[i] for i in index_result]\n",
    "display(result_documents)\n"
   ]
  },
  {
   "cell_type": "code",
   "execution_count": null,
   "id": "5a9cb045",
   "metadata": {},
   "outputs": [
    {
     "data": {
      "text/plain": [
       "{'javier'}"
      ]
     },
     "execution_count": 120,
     "metadata": {},
     "output_type": "execute_result"
    }
   ],
   "source": [
    "# Sets: cointain only unique elements.\n",
    "\n",
    "#x = list(range(500)) + list(range(500))\n",
    "\n",
    "x_solo = set(['javier', 'javier'])\n",
    "\n",
    "x_solo"
   ]
  },
  {
   "cell_type": "code",
   "execution_count": null,
   "id": "71798b77",
   "metadata": {},
   "outputs": [
    {
     "data": {
      "text/plain": [
       "{0}"
      ]
     },
     "execution_count": 121,
     "metadata": {},
     "output_type": "execute_result"
    }
   ],
   "source": [
    "# Building an index using sets\n",
    "\n",
    "index = {}\n",
    "\n",
    "for i, doc in enumerate(docs):\n",
    "    # We iterate over each term in documents\n",
    "    for word in doc.split():\n",
    "        # build a set containing the indices, where term appears\n",
    "        if word not in index:\n",
    "            index[word] = {i}\n",
    "        else:\n",
    "            index[word].add(i)\n",
    "# Querying the documents containing both 'cat' and 'table'\n",
    "index['cat'].intersection(index['table'])"
   ]
  },
  {
   "cell_type": "code",
   "execution_count": null,
   "id": "b1333ac4",
   "metadata": {},
   "outputs": [
    {
     "data": {
      "text/plain": [
       "[3, 3, 6, 4, 5, 10]"
      ]
     },
     "metadata": {},
     "output_type": "display_data"
    },
    {
     "data": {
      "text/plain": [
       "3"
      ]
     },
     "metadata": {},
     "output_type": "display_data"
    },
    {
     "data": {
      "text/plain": [
       "[3, 4, 6, 10, 5, 1991]"
      ]
     },
     "metadata": {},
     "output_type": "display_data"
    }
   ],
   "source": [
    "# Heaps: built using the procedures contained in haepq module on an underlying list.\n",
    "\n",
    "import heapq\n",
    "\n",
    "heapq_collection =  [10, 3, 3, 4,  5, 6]\n",
    "\n",
    "heapq.heapify(heapq_collection)\n",
    "\n",
    "display(heapq_collection)\n",
    "\n",
    "# To perform insertion and extraction operations on  the heap we can use the heapq.heappush and heapq.heappop\n",
    "# function will extract the min val in collection in O(log(N)) time \n",
    "\n",
    "display(heapq.heappop(heapq_collection))\n",
    "\n",
    "# Similarly, you can push with\n",
    "\n",
    "heapq.heappush(heapq_collection, 1991)\n",
    "\n",
    "\n",
    "display(heapq_collection)\n"
   ]
  },
  {
   "cell_type": "code",
   "execution_count": null,
   "id": "f78d954c",
   "metadata": {},
   "outputs": [
    {
     "data": {
      "text/plain": [
       "1"
      ]
     },
     "execution_count": 123,
     "metadata": {},
     "output_type": "execute_result"
    }
   ],
   "source": [
    "\"\"\"\n",
    "Another optionis queue.PriorityQueue class that,is thread and process-safe.\n",
    "The PriorityQueue class can be filled up with using the PriorityQueue.put method,\n",
    "while PriorityQueue.get can be used to be extract the minimin value in collection\n",
    "\"\"\"\n",
    "\n",
    "from queue import PriorityQueue\n",
    "\n",
    "queue = PriorityQueue()\n",
    "for element in collection:\n",
    "    queue.put(element)\n",
    "\n",
    "queue.get()"
   ]
  },
  {
   "cell_type": "code",
   "execution_count": null,
   "id": "4cfe15bd",
   "metadata": {},
   "outputs": [
    {
     "data": {
      "text/plain": [
       "(1, 'priority 1')"
      ]
     },
     "execution_count": 124,
     "metadata": {},
     "output_type": "execute_result"
    }
   ],
   "source": [
    "queue = PriorityQueue()\n",
    "queue.put((3, \"priority 3\"))\n",
    "queue.put((2, \"priority 2\"))\n",
    "queue.put((1, \"priority 1\"))\n",
    "\n",
    "queue.get()\n"
   ]
  },
  {
   "cell_type": "code",
   "execution_count": null,
   "id": "0c387e2f",
   "metadata": {},
   "outputs": [],
   "source": [
    "# Tries(sometimes called a prefix tree).\n",
    "# Tries are extremely fast at matching a list of strings against a prefix.\n",
    "\n",
    "\n",
    "from random import choice\n",
    "from string import ascii_uppercase\n",
    "from patricia import trie\n",
    "\n",
    "def random_string(length):\n",
    "    '''Produce a random string made of *length* uppercase ascii chars'''\n",
    "    return ''.join(choice(ascii_uppercase) for i in range(length))"
   ]
  },
  {
   "cell_type": "code",
   "execution_count": null,
   "id": "e7a8c7ed",
   "metadata": {},
   "outputs": [
    {
     "name": "stdout",
     "output_type": "stream",
     "text": [
      "49.5 µs ± 3.08 µs per loop (mean ± std. dev. of 7 runs, 10000 loops each)\n"
     ]
    }
   ],
   "source": [
    "strings = [random_string(32) for i in range(500)]\n",
    "\n",
    "matches = [s for s in strings if s.startswith('AA')]\n",
    "\n",
    "# List comprehension and str.startwith are already very optimized operations\n",
    "\n",
    "%timeit [s for s in strings if s.startswith('AA')]"
   ]
  },
  {
   "cell_type": "code",
   "execution_count": null,
   "id": "e761a9c2",
   "metadata": {},
   "outputs": [
    {
     "name": "stdout",
     "output_type": "stream",
     "text": [
      "3.88 µs ± 364 ns per loop (mean ± std. dev. of 7 runs, 100000 loops each)\n"
     ]
    }
   ],
   "source": [
    "strings_dict = {s:0 for s in strings}\n",
    "\n",
    "# A dictionary where all values are 0\n",
    "\n",
    "strings_trie = trie(**strings_dict)\n",
    "\n",
    "# To query patricia-trie for a matching prefix\n",
    "\n",
    "iterMatches = list(strings_trie.iter('AA'))\n",
    "\n",
    "# Now we time \n",
    "\n",
    "%timeit list(strings_trie.iter('AA'))"
   ]
  },
  {
   "cell_type": "code",
   "execution_count": null,
   "id": "43e032e9",
   "metadata": {},
   "outputs": [],
   "source": []
  },
  {
   "cell_type": "code",
   "execution_count": null,
   "id": "679100a0",
   "metadata": {},
   "outputs": [
    {
     "data": {
      "text/plain": [
       "' \\nCaching and memoization\\nCaching is a great technique used to improve the performance of a wide range of applications.\\n\\nGiven the usefulness of this technique,\\nthe Py standard library includes a simple inmemory cache in functools module\\n\\n'"
      ]
     },
     "execution_count": 128,
     "metadata": {},
     "output_type": "execute_result"
    }
   ],
   "source": [
    "\"\"\" \n",
    "Caching and memoization\n",
    "Caching is a great technique used to improve the performance of a wide range of applications.\n",
    "\n",
    "Given the usefulness of this technique,\n",
    "the Py standard library includes a simple inmemory cache in functools module\n",
    "\n",
    "\"\"\"\n"
   ]
  },
  {
   "cell_type": "code",
   "execution_count": null,
   "id": "81964c63",
   "metadata": {},
   "outputs": [
    {
     "name": "stdout",
     "output_type": "stream",
     "text": [
      "Calculating 4 + 2\n",
      "6\n",
      "Calculating 1 + 2\n",
      "3\n"
     ]
    }
   ],
   "source": [
    "\n",
    "from functools import lru_cache\n",
    "\n",
    "@lru_cache()\n",
    "def sum2(a, b):\n",
    "    print(\"Calculating {} + {}\".format(a, b))\n",
    "    return a + b \n",
    "\n",
    "print(sum2(4, 2))\n",
    "print(sum2(1, 2))"
   ]
  },
  {
   "cell_type": "code",
   "execution_count": null,
   "id": "6959da6e",
   "metadata": {},
   "outputs": [
    {
     "data": {
      "text/plain": [
       "'\\nThe lru_cache deco also provides other basic features. To restrict the size od the cache,\\none can set the number of elements we inted to maintain through the max_size argument.\\nIf we want unbounded cache specify None.\\n'"
      ]
     },
     "execution_count": 139,
     "metadata": {},
     "output_type": "execute_result"
    }
   ],
   "source": [
    "\n",
    "\"\"\"\n",
    "The lru_cache deco also provides other basic features. To restrict the size od the cache,\n",
    "one can set the number of elements we inted to maintain through the max_size argument.\n",
    "If we want unbounded cache specify None.\n",
    "\"\"\"\n"
   ]
  },
  {
   "cell_type": "code",
   "execution_count": null,
   "id": "93a71bf7",
   "metadata": {},
   "outputs": [
    {
     "name": "stdout",
     "output_type": "stream",
     "text": [
      "Calculating 4 + 2\n",
      "8\n",
      "Calculating 1 + 2\n",
      "2\n"
     ]
    }
   ],
   "source": [
    "@lru_cache(maxsize=8)\n",
    "# this way we execute sum2 with different arguments,cache will reach a max size\n",
    "# and keep requesting more calculations, new values replacing older values in cache\n",
    "def mul2(a, b):\n",
    "    print(\"Calculating {} + {}\".format(a, b))\n",
    "    return a * b \n",
    "\n",
    "print(mul2(4, 2))\n",
    "print(mul2(1, 2))"
   ]
  },
  {
   "cell_type": "code",
   "execution_count": null,
   "id": "5d0c626d",
   "metadata": {},
   "outputs": [
    {
     "data": {
      "text/plain": [
       "CacheInfo(hits=0, misses=2, maxsize=128, currsize=2)"
      ]
     },
     "execution_count": 141,
     "metadata": {},
     "output_type": "execute_result"
    }
   ],
   "source": [
    "\"\"\"\n",
    "The lru_cache decorator also adds extra functionalities to the docorated fucntion.\n",
    "Examine cache performance using cache_info method, and possible to reset cache with cache_clear method.\n",
    "\"\"\"\n",
    "\n",
    "sum2.cache_info()"
   ]
  },
  {
   "cell_type": "code",
   "execution_count": null,
   "id": "3154d31a",
   "metadata": {},
   "outputs": [],
   "source": [
    "sum2.cache_clear()"
   ]
  },
  {
   "cell_type": "code",
   "execution_count": null,
   "id": "d57e6a96",
   "metadata": {},
   "outputs": [
    {
     "name": "stdout",
     "output_type": "stream",
     "text": [
      "3.31 ms ± 97.4 µs per loop (mean ± std. dev. of 7 runs, 100 loops each)\n"
     ]
    }
   ],
   "source": [
    "# Example of benefit from caching. \n",
    "# Define fibonacci fun and time it\n",
    "\n",
    "def fibona(n):\n",
    "    if n < 1:\n",
    "        return 1\n",
    "    else:\n",
    "        return fibona(n - 1) + fibona(n - 2)\n",
    "\n",
    "%timeit fibona(20)"
   ]
  },
  {
   "cell_type": "code",
   "execution_count": null,
   "id": "ad573a1b",
   "metadata": {},
   "outputs": [
    {
     "name": "stdout",
     "output_type": "stream",
     "text": [
      "Fibona took 0.00 us\n"
     ]
    }
   ],
   "source": [
    "import timeit \n",
    "\n",
    "setup_code = '''\n",
    "\n",
    "from functools import lru_cache\n",
    "from __main__ import fibona\n",
    "fibona_memoized = lru_cache(maxsize=None)(fibona)\n",
    "'''\n",
    "\n",
    "results = timeit.repeat(\n",
    "    'fibona_memoized(20)',\n",
    "    setup=setup_code,\n",
    "    repeat=1000,\n",
    "    number=1)\n",
    "\n",
    "print(\"Fibona took {:.2f} us\".format(min(results)))"
   ]
  },
  {
   "cell_type": "code",
   "execution_count": null,
   "id": "a55439a4",
   "metadata": {},
   "outputs": [],
   "source": [
    "# Joblib provides a simple on-disk cache is joblib. used similar as lru_cache,\n",
    "# results will stored on disk and will persist between runs."
   ]
  },
  {
   "cell_type": "code",
   "execution_count": null,
   "id": "a92072c4",
   "metadata": {},
   "outputs": [],
   "source": [
    "from joblib import Memory\n",
    "\n",
    "memory = Memory(location='.')"
   ]
  },
  {
   "cell_type": "code",
   "execution_count": null,
   "id": "8beec865",
   "metadata": {},
   "outputs": [],
   "source": [
    "# results will be stored on-disk in the directory specified\n",
    "# by the cachedir argument during Memory initialization. cached results persist over runs.\n",
    "# allows limit of recomputation only when certain arguments change,\n",
    "# and the resulting decorated function supports basic functionalities to clear and analyze the cache.\n",
    "# Perhaps the best joblib feature is the intelligent hashing algo proving\n",
    "# efficient memoization of functions that operate on np arrays.\n",
    " \n",
    "\n",
    "\n",
    "@memory.cache\n",
    "def Msum2(a, b):\n",
    "    return a + b\n"
   ]
  },
  {
   "cell_type": "code",
   "execution_count": null,
   "id": "5223f0b5",
   "metadata": {},
   "outputs": [
    {
     "name": "stdout",
     "output_type": "stream",
     "text": [
      "________________________________________________________________________________\n",
      "[Memory] Calling __main__-C%3A-Users-JBarr-AppData-Local-Temp-ipykernel_26960-2913515201.Msum2...\n",
      "Msum2(5, 5)\n",
      "____________________________________________________________Msum2 - 0.0s, 0.0min\n"
     ]
    },
    {
     "data": {
      "text/plain": [
       "10"
      ]
     },
     "execution_count": 162,
     "metadata": {},
     "output_type": "execute_result"
    }
   ],
   "source": [
    "\n",
    "\n",
    "Msum2(5,5)"
   ]
  },
  {
   "cell_type": "code",
   "execution_count": null,
   "id": "96f30372",
   "metadata": {},
   "outputs": [],
   "source": [
    "# Comprahansions and generators\n",
    "# We will explore strategies to speed up Py loops using comprahansions and generators.\n",
    "\n",
    "def loop():\n",
    "    res = []\n",
    "    for i in range(100000):\n",
    "        res.append( i * i)\n",
    "    return sum(res)\n",
    "\n",
    "def comprehension():\n",
    "    return sum([i * i for i in range(100000)])\n",
    "\n",
    "def generator():\n",
    "    return sum(i * i for i in range(100000))"
   ]
  },
  {
   "cell_type": "code",
   "execution_count": null,
   "id": "c0af266b",
   "metadata": {},
   "outputs": [
    {
     "name": "stdout",
     "output_type": "stream",
     "text": [
      "12.2 ms ± 180 µs per loop (mean ± std. dev. of 7 runs, 100 loops each)\n"
     ]
    }
   ],
   "source": [
    "%timeit loop()\n"
   ]
  },
  {
   "cell_type": "code",
   "execution_count": null,
   "id": "88808a1f",
   "metadata": {},
   "outputs": [
    {
     "name": "stdout",
     "output_type": "stream",
     "text": [
      "9.23 ms ± 127 µs per loop (mean ± std. dev. of 7 runs, 100 loops each)\n"
     ]
    }
   ],
   "source": [
    "%timeit comprehension()"
   ]
  },
  {
   "cell_type": "code",
   "execution_count": null,
   "id": "c9b174fa",
   "metadata": {},
   "outputs": [
    {
     "name": "stdout",
     "output_type": "stream",
     "text": [
      "9.01 ms ± 105 µs per loop (mean ± std. dev. of 7 runs, 100 loops each)\n"
     ]
    }
   ],
   "source": [
    "%timeit generator()"
   ]
  },
  {
   "cell_type": "code",
   "execution_count": null,
   "id": "0360bf19",
   "metadata": {},
   "outputs": [],
   "source": []
  },
  {
   "cell_type": "code",
   "execution_count": null,
   "id": "d10f77db",
   "metadata": {},
   "outputs": [],
   "source": [
    "def sqloop():\n",
    "    resDict = {}\n",
    "    for i in range(100000):\n",
    "        resDict[i] = i\n",
    "    return resDict\n",
    "\n",
    "\n",
    "def sqcomprehension():\n",
    "    return {i: i for i in range(100000)}"
   ]
  },
  {
   "cell_type": "code",
   "execution_count": null,
   "id": "4a1ed365",
   "metadata": {},
   "outputs": [
    {
     "name": "stdout",
     "output_type": "stream",
     "text": [
      "10.5 ms ± 148 µs per loop (mean ± std. dev. of 7 runs, 100 loops each)\n",
      "9.79 ms ± 162 µs per loop (mean ± std. dev. of 7 runs, 100 loops each)\n"
     ]
    }
   ],
   "source": [
    "\n",
    "%timeit sqloop()\n"
   ]
  },
  {
   "cell_type": "code",
   "execution_count": null,
   "id": "554d6da8",
   "metadata": {},
   "outputs": [],
   "source": [
    "\n",
    "%timeit sqcomprehension()"
   ]
  },
  {
   "cell_type": "code",
   "execution_count": null,
   "id": "477d631d",
   "metadata": {},
   "outputs": [],
   "source": [
    "# Efficient looping (especially in terms of memory)\n",
    "# done using iterators and functions such as filter and map.\n",
    "\n",
    "def map_comprehension(numbers):\n",
    "    a = [n * 2 for n in numbers]\n",
    "    b = [n ** 2 for n in a]\n",
    "    c = [n ** 0.33  for n in b]\n",
    "    return max(c)\n",
    "\n",
    "\n",
    "def map_normal(numbers):\n",
    "    a = map(lambda n: n * 2, numbers)\n",
    "    b = map(lambda n: n ** 2, a)\n",
    "    c = map(lambda n: n ** 0.33, b)\n",
    "    return max(c)"
   ]
  },
  {
   "cell_type": "code",
   "execution_count": null,
   "id": "90dc83da",
   "metadata": {},
   "outputs": [
    {
     "name": "stdout",
     "output_type": "stream",
     "text": [
      "717 ms ± 11 ms per loop (mean ± std. dev. of 7 runs, 1 loop each)\n"
     ]
    }
   ],
   "source": [
    "\n",
    "\n",
    "numbers = range(1000000)\n",
    "\n",
    "%timeit map_comprehension(numbers)\n",
    "\n"
   ]
  },
  {
   "cell_type": "code",
   "execution_count": null,
   "id": "ca708174",
   "metadata": {},
   "outputs": [],
   "source": [
    "import numpy as np"
   ]
  },
  {
   "cell_type": "code",
   "execution_count": null,
   "id": "fb50e28c",
   "metadata": {},
   "outputs": [
    {
     "name": "stdout",
     "output_type": "stream",
     "text": [
      "0\n",
      "[0, 1, 2, 3, 4, 5, 6, 7, 8, 9]\n"
     ]
    }
   ],
   "source": [
    "\"\"\" \n",
    "Chapter 3:\n",
    "    Fast Array Operatons with Numpy and Pandas\n",
    "\n",
    "\"\"\"\n",
    "\n",
    "A = np.array([0,1,2,3,4,5,6,7,8,9])\n",
    "\n",
    "\n",
    "print(A[0])\n",
    "\n",
    "print([a for a in A])"
   ]
  },
  {
   "cell_type": "code",
   "execution_count": null,
   "id": "2530ec50",
   "metadata": {},
   "outputs": [
    {
     "name": "stdout",
     "output_type": "stream",
     "text": [
      "[0.44597815 0.21267435 0.4561251  0.73388409 0.07857339 0.03318415\n",
      " 0.33149939 0.51394725 0.04624381 0.56904135]\n",
      "[0.44597815 0.19365108]\n"
     ]
    }
   ],
   "source": [
    "\"\"\"\n",
    "Ex: shows how slocing syntax can be used in real-world setting\n",
    "\n",
    "\"\"\"\n",
    "\n",
    "r_i = np.random.rand(10, 2)\n",
    "\n",
    "\n",
    "x_i = r_i[:, 0]\n",
    "\n",
    "print(x_i)\n",
    "\n",
    "r_0 = r_i[0, :]\n",
    "\n",
    "print(r_0)"
   ]
  },
  {
   "cell_type": "code",
   "execution_count": null,
   "id": "f0e3b062",
   "metadata": {},
   "outputs": [
    {
     "name": "stdout",
     "output_type": "stream",
     "text": [
      "[0. 1. 2. 3. 4. 5. 6. 7. 8. 9.] [[0 1 2]\n",
      " [3 4 5]]\n",
      "[[0 1 2 3 4 5]]\n"
     ]
    }
   ],
   "source": [
    "\n",
    "\n",
    "A = A.astype('float32')\n",
    "\n",
    "B = np.array([\n",
    "    [0, 1, 2],\n",
    "    [3, 4 ,5]])\n",
    "\n",
    "print(A, B)\n",
    "\n",
    "print(B.reshape(1,6))"
   ]
  },
  {
   "cell_type": "code",
   "execution_count": null,
   "id": "6e1255f2",
   "metadata": {},
   "outputs": [
    {
     "name": "stdout",
     "output_type": "stream",
     "text": [
      "[array([0.5653667 , 0.40387571]), array([0.47862077, 0.47436663]), array([0.8769373 , 0.13338962]), array([0.04260282, 0.13847179])]\n",
      "3.1136313400000004\n",
      "[[0.5653667  0.40387571]\n",
      " [0.8769373  0.13338962]]\n"
     ]
    }
   ],
   "source": [
    "a = np.array([\n",
    "    [0.5653667, 0.40387571],\n",
    "    [0.47862077, 0.47436663],\n",
    "    [0.8769373, 0.13338962],\n",
    "    [0.04260282, 0.13847179]\n",
    "    ])\n",
    "\n",
    "idx = np.array([0,2])\n",
    "\n",
    "print([i for i in a])\n",
    "\n",
    "print(a.sum())\n",
    "\n",
    "print(a[idx])\n"
   ]
  },
  {
   "cell_type": "code",
   "execution_count": null,
   "id": "c6c5c1d0",
   "metadata": {},
   "outputs": [
    {
     "name": "stdout",
     "output_type": "stream",
     "text": [
      "0.40387571 [[0.5653667  0.40387571]] [[0.5653667  0.40387571]\n",
      " [0.47862077 0.47436663]]\n"
     ]
    }
   ],
   "source": [
    "\n",
    "print(\n",
    "    a[0,1],\n",
    "    a[0:1],\n",
    "    a[0:2]\n",
    "    )"
   ]
  },
  {
   "cell_type": "code",
   "execution_count": null,
   "id": "c4325a00",
   "metadata": {},
   "outputs": [
    {
     "name": "stdout",
     "output_type": "stream",
     "text": [
      "[[ 5 12]\n",
      " [21 32]]\n",
      "[[2 4]\n",
      " [6 8]]\n"
     ]
    }
   ],
   "source": [
    "\"\"\"\n",
    "Broadcasting: Whenever doing arithmetic operation on two arrays (like a product),\n",
    "if the two operands have the same shape, the operation will be applied in an element-wise fashion.\n",
    "norm = np.sqrt(x**2 + y**2)\n",
    "\n",
    "\"\"\"\n",
    "\n",
    "J = np.array([[1,2], [3,4]])\n",
    "\n",
    "\n",
    "M = np.array([[5,6], [7,8]])\n",
    "\n",
    "\n",
    "print(J * M)\n",
    "\n",
    "print(J * 2)\n"
   ]
  },
  {
   "cell_type": "code",
   "execution_count": null,
   "id": "4f775b47",
   "metadata": {},
   "outputs": [
    {
     "name": "stdout",
     "output_type": "stream",
     "text": [
      "[0.47801357 0.91883939 0.52447843 0.23554053 0.42972729 1.15688477\n",
      " 0.83642145 0.79409513 0.81112134 0.89509751]\n"
     ]
    }
   ],
   "source": [
    "\n",
    "import time\n",
    "\n",
    "dt = time\n",
    "dt = dt.localtime()\n",
    "\n",
    "\n",
    "r_i = np.random.rand(10, 2)\n",
    "norm = np.sqrt((r_i ** 2).sum(axis=1))\n",
    "print(norm)"
   ]
  },
  {
   "cell_type": "code",
   "execution_count": null,
   "id": "9665da0c",
   "metadata": {},
   "outputs": [],
   "source": [
    "# Rewriting the particle simulator in NumPy \n",
    "\n",
    "def evolve_numpy(self, dt):\n",
    "    timestep = 0.00001\n",
    "    nsteps = int(dt/timestep)\n",
    "\n",
    "    r_i = np.array([[p.x, p.y] for p in self.particles])\n",
    "\n",
    "    ang_vel_i = np.array([p.ang_vel for p in self.particles])\n",
    "\n",
    "    for i in range(nsteps):\n",
    "        norm_i = np.sqrt((r_i ** 2).sum(axis=1))\n",
    "        v_i = r_i[:, [1, 0]]\n",
    "        v_i[:, 0] *= -1\n",
    "        v_i /= norm_i[:, np.newaxis]\n",
    "        d_i = timestep * ang_vel_i[:,np.newaxis] * v_i\n",
    "        r_i += d_i\n",
    "\n",
    "        for i, p in enumerate(self.particles):\n",
    "            p.x, p.y = r_i[i]"
   ]
  },
  {
   "cell_type": "code",
   "execution_count": null,
   "id": "b56fa180",
   "metadata": {},
   "outputs": [],
   "source": [
    "\n",
    "def benchmarkNP(npart=100, nethod='python'):\n",
    "    particles = [Particle(uniform(-1.0, 1.0),\n",
    "                          uniform(-1.0, 1.0),\n",
    "                          uniform(-1.0, 1.0))\n",
    "                          for i in range(npart)]"
   ]
  },
  {
   "cell_type": "code",
   "execution_count": null,
   "id": "21145885",
   "metadata": {},
   "outputs": [],
   "source": [
    "import numexpr as ne\n",
    "\n",
    "from math import sqrt\n",
    "\n",
    "import pandas as pd\n",
    "\n",
    "import sys\n",
    "\n"
   ]
  },
  {
   "cell_type": "code",
   "execution_count": null,
   "id": "879a686d",
   "metadata": {},
   "outputs": [],
   "source": [
    "# Reaching optimal performance with numexpr: usage is straightfoward and based on single function numexpr.evaluate. \n",
    "# Function takes a string containing an array expression as its first argument.\n",
    "\n",
    "# The package increases performance in all cases, nut to get substantial advantage, you should use it with large arrays.\n",
    "a = np.random.rand(10000)\n",
    "\n",
    "b = np.random.rand(10000)\n",
    "\n",
    "c = np.random.rand(10000)\n",
    "\n",
    "d = ne.evaluate('a + b * c')\n",
    "\n"
   ]
  },
  {
   "cell_type": "code",
   "execution_count": null,
   "id": "f623dcbb",
   "metadata": {},
   "outputs": [
    {
     "data": {
      "text/plain": [
       "array([1.0462232 , 0.51434298, 1.05022678, 1.15370087, 1.04244047,\n",
       "       0.52579164, 0.60602792, 1.19161307, 0.11581497, 1.16671212,\n",
       "       1.05945062, 0.02899721, 0.69442602, 0.80409631, 1.41466298,\n",
       "       0.57621561, 0.26500627, 0.68988331, 0.70537004, 0.08293559,\n",
       "       1.18902913, 1.01199504, 0.96187848, 0.51409063, 0.78158571])"
      ]
     },
     "execution_count": 55,
     "metadata": {},
     "output_type": "execute_result"
    }
   ],
   "source": [
    "d[:25]"
   ]
  },
  {
   "cell_type": "code",
   "execution_count": null,
   "id": "e18f8c89",
   "metadata": {},
   "outputs": [],
   "source": [
    "x_j = 1.41466298\n",
    "\n",
    "x_i = 1.16671212\n",
    "\n",
    "y_j = 0.60602792\n",
    "\n",
    "y_i = 0.26500627\n",
    "\n",
    "x_ij = x_j - x_i\n",
    "\n",
    "y_ij = y_j = y_i\n",
    "\n",
    "d_ij = sqrt(x_ij **2 + y_ij**2)\n"
   ]
  },
  {
   "cell_type": "code",
   "execution_count": null,
   "id": "54401ffa",
   "metadata": {},
   "outputs": [],
   "source": [
    "r = np.random.rand(10000, 2)\n",
    "\n",
    "r_i = r[:, np.newaxis]\n",
    "\n",
    "r_j = r[np.newaxis, :]\n",
    "\n",
    "d_ij = r_j - r_i\n",
    "\n",
    "d_ij = np.sqrt((d_ij ** 2).sum(axis=2))\n"
   ]
  },
  {
   "cell_type": "code",
   "execution_count": null,
   "id": "8debc025",
   "metadata": {},
   "outputs": [
    {
     "name": "stdout",
     "output_type": "stream",
     "text": [
      "18.3 ns ± 0.493 ns per loop (mean ± std. dev. of 7 runs, 100000000 loops each)\n",
      "20 ns ± 0.553 ns per loop (mean ± std. dev. of 7 runs, 100000000 loops each)\n"
     ]
    }
   ],
   "source": [
    "# most of numpy math functions are also available in numexpr. The limitations are reduction operations\n",
    "# (ones that reduce axis must happen last) Therefore we first calculate the sum then step out of numexpr\n",
    "# and calculate square root in diff expression\n",
    "\n",
    "d_ijTest = np.sqrt((d_ij ** 2))\n",
    "\n",
    "d_ijN = ne.evaluate('sqrt((d_ij ** 2))')\n",
    "\n",
    "\n",
    "%timeit d_ijN\n",
    "\n",
    "%timeit d_ijTest "
   ]
  },
  {
   "cell_type": "code",
   "execution_count": null,
   "id": "5a5b2d7f",
   "metadata": {},
   "outputs": [],
   "source": [
    "\"\"\" \n",
    "Pandas: performance considerations\n",
    "Some differences between an index in Pandas and a dictionary. while keys in dict cannot contain diplicated index can.\n",
    "Which may incur performance cost. access will be O(N) linear search rather than O(1) like dict.\n",
    "\n",
    "We can mitigate this via sorting the index. Allowing the use of binary search running at O(log(N))\n",
    "\"\"\"\n",
    "\n",
    "# Create a series with dipliucate index\n",
    "\n",
    "index = list(range(1000)) + list(range(1000))\n",
    "\n",
    "# Accessing a normal series is a O(N) operation\n",
    "\n",
    "series = pd.Series(range(2000), index=index)\n",
    "\n",
    "# Sorting index will improve look-up scaling to O(log(N))\n",
    "\n",
    "series.sort_index(inplace=True)\n"
   ]
  },
  {
   "cell_type": "code",
   "execution_count": null,
   "id": "e43760cf",
   "metadata": {},
   "outputs": [
    {
     "name": "stderr",
     "output_type": "stream",
     "text": [
      "C:\\Users\\JBarr\\anaconda3\\envs\\dev\\lib\\site-packages\\pandas\\core\\arraylike.py:358: RuntimeWarning: divide by zero encountered in log\n",
      "  result = getattr(ufunc, method)(*inputs, **kwargs)\n"
     ]
    },
    {
     "data": {
      "text/html": [
       "<div>\n",
       "<style scoped>\n",
       "    .dataframe tbody tr th:only-of-type {\n",
       "        vertical-align: middle;\n",
       "    }\n",
       "\n",
       "    .dataframe tbody tr th {\n",
       "        vertical-align: top;\n",
       "    }\n",
       "\n",
       "    .dataframe thead th {\n",
       "        text-align: right;\n",
       "    }\n",
       "</style>\n",
       "<table border=\"1\" class=\"dataframe\">\n",
       "  <thead>\n",
       "    <tr style=\"text-align: right;\">\n",
       "      <th></th>\n",
       "      <th>sys_init</th>\n",
       "    </tr>\n",
       "  </thead>\n",
       "  <tbody>\n",
       "    <tr>\n",
       "      <th>0</th>\n",
       "      <td>-inf</td>\n",
       "    </tr>\n",
       "    <tr>\n",
       "      <th>0</th>\n",
       "      <td>5.521461</td>\n",
       "    </tr>\n",
       "    <tr>\n",
       "      <th>1</th>\n",
       "      <td>-1.386294</td>\n",
       "    </tr>\n",
       "    <tr>\n",
       "      <th>1</th>\n",
       "      <td>5.522460</td>\n",
       "    </tr>\n",
       "    <tr>\n",
       "      <th>2</th>\n",
       "      <td>-0.693147</td>\n",
       "    </tr>\n",
       "    <tr>\n",
       "      <th>2</th>\n",
       "      <td>5.523459</td>\n",
       "    </tr>\n",
       "    <tr>\n",
       "      <th>3</th>\n",
       "      <td>-0.287682</td>\n",
       "    </tr>\n",
       "  </tbody>\n",
       "</table>\n",
       "</div>"
      ],
      "text/plain": [
       "   sys_init\n",
       "0      -inf\n",
       "0  5.521461\n",
       "1 -1.386294\n",
       "1  5.522460\n",
       "2 -0.693147\n",
       "2  5.523459\n",
       "3 -0.287682"
      ]
     },
     "execution_count": 128,
     "metadata": {},
     "output_type": "execute_result"
    }
   ],
   "source": [
    "# Database-style operations with pandas\n",
    "# Pandas supports element-wise operations \n",
    "\n",
    "df = pd.DataFrame(series / 4, columns=['sys_init'])[:7]\n",
    "\n",
    "\n",
    "np.log(df.sys_init) # Logarithm of a Series\n",
    "\n",
    "np.log(df) # Logarithm of a df"
   ]
  },
  {
   "cell_type": "code",
   "execution_count": null,
   "id": "687b4024",
   "metadata": {},
   "outputs": [
    {
     "name": "stdout",
     "output_type": "stream",
     "text": [
      "a    *1*\n",
      "b    *2*\n",
      "c    *3*\n",
      "dtype: object\n",
      "   sys_init\n",
      "0     *0.0*\n",
      "0   *250.0*\n",
      "1    *0.25*\n",
      "1  *250.25*\n",
      "2     *0.5*\n",
      "2   *250.5*\n",
      "3    *0.75*\n"
     ]
    }
   ],
   "source": [
    "# Mapping\n",
    "'''\n",
    "pd can also do element-wise operations berween two pd.Series like np.\n",
    "\n",
    "Difference that operands are machted by key not by postion. mismatch in idex leads to resulting value = NaN\n",
    "\n",
    "Pandas exposes the map, apply and  applymap methods that can be used to apply specific transformations\n",
    "\n",
    "'''\n",
    "\n",
    "a = pd.Series([1, 2, 3], index=['a', 'b', 'c'])\n",
    "\n",
    "def superstar(x):\n",
    "    return '*' + str(x) + '*'\n",
    "\n",
    "print(a.map(superstar))\n",
    "\n",
    "# equivalent of pd.series.map but for df\n",
    "\n",
    "print(df.applymap(superstar))"
   ]
  },
  {
   "cell_type": "code",
   "execution_count": null,
   "id": "ddd8da8e",
   "metadata": {},
   "outputs": [
    {
     "name": "stdout",
     "output_type": "stream",
     "text": [
      "Hello, World\n"
     ]
    }
   ],
   "source": [
    "\"\"\"\n",
    "C Performance with Cython: Compiling Cython extensions \n",
    "canbe compiled using distutils. By writting a setup.py script,\n",
    "we compile .pyx directly to extension module\n",
    "\n",
    "\n",
    "\n",
    "\n",
    "from distutils.core import setup\n",
    "\n",
    "from Cython.Build import  cythonize\n",
    "\n",
    "setup(\n",
    "    name = 'Hello',\n",
    "    ext_modules = cythonize('helloW.pyx')  \n",
    ")\n",
    "\n",
    "\"\"\"\n",
    "\n",
    "\"\"\"\n",
    "Cython modules can also be automatically compiled using pyzimport.\n",
    "Call pyximport.install()\n",
    "\n",
    "\"\"\"\n",
    "import pyximport\n",
    "pyximport.install()\n",
    "import helloW\n",
    "\n",
    "helloW.hello()"
   ]
  },
  {
   "cell_type": "code",
   "execution_count": null,
   "id": "6ef60d21",
   "metadata": {},
   "outputs": [],
   "source": [
    "%load_ext Cython"
   ]
  },
  {
   "cell_type": "code",
   "execution_count": null,
   "id": "20d501ec",
   "metadata": {},
   "outputs": [
    {
     "data": {
      "text/html": [
       "<!DOCTYPE html>\n",
       "<!-- Generated by Cython 0.29.24 -->\n",
       "<html>\n",
       "<head>\n",
       "    <meta http-equiv=\"Content-Type\" content=\"text/html; charset=utf-8\" />\n",
       "    <title>Cython: _cython_magic_16c377f4704965a637d7315761144140.pyx</title>\n",
       "    <style type=\"text/css\">\n",
       "    \n",
       "body.cython { font-family: courier; font-size: 12; }\n",
       "\n",
       ".cython.tag  {  }\n",
       ".cython.line { margin: 0em }\n",
       ".cython.code { font-size: 9; color: #444444; display: none; margin: 0px 0px 0px 8px; border-left: 8px none; }\n",
       "\n",
       ".cython.line .run { background-color: #B0FFB0; }\n",
       ".cython.line .mis { background-color: #FFB0B0; }\n",
       ".cython.code.run  { border-left: 8px solid #B0FFB0; }\n",
       ".cython.code.mis  { border-left: 8px solid #FFB0B0; }\n",
       "\n",
       ".cython.code .py_c_api  { color: red; }\n",
       ".cython.code .py_macro_api  { color: #FF7000; }\n",
       ".cython.code .pyx_c_api  { color: #FF3000; }\n",
       ".cython.code .pyx_macro_api  { color: #FF7000; }\n",
       ".cython.code .refnanny  { color: #FFA000; }\n",
       ".cython.code .trace  { color: #FFA000; }\n",
       ".cython.code .error_goto  { color: #FFA000; }\n",
       "\n",
       ".cython.code .coerce  { color: #008000; border: 1px dotted #008000 }\n",
       ".cython.code .py_attr { color: #FF0000; font-weight: bold; }\n",
       ".cython.code .c_attr  { color: #0000FF; }\n",
       ".cython.code .py_call { color: #FF0000; font-weight: bold; }\n",
       ".cython.code .c_call  { color: #0000FF; }\n",
       "\n",
       ".cython.score-0 {background-color: #FFFFff;}\n",
       ".cython.score-1 {background-color: #FFFFe7;}\n",
       ".cython.score-2 {background-color: #FFFFd4;}\n",
       ".cython.score-3 {background-color: #FFFFc4;}\n",
       ".cython.score-4 {background-color: #FFFFb6;}\n",
       ".cython.score-5 {background-color: #FFFFaa;}\n",
       ".cython.score-6 {background-color: #FFFF9f;}\n",
       ".cython.score-7 {background-color: #FFFF96;}\n",
       ".cython.score-8 {background-color: #FFFF8d;}\n",
       ".cython.score-9 {background-color: #FFFF86;}\n",
       ".cython.score-10 {background-color: #FFFF7f;}\n",
       ".cython.score-11 {background-color: #FFFF79;}\n",
       ".cython.score-12 {background-color: #FFFF73;}\n",
       ".cython.score-13 {background-color: #FFFF6e;}\n",
       ".cython.score-14 {background-color: #FFFF6a;}\n",
       ".cython.score-15 {background-color: #FFFF66;}\n",
       ".cython.score-16 {background-color: #FFFF62;}\n",
       ".cython.score-17 {background-color: #FFFF5e;}\n",
       ".cython.score-18 {background-color: #FFFF5b;}\n",
       ".cython.score-19 {background-color: #FFFF57;}\n",
       ".cython.score-20 {background-color: #FFFF55;}\n",
       ".cython.score-21 {background-color: #FFFF52;}\n",
       ".cython.score-22 {background-color: #FFFF4f;}\n",
       ".cython.score-23 {background-color: #FFFF4d;}\n",
       ".cython.score-24 {background-color: #FFFF4b;}\n",
       ".cython.score-25 {background-color: #FFFF48;}\n",
       ".cython.score-26 {background-color: #FFFF46;}\n",
       ".cython.score-27 {background-color: #FFFF44;}\n",
       ".cython.score-28 {background-color: #FFFF43;}\n",
       ".cython.score-29 {background-color: #FFFF41;}\n",
       ".cython.score-30 {background-color: #FFFF3f;}\n",
       ".cython.score-31 {background-color: #FFFF3e;}\n",
       ".cython.score-32 {background-color: #FFFF3c;}\n",
       ".cython.score-33 {background-color: #FFFF3b;}\n",
       ".cython.score-34 {background-color: #FFFF39;}\n",
       ".cython.score-35 {background-color: #FFFF38;}\n",
       ".cython.score-36 {background-color: #FFFF37;}\n",
       ".cython.score-37 {background-color: #FFFF36;}\n",
       ".cython.score-38 {background-color: #FFFF35;}\n",
       ".cython.score-39 {background-color: #FFFF34;}\n",
       ".cython.score-40 {background-color: #FFFF33;}\n",
       ".cython.score-41 {background-color: #FFFF32;}\n",
       ".cython.score-42 {background-color: #FFFF31;}\n",
       ".cython.score-43 {background-color: #FFFF30;}\n",
       ".cython.score-44 {background-color: #FFFF2f;}\n",
       ".cython.score-45 {background-color: #FFFF2e;}\n",
       ".cython.score-46 {background-color: #FFFF2d;}\n",
       ".cython.score-47 {background-color: #FFFF2c;}\n",
       ".cython.score-48 {background-color: #FFFF2b;}\n",
       ".cython.score-49 {background-color: #FFFF2b;}\n",
       ".cython.score-50 {background-color: #FFFF2a;}\n",
       ".cython.score-51 {background-color: #FFFF29;}\n",
       ".cython.score-52 {background-color: #FFFF29;}\n",
       ".cython.score-53 {background-color: #FFFF28;}\n",
       ".cython.score-54 {background-color: #FFFF27;}\n",
       ".cython.score-55 {background-color: #FFFF27;}\n",
       ".cython.score-56 {background-color: #FFFF26;}\n",
       ".cython.score-57 {background-color: #FFFF26;}\n",
       ".cython.score-58 {background-color: #FFFF25;}\n",
       ".cython.score-59 {background-color: #FFFF24;}\n",
       ".cython.score-60 {background-color: #FFFF24;}\n",
       ".cython.score-61 {background-color: #FFFF23;}\n",
       ".cython.score-62 {background-color: #FFFF23;}\n",
       ".cython.score-63 {background-color: #FFFF22;}\n",
       ".cython.score-64 {background-color: #FFFF22;}\n",
       ".cython.score-65 {background-color: #FFFF22;}\n",
       ".cython.score-66 {background-color: #FFFF21;}\n",
       ".cython.score-67 {background-color: #FFFF21;}\n",
       ".cython.score-68 {background-color: #FFFF20;}\n",
       ".cython.score-69 {background-color: #FFFF20;}\n",
       ".cython.score-70 {background-color: #FFFF1f;}\n",
       ".cython.score-71 {background-color: #FFFF1f;}\n",
       ".cython.score-72 {background-color: #FFFF1f;}\n",
       ".cython.score-73 {background-color: #FFFF1e;}\n",
       ".cython.score-74 {background-color: #FFFF1e;}\n",
       ".cython.score-75 {background-color: #FFFF1e;}\n",
       ".cython.score-76 {background-color: #FFFF1d;}\n",
       ".cython.score-77 {background-color: #FFFF1d;}\n",
       ".cython.score-78 {background-color: #FFFF1c;}\n",
       ".cython.score-79 {background-color: #FFFF1c;}\n",
       ".cython.score-80 {background-color: #FFFF1c;}\n",
       ".cython.score-81 {background-color: #FFFF1c;}\n",
       ".cython.score-82 {background-color: #FFFF1b;}\n",
       ".cython.score-83 {background-color: #FFFF1b;}\n",
       ".cython.score-84 {background-color: #FFFF1b;}\n",
       ".cython.score-85 {background-color: #FFFF1a;}\n",
       ".cython.score-86 {background-color: #FFFF1a;}\n",
       ".cython.score-87 {background-color: #FFFF1a;}\n",
       ".cython.score-88 {background-color: #FFFF1a;}\n",
       ".cython.score-89 {background-color: #FFFF19;}\n",
       ".cython.score-90 {background-color: #FFFF19;}\n",
       ".cython.score-91 {background-color: #FFFF19;}\n",
       ".cython.score-92 {background-color: #FFFF19;}\n",
       ".cython.score-93 {background-color: #FFFF18;}\n",
       ".cython.score-94 {background-color: #FFFF18;}\n",
       ".cython.score-95 {background-color: #FFFF18;}\n",
       ".cython.score-96 {background-color: #FFFF18;}\n",
       ".cython.score-97 {background-color: #FFFF17;}\n",
       ".cython.score-98 {background-color: #FFFF17;}\n",
       ".cython.score-99 {background-color: #FFFF17;}\n",
       ".cython.score-100 {background-color: #FFFF17;}\n",
       ".cython.score-101 {background-color: #FFFF16;}\n",
       ".cython.score-102 {background-color: #FFFF16;}\n",
       ".cython.score-103 {background-color: #FFFF16;}\n",
       ".cython.score-104 {background-color: #FFFF16;}\n",
       ".cython.score-105 {background-color: #FFFF16;}\n",
       ".cython.score-106 {background-color: #FFFF15;}\n",
       ".cython.score-107 {background-color: #FFFF15;}\n",
       ".cython.score-108 {background-color: #FFFF15;}\n",
       ".cython.score-109 {background-color: #FFFF15;}\n",
       ".cython.score-110 {background-color: #FFFF15;}\n",
       ".cython.score-111 {background-color: #FFFF15;}\n",
       ".cython.score-112 {background-color: #FFFF14;}\n",
       ".cython.score-113 {background-color: #FFFF14;}\n",
       ".cython.score-114 {background-color: #FFFF14;}\n",
       ".cython.score-115 {background-color: #FFFF14;}\n",
       ".cython.score-116 {background-color: #FFFF14;}\n",
       ".cython.score-117 {background-color: #FFFF14;}\n",
       ".cython.score-118 {background-color: #FFFF13;}\n",
       ".cython.score-119 {background-color: #FFFF13;}\n",
       ".cython.score-120 {background-color: #FFFF13;}\n",
       ".cython.score-121 {background-color: #FFFF13;}\n",
       ".cython.score-122 {background-color: #FFFF13;}\n",
       ".cython.score-123 {background-color: #FFFF13;}\n",
       ".cython.score-124 {background-color: #FFFF13;}\n",
       ".cython.score-125 {background-color: #FFFF12;}\n",
       ".cython.score-126 {background-color: #FFFF12;}\n",
       ".cython.score-127 {background-color: #FFFF12;}\n",
       ".cython.score-128 {background-color: #FFFF12;}\n",
       ".cython.score-129 {background-color: #FFFF12;}\n",
       ".cython.score-130 {background-color: #FFFF12;}\n",
       ".cython.score-131 {background-color: #FFFF12;}\n",
       ".cython.score-132 {background-color: #FFFF11;}\n",
       ".cython.score-133 {background-color: #FFFF11;}\n",
       ".cython.score-134 {background-color: #FFFF11;}\n",
       ".cython.score-135 {background-color: #FFFF11;}\n",
       ".cython.score-136 {background-color: #FFFF11;}\n",
       ".cython.score-137 {background-color: #FFFF11;}\n",
       ".cython.score-138 {background-color: #FFFF11;}\n",
       ".cython.score-139 {background-color: #FFFF11;}\n",
       ".cython.score-140 {background-color: #FFFF11;}\n",
       ".cython.score-141 {background-color: #FFFF10;}\n",
       ".cython.score-142 {background-color: #FFFF10;}\n",
       ".cython.score-143 {background-color: #FFFF10;}\n",
       ".cython.score-144 {background-color: #FFFF10;}\n",
       ".cython.score-145 {background-color: #FFFF10;}\n",
       ".cython.score-146 {background-color: #FFFF10;}\n",
       ".cython.score-147 {background-color: #FFFF10;}\n",
       ".cython.score-148 {background-color: #FFFF10;}\n",
       ".cython.score-149 {background-color: #FFFF10;}\n",
       ".cython.score-150 {background-color: #FFFF0f;}\n",
       ".cython.score-151 {background-color: #FFFF0f;}\n",
       ".cython.score-152 {background-color: #FFFF0f;}\n",
       ".cython.score-153 {background-color: #FFFF0f;}\n",
       ".cython.score-154 {background-color: #FFFF0f;}\n",
       ".cython.score-155 {background-color: #FFFF0f;}\n",
       ".cython.score-156 {background-color: #FFFF0f;}\n",
       ".cython.score-157 {background-color: #FFFF0f;}\n",
       ".cython.score-158 {background-color: #FFFF0f;}\n",
       ".cython.score-159 {background-color: #FFFF0f;}\n",
       ".cython.score-160 {background-color: #FFFF0f;}\n",
       ".cython.score-161 {background-color: #FFFF0e;}\n",
       ".cython.score-162 {background-color: #FFFF0e;}\n",
       ".cython.score-163 {background-color: #FFFF0e;}\n",
       ".cython.score-164 {background-color: #FFFF0e;}\n",
       ".cython.score-165 {background-color: #FFFF0e;}\n",
       ".cython.score-166 {background-color: #FFFF0e;}\n",
       ".cython.score-167 {background-color: #FFFF0e;}\n",
       ".cython.score-168 {background-color: #FFFF0e;}\n",
       ".cython.score-169 {background-color: #FFFF0e;}\n",
       ".cython.score-170 {background-color: #FFFF0e;}\n",
       ".cython.score-171 {background-color: #FFFF0e;}\n",
       ".cython.score-172 {background-color: #FFFF0e;}\n",
       ".cython.score-173 {background-color: #FFFF0d;}\n",
       ".cython.score-174 {background-color: #FFFF0d;}\n",
       ".cython.score-175 {background-color: #FFFF0d;}\n",
       ".cython.score-176 {background-color: #FFFF0d;}\n",
       ".cython.score-177 {background-color: #FFFF0d;}\n",
       ".cython.score-178 {background-color: #FFFF0d;}\n",
       ".cython.score-179 {background-color: #FFFF0d;}\n",
       ".cython.score-180 {background-color: #FFFF0d;}\n",
       ".cython.score-181 {background-color: #FFFF0d;}\n",
       ".cython.score-182 {background-color: #FFFF0d;}\n",
       ".cython.score-183 {background-color: #FFFF0d;}\n",
       ".cython.score-184 {background-color: #FFFF0d;}\n",
       ".cython.score-185 {background-color: #FFFF0d;}\n",
       ".cython.score-186 {background-color: #FFFF0d;}\n",
       ".cython.score-187 {background-color: #FFFF0c;}\n",
       ".cython.score-188 {background-color: #FFFF0c;}\n",
       ".cython.score-189 {background-color: #FFFF0c;}\n",
       ".cython.score-190 {background-color: #FFFF0c;}\n",
       ".cython.score-191 {background-color: #FFFF0c;}\n",
       ".cython.score-192 {background-color: #FFFF0c;}\n",
       ".cython.score-193 {background-color: #FFFF0c;}\n",
       ".cython.score-194 {background-color: #FFFF0c;}\n",
       ".cython.score-195 {background-color: #FFFF0c;}\n",
       ".cython.score-196 {background-color: #FFFF0c;}\n",
       ".cython.score-197 {background-color: #FFFF0c;}\n",
       ".cython.score-198 {background-color: #FFFF0c;}\n",
       ".cython.score-199 {background-color: #FFFF0c;}\n",
       ".cython.score-200 {background-color: #FFFF0c;}\n",
       ".cython.score-201 {background-color: #FFFF0c;}\n",
       ".cython.score-202 {background-color: #FFFF0c;}\n",
       ".cython.score-203 {background-color: #FFFF0b;}\n",
       ".cython.score-204 {background-color: #FFFF0b;}\n",
       ".cython.score-205 {background-color: #FFFF0b;}\n",
       ".cython.score-206 {background-color: #FFFF0b;}\n",
       ".cython.score-207 {background-color: #FFFF0b;}\n",
       ".cython.score-208 {background-color: #FFFF0b;}\n",
       ".cython.score-209 {background-color: #FFFF0b;}\n",
       ".cython.score-210 {background-color: #FFFF0b;}\n",
       ".cython.score-211 {background-color: #FFFF0b;}\n",
       ".cython.score-212 {background-color: #FFFF0b;}\n",
       ".cython.score-213 {background-color: #FFFF0b;}\n",
       ".cython.score-214 {background-color: #FFFF0b;}\n",
       ".cython.score-215 {background-color: #FFFF0b;}\n",
       ".cython.score-216 {background-color: #FFFF0b;}\n",
       ".cython.score-217 {background-color: #FFFF0b;}\n",
       ".cython.score-218 {background-color: #FFFF0b;}\n",
       ".cython.score-219 {background-color: #FFFF0b;}\n",
       ".cython.score-220 {background-color: #FFFF0b;}\n",
       ".cython.score-221 {background-color: #FFFF0b;}\n",
       ".cython.score-222 {background-color: #FFFF0a;}\n",
       ".cython.score-223 {background-color: #FFFF0a;}\n",
       ".cython.score-224 {background-color: #FFFF0a;}\n",
       ".cython.score-225 {background-color: #FFFF0a;}\n",
       ".cython.score-226 {background-color: #FFFF0a;}\n",
       ".cython.score-227 {background-color: #FFFF0a;}\n",
       ".cython.score-228 {background-color: #FFFF0a;}\n",
       ".cython.score-229 {background-color: #FFFF0a;}\n",
       ".cython.score-230 {background-color: #FFFF0a;}\n",
       ".cython.score-231 {background-color: #FFFF0a;}\n",
       ".cython.score-232 {background-color: #FFFF0a;}\n",
       ".cython.score-233 {background-color: #FFFF0a;}\n",
       ".cython.score-234 {background-color: #FFFF0a;}\n",
       ".cython.score-235 {background-color: #FFFF0a;}\n",
       ".cython.score-236 {background-color: #FFFF0a;}\n",
       ".cython.score-237 {background-color: #FFFF0a;}\n",
       ".cython.score-238 {background-color: #FFFF0a;}\n",
       ".cython.score-239 {background-color: #FFFF0a;}\n",
       ".cython.score-240 {background-color: #FFFF0a;}\n",
       ".cython.score-241 {background-color: #FFFF0a;}\n",
       ".cython.score-242 {background-color: #FFFF0a;}\n",
       ".cython.score-243 {background-color: #FFFF0a;}\n",
       ".cython.score-244 {background-color: #FFFF0a;}\n",
       ".cython.score-245 {background-color: #FFFF0a;}\n",
       ".cython.score-246 {background-color: #FFFF09;}\n",
       ".cython.score-247 {background-color: #FFFF09;}\n",
       ".cython.score-248 {background-color: #FFFF09;}\n",
       ".cython.score-249 {background-color: #FFFF09;}\n",
       ".cython.score-250 {background-color: #FFFF09;}\n",
       ".cython.score-251 {background-color: #FFFF09;}\n",
       ".cython.score-252 {background-color: #FFFF09;}\n",
       ".cython.score-253 {background-color: #FFFF09;}\n",
       ".cython.score-254 {background-color: #FFFF09;}\n",
       "pre { line-height: 125%; }\n",
       "td.linenos .normal { color: inherit; background-color: transparent; padding-left: 5px; padding-right: 5px; }\n",
       "span.linenos { color: inherit; background-color: transparent; padding-left: 5px; padding-right: 5px; }\n",
       "td.linenos .special { color: #000000; background-color: #ffffc0; padding-left: 5px; padding-right: 5px; }\n",
       "span.linenos.special { color: #000000; background-color: #ffffc0; padding-left: 5px; padding-right: 5px; }\n",
       ".cython .hll { background-color: #ffffcc }\n",
       ".cython { background: #f8f8f8; }\n",
       ".cython .c { color: #408080; font-style: italic } /* Comment */\n",
       ".cython .err { border: 1px solid #FF0000 } /* Error */\n",
       ".cython .k { color: #008000; font-weight: bold } /* Keyword */\n",
       ".cython .o { color: #666666 } /* Operator */\n",
       ".cython .ch { color: #408080; font-style: italic } /* Comment.Hashbang */\n",
       ".cython .cm { color: #408080; font-style: italic } /* Comment.Multiline */\n",
       ".cython .cp { color: #BC7A00 } /* Comment.Preproc */\n",
       ".cython .cpf { color: #408080; font-style: italic } /* Comment.PreprocFile */\n",
       ".cython .c1 { color: #408080; font-style: italic } /* Comment.Single */\n",
       ".cython .cs { color: #408080; font-style: italic } /* Comment.Special */\n",
       ".cython .gd { color: #A00000 } /* Generic.Deleted */\n",
       ".cython .ge { font-style: italic } /* Generic.Emph */\n",
       ".cython .gr { color: #FF0000 } /* Generic.Error */\n",
       ".cython .gh { color: #000080; font-weight: bold } /* Generic.Heading */\n",
       ".cython .gi { color: #00A000 } /* Generic.Inserted */\n",
       ".cython .go { color: #888888 } /* Generic.Output */\n",
       ".cython .gp { color: #000080; font-weight: bold } /* Generic.Prompt */\n",
       ".cython .gs { font-weight: bold } /* Generic.Strong */\n",
       ".cython .gu { color: #800080; font-weight: bold } /* Generic.Subheading */\n",
       ".cython .gt { color: #0044DD } /* Generic.Traceback */\n",
       ".cython .kc { color: #008000; font-weight: bold } /* Keyword.Constant */\n",
       ".cython .kd { color: #008000; font-weight: bold } /* Keyword.Declaration */\n",
       ".cython .kn { color: #008000; font-weight: bold } /* Keyword.Namespace */\n",
       ".cython .kp { color: #008000 } /* Keyword.Pseudo */\n",
       ".cython .kr { color: #008000; font-weight: bold } /* Keyword.Reserved */\n",
       ".cython .kt { color: #B00040 } /* Keyword.Type */\n",
       ".cython .m { color: #666666 } /* Literal.Number */\n",
       ".cython .s { color: #BA2121 } /* Literal.String */\n",
       ".cython .na { color: #7D9029 } /* Name.Attribute */\n",
       ".cython .nb { color: #008000 } /* Name.Builtin */\n",
       ".cython .nc { color: #0000FF; font-weight: bold } /* Name.Class */\n",
       ".cython .no { color: #880000 } /* Name.Constant */\n",
       ".cython .nd { color: #AA22FF } /* Name.Decorator */\n",
       ".cython .ni { color: #999999; font-weight: bold } /* Name.Entity */\n",
       ".cython .ne { color: #D2413A; font-weight: bold } /* Name.Exception */\n",
       ".cython .nf { color: #0000FF } /* Name.Function */\n",
       ".cython .nl { color: #A0A000 } /* Name.Label */\n",
       ".cython .nn { color: #0000FF; font-weight: bold } /* Name.Namespace */\n",
       ".cython .nt { color: #008000; font-weight: bold } /* Name.Tag */\n",
       ".cython .nv { color: #19177C } /* Name.Variable */\n",
       ".cython .ow { color: #AA22FF; font-weight: bold } /* Operator.Word */\n",
       ".cython .w { color: #bbbbbb } /* Text.Whitespace */\n",
       ".cython .mb { color: #666666 } /* Literal.Number.Bin */\n",
       ".cython .mf { color: #666666 } /* Literal.Number.Float */\n",
       ".cython .mh { color: #666666 } /* Literal.Number.Hex */\n",
       ".cython .mi { color: #666666 } /* Literal.Number.Integer */\n",
       ".cython .mo { color: #666666 } /* Literal.Number.Oct */\n",
       ".cython .sa { color: #BA2121 } /* Literal.String.Affix */\n",
       ".cython .sb { color: #BA2121 } /* Literal.String.Backtick */\n",
       ".cython .sc { color: #BA2121 } /* Literal.String.Char */\n",
       ".cython .dl { color: #BA2121 } /* Literal.String.Delimiter */\n",
       ".cython .sd { color: #BA2121; font-style: italic } /* Literal.String.Doc */\n",
       ".cython .s2 { color: #BA2121 } /* Literal.String.Double */\n",
       ".cython .se { color: #BB6622; font-weight: bold } /* Literal.String.Escape */\n",
       ".cython .sh { color: #BA2121 } /* Literal.String.Heredoc */\n",
       ".cython .si { color: #BB6688; font-weight: bold } /* Literal.String.Interpol */\n",
       ".cython .sx { color: #008000 } /* Literal.String.Other */\n",
       ".cython .sr { color: #BB6688 } /* Literal.String.Regex */\n",
       ".cython .s1 { color: #BA2121 } /* Literal.String.Single */\n",
       ".cython .ss { color: #19177C } /* Literal.String.Symbol */\n",
       ".cython .bp { color: #008000 } /* Name.Builtin.Pseudo */\n",
       ".cython .fm { color: #0000FF } /* Name.Function.Magic */\n",
       ".cython .vc { color: #19177C } /* Name.Variable.Class */\n",
       ".cython .vg { color: #19177C } /* Name.Variable.Global */\n",
       ".cython .vi { color: #19177C } /* Name.Variable.Instance */\n",
       ".cython .vm { color: #19177C } /* Name.Variable.Magic */\n",
       ".cython .il { color: #666666 } /* Literal.Number.Integer.Long */\n",
       "    </style>\n",
       "</head>\n",
       "<body class=\"cython\">\n",
       "<p><span style=\"border-bottom: solid 1px grey;\">Generated by Cython 0.29.24</span></p>\n",
       "<p>\n",
       "    <span style=\"background-color: #FFFF00\">Yellow lines</span> hint at Python interaction.<br />\n",
       "    Click on a line that starts with a \"<code>+</code>\" to see the C code that Cython generated for it.\n",
       "</p>\n",
       "<div class=\"cython\"><pre class=\"cython line score-0\">&#xA0;<span class=\"\">1</span>: </pre>\n",
       "<pre class=\"cython line score-10\" onclick=\"(function(s){s.display=s.display==='block'?'none':'block'})(this.nextElementSibling.style)\">+<span class=\"\">2</span>: <span class=\"k\">def</span>  <span class=\"nf\">hello_nip</span><span class=\"p\">():</span></pre>\n",
       "<pre class='cython code score-10 '>/* Python wrapper */\n",
       "static PyObject *__pyx_pw_46_cython_magic_16c377f4704965a637d7315761144140_1hello_nip(PyObject *__pyx_self, CYTHON_UNUSED PyObject *unused); /*proto*/\n",
       "static PyMethodDef __pyx_mdef_46_cython_magic_16c377f4704965a637d7315761144140_1hello_nip = {\"hello_nip\", (PyCFunction)__pyx_pw_46_cython_magic_16c377f4704965a637d7315761144140_1hello_nip, METH_NOARGS, 0};\n",
       "static PyObject *__pyx_pw_46_cython_magic_16c377f4704965a637d7315761144140_1hello_nip(PyObject *__pyx_self, CYTHON_UNUSED PyObject *unused) {\n",
       "  PyObject *__pyx_r = 0;\n",
       "  <span class='refnanny'>__Pyx_RefNannyDeclarations</span>\n",
       "  <span class='refnanny'>__Pyx_RefNannySetupContext</span>(\"hello_nip (wrapper)\", 0);\n",
       "  __pyx_r = __pyx_pf_46_cython_magic_16c377f4704965a637d7315761144140_hello_nip(__pyx_self);\n",
       "\n",
       "  /* function exit code */\n",
       "  <span class='refnanny'>__Pyx_RefNannyFinishContext</span>();\n",
       "  return __pyx_r;\n",
       "}\n",
       "\n",
       "static PyObject *__pyx_pf_46_cython_magic_16c377f4704965a637d7315761144140_hello_nip(CYTHON_UNUSED PyObject *__pyx_self) {\n",
       "  PyObject *__pyx_r = NULL;\n",
       "  <span class='refnanny'>__Pyx_RefNannyDeclarations</span>\n",
       "  <span class='refnanny'>__Pyx_RefNannySetupContext</span>(\"hello_nip\", 0);\n",
       "/* … */\n",
       "  /* function exit code */\n",
       "  __pyx_r = Py_None; <span class='pyx_macro_api'>__Pyx_INCREF</span>(Py_None);\n",
       "  goto __pyx_L0;\n",
       "  __pyx_L1_error:;\n",
       "  <span class='pyx_macro_api'>__Pyx_XDECREF</span>(__pyx_t_1);\n",
       "  <span class='pyx_c_api'>__Pyx_AddTraceback</span>(\"_cython_magic_16c377f4704965a637d7315761144140.hello_nip\", __pyx_clineno, __pyx_lineno, __pyx_filename);\n",
       "  __pyx_r = NULL;\n",
       "  __pyx_L0:;\n",
       "  <span class='refnanny'>__Pyx_XGIVEREF</span>(__pyx_r);\n",
       "  <span class='refnanny'>__Pyx_RefNannyFinishContext</span>();\n",
       "  return __pyx_r;\n",
       "}\n",
       "/* … */\n",
       "  __pyx_t_1 = PyCFunction_NewEx(&amp;__pyx_mdef_46_cython_magic_16c377f4704965a637d7315761144140_1hello_nip, NULL, __pyx_n_s_cython_magic_16c377f4704965a637);<span class='error_goto'> if (unlikely(!__pyx_t_1)) __PYX_ERR(0, 2, __pyx_L1_error)</span>\n",
       "  <span class='refnanny'>__Pyx_GOTREF</span>(__pyx_t_1);\n",
       "  if (<span class='py_c_api'>PyDict_SetItem</span>(__pyx_d, __pyx_n_s_hello_nip, __pyx_t_1) &lt; 0) <span class='error_goto'>__PYX_ERR(0, 2, __pyx_L1_error)</span>\n",
       "  <span class='pyx_macro_api'>__Pyx_DECREF</span>(__pyx_t_1); __pyx_t_1 = 0;\n",
       "</pre><pre class=\"cython line score-8\" onclick=\"(function(s){s.display=s.display==='block'?'none':'block'})(this.nextElementSibling.style)\">+<span class=\"\">3</span>:     <span class=\"k\">print</span><span class=\"p\">(</span><span class=\"s\">&#39;Hello, World&#39;</span><span class=\"p\">)</span></pre>\n",
       "<pre class='cython code score-8 '>  __pyx_t_1 = <span class='pyx_c_api'>__Pyx_PyObject_Call</span>(__pyx_builtin_print, __pyx_tuple_, NULL);<span class='error_goto'> if (unlikely(!__pyx_t_1)) __PYX_ERR(0, 3, __pyx_L1_error)</span>\n",
       "  <span class='refnanny'>__Pyx_GOTREF</span>(__pyx_t_1);\n",
       "  <span class='pyx_macro_api'>__Pyx_DECREF</span>(__pyx_t_1); __pyx_t_1 = 0;\n",
       "/* … */\n",
       "  __pyx_tuple_ = <span class='py_c_api'>PyTuple_Pack</span>(1, __pyx_kp_u_Hello_World);<span class='error_goto'> if (unlikely(!__pyx_tuple_)) __PYX_ERR(0, 3, __pyx_L1_error)</span>\n",
       "  <span class='refnanny'>__Pyx_GOTREF</span>(__pyx_tuple_);\n",
       "  <span class='refnanny'>__Pyx_GIVEREF</span>(__pyx_tuple_);\n",
       "</pre></div></body></html>"
      ],
      "text/plain": [
       "<IPython.core.display.HTML object>"
      ]
     },
     "execution_count": 22,
     "metadata": {},
     "output_type": "execute_result"
    }
   ],
   "source": [
    "%%cython -a\n",
    "\n",
    "def  hello_nip():\n",
    "    print('Hello, World')"
   ]
  },
  {
   "cell_type": "code",
   "execution_count": null,
   "id": "2b3149b5",
   "metadata": {},
   "outputs": [
    {
     "name": "stdout",
     "output_type": "stream",
     "text": [
      "Hello, World\n"
     ]
    }
   ],
   "source": [
    "hello_nip()"
   ]
  },
  {
   "cell_type": "code",
   "execution_count": null,
   "id": "01f57d0e",
   "metadata": {},
   "outputs": [],
   "source": []
  },
  {
   "cell_type": "code",
   "execution_count": null,
   "id": "46c838ae",
   "metadata": {},
   "outputs": [
    {
     "data": {
      "text/plain": [
       "'\\nIn Cy we declare the type of a var prepending var with cdef and respective type.\\n\\ncdef can be used in multiple contexts, such as variables, functions, and extensions types\\n\\n'"
      ]
     },
     "execution_count": 18,
     "metadata": {},
     "output_type": "execute_result"
    }
   ],
   "source": [
    "# Adding static types: Variables.\n",
    "\n",
    "\"\"\"\n",
    "In Cy we declare the type of a var prepending var with cdef and respective type.\n",
    "\n",
    "cdef can be used in multiple contexts, such as variables, functions, and extensions types\n",
    "\n",
    "\"\"\"\n"
   ]
  },
  {
   "cell_type": "code",
   "execution_count": null,
   "id": "d9b9d994",
   "metadata": {},
   "outputs": [],
   "source": [
    "\n",
    "%%cython\n",
    "\n",
    "cdef int i\n"
   ]
  },
  {
   "cell_type": "code",
   "execution_count": null,
   "id": "ecbf7033",
   "metadata": {},
   "outputs": [],
   "source": [
    "%%cython \n",
    "import numpy as np\n",
    "\n",
    "cdef int max(int a, int b):\n",
    "    return a if a > b else b\n",
    "\n",
    "\n",
    "catch = max(22, 25)\n"
   ]
  },
  {
   "cell_type": "code",
   "execution_count": null,
   "id": "6a1d9055",
   "metadata": {},
   "outputs": [
    {
     "data": {
      "text/html": [
       "<!DOCTYPE html>\n",
       "<!-- Generated by Cython 0.29.24 -->\n",
       "<html>\n",
       "<head>\n",
       "    <meta http-equiv=\"Content-Type\" content=\"text/html; charset=utf-8\" />\n",
       "    <title>Cython: _cython_magic_d36086fab12b4fc0a2cfa646447179cf.pyx</title>\n",
       "    <style type=\"text/css\">\n",
       "    \n",
       "body.cython { font-family: courier; font-size: 12; }\n",
       "\n",
       ".cython.tag  {  }\n",
       ".cython.line { margin: 0em }\n",
       ".cython.code { font-size: 9; color: #444444; display: none; margin: 0px 0px 0px 8px; border-left: 8px none; }\n",
       "\n",
       ".cython.line .run { background-color: #B0FFB0; }\n",
       ".cython.line .mis { background-color: #FFB0B0; }\n",
       ".cython.code.run  { border-left: 8px solid #B0FFB0; }\n",
       ".cython.code.mis  { border-left: 8px solid #FFB0B0; }\n",
       "\n",
       ".cython.code .py_c_api  { color: red; }\n",
       ".cython.code .py_macro_api  { color: #FF7000; }\n",
       ".cython.code .pyx_c_api  { color: #FF3000; }\n",
       ".cython.code .pyx_macro_api  { color: #FF7000; }\n",
       ".cython.code .refnanny  { color: #FFA000; }\n",
       ".cython.code .trace  { color: #FFA000; }\n",
       ".cython.code .error_goto  { color: #FFA000; }\n",
       "\n",
       ".cython.code .coerce  { color: #008000; border: 1px dotted #008000 }\n",
       ".cython.code .py_attr { color: #FF0000; font-weight: bold; }\n",
       ".cython.code .c_attr  { color: #0000FF; }\n",
       ".cython.code .py_call { color: #FF0000; font-weight: bold; }\n",
       ".cython.code .c_call  { color: #0000FF; }\n",
       "\n",
       ".cython.score-0 {background-color: #FFFFff;}\n",
       ".cython.score-1 {background-color: #FFFFe7;}\n",
       ".cython.score-2 {background-color: #FFFFd4;}\n",
       ".cython.score-3 {background-color: #FFFFc4;}\n",
       ".cython.score-4 {background-color: #FFFFb6;}\n",
       ".cython.score-5 {background-color: #FFFFaa;}\n",
       ".cython.score-6 {background-color: #FFFF9f;}\n",
       ".cython.score-7 {background-color: #FFFF96;}\n",
       ".cython.score-8 {background-color: #FFFF8d;}\n",
       ".cython.score-9 {background-color: #FFFF86;}\n",
       ".cython.score-10 {background-color: #FFFF7f;}\n",
       ".cython.score-11 {background-color: #FFFF79;}\n",
       ".cython.score-12 {background-color: #FFFF73;}\n",
       ".cython.score-13 {background-color: #FFFF6e;}\n",
       ".cython.score-14 {background-color: #FFFF6a;}\n",
       ".cython.score-15 {background-color: #FFFF66;}\n",
       ".cython.score-16 {background-color: #FFFF62;}\n",
       ".cython.score-17 {background-color: #FFFF5e;}\n",
       ".cython.score-18 {background-color: #FFFF5b;}\n",
       ".cython.score-19 {background-color: #FFFF57;}\n",
       ".cython.score-20 {background-color: #FFFF55;}\n",
       ".cython.score-21 {background-color: #FFFF52;}\n",
       ".cython.score-22 {background-color: #FFFF4f;}\n",
       ".cython.score-23 {background-color: #FFFF4d;}\n",
       ".cython.score-24 {background-color: #FFFF4b;}\n",
       ".cython.score-25 {background-color: #FFFF48;}\n",
       ".cython.score-26 {background-color: #FFFF46;}\n",
       ".cython.score-27 {background-color: #FFFF44;}\n",
       ".cython.score-28 {background-color: #FFFF43;}\n",
       ".cython.score-29 {background-color: #FFFF41;}\n",
       ".cython.score-30 {background-color: #FFFF3f;}\n",
       ".cython.score-31 {background-color: #FFFF3e;}\n",
       ".cython.score-32 {background-color: #FFFF3c;}\n",
       ".cython.score-33 {background-color: #FFFF3b;}\n",
       ".cython.score-34 {background-color: #FFFF39;}\n",
       ".cython.score-35 {background-color: #FFFF38;}\n",
       ".cython.score-36 {background-color: #FFFF37;}\n",
       ".cython.score-37 {background-color: #FFFF36;}\n",
       ".cython.score-38 {background-color: #FFFF35;}\n",
       ".cython.score-39 {background-color: #FFFF34;}\n",
       ".cython.score-40 {background-color: #FFFF33;}\n",
       ".cython.score-41 {background-color: #FFFF32;}\n",
       ".cython.score-42 {background-color: #FFFF31;}\n",
       ".cython.score-43 {background-color: #FFFF30;}\n",
       ".cython.score-44 {background-color: #FFFF2f;}\n",
       ".cython.score-45 {background-color: #FFFF2e;}\n",
       ".cython.score-46 {background-color: #FFFF2d;}\n",
       ".cython.score-47 {background-color: #FFFF2c;}\n",
       ".cython.score-48 {background-color: #FFFF2b;}\n",
       ".cython.score-49 {background-color: #FFFF2b;}\n",
       ".cython.score-50 {background-color: #FFFF2a;}\n",
       ".cython.score-51 {background-color: #FFFF29;}\n",
       ".cython.score-52 {background-color: #FFFF29;}\n",
       ".cython.score-53 {background-color: #FFFF28;}\n",
       ".cython.score-54 {background-color: #FFFF27;}\n",
       ".cython.score-55 {background-color: #FFFF27;}\n",
       ".cython.score-56 {background-color: #FFFF26;}\n",
       ".cython.score-57 {background-color: #FFFF26;}\n",
       ".cython.score-58 {background-color: #FFFF25;}\n",
       ".cython.score-59 {background-color: #FFFF24;}\n",
       ".cython.score-60 {background-color: #FFFF24;}\n",
       ".cython.score-61 {background-color: #FFFF23;}\n",
       ".cython.score-62 {background-color: #FFFF23;}\n",
       ".cython.score-63 {background-color: #FFFF22;}\n",
       ".cython.score-64 {background-color: #FFFF22;}\n",
       ".cython.score-65 {background-color: #FFFF22;}\n",
       ".cython.score-66 {background-color: #FFFF21;}\n",
       ".cython.score-67 {background-color: #FFFF21;}\n",
       ".cython.score-68 {background-color: #FFFF20;}\n",
       ".cython.score-69 {background-color: #FFFF20;}\n",
       ".cython.score-70 {background-color: #FFFF1f;}\n",
       ".cython.score-71 {background-color: #FFFF1f;}\n",
       ".cython.score-72 {background-color: #FFFF1f;}\n",
       ".cython.score-73 {background-color: #FFFF1e;}\n",
       ".cython.score-74 {background-color: #FFFF1e;}\n",
       ".cython.score-75 {background-color: #FFFF1e;}\n",
       ".cython.score-76 {background-color: #FFFF1d;}\n",
       ".cython.score-77 {background-color: #FFFF1d;}\n",
       ".cython.score-78 {background-color: #FFFF1c;}\n",
       ".cython.score-79 {background-color: #FFFF1c;}\n",
       ".cython.score-80 {background-color: #FFFF1c;}\n",
       ".cython.score-81 {background-color: #FFFF1c;}\n",
       ".cython.score-82 {background-color: #FFFF1b;}\n",
       ".cython.score-83 {background-color: #FFFF1b;}\n",
       ".cython.score-84 {background-color: #FFFF1b;}\n",
       ".cython.score-85 {background-color: #FFFF1a;}\n",
       ".cython.score-86 {background-color: #FFFF1a;}\n",
       ".cython.score-87 {background-color: #FFFF1a;}\n",
       ".cython.score-88 {background-color: #FFFF1a;}\n",
       ".cython.score-89 {background-color: #FFFF19;}\n",
       ".cython.score-90 {background-color: #FFFF19;}\n",
       ".cython.score-91 {background-color: #FFFF19;}\n",
       ".cython.score-92 {background-color: #FFFF19;}\n",
       ".cython.score-93 {background-color: #FFFF18;}\n",
       ".cython.score-94 {background-color: #FFFF18;}\n",
       ".cython.score-95 {background-color: #FFFF18;}\n",
       ".cython.score-96 {background-color: #FFFF18;}\n",
       ".cython.score-97 {background-color: #FFFF17;}\n",
       ".cython.score-98 {background-color: #FFFF17;}\n",
       ".cython.score-99 {background-color: #FFFF17;}\n",
       ".cython.score-100 {background-color: #FFFF17;}\n",
       ".cython.score-101 {background-color: #FFFF16;}\n",
       ".cython.score-102 {background-color: #FFFF16;}\n",
       ".cython.score-103 {background-color: #FFFF16;}\n",
       ".cython.score-104 {background-color: #FFFF16;}\n",
       ".cython.score-105 {background-color: #FFFF16;}\n",
       ".cython.score-106 {background-color: #FFFF15;}\n",
       ".cython.score-107 {background-color: #FFFF15;}\n",
       ".cython.score-108 {background-color: #FFFF15;}\n",
       ".cython.score-109 {background-color: #FFFF15;}\n",
       ".cython.score-110 {background-color: #FFFF15;}\n",
       ".cython.score-111 {background-color: #FFFF15;}\n",
       ".cython.score-112 {background-color: #FFFF14;}\n",
       ".cython.score-113 {background-color: #FFFF14;}\n",
       ".cython.score-114 {background-color: #FFFF14;}\n",
       ".cython.score-115 {background-color: #FFFF14;}\n",
       ".cython.score-116 {background-color: #FFFF14;}\n",
       ".cython.score-117 {background-color: #FFFF14;}\n",
       ".cython.score-118 {background-color: #FFFF13;}\n",
       ".cython.score-119 {background-color: #FFFF13;}\n",
       ".cython.score-120 {background-color: #FFFF13;}\n",
       ".cython.score-121 {background-color: #FFFF13;}\n",
       ".cython.score-122 {background-color: #FFFF13;}\n",
       ".cython.score-123 {background-color: #FFFF13;}\n",
       ".cython.score-124 {background-color: #FFFF13;}\n",
       ".cython.score-125 {background-color: #FFFF12;}\n",
       ".cython.score-126 {background-color: #FFFF12;}\n",
       ".cython.score-127 {background-color: #FFFF12;}\n",
       ".cython.score-128 {background-color: #FFFF12;}\n",
       ".cython.score-129 {background-color: #FFFF12;}\n",
       ".cython.score-130 {background-color: #FFFF12;}\n",
       ".cython.score-131 {background-color: #FFFF12;}\n",
       ".cython.score-132 {background-color: #FFFF11;}\n",
       ".cython.score-133 {background-color: #FFFF11;}\n",
       ".cython.score-134 {background-color: #FFFF11;}\n",
       ".cython.score-135 {background-color: #FFFF11;}\n",
       ".cython.score-136 {background-color: #FFFF11;}\n",
       ".cython.score-137 {background-color: #FFFF11;}\n",
       ".cython.score-138 {background-color: #FFFF11;}\n",
       ".cython.score-139 {background-color: #FFFF11;}\n",
       ".cython.score-140 {background-color: #FFFF11;}\n",
       ".cython.score-141 {background-color: #FFFF10;}\n",
       ".cython.score-142 {background-color: #FFFF10;}\n",
       ".cython.score-143 {background-color: #FFFF10;}\n",
       ".cython.score-144 {background-color: #FFFF10;}\n",
       ".cython.score-145 {background-color: #FFFF10;}\n",
       ".cython.score-146 {background-color: #FFFF10;}\n",
       ".cython.score-147 {background-color: #FFFF10;}\n",
       ".cython.score-148 {background-color: #FFFF10;}\n",
       ".cython.score-149 {background-color: #FFFF10;}\n",
       ".cython.score-150 {background-color: #FFFF0f;}\n",
       ".cython.score-151 {background-color: #FFFF0f;}\n",
       ".cython.score-152 {background-color: #FFFF0f;}\n",
       ".cython.score-153 {background-color: #FFFF0f;}\n",
       ".cython.score-154 {background-color: #FFFF0f;}\n",
       ".cython.score-155 {background-color: #FFFF0f;}\n",
       ".cython.score-156 {background-color: #FFFF0f;}\n",
       ".cython.score-157 {background-color: #FFFF0f;}\n",
       ".cython.score-158 {background-color: #FFFF0f;}\n",
       ".cython.score-159 {background-color: #FFFF0f;}\n",
       ".cython.score-160 {background-color: #FFFF0f;}\n",
       ".cython.score-161 {background-color: #FFFF0e;}\n",
       ".cython.score-162 {background-color: #FFFF0e;}\n",
       ".cython.score-163 {background-color: #FFFF0e;}\n",
       ".cython.score-164 {background-color: #FFFF0e;}\n",
       ".cython.score-165 {background-color: #FFFF0e;}\n",
       ".cython.score-166 {background-color: #FFFF0e;}\n",
       ".cython.score-167 {background-color: #FFFF0e;}\n",
       ".cython.score-168 {background-color: #FFFF0e;}\n",
       ".cython.score-169 {background-color: #FFFF0e;}\n",
       ".cython.score-170 {background-color: #FFFF0e;}\n",
       ".cython.score-171 {background-color: #FFFF0e;}\n",
       ".cython.score-172 {background-color: #FFFF0e;}\n",
       ".cython.score-173 {background-color: #FFFF0d;}\n",
       ".cython.score-174 {background-color: #FFFF0d;}\n",
       ".cython.score-175 {background-color: #FFFF0d;}\n",
       ".cython.score-176 {background-color: #FFFF0d;}\n",
       ".cython.score-177 {background-color: #FFFF0d;}\n",
       ".cython.score-178 {background-color: #FFFF0d;}\n",
       ".cython.score-179 {background-color: #FFFF0d;}\n",
       ".cython.score-180 {background-color: #FFFF0d;}\n",
       ".cython.score-181 {background-color: #FFFF0d;}\n",
       ".cython.score-182 {background-color: #FFFF0d;}\n",
       ".cython.score-183 {background-color: #FFFF0d;}\n",
       ".cython.score-184 {background-color: #FFFF0d;}\n",
       ".cython.score-185 {background-color: #FFFF0d;}\n",
       ".cython.score-186 {background-color: #FFFF0d;}\n",
       ".cython.score-187 {background-color: #FFFF0c;}\n",
       ".cython.score-188 {background-color: #FFFF0c;}\n",
       ".cython.score-189 {background-color: #FFFF0c;}\n",
       ".cython.score-190 {background-color: #FFFF0c;}\n",
       ".cython.score-191 {background-color: #FFFF0c;}\n",
       ".cython.score-192 {background-color: #FFFF0c;}\n",
       ".cython.score-193 {background-color: #FFFF0c;}\n",
       ".cython.score-194 {background-color: #FFFF0c;}\n",
       ".cython.score-195 {background-color: #FFFF0c;}\n",
       ".cython.score-196 {background-color: #FFFF0c;}\n",
       ".cython.score-197 {background-color: #FFFF0c;}\n",
       ".cython.score-198 {background-color: #FFFF0c;}\n",
       ".cython.score-199 {background-color: #FFFF0c;}\n",
       ".cython.score-200 {background-color: #FFFF0c;}\n",
       ".cython.score-201 {background-color: #FFFF0c;}\n",
       ".cython.score-202 {background-color: #FFFF0c;}\n",
       ".cython.score-203 {background-color: #FFFF0b;}\n",
       ".cython.score-204 {background-color: #FFFF0b;}\n",
       ".cython.score-205 {background-color: #FFFF0b;}\n",
       ".cython.score-206 {background-color: #FFFF0b;}\n",
       ".cython.score-207 {background-color: #FFFF0b;}\n",
       ".cython.score-208 {background-color: #FFFF0b;}\n",
       ".cython.score-209 {background-color: #FFFF0b;}\n",
       ".cython.score-210 {background-color: #FFFF0b;}\n",
       ".cython.score-211 {background-color: #FFFF0b;}\n",
       ".cython.score-212 {background-color: #FFFF0b;}\n",
       ".cython.score-213 {background-color: #FFFF0b;}\n",
       ".cython.score-214 {background-color: #FFFF0b;}\n",
       ".cython.score-215 {background-color: #FFFF0b;}\n",
       ".cython.score-216 {background-color: #FFFF0b;}\n",
       ".cython.score-217 {background-color: #FFFF0b;}\n",
       ".cython.score-218 {background-color: #FFFF0b;}\n",
       ".cython.score-219 {background-color: #FFFF0b;}\n",
       ".cython.score-220 {background-color: #FFFF0b;}\n",
       ".cython.score-221 {background-color: #FFFF0b;}\n",
       ".cython.score-222 {background-color: #FFFF0a;}\n",
       ".cython.score-223 {background-color: #FFFF0a;}\n",
       ".cython.score-224 {background-color: #FFFF0a;}\n",
       ".cython.score-225 {background-color: #FFFF0a;}\n",
       ".cython.score-226 {background-color: #FFFF0a;}\n",
       ".cython.score-227 {background-color: #FFFF0a;}\n",
       ".cython.score-228 {background-color: #FFFF0a;}\n",
       ".cython.score-229 {background-color: #FFFF0a;}\n",
       ".cython.score-230 {background-color: #FFFF0a;}\n",
       ".cython.score-231 {background-color: #FFFF0a;}\n",
       ".cython.score-232 {background-color: #FFFF0a;}\n",
       ".cython.score-233 {background-color: #FFFF0a;}\n",
       ".cython.score-234 {background-color: #FFFF0a;}\n",
       ".cython.score-235 {background-color: #FFFF0a;}\n",
       ".cython.score-236 {background-color: #FFFF0a;}\n",
       ".cython.score-237 {background-color: #FFFF0a;}\n",
       ".cython.score-238 {background-color: #FFFF0a;}\n",
       ".cython.score-239 {background-color: #FFFF0a;}\n",
       ".cython.score-240 {background-color: #FFFF0a;}\n",
       ".cython.score-241 {background-color: #FFFF0a;}\n",
       ".cython.score-242 {background-color: #FFFF0a;}\n",
       ".cython.score-243 {background-color: #FFFF0a;}\n",
       ".cython.score-244 {background-color: #FFFF0a;}\n",
       ".cython.score-245 {background-color: #FFFF0a;}\n",
       ".cython.score-246 {background-color: #FFFF09;}\n",
       ".cython.score-247 {background-color: #FFFF09;}\n",
       ".cython.score-248 {background-color: #FFFF09;}\n",
       ".cython.score-249 {background-color: #FFFF09;}\n",
       ".cython.score-250 {background-color: #FFFF09;}\n",
       ".cython.score-251 {background-color: #FFFF09;}\n",
       ".cython.score-252 {background-color: #FFFF09;}\n",
       ".cython.score-253 {background-color: #FFFF09;}\n",
       ".cython.score-254 {background-color: #FFFF09;}\n",
       "pre { line-height: 125%; }\n",
       "td.linenos .normal { color: inherit; background-color: transparent; padding-left: 5px; padding-right: 5px; }\n",
       "span.linenos { color: inherit; background-color: transparent; padding-left: 5px; padding-right: 5px; }\n",
       "td.linenos .special { color: #000000; background-color: #ffffc0; padding-left: 5px; padding-right: 5px; }\n",
       "span.linenos.special { color: #000000; background-color: #ffffc0; padding-left: 5px; padding-right: 5px; }\n",
       ".cython .hll { background-color: #ffffcc }\n",
       ".cython { background: #f8f8f8; }\n",
       ".cython .c { color: #408080; font-style: italic } /* Comment */\n",
       ".cython .err { border: 1px solid #FF0000 } /* Error */\n",
       ".cython .k { color: #008000; font-weight: bold } /* Keyword */\n",
       ".cython .o { color: #666666 } /* Operator */\n",
       ".cython .ch { color: #408080; font-style: italic } /* Comment.Hashbang */\n",
       ".cython .cm { color: #408080; font-style: italic } /* Comment.Multiline */\n",
       ".cython .cp { color: #BC7A00 } /* Comment.Preproc */\n",
       ".cython .cpf { color: #408080; font-style: italic } /* Comment.PreprocFile */\n",
       ".cython .c1 { color: #408080; font-style: italic } /* Comment.Single */\n",
       ".cython .cs { color: #408080; font-style: italic } /* Comment.Special */\n",
       ".cython .gd { color: #A00000 } /* Generic.Deleted */\n",
       ".cython .ge { font-style: italic } /* Generic.Emph */\n",
       ".cython .gr { color: #FF0000 } /* Generic.Error */\n",
       ".cython .gh { color: #000080; font-weight: bold } /* Generic.Heading */\n",
       ".cython .gi { color: #00A000 } /* Generic.Inserted */\n",
       ".cython .go { color: #888888 } /* Generic.Output */\n",
       ".cython .gp { color: #000080; font-weight: bold } /* Generic.Prompt */\n",
       ".cython .gs { font-weight: bold } /* Generic.Strong */\n",
       ".cython .gu { color: #800080; font-weight: bold } /* Generic.Subheading */\n",
       ".cython .gt { color: #0044DD } /* Generic.Traceback */\n",
       ".cython .kc { color: #008000; font-weight: bold } /* Keyword.Constant */\n",
       ".cython .kd { color: #008000; font-weight: bold } /* Keyword.Declaration */\n",
       ".cython .kn { color: #008000; font-weight: bold } /* Keyword.Namespace */\n",
       ".cython .kp { color: #008000 } /* Keyword.Pseudo */\n",
       ".cython .kr { color: #008000; font-weight: bold } /* Keyword.Reserved */\n",
       ".cython .kt { color: #B00040 } /* Keyword.Type */\n",
       ".cython .m { color: #666666 } /* Literal.Number */\n",
       ".cython .s { color: #BA2121 } /* Literal.String */\n",
       ".cython .na { color: #7D9029 } /* Name.Attribute */\n",
       ".cython .nb { color: #008000 } /* Name.Builtin */\n",
       ".cython .nc { color: #0000FF; font-weight: bold } /* Name.Class */\n",
       ".cython .no { color: #880000 } /* Name.Constant */\n",
       ".cython .nd { color: #AA22FF } /* Name.Decorator */\n",
       ".cython .ni { color: #999999; font-weight: bold } /* Name.Entity */\n",
       ".cython .ne { color: #D2413A; font-weight: bold } /* Name.Exception */\n",
       ".cython .nf { color: #0000FF } /* Name.Function */\n",
       ".cython .nl { color: #A0A000 } /* Name.Label */\n",
       ".cython .nn { color: #0000FF; font-weight: bold } /* Name.Namespace */\n",
       ".cython .nt { color: #008000; font-weight: bold } /* Name.Tag */\n",
       ".cython .nv { color: #19177C } /* Name.Variable */\n",
       ".cython .ow { color: #AA22FF; font-weight: bold } /* Operator.Word */\n",
       ".cython .w { color: #bbbbbb } /* Text.Whitespace */\n",
       ".cython .mb { color: #666666 } /* Literal.Number.Bin */\n",
       ".cython .mf { color: #666666 } /* Literal.Number.Float */\n",
       ".cython .mh { color: #666666 } /* Literal.Number.Hex */\n",
       ".cython .mi { color: #666666 } /* Literal.Number.Integer */\n",
       ".cython .mo { color: #666666 } /* Literal.Number.Oct */\n",
       ".cython .sa { color: #BA2121 } /* Literal.String.Affix */\n",
       ".cython .sb { color: #BA2121 } /* Literal.String.Backtick */\n",
       ".cython .sc { color: #BA2121 } /* Literal.String.Char */\n",
       ".cython .dl { color: #BA2121 } /* Literal.String.Delimiter */\n",
       ".cython .sd { color: #BA2121; font-style: italic } /* Literal.String.Doc */\n",
       ".cython .s2 { color: #BA2121 } /* Literal.String.Double */\n",
       ".cython .se { color: #BB6622; font-weight: bold } /* Literal.String.Escape */\n",
       ".cython .sh { color: #BA2121 } /* Literal.String.Heredoc */\n",
       ".cython .si { color: #BB6688; font-weight: bold } /* Literal.String.Interpol */\n",
       ".cython .sx { color: #008000 } /* Literal.String.Other */\n",
       ".cython .sr { color: #BB6688 } /* Literal.String.Regex */\n",
       ".cython .s1 { color: #BA2121 } /* Literal.String.Single */\n",
       ".cython .ss { color: #19177C } /* Literal.String.Symbol */\n",
       ".cython .bp { color: #008000 } /* Name.Builtin.Pseudo */\n",
       ".cython .fm { color: #0000FF } /* Name.Function.Magic */\n",
       ".cython .vc { color: #19177C } /* Name.Variable.Class */\n",
       ".cython .vg { color: #19177C } /* Name.Variable.Global */\n",
       ".cython .vi { color: #19177C } /* Name.Variable.Instance */\n",
       ".cython .vm { color: #19177C } /* Name.Variable.Magic */\n",
       ".cython .il { color: #666666 } /* Literal.Number.Integer.Long */\n",
       "    </style>\n",
       "</head>\n",
       "<body class=\"cython\">\n",
       "<p><span style=\"border-bottom: solid 1px grey;\">Generated by Cython 0.29.24</span></p>\n",
       "<p>\n",
       "    <span style=\"background-color: #FFFF00\">Yellow lines</span> hint at Python interaction.<br />\n",
       "    Click on a line that starts with a \"<code>+</code>\" to see the C code that Cython generated for it.\n",
       "</p>\n",
       "<div class=\"cython\"><pre class=\"cython line score-0\">&#xA0;<span class=\"\">1</span>: </pre>\n",
       "<pre class=\"cython line score-2\" onclick=\"(function(s){s.display=s.display==='block'?'none':'block'})(this.nextElementSibling.style)\">+<span class=\"\">2</span>: <span class=\"k\">cdef</span> <span class=\"kt\">int</span> <span class=\"nf\">chebyshev</span><span class=\"p\">(</span><span class=\"nb\">int</span> <span class=\"n\">x1</span><span class=\"p\">,</span> <span class=\"nb\">int</span> <span class=\"n\">y1</span><span class=\"p\">,</span> <span class=\"nb\">int</span> <span class=\"n\">x2</span><span class=\"p\">,</span> <span class=\"nb\">int</span> <span class=\"n\">y2</span><span class=\"p\">):</span></pre>\n",
       "<pre class='cython code score-2 '>static int __pyx_f_46_cython_magic_d36086fab12b4fc0a2cfa646447179cf_chebyshev(int __pyx_v_x1, int __pyx_v_y1, int __pyx_v_x2, int __pyx_v_y2) {\n",
       "  int __pyx_r;\n",
       "  <span class='refnanny'>__Pyx_RefNannyDeclarations</span>\n",
       "  <span class='refnanny'>__Pyx_RefNannySetupContext</span>(\"chebyshev\", 0);\n",
       "/* … */\n",
       "  /* function exit code */\n",
       "  __pyx_L1_error:;\n",
       "  <span class='pyx_c_api'>__Pyx_WriteUnraisable</span>(\"_cython_magic_d36086fab12b4fc0a2cfa646447179cf.chebyshev\", __pyx_clineno, __pyx_lineno, __pyx_filename, 1, 0);\n",
       "  __pyx_r = 0;\n",
       "  __pyx_L0:;\n",
       "  <span class='refnanny'>__Pyx_RefNannyFinishContext</span>();\n",
       "  return __pyx_r;\n",
       "}\n",
       "</pre><pre class=\"cython line score-0\" onclick=\"(function(s){s.display=s.display==='block'?'none':'block'})(this.nextElementSibling.style)\">+<span class=\"\">3</span>:     <span class=\"k\">return</span> <span class=\"nb\">max</span><span class=\"p\">(</span><span class=\"nb\">abs</span><span class=\"p\">(</span><span class=\"n\">x1</span> <span class=\"o\">-</span> <span class=\"n\">x2</span><span class=\"p\">),</span> <span class=\"nb\">abs</span><span class=\"p\">(</span><span class=\"n\">y1</span> <span class=\"o\">-</span> <span class=\"n\">y2</span><span class=\"p\">))</span></pre>\n",
       "<pre class='cython code score-0 '>  __pyx_t_1 = abs((__pyx_v_y1 - __pyx_v_y2));<span class='error_goto'> if (unlikely(__pyx_t_1 == ((int)-1))) __PYX_ERR(0, 3, __pyx_L1_error)</span>\n",
       "  __pyx_t_2 = abs((__pyx_v_x1 - __pyx_v_x2));<span class='error_goto'> if (unlikely(__pyx_t_2 == ((int)-1))) __PYX_ERR(0, 3, __pyx_L1_error)</span>\n",
       "  if (((__pyx_t_1 &gt; __pyx_t_2) != 0)) {\n",
       "    __pyx_t_3 = __pyx_t_1;\n",
       "  } else {\n",
       "    __pyx_t_3 = __pyx_t_2;\n",
       "  }\n",
       "  __pyx_r = __pyx_t_3;\n",
       "  goto __pyx_L0;\n",
       "</pre></div></body></html>"
      ],
      "text/plain": [
       "<IPython.core.display.HTML object>"
      ]
     },
     "execution_count": 23,
     "metadata": {},
     "output_type": "execute_result"
    }
   ],
   "source": [
    "%%cython -a\n",
    "\n",
    "cdef int chebyshev(int x1, int y1, int x2, int y2):\n",
    "    return max(abs(x1 - x2), abs(y1 - y2))\n"
   ]
  },
  {
   "cell_type": "code",
   "execution_count": null,
   "id": "2b754416",
   "metadata": {},
   "outputs": [],
   "source": [
    "%%cython\n",
    "\n",
    "cdef double a, b = 2.0, c = 3.0\n"
   ]
  },
  {
   "cell_type": "code",
   "execution_count": null,
   "id": "19e4911f",
   "metadata": {},
   "outputs": [
    {
     "data": {
      "text/plain": [
       "(None, <pyximport.pyximport.PyxImporter at 0x2468b41fc88>)"
      ]
     },
     "execution_count": 3,
     "metadata": {},
     "output_type": "execute_result"
    }
   ],
   "source": [
    "# Assessing the speed gains\n",
    "import pyximport\n",
    "pyximport.install()"
   ]
  },
  {
   "cell_type": "code",
   "execution_count": null,
   "id": "2611d347",
   "metadata": {},
   "outputs": [],
   "source": [
    "\n",
    "%%cython \n",
    "def example():\n",
    "    cdef int i, j=0\n",
    "    for i in range(100):\n",
    "        j += 1\n",
    "    return j\n",
    "\n"
   ]
  },
  {
   "cell_type": "code",
   "execution_count": null,
   "id": "8a067e5a",
   "metadata": {},
   "outputs": [],
   "source": [
    "def example_py():\n",
    "    j = 0 \n",
    "    for i in range(100):\n",
    "        j += 1\n",
    "    return j\n",
    "\n",
    "    "
   ]
  },
  {
   "cell_type": "code",
   "execution_count": null,
   "id": "1770cc0d",
   "metadata": {},
   "outputs": [
    {
     "name": "stdout",
     "output_type": "stream",
     "text": [
      "106 ns ± 0.842 ns per loop (mean ± std. dev. of 7 runs, 10000000 loops each)\n",
      "2.9 µs ± 129 ns per loop (mean ± std. dev. of 7 runs, 100000 loops each)\n"
     ]
    }
   ],
   "source": [
    "%timeit example()\n",
    "\n",
    "%timeit example_py()"
   ]
  },
  {
   "cell_type": "code",
   "execution_count": null,
   "id": "98083bda",
   "metadata": {},
   "outputs": [],
   "source": [
    "# If we declare a variable to be of the object type, it accepts any kind of Py Object.\n"
   ]
  },
  {
   "cell_type": "code",
   "execution_count": null,
   "id": "4e51f878",
   "metadata": {},
   "outputs": [],
   "source": [
    "%%cython\n",
    "\n",
    "cdef object a_py\n",
    "\n",
    "a_py = 'hello'\n",
    "a_py =  1\n"
   ]
  },
  {
   "cell_type": "code",
   "execution_count": null,
   "id": "f9b017b0",
   "metadata": {},
   "outputs": [],
   "source": []
  },
  {
   "cell_type": "code",
   "execution_count": null,
   "id": "df75d0d4",
   "metadata": {},
   "outputs": [],
   "source": [
    "\"\"\" \n",
    "Functions: add type information to the arguments of a Py function by specifying the type in front of each of the arg names.\n",
    "Functions specified this way will work and perform like regular py functions but arg will be type-checked.\n",
    "\"\"\""
   ]
  },
  {
   "cell_type": "code",
   "execution_count": null,
   "id": "b5cbb0f0",
   "metadata": {},
   "outputs": [],
   "source": [
    "%%cython\n",
    "def max_py(int a, int b):\n",
    "    return a if a > b else b"
   ]
  },
  {
   "cell_type": "code",
   "execution_count": null,
   "id": "f291b724",
   "metadata": {},
   "outputs": [],
   "source": [
    "# A function specified this way still need to switch back to interpreter.\n",
    "# To allow Cython for call op, declare type of return type using a cdef statement.\n"
   ]
  },
  {
   "cell_type": "code",
   "execution_count": null,
   "id": "eafe6847",
   "metadata": {},
   "outputs": [],
   "source": [
    "%%cython\n",
    "cdef max_Cy(int a, int b):\n",
    "    return a if a > b else b"
   ]
  },
  {
   "cell_type": "code",
   "execution_count": null,
   "id": "a8daa2fd",
   "metadata": {},
   "outputs": [],
   "source": [
    "# cdef function cant be called inside of py only Cy \n",
    "# cpdef Cython generates two versions of funtion. Py verion & Cy version.\n"
   ]
  },
  {
   "cell_type": "code",
   "execution_count": null,
   "id": "9265f957",
   "metadata": {},
   "outputs": [],
   "source": [
    "\n",
    "%%cython\n",
    "cpdef max_two(int a, int b):\n",
    "    return a if a > b else b"
   ]
  },
  {
   "cell_type": "code",
   "execution_count": null,
   "id": "8be1c782",
   "metadata": {},
   "outputs": [],
   "source": [
    "# When a function is small add inline keyword to replace defition with body of function\n"
   ]
  },
  {
   "cell_type": "code",
   "execution_count": null,
   "id": "251454b7",
   "metadata": {},
   "outputs": [],
   "source": [
    "%%cython\n",
    "cdef inline int max_inline(int a, int b):\n",
    "    return a if a > b else b"
   ]
  },
  {
   "cell_type": "code",
   "execution_count": null,
   "id": "35640f22",
   "metadata": {},
   "outputs": [],
   "source": []
  },
  {
   "cell_type": "code",
   "execution_count": null,
   "id": "b33278ee",
   "metadata": {},
   "outputs": [],
   "source": [
    "\n",
    "# Classes: define extension using cdef class statement and declaring attributes in class body.\n",
    "\n",
    "# Accessing declared att in class method allows Cy to bypass py att look-ups.\n"
   ]
  },
  {
   "cell_type": "code",
   "execution_count": null,
   "id": "9dbe7ca0",
   "metadata": {},
   "outputs": [],
   "source": [
    "\n",
    "%%cython\n",
    "\n",
    "cdef class Point:\n",
    "    cdef double x\n",
    "    cdef double y\n",
    "\n",
    "    def __init__(self, double x, double y):\n",
    "        self.x = x\n",
    "        self.y = y\n",
    "\n"
   ]
  },
  {
   "cell_type": "code",
   "execution_count": null,
   "id": "8d0ed2eb",
   "metadata": {},
   "outputs": [],
   "source": [
    "# You need to declare type of vars intended for use at compile time. \n",
    "\n"
   ]
  },
  {
   "cell_type": "code",
   "execution_count": null,
   "id": "a1be0e53",
   "metadata": {},
   "outputs": [],
   "source": [
    "\n",
    "%%cython\n",
    "\n",
    "\n",
    "cdef class Point:\n",
    "    cdef public double x"
   ]
  },
  {
   "cell_type": "code",
   "execution_count": null,
   "id": "cb6fbae7",
   "metadata": {},
   "outputs": [],
   "source": [
    "\"\"\" \n",
    "Sharing declarations:\n",
    "When cythoning you may want to reorganize most used functions and classes declaration in separate file so they can reused in diff modules.\n",
    "\n",
    "Cy allows to put these components in a definition file and access them with cimport statements.\n",
    "\n",
    "definition files also interface with external C code. \n",
    "\n",
    "\n",
    "To share functions, we need to write a defintion file with a .pxd extension. The file contains the types and function protypes \n",
    "\"\"\"\n"
   ]
  },
  {
   "cell_type": "code",
   "execution_count": null,
   "id": "3b7ba852",
   "metadata": {},
   "outputs": [],
   "source": [
    "\n",
    "%%cython\n",
    "\n",
    "from mathlib cimport max\n",
    "\n",
    "def chebyshev(int x1, int y1, int x2, int y2):\n",
    "    return max(abs(x1 - x2), abs(y1 - y2))"
   ]
  },
  {
   "cell_type": "code",
   "execution_count": null,
   "id": "faa7dd7c",
   "metadata": {},
   "outputs": [],
   "source": []
  },
  {
   "cell_type": "code",
   "execution_count": null,
   "id": "4e63a349",
   "metadata": {},
   "outputs": [
    {
     "data": {
      "text/plain": [
       "'\\nC arrays and pointers\\n\\nC arr are collection of items of the same type, stored contigously in memory.\\nReview: How memory is managed in C. Variables in C are containers.\\nWhen creating a variable, a space in memory is reserved to store its value.\\nIf we create a variable containing a  64 bit floating point number (double)\\nThe program will allocate 64 bit (16 bytes) of memory. \\nThis portion of memory can be accessed through  an address to that memory location.\\n\\n\\nTo obtain address of var, use address operator denoted by &.\\nAlso the printf funtion, \\n\\n_____________________________________\\n\\nMemory address can be stored in special variables, pointers, that can be declared by putting a * prefix in front of var name\\n%%cython\\n\\nfrom libc.stdio cimport printf\\n\\ncdef double a\\ncdef double *a_pointer\\na_pointer = &a \\n\\na = 3.0\\n\\nprintf(a_pointer)\\n\\n_________________________________________\\n\\nWhen declaring a C array, the program allocates enough space to accommodate all the elements requested. \\nIn Cy we declare such array using.\\n\\nThe arr variable in fact, points to memory loc of 0th element in array.\\n\\nVerify the add of the first element od arr is  the add contained in the arr\\n\\n___________________________________________\\n\\n'"
      ]
     },
     "execution_count": 58,
     "metadata": {},
     "output_type": "execute_result"
    }
   ],
   "source": [
    "\"\"\"\n",
    "C arrays and pointers\n",
    "\n",
    "C arr are collection of items of the same type, stored contigously in memory.\n",
    "Review: How memory is managed in C. Variables in C are containers.\n",
    "When creating a variable, a space in memory is reserved to store its value.\n",
    "If we create a variable containing a  64 bit floating point number (double)\n",
    "The program will allocate 64 bit (16 bytes) of memory. \n",
    "This portion of memory can be accessed through  an address to that memory location.\n",
    "\n",
    "\n",
    "To obtain address of var, use address operator denoted by &.\n",
    "Also the printf funtion, \n",
    "\n",
    "_____________________________________\n",
    "\n",
    "Memory address can be stored in special variables, pointers, that can be declared by putting a * prefix in front of var name\n",
    "%%cython\n",
    "\n",
    "from libc.stdio cimport printf\n",
    "\n",
    "cdef double a\n",
    "cdef double *a_pointer\n",
    "a_pointer = &a \n",
    "\n",
    "a = 3.0\n",
    "\n",
    "printf(a_pointer)\n",
    "\n",
    "_________________________________________\n",
    "\n",
    "When declaring a C array, the program allocates enough space to accommodate all the elements requested. \n",
    "In Cy we declare such array using.\n",
    "\n",
    "The arr variable in fact, points to memory loc of 0th element in array.\n",
    "\n",
    "Verify the add of the first element od arr is  the add contained in the arr\n",
    "\n",
    "___________________________________________\n",
    "\n",
    "\"\"\""
   ]
  },
  {
   "cell_type": "code",
   "execution_count": null,
   "id": "e173051a",
   "metadata": {},
   "outputs": [],
   "source": [
    "\n",
    "%%cython\n",
    "\n",
    "cdef double a = 1\n"
   ]
  },
  {
   "cell_type": "code",
   "execution_count": null,
   "id": "6393aff6",
   "metadata": {},
   "outputs": [],
   "source": [
    "%%cython\n",
    "\n",
    "cdef double a = 1\n",
    "\n",
    "from libc.stdio cimport printf\n",
    "printf(\"%p\", &a)"
   ]
  },
  {
   "cell_type": "code",
   "execution_count": null,
   "id": "25da9104",
   "metadata": {},
   "outputs": [],
   "source": [
    "%%cython\n",
    "\n",
    "from libc.stdio cimport printf\n",
    "\n",
    "cdef double a\n",
    "cdef double *a_pointer\n",
    "a_pointer = &a\n"
   ]
  },
  {
   "cell_type": "code",
   "execution_count": null,
   "id": "3a51d7b4",
   "metadata": {},
   "outputs": [],
   "source": [
    "%%cython\n",
    "\n",
    "cdef double arr[10]"
   ]
  },
  {
   "cell_type": "code",
   "execution_count": null,
   "id": "4e827de9",
   "metadata": {},
   "outputs": [],
   "source": [
    "%%cython\n",
    "\n",
    "cdef double arr[5][2]"
   ]
  },
  {
   "cell_type": "code",
   "execution_count": null,
   "id": "8097bb4c",
   "metadata": {},
   "outputs": [],
   "source": [
    "%%cython\n",
    "\n",
    "\n",
    "from libc.stdio cimport printf\n",
    "\n",
    "cdef double arr[10]\n",
    "\n",
    "printf(\"%p\\n\",  arr)\n",
    "printf(\"%p\\n\", &arr[0])"
   ]
  },
  {
   "cell_type": "code",
   "execution_count": null,
   "id": "1653495d",
   "metadata": {},
   "outputs": [],
   "source": [
    "\n",
    "# NNP arr: Cy provides a np module with better support for direct iteration.\n",
    "\n"
   ]
  },
  {
   "cell_type": "code",
   "execution_count": null,
   "id": "c2877cff",
   "metadata": {},
   "outputs": [],
   "source": [
    "%%cython\n",
    "import numpy as np\n",
    "def numpy_bench_py():\n",
    "    py_arr = np.random.rand(1000)\n",
    "    cdef int i \n",
    "    for i in range(1000):\n",
    "        py_arr[i]  += 1\n",
    "\n"
   ]
  },
  {
   "cell_type": "code",
   "execution_count": null,
   "id": "e61931f6",
   "metadata": {},
   "outputs": [],
   "source": [
    "%%cython\n",
    "cimport numpy as c_np\n",
    "import numpy as np\n",
    "\n",
    "\n",
    "def numpy_bench_c():\n",
    "    cdef c_np.ndarray[double, ndim=1] c_arr\n",
    "    c_arr = np.random.rand(1000)\n",
    "    cdef int i\n",
    "\n",
    "    for i in range(1000):\n",
    "        c_arr[i]  += 1"
   ]
  },
  {
   "cell_type": "code",
   "execution_count": null,
   "id": "e3588fff",
   "metadata": {},
   "outputs": [
    {
     "name": "stdout",
     "output_type": "stream",
     "text": [
      "9.77 µs ± 350 ns per loop (mean ± std. dev. of 7 runs, 100000 loops each)\n",
      "375 µs ± 12.9 µs per loop (mean ± std. dev. of 7 runs, 1000 loops each)\n"
     ]
    }
   ],
   "source": [
    "%timeit numpy_bench_c()\n",
    "\n",
    "%timeit numpy_bench_py()"
   ]
  },
  {
   "cell_type": "code",
   "execution_count": null,
   "id": "af4aeda9",
   "metadata": {},
   "outputs": [],
   "source": [
    "\"\"\"\n",
    "Typed memoryviews:\n",
    "\n",
    "A memoryview an object that maintains a reference on a specific memory area. It does not own the data but can read and change it contents:\n",
    "in other words it is a view on the underlying data.\n",
    "\n",
    "We define using special syntax. Lets define a memoryview of int and a two-dim memoryview of double\n",
    "\"\"\""
   ]
  },
  {
   "cell_type": "code",
   "execution_count": 66,
   "id": "5bee79ac",
   "metadata": {},
   "outputs": [],
   "source": [
    "%%cython\n",
    "cimport numpy as c_np\n",
    "\n",
    "cdef int[:] a\n",
    "\n",
    "cdef double[:, :] b"
   ]
  },
  {
   "cell_type": "code",
   "execution_count": 72,
   "id": "943f38da",
   "metadata": {},
   "outputs": [
    {
     "name": "stdout",
     "output_type": "stream",
     "text": [
      "[0 0 1 0 0 0 0 0 0 0]\n"
     ]
    }
   ],
   "source": [
    "%%cython\n",
    "cimport numpy as c_np\n",
    "import numpy as np \n",
    "\n",
    "cdef int[:] arr\n",
    "arr_np = np.zeros(10, dtype='int32')\n",
    "\n",
    "arr = arr_np\n",
    "\n",
    "arr[2]  = 1 \n",
    "print(arr_np)"
   ]
  },
  {
   "cell_type": "code",
   "execution_count": 87,
   "id": "1ccba5b7",
   "metadata": {},
   "outputs": [],
   "source": [
    "# Particle simulator in Cython. Thanks t Cy we can convert loops in C removing overhead in Py interpreter.\n",
    "# We dont need a return value for c_evolve val are updated in the r_i arr in place. \n",
    "# Benchmark untyped cy ver against old nump version\n"
   ]
  },
  {
   "cell_type": "code",
   "execution_count": 90,
   "id": "c09e54e8",
   "metadata": {},
   "outputs": [],
   "source": [
    "\n",
    "%%cython\n",
    "import time\n",
    "cimport numpy as c_np\n",
    "import numpy as np \n",
    "\n",
    "\n",
    "def evolve_numpy(self,dt):\n",
    "    timestep = 0.00001\n",
    "    nsteps = int(dt/timestep)\n",
    "\n",
    "    r_i = np.array([[p.x, p.y] for p in self.particles])\n",
    "    ang_speed_i = np.array([p.ang_speed for p in self.particles])\n",
    "    v_i = np.empty_like(r_i)\n",
    "\n",
    "    for i in range(nsteps):\n",
    "        norm_i = np.sqrt((r_i ** 2).sum(axis=1))\n",
    "\n",
    "        v_i = r_i[:, [1,0]]\n",
    "        v_i[:, 0] *= -1\n",
    "        v_i /= norm_i[:, np.newaxis]\n",
    "\n",
    "        d_i = timestep * ang_speed_i[:, np.newaxis] * v_i\n",
    "\n",
    "        r_i +=  d_i\n",
    "\n",
    "    for i, p in enumerate(self.particles):\n",
    "        p.x, p.y =  r_i[i]\n",
    "\n",
    "def evolve_cython(self,dt):\n",
    "    timestep = 0.00001\n",
    "    nsteps = int(dt/timestep)\n",
    "    \n",
    "    r_i = np.array([[p.x, p.y] for p in self.particles])\n",
    "    ang_speed_i = np.array([p.ang_speed for p in self.particles])\n",
    "\n",
    "    c_evolve(r_i, ang_speed_i, timestep, nsteps)\n",
    "    \n",
    "    for i, p in enumerate(self.particles):\n",
    "        p.x, p.y =  r_i[i]\n",
    "\n",
    "\n",
    "def c_evolve(r_i, ang_speed_i, timestep, nsteps):\n",
    "    v_i = np.empty_like(r_i)\n",
    "\n",
    "    for i in range(nsteps):\n",
    "        norm_i = np.sqrt((r_i ** 2).sum(axis=1))\n",
    "\n",
    "        v_i = r_i[:, [1,0]]\n",
    "        v_i[:, 0] *= -1\n",
    "        v_i /= norm_i[:, np.newaxis]\n",
    "\n",
    "        d_i = timestep * ang_speed_i[:, np.newaxis] * v_i\n",
    "\n",
    "        r_i +=  d_i\n",
    "        "
   ]
  },
  {
   "cell_type": "code",
   "execution_count": 100,
   "id": "ecfd8634",
   "metadata": {},
   "outputs": [],
   "source": [
    "\n",
    "def benchmark(npart=100, method='python'):\n",
    "    particles =  [Particle(uniform(-1.0, 1.0),\n",
    "                           uniform(-1.0, 1.0),\n",
    "                           uniform(-1.0, 1.0))\n",
    "                           for i in range(npart)]\n",
    "    simulator = ParticleSimulator(particles)\n",
    "    if method =='python':\n",
    "        simulator.evolve_python(0.1)\n",
    "    elif method == 'cython':\n",
    "        simulator.evolve_cython(0.1)\n",
    "    elif method ==  'numpy':\n",
    "        simulator.evolve_numpy(0.1) \n"
   ]
  },
  {
   "cell_type": "code",
   "execution_count": null,
   "id": "20daa5a1",
   "metadata": {},
   "outputs": [],
   "source": [
    "# adding types to the function arguments: Delcare arrays as types mem views containing double vals.\n",
    "# passing arr of type int of float32 casting wont happen automatically\n",
    "#%timeit benchmark(100, 'cython')"
   ]
  },
  {
   "cell_type": "code",
   "execution_count": 117,
   "id": "f983fcd2",
   "metadata": {},
   "outputs": [
    {
     "name": "stderr",
     "output_type": "stream",
     "text": [
      "warning: C:\\Users\\JBarr\\.ipython\\cython\\_cython_magic_9a5c1daeb1e1e758c3806dcc6a361285.pyx:10:16: local variable 'j' referenced before assignment\n",
      "warning: C:\\Users\\JBarr\\.ipython\\cython\\_cython_magic_9a5c1daeb1e1e758c3806dcc6a361285.pyx:11:16: local variable 'j' referenced before assignment\n",
      "warning: C:\\Users\\JBarr\\.ipython\\cython\\_cython_magic_9a5c1daeb1e1e758c3806dcc6a361285.pyx:12:32: local variable 'j' referenced before assignment\n",
      "warning: C:\\Users\\JBarr\\.ipython\\cython\\_cython_magic_9a5c1daeb1e1e758c3806dcc6a361285.pyx:22:12: local variable 'j' referenced before assignment\n",
      "warning: C:\\Users\\JBarr\\.ipython\\cython\\_cython_magic_9a5c1daeb1e1e758c3806dcc6a361285.pyx:23:12: local variable 'j' referenced before assignment\n"
     ]
    }
   ],
   "source": [
    "\n",
    "%%cython\n",
    "from  libc.math cimport sqrt\n",
    "\n",
    "\n",
    "def C_evolve(double[:, :] r_i, double[:] ang_speed_i, double timestep, int nsteps):\n",
    "\n",
    "    cdef int i, j  \n",
    "    cdef int nparticles = r_i.shape[0]\n",
    "\n",
    "    for i in range(nparticles):\n",
    "        x = r_i[j, 0]\n",
    "        y = r_i[j, 1]\n",
    "        ang_speed = ang_speed_i[j]\n",
    "\n",
    "        norm = sqrt(x ** 2 + y **2)\n",
    "\n",
    "        vx = (-y)/norm\n",
    "        vy = x/norm\n",
    "\n",
    "        dx = timestep * ang_speed * vx\n",
    "        dy = timestep * ang_speed * vy\n",
    "\n",
    "        r_i[j, 0] += dx\n",
    "        r_i[j,1] += dy\n",
    "\n",
    "cdef double norm, x, y, vx, vy, dx, dy, ang_speed"
   ]
  },
  {
   "cell_type": "code",
   "execution_count": null,
   "id": "f9e91515",
   "metadata": {},
   "outputs": [],
   "source": []
  }
 ],
 "metadata": {
  "interpreter": {
   "hash": "9ae16ef445867c3ddd8a030e03f508a31c88ab57810e24e3a3afaf36f09532d0"
  },
  "kernelspec": {
   "display_name": "dev",
   "language": "python",
   "name": "python3"
  },
  "language_info": {
   "codemirror_mode": {
    "name": "ipython",
    "version": 3
   },
   "file_extension": ".py",
   "mimetype": "text/x-python",
   "name": "python",
   "nbconvert_exporter": "python",
   "pygments_lexer": "ipython3",
   "version": "3.7.11"
  }
 },
 "nbformat": 4,
 "nbformat_minor": 5
}
