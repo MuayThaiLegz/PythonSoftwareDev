{
 "cells": [
  {
   "cell_type": "code",
   "execution_count": 52,
   "metadata": {},
   "outputs": [
    {
     "data": {
      "text/plain": [
       "'\\n\\nChapter 5: Exploring Compilers. \\nExploring Numba and PyPy.\\n_______________________________\\n\\nNumba exposes specialized types using the signatures attribute. Right after the sum_sq definition.\\n\\nIf we call this function with a specific argument Numba compiles a specialized version\\n\\nAn individual signature can be passed as a tuple containg type we would like to accept.\\nIf we want to specify an array of a specific type, use slicing operator [:] on type itself\\n\\nAnother way to declare signatures is through type strings. Also pass multiple signatue\\n\\nNumba provides a function, called inspect_types,\\nhelps understand how effictive type inference was and which operations were optimized.\\n\\n_______________________________\\n\\nNumba and Numpy:\\n    Originally developed to increase performance of code using NP arr.\\n    Currently, many NP features are implemented efficiaently by compiler\\n\\nUniversal functions: np broadcast function:\\n    U funcs can be dif in np by the scalar version and the\\n    np.verctorize func to enhance the func with broadcasting feature\\n\\n'"
      ]
     },
     "execution_count": 52,
     "metadata": {},
     "output_type": "execute_result"
    }
   ],
   "source": [
    "\"\"\"\n",
    "\n",
    "Chapter 5: Exploring Compilers. \n",
    "Exploring Numba and PyPy.\n",
    "_______________________________\n",
    "\n",
    "Numba exposes specialized types using the signatures attribute. Right after the sum_sq definition.\n",
    "\n",
    "If we call this function with a specific argument Numba compiles a specialized version\n",
    "\n",
    "An individual signature can be passed as a tuple containg type we would like to accept.\n",
    "If we want to specify an array of a specific type, use slicing operator [:] on type itself\n",
    "\n",
    "Another way to declare signatures is through type strings. Also pass multiple signatue\n",
    "\n",
    "Numba provides a function, called inspect_types,\n",
    "helps understand how effictive type inference was and which operations were optimized.\n",
    "\n",
    "_______________________________\n",
    "\n",
    "Numba and Numpy:\n",
    "    Originally developed to increase performance of code using NP arr.\n",
    "    Currently, many NP features are implemented efficiaently by compiler\n",
    "\n",
    "Universal functions: np broadcast function:\n",
    "    U funcs can be dif in np by the scalar version and the\n",
    "    np.verctorize func to enhance the func with broadcasting feature\n",
    "\n",
    "\"\"\"\n"
   ]
  },
  {
   "cell_type": "code",
   "execution_count": 53,
   "metadata": {},
   "outputs": [],
   "source": [
    "import numba as nb\n",
    "\n",
    "\n",
    "def sum_sq(a):\n",
    "    resultofSum = 0\n",
    "    N  = len(a)\n",
    "    for i in range(N):\n",
    "        resultofSum += a[i]\n",
    "    return resultofSum\n",
    "\n"
   ]
  },
  {
   "cell_type": "code",
   "execution_count": 54,
   "metadata": {},
   "outputs": [
    {
     "name": "stdout",
     "output_type": "stream",
     "text": [
      "1.31 ms ± 28.9 µs per loop (mean ± std. dev. of 7 runs, 1000 loops each)\n",
      "11.2 µs ± 209 ns per loop (mean ± std. dev. of 7 runs, 100000 loops each)\n"
     ]
    }
   ],
   "source": [
    "# first steps with numba\n",
    "\n",
    "@nb.jit\n",
    "\n",
    "def sum_sq(a):\n",
    "    resultofSum = 0\n",
    "    N  = len(a)\n",
    "    for i in range(N):\n",
    "        resultofSum += a[i]\n",
    "    return resultofSum\n",
    "\n",
    "import numpy as np \n",
    "\n",
    "x = np.random.rand(10000)\n",
    "\n",
    "# Original\n",
    "\n",
    "%timeit sum_sq.py_func(x)\n",
    "\n",
    "# numba\n",
    "\n",
    "%timeit sum_sq(x)\n",
    "\n"
   ]
  },
  {
   "cell_type": "code",
   "execution_count": 55,
   "metadata": {},
   "outputs": [
    {
     "data": {
      "text/plain": [
       "[(array(float64, 1d, C),)]"
      ]
     },
     "metadata": {},
     "output_type": "display_data"
    },
    {
     "data": {
      "text/plain": [
       "[(array(float64, 1d, C),), (array(float32, 1d, C),)]"
      ]
     },
     "metadata": {},
     "output_type": "display_data"
    }
   ],
   "source": [
    "\n",
    "sum_sq.signatures\n",
    "\n",
    "x = np.random.rand(1000).astype('float64')\n",
    "\n",
    "sum_sq(x)\n",
    "\n",
    "display(sum_sq.signatures)\n",
    "\n",
    "xx = np.random.rand(1000).astype('float32')\n",
    "sum_sq(xx)\n",
    "\n",
    "display(sum_sq.signatures)"
   ]
  },
  {
   "cell_type": "code",
   "execution_count": 56,
   "metadata": {},
   "outputs": [],
   "source": [
    "#@nb.jit(\"float64(float64[:])\")\n",
    "@nb.jit([\"float64(float64[:])\",\n",
    "        \"float64(float32[:])\"])\n",
    "def sum_sq(a):\n",
    "    resultofSum = 0\n",
    "    N  = len(a)\n",
    "    for i in range(N):\n",
    "        resultofSum += a[i]\n",
    "    return resultofSum\n",
    "\n"
   ]
  },
  {
   "cell_type": "code",
   "execution_count": 57,
   "metadata": {},
   "outputs": [
    {
     "data": {
      "text/plain": [
       "493.6986324964091"
      ]
     },
     "execution_count": 57,
     "metadata": {},
     "output_type": "execute_result"
    }
   ],
   "source": [
    "sum_sq(x.astype(\"float32\"))"
   ]
  },
  {
   "cell_type": "code",
   "execution_count": 58,
   "metadata": {},
   "outputs": [
    {
     "name": "stdout",
     "output_type": "stream",
     "text": [
      "sum_sq (array(float64, 1d, A),)\n",
      "--------------------------------------------------------------------------------\n",
      "# File: C:\\Users\\JBarr\\AppData\\Local\\Temp/ipykernel_11864/4038124245.py\n",
      "# --- LINE 2 --- \n",
      "\n",
      "@nb.jit([\"float64(float64[:])\",\n",
      "\n",
      "        # --- LINE 3 --- \n",
      "\n",
      "        \"float64(float32[:])\"])\n",
      "\n",
      "# --- LINE 4 --- \n",
      "\n",
      "def sum_sq(a):\n",
      "\n",
      "    # --- LINE 5 --- \n",
      "    # label 0\n",
      "    #   a = arg(0, name=a)  :: array(float64, 1d, A)\n",
      "    #   resultofSum = const(int, 0)  :: Literal[int](0)\n",
      "    #   resultofSum.2 = resultofSum  :: float64\n",
      "    #   del resultofSum\n",
      "\n",
      "    resultofSum = 0\n",
      "\n",
      "    # --- LINE 6 --- \n",
      "    #   $6load_global.1 = global(len: <built-in function len>)  :: Function(<built-in function len>)\n",
      "    #   N = call $6load_global.1(a, func=$6load_global.1, args=[Var(a, 4038124245.py:5)], kws=(), vararg=None, target=None)  :: (array(float64, 1d, A),) -> int64\n",
      "    #   del $6load_global.1\n",
      "\n",
      "    N  = len(a)\n",
      "\n",
      "    # --- LINE 7 --- \n",
      "    #   jump 14\n",
      "    # label 14\n",
      "    #   $16load_global.0 = global(range: <class 'range'>)  :: Function(<class 'range'>)\n",
      "    #   $20call_function.2 = call $16load_global.0(N, func=$16load_global.0, args=[Var(N, 4038124245.py:6)], kws=(), vararg=None, target=None)  :: (int64,) -> range_state_int64\n",
      "    #   del N\n",
      "    #   del $16load_global.0\n",
      "    #   $22get_iter.3 = getiter(value=$20call_function.2)  :: range_iter_int64\n",
      "    #   del $20call_function.2\n",
      "    #   $phi24.0 = $22get_iter.3  :: range_iter_int64\n",
      "    #   del $22get_iter.3\n",
      "    #   jump 24\n",
      "    # label 24\n",
      "    #   $24for_iter.1 = iternext(value=$phi24.0)  :: pair<int64, bool>\n",
      "    #   $24for_iter.2 = pair_first(value=$24for_iter.1)  :: int64\n",
      "    #   $24for_iter.3 = pair_second(value=$24for_iter.1)  :: bool\n",
      "    #   del $24for_iter.1\n",
      "    #   $phi26.1 = $24for_iter.2  :: int64\n",
      "    #   del $24for_iter.2\n",
      "    #   branch $24for_iter.3, 26, 42\n",
      "    # label 26\n",
      "    #   del $24for_iter.3\n",
      "    #   i = $phi26.1  :: int64\n",
      "    #   del $phi26.1\n",
      "\n",
      "    for i in range(N):\n",
      "\n",
      "        # --- LINE 8 --- \n",
      "        #   $34binary_subscr.5 = getitem(value=a, index=i, fn=<built-in function getitem>)  :: float64\n",
      "        #   del i\n",
      "        #   $36inplace_add.6 = inplace_binop(fn=<built-in function iadd>, immutable_fn=<built-in function add>, lhs=resultofSum.2, rhs=$34binary_subscr.5, static_lhs=Undefined, static_rhs=Undefined)  :: float64\n",
      "        #   del $34binary_subscr.5\n",
      "        #   resultofSum.1 = $36inplace_add.6  :: float64\n",
      "        #   del $36inplace_add.6\n",
      "        #   resultofSum.2 = resultofSum.1  :: float64\n",
      "        #   del resultofSum.1\n",
      "        #   jump 24\n",
      "        # label 42\n",
      "\n",
      "        resultofSum += a[i]\n",
      "\n",
      "    # --- LINE 9 --- \n",
      "    #   del a\n",
      "    #   del $phi26.1\n",
      "    #   del $phi24.0\n",
      "    #   del $24for_iter.3\n",
      "    #   jump 44\n",
      "    # label 44\n",
      "    #   $46return_value.1 = cast(value=resultofSum.2)  :: float64\n",
      "    #   del resultofSum.2\n",
      "    #   return $46return_value.1\n",
      "\n",
      "    return resultofSum\n",
      "\n",
      "\n",
      "================================================================================\n",
      "sum_sq (array(float32, 1d, A),)\n",
      "--------------------------------------------------------------------------------\n",
      "# File: C:\\Users\\JBarr\\AppData\\Local\\Temp/ipykernel_11864/4038124245.py\n",
      "# --- LINE 2 --- \n",
      "\n",
      "@nb.jit([\"float64(float64[:])\",\n",
      "\n",
      "        # --- LINE 3 --- \n",
      "\n",
      "        \"float64(float32[:])\"])\n",
      "\n",
      "# --- LINE 4 --- \n",
      "\n",
      "def sum_sq(a):\n",
      "\n",
      "    # --- LINE 5 --- \n",
      "    # label 0\n",
      "    #   a = arg(0, name=a)  :: array(float32, 1d, A)\n",
      "    #   resultofSum = const(int, 0)  :: Literal[int](0)\n",
      "    #   resultofSum.2 = resultofSum  :: float64\n",
      "    #   del resultofSum\n",
      "\n",
      "    resultofSum = 0\n",
      "\n",
      "    # --- LINE 6 --- \n",
      "    #   $6load_global.1 = global(len: <built-in function len>)  :: Function(<built-in function len>)\n",
      "    #   N = call $6load_global.1(a, func=$6load_global.1, args=[Var(a, 4038124245.py:5)], kws=(), vararg=None, target=None)  :: (array(float32, 1d, A),) -> int64\n",
      "    #   del $6load_global.1\n",
      "\n",
      "    N  = len(a)\n",
      "\n",
      "    # --- LINE 7 --- \n",
      "    #   jump 14\n",
      "    # label 14\n",
      "    #   $16load_global.0 = global(range: <class 'range'>)  :: Function(<class 'range'>)\n",
      "    #   $20call_function.2 = call $16load_global.0(N, func=$16load_global.0, args=[Var(N, 4038124245.py:6)], kws=(), vararg=None, target=None)  :: (int64,) -> range_state_int64\n",
      "    #   del N\n",
      "    #   del $16load_global.0\n",
      "    #   $22get_iter.3 = getiter(value=$20call_function.2)  :: range_iter_int64\n",
      "    #   del $20call_function.2\n",
      "    #   $phi24.0 = $22get_iter.3  :: range_iter_int64\n",
      "    #   del $22get_iter.3\n",
      "    #   jump 24\n",
      "    # label 24\n",
      "    #   $24for_iter.1 = iternext(value=$phi24.0)  :: pair<int64, bool>\n",
      "    #   $24for_iter.2 = pair_first(value=$24for_iter.1)  :: int64\n",
      "    #   $24for_iter.3 = pair_second(value=$24for_iter.1)  :: bool\n",
      "    #   del $24for_iter.1\n",
      "    #   $phi26.1 = $24for_iter.2  :: int64\n",
      "    #   del $24for_iter.2\n",
      "    #   branch $24for_iter.3, 26, 42\n",
      "    # label 26\n",
      "    #   del $24for_iter.3\n",
      "    #   i = $phi26.1  :: int64\n",
      "    #   del $phi26.1\n",
      "\n",
      "    for i in range(N):\n",
      "\n",
      "        # --- LINE 8 --- \n",
      "        #   $34binary_subscr.5 = getitem(value=a, index=i, fn=<built-in function getitem>)  :: float32\n",
      "        #   del i\n",
      "        #   $36inplace_add.6 = inplace_binop(fn=<built-in function iadd>, immutable_fn=<built-in function add>, lhs=resultofSum.2, rhs=$34binary_subscr.5, static_lhs=Undefined, static_rhs=Undefined)  :: float64\n",
      "        #   del $34binary_subscr.5\n",
      "        #   resultofSum.1 = $36inplace_add.6  :: float64\n",
      "        #   del $36inplace_add.6\n",
      "        #   resultofSum.2 = resultofSum.1  :: float64\n",
      "        #   del resultofSum.1\n",
      "        #   jump 24\n",
      "        # label 42\n",
      "\n",
      "        resultofSum += a[i]\n",
      "\n",
      "    # --- LINE 9 --- \n",
      "    #   del a\n",
      "    #   del $phi26.1\n",
      "    #   del $phi24.0\n",
      "    #   del $24for_iter.3\n",
      "    #   jump 44\n",
      "    # label 44\n",
      "    #   $46return_value.1 = cast(value=resultofSum.2)  :: float64\n",
      "    #   del resultofSum.2\n",
      "    #   return $46return_value.1\n",
      "\n",
      "    return resultofSum\n",
      "\n",
      "\n",
      "================================================================================\n"
     ]
    }
   ],
   "source": [
    "sum_sq.inspect_types()"
   ]
  },
  {
   "cell_type": "code",
   "execution_count": 74,
   "metadata": {},
   "outputs": [],
   "source": [
    "def contor_py(a, b):\n",
    "    return int(0.5 * (a + b) * ( a + b + 1 ) + b)"
   ]
  },
  {
   "cell_type": "code",
   "execution_count": 75,
   "metadata": {},
   "outputs": [],
   "source": [
    "np.vectorize\n",
    "def contor(a, b):\n",
    "    return int(0.5 * (a + b) * ( a + b + 1 ) + b)\n",
    "    "
   ]
  },
  {
   "cell_type": "code",
   "execution_count": null,
   "metadata": {},
   "outputs": [],
   "source": []
  },
  {
   "cell_type": "code",
   "execution_count": 76,
   "metadata": {},
   "outputs": [
    {
     "name": "stdout",
     "output_type": "stream",
     "text": [
      "316 ns ± 2.45 ns per loop (mean ± std. dev. of 7 runs, 1000000 loops each)\n"
     ]
    }
   ],
   "source": [
    "# Py\n",
    "%timeit contor_py(10, 33)"
   ]
  },
  {
   "cell_type": "code",
   "execution_count": 77,
   "metadata": {},
   "outputs": [
    {
     "name": "stdout",
     "output_type": "stream",
     "text": [
      "323 ns ± 8.51 ns per loop (mean ± std. dev. of 7 runs, 1000000 loops each)\n"
     ]
    }
   ],
   "source": [
    "# Numba\n",
    "\n",
    "%timeit contor(10, 33)"
   ]
  },
  {
   "cell_type": "code",
   "execution_count": 80,
   "metadata": {},
   "outputs": [
    {
     "name": "stdout",
     "output_type": "stream",
     "text": [
      "8.51 ns ± 0.054 ns per loop (mean ± std. dev. of 7 runs, 100000000 loops each)\n"
     ]
    }
   ],
   "source": [
    "# Numpy\n",
    "\n",
    "%timeit (0.5 * (10.0 + 33.3) * ( 10.0 + 33.3 + 1.0 ) + 33)"
   ]
  },
  {
   "cell_type": "code",
   "execution_count": 61,
   "metadata": {},
   "outputs": [],
   "source": [
    "# In Python we define a Node class as follows:\n",
    "# Wecanmanage the collection of Nodeinstances creating another class,\n",
    "# called LinkedList. The class keeps track of head of list\n",
    "\n",
    "\n",
    "class Node:\n",
    "    def __init__(self, value):\n",
    "        self.next = None\n",
    "        self.value=  value\n",
    "\n",
    "class  LinkedList:\n",
    "    def __init__(self):\n",
    "        self.head = None\n",
    "    def push_front(self, value):\n",
    "        if self.head == None:\n",
    "            self.head = Node(value)\n",
    "        else:\n",
    "            # We replace the head\n",
    "            new_head = Node(value)           \n",
    "            new_head.next = self.head\n",
    "            self.head = new_head\n",
    "        # For debugging implement LinkedList.show that print each element\n",
    "    def show(self):\n",
    "        node = self.head\n",
    "        while node is not None:\n",
    "            print(node.value)\n",
    "            node = node.next"
   ]
  },
  {
   "cell_type": "code",
   "execution_count": 62,
   "metadata": {},
   "outputs": [
    {
     "name": "stdout",
     "output_type": "stream",
     "text": [
      "3\n",
      "2\n",
      "1\n"
     ]
    }
   ],
   "source": [
    "first = LinkedList()\n",
    "first.push_front(1)\n",
    "first.push_front(2)\n",
    "first.push_front(3)\n",
    "first.show()\n"
   ]
  },
  {
   "cell_type": "code",
   "execution_count": 87,
   "metadata": {},
   "outputs": [],
   "source": [
    "@nb.jit\n",
    "def sum_list(first):\n",
    "    res = 0\n",
    "    node = first.head\n",
    "    while node is not None:\n",
    "        \n",
    "        result += node.value\n",
    "        node = node.next\n",
    "    return result\n",
    "    "
   ]
  },
  {
   "cell_type": "code",
   "execution_count": 88,
   "metadata": {},
   "outputs": [
    {
     "data": {
      "text/plain": [
       "[None, None, None, None, None, None, None, None, None, None]"
      ]
     },
     "execution_count": 88,
     "metadata": {},
     "output_type": "execute_result"
    }
   ],
   "source": [
    "javone = LinkedList()\n",
    "[javone.push_front(i) for i in range(10)]\n"
   ]
  },
  {
   "cell_type": "code",
   "execution_count": 94,
   "metadata": {},
   "outputs": [],
   "source": [
    "node_type = nb.deferred_type()\n",
    "\n",
    "node_spec = [\n",
    "    ('next', nb.optional(node_type)),\n",
    "    ('value', nb.int64)\n",
    "]\n"
   ]
  },
  {
   "cell_type": "code",
   "execution_count": 96,
   "metadata": {},
   "outputs": [
    {
     "data": {
      "text/plain": [
       "[('next', OptionalType(DeferredType#2136814274056)), ('value', int64)]"
      ]
     },
     "execution_count": 96,
     "metadata": {},
     "output_type": "execute_result"
    }
   ],
   "source": [
    "node_spec"
   ]
  },
  {
   "cell_type": "code",
   "execution_count": 100,
   "metadata": {},
   "outputs": [
    {
     "ename": "AttributeError",
     "evalue": "module 'numba' has no attribute 'jitclass'",
     "output_type": "error",
     "traceback": [
      "\u001b[1;31m---------------------------------------------------------------------------\u001b[0m",
      "\u001b[1;31mAttributeError\u001b[0m                            Traceback (most recent call last)",
      "\u001b[1;32m~\\AppData\\Local\\Temp/ipykernel_11864/1635405752.py\u001b[0m in \u001b[0;36m<module>\u001b[1;34m\u001b[0m\n\u001b[1;32m----> 1\u001b[1;33m \u001b[1;33m@\u001b[0m\u001b[0mnb\u001b[0m\u001b[1;33m.\u001b[0m\u001b[0mjitclass\u001b[0m\u001b[1;33m(\u001b[0m\u001b[0mnode_spec\u001b[0m\u001b[1;33m)\u001b[0m\u001b[1;33m\u001b[0m\u001b[1;33m\u001b[0m\u001b[0m\n\u001b[0m\u001b[0;32m      2\u001b[0m \u001b[1;33m\u001b[0m\u001b[0m\n\u001b[0;32m      3\u001b[0m \u001b[1;32mclass\u001b[0m \u001b[0mNode\u001b[0m\u001b[1;33m:\u001b[0m\u001b[1;33m\u001b[0m\u001b[1;33m\u001b[0m\u001b[0m\n\u001b[0;32m      4\u001b[0m     \u001b[1;32mdef\u001b[0m \u001b[0m__init__\u001b[0m\u001b[1;33m(\u001b[0m\u001b[0mself\u001b[0m\u001b[1;33m,\u001b[0m \u001b[0mvalue\u001b[0m\u001b[1;33m)\u001b[0m\u001b[1;33m:\u001b[0m\u001b[1;33m\u001b[0m\u001b[1;33m\u001b[0m\u001b[0m\n\u001b[0;32m      5\u001b[0m         \u001b[0mself\u001b[0m\u001b[1;33m.\u001b[0m\u001b[0mnext\u001b[0m \u001b[1;33m=\u001b[0m \u001b[1;32mNone\u001b[0m\u001b[1;33m\u001b[0m\u001b[1;33m\u001b[0m\u001b[0m\n",
      "\u001b[1;31mAttributeError\u001b[0m: module 'numba' has no attribute 'jitclass'"
     ]
    }
   ],
   "source": [
    "\n",
    "@nb.jitclass(node_spec)\n",
    "\n",
    "class Node:\n",
    "    def __init__(self, value):\n",
    "        self.next = None\n",
    "        self.value=  value\n",
    "\n",
    "\n",
    "node_type.define(Node.class_type.instance_type)"
   ]
  },
  {
   "cell_type": "code",
   "execution_count": 118,
   "metadata": {},
   "outputs": [
    {
     "data": {
      "text/plain": [
       "'\\nChapter 6 Implementing Concurrency: Asychoronous programming is a programming paradigm that deal\\nwith slow and unpredictable resources. \\n\\n\\n\\nCallbacks: To makethe code start  working on other tasks  we need to find away to avoid blocking\\nthe program flow so that the restof the program can work on other task.\\n'"
      ]
     },
     "execution_count": 118,
     "metadata": {},
     "output_type": "execute_result"
    }
   ],
   "source": [
    "\n",
    "\"\"\"\n",
    "Chapter 6 Implementing Concurrency: Asychoronous programming is a programming paradigm that deal\n",
    "with slow and unpredictable resources. \n",
    "\n",
    "\n",
    "\n",
    "Callbacks: To makethe code start  working on other tasks  we need to find away to avoid blocking\n",
    "the program flow so that the restof the program can work on other task.\n",
    "\"\"\"\n",
    "\n",
    "\n"
   ]
  },
  {
   "cell_type": "code",
   "execution_count": 64,
   "metadata": {},
   "outputs": [
    {
     "name": "stdout",
     "output_type": "stream",
     "text": [
      "Result is: 4\n",
      "Result is: 9\n",
      "Result is: 16\n"
     ]
    }
   ],
   "source": [
    "import time\n",
    "\n",
    "def network_request(number):\n",
    "    time.sleep(1.0)\n",
    "    return {\"success\": True, \"result\": number **  2}\n",
    "\n",
    "def fetch_square(number):\n",
    "    REPOS = network_request(number)\n",
    "    if REPOS['success']:\n",
    "        print(\"Result is: {}\".format(REPOS['result']))\n",
    "\n",
    "\n",
    "fetch_square(2)\n",
    "\n",
    "fetch_square(3)\n",
    "\n",
    "fetch_square(4)"
   ]
  },
  {
   "cell_type": "code",
   "execution_count": 65,
   "metadata": {},
   "outputs": [],
   "source": [
    "# will block program execution then print()\n",
    "\n",
    "def wait_and_print(msg):\n",
    "    time.sleep(1.0)\n",
    "    print(msg)"
   ]
  },
  {
   "cell_type": "code",
   "execution_count": 66,
   "metadata": {},
   "outputs": [],
   "source": [
    "# A callback is a functin the will be called when the timer expires.\n",
    "# we also call the Timer.start method  to activate timer.\n",
    "\n",
    "import threading\n",
    "\n",
    "def wait_and_print_async(msg):\n",
    "    def callback():\n",
    "        print(msg)\n",
    "\n",
    "    timer = threading.Timer(1.0, callback)\n",
    "    timer.start()"
   ]
  },
  {
   "cell_type": "code",
   "execution_count": 103,
   "metadata": {},
   "outputs": [
    {
     "name": "stdout",
     "output_type": "stream",
     "text": [
      "Hello world\n",
      "Wall time: 1.01 s\n"
     ]
    }
   ],
   "source": [
    "%%time\n",
    "wait_and_print('Hello world');\n"
   ]
  },
  {
   "cell_type": "code",
   "execution_count": 104,
   "metadata": {},
   "outputs": [
    {
     "name": "stdout",
     "output_type": "stream",
     "text": [
      "Wall time: 997 µs\n",
      "Hello world\n"
     ]
    }
   ],
   "source": [
    "\n",
    "%%time\n",
    "wait_and_print_async('Hello world')"
   ]
  },
  {
   "cell_type": "code",
   "execution_count": 69,
   "metadata": {},
   "outputs": [],
   "source": [
    "def network_request_async(number, on_done):\n",
    "\n",
    "    def  timer_done():\n",
    "        on_done({\"success\": True, \"result\": number ** 2})\n",
    "        timer = threading.Timer(1.0, timer_done)\n",
    "        timer.start()\n",
    "\n",
    "def on_done(result):\n",
    "    print(result)\n",
    "\n",
    "network_request_async(2, on_done)"
   ]
  },
  {
   "cell_type": "code",
   "execution_count": 70,
   "metadata": {},
   "outputs": [
    {
     "name": "stdout",
     "output_type": "stream",
     "text": [
      "After submmision\n"
     ]
    }
   ],
   "source": [
    "network_request_async(2, on_done)\n",
    "network_request_async(3, on_done)\n",
    "network_request_async(4, on_done)\n",
    "print(\"After submmision\")"
   ]
  },
  {
   "cell_type": "code",
   "execution_count": 71,
   "metadata": {},
   "outputs": [],
   "source": [
    "def fetch_square(number):\n",
    "    def on_done(response):\n",
    "        if response['success']:\n",
    "            print(\"Result is: {}\".format(response['result']))\n",
    "\n",
    "    network_request_async(number, on_done)"
   ]
  },
  {
   "cell_type": "code",
   "execution_count": 72,
   "metadata": {},
   "outputs": [
    {
     "name": "stdout",
     "output_type": "stream",
     "text": [
      "Hello world\n"
     ]
    }
   ],
   "source": [
    "fetch_square(4)\n"
   ]
  },
  {
   "cell_type": "code",
   "execution_count": 119,
   "metadata": {},
   "outputs": [
    {
     "data": {
      "text/plain": [
       "'\\nFutures are a more conbenient pattern used to track results of asynchronous calls.\\nof the requested resources and that we are waiting to become available. \\n\\nTo attact a callback it is sufficient to pass a function to the Future.add_done_callback method.\\nWhen the task completes, the func will be called with Fut instance as first arg\\nresult can is retrived suing Future.result() method\\n\\n'"
      ]
     },
     "execution_count": 119,
     "metadata": {},
     "output_type": "execute_result"
    }
   ],
   "source": [
    "\"\"\"\n",
    "Futures are a more conbenient pattern used to track results of asynchronous calls.\n",
    "of the requested resources and that we are waiting to become available. \n",
    "\n",
    "To attact a callback it is sufficient to pass a function to the Future.add_done_callback method.\n",
    "When the task completes, the func will be called with Fut instance as first arg\n",
    "result can is retrived suing Future.result() method\n",
    "\n",
    "In practical apps futures would be handled by frameworks\n",
    "\n",
    "\"\"\""
   ]
  },
  {
   "cell_type": "code",
   "execution_count": 149,
   "metadata": {},
   "outputs": [
    {
     "data": {
      "text/plain": [
       "<Future at 0x1f184094cc8 state=pending>"
      ]
     },
     "metadata": {},
     "output_type": "display_data"
    },
    {
     "data": {
      "text/plain": [
       "'Hello'"
      ]
     },
     "execution_count": 149,
     "metadata": {},
     "output_type": "execute_result"
    }
   ],
   "source": [
    "# Futures\n",
    "\n",
    "import threading\n",
    "import concurrent\n",
    "\n",
    "fut = concurrent.futures.Future()\n",
    "\n",
    "display(fut)\n",
    "\n",
    "fut.set_result('Hello')\n",
    "\n",
    "fut.result()\n",
    "\n"
   ]
  },
  {
   "cell_type": "code",
   "execution_count": 150,
   "metadata": {},
   "outputs": [
    {
     "data": {
      "text/plain": [
       "<Future at 0x1f183feec88 state=pending>"
      ]
     },
     "metadata": {},
     "output_type": "display_data"
    },
    {
     "name": "stdout",
     "output_type": "stream",
     "text": [
      "World\n"
     ]
    }
   ],
   "source": [
    "\n",
    "FuncFut = concurrent.futures.Future()\n",
    "\n",
    "\n",
    "FuncFut.add_done_callback(lambda future: print(future.result(), flush=True))\n",
    "display(FuncFut)\n",
    "\n",
    "FuncFut.set_result('World')\n"
   ]
  },
  {
   "cell_type": "code",
   "execution_count": 152,
   "metadata": {},
   "outputs": [],
   "source": [
    "from concurrent.futures import Future\n",
    "\n",
    "def network_request_async(number):\n",
    "    future = Future()\n",
    "    result = {\"success\": True, \"result\": number ** 2}\n",
    "    timer = threading.Timer(1.0, lambda: future.set_result(result))\n",
    "    timer.start()\n",
    "    return future\n",
    "\n",
    "\n",
    "\n",
    "fut =  network_request_async(2)\n"
   ]
  },
  {
   "cell_type": "code",
   "execution_count": null,
   "metadata": {},
   "outputs": [],
   "source": [
    "from concurrent.futures import Future\n",
    "\n",
    "def fet_square(number):\n",
    "    futnum = network_request_async(number)\n",
    "\n",
    "    def on_done_future(future):\n",
    "        responce = future.result()"
   ]
  },
  {
   "cell_type": "code",
   "execution_count": null,
   "metadata": {},
   "outputs": [],
   "source": []
  }
 ],
 "metadata": {
  "interpreter": {
   "hash": "9ae16ef445867c3ddd8a030e03f508a31c88ab57810e24e3a3afaf36f09532d0"
  },
  "kernelspec": {
   "display_name": "dev",
   "language": "python",
   "name": "dev"
  },
  "language_info": {
   "codemirror_mode": {
    "name": "ipython",
    "version": 3
   },
   "file_extension": ".py",
   "mimetype": "text/x-python",
   "name": "python",
   "nbconvert_exporter": "python",
   "pygments_lexer": "ipython3",
   "version": "3.7.11"
  },
  "orig_nbformat": 4
 },
 "nbformat": 4,
 "nbformat_minor": 2
}
