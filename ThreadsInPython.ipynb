{
 "cells": [
  {
   "cell_type": "code",
   "execution_count": 1,
   "metadata": {},
   "outputs": [
    {
     "name": "stderr",
     "output_type": "stream",
     "text": [
      "Python-dotenv could not parse statement starting at line 29\n",
      "Python-dotenv could not parse statement starting at line 30\n"
     ]
    }
   ],
   "source": [
    "import os\n",
    "\n",
    "import requests\n",
    "\n",
    "import json\n",
    "\n",
    "import multiprocessing\n",
    "\n",
    "import msgpack\n",
    "\n",
    "import numpy as np\n",
    "\n",
    "import pandas as pd\n",
    "\n",
    "from dotenv import load_dotenv\n",
    "\n",
    "import alpaca_trade_api as tradeapi\n",
    "\n",
    "from math import sqrt\n",
    "\n",
    "from timeit import default_timer as timer\n",
    "\n",
    "import concurrent\n",
    "import time\n",
    "\n",
    "# Load the environment variables from the .env file\n",
    "#by calling the load_dotenv function\n",
    "\n",
    "load_dotenv()\n",
    "\n",
    "pd.set_option('display.max_rows', 2000)\n",
    "pd.set_option('display.max_columns', 2000)\n",
    "pd.set_option('display.width', 1000)\n",
    "\n",
    "\n"
   ]
  },
  {
   "cell_type": "code",
   "execution_count": 2,
   "metadata": {},
   "outputs": [],
   "source": [
    "\n",
    "def is_prime(x):\n",
    "    if x % 2 == 1:\n",
    "        return True\n",
    "    else:\n",
    "        return False"
   ]
  },
  {
   "cell_type": "code",
   "execution_count": null,
   "metadata": {},
   "outputs": [],
   "source": []
  },
  {
   "cell_type": "code",
   "execution_count": 3,
   "metadata": {},
   "outputs": [
    {
     "name": "stdout",
     "output_type": "stream",
     "text": [
      "Starting thread A.\n",
      "Starting thread B.\n",
      "Thread B counting down: 5...\n",
      "Thread A counting down: 5...\n",
      "Thread B counting down: 4...Thread A counting down: 4...\n",
      "\n",
      "Thread A counting down: 3...Thread B counting down: 3...\n",
      "\n",
      "Thread B counting down: 2...Thread A counting down: 2...\n",
      "\n",
      "Thread A counting down: 1...Thread B counting down: 1...\n",
      "finished thread B.\n",
      "\n",
      "finished thread A.\n",
      "Finished\n"
     ]
    }
   ],
   "source": [
    "# my_thread.py\n",
    "\n",
    "# The threading  mod is built ontop of thread mod provinding easier ways to work with threads.\n",
    "\n",
    "import threading\n",
    "import time\n",
    "\n",
    "class MyThread(threading.Thread):\n",
    "    def __init__(self, name, delay):\n",
    "        threading.Thread.__init__(self)\n",
    "        self.name = name\n",
    "        self.delay = delay\n",
    "\n",
    "    def run(self):\n",
    "        print(\"Starting thread %s.\" % self.name)\n",
    "        thread_count_down(self.name,self.delay)\n",
    "        print(\"finished thread %s.\" % self.name)\n",
    "\n",
    "def thread_count_down(name, delay):\n",
    "    counter = 5\n",
    "\n",
    "    while counter:\n",
    "        time.sleep(delay)\n",
    "        print(\"Thread %s counting down: %i...\" % (name, counter))\n",
    "        counter -= 1\n",
    "\n",
    "thread1 = MyThread(\"A\", 0.5)\n",
    "\n",
    "thread2 = MyThread(\"B\", 0.5)\n",
    "\n",
    "thread1.start()\n",
    "thread2.start()\n",
    "\n",
    "\n",
    "\n",
    "\n",
    "thread1.join()\n",
    "thread2.join()\n",
    "\n",
    "print(\"Finished\")\n"
   ]
  },
  {
   "cell_type": "code",
   "execution_count": 4,
   "metadata": {},
   "outputs": [],
   "source": [
    "import _thread as thread\n",
    "\n",
    "my_in = [2, 193, 323, 1327, 433785907]\n",
    "\n",
    "for x in my_in:\n",
    "    thread.start_new_thread(is_prime, (x, ))\n",
    "#    a =  input(\"Type to quit\")"
   ]
  },
  {
   "cell_type": "code",
   "execution_count": 5,
   "metadata": {},
   "outputs": [],
   "source": [
    "# Implementing a multithreaded Py program\n",
    "\n",
    "import threading\n",
    "\n",
    "class MyThread(threading.Thread):\n",
    "    def __init__(self, x):\n",
    "        threading.Thread.__init__(self)\n",
    "        self.x = x\n",
    "    \n",
    "    def run(self):\n",
    "        print(\"Starting processing %i...\" % x)\n",
    "        is_prime(self.x)"
   ]
  },
  {
   "cell_type": "code",
   "execution_count": 6,
   "metadata": {},
   "outputs": [
    {
     "name": "stdout",
     "output_type": "stream",
     "text": [
      "Starting processing 2...\n",
      "Starting processing 193...\n",
      "Starting processing 323...\n",
      "Starting processing 1327...\n",
      "Starting processing 433785907...\n",
      "Finished.\n"
     ]
    }
   ],
   "source": [
    "my_in = [2, 193, 323, 1327, 433785907]\n",
    "\n",
    "threads = []\n",
    "\n",
    "for x in my_in:\n",
    "    temp_thread = MyThread(x)\n",
    "    temp_thread.start()\n",
    "    threads.append(temp_thread)\n",
    "\n",
    "for thread in threads:\n",
    "    thread.join()\n",
    "\n",
    "print(\"Finished.\")\n",
    "    \n"
   ]
  },
  {
   "cell_type": "code",
   "execution_count": 7,
   "metadata": {},
   "outputs": [],
   "source": [
    "# The threading.Lock Class\n",
    "\n",
    "# threading.Lock(): initialized and returns lock object.object\n",
    "# acquire(blocking): when called all threads will run synchronously\n",
    "# (only only one thread can execute the critical section at a time)\n",
    "#   Optional argument blocking allows us to specify if current thread should wait to acquire lock\n",
    "    # when blocking = 0 the current thread does notwait for the lock and returns0 if lock connot be acquired by thread, else 1    \n",
    "    # when blocking = 1  , current thread blocks and waits forthe lock to be released and acquires it afterward\n",
    "# release when called lock is released"
   ]
  },
  {
   "cell_type": "code",
   "execution_count": 8,
   "metadata": {},
   "outputs": [],
   "source": [
    "\n",
    "# The threading  mod is built ontop of thread mod provinding easier ways to work with threads.\n",
    "\n",
    "import threading\n",
    "import time\n",
    "\n",
    "\n",
    "thread_lock = threading.Lock()\n",
    "\n",
    "class MyThread(threading.Thread):\n",
    "    \n",
    "    def __init__(self, name, delay):\n",
    "        threading.Thread.__init__(self)\n",
    "        self.name = name\n",
    "        self.delay = delay\n",
    "\n",
    "    def run(self):\n",
    "        print(\"Starting thread %s.\" % self.name)\n",
    "        thread_lock.acquire()\n",
    "        \n",
    "        thread_count_down(self.name, self.delay)\n",
    "        thread_lock.release()\n",
    "        print(\"Finished thread %s. \" % self.name)\n",
    "\n",
    "def thread_count_dow(name, delay):\n",
    "    counter = 5\n",
    "\n",
    "    while counter:\n",
    "        time.sleep(delay)\n",
    "        print(\"Thread %s counting down:  %i...\" %(name, counter))\n",
    "        counter -= 1\n",
    "\n",
    "\n"
   ]
  },
  {
   "cell_type": "code",
   "execution_count": 9,
   "metadata": {},
   "outputs": [
    {
     "name": "stdout",
     "output_type": "stream",
     "text": [
      "Starting thread A.\n",
      "Starting thread B.\n",
      "Thread A counting down: 5...\n",
      "Thread A counting down: 4...\n",
      "Thread A counting down: 3...\n",
      "Thread A counting down: 2...\n",
      "Thread A counting down: 1...\n",
      "Finished thread A. \n",
      "Thread B counting down: 5...\n",
      "Thread B counting down: 4...\n",
      "Thread B counting down: 3...\n",
      "Thread B counting down: 2...\n",
      "Thread B counting down: 1...\n",
      "Finished thread B. \n",
      "Finished\n"
     ]
    }
   ],
   "source": [
    "thread_lock = threading.Lock()\n",
    "\n",
    "\n",
    "thread1 = MyThread(\"A\", 0.5)\n",
    "\n",
    "thread2 = MyThread(\"B\", 0.5)\n",
    "\n",
    "thread1.start()\n",
    "thread2.start()\n",
    "\n",
    "\n",
    "\n",
    "\n",
    "thread1.join()\n",
    "thread2.join()\n",
    "\n",
    "print(\"Finished\")"
   ]
  },
  {
   "cell_type": "code",
   "execution_count": 10,
   "metadata": {},
   "outputs": [],
   "source": [
    "# Queuing in concurrent programming \n",
    "\n",
    "import queue\n",
    "import threading\n",
    "import time\n",
    "\n",
    "class MyThread(threading.Thread):\n",
    "    \n",
    "    def __init__(self, name, delay):\n",
    "        threading.Thread.__init__(self)\n",
    "        self.name = name\n",
    "\n",
    "    def run(self):\n",
    "        print(\"Starting thread   %s.\"  %  self.name)\n",
    "        process_queue()\n",
    "        print(\"Exiting thread %s.\" % self.name)\n",
    "\n",
    "def  process_queue():\n",
    "    while True:\n",
    "        try:\n",
    "            x = my_queue.get(block=False)\n",
    "        except queue.Empty:\n",
    "            return\n",
    "        else:\n",
    "            print_factors(x)\n",
    "\n",
    "        time.sleep(1)\n",
    "\n",
    "def print_factors(x):\n",
    "    result_string = \"Positive factors od %i are: \" % x\n",
    "    for i in range(1, x + 1):\n",
    "        if x % i == 0:\n",
    "            result_string += str(i) + ' '\n",
    "    \n",
    "    result_string += \"/n\" + '_' * 20\n",
    "    print(result_string)"
   ]
  },
  {
   "cell_type": "code",
   "execution_count": 11,
   "metadata": {},
   "outputs": [
    {
     "name": "stdout",
     "output_type": "stream",
     "text": [
      "Starting thread   A.\n",
      "Starting thread   B.\n",
      "Positive factors od 1 are: 1 /n____________________\n",
      "Positive factors od 10 are: 1 2 5 10 /n____________________\n",
      "Positive factors od 4 are: 1 2 4 /n____________________\n",
      "Positive factors od 3 are: 1 3 /n____________________\n",
      "Exiting thread B.\n",
      "Exiting thread A.\n",
      "Finished\n"
     ]
    }
   ],
   "source": [
    "input_ = [1,10, 4, 3]\n",
    "\n",
    "my_queue = queue.Queue()\n",
    "\n",
    "for x in input_:\n",
    "    my_queue.put(x)\n",
    "\n",
    "\n",
    "\n",
    "\n",
    "thread1 = MyThread(\"A\", 0.5)\n",
    "\n",
    "thread2 = MyThread(\"B\", 0.5)\n",
    "\n",
    "thread1.start()\n",
    "thread2.start()\n",
    "\n",
    "\n",
    "\n",
    "\n",
    "thread1.join()\n",
    "thread2.join()\n",
    "\n",
    "print(\"Finished\")"
   ]
  },
  {
   "cell_type": "code",
   "execution_count": 12,
   "metadata": {},
   "outputs": [
    {
     "data": {
      "text/plain": [
       "'\\nUsing with Statement in Threads\\n\\n\\n'"
      ]
     },
     "execution_count": 12,
     "metadata": {},
     "output_type": "execute_result"
    }
   ],
   "source": [
    "\"\"\"\n",
    "Using with Statement in Threads\n",
    "\n",
    "\n",
    "\"\"\""
   ]
  },
  {
   "cell_type": "code",
   "execution_count": 13,
   "metadata": {},
   "outputs": [],
   "source": [
    "n_files = 3\n",
    "files =  []\n",
    "\n",
    "for i in range(n_files):\n",
    "    files.append(open(\"output1/sample%i.txt\" % i, 'w'))\n",
    "    # files were opened inside for loop but were not closed.\n",
    "    \n"
   ]
  },
  {
   "cell_type": "code",
   "execution_count": 14,
   "metadata": {},
   "outputs": [],
   "source": [
    "nfiles  =  10\n",
    "files = []\n",
    "\n",
    "for i in range(nfiles):\n",
    "    f = open('output1/sample%i.txt' % i, 'w')\n",
    "    files.append(f)\n",
    "    f.close()"
   ]
  },
  {
   "cell_type": "code",
   "execution_count": 15,
   "metadata": {},
   "outputs": [],
   "source": [
    "nfiles  =  25\n",
    "files = []\n",
    "\n",
    "for i in range(nfiles):\n",
    "    with open('output1/sample%i.txt' % i, 'w') as f:\n",
    "        files.append(f)\n"
   ]
  },
  {
   "cell_type": "code",
   "execution_count": 18,
   "metadata": {},
   "outputs": [
    {
     "data": {
      "text/plain": [
       "'\\nfrom threading import Lock\\n\\nmy_lock = Lock()\\n\\ndef get_data_from_file_v1(filename):\\n    my_lock.acquire()\\n\\n    with open(filename, \\'r\\')  as f:\\n        data.append(f.read())\\n\\n    \\n    my_lock.release()\\n\\ndata = []\\n\\ntry:\\n    get_data_from_file_v1(\"outfasft2/sample1.txt\")\\nexcept FileNotFoundError:\\n    print(\\'Encounted en exception\\')\\n\\nmy_lock.acquire()\\n\\nprint(\"My lock can still be acquired\")\\n\\n\\n\\n\\n\\ndef get_data_from_file_v2(filename):\\n    with my_lock,open(filename, \\'r\\') as f:\\n        data.append(f.read())\\n\\n# In this function we have the equavilent of \\n\\nwith my_lock:\\n    with open(filename, \\'r\\') as f:\\n        data.append(f.read())\\n\\n'"
      ]
     },
     "execution_count": 18,
     "metadata": {},
     "output_type": "execute_result"
    }
   ],
   "source": [
    "\n",
    "# Example of deadlock handling\n",
    "\"\"\"\n",
    "from threading import Lock\n",
    "\n",
    "my_lock = Lock()\n",
    "\n",
    "def get_data_from_file_v1(filename):\n",
    "    my_lock.acquire()\n",
    "\n",
    "    with open(filename, 'r')  as f:\n",
    "        data.append(f.read())\n",
    "\n",
    "    \n",
    "    my_lock.release()\n",
    "\n",
    "data = []\n",
    "\n",
    "try:\n",
    "    get_data_from_file_v1(\"outfasft2/sample1.txt\")\n",
    "except FileNotFoundError:\n",
    "    print('Encounted en exception')\n",
    "\n",
    "my_lock.acquire()\n",
    "\n",
    "print(\"My lock can still be acquired\")\n",
    "\n",
    "\n",
    "\n",
    "\n",
    "\n",
    "def get_data_from_file_v2(filename):\n",
    "    with my_lock,open(filename, 'r') as f:\n",
    "        data.append(f.read())\n",
    "\n",
    "# In this function we have the equavilent of \n",
    "\n",
    "with my_lock:\n",
    "    with open(filename, 'r') as f:\n",
    "        data.append(f.read())\n",
    "\n",
    "\"\"\""
   ]
  },
  {
   "cell_type": "code",
   "execution_count": 17,
   "metadata": {},
   "outputs": [
    {
     "name": "stdout",
     "output_type": "stream",
     "text": [
      "Encounted en exception\n",
      "My lock can still be acquired\n"
     ]
    }
   ],
   "source": [
    "from threading import Lock\n",
    "\n",
    "my_lock = Lock()\n",
    "\n",
    "\n",
    "\n",
    "def get_data_from_file_v2(filename):\n",
    "    with my_lock,open(filename, 'r') as f:\n",
    "        data.append(f.read())\n",
    "        \n",
    "data = []\n",
    "\n",
    "try:\n",
    "    get_data_from_file_v2(\"outfasft2/sample1.txt\")\n",
    "except FileNotFoundError:\n",
    "    print('Encounted en exception')\n",
    "\n",
    "my_lock.acquire()\n",
    "\n",
    "print(\"My lock can still be acquired\")\n",
    "\n",
    "\n",
    "\n"
   ]
  },
  {
   "cell_type": "code",
   "execution_count": null,
   "metadata": {},
   "outputs": [],
   "source": []
  },
  {
   "cell_type": "code",
   "execution_count": 19,
   "metadata": {},
   "outputs": [
    {
     "data": {
      "text/plain": [
       "'\\nConcurrent Web Requests\\n\\n<div class=\"topNavTop\">\\n    <p>Welcome to Chilli restaurant</p>\\n    <div class=\"topNavRight\">\\n    <img src=\"assets/top-nav/icon-phone.png\">\\n    <p>416-455-3221</p>\\n    <img src=\"assets/top-nav/icon-email.png\">\\n    <p>info@company.com</p>\\n    <img src=\"assets/top-nav/icon-magnifying-glass.png\">\\n    </div>\\n</div>\\n<div class=\"topNavBottom\">\\n    <img src=\"assests/chilli-logo.png\">\\n    <div class=\"topNavRightBottom\">\\n        <a href=\"index.html\">HOME<a/>\\n        <a href=\"menu.html\">HOME<a/>\\n        <a href=\"events.html\">EVENTS<a/>\\n        <a href=\"#contact\">CONTACT<a/>\\n    </dim>\\n</dim>\\n'"
      ]
     },
     "execution_count": 19,
     "metadata": {},
     "output_type": "execute_result"
    }
   ],
   "source": [
    "\"\"\"\n",
    "Concurrent Web Requests\n",
    "\n",
    "<div class=\"topNavTop\">\n",
    "    <p>Welcome to Chilli restaurant</p>\n",
    "    <div class=\"topNavRight\">\n",
    "    <img src=\"assets/top-nav/icon-phone.png\">\n",
    "    <p>416-455-3221</p>\n",
    "    <img src=\"assets/top-nav/icon-email.png\">\n",
    "    <p>info@company.com</p>\n",
    "    <img src=\"assets/top-nav/icon-magnifying-glass.png\">\n",
    "    </div>\n",
    "</div>\n",
    "<div class=\"topNavBottom\">\n",
    "    <img src=\"assests/chilli-logo.png\">\n",
    "    <div class=\"topNavRightBottom\">\n",
    "        <a href=\"index.html\">HOME<a/>\n",
    "        <a href=\"menu.html\">HOME<a/>\n",
    "        <a href=\"events.html\">EVENTS<a/>\n",
    "        <a href=\"#contact\">CONTACT<a/>\n",
    "    </dim>\n",
    "</dim>\n",
    "\"\"\""
   ]
  },
  {
   "cell_type": "code",
   "execution_count": 29,
   "metadata": {},
   "outputs": [
    {
     "name": "stdout",
     "output_type": "stream",
     "text": [
      "200\n",
      "{'Date': 'Mon, 21 Mar 2022 16:33:02 GMT', 'Expires': '-1', 'Cache-Control': 'private, max-age=0', 'Content-Type': 'text/html; charset=ISO-8859-1', 'P3P': 'CP=\"This is not a P3P policy! See g.co/p3phelp for more info.\"', 'Content-Encoding': 'gzip', 'Server': 'gws', 'X-XSS-Protection': '0', 'X-Frame-Options': 'SAMEORIGIN', 'Set-Cookie': '1P_JAR=2022-03-21-16; expires=Wed, 20-Apr-2022 16:33:02 GMT; path=/; domain=.google.com; Secure, NID=511=gXjxcbmhuDjk3e_jl9_8J7vqZxfP-yOs_DyTZ3r3bJbTLCz_8mCg5CCdmEtrad8ZdwYZsqAlI2oluV64QZgWj3d1_xu5rdy2eTg9DacrUPez791tZ2E-jm08Hr9MfQnXFYcTBCgMj_q-G1OmlUDCBaNAyOvKipiXTt-WdqWO1Pg; expires=Tue, 20-Sep-2022 16:33:02 GMT; path=/; domain=.google.com; HttpOnly', 'Alt-Svc': 'h3=\":443\"; ma=2592000,h3-29=\":443\"; ma=2592000,h3-Q050=\":443\"; ma=2592000,h3-Q046=\":443\"; ma=2592000,h3-Q043=\":443\"; ma=2592000,quic=\":443\"; ma=2592000; v=\"46,43\"', 'Transfer-Encoding': 'chunked'}\n",
      "Done\n"
     ]
    }
   ],
   "source": [
    "import  requests\n",
    "\n",
    "url = \"https://www.google.com\"\n",
    "\n",
    "res = requests.get(url)\n",
    "\n",
    "print(res.status_code)\n",
    "\n",
    "print(res.headers)\n",
    "\n",
    "with open(\"google.html\", 'w') as f:\n",
    "    f.write(res.text)\n",
    "\n",
    "print(\"Done\")"
   ]
  },
  {
   "cell_type": "code",
   "execution_count": 32,
   "metadata": {},
   "outputs": [
    {
     "name": "stdout",
     "output_type": "stream",
     "text": [
      "http://httpstat.us/200: 200 OK\n",
      "http://httpstat.us/400: 400 Bad Request\n",
      "http://httpstat.us/404: 404 Not Found\n",
      "http://httpstat.us/408: 408 Request Timeout\n",
      "http://httpstat.us/500: 500 Internal Server Error\n",
      "http://httpstat.us/524: 524 A Timeout Occurred\n",
      "Done\n"
     ]
    }
   ],
   "source": [
    "# Running a ping test\n",
    "\n",
    "import requests\n",
    "\n",
    "def ping(url):\n",
    "    res = requests.get(url)\n",
    "    print(f'{url}: {res.text}')\n",
    "\n",
    "urls = [\n",
    "    'http://httpstat.us/200',\n",
    "    'http://httpstat.us/400',\n",
    "    'http://httpstat.us/404',\n",
    "    'http://httpstat.us/408',\n",
    "    'http://httpstat.us/500',\n",
    "    'http://httpstat.us/524',\n",
    "]\n",
    "    \n",
    "\n",
    "\n",
    "for url in urls:\n",
    "    ping(url)\n",
    "\n",
    "print(\"Done\")"
   ]
  },
  {
   "cell_type": "code",
   "execution_count": 38,
   "metadata": {},
   "outputs": [
    {
     "name": "stdout",
     "output_type": "stream",
     "text": [
      "http://httpstat.us/200: 200 OK\n",
      "http://httpstat.us/400: 400 Bad Request\n",
      "http://httpstat.us/404: 404 Not Found\n",
      "http://httpstat.us/408: 408 Request Timeout\n"
     ]
    },
    {
     "name": "stderr",
     "output_type": "stream",
     "text": [
      "Exception in thread Thread-32 (ping):\n",
      "Traceback (most recent call last):\n",
      "  File \"C:\\Users\\JBarr\\anaconda3\\envs\\dev\\lib\\threading.py\", line 1009, in _bootstrap_inner\n",
      "Exception in thread Thread-33 (ping):\n",
      "Traceback (most recent call last):\n",
      "  File \"C:\\Users\\JBarr\\anaconda3\\envs\\dev\\lib\\threading.py\", line 1009, in _bootstrap_inner\n",
      "Exception in thread Thread-34 (ping):\n",
      "Traceback (most recent call last):\n",
      "  File \"C:\\Users\\JBarr\\anaconda3\\envs\\dev\\lib\\threading.py\", line 1009, in _bootstrap_inner\n",
      "    self.run()\n",
      "  File \"C:\\Users\\JBarr\\anaconda3\\envs\\dev\\lib\\threading.py\", line 946, in run\n",
      "Exception in thread Thread-35 (ping):\n",
      "Traceback (most recent call last):\n",
      "  File \"C:\\Users\\JBarr\\anaconda3\\envs\\dev\\lib\\threading.py\", line 1009, in _bootstrap_inner\n",
      "    self.run()\n",
      "  File \"C:\\Users\\JBarr\\anaconda3\\envs\\dev\\lib\\threading.py\", line 946, in run\n",
      "Exception in thread Thread-36 (ping):\n",
      "Traceback (most recent call last):\n",
      "  File \"C:\\Users\\JBarr\\anaconda3\\envs\\dev\\lib\\threading.py\", line 1009, in _bootstrap_inner\n",
      "Exception in thread Thread-37 (ping):\n",
      "Traceback (most recent call last):\n",
      "  File \"C:\\Users\\JBarr\\anaconda3\\envs\\dev\\lib\\threading.py\", line 1009, in _bootstrap_inner\n",
      "    self._target(*self._args, **self._kwargs)\n",
      "TypeError: ping() takes 1 positional argument but 6 were given\n",
      "    self.run()\n",
      "  File \"C:\\Users\\JBarr\\anaconda3\\envs\\dev\\lib\\threading.py\", line 946, in run\n",
      "    self._target(*self._args, **self._kwargs)\n",
      "TypeError: ping() takes 1 positional argument but 6 were given\n",
      "    self.run()\n",
      "  File \"C:\\Users\\JBarr\\anaconda3\\envs\\dev\\lib\\threading.py\", line 946, in run\n",
      "        self.run()\n",
      "  File \"C:\\Users\\JBarr\\anaconda3\\envs\\dev\\lib\\threading.py\", line 946, in run\n",
      "    self._target(*self._args, **self._kwargs)\n",
      "TypeError: ping() takes 1 positional argument but 6 were given\n",
      "self.run()\n",
      "  File \"C:\\Users\\JBarr\\anaconda3\\envs\\dev\\lib\\threading.py\", line 946, in run\n",
      "    self._target(*self._args, **self._kwargs)\n",
      "TypeError: ping() takes 1 positional argument but 6 were given\n",
      "    self._target(*self._args, **self._kwargs)\n",
      "TypeError    : ping() takes 1 positional argument but 6 were given\n",
      "self._target(*self._args, **self._kwargs)\n",
      "TypeError: ping() takes 1 positional argument but 6 were given\n"
     ]
    },
    {
     "name": "stdout",
     "output_type": "stream",
     "text": [
      "http://httpstat.us/500: 500 Internal Server Error\n",
      "http://httpstat.us/524: 524 A Timeout Occurred\n",
      "Sequential:  0.91 seconds\n",
      "\n",
      "Threading:  0.03 seconds\n"
     ]
    }
   ],
   "source": [
    "# Concurrent web requests  \n",
    "\n",
    "import threading\n",
    "import requests\n",
    "import time\n",
    "\n",
    "\n",
    "def ping(url):\n",
    "    res = requests.get(url)\n",
    "    print(f'{url}: {res.text}')\n",
    "\n",
    "urls = [\n",
    "    'http://httpstat.us/200',\n",
    "    'http://httpstat.us/400',\n",
    "    'http://httpstat.us/404',\n",
    "    'http://httpstat.us/408',\n",
    "    'http://httpstat.us/500',\n",
    "    'http://httpstat.us/524',\n",
    "]\n",
    "    \n",
    "start = time.time()\n",
    "for url in urls:\n",
    "    ping(url)\n",
    "\n",
    "print(f\"Sequential: {time.time() - start : .2f} seconds\")\n",
    "\n",
    "print()\n",
    "\n",
    "start = time.time()\n",
    "\n",
    "threads = []\n",
    "\n",
    "for url in urls:\n",
    "    thread = threading.Thread(target=ping, args=(urls))\n",
    "    threads.append(thread)\n",
    "    thread.start()\n",
    "for thread in threads:\n",
    "    thread.join()\n",
    "\n",
    "print(f'Threading: {time.time() - start  : .2f} seconds')\n"
   ]
  },
  {
   "cell_type": "code",
   "execution_count": 43,
   "metadata": {},
   "outputs": [
    {
     "ename": "AttributeError",
     "evalue": "'MyThread' object has no attribute 'resut'",
     "output_type": "error",
     "traceback": [
      "\u001b[1;31m---------------------------------------------------------------------------\u001b[0m",
      "\u001b[1;31mAttributeError\u001b[0m                            Traceback (most recent call last)",
      "\u001b[1;32mc:\\Users\\JBarr\\OneDrive\\Documents\\FinTech\\career_services\\mathemeticsDevelopment\\mathemetics\\Computer_Science\\AdvancedPythonProgramming\\BookWork\\ThreadsInPython.ipynb Cell 24'\u001b[0m in \u001b[0;36m<cell line: 6>\u001b[1;34m()\u001b[0m\n\u001b[0;32m      <a href='vscode-notebook-cell:/c%3A/Users/JBarr/OneDrive/Documents/FinTech/career_services/mathemeticsDevelopment/mathemetics/Computer_Science/AdvancedPythonProgramming/BookWork/ThreadsInPython.ipynb#ch0000030?line=2'>3</a>\u001b[0m \u001b[39mimport\u001b[39;00m \u001b[39mthreading\u001b[39;00m\n\u001b[0;32m      <a href='vscode-notebook-cell:/c%3A/Users/JBarr/OneDrive/Documents/FinTech/career_services/mathemeticsDevelopment/mathemetics/Computer_Science/AdvancedPythonProgramming/BookWork/ThreadsInPython.ipynb#ch0000030?line=3'>4</a>\u001b[0m \u001b[39mimport\u001b[39;00m \u001b[39mrequests\u001b[39;00m\n\u001b[1;32m----> <a href='vscode-notebook-cell:/c%3A/Users/JBarr/OneDrive/Documents/FinTech/career_services/mathemeticsDevelopment/mathemetics/Computer_Science/AdvancedPythonProgramming/BookWork/ThreadsInPython.ipynb#ch0000030?line=5'>6</a>\u001b[0m \u001b[39mclass\u001b[39;00m \u001b[39mMyThread\u001b[39;00m(threading\u001b[39m.\u001b[39mThread):\n\u001b[0;32m      <a href='vscode-notebook-cell:/c%3A/Users/JBarr/OneDrive/Documents/FinTech/career_services/mathemeticsDevelopment/mathemetics/Computer_Science/AdvancedPythonProgramming/BookWork/ThreadsInPython.ipynb#ch0000030?line=6'>7</a>\u001b[0m     \u001b[39mdef\u001b[39;00m \u001b[39m__init__\u001b[39m(\u001b[39mself\u001b[39m, url):\n\u001b[0;32m      <a href='vscode-notebook-cell:/c%3A/Users/JBarr/OneDrive/Documents/FinTech/career_services/mathemeticsDevelopment/mathemetics/Computer_Science/AdvancedPythonProgramming/BookWork/ThreadsInPython.ipynb#ch0000030?line=7'>8</a>\u001b[0m         threading\u001b[39m.\u001b[39mThread\u001b[39m.\u001b[39m\u001b[39m__init__\u001b[39m(\u001b[39mself\u001b[39m)\n",
      "\u001b[1;32mc:\\Users\\JBarr\\OneDrive\\Documents\\FinTech\\career_services\\mathemeticsDevelopment\\mathemetics\\Computer_Science\\AdvancedPythonProgramming\\BookWork\\ThreadsInPython.ipynb Cell 24'\u001b[0m in \u001b[0;36mMyThread\u001b[1;34m()\u001b[0m\n\u001b[0;32m     <a href='vscode-notebook-cell:/c%3A/Users/JBarr/OneDrive/Documents/FinTech/career_services/mathemeticsDevelopment/mathemetics/Computer_Science/AdvancedPythonProgramming/BookWork/ThreadsInPython.ipynb#ch0000030?line=21'>22</a>\u001b[0m     thread\u001b[39m.\u001b[39mjoin()\n\u001b[0;32m     <a href='vscode-notebook-cell:/c%3A/Users/JBarr/OneDrive/Documents/FinTech/career_services/mathemeticsDevelopment/mathemetics/Computer_Science/AdvancedPythonProgramming/BookWork/ThreadsInPython.ipynb#ch0000030?line=23'>24</a>\u001b[0m \u001b[39mfor\u001b[39;00m thread \u001b[39min\u001b[39;00m threads:\n\u001b[1;32m---> <a href='vscode-notebook-cell:/c%3A/Users/JBarr/OneDrive/Documents/FinTech/career_services/mathemeticsDevelopment/mathemetics/Computer_Science/AdvancedPythonProgramming/BookWork/ThreadsInPython.ipynb#ch0000030?line=24'>25</a>\u001b[0m     \u001b[39mprint\u001b[39m(thread\u001b[39m.\u001b[39;49mresut)\n\u001b[0;32m     <a href='vscode-notebook-cell:/c%3A/Users/JBarr/OneDrive/Documents/FinTech/career_services/mathemeticsDevelopment/mathemetics/Computer_Science/AdvancedPythonProgramming/BookWork/ThreadsInPython.ipynb#ch0000030?line=26'>27</a>\u001b[0m \u001b[39mprint\u001b[39m(\u001b[39m\"\u001b[39m\u001b[39mTook \u001b[39m\u001b[39m{\u001b[39m\u001b[39mtime.time() - start : .2f} seconds\u001b[39m\u001b[39m\"\u001b[39m)\n\u001b[0;32m     <a href='vscode-notebook-cell:/c%3A/Users/JBarr/OneDrive/Documents/FinTech/career_services/mathemeticsDevelopment/mathemetics/Computer_Science/AdvancedPythonProgramming/BookWork/ThreadsInPython.ipynb#ch0000030?line=28'>29</a>\u001b[0m \u001b[39mprint\u001b[39m(\u001b[39m\"\u001b[39m\u001b[39mDone.\u001b[39m\u001b[39m\"\u001b[39m)\n",
      "\u001b[1;31mAttributeError\u001b[0m: 'MyThread' object has no attribute 'resut'"
     ]
    }
   ],
   "source": [
    "# Refactoting request logic\n",
    "\n",
    "import threading\n",
    "import requests\n",
    "\n",
    "class MyThread(threading.Thread):\n",
    "    def __init__(self, url):\n",
    "        threading.Thread.__init__(self)\n",
    "        self.url = url\n",
    "        self.result = None\n",
    "\n",
    "    def run(self):\n",
    "        res = requests.get(self.url)\n",
    "        self.result =  f'{self.url}: {res.text}'\n",
    "\n",
    "    start = time.time()\n",
    "\n",
    "    threads =  [MyThread(url) for url in urls]\n",
    "    for thread in threads:\n",
    "        thread.start()\n",
    "    for thread in threads:\n",
    "        thread.join()\n",
    "    \n",
    "    for thread in threads:\n",
    "        print(thread.resut)\n",
    "\n",
    "    print(\"Took {time.time() - start : .2f} seconds\")\n",
    "\n",
    "    print(\"Done.\")\n",
    "\n",
    "    \n",
    "\n"
   ]
  },
  {
   "cell_type": "code",
   "execution_count": null,
   "metadata": {},
   "outputs": [],
   "source": []
  }
 ],
 "metadata": {
  "interpreter": {
   "hash": "9ae16ef445867c3ddd8a030e03f508a31c88ab57810e24e3a3afaf36f09532d0"
  },
  "kernelspec": {
   "display_name": "dev",
   "language": "python",
   "name": "dev"
  },
  "language_info": {
   "codemirror_mode": {
    "name": "ipython",
    "version": 3
   },
   "file_extension": ".py",
   "mimetype": "text/x-python",
   "name": "python",
   "nbconvert_exporter": "python",
   "pygments_lexer": "ipython3",
   "version": "3.10.0"
  },
  "orig_nbformat": 4
 },
 "nbformat": 4,
 "nbformat_minor": 2
}
