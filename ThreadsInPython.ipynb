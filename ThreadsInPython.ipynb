{
 "cells": [
  {
   "cell_type": "code",
   "execution_count": 1,
   "metadata": {},
   "outputs": [
    {
     "name": "stderr",
     "output_type": "stream",
     "text": [
      "Python-dotenv could not parse statement starting at line 29\n",
      "Python-dotenv could not parse statement starting at line 30\n"
     ]
    },
    {
     "ename": "AttributeError",
     "evalue": "module 'pandas' has no attribute 'set_option'",
     "output_type": "error",
     "traceback": [
      "\u001b[1;31m---------------------------------------------------------------------------\u001b[0m",
      "\u001b[1;31mAttributeError\u001b[0m                            Traceback (most recent call last)",
      "Input \u001b[1;32mIn [1]\u001b[0m, in \u001b[0;36m<cell line: 31>\u001b[1;34m()\u001b[0m\n\u001b[0;32m     26\u001b[0m \u001b[38;5;66;03m# Load the environment variables from the .env file\u001b[39;00m\n\u001b[0;32m     27\u001b[0m \u001b[38;5;66;03m#by calling the load_dotenv function\u001b[39;00m\n\u001b[0;32m     29\u001b[0m load_dotenv()\n\u001b[1;32m---> 31\u001b[0m \u001b[43mpd\u001b[49m\u001b[38;5;241;43m.\u001b[39;49m\u001b[43mset_option\u001b[49m(\u001b[38;5;124m'\u001b[39m\u001b[38;5;124mdisplay.max_rows\u001b[39m\u001b[38;5;124m'\u001b[39m, \u001b[38;5;241m2000\u001b[39m)\n\u001b[0;32m     32\u001b[0m pd\u001b[38;5;241m.\u001b[39mset_option(\u001b[38;5;124m'\u001b[39m\u001b[38;5;124mdisplay.max_columns\u001b[39m\u001b[38;5;124m'\u001b[39m, \u001b[38;5;241m2000\u001b[39m)\n\u001b[0;32m     33\u001b[0m pd\u001b[38;5;241m.\u001b[39mset_option(\u001b[38;5;124m'\u001b[39m\u001b[38;5;124mdisplay.width\u001b[39m\u001b[38;5;124m'\u001b[39m, \u001b[38;5;241m1000\u001b[39m)\n",
      "\u001b[1;31mAttributeError\u001b[0m: module 'pandas' has no attribute 'set_option'"
     ]
    }
   ],
   "source": [
    "import os\n",
    "\n",
    "import requests\n",
    "\n",
    "import json\n",
    "\n",
    "import multiprocessing\n",
    "\n",
    "import msgpack\n",
    "\n",
    "\n",
    "import numpy as np\n",
    "\n",
    "import pandas as pd\n",
    "\n",
    "from dotenv import load_dotenv\n",
    "\n",
    "import alpaca_trade_api as tradeapi\n",
    "\n",
    "from math import sqrt\n",
    "\n",
    "from timeit import default_timer as timer\n",
    "\n",
    "import concurrent\n",
    "import time\n",
    "\n",
    "# Load the environment variables from the .env file\n",
    "#by calling the load_dotenv function\n",
    "\n",
    "load_dotenv()\n",
    "\n",
    "pd.set_option('display.max_rows', 2000)\n",
    "pd.set_option('display.max_columns', 2000)\n",
    "pd.set_option('display.width', 1000)\n",
    "\n",
    "\n"
   ]
  },
  {
   "cell_type": "code",
   "execution_count": 87,
   "metadata": {},
   "outputs": [],
   "source": [
    "\n",
    "def is_prime(x):\n",
    "    if x % 2 == 1:\n",
    "        return True\n",
    "    else:\n",
    "        return False"
   ]
  },
  {
   "cell_type": "code",
   "execution_count": null,
   "metadata": {},
   "outputs": [],
   "source": []
  },
  {
   "cell_type": "code",
   "execution_count": 88,
   "metadata": {},
   "outputs": [
    {
     "name": "stdout",
     "output_type": "stream",
     "text": [
      "Starting thread A.\n",
      "Starting thread B.\n",
      "Thread B counting down: 5...Thread A counting down: 5...\n",
      "\n",
      "Thread B counting down: 4...Thread A counting down: 4...\n",
      "\n",
      "Thread A counting down: 3...Thread B counting down: 3...\n",
      "\n",
      "Thread A counting down: 2...Thread B counting down: 2...\n",
      "\n",
      "Thread B counting down: 1...Thread A counting down: 1...\n",
      "finished thread A.\n",
      "\n",
      "finished thread B.\n",
      "Finished\n"
     ]
    }
   ],
   "source": [
    "# my_thread.py\n",
    "\n",
    "# The threading  mod is built ontop of thread mod provinding easier ways to work with threads.\n",
    "\n",
    "import threading\n",
    "import time\n",
    "\n",
    "class MyThread(threading.Thread):\n",
    "    def __init__(self, name, delay):\n",
    "        threading.Thread.__init__(self)\n",
    "        self.name = name\n",
    "        self.delay = delay\n",
    "\n",
    "    def run(self):\n",
    "        print(\"Starting thread %s.\" % self.name)\n",
    "        thread_count_down(self.name,self.delay)\n",
    "        print(\"finished thread %s.\" % self.name)\n",
    "\n",
    "def thread_count_down(name, delay):\n",
    "    counter = 5\n",
    "\n",
    "    while counter:\n",
    "        time.sleep(delay)\n",
    "        print(\"Thread %s counting down: %i...\" % (name, counter))\n",
    "        counter -= 1\n",
    "\n",
    "thread1 = MyThread(\"A\", 0.5)\n",
    "\n",
    "thread2 = MyThread(\"B\", 0.5)\n",
    "\n",
    "thread1.start()\n",
    "thread2.start()\n",
    "\n",
    "\n",
    "\n",
    "\n",
    "thread1.join()\n",
    "thread2.join()\n",
    "\n",
    "print(\"Finished\")\n"
   ]
  },
  {
   "cell_type": "code",
   "execution_count": 89,
   "metadata": {},
   "outputs": [],
   "source": [
    "import _thread as thread\n",
    "\n",
    "my_in = [2, 193, 323, 1327, 433785907]\n",
    "\n",
    "for x in my_in:\n",
    "    thread.start_new_thread(is_prime, (x, ))\n",
    "#    a =  input(\"Type to quit\")"
   ]
  },
  {
   "cell_type": "code",
   "execution_count": 90,
   "metadata": {},
   "outputs": [],
   "source": [
    "# Implementing a multithreaded Py program\n",
    "\n",
    "import threading\n",
    "\n",
    "class MyThread(threading.Thread):\n",
    "    def __init__(self, x):\n",
    "        threading.Thread.__init__(self)\n",
    "        self.x = x\n",
    "    \n",
    "    def run(self):\n",
    "        print(\"Starting processing %i...\" % x)\n",
    "        is_prime(self.x)"
   ]
  },
  {
   "cell_type": "code",
   "execution_count": 91,
   "metadata": {},
   "outputs": [
    {
     "name": "stdout",
     "output_type": "stream",
     "text": [
      "Starting processing 2...\n",
      "Starting processing 193...Starting processing 323...\n",
      "\n",
      "Starting processing 1327...\n",
      "Starting processing 433785907...\n",
      "Finished.\n"
     ]
    }
   ],
   "source": [
    "my_in = [2, 193, 323, 1327, 433785907]\n",
    "\n",
    "threads = []\n",
    "\n",
    "for x in my_in:\n",
    "    temp_thread = MyThread(x)\n",
    "    temp_thread.start()\n",
    "    threads.append(temp_thread)\n",
    "\n",
    "for thread in threads:\n",
    "    thread.join()\n",
    "\n",
    "print(\"Finished.\")\n",
    "    \n"
   ]
  },
  {
   "cell_type": "code",
   "execution_count": 92,
   "metadata": {},
   "outputs": [],
   "source": [
    "# The threading.Lock Class\n",
    "\n",
    "# threading.Lock(): initialized and returns lock object.object\n",
    "# acquire(blocking): when called all threads will run synchronously\n",
    "# (only only one thread can execute the critical section at a time)\n",
    "#   Optional argument blocking allows us to specify if current thread should wait to acquire lock\n",
    "    # when blocking = 0 the current thread does notwait for the lock and returns0 if lock connot be acquired by thread, else 1    \n",
    "    # when blocking = 1  , current thread blocks and waits forthe lock to be released and acquires it afterward\n",
    "# release when called lock is released"
   ]
  },
  {
   "cell_type": "code",
   "execution_count": 93,
   "metadata": {},
   "outputs": [],
   "source": [
    "\n",
    "# The threading  mod is built ontop of thread mod provinding easier ways to work with threads.\n",
    "\n",
    "import threading\n",
    "import time\n",
    "\n",
    "\n",
    "thread_lock = threading.Lock()\n",
    "\n",
    "class MyThread(threading.Thread):\n",
    "    \n",
    "    def __init__(self, name, delay):\n",
    "        threading.Thread.__init__(self)\n",
    "        self.name = name\n",
    "        self.delay = delay\n",
    "\n",
    "    def run(self):\n",
    "        print(\"Starting thread %s.\" % self.name)\n",
    "        thread_lock.acquire()\n",
    "        \n",
    "        thread_count_down(self.name, self.delay)\n",
    "        thread_lock.release()\n",
    "        print(\"Finished thread %s. \" % self.name)\n",
    "\n",
    "def thread_count_dow(name, delay):\n",
    "    counter = 5\n",
    "\n",
    "    while counter:\n",
    "        time.sleep(delay)\n",
    "        print(\"Thread %s counting down:  %i...\" %(name, counter))\n",
    "        counter -= 1\n",
    "\n",
    "\n"
   ]
  },
  {
   "cell_type": "code",
   "execution_count": 94,
   "metadata": {},
   "outputs": [
    {
     "name": "stdout",
     "output_type": "stream",
     "text": [
      "Starting thread A.\n",
      "Starting thread B.\n",
      "Thread A counting down: 5...\n",
      "Thread A counting down: 4...\n",
      "Thread A counting down: 3...\n",
      "Thread A counting down: 2...\n",
      "Thread A counting down: 1...\n",
      "Finished thread A. \n",
      "Thread B counting down: 5...\n",
      "Thread B counting down: 4...\n",
      "Thread B counting down: 3...\n",
      "Thread B counting down: 2...\n",
      "Thread B counting down: 1...\n",
      "Finished thread B. \n",
      "Finished\n"
     ]
    }
   ],
   "source": [
    "thread_lock = threading.Lock()\n",
    "\n",
    "\n",
    "thread1 = MyThread(\"A\", 0.5)\n",
    "\n",
    "thread2 = MyThread(\"B\", 0.5)\n",
    "\n",
    "thread1.start()\n",
    "thread2.start()\n",
    "\n",
    "\n",
    "\n",
    "\n",
    "thread1.join()\n",
    "thread2.join()\n",
    "\n",
    "print(\"Finished\")"
   ]
  },
  {
   "cell_type": "code",
   "execution_count": 95,
   "metadata": {},
   "outputs": [],
   "source": [
    "# Queuing in concurrent programming \n",
    "\n",
    "import queue\n",
    "import threading\n",
    "import time\n",
    "\n",
    "class MyThread(threading.Thread):\n",
    "    \n",
    "    def __init__(self, name):\n",
    "        threading.Thread.__init__(self)\n",
    "        self.name = name\n",
    "\n",
    "    def run(self):\n",
    "        print(\"Starting thread   %s.\"  %  self.name)\n",
    "        process_queue()\n",
    "        print(\"Exiting thread %s.\" % self.name)\n",
    "\n",
    "def  process_queue():\n",
    "    while True:\n",
    "        try:\n",
    "            x = my_queue.get(block=False)\n",
    "        except queue.Empty:\n",
    "            return\n",
    "        else:\n",
    "            print_factors(x)\n",
    "\n",
    "        time.sleep(1)\n",
    "\n",
    "def print_factors(x):\n",
    "    result_string = \"Positive factors od %i are: \" % x\n",
    "    for i in range(1, x + 1):\n",
    "        if x % i == 0:\n",
    "            result_string += str(i) + ' '\n",
    "    \n",
    "    result_string += \"/n\" + '_' * 20\n",
    "    print(result_string)"
   ]
  },
  {
   "cell_type": "code",
   "execution_count": 96,
   "metadata": {},
   "outputs": [
    {
     "name": "stdout",
     "output_type": "stream",
     "text": [
      "Starting thread   A.\n",
      "Positive factors od 1 are: 1 /n____________________\n",
      "Starting thread   B.\n",
      "Positive factors od 10 are: 1 2 5 10 /n____________________\n",
      "Positive factors od 4 are: 1 2 4 /n____________________Positive factors od 3 are: 1 3 /n____________________\n",
      "\n",
      "Exiting thread B.Exiting thread A.\n",
      "\n",
      "Finished\n"
     ]
    }
   ],
   "source": [
    "input_ = [1,10, 4, 3]\n",
    "\n",
    "my_queue = queue.Queue()\n",
    "\n",
    "for x in input_:\n",
    "    my_queue.put(x)\n",
    "\n",
    "\n",
    "\n",
    "\n",
    "thread1 = MyThread(\"A\")\n",
    "\n",
    "thread2 = MyThread(\"B\")\n",
    "\n",
    "thread1.start()\n",
    "thread2.start()\n",
    "\n",
    "\n",
    "\n",
    "\n",
    "thread1.join()\n",
    "thread2.join()\n",
    "\n",
    "print(\"Finished\")"
   ]
  },
  {
   "cell_type": "code",
   "execution_count": 97,
   "metadata": {},
   "outputs": [
    {
     "data": {
      "text/plain": [
       "'\\nUsing with Statement in Threads\\n\\n\\n'"
      ]
     },
     "execution_count": 97,
     "metadata": {},
     "output_type": "execute_result"
    }
   ],
   "source": [
    "\"\"\"\n",
    "Using with Statement in Threads\n",
    "\n",
    "\n",
    "\"\"\""
   ]
  },
  {
   "cell_type": "code",
   "execution_count": 98,
   "metadata": {},
   "outputs": [],
   "source": [
    "n_files = 3\n",
    "files =  []\n",
    "\n",
    "for i in range(n_files):\n",
    "    files.append(open(\"output1/sample%i.txt\" % i, 'w'))\n",
    "    # files were opened inside for loop but were not closed.\n",
    "    \n"
   ]
  },
  {
   "cell_type": "code",
   "execution_count": 99,
   "metadata": {},
   "outputs": [],
   "source": [
    "nfiles  =  10\n",
    "files = []\n",
    "\n",
    "for i in range(nfiles):\n",
    "    f = open('output1/sample%i.txt' % i, 'w')\n",
    "    files.append(f)\n",
    "    f.close()"
   ]
  },
  {
   "cell_type": "code",
   "execution_count": 100,
   "metadata": {},
   "outputs": [],
   "source": [
    "nfiles  =  25\n",
    "files = []\n",
    "\n",
    "for i in range(nfiles):\n",
    "    with open('output1/sample%i.txt' % i, 'w') as f:\n",
    "        files.append(f)\n"
   ]
  },
  {
   "cell_type": "code",
   "execution_count": 101,
   "metadata": {},
   "outputs": [
    {
     "data": {
      "text/plain": [
       "'\\nfrom threading import Lock\\n\\nmy_lock = Lock()\\n\\ndef get_data_from_file_v1(filename):\\n    my_lock.acquire()\\n\\n    with open(filename, \\'r\\')  as f:\\n        data.append(f.read())\\n\\n    \\n    my_lock.release()\\n\\ndata = []\\n\\ntry:\\n    get_data_from_file_v1(\"outfasft2/sample1.txt\")\\nexcept FileNotFoundError:\\n    print(\\'Encounted en exception\\')\\n\\nmy_lock.acquire()\\n\\nprint(\"My lock can still be acquired\")\\n\\n\\n\\n\\n\\ndef get_data_from_file_v2(filename):\\n    with my_lock,open(filename, \\'r\\') as f:\\n        data.append(f.read())\\n\\n# In this function we have the equavilent of \\n\\nwith my_lock:\\n    with open(filename, \\'r\\') as f:\\n        data.append(f.read())\\n\\n'"
      ]
     },
     "execution_count": 101,
     "metadata": {},
     "output_type": "execute_result"
    }
   ],
   "source": [
    "\n",
    "# Example of deadlock handling\n",
    "\"\"\"\n",
    "from threading import Lock\n",
    "\n",
    "my_lock = Lock()\n",
    "\n",
    "def get_data_from_file_v1(filename):\n",
    "    my_lock.acquire()\n",
    "\n",
    "    with open(filename, 'r')  as f:\n",
    "        data.append(f.read())\n",
    "\n",
    "    \n",
    "    my_lock.release()\n",
    "\n",
    "data = []\n",
    "\n",
    "try:\n",
    "    get_data_from_file_v1(\"outfasft2/sample1.txt\")\n",
    "except FileNotFoundError:\n",
    "    print('Encounted en exception')\n",
    "\n",
    "my_lock.acquire()\n",
    "\n",
    "print(\"My lock can still be acquired\")\n",
    "\n",
    "\n",
    "\n",
    "\n",
    "\n",
    "def get_data_from_file_v2(filename):\n",
    "    with my_lock,open(filename, 'r') as f:\n",
    "        data.append(f.read())\n",
    "\n",
    "# In this function we have the equavilent of \n",
    "\n",
    "with my_lock:\n",
    "    with open(filename, 'r') as f:\n",
    "        data.append(f.read())\n",
    "\n",
    "\"\"\""
   ]
  },
  {
   "cell_type": "code",
   "execution_count": 102,
   "metadata": {},
   "outputs": [
    {
     "name": "stdout",
     "output_type": "stream",
     "text": [
      "Encounted en exception\n",
      "My lock can still be acquired\n"
     ]
    }
   ],
   "source": [
    "from threading import Lock\n",
    "\n",
    "my_lock = Lock()\n",
    "\n",
    "\n",
    "\n",
    "def get_data_from_file_v2(filename):\n",
    "    with my_lock,open(filename, 'r') as f:\n",
    "        data.append(f.read())\n",
    "        \n",
    "data = []\n",
    "\n",
    "try:\n",
    "    get_data_from_file_v2(\"outfasft2/sample1.txt\")\n",
    "except FileNotFoundError:\n",
    "    print('Encounted en exception')\n",
    "\n",
    "my_lock.acquire()\n",
    "\n",
    "print(\"My lock can still be acquired\")\n",
    "\n",
    "\n",
    "\n"
   ]
  },
  {
   "cell_type": "code",
   "execution_count": null,
   "metadata": {},
   "outputs": [],
   "source": []
  },
  {
   "cell_type": "code",
   "execution_count": 103,
   "metadata": {},
   "outputs": [
    {
     "data": {
      "text/plain": [
       "'\\nConcurrent Web Requests\\n\\n<div class=\"topNavTop\">\\n    <p>Welcome to Chilli restaurant</p>\\n    <div class=\"topNavRight\">\\n    <img src=\"assets/top-nav/icon-phone.png\">\\n    <p>416-455-3221</p>\\n    <img src=\"assets/top-nav/icon-email.png\">\\n    <p>info@company.com</p>\\n    <img src=\"assets/top-nav/icon-magnifying-glass.png\">\\n    </div>\\n</div>\\n<div class=\"topNavBottom\">\\n    <img src=\"assests/chilli-logo.png\">\\n    <div class=\"topNavRightBottom\">\\n        <a href=\"index.html\">HOME<a/>\\n        <a href=\"menu.html\">HOME<a/>\\n        <a href=\"events.html\">EVENTS<a/>\\n        <a href=\"#contact\">CONTACT<a/>\\n    </dim>\\n</dim>\\n'"
      ]
     },
     "execution_count": 103,
     "metadata": {},
     "output_type": "execute_result"
    }
   ],
   "source": [
    "\"\"\"\n",
    "Concurrent Web Requests\n",
    "\n",
    "<div class=\"topNavTop\">\n",
    "    <p>Welcome to Chilli restaurant</p>\n",
    "    <div class=\"topNavRight\">\n",
    "    <img src=\"assets/top-nav/icon-phone.png\">\n",
    "    <p>416-455-3221</p>\n",
    "    <img src=\"assets/top-nav/icon-email.png\">\n",
    "    <p>info@company.com</p>\n",
    "    <img src=\"assets/top-nav/icon-magnifying-glass.png\">\n",
    "    </div>\n",
    "</div>\n",
    "<div class=\"topNavBottom\">\n",
    "    <img src=\"assests/chilli-logo.png\">\n",
    "    <div class=\"topNavRightBottom\">\n",
    "        <a href=\"index.html\">HOME<a/>\n",
    "        <a href=\"menu.html\">HOME<a/>\n",
    "        <a href=\"events.html\">EVENTS<a/>\n",
    "        <a href=\"#contact\">CONTACT<a/>\n",
    "    </dim>\n",
    "</dim>\n",
    "\"\"\""
   ]
  },
  {
   "cell_type": "code",
   "execution_count": 104,
   "metadata": {},
   "outputs": [
    {
     "name": "stdout",
     "output_type": "stream",
     "text": [
      "200\n",
      "{'Date': 'Tue, 22 Mar 2022 19:17:16 GMT', 'Expires': '-1', 'Cache-Control': 'private, max-age=0', 'Content-Type': 'text/html; charset=ISO-8859-1', 'P3P': 'CP=\"This is not a P3P policy! See g.co/p3phelp for more info.\"', 'Content-Encoding': 'gzip', 'Server': 'gws', 'X-XSS-Protection': '0', 'X-Frame-Options': 'SAMEORIGIN', 'Set-Cookie': '1P_JAR=2022-03-22-19; expires=Thu, 21-Apr-2022 19:17:16 GMT; path=/; domain=.google.com; Secure, NID=511=DKrl5za3C0SxqIq35VrjnMxBiUgEYU6ZYQKLuas6EHYz9mbcrWnAy9IJHj5LdL_ikksCRo_J6wDMsFT1kwYWqZVAjtZsJlsFmSBtxsqWg-QrZwmYJoTRmtXEgqJYL-upiGswwHI-Hc0GPdARE8I5q4QMHcenT-VbB7PX2knjXhM; expires=Wed, 21-Sep-2022 19:17:16 GMT; path=/; domain=.google.com; HttpOnly', 'Alt-Svc': 'h3=\":443\"; ma=2592000,h3-29=\":443\"; ma=2592000,h3-Q050=\":443\"; ma=2592000,h3-Q046=\":443\"; ma=2592000,h3-Q043=\":443\"; ma=2592000,quic=\":443\"; ma=2592000; v=\"46,43\"', 'Transfer-Encoding': 'chunked'}\n",
      "Done\n"
     ]
    }
   ],
   "source": [
    "import  requests\n",
    "\n",
    "url = \"https://www.google.com\"\n",
    "\n",
    "res = requests.get(url)\n",
    "\n",
    "print(res.status_code)\n",
    "\n",
    "print(res.headers)\n",
    "\n",
    "with open(\"google.html\", 'w') as f:\n",
    "    f.write(res.text)\n",
    "\n",
    "print(\"Done\")"
   ]
  },
  {
   "cell_type": "code",
   "execution_count": 105,
   "metadata": {},
   "outputs": [
    {
     "name": "stdout",
     "output_type": "stream",
     "text": [
      "http://httpstat.us/200: 200 OK\n",
      "http://httpstat.us/400: 400 Bad Request\n",
      "http://httpstat.us/404: 404 Not Found\n",
      "http://httpstat.us/408: 408 Request Timeout\n",
      "http://httpstat.us/500: 500 Internal Server Error\n",
      "http://httpstat.us/524: 524 A Timeout Occurred\n",
      "Done\n"
     ]
    }
   ],
   "source": [
    "# Running a ping test\n",
    "\n",
    "import requests\n",
    "\n",
    "def ping(url):\n",
    "    res = requests.get(url)\n",
    "    print(f'{url}: {res.text}')\n",
    "\n",
    "urls = [\n",
    "    'http://httpstat.us/200',\n",
    "    'http://httpstat.us/400',\n",
    "    'http://httpstat.us/404',\n",
    "    'http://httpstat.us/408',\n",
    "    'http://httpstat.us/500',\n",
    "    'http://httpstat.us/524',\n",
    "]\n",
    "    \n",
    "\n",
    "\n",
    "for url in urls:\n",
    "    ping(url)\n",
    "\n",
    "print(\"Done\")"
   ]
  },
  {
   "cell_type": "code",
   "execution_count": 106,
   "metadata": {},
   "outputs": [
    {
     "name": "stdout",
     "output_type": "stream",
     "text": [
      "http://httpstat.us/200: 200 OK\n",
      "http://httpstat.us/400: 400 Bad Request\n",
      "http://httpstat.us/404: 404 Not Found\n",
      "http://httpstat.us/408: 408 Request Timeout\n"
     ]
    },
    {
     "name": "stderr",
     "output_type": "stream",
     "text": [
      "Exception in thread Thread-122 (ping):\n",
      "Traceback (most recent call last):\n",
      "  File \"C:\\Users\\JBarr\\anaconda3\\envs\\dev\\lib\\threading.py\", line 1009, in _bootstrap_inner\n",
      "Exception in thread Thread-123 (ping):\n",
      "Traceback (most recent call last):\n",
      "  File \"C:\\Users\\JBarr\\anaconda3\\envs\\dev\\lib\\threading.py\", line 1009, in _bootstrap_inner\n",
      "Exception in thread Thread-124 (ping):\n",
      "Traceback (most recent call last):\n",
      "  File \"C:\\Users\\JBarr\\anaconda3\\envs\\dev\\lib\\threading.py\", line 1009, in _bootstrap_inner\n",
      "    Exception in thread Thread-125 (ping):\n",
      "Traceback (most recent call last):\n",
      "  File \"C:\\Users\\JBarr\\anaconda3\\envs\\dev\\lib\\threading.py\", line 1009, in _bootstrap_inner\n",
      "self.run()\n",
      "  File \"C:\\Users\\JBarr\\anaconda3\\envs\\dev\\lib\\threading.py\", line 946, in run\n",
      "    self.run()\n",
      "  File \"C:\\Users\\JBarr\\anaconda3\\envs\\dev\\lib\\threading.py\", line 946, in run\n",
      "Exception in thread Thread-126 (ping):\n",
      "Traceback (most recent call last):\n",
      "  File \"C:\\Users\\JBarr\\anaconda3\\envs\\dev\\lib\\threading.py\", line 1009, in _bootstrap_inner\n",
      "Exception in thread Thread-127 (ping):\n",
      "Traceback (most recent call last):\n",
      "  File \"C:\\Users\\JBarr\\anaconda3\\envs\\dev\\lib\\threading.py\", line 1009, in _bootstrap_inner\n",
      "            self.run()\n",
      "  File \"C:\\Users\\JBarr\\anaconda3\\envs\\dev\\lib\\threading.py\", line 946, in run\n",
      "self.run()\n",
      "  File \"C:\\Users\\JBarr\\anaconda3\\envs\\dev\\lib\\threading.py\", line 946, in run\n",
      "self.run()\n",
      "  File \"C:\\Users\\JBarr\\anaconda3\\envs\\dev\\lib\\threading.py\", line 946, in run\n",
      "        self._target(*self._args, **self._kwargs)\n",
      "TypeError: ping() takes 1 positional argument but 6 were given\n",
      "self._target(*self._args, **self._kwargs)\n",
      "TypeError: ping() takes 1 positional argument but 6 were given\n",
      "    self.run()\n",
      "  File \"C:\\Users\\JBarr\\anaconda3\\envs\\dev\\lib\\threading.py\", line 946, in run\n",
      "        self._target(*self._args, **self._kwargs)\n",
      "TypeError: ping() takes 1 positional argument but 6 were given\n",
      "self._target(*self._args, **self._kwargs)\n",
      "TypeError: ping() takes 1 positional argument but 6 were given\n",
      "    self._target(*self._args, **self._kwargs)\n",
      "TypeError: ping() takes 1 positional argument but 6 were given\n",
      "    self._target(*self._args, **self._kwargs)\n",
      "TypeError: ping() takes 1 positional argument but 6 were given\n"
     ]
    },
    {
     "name": "stdout",
     "output_type": "stream",
     "text": [
      "http://httpstat.us/500: 500 Internal Server Error\n",
      "http://httpstat.us/524: 524 A Timeout Occurred\n",
      "Sequential:  0.69 seconds\n",
      "\n",
      "Threading:  0.03 seconds\n"
     ]
    }
   ],
   "source": [
    "# Concurrent web requests  \n",
    "\n",
    "import threading\n",
    "import requests\n",
    "import time\n",
    "\n",
    "\n",
    "def ping(url):\n",
    "    res = requests.get(url)\n",
    "    print(f'{url}: {res.text}')\n",
    "\n",
    "urls = [\n",
    "    'http://httpstat.us/200',\n",
    "    'http://httpstat.us/400',\n",
    "    'http://httpstat.us/404',\n",
    "    'http://httpstat.us/408',\n",
    "    'http://httpstat.us/500',\n",
    "    'http://httpstat.us/524',\n",
    "]\n",
    "    \n",
    "start = time.time()\n",
    "for url in urls:\n",
    "    ping(url)\n",
    "\n",
    "print(f\"Sequential: {time.time() - start : .2f} seconds\")\n",
    "\n",
    "print()\n",
    "\n",
    "start = time.time()\n",
    "\n",
    "threads = []\n",
    "\n",
    "for url in urls:\n",
    "    thread = threading.Thread(target=ping, args=(urls))\n",
    "    threads.append(thread)\n",
    "    thread.start()\n",
    "for thread in threads:\n",
    "    thread.join()\n",
    "\n",
    "print(f'Threading: {time.time() - start  : .2f} seconds')\n"
   ]
  },
  {
   "cell_type": "code",
   "execution_count": 112,
   "metadata": {},
   "outputs": [
    {
     "name": "stdout",
     "output_type": "stream",
     "text": [
      "http://httpstat.us/200: 200 OK\n",
      "Took  246.27 seconds\n",
      "Done.\n",
      "http://httpstat.us/400: 400 Bad Request\n",
      "Took  246.27 seconds\n",
      "Done.\n",
      "http://httpstat.us/404: 404 Not Found\n",
      "Took  246.27 seconds\n",
      "Done.\n",
      "http://httpstat.us/408: 408 Request Timeout\n",
      "Took  246.27 seconds\n",
      "Done.\n",
      "http://httpstat.us/500: 500 Internal Server Error\n",
      "Took  246.27 seconds\n",
      "Done.\n",
      "http://httpstat.us/524: 524 A Timeout Occurred\n",
      "Took  246.27 seconds\n",
      "Done.\n"
     ]
    }
   ],
   "source": [
    "# Refactoting request logic\n",
    "\n",
    "import threading\n",
    "import requests\n",
    "\n",
    "class MyThread(threading.Thread):\n",
    "    def __init__(self, url):\n",
    "        threading.Thread.__init__(self)\n",
    "        self.url = url\n",
    "        #self.result = None\n",
    "        self.result = f'{self.url}: Custom timeout'\n",
    "\n",
    "    def run(self):\n",
    "        res = requests.get(self.url)\n",
    "        self.result =  f'{self.url}: {res.text}'\n",
    "\n",
    "\n",
    "\n",
    "urls = [\n",
    "    'http://httpstat.us/200',\n",
    "    'http://httpstat.us/400',\n",
    "    'http://httpstat.us/404',\n",
    "    'http://httpstat.us/408',\n",
    "    'http://httpstat.us/500',\n",
    "    'http://httpstat.us/524',\n",
    "]\n",
    "\n",
    "threads =  [MyThread(url) for url in urls]\n",
    "for thread in threads:\n",
    "    thread.start()\n",
    "for thread in threads:\n",
    "    thread.join() \n",
    "for thread in threads:\n",
    "    print(thread.result)\n",
    "\n",
    "    print(f\"Took {time.time() - start : .2f} seconds\")\n",
    "\n",
    "    print(\"Done.\")\n"
   ]
  },
  {
   "cell_type": "code",
   "execution_count": null,
   "metadata": {},
   "outputs": [],
   "source": []
  },
  {
   "cell_type": "code",
   "execution_count": null,
   "metadata": {},
   "outputs": [],
   "source": [
    "# The prblem of timeout"
   ]
  },
  {
   "cell_type": "code",
   "execution_count": 113,
   "metadata": {},
   "outputs": [],
   "source": [
    "import time \n",
    "\n",
    "\n",
    "UPDATE_INTERVAL = 0.01\n",
    "\n",
    "def process_requests(threads, timeout=5):\n",
    "    def alive_acount():\n",
    "        alive = [1 if    thread.is_alive() else 0 for thread in threads]\n",
    "        return sum(alive)\n",
    "\n",
    "    while alive_acount () > 0 and timeout > 0:\n",
    "        timeout -= UPDATE_INTERVAL\n",
    "        time.sleep(UPDATE_INTERVAL)\n",
    "    for thread in threads:\n",
    "        print(thread.result)"
   ]
  },
  {
   "cell_type": "code",
   "execution_count": 122,
   "metadata": {},
   "outputs": [
    {
     "name": "stdout",
     "output_type": "stream",
     "text": [
      "http://httpstat.us/200: Custom timeout\n",
      "Took  0.02 seconds\n",
      "Done.\n",
      "http://httpstat.us/400: Custom timeout\n",
      "Took  0.02 seconds\n",
      "Done.\n",
      "http://httpstat.us/404: Custom timeout\n",
      "Took  0.02 seconds\n",
      "Done.\n",
      "http://httpstat.us/408?sleep=4000: Custom timeout\n",
      "Took  0.02 seconds\n",
      "Done.\n",
      "http://httpstat.us/500?sleep=20000: Custom timeout\n",
      "Took  0.02 seconds\n",
      "Done.\n",
      "http://httpstat.us/524: Custom timeout\n",
      "Took  0.02 seconds\n",
      "Done.\n"
     ]
    },
    {
     "name": "stderr",
     "output_type": "stream",
     "text": [
      "C:\\Users\\JBarr\\AppData\\Local\\Temp\\ipykernel_22248\\3427412108.py:28: DeprecationWarning: setDaemon() is deprecated, set the daemon attribute instead\n",
      "  thread.setDaemon(True)\n"
     ]
    }
   ],
   "source": [
    "\n",
    "class MyThread(threading.Thread):\n",
    "    def __init__(self, url):\n",
    "        threading.Thread.__init__(self)\n",
    "        self.url = url\n",
    "        #self.result = None\n",
    "        self.result = f'{self.url}: Custom timeout'\n",
    "\n",
    "    def run(self):\n",
    "        res = requests.get(self.url)\n",
    "        self.result =  f'{self.url}: {res.text}'\n",
    "\n",
    "\n",
    "\n",
    "urls = [\n",
    "    'http://httpstat.us/200',\n",
    "    'http://httpstat.us/400',\n",
    "    'http://httpstat.us/404',\n",
    "    'http://httpstat.us/408?sleep=4000',\n",
    "    'http://httpstat.us/500?sleep=20000',\n",
    "    'http://httpstat.us/524',\n",
    "]\n",
    "    \n",
    "start = time.time()\n",
    "\n",
    "\n",
    "threads =  [MyThread(url) for url in urls]\n",
    "for thread in threads:\n",
    "    thread.setDaemon(True)\n",
    "for thread in threads:\n",
    "    thread.start() \n",
    "for thread in threads:\n",
    "    print(thread.result)\n",
    "\n",
    "    print(f\"Took {time.time() - start : .2f} seconds\")\n",
    "\n",
    "    print(\"Done.\")\n"
   ]
  },
  {
   "cell_type": "code",
   "execution_count": 123,
   "metadata": {},
   "outputs": [
    {
     "name": "stdout",
     "output_type": "stream",
     "text": [
      "http://httpstat.us/200: 200 OK\n",
      "http://httpstat.us/400: 400 Bad Request\n",
      "http://httpstat.us/404: 404 Not Found\n",
      "http://httpstat.us/408?sleep=4000: 408 Request Timeout\n",
      "http://httpstat.us/500?sleep=20000: 500 Internal Server Error\n",
      "http://httpstat.us/524: 524 A Timeout Occurred\n"
     ]
    }
   ],
   "source": [
    "process_requests(threads)"
   ]
  },
  {
   "cell_type": "code",
   "execution_count": null,
   "metadata": {},
   "outputs": [],
   "source": []
  },
  {
   "cell_type": "code",
   "execution_count": null,
   "metadata": {},
   "outputs": [],
   "source": [
    "\"\"\"\n",
    "Chapter 13 Working with Processes in Py\n",
    "______________________\n",
    "\n",
    "Determining current process. Working with processes is at times difficult,\n",
    "and significant debugging is required.\n",
    "\n",
    "Each process obj has a name par the can be changed.\n",
    "Naming process is a better way to track running processses.\n",
    "_____________________________\n",
    "\n",
    "Another way to track running process is to look at the individual process id using os mod\n",
    "________________________\n",
    "\n",
    "Sometimes devs want to implement processses to finish executing in backgorund and not blocking main program from exiting.\n",
    "These processes are called daemon processes.\n",
    "\n",
    "\"\"\""
   ]
  },
  {
   "cell_type": "code",
   "execution_count": 127,
   "metadata": {},
   "outputs": [
    {
     "name": "stdout",
     "output_type": "stream",
     "text": [
      "Done.\n"
     ]
    }
   ],
   "source": [
    "from multiprocessing import Process\n",
    "\n",
    "import time   \n",
    "\n",
    "def count_down(name, delay):\n",
    "    print(\"Process %s starting...\" % name)\n",
    "\n",
    "    counter =  5\n",
    "\n",
    "    while counter:\n",
    "        time.sleep(delay)\n",
    "        print(\"Process  %s counting down: %i...\" % (name, counter))\n",
    "        counter -= 1\n",
    "\n",
    "    print(\"Process %s exiting...\" % name)\n",
    "\n",
    "if __name__ == '__main__':\n",
    "    process1 = Process(target=count_down, args=(\"A\",  0.5))\n",
    "    process2  = Process(target=count_down, args=(\"B\", 0.5))\n",
    "\n",
    "    process1.start()\n",
    "    process2.start()\n",
    "    \n",
    "    process1.join()\n",
    "    process2.join()\n",
    "\n",
    "    print(\"Done.\")"
   ]
  },
  {
   "cell_type": "code",
   "execution_count": 128,
   "metadata": {},
   "outputs": [
    {
     "name": "stdout",
     "output_type": "stream",
     "text": [
      "Done.\n"
     ]
    }
   ],
   "source": [
    "from multiprocessing import Process, current_process\n",
    "import time\n",
    "\n",
    "def f1():\n",
    "    pname = current_process().name\n",
    "    print(\"Starting process %s...\"  % pname)\n",
    "    time.sleep(2)\n",
    "    print(\"Exiting process %s..\" %  pname)\n",
    "\n",
    "\n",
    "def f2():\n",
    "    pname = current_process().name\n",
    "    print(\"Starting process %s...\"  % pname)\n",
    "    time.sleep(4)\n",
    "    print(\"Exiting process %s..\" %  pname)\n",
    "\n",
    "if __name__ == '__main__':\n",
    "    process1 = Process(target=count_down, args=(\"A\",  0.5))\n",
    "    process2  = Process(target=count_down, args=(\"B\", 0.5))\n",
    "    process3 = Process(target=f1)\n",
    "\n",
    "    process1.start()\n",
    "    process2.start()\n",
    "    process3.start()\n",
    "    \n",
    "\n",
    "    process1.join()\n",
    "    process2.join()\n",
    "    process2.join()\n",
    "    \n",
    "\n",
    "    print(\"Done.\")"
   ]
  },
  {
   "cell_type": "code",
   "execution_count": 38,
   "metadata": {},
   "outputs": [
    {
     "name": "stdout",
     "output_type": "stream",
     "text": [
      "Main Programm\n",
      "Parent process ID: 19592\n",
      "Done.\n"
     ]
    }
   ],
   "source": [
    "from multiprocessing import Process, current_process\n",
    "import time\n",
    "import os\n",
    "\n",
    "\n",
    "def print_info(title):\n",
    "    print(title)\n",
    "    if hasattr(os, 'getppid'):\n",
    "        print(\"Parent process ID: %s\" % str(os.getppid()))\n",
    "\n",
    "def f():\n",
    "    print_info(\"Function f\")\n",
    "    pname = current_process().name\n",
    "    print(\"Starting process %s...\"  % pname)\n",
    "    time.sleep(2)\n",
    "    print(\"Exiting process %s..\" %  pname)\n",
    "\n",
    "\n",
    "if __name__ == '__main__':\n",
    "    print_info(\"Main Programm\")\n",
    "    \n",
    "    p = Process(target=f1)\n",
    "\n",
    "\n",
    "    p.start()\n",
    "    \n",
    "\n",
    "    p.join()\n",
    "    \n",
    "\n",
    "    print(\"Done.\")"
   ]
  },
  {
   "cell_type": "code",
   "execution_count": 39,
   "metadata": {},
   "outputs": [],
   "source": [
    "# Waiting for processes\n",
    "from multiprocessing import Process, current_process\n",
    "import time\n",
    "\n",
    "def f1():\n",
    "    pname = current_process()\n",
    "    print(\"Starting process %s, ID %s...\"  % (pname.name, pname.pid))\n",
    "    time.sleep(4)\n",
    "    print(\"Exiting process %s.., ID %s...\" %  (pname.name, pname.pid))\n",
    "\n",
    "\n",
    "def f2():\n",
    "    pname = current_process().name\n",
    "    print(\"Starting process %s..., ID %s... \"% (pname.name, pname.pid))\n",
    "    time.sleep(2)\n",
    "    print(\"Exiting process %s.., ID %s...\"   %  (pname.name, pname.pid))\n",
    "\n",
    "if __name__ == '__main__':\n",
    "    process1 = Process(name=\"Worker one\", target=f1)\n",
    "    process1.daemon = True\n",
    "    process2  = Process(name=\"Worker one\",target=f2)\n",
    "    \n",
    "\n",
    "    process1.start()\n",
    "    time.sleep(1)\n",
    "    process2.start()\n",
    "    \n",
    "    \n"
   ]
  },
  {
   "cell_type": "code",
   "execution_count": 40,
   "metadata": {},
   "outputs": [
    {
     "name": "stdout",
     "output_type": "stream",
     "text": [
      "Whether Worker 1 is still alive: False\n"
     ]
    }
   ],
   "source": [
    "if __name__  == '__main__':\n",
    "    p1 = Process(name=\"Worker 1\", target=f1)\n",
    "    p1.daemon = True\n",
    "    p2 = Process(name=\"Worker 2\",  target=f2)\n",
    "    \n",
    "    p1.start()\n",
    "    time.sleep(1)\n",
    "    p2.start()\n",
    "    \n",
    "    p1.join(1)\n",
    "    print(\"Whether Worker 1 is still alive:\",  p1.is_alive())\n",
    "    p2.join()"
   ]
  },
  {
   "cell_type": "code",
   "execution_count": null,
   "metadata": {},
   "outputs": [],
   "source": []
  },
  {
   "cell_type": "code",
   "execution_count": null,
   "metadata": {},
   "outputs": [],
   "source": [
    "# Interprocess communication\n",
    "\"\"\"\n",
    "Having a message queue for interprocess communicatiuon ir preferred over haviang shared recources\n",
    "\n",
    "When we put all workers in a queue. At the same time, we will have a num of initialized processes\n",
    "\n",
    "Each going throught queue an process one worker.\n",
    "_______________\n",
    "\n",
    "# Message passing between several workers\n",
    "\n",
    "\"\"\""
   ]
  },
  {
   "cell_type": "code",
   "execution_count": 42,
   "metadata": {},
   "outputs": [
    {
     "name": "stdout",
     "output_type": "stream",
     "text": [
      "Done...\n"
     ]
    }
   ],
   "source": [
    "import multiprocessing\n",
    "\n",
    "class MyWorker():\n",
    "    def __init__(self, x):\n",
    "        self.x = x\n",
    "        \n",
    "    def process(self):\n",
    "        pname = multiprocessing.current_process().name\n",
    "        print(\"Starting process %s for number %i...\" % (pname, self.x))\n",
    "        \n",
    "def work(q):\n",
    "    worker = q.get()\n",
    "    worker.process()\n",
    "    \n",
    "if __name__ == '__main__':\n",
    "    my_queue = multiprocessing.Queue()\n",
    "    \n",
    "    p  =  multiprocessing.Process(target=work, args=(my_queue,))\n",
    "    p.start()\n",
    "    \n",
    "    my_queue.put(MyWorker(10))\n",
    "    \n",
    "    my_queue.close()\n",
    "    \n",
    "    my_queue.join_thread()\n",
    "    \n",
    "    p.join()\n",
    "    \n",
    "    print(\"Done...\")"
   ]
  },
  {
   "cell_type": "code",
   "execution_count": null,
   "metadata": {},
   "outputs": [
    {
     "name": "stdout",
     "output_type": "stream",
     "text": [
      "Spawning 12 consumers..\n"
     ]
    }
   ],
   "source": [
    "import multiprocessing\n",
    "from math import sqrt\n",
    "\n",
    "\n",
    "class Consumer(multiprocessing.Process):\n",
    "    \n",
    "    def __init__(self, task_queue, result_queue):\n",
    "        multiprocessing.Process.__init__(self)\n",
    "        self.task_queue = task_queue\n",
    "        self.result_queue = result_queue\n",
    "    \n",
    "    def run(self):\n",
    "        pname = self.name\n",
    "        \n",
    "        while not self.task_queue.empty():\n",
    "            \n",
    "            temp_task = self.task_queue.get()\n",
    "            \n",
    "            print(\"%s processing task: %s\" % (pname, temp_task))\n",
    "            \n",
    "            answer = temp_task.process()\n",
    "            self.task_queue.task_done()\n",
    "            self.result_queue(answer)\n",
    "\n",
    "            \n",
    "            \n",
    "class Task():\n",
    "    def __init__(self, x):\n",
    "        self.x = x\n",
    "        \n",
    "    def process(self):\n",
    "        if self.x < 2:\n",
    "            return \"%i is not a prime number.\" % self.x\n",
    "\n",
    "        if self.x == 2:\n",
    "            return \"%i is a prime number.\" % self.x\n",
    "        \n",
    "        if self.x == 0:\n",
    "            return \"%i is not a prime number.\" % self.x\n",
    "\n",
    "        \n",
    "        limit =  int(sqrt(self.x)) + 1\n",
    "        for i in range(3, limit, 2):\n",
    "            if self.x % i == 0:\n",
    "                return '%i is not a prime number' % self.x\n",
    "        \n",
    "        return '%i is a prime number.' % self.x\n",
    "    \n",
    "    \n",
    "    def __str__(self):\n",
    "        return \"Checking is %i is prime or not\" % self.x\n",
    "    \n",
    "    \n",
    "    \n",
    "if __name__ == '__main__':\n",
    "    tasks = multiprocessing.JoinableQueue()\n",
    "    result  = multiprocessing.Queue()\n",
    "    \n",
    "    # Spawning consumers with respect the # of cores in  sys\n",
    "    \n",
    "    n_consumers = multiprocessing.cpu_count()\n",
    "    print(\"Spawning %i consumers..\" % n_consumers)\n",
    "    consumers = [Consumer(tasks, result) for i in range(n_consumers)]\n",
    "    for consumer in consumers:\n",
    "        consumer.start()\n",
    "        \n",
    "    # Enqueeing jobs\n",
    "    my_input = [2, 36, 101, 193, 323, 513, 1327, 100000, 9999999, 433785907]\n",
    "    for item in my_input:\n",
    "        temp_result = result.get()\n",
    "        print(\"Result:\", temp_result)\n",
    "\n",
    "    print('Done')"
   ]
  },
  {
   "cell_type": "code",
   "execution_count": null,
   "metadata": {},
   "outputs": [],
   "source": []
  },
  {
   "cell_type": "code",
   "execution_count": null,
   "metadata": {},
   "outputs": [],
   "source": [
    "import multiprocessing\n",
    "from math import sqrt\n",
    "\n",
    "\n",
    "class Consumer(multiprocessing.Process):\n",
    "    \n",
    "    def __init__(self, task_queue, result_queue):\n",
    "        multiprocessing.Process.__init__(self)\n",
    "        self.task_queue = task_queue\n",
    "        self.result_queue = result_queue\n",
    "    \n",
    "    def run(self):\n",
    "        pname = self.name\n",
    "        \n",
    "        while True:#not self.task_queue.empty():\n",
    "            \n",
    "            temp_task = self.task_queue.get()\n",
    "            if temp_task is None:\n",
    "                print('Exiting %s...' pname)\n",
    "                self.task_queue.task_done()\n",
    "                break\n",
    "                \n",
    "            print(\"%s processing task: %s\" % (pname, temp_task))\n",
    "            \n",
    "            answer = temp_task.process()\n",
    "            self.task_queue.task_done()\n",
    "            self.result_queue(answer)\n",
    "\n",
    "            \n",
    "            \n",
    "class Task():\n",
    "    def __init__(self, x):\n",
    "        self.x = x\n",
    "        \n",
    "    def process(self):\n",
    "        if self.x < 2:\n",
    "            return \"%i is not a prime number.\" % self.x\n",
    "\n",
    "        if self.x == 2:\n",
    "            return \"%i is a prime number.\" % self.x\n",
    "        \n",
    "        if self.x == 0:\n",
    "            return \"%i is not a prime number.\" % self.x\n",
    "\n",
    "        \n",
    "        limit =  int(sqrt(self.x)) + 1\n",
    "        for i in range(3, limit, 2):\n",
    "            if self.x % i == 0:\n",
    "                return '%i is not a prime number' % self.x\n",
    "        \n",
    "        return '%i is a prime number.' % self.x\n",
    "    \n",
    "    \n",
    "    def __str__(self):\n",
    "        return \"Checking is %i is prime or not\" % self.x\n",
    "    \n",
    "    \n",
    "    \n",
    "if __name__ == '__main__':\n",
    "    tasks = multiprocessing.JoinableQueue()\n",
    "    result  = multiprocessing.Queue()\n",
    "    \n",
    "    # Spawning consumers with respect the # of cores in  sys\n",
    "    \n",
    "    n_consumers = multiprocessing.cpu_count()\n",
    "    print(\"Spawning %i consumers..\" % n_consumers)\n",
    "    consumers = [Consumer(tasks, result) for i in range(n_consumers)]\n",
    "    for consumer in consumers:\n",
    "        consumer.start()\n",
    "        \n",
    "    # Enqueeing jobs\n",
    "    my_input = [2, 36, 101, 193, 323, 513, 1327, 100000, 9999999, 433785907]\n",
    "    \n",
    "    for item in my_input:\n",
    "        tasks.put(None)\n",
    "        \n",
    "    tasks.join()\n",
    "    \n",
    "    #for i in range(n_consumers):\n",
    "     #   tasks.put(Task(item))\n",
    "    \n",
    "    for item in my_input:\n",
    "        temp_result = result.get()\n",
    "        print(\"Result:\", temp_result)\n",
    "\n",
    "    print('Done')"
   ]
  },
  {
   "cell_type": "code",
   "execution_count": null,
   "metadata": {},
   "outputs": [],
   "source": []
  },
  {
   "cell_type": "code",
   "execution_count": null,
   "metadata": {},
   "outputs": [],
   "source": []
  }
 ],
 "metadata": {
  "interpreter": {
   "hash": "9ae16ef445867c3ddd8a030e03f508a31c88ab57810e24e3a3afaf36f09532d0"
  },
  "kernelspec": {
   "display_name": "dev",
   "language": "python",
   "name": "dev"
  },
  "language_info": {
   "codemirror_mode": {
    "name": "ipython",
    "version": 3
   },
   "file_extension": ".py",
   "mimetype": "text/x-python",
   "name": "python",
   "nbconvert_exporter": "python",
   "pygments_lexer": "ipython3",
   "version": "3.8.12"
  }
 },
 "nbformat": 4,
 "nbformat_minor": 2
}
