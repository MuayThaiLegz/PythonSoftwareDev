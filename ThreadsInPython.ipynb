{
 "cells": [
  {
   "cell_type": "code",
   "execution_count": 3,
   "metadata": {},
   "outputs": [
    {
     "name": "stderr",
     "output_type": "stream",
     "text": [
      "Python-dotenv could not parse statement starting at line 29\n",
      "Python-dotenv could not parse statement starting at line 30\n"
     ]
    }
   ],
   "source": [
    "import os\n",
    "\n",
    "import requests\n",
    "\n",
    "import json\n",
    "\n",
    "import multiprocessing\n",
    "\n",
    "import msgpack\n",
    "\n",
    "import numpy as np\n",
    "\n",
    "import pandas as pd\n",
    "\n",
    "from dotenv import load_dotenv\n",
    "\n",
    "import alpaca_trade_api as tradeapi\n",
    "\n",
    "from math import sqrt\n",
    "\n",
    "from timeit import default_timer as timer\n",
    "\n",
    "import concurrent\n",
    "import time\n",
    "\n",
    "# Load the environment variables from the .env file\n",
    "#by calling the load_dotenv function\n",
    "\n",
    "load_dotenv()\n",
    "\n",
    "pd.set_option('display.max_rows', 2000)\n",
    "pd.set_option('display.max_columns', 2000)\n",
    "pd.set_option('display.width', 1000)\n",
    "\n",
    "\n"
   ]
  },
  {
   "cell_type": "code",
   "execution_count": 4,
   "metadata": {},
   "outputs": [],
   "source": [
    "\n",
    "def is_prime(x):\n",
    "    if x % 2 == 1:\n",
    "        return True\n",
    "    else:\n",
    "        return False"
   ]
  },
  {
   "cell_type": "code",
   "execution_count": null,
   "metadata": {},
   "outputs": [],
   "source": []
  },
  {
   "cell_type": "code",
   "execution_count": 9,
   "metadata": {},
   "outputs": [
    {
     "name": "stdout",
     "output_type": "stream",
     "text": [
      "Starting thread A.\n",
      "Starting thread B.\n",
      "Thread A counting down: 5...\n",
      "Thread B counting down: 5...\n",
      "Thread A counting down: 4...\n",
      "Thread B counting down: 4...\n",
      "Thread A counting down: 3...\n",
      "Thread B counting down: 3...\n",
      "Thread A counting down: 2...\n",
      "Thread B counting down: 2...\n",
      "Thread A counting down: 1...\n",
      "finished thread A.\n",
      "Thread B counting down: 1...\n",
      "finished thread B.\n",
      "Finished\n"
     ]
    }
   ],
   "source": [
    "# my_thread.py\n",
    "\n",
    "# The threading  mod is built ontop of thread mod provinding easier ways to work with threads.\n",
    "\n",
    "import threading\n",
    "import time\n",
    "\n",
    "class MyThread(threading.Thread):\n",
    "    def __init__(self, name, delay):\n",
    "        threading.Thread.__init__(self)\n",
    "        self.name = name\n",
    "        self.delay = delay\n",
    "\n",
    "    def run(self):\n",
    "        print(\"Starting thread %s.\" % self.name)\n",
    "        thread_count_down(self.name,self.delay)\n",
    "        print(\"finished thread %s.\" % self.name)\n",
    "\n",
    "def thread_count_down(name, delay):\n",
    "    counter = 5\n",
    "\n",
    "    while counter:\n",
    "        time.sleep(delay)\n",
    "        print(\"Thread %s counting down: %i...\" % (name, counter))\n",
    "        counter -= 1\n",
    "\n",
    "thread1 = MyThread(\"A\", 0.5)\n",
    "\n",
    "thread2 = MyThread(\"B\", 0.5)\n",
    "\n",
    "thread1.start()\n",
    "thread2.start()\n",
    "\n",
    "\n",
    "\n",
    "\n",
    "thread1.join()\n",
    "thread2.join()\n",
    "\n",
    "print(\"Finished\")\n"
   ]
  },
  {
   "cell_type": "code",
   "execution_count": 10,
   "metadata": {},
   "outputs": [],
   "source": [
    "import _thread as thread\n",
    "\n",
    "my_in = [2, 193, 323, 1327, 433785907]\n",
    "\n",
    "for x in my_in:\n",
    "    thread.start_new_thread(is_prime, (x, ))\n",
    "#    a =  input(\"Type to quit\")"
   ]
  },
  {
   "cell_type": "code",
   "execution_count": 12,
   "metadata": {},
   "outputs": [],
   "source": [
    "# Implementing a multithreaded Py program\n",
    "\n",
    "import threading\n",
    "\n",
    "class MyThread(threading.Thread):\n",
    "    def __init__(self, x):\n",
    "        threading.Thread.__init__(self)\n",
    "        self.x = x\n",
    "    \n",
    "    def run(self):\n",
    "        print(\"Starting processing %i...\" % x)\n",
    "        is_prime(self.x)"
   ]
  },
  {
   "cell_type": "code",
   "execution_count": 13,
   "metadata": {},
   "outputs": [
    {
     "name": "stdout",
     "output_type": "stream",
     "text": [
      "Starting processing 2...\n",
      "Starting processing 193...\n",
      "Starting processing 323...\n",
      "Starting processing 1327...\n",
      "Starting processing 433785907...\n",
      "Finished.\n"
     ]
    }
   ],
   "source": [
    "my_in = [2, 193, 323, 1327, 433785907]\n",
    "\n",
    "threads = []\n",
    "\n",
    "for x in my_in:\n",
    "    temp_thread = MyThread(x)\n",
    "    temp_thread.start()\n",
    "    threads.append(temp_thread)\n",
    "\n",
    "for thread in threads:\n",
    "    thread.join()\n",
    "\n",
    "print(\"Finished.\")\n",
    "    \n"
   ]
  },
  {
   "cell_type": "code",
   "execution_count": null,
   "metadata": {},
   "outputs": [],
   "source": [
    "# The threading.Lock Class\n",
    "\n",
    "# threading.Lock(): initialized and returns lock object.object\n",
    "# acquire(blocking): when called all threads will run synchronously\n",
    "# (only only one thread can execute the critical section at a time)\n",
    "#   Optional argument blocking allows us to specify if current thread should wait to acquire lock\n",
    "    # when blocking = 0 the current thread does notwait for the lock and returns0 if lock connot be acquired by thread, else 1    \n",
    "    # when blocking = 1  , current thread blocks and waits forthe lock to be released and acquires it afterward\n",
    "# release when called lock is released"
   ]
  },
  {
   "cell_type": "code",
   "execution_count": 20,
   "metadata": {},
   "outputs": [],
   "source": [
    "\n",
    "# The threading  mod is built ontop of thread mod provinding easier ways to work with threads.\n",
    "\n",
    "import threading\n",
    "import time\n",
    "\n",
    "\n",
    "thread_lock = threading.Lock()\n",
    "\n",
    "class MyThread(threading.Thread):\n",
    "    \n",
    "    def __init__(self, name, delay):\n",
    "        threading.Thread.__init__(self)\n",
    "        self.name = name\n",
    "        self.delay = delay\n",
    "\n",
    "    def run(self):\n",
    "        print(\"Starting thread %s.\" % self.name)\n",
    "        thread_lock.acquire()\n",
    "        \n",
    "        thread_count_down(self.name, self.delay)\n",
    "        thread_lock.release()\n",
    "        print(\"Finished thread %s. \" % self.name)\n",
    "\n",
    "def thread_count_dow(name, delay):\n",
    "    counter = 5\n",
    "\n",
    "    while counter:\n",
    "        time.sleep(delay)\n",
    "        print(\"Thread %s counting down:  %i...\" %(name, counter))\n",
    "        counter -= 1\n",
    "\n",
    "\n"
   ]
  },
  {
   "cell_type": "code",
   "execution_count": 21,
   "metadata": {},
   "outputs": [
    {
     "name": "stdout",
     "output_type": "stream",
     "text": [
      "Starting thread A.Starting thread B.\n",
      "\n",
      "Thread B counting down: 5...\n",
      "Thread B counting down: 4...\n",
      "Thread B counting down: 3...\n",
      "Thread B counting down: 2...\n",
      "Thread B counting down: 1...\n",
      "Finished thread B. \n",
      "Thread A counting down: 5...\n",
      "Thread A counting down: 4...\n",
      "Thread A counting down: 3...\n",
      "Thread A counting down: 2...\n",
      "Thread A counting down: 1...\n",
      "Finished thread A. \n",
      "Finished\n"
     ]
    }
   ],
   "source": [
    "thread_lock = threading.Lock()\n",
    "\n",
    "\n",
    "thread1 = MyThread(\"A\", 0.5)\n",
    "\n",
    "thread2 = MyThread(\"B\", 0.5)\n",
    "\n",
    "thread1.start()\n",
    "thread2.start()\n",
    "\n",
    "\n",
    "\n",
    "\n",
    "thread1.join()\n",
    "thread2.join()\n",
    "\n",
    "print(\"Finished\")"
   ]
  },
  {
   "cell_type": "code",
   "execution_count": 22,
   "metadata": {},
   "outputs": [],
   "source": [
    "# Queuing in concurrent programming \n",
    "\n",
    "import queue\n",
    "import threading\n",
    "import time\n",
    "\n",
    "class MyThread(threading.Thread):\n",
    "    \n",
    "    def __init__(self, name, delay):\n",
    "        threading.Thread.__init__(self)\n",
    "        self.name = name\n",
    "\n",
    "    def run(self):\n",
    "        print(\"Starting thread   %s.\"  %  self.name)\n",
    "        process_queue()\n",
    "        print(\"Exiting thread %s.\" % self.name)\n",
    "\n",
    "def  process_queue():\n",
    "    while True:\n",
    "        try:\n",
    "            x = my_queue.get(block=False)\n",
    "        except queue.Empty:\n",
    "            return\n",
    "        else:\n",
    "            print_factors(x)\n",
    "\n",
    "        time.sleep(1)\n",
    "\n",
    "def print_factors(x):\n",
    "    result_string = \"Positive factors od %i are: \" % x\n",
    "    for i in range(1, x + 1):\n",
    "        if x % i == 0:\n",
    "            result_string += str(i) + ' '\n",
    "    \n",
    "    result_string += \"/n\" + '_' * 20\n",
    "    print(result_string)"
   ]
  },
  {
   "cell_type": "code",
   "execution_count": 25,
   "metadata": {},
   "outputs": [
    {
     "name": "stdout",
     "output_type": "stream",
     "text": [
      "Starting thread   A.\n",
      "Positive factors od 1 are: 1 /n____________________\n",
      "Starting thread   B.\n",
      "Positive factors od 10 are: 1 2 5 10 /n____________________\n",
      "Positive factors od 4 are: 1 2 4 /n____________________\n",
      "Positive factors od 3 are: 1 3 /n____________________\n",
      "Exiting thread A.\n",
      "Exiting thread B.\n",
      "Finished\n"
     ]
    }
   ],
   "source": [
    "input_ = [1,10, 4, 3]\n",
    "\n",
    "my_queue = queue.Queue()\n",
    "\n",
    "for x in input_:\n",
    "    my_queue.put(x)\n",
    "\n",
    "\n",
    "\n",
    "\n",
    "thread1 = MyThread(\"A\", 0.5)\n",
    "\n",
    "thread2 = MyThread(\"B\", 0.5)\n",
    "\n",
    "thread1.start()\n",
    "thread2.start()\n",
    "\n",
    "\n",
    "\n",
    "\n",
    "thread1.join()\n",
    "thread2.join()\n",
    "\n",
    "print(\"Finished\")"
   ]
  },
  {
   "cell_type": "code",
   "execution_count": null,
   "metadata": {},
   "outputs": [],
   "source": []
  },
  {
   "cell_type": "code",
   "execution_count": null,
   "metadata": {},
   "outputs": [],
   "source": []
  }
 ],
 "metadata": {
  "interpreter": {
   "hash": "9ae16ef445867c3ddd8a030e03f508a31c88ab57810e24e3a3afaf36f09532d0"
  },
  "kernelspec": {
   "display_name": "dev",
   "language": "python",
   "name": "dev"
  },
  "language_info": {
   "codemirror_mode": {
    "name": "ipython",
    "version": 3
   },
   "file_extension": ".py",
   "mimetype": "text/x-python",
   "name": "python",
   "nbconvert_exporter": "python",
   "pygments_lexer": "ipython3",
   "version": "3.10.0"
  },
  "orig_nbformat": 4
 },
 "nbformat": 4,
 "nbformat_minor": 2
}
