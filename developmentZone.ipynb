{
 "cells": [
  {
   "cell_type": "code",
   "execution_count": 25,
   "metadata": {},
   "outputs": [
    {
     "data": {
      "text/plain": [
       "\"\\nCredit history: Lenders look into borrowers’ credit scores and check their backgrounds.\\nCapacity to repay:  To ascertain borrowers’ repayment ability, lenders rely on the debt-to-income ratio. It indicates efficiency in paying off debts from earnings.\\nCapital: Lenders determine every borrower’s net worth. It is computed by subtracting overall liabilities from total assets.\\nConditions of loan: It is important to determine if the terms and conditions suit a particular borrower.  \\nCollateral: Lenders assess the value of collateral submitted by borrowers. Collateralization mitigates lenders’ risk.\\n\\n\\nLet us assume that a bank lends $1000,000 to XYZ Ltd. But soon, the company experiences operational difficulties—resulting in a liquidity crunch.\\n\\nNow, determine the expected loss that could be caused by a credit default. The loss given default is 38%; the rest can be recovered from the sale of collateral (building).\\n\\nSolution:\\n\\nGiven,\\n\\nExposure at default (EAD) = $1000,000\\n\\nProbability of default (PD) = 100% (as the company is assumed to default the full amount)\\n\\nLoss given default (LGD) = 38%\\n\\nThe expected loss can be calculated using the following formula:\\n\\nExpected Loss = PD × EAD × LGD\\n\\nExpected Loss = 100% × 1000000 × 38%\\n\\nExpected Loss = $380000\\n\\nThus, the bank expects a loss of $380,000.\\n\\n\\n\\n\\n\\n\\n\\nTargeted Net Worth Ratio= Age x (Pretax Income/10)\\nYour targeted net worth provides you with an indication of what you should be worth after liabilities.\\nAs a 30-year old making $95,000 annually, your net worth should be $285,000. The calculate is 30 x (95000/10).\\nThis guidepost can help you reach your goals, particularly financial security.\\n\\n\\n# self.NetWorth = (self.savings + self.assets) - self.ShortTermLiabilities\\n       \\n# self.CurrentRatio = self.savings - self.ShortTermLiabilitiesa\\n\\n'Current Ratio': self.CurrentRatio,\\n\\n'Net Worth' : self.NetWorth,\\n\\n\""
      ]
     },
     "execution_count": 25,
     "metadata": {},
     "output_type": "execute_result"
    }
   ],
   "source": [
    "# Risk Metrics\n",
    "\n",
    "\"\"\"\n",
    "Credit history: Lenders look into borrowers’ credit scores and check their backgrounds.\n",
    "Capacity to repay:  To ascertain borrowers’ repayment ability, lenders rely on the debt-to-income ratio. It indicates efficiency in paying off debts from earnings.\n",
    "Capital: Lenders determine every borrower’s net worth. It is computed by subtracting overall liabilities from total assets.\n",
    "Conditions of loan: It is important to determine if the terms and conditions suit a particular borrower.  \n",
    "Collateral: Lenders assess the value of collateral submitted by borrowers. Collateralization mitigates lenders’ risk.\n",
    "\n",
    "\n",
    "Let us assume that a bank lends $1000,000 to XYZ Ltd. But soon, the company experiences operational difficulties—resulting in a liquidity crunch.\n",
    "\n",
    "Now, determine the expected loss that could be caused by a credit default. The loss given default is 38%; the rest can be recovered from the sale of collateral (building).\n",
    "\n",
    "Solution:\n",
    "\n",
    "Given,\n",
    "\n",
    "Exposure at default (EAD) = $1000,000\n",
    "\n",
    "Probability of default (PD) = 100% (as the company is assumed to default the full amount)\n",
    "\n",
    "Loss given default (LGD) = 38%\n",
    "\n",
    "The expected loss can be calculated using the following formula:\n",
    "\n",
    "Expected Loss = PD × EAD × LGD\n",
    "\n",
    "Expected Loss = 100% × 1000000 × 38%\n",
    "\n",
    "Expected Loss = $380000\n",
    "\n",
    "Thus, the bank expects a loss of $380,000.\n",
    "\n",
    "\n",
    "\n",
    "\n",
    "\n",
    "\n",
    "\n",
    "Targeted Net Worth Ratio= Age x (Pretax Income/10)\n",
    "Your targeted net worth provides you with an indication of what you should be worth after liabilities.\n",
    "As a 30-year old making $95,000 annually, your net worth should be $285,000. The calculate is 30 x (95000/10).\n",
    "This guidepost can help you reach your goals, particularly financial security.\n",
    "\n",
    "\n",
    "# self.NetWorth = (self.savings + self.assets) - self.ShortTermLiabilities\n",
    "       \n",
    "# self.CurrentRatio = self.savings - self.ShortTermLiabilitiesa\n",
    "\n",
    "'Current Ratio': self.CurrentRatio,\n",
    "\n",
    "'Net Worth' : self.NetWorth,\n",
    "\n",
    "\"\"\"\n",
    "    \n",
    "    \n",
    "    "
   ]
  },
  {
   "cell_type": "code",
   "execution_count": 26,
   "metadata": {},
   "outputs": [],
   "source": [
    "from enum import Enum\n",
    "import time\n",
    "import pandas as pd\n",
    "import math\n",
    "\n",
    "LoanType = Enum('LoanType',\n",
    "                {'ShortTerm_9per': \"6 to 18 Months\",\n",
    "                 'MidTerm_7per': \"18 to 30 Months\",\n",
    "                 'LongTerm_5per': \"More than 30 Max 42 \"}\n",
    "               )\n",
    "\n",
    "\n",
    "LoanProgress = Enum('LoanProgress',\n",
    "                    ['Initial_Application', 'Approved', 'Complete'])\n",
    "\n",
    "\n",
    "LoanStatus = Enum('LoanStatus',\n",
    "                  ['Green', 'Red', 'Delinquent'])\n",
    "\n",
    "\n",
    "LoanDownpayment = Enum('CollateralPosted',\n",
    "                  ['Cash', 'Security', 'Tangeble'])\n",
    "\n",
    "\n",
    "STEP_DELAY = 3 # in seconds for the sake of the example\n"
   ]
  },
  {
   "cell_type": "code",
   "execution_count": 27,
   "metadata": {},
   "outputs": [],
   "source": [
    "\n",
    "\n",
    "class Borrower:\n",
    "      \n",
    "    def __init__(self, name):\n",
    "        self.name = name\n",
    "        self.email = 'jav@mail.com' \n",
    "        self.zipCode = 94519 \n",
    "        self.customerId = hex(hash(name) * hash(time.time()**2))\n",
    "        self.debt = 20000 \n",
    "        self.monthIncome = 8654 \n",
    "        self.monthExpences = 30574 \n",
    "        self.assets = 5000 \n",
    "        self.savings = 250\n",
    "     \n",
    "        self.ShortTermLiabilities3, self.ShortTermLiabilities6 = self.monthExpences * 3, self.monthExpences * 6\n",
    "        self.AnDebtRepay = self.monthExpences * 12\n",
    "        self.AnGrossIncome = self.monthIncome * 12\n",
    "        self.EmergcFundRatio = (self.monthExpences * 6) < self.savings /.33\n",
    "        print((self.savings /.33) - (self.monthExpences * 6))\n",
    "        \n",
    "        self.LiquidRatio = self.assets / self.monthExpences\n",
    "        self.DebtIncomeRatio  = (self.AnDebtRepay/self.AnGrossIncome) * 100\n",
    "        \n",
    "        \n",
    "        self.BorrowerDetails = {'Customer Name' : self.name,\n",
    "                                'Customer Email' : self.email,\n",
    "                                'Customer Id': self.customerId,\n",
    "                                }\n",
    "            \n",
    "        \n",
    "        self.BorrowerFinRatios = {'Short Term Liabilities' : self.ShortTermLiabilities6,\n",
    "                                'Annual Repayment' : self.AnDebtRepay,\n",
    "                                \"Annual Gross Income\": self.AnGrossIncome,\n",
    "                                'Liquid Ratio' : self.LiquidRatio,\n",
    "                                'Emergency Fund Ratio' : self.EmergcFundRatio,\n",
    "                                \"DebtIncomeRatio\" : self.DebtIncomeRatio\n",
    "                                }"
   ]
  },
  {
   "cell_type": "code",
   "execution_count": 30,
   "metadata": {},
   "outputs": [],
   "source": [
    "\n",
    "class LoanFactory:\n",
    "        \n",
    "    def __init__(self):\n",
    "        self.applicant = Borrower('Lil John')\n",
    "        self.loan_amount = 25000\n",
    "        self.loan_duration_months = 25\n",
    "        \n",
    "            \n",
    "        if self.loan_duration_months <= 18:\n",
    "            self.LoanType = LoanType.ShortTerm_9per\n",
    "            self.LoanRate  = .09 * 100\n",
    "                \n",
    "        if self.loan_duration_months <= 30:\n",
    "            self.LoanType = LoanType.MidTerm_7per\n",
    "            self.LoanRate  = .07 * 100\n",
    "\n",
    "        \n",
    "        if self.loan_duration_months >= 30:\n",
    "            self.LoanType = LoanType.LongTerm_5per\n",
    "            self.LoanRate  = .05  * 100\n",
    "            print(self.LoanRate) \n",
    "            \n",
    "            \n",
    "        if self.applicant.DebtIncomeRatio < 45:\n",
    "            self.LoanRate + .015 *  100\n",
    "        if self.applicant.AnDebtRepay > self.applicant.AnGrossIncome:\n",
    "            self.LoanRate + .015 *  100\n",
    "                \n",
    "        self.LoanLifeCycle = LoanProgress.Initial_Application\n",
    "             \n",
    "        r = self.LoanRate/100/12\n",
    "        p = self.loan_duration_months\n",
    "        \n",
    "        monthyDue =  r * self.loan_amount / 1-(1 + r)**-p\n",
    "        \n",
    "        self.paymentAmount = float('%.2f' % monthyDue)\n",
    "        \n",
    "        self.LoanLifeCycle = LoanProgress.Approved\n",
    "        \n",
    "        \n",
    "        \n",
    "        self.loanId = hex(hash(self.LoanType) * hash(time.time() - hash(monthyDue)**-2))\n",
    "\n",
    "        \n",
    "        self.LoanDetails  = {'Borrower Indentification': self.applicant.customerId,\n",
    "                             'Loan Indentification': self.loanId,\n",
    "                             'Loan Type': self.LoanType,\n",
    "                             'Loan Amount': self.loan_amount,\n",
    "                             'Loan Rate': self.LoanRate,\n",
    "                             'Loan Duration(months)': self.loan_duration_months,\n",
    "                             'Monthly Due': self.paymentAmount}\n",
    "        \n",
    "        "
   ]
  },
  {
   "cell_type": "code",
   "execution_count": 31,
   "metadata": {},
   "outputs": [
    {
     "name": "stdout",
     "output_type": "stream",
     "text": [
      "-182686.42424242425\n"
     ]
    },
    {
     "data": {
      "text/plain": [
       "{'Short Term Liabilities': 183444,\n",
       " 'Annual Repayment': 366888,\n",
       " 'Annual Gross Income': 103848,\n",
       " 'Liquid Ratio': 0.1635376463661935,\n",
       " 'Emergency Fund Ratio': False,\n",
       " 'DebtIncomeRatio': 353.29327478622605}"
      ]
     },
     "metadata": {},
     "output_type": "display_data"
    },
    {
     "data": {
      "text/plain": [
       "{'Short Term Liabilities': 183444,\n",
       " 'Annual Repayment': 366888,\n",
       " 'Annual Gross Income': 103848,\n",
       " 'Liquid Ratio': 0.1635376463661935,\n",
       " 'Emergency Fund Ratio': False,\n",
       " 'DebtIncomeRatio': 353.29327478622605}"
      ]
     },
     "metadata": {},
     "output_type": "display_data"
    },
    {
     "data": {
      "text/plain": [
       "{'Borrower Indentification': '0x1e1c272fc373f3ffd885a6ac5200a63',\n",
       " 'Loan Indentification': '0x3ae4c24c91a80c3f49e28cf1a3b57c8',\n",
       " 'Loan Type': <LoanType.MidTerm_7per: '18 to 30 Months'>,\n",
       " 'Loan Amount': 25000,\n",
       " 'Loan Rate': 7.000000000000001,\n",
       " 'Loan Duration(months)': 25,\n",
       " 'Monthly Due': 144.97}"
      ]
     },
     "metadata": {},
     "output_type": "display_data"
    }
   ],
   "source": [
    "LoanApplication = LoanFactory()\n",
    "\n",
    "display(LoanApplication.applicant.BorrowerFinRatios)\n",
    "\n",
    "display(LoanApplication.applicant.BorrowerFinRatios)\n",
    "\n",
    "display(LoanApplication.LoanDetails)"
   ]
  },
  {
   "cell_type": "code",
   "execution_count": null,
   "metadata": {},
   "outputs": [],
   "source": []
  }
 ],
 "metadata": {
  "kernelspec": {
   "display_name": "dev",
   "language": "python",
   "name": "dev"
  },
  "language_info": {
   "codemirror_mode": {
    "name": "ipython",
    "version": 3
   },
   "file_extension": ".py",
   "mimetype": "text/x-python",
   "name": "python",
   "nbconvert_exporter": "python",
   "pygments_lexer": "ipython3",
   "version": "3.8.12"
  },
  "orig_nbformat": 4
 },
 "nbformat": 4,
 "nbformat_minor": 2
}
