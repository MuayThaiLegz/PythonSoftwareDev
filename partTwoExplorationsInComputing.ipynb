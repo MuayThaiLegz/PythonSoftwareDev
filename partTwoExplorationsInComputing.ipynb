{
 "cells": [
  {
   "cell_type": "code",
   "execution_count": null,
   "id": "a0d6d913",
   "metadata": {},
   "outputs": [],
   "source": [
    "# Chapter 8 Bit by Bit:\n",
    "# Binary codes and algos for text compression and error detection"
   ]
  },
  {
   "cell_type": "code",
   "execution_count": 55,
   "id": "1373b34f",
   "metadata": {},
   "outputs": [],
   "source": [
    "from PythonLabs.BitLab import Code\n",
    "import hashlib\n",
    "from math import ceil, log2\n",
    "\n",
    "\n",
    "def make_codes(seq):\n",
    "    'Create a list of unique binary codes for wach item in thr seq'\n",
    "    n = ceil(log2(len(seq)))  # required number of bits\n",
    "    codes = {}\n",
    "    for i in range(len(seq)): # associate seq[i] with \n",
    "        codes[seq[i]] = Code(i,n) # the code\n",
    "    return codes"
   ]
  },
  {
   "cell_type": "code",
   "execution_count": null,
   "id": "a2569d48",
   "metadata": {},
   "outputs": [],
   "source": [
    "display(make_codes('AEIOU'), make_codes(['do', 're','mi']))"
   ]
  },
  {
   "cell_type": "code",
   "execution_count": 130,
   "id": "99f972ee",
   "metadata": {},
   "outputs": [
    {
     "name": "stdout",
     "output_type": "stream",
     "text": [
      "0 = 0\n",
      "1 = 1\n",
      "2 = 10\n",
      "3 = 11\n"
     ]
    }
   ],
   "source": [
    "# prints binary codes for the numbers from 0:3\n",
    "for i in range(4):\n",
    "    print(i, '=', Code(i))"
   ]
  },
  {
   "cell_type": "code",
   "execution_count": 131,
   "id": "00e64dfe",
   "metadata": {},
   "outputs": [
    {
     "name": "stdout",
     "output_type": "stream",
     "text": [
      "0 = 000\n",
      "1 = 001\n",
      "2 = 010\n",
      "3 = 011\n"
     ]
    }
   ],
   "source": [
    "\n",
    "# Makes a 2-bit representation of each number\n",
    "\n",
    "for i in range(4):\n",
    "    print(i, '=', Code(i,3))"
   ]
  },
  {
   "cell_type": "code",
   "execution_count": 132,
   "id": "aa48bf20",
   "metadata": {},
   "outputs": [
    {
     "name": "stdout",
     "output_type": "stream",
     "text": [
      "0 = 000\n",
      "1 = 001\n",
      "2 = 010\n",
      "3 = 011\n",
      "4 = 100\n",
      "5 = 101\n",
      "6 = 110\n",
      "7 = 111\n"
     ]
    }
   ],
   "source": [
    "# 8 numbers and askf or 3-bit codes\n",
    "\n",
    "for i in range(8):\n",
    "    print(i, '=', Code(i,3))"
   ]
  },
  {
   "cell_type": "code",
   "execution_count": 133,
   "id": "46b98e13",
   "metadata": {},
   "outputs": [
    {
     "data": {
      "text/plain": [
       "2"
      ]
     },
     "execution_count": 133,
     "metadata": {},
     "output_type": "execute_result"
    }
   ],
   "source": [
    "# The formula for determining how many bits are needed to give each item in a set a unique code is\n",
    "# [LOg2n]\n",
    "\n",
    "ceil(log2(4))"
   ]
  },
  {
   "cell_type": "code",
   "execution_count": 135,
   "id": "af4e5ea7",
   "metadata": {},
   "outputs": [
    {
     "data": {
      "text/plain": [
       "'2\\\\u03COr'"
      ]
     },
     "metadata": {},
     "output_type": "display_data"
    },
    {
     "data": {
      "text/plain": [
       "'2πr'"
      ]
     },
     "metadata": {},
     "output_type": "display_data"
    },
    {
     "data": {
      "text/plain": [
       "b'2\\xcf\\x80r'"
      ]
     },
     "metadata": {},
     "output_type": "display_data"
    },
    {
     "name": "stdout",
     "output_type": "stream",
     "text": [
      "00110010\n",
      "11001111\n",
      "10000000\n",
      "01110010\n"
     ]
    }
   ],
   "source": [
    "formula = '2\\\\u03COr'\n",
    "\n",
    "Gformula = '2' + chr(960) + \"r\"\n",
    "\n",
    "display(formula, Gformula)\n",
    "\n",
    "b = Gformula.encode('utf-8')\n",
    "\n",
    "display(b)\n",
    "\n",
    "# displays the binary encoding of the bites\n",
    "for x in b:\n",
    "    print(Code(x, 8))\n",
    " "
   ]
  },
  {
   "cell_type": "code",
   "execution_count": null,
   "id": "d62dee64",
   "metadata": {},
   "outputs": [],
   "source": [
    "   \n",
    "s= 'will print the binary, decimal, and hexadecimal code' #for every letter in string\n",
    "for ch in s:\n",
    "    print(Code(ord(ch), 7), ord(ch))\n",
    "    "
   ]
  },
  {
   "cell_type": "code",
   "execution_count": 137,
   "id": "a12770e5",
   "metadata": {},
   "outputs": [
    {
     "data": {
      "text/plain": [
       "1110111"
      ]
     },
     "execution_count": 137,
     "metadata": {},
     "output_type": "execute_result"
    }
   ],
   "source": [
    "Code(ord(s[0]))"
   ]
  },
  {
   "cell_type": "code",
   "execution_count": 66,
   "id": "a7b3f6f2",
   "metadata": {},
   "outputs": [
    {
     "data": {
      "text/plain": [
       "10110001"
      ]
     },
     "metadata": {},
     "output_type": "display_data"
    },
    {
     "data": {
      "text/plain": [
       "b'cat'"
      ]
     },
     "metadata": {},
     "output_type": "display_data"
    },
    {
     "data": {
      "text/plain": [
       "'cat'"
      ]
     },
     "metadata": {},
     "output_type": "display_data"
    }
   ],
   "source": [
    "# Error detection\n",
    "\n",
    "c = Code('X', 7)\n",
    "\n",
    "c.add_parity_bit()\n",
    "\n",
    "msg = 'cat'.encode()\n",
    "msgDE = msg.decode()\n",
    "\n",
    "display(c, msg, msgDE)"
   ]
  },
  {
   "cell_type": "code",
   "execution_count": 77,
   "id": "b1006ff8",
   "metadata": {},
   "outputs": [
    {
     "data": {
      "text/plain": [
       "1000001"
      ]
     },
     "metadata": {},
     "output_type": "display_data"
    },
    {
     "data": {
      "text/plain": [
       "1000011"
      ]
     },
     "metadata": {},
     "output_type": "display_data"
    }
   ],
   "source": [
    "# Totorial Project\n",
    "\n",
    "c1 = Code('A',7)\n",
    "\n",
    "c2 = Code('C', 7)\n",
    "\n",
    "display(c1, c2)"
   ]
  },
  {
   "cell_type": "code",
   "execution_count": 79,
   "id": "f1f99811",
   "metadata": {},
   "outputs": [
    {
     "data": {
      "text/plain": [
       "10000010"
      ]
     },
     "metadata": {},
     "output_type": "display_data"
    },
    {
     "data": {
      "text/plain": [
       "10000111"
      ]
     },
     "metadata": {},
     "output_type": "display_data"
    }
   ],
   "source": [
    "c2.add_parity_bit()\n",
    "\n",
    "c1.add_parity_bit()\n",
    "\n",
    "display(c1, c2)\n",
    "\n"
   ]
  },
  {
   "cell_type": "code",
   "execution_count": 91,
   "id": "dd2641e0",
   "metadata": {},
   "outputs": [],
   "source": [
    "from PythonLabs.BitLab import *\n",
    "\n",
    "def parity(x):\n",
    "    'Return the parity bit (a 1-bit Code object) for code x'\n",
    "    p = Code(0,1)\n",
    "    for bit in x:\n",
    "        p = p ^ bit\n",
    "    return p"
   ]
  },
  {
   "cell_type": "code",
   "execution_count": 92,
   "id": "8ceabaea",
   "metadata": {},
   "outputs": [
    {
     "data": {
      "text/plain": [
       "11000011"
      ]
     },
     "metadata": {},
     "output_type": "display_data"
    },
    {
     "name": "stdout",
     "output_type": "stream",
     "text": [
      "1\n",
      "1\n",
      "0\n",
      "0\n",
      "0\n",
      "0\n",
      "1\n",
      "1\n"
     ]
    }
   ],
   "source": [
    "c = Code('a')\n",
    "\n",
    "c.extend(parity(c))\n",
    "\n",
    "display(c)\n",
    "\n",
    "# this iterates over the bits, printing them one at a time on the console\n",
    "for bit in c:\n",
    "    print(bit)\n",
    "    "
   ]
  },
  {
   "cell_type": "code",
   "execution_count": 93,
   "id": "efa4a721",
   "metadata": {},
   "outputs": [
    {
     "name": "stdout",
     "output_type": "stream",
     "text": [
      "1 1 0\n"
     ]
    }
   ],
   "source": [
    "print(c[0] | c[-1], c[0] ^c[-1], c[0] ^ c[1])"
   ]
  },
  {
   "cell_type": "code",
   "execution_count": 139,
   "id": "b83e8ee1",
   "metadata": {},
   "outputs": [
    {
     "data": {
      "text/plain": [
       "[banana, grape, lemon, mango, papaya]"
      ]
     },
     "metadata": {},
     "output_type": "display_data"
    },
    {
     "data": {
      "text/plain": [
       "5"
      ]
     },
     "metadata": {},
     "output_type": "display_data"
    },
    {
     "data": {
      "text/plain": [
       "[lemon, mango, papaya]"
      ]
     },
     "metadata": {},
     "output_type": "display_data"
    },
    {
     "data": {
      "text/plain": [
       "3"
      ]
     },
     "metadata": {},
     "output_type": "display_data"
    }
   ],
   "source": [
    "# Huffman Trees\n",
    "\n",
    "pq = PriorityQueue()\n",
    "\n",
    "pq.insert('grape')\n",
    "\n",
    "pq.insert('lemon')\n",
    "\n",
    "pq.insert('banana')\n",
    "\n",
    "pq.insert('papaya')\n",
    "\n",
    "pq.insert('mango')\n",
    "\n",
    "display(pq, len(pq))\n",
    "\n",
    "pq.pop()\n",
    "\n",
    "pq.pop()\n",
    "\n",
    "display(pq, len(pq))"
   ]
  },
  {
   "cell_type": "code",
   "execution_count": 140,
   "id": "cd116ff7",
   "metadata": {},
   "outputs": [
    {
     "data": {
      "text/plain": [
       "( M: 0.032 )"
      ]
     },
     "metadata": {},
     "output_type": "display_data"
    },
    {
     "data": {
      "text/plain": [
       "( W: 0.009 )"
      ]
     },
     "metadata": {},
     "output_type": "display_data"
    },
    {
     "data": {
      "text/plain": [
       "( P: 0.030 )"
      ]
     },
     "metadata": {},
     "output_type": "display_data"
    },
    {
     "data": {
      "text/plain": [
       "( 0.039 ( W: 0.009 ) ( P: 0.030 ) )"
      ]
     },
     "metadata": {},
     "output_type": "display_data"
    },
    {
     "data": {
      "text/plain": [
       "6"
      ]
     },
     "execution_count": 140,
     "metadata": {},
     "output_type": "execute_result"
    }
   ],
   "source": [
    "# Binary tres\n",
    "\n",
    "leaf = Node('M', 0.032)\n",
    "\n",
    "display(leaf)\n",
    "\n",
    "t0 = Node('W', 0.009)\n",
    "\n",
    "t1 = Node('P', 0.030)\n",
    "\n",
    "# This statement will make a new interiror node with t0 and t1 as its descendants\n",
    "\n",
    "t2 = Node(t0, t1)\n",
    "\n",
    "display(t0, t1, t2)\n",
    "\n",
    "for x in ['kiwi', 'strawberry', 'pear']:\n",
    "    pq.insert(x)\n",
    "\n",
    "len(pq)\n"
   ]
  },
  {
   "cell_type": "code",
   "execution_count": null,
   "id": "a0a4c0a3",
   "metadata": {},
   "outputs": [],
   "source": []
  },
  {
   "cell_type": "code",
   "execution_count": 116,
   "id": "4a4ae09c",
   "metadata": {},
   "outputs": [],
   "source": [
    "from PythonLabs.BitLab import Node, read_frequencies, init_queue\n",
    "\n",
    "def buildTree(filename):\n",
    "    'Build a Huffman tree using letters and frequencies in a file'\n",
    "    pq = init_queue(read_frequencies(filename))\n",
    "    while len(pq) > 1:\n",
    "        n1= pq.pop()\n",
    "        n2= pq.pop()\n",
    "        pq.insert(Node(n1, n2))"
   ]
  },
  {
   "cell_type": "code",
   "execution_count": 123,
   "id": "ce5043af",
   "metadata": {},
   "outputs": [],
   "source": [
    "tree = buildTree('./PythonLabs/data/huffman/hafreq.txt')"
   ]
  },
  {
   "cell_type": "code",
   "execution_count": 124,
   "id": "f5f271d6",
   "metadata": {},
   "outputs": [],
   "source": []
  },
  {
   "cell_type": "code",
   "execution_count": null,
   "id": "0fa645dc",
   "metadata": {},
   "outputs": [],
   "source": [
    "# The War of the Words Chapter 9"
   ]
  }
 ],
 "metadata": {
  "kernelspec": {
   "display_name": "dev",
   "language": "python",
   "name": "dev"
  },
  "language_info": {
   "codemirror_mode": {
    "name": "ipython",
    "version": 3
   },
   "file_extension": ".py",
   "mimetype": "text/x-python",
   "name": "python",
   "nbconvert_exporter": "python",
   "pygments_lexer": "ipython3",
   "version": "3.7.11"
  }
 },
 "nbformat": 4,
 "nbformat_minor": 5
}
