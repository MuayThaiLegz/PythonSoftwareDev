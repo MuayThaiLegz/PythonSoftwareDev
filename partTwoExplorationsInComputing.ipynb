{
 "cells": [
  {
   "cell_type": "code",
   "execution_count": null,
   "id": "a0d6d913",
   "metadata": {},
   "outputs": [],
   "source": [
    "# Chapter 8 Bit by Bit:\n",
    "# Binary codes and algos for text compression and error detection"
   ]
  },
  {
   "cell_type": "code",
   "execution_count": 55,
   "id": "1373b34f",
   "metadata": {},
   "outputs": [],
   "source": [
    "from PythonLabs.BitLab import Code\n",
    "import hashlib\n",
    "from math import ceil, log2\n",
    "\n",
    "\n",
    "def make_codes(seq):\n",
    "    'Create a list of unique binary codes for wach item in thr seq'\n",
    "    n = ceil(log2(len(seq)))  # required number of bits\n",
    "    codes = {}\n",
    "    for i in range(len(seq)): # associate seq[i] with \n",
    "        codes[seq[i]] = Code(i,n) # the code\n",
    "    return codes"
   ]
  },
  {
   "cell_type": "code",
   "execution_count": null,
   "id": "a2569d48",
   "metadata": {},
   "outputs": [],
   "source": [
    "display(make_codes('AEIOU'), make_codes(['do', 're','mi']))"
   ]
  },
  {
   "cell_type": "code",
   "execution_count": 130,
   "id": "99f972ee",
   "metadata": {},
   "outputs": [
    {
     "name": "stdout",
     "output_type": "stream",
     "text": [
      "0 = 0\n",
      "1 = 1\n",
      "2 = 10\n",
      "3 = 11\n"
     ]
    }
   ],
   "source": [
    "# prints binary codes for the numbers from 0:3\n",
    "for i in range(4):\n",
    "    print(i, '=', Code(i))"
   ]
  },
  {
   "cell_type": "code",
   "execution_count": 131,
   "id": "00e64dfe",
   "metadata": {},
   "outputs": [
    {
     "name": "stdout",
     "output_type": "stream",
     "text": [
      "0 = 000\n",
      "1 = 001\n",
      "2 = 010\n",
      "3 = 011\n"
     ]
    }
   ],
   "source": [
    "\n",
    "# Makes a 2-bit representation of each number\n",
    "\n",
    "for i in range(4):\n",
    "    print(i, '=', Code(i,3))"
   ]
  },
  {
   "cell_type": "code",
   "execution_count": 132,
   "id": "aa48bf20",
   "metadata": {},
   "outputs": [
    {
     "name": "stdout",
     "output_type": "stream",
     "text": [
      "0 = 000\n",
      "1 = 001\n",
      "2 = 010\n",
      "3 = 011\n",
      "4 = 100\n",
      "5 = 101\n",
      "6 = 110\n",
      "7 = 111\n"
     ]
    }
   ],
   "source": [
    "# 8 numbers and askf or 3-bit codes\n",
    "\n",
    "for i in range(8):\n",
    "    print(i, '=', Code(i,3))"
   ]
  },
  {
   "cell_type": "code",
   "execution_count": 133,
   "id": "46b98e13",
   "metadata": {},
   "outputs": [
    {
     "data": {
      "text/plain": [
       "2"
      ]
     },
     "execution_count": 133,
     "metadata": {},
     "output_type": "execute_result"
    }
   ],
   "source": [
    "# The formula for determining how many bits are needed to give each item in a set a unique code is\n",
    "# [LOg2n]\n",
    "\n",
    "ceil(log2(4))"
   ]
  },
  {
   "cell_type": "code",
   "execution_count": 135,
   "id": "af4e5ea7",
   "metadata": {},
   "outputs": [
    {
     "data": {
      "text/plain": [
       "'2\\\\u03COr'"
      ]
     },
     "metadata": {},
     "output_type": "display_data"
    },
    {
     "data": {
      "text/plain": [
       "'2πr'"
      ]
     },
     "metadata": {},
     "output_type": "display_data"
    },
    {
     "data": {
      "text/plain": [
       "b'2\\xcf\\x80r'"
      ]
     },
     "metadata": {},
     "output_type": "display_data"
    },
    {
     "name": "stdout",
     "output_type": "stream",
     "text": [
      "00110010\n",
      "11001111\n",
      "10000000\n",
      "01110010\n"
     ]
    }
   ],
   "source": [
    "formula = '2\\\\u03COr'\n",
    "\n",
    "Gformula = '2' + chr(960) + \"r\"\n",
    "\n",
    "display(formula, Gformula)\n",
    "\n",
    "b = Gformula.encode('utf-8')\n",
    "\n",
    "display(b)\n",
    "\n",
    "# displays the binary encoding of the bites\n",
    "for x in b:\n",
    "    print(Code(x, 8))\n",
    " "
   ]
  },
  {
   "cell_type": "code",
   "execution_count": null,
   "id": "d62dee64",
   "metadata": {},
   "outputs": [],
   "source": [
    "   \n",
    "s= 'will print the binary, decimal, and hexadecimal code' #for every letter in string\n",
    "for ch in s:\n",
    "    print(Code(ord(ch), 7), ord(ch))\n",
    "    "
   ]
  },
  {
   "cell_type": "code",
   "execution_count": 137,
   "id": "a12770e5",
   "metadata": {},
   "outputs": [
    {
     "data": {
      "text/plain": [
       "1110111"
      ]
     },
     "execution_count": 137,
     "metadata": {},
     "output_type": "execute_result"
    }
   ],
   "source": [
    "Code(ord(s[0]))"
   ]
  },
  {
   "cell_type": "code",
   "execution_count": 66,
   "id": "a7b3f6f2",
   "metadata": {},
   "outputs": [
    {
     "data": {
      "text/plain": [
       "10110001"
      ]
     },
     "metadata": {},
     "output_type": "display_data"
    },
    {
     "data": {
      "text/plain": [
       "b'cat'"
      ]
     },
     "metadata": {},
     "output_type": "display_data"
    },
    {
     "data": {
      "text/plain": [
       "'cat'"
      ]
     },
     "metadata": {},
     "output_type": "display_data"
    }
   ],
   "source": [
    "# Error detection\n",
    "\n",
    "c = Code('X', 7)\n",
    "\n",
    "c.add_parity_bit()\n",
    "\n",
    "msg = 'cat'.encode()\n",
    "msgDE = msg.decode()\n",
    "\n",
    "display(c, msg, msgDE)"
   ]
  },
  {
   "cell_type": "code",
   "execution_count": 77,
   "id": "b1006ff8",
   "metadata": {},
   "outputs": [
    {
     "data": {
      "text/plain": [
       "1000001"
      ]
     },
     "metadata": {},
     "output_type": "display_data"
    },
    {
     "data": {
      "text/plain": [
       "1000011"
      ]
     },
     "metadata": {},
     "output_type": "display_data"
    }
   ],
   "source": [
    "# Totorial Project\n",
    "\n",
    "c1 = Code('A',7)\n",
    "\n",
    "c2 = Code('C', 7)\n",
    "\n",
    "display(c1, c2)"
   ]
  },
  {
   "cell_type": "code",
   "execution_count": 79,
   "id": "f1f99811",
   "metadata": {},
   "outputs": [
    {
     "data": {
      "text/plain": [
       "10000010"
      ]
     },
     "metadata": {},
     "output_type": "display_data"
    },
    {
     "data": {
      "text/plain": [
       "10000111"
      ]
     },
     "metadata": {},
     "output_type": "display_data"
    }
   ],
   "source": [
    "c2.add_parity_bit()\n",
    "\n",
    "c1.add_parity_bit()\n",
    "\n",
    "display(c1, c2)\n",
    "\n"
   ]
  },
  {
   "cell_type": "code",
   "execution_count": 6,
   "id": "dd2641e0",
   "metadata": {},
   "outputs": [],
   "source": [
    "from PythonLabs.BitLab import *\n",
    "\n",
    "def parity(x):\n",
    "    'Return the parity bit (a 1-bit Code object) for code x'\n",
    "    p = Code(0,1)\n",
    "    for bit in x:\n",
    "        p = p ^ bit\n",
    "    return p"
   ]
  },
  {
   "cell_type": "code",
   "execution_count": 7,
   "id": "8ceabaea",
   "metadata": {},
   "outputs": [
    {
     "data": {
      "text/plain": [
       "11000011"
      ]
     },
     "metadata": {},
     "output_type": "display_data"
    },
    {
     "name": "stdout",
     "output_type": "stream",
     "text": [
      "1\n",
      "1\n",
      "0\n",
      "0\n",
      "0\n",
      "0\n",
      "1\n",
      "1\n"
     ]
    }
   ],
   "source": [
    "c = Code('a')\n",
    "\n",
    "c.extend(parity(c))\n",
    "\n",
    "display(c)\n",
    "\n",
    "# this iterates over the bits, printing them one at a time on the console\n",
    "for bit in c:\n",
    "    print(bit)\n",
    "    "
   ]
  },
  {
   "cell_type": "code",
   "execution_count": 8,
   "id": "efa4a721",
   "metadata": {},
   "outputs": [
    {
     "name": "stdout",
     "output_type": "stream",
     "text": [
      "1 1 0\n"
     ]
    }
   ],
   "source": [
    "print(c[0] | c[-1], c[0] ^c[-1], c[0] ^ c[1])"
   ]
  },
  {
   "cell_type": "code",
   "execution_count": 9,
   "id": "b83e8ee1",
   "metadata": {},
   "outputs": [
    {
     "data": {
      "text/plain": [
       "[banana, grape, lemon, mango, papaya]"
      ]
     },
     "metadata": {},
     "output_type": "display_data"
    },
    {
     "data": {
      "text/plain": [
       "5"
      ]
     },
     "metadata": {},
     "output_type": "display_data"
    },
    {
     "data": {
      "text/plain": [
       "[lemon, mango, papaya]"
      ]
     },
     "metadata": {},
     "output_type": "display_data"
    },
    {
     "data": {
      "text/plain": [
       "3"
      ]
     },
     "metadata": {},
     "output_type": "display_data"
    }
   ],
   "source": [
    "# Huffman Trees\n",
    "\n",
    "pq = PriorityQueue()\n",
    "\n",
    "pq.insert('grape')\n",
    "\n",
    "pq.insert('lemon')\n",
    "\n",
    "pq.insert('banana')\n",
    "\n",
    "pq.insert('papaya')\n",
    "\n",
    "pq.insert('mango')\n",
    "\n",
    "display(pq, len(pq))\n",
    "\n",
    "pq.pop()\n",
    "\n",
    "pq.pop()\n",
    "\n",
    "display(pq, len(pq))"
   ]
  },
  {
   "cell_type": "code",
   "execution_count": 10,
   "id": "cd116ff7",
   "metadata": {},
   "outputs": [
    {
     "data": {
      "text/plain": [
       "( M: 0.032 )"
      ]
     },
     "metadata": {},
     "output_type": "display_data"
    },
    {
     "data": {
      "text/plain": [
       "( W: 0.009 )"
      ]
     },
     "metadata": {},
     "output_type": "display_data"
    },
    {
     "data": {
      "text/plain": [
       "( P: 0.030 )"
      ]
     },
     "metadata": {},
     "output_type": "display_data"
    },
    {
     "data": {
      "text/plain": [
       "( 0.039 ( W: 0.009 ) ( P: 0.030 ) )"
      ]
     },
     "metadata": {},
     "output_type": "display_data"
    },
    {
     "data": {
      "text/plain": [
       "6"
      ]
     },
     "execution_count": 10,
     "metadata": {},
     "output_type": "execute_result"
    }
   ],
   "source": [
    "# Binary tres\n",
    "\n",
    "leaf = Node('M', 0.032)\n",
    "\n",
    "display(leaf)\n",
    "\n",
    "t0 = Node('W', 0.009)\n",
    "\n",
    "t1 = Node('P', 0.030)\n",
    "\n",
    "# This statement will make a new interiror node with t0 and t1 as its descendants\n",
    "\n",
    "t2 = Node(t0, t1)\n",
    "\n",
    "display(t0, t1, t2)\n",
    "\n",
    "for x in ['kiwi', 'strawberry', 'pear']:\n",
    "    pq.insert(x)\n",
    "\n",
    "len(pq)\n"
   ]
  },
  {
   "cell_type": "code",
   "execution_count": null,
   "id": "a0a4c0a3",
   "metadata": {},
   "outputs": [],
   "source": [
    "mathemeticsDevelopment\\mathemetics\\Computer_Science\\matetialFromBook\\PythonSoftwareDev\\PythonLabs\\data\\tsp\\ireland.txt"
   ]
  },
  {
   "cell_type": "code",
   "execution_count": 11,
   "id": "4a4ae09c",
   "metadata": {},
   "outputs": [],
   "source": [
    "from PythonLabs.BitLab import Node, read_frequencies, init_queue\n",
    "\n",
    "def buildTree(filename):\n",
    "    'Build a Huffman tree using letters and frequencies in a file'\n",
    "    pq = init_queue(read_frequencies(filename))\n",
    "    while len(pq) > 1:\n",
    "        n1= pq.pop()\n",
    "        n2= pq.pop()\n",
    "        pq.insert(Node(n1, n2))"
   ]
  },
  {
   "cell_type": "code",
   "execution_count": 12,
   "id": "ce5043af",
   "metadata": {},
   "outputs": [],
   "source": [
    "tree = buildTree('./PythonLabs/data/huffman/hafreq.txt')"
   ]
  },
  {
   "cell_type": "code",
   "execution_count": 18,
   "id": "f5f271d6",
   "metadata": {},
   "outputs": [
    {
     "data": {
      "text/plain": [
       "1111000"
      ]
     },
     "metadata": {},
     "output_type": "display_data"
    },
    {
     "data": {
      "text/plain": [
       "1"
      ]
     },
     "metadata": {},
     "output_type": "display_data"
    },
    {
     "data": {
      "text/plain": [
       "PythonLabs.BitLab.Code"
      ]
     },
     "metadata": {},
     "output_type": "display_data"
    }
   ],
   "source": [
    "c = Code('x')\n",
    "\n",
    "display(c, c[0], type(c[0]))"
   ]
  },
  {
   "cell_type": "code",
   "execution_count": 20,
   "id": "0fa645dc",
   "metadata": {},
   "outputs": [],
   "source": [
    "# The traveling salesman:\n",
    "# A genetic algorithm for a computationally demanding problem\n",
    "from PythonLabs.TSPLab import *\n"
   ]
  },
  {
   "cell_type": "code",
   "execution_count": 40,
   "id": "071b8d88",
   "metadata": {},
   "outputs": [
    {
     "name": "stdout",
     "output_type": "stream",
     "text": [
      "           belfast     cork   dublin   galway limerick\n",
      "  belfast     0.00\n",
      "     cork   425.00     0.00\n",
      "   dublin   167.00   257.00     0.00\n",
      "   galway   306.00   209.00   219.00     0.00\n",
      " limerick   323.00   105.00   198.00   105.00     0.00\n"
     ]
    },
    {
     "data": {
      "text/plain": [
       "105.0"
      ]
     },
     "metadata": {},
     "output_type": "display_data"
    },
    {
     "data": {
      "text/plain": [
       "None"
      ]
     },
     "metadata": {},
     "output_type": "display_data"
    },
    {
     "data": {
      "text/plain": [
       "<PythonLabs.TSPLab.Tour ['dublin', 'galway', 'limerick'] 522.000>"
      ]
     },
     "metadata": {},
     "output_type": "display_data"
    },
    {
     "data": {
      "text/plain": [
       "('dublin', 'galway', 'limerick')"
      ]
     },
     "metadata": {},
     "output_type": "display_data"
    },
    {
     "data": {
      "text/plain": [
       "522.0"
      ]
     },
     "metadata": {},
     "output_type": "display_data"
    }
   ],
   "source": [
    "\n",
    "m = Map(path_to_data('ireland.txt'))\n",
    "\n",
    "display(m[ 'galway', 'limerick'], m.display())\n",
    "\n",
    "t = m.make_tour(['dublin', 'galway', 'limerick'])\n",
    "\n",
    "display(t, t.path(), t.cost())"
   ]
  },
  {
   "cell_type": "code",
   "execution_count": 41,
   "id": "accd27d4",
   "metadata": {},
   "outputs": [],
   "source": [
    "def xsearch(m):\n",
    "    best = m.make_tour()\n",
    "    for t in m.each_tour():\n",
    "        if t.cost() < best.cost():\n",
    "            best = t\n",
    "        return best"
   ]
  },
  {
   "cell_type": "code",
   "execution_count": 42,
   "id": "966278c6",
   "metadata": {},
   "outputs": [
    {
     "name": "stdout",
     "output_type": "stream",
     "text": [
      "<PythonLabs.TSPLab.Tour ['belfast', 'cork', 'dublin', 'galway', 'limerick'] 1329.000>\n",
      "<PythonLabs.TSPLab.Tour ['belfast', 'cork', 'dublin', 'limerick', 'galway'] 1291.000>\n",
      "<PythonLabs.TSPLab.Tour ['belfast', 'cork', 'limerick', 'dublin', 'galway'] 1253.000>\n",
      "<PythonLabs.TSPLab.Tour ['belfast', 'limerick', 'cork', 'dublin', 'galway'] 1210.000>\n",
      "<PythonLabs.TSPLab.Tour ['belfast', 'limerick', 'cork', 'galway', 'dublin'] 1023.000>\n",
      "<PythonLabs.TSPLab.Tour ['belfast', 'cork', 'limerick', 'galway', 'dublin'] 1021.000>\n",
      "<PythonLabs.TSPLab.Tour ['belfast', 'cork', 'galway', 'limerick', 'dublin'] 1104.000>\n",
      "<PythonLabs.TSPLab.Tour ['belfast', 'cork', 'galway', 'dublin', 'limerick'] 1374.000>\n",
      "<PythonLabs.TSPLab.Tour ['belfast', 'galway', 'cork', 'dublin', 'limerick'] 1293.000>\n",
      "<PythonLabs.TSPLab.Tour ['belfast', 'galway', 'cork', 'limerick', 'dublin'] 985.000>\n",
      "<PythonLabs.TSPLab.Tour ['belfast', 'galway', 'limerick', 'cork', 'dublin'] 940.000>\n",
      "<PythonLabs.TSPLab.Tour ['belfast', 'limerick', 'galway', 'cork', 'dublin'] 1061.000>\n"
     ]
    }
   ],
   "source": [
    "for t in m.each_tour():\n",
    "    print(t)"
   ]
  },
  {
   "cell_type": "code",
   "execution_count": 44,
   "id": "7a4e320b",
   "metadata": {},
   "outputs": [
    {
     "data": {
      "text/plain": [
       "('belfast', 'cork', 'dublin', 'galway', 'limerick')"
      ]
     },
     "metadata": {},
     "output_type": "display_data"
    },
    {
     "data": {
      "text/plain": [
       "1329.0"
      ]
     },
     "metadata": {},
     "output_type": "display_data"
    }
   ],
   "source": [
    "t = xsearch(m)\n",
    "\n",
    "display(t.path(), t.cost())"
   ]
  },
  {
   "cell_type": "code",
   "execution_count": 64,
   "id": "4ee2573e",
   "metadata": {},
   "outputs": [],
   "source": [
    "# Random Search \n",
    "\n",
    "a = m.cities()\n",
    "\n",
    "#for p in each_permutation(a):\n",
    "    #print(p[2])"
   ]
  },
  {
   "cell_type": "code",
   "execution_count": 61,
   "id": "f978c6fc",
   "metadata": {},
   "outputs": [],
   "source": [
    "\n",
    "def rsearch(m,n):\n",
    "    best = m.make_tour('random')\n",
    "    for i in range (n-1):\n",
    "        t = m.make_tour('random')\n",
    "        if t.cost() < best.cost():\n",
    "            best = t\n",
    "            return best"
   ]
  },
  {
   "cell_type": "code",
   "execution_count": 69,
   "id": "649a1937",
   "metadata": {},
   "outputs": [
    {
     "data": {
      "text/plain": [
       "[0, 1, 2, 3, 4, 5, 6, 7, 8, 9, 10, 11, 12, 13, 14]"
      ]
     },
     "metadata": {},
     "output_type": "display_data"
    },
    {
     "data": {
      "text/plain": [
       "<PythonLabs.TSPLab.Tour [12, 9, 11, 13, 8, 1, 14, 3, 7, 10, 2, 6, 0, 4, 5] 3329.695>"
      ]
     },
     "metadata": {},
     "output_type": "display_data"
    },
    {
     "data": {
      "text/plain": [
       "('belfast', 'cork', 'limerick', 'dublin', 'galway')"
      ]
     },
     "metadata": {},
     "output_type": "display_data"
    },
    {
     "data": {
      "text/plain": [
       "('belfast', 'cork', 'dublin', 'limerick', 'galway')"
      ]
     },
     "metadata": {},
     "output_type": "display_data"
    }
   ],
   "source": [
    "m = Map(15)\n",
    "\n",
    "\n",
    "rsearch(m,100)\n",
    "\n",
    "display(m.cities(), m.make_tour('random'), t.path())\n",
    "\n",
    "t.mutate(2)\n",
    "\n",
    "display(t.path())"
   ]
  },
  {
   "cell_type": "code",
   "execution_count": 70,
   "id": "b37c5c86",
   "metadata": {},
   "outputs": [],
   "source": [
    "from PythonLabs.TSPLab import *\n",
    "\n",
    "def esearch(map, ngen, popsize):\n",
    "    pop = init_population(map, popsize)\n",
    "    for i in range(ngen):\n",
    "        pop.sort(key = Tour.cost)\n",
    "        select_survivors(pop)\n",
    "        ns = compact_population(pop)\n",
    "        rebuild_population(pop, map, ns)\n",
    "    return pop[0]"
   ]
  },
  {
   "cell_type": "code",
   "execution_count": 72,
   "id": "951baf65",
   "metadata": {},
   "outputs": [],
   "source": [
    "def rebuild_population(pop, map, ns):\n",
    "    for i in range(ns, len(pop)):\n",
    "        if select_with_probability(0.75):\n",
    "            mom = pop[ randint(0, ns-1) ]\n",
    "            kid  = map.make_tour( 'mutate', mom )\n",
    "        else:\n",
    "            mom = pop[ randint(0, ns=1) ]\n",
    "            dad = pop [ randint(0, ns-1)]\n",
    "            kid = map.make_tour( 'cross', mom, dad )\n",
    "        pop[i] = kid"
   ]
  },
  {
   "cell_type": "code",
   "execution_count": null,
   "id": "aa491925",
   "metadata": {},
   "outputs": [],
   "source": []
  }
 ],
 "metadata": {
  "interpreter": {
   "hash": "9ae16ef445867c3ddd8a030e03f508a31c88ab57810e24e3a3afaf36f09532d0"
  },
  "kernelspec": {
   "display_name": "dev",
   "language": "python",
   "name": "python3"
  },
  "language_info": {
   "codemirror_mode": {
    "name": "ipython",
    "version": 3
   },
   "file_extension": ".py",
   "mimetype": "text/x-python",
   "name": "python",
   "nbconvert_exporter": "python",
   "pygments_lexer": "ipython3",
   "version": "3.7.11"
  }
 },
 "nbformat": 4,
 "nbformat_minor": 5
}
