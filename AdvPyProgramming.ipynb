{
 "cells": [
  {
   "cell_type": "code",
   "execution_count": null,
   "id": "d5ca963c",
   "metadata": {},
   "outputs": [],
   "source": [
    "\"\"\"\n",
    "Chapter 14 Reduction operators In Processes:\n",
    "\n",
    "pd.set_options('display.max_rows', 2000)\n",
    "pd.set_options('display.max_columns', 2000)\n",
    "pd.set_options('display.width', 1000)\n",
    "\"\"\""
   ]
  },
  {
   "cell_type": "code",
   "execution_count": null,
   "id": "8818a7d0",
   "metadata": {},
   "outputs": [],
   "source": []
  },
  {
   "cell_type": "code",
   "execution_count": 1,
   "id": "9c736939",
   "metadata": {},
   "outputs": [
    {
     "name": "stderr",
     "output_type": "stream",
     "text": [
      "Python-dotenv could not parse statement starting at line 29\n",
      "Python-dotenv could not parse statement starting at line 30\n"
     ]
    },
    {
     "data": {
      "text/plain": [
       "True"
      ]
     },
     "execution_count": 1,
     "metadata": {},
     "output_type": "execute_result"
    }
   ],
   "source": [
    "import os\n",
    "\n",
    "import requests\n",
    "\n",
    "import json\n",
    "\n",
    "import multiprocessing\n",
    "\n",
    "import msgpack\n",
    "\n",
    "\n",
    "import numpy as np\n",
    "\n",
    "import pandas as pd\n",
    "\n",
    "from dotenv import load_dotenv\n",
    "\n",
    "import alpaca_trade_api as tradeapi\n",
    "\n",
    "from math import sqrt\n",
    "\n",
    "from timeit import default_timer as timer\n",
    "\n",
    "import concurrent\n",
    "import time\n",
    "\n",
    "# Load the environment variables from the .env file\n",
    "#by calling the load_dotenv function\n",
    "\n",
    "load_dotenv()"
   ]
  },
  {
   "cell_type": "code",
   "execution_count": null,
   "id": "faa6b0ec",
   "metadata": {},
   "outputs": [],
   "source": []
  },
  {
   "cell_type": "code",
   "execution_count": null,
   "id": "07d2d10e",
   "metadata": {},
   "outputs": [],
   "source": [
    "\"\"\"\n",
    "class ReducttionConsumer(multiprocessing.Process):\n",
    "    def __init__(self, task_queue, result_queue):\n",
    "        multiprocessing.Process.__init__(self)\n",
    "        self.task_queue = task_queue\n",
    "        self.result_queue = result_queue\n",
    "        \n",
    "    def run(self):\n",
    "        pname = self.name\n",
    "        print(\"Using process %s..\" % pname)\n",
    "        \n",
    "        while True:\n",
    "            num1 = self.task_queue.get()\n",
    "            \n",
    "            if num1 is None:\n",
    "                print(\"Exiting process %s\" % pname)\n",
    "                self.task_queue.task_queue()\n",
    "                break\n",
    "                \n",
    "            self.task_queue.task_done()\n",
    "            num2 = self.task_queue.get()\n",
    "            if num2 is None:\n",
    "                print(\"Reaching the end with process %s and number %i.\" % (pname, num1))\n",
    "                self.task_queue.task_done()\n",
    "                self.result_queue.put(num1)\n",
    "                break\n",
    "                \n",
    "            print(\"Running process %s on numbers %i and %i.\" % (pname, num1, num2))\n",
    "            self.task_queue.task_done()\n",
    "            self.result_queue.put(num1 + num2)\n",
    "            \n",
    "def reducesum(array):\n",
    "    tasks = multiprocessing.JoinableQueue()\n",
    "    results = multiprocessing.JoinableQueue()\n",
    "    result_size = len(array)\n",
    "    \n",
    "    n_consumers = multiprocessing.cpu_count()\n",
    "    \n",
    "    for item in array:\n",
    "        results.put(item)\n",
    "        \n",
    "    while result_size > 1:\n",
    "        tasks = results\n",
    "        results = multiprocessing.JoinableQueue()\n",
    "        \n",
    "        consumers = [ReducttionConsumer(tasks, results) for i in range(n_consumers)]\n",
    "        for consumer in consumers:\n",
    "            consumer.start()\n",
    "            \n",
    "        for i in range(n_consumers):\n",
    "            tasks.put(None)\n",
    "            \n",
    "        tasks.join()\n",
    "        result_size = result_size // 2 + (result_size % 2)\n",
    "        #print('-' * 40)\n",
    "        \n",
    "    return results.get()\n",
    "\n",
    "\n",
    "\n",
    "my_array = [i for i in range(20)]\n",
    "\n",
    "result = reducesum(my_array)\n",
    "\n",
    "\"\"\""
   ]
  },
  {
   "cell_type": "code",
   "execution_count": null,
   "id": "7ffdfd4a",
   "metadata": {},
   "outputs": [],
   "source": [
    "\n",
    "# Concurrent Image Processing \n",
    "\n"
   ]
  },
  {
   "cell_type": "code",
   "execution_count": null,
   "id": "85d0d9ca",
   "metadata": {},
   "outputs": [],
   "source": [
    "\n",
    "import cv2\n"
   ]
  },
  {
   "cell_type": "code",
   "execution_count": null,
   "id": "efd820d1",
   "metadata": {},
   "outputs": [],
   "source": [
    "\n",
    "im = cv2.imread('testim.jpg')\n"
   ]
  },
  {
   "cell_type": "code",
   "execution_count": null,
   "id": "b401209e",
   "metadata": {},
   "outputs": [],
   "source": [
    "name = 'javier'\n",
    "\n",
    "cv2.imshow(name, im)\n",
    "cv2.waitKey(0)\n",
    "\n",
    "print(im)\n",
    "print('Type:', type(im))\n",
    "print('Shape:', im.shape)\n",
    "print(\"Top-left pixel:\", im[0, 0])\n",
    "\n",
    "print('Done.')"
   ]
  },
  {
   "cell_type": "code",
   "execution_count": null,
   "id": "3b9269c5",
   "metadata": {},
   "outputs": [],
   "source": [
    "# Grayscaling\n",
    "\n",
    "import  cv2 \n",
    "\n",
    "\n",
    "im = cv2.imread('Kuba_R.jpg')\n",
    "gray_im = cv2.cvtColor(im, cv2.COLOR_BGR2GRAY)\n",
    "\n",
    "cv2.imshow(\"Grayscale\", gray_im)\n",
    "\n",
    "cv2.waitKey(0)\n",
    "\n",
    "print(gray_im)\n",
    "print(\"Type:\", type(gray_im))\n",
    "print(\"Shape:\", gray_im.shape)\n",
    "cv2.imwrite(\"Kuba_Gray.jpg\", gray_im)"
   ]
  },
  {
   "cell_type": "code",
   "execution_count": null,
   "id": "46a03b4d",
   "metadata": {},
   "outputs": [],
   "source": [
    "# Theresholding \n",
    "# Thhe key is finding an appropriate threshold\n",
    "# so that the pixels in an image are segmented in a way tha allow \n",
    "# separate regions in the image to become more obvious\n",
    "\n",
    "\n",
    "ret, custom_thresh_im = cv2.threshold(gray_im, 127, 255, cv2.THRESH_BINARY)"
   ]
  },
  {
   "cell_type": "code",
   "execution_count": null,
   "id": "c4b6caa4",
   "metadata": {},
   "outputs": [],
   "source": [
    "cv2.imwrite(\"custom_Kuba.jpg\", custom_thresh_im)"
   ]
  },
  {
   "cell_type": "code",
   "execution_count": null,
   "id": "f2a0b0ab",
   "metadata": {},
   "outputs": [],
   "source": [
    "im = cv2.imread('custom_Kuba.jpg')\n",
    "im = cv2.cvtColor(im, cv2.COLOR_BGR2GRAY)\n",
    "\n",
    "mean_thresh_im = cv2.adaptiveThreshold(im, 255, cv2.ADAPTIVE_THRESH_MEAN_C,cv2.THRESH_BINARY, 11, 2)\n",
    "\n",
    "cv2.imwrite(\"mean_custom_Kuba.jpg\", mean_thresh_im)\n"
   ]
  },
  {
   "cell_type": "code",
   "execution_count": null,
   "id": "26e4aaea",
   "metadata": {},
   "outputs": [],
   "source": [
    "\n",
    "gauss_thresh_im = cv2.adaptiveThreshold(im, 255, cv2.ADAPTIVE_THRESH_GAUSSIAN_C,cv2.THRESH_BINARY, 11, 2)\n",
    "\n",
    "cv2.imwrite('gauss_thresh_kuba.jpg', gauss_thresh_im)"
   ]
  },
  {
   "cell_type": "code",
   "execution_count": null,
   "id": "eea2744c",
   "metadata": {},
   "outputs": [],
   "source": [
    "# Applying concurrenct to image processing \n",
    "\n",
    "# implemeting a program that can concurrently process these images using thresholding.\n"
   ]
  },
  {
   "cell_type": "code",
   "execution_count": 1,
   "id": "4f8fd346",
   "metadata": {},
   "outputs": [
    {
     "data": {
      "text/plain": [
       "'\\nfrom multiprocessing import Pool\\nimport cv2\\nimport sys\\nfrom timeit import default_timer as timer\\n\\nTHRSH_METHOD = cv2.ADAPTIVE_THRESH_GAUSSIAN_C\\n\\nINPUT_PATH = \\'large_input/\\'\\n\\nOUT_PATH = \\'large_out/\\'\\n\\nn = 3\\n\\nnames  = [\\'rug_%i_%i.jpg\\' % (i, j) for i in range(n) for j in range(n)]\\n\\ndef process_threshold(im, output_name, threshold_method):\\n    gray_ims = cv2.cvtColor(im, cv2.COLOR_BGR2GRAY)\\n    thresh_im = cv2.adaptiveThreshold(gray_ims, 255, threshold_method, cv2.THRESH_BINARY, 11, 2)\\n    \\n    cv2.imwrite(OUT_PATH + output_name, thresh_im)\\n    \\n    \\nif __name__ == \\'__main__\\':\\n    for n_processes in range(1, 9):\\n        start = timer()\\n        \\n        with Pool(n_processes) as p:\\n            p.starmap(process_threshold, [(cv2.imread(INPUT_PATH + name), name, THRSH_METHOD) for name in names])\\n            \\n        print(\\'Took %4.f seconds with %i process(es), \\' % (timer() - start, n_processes))\\n    \\n    print(\"Done..\")\\n    \\n    \\n    \\n\\nfrom multiprocessing import Pool\\nimport cv2\\nimport sys\\nfrom functools import partial\\nfrom timeit import default_timer as timer\\n\\nTHRSH_METHOD = cv2.ADAPTIVE_THRESH_GAUSSIAN_C\\n\\nINPUT_PATH = \\'large_input/\\'\\n\\nOUT_PATH = \\'large_out\\'\\n\\nn = 3\\n\\nnames  = [\\'rug_%i_%i.jpg\\' % (i, j) for i in range(n) for j in range(n)]\\n\\ndef process_threshold(im, output_name, threshold_method):\\n    gray_ims = cv2.cvtColor(im, cv2.COLOR_BGR2GRAY)\\n    thresh_im = cv2.adaptiveThreshold(gray_ims, 255, threshold_method, cv2.THRESH_BINARY, 11, 2)\\n    \\n    cv2.imwrite(OUT_PATH + output_name, thresh_im)\\n    \\nif __name__ == \\'__main__\\':\\n    for n_processes in range(1, 9):\\n        start = timer()\\n        \\n        with Pool(n_processes) as p:\\n            p.map(partial(process_threshold, thresh_method = THRSH_METHOD), names)\\n            print(\"Took %.4f seconds with %i process(es).\" % (timer() - start, n_processes))\\n            \\nfrom multiprocessing import Pool\\nimport cv2\\nimport sys\\nfrom functools import partial\\nfrom timeit import default_timer as timer\\n\\nTHRSH_METHOD = cv2.ADAPTIVE_THRESH_GAUSSIAN_C\\n\\nINPUT_PATH = \\'large_input/\\'\\n\\nOUT_PATH = \\'large_out\\'\\n\\nn = 3\\n\\nnames  = [\\'rug_%i_%i.jpg\\' % (i, j) for i in range(n) for j in range(n)]\\n\\ndef process_threshold(im, output_name, threshold_method):\\n    gray_ims = cv2.cvtColor(im, cv2.COLOR_BGR2GRAY)\\n    thresh_im = cv2.adaptiveThreshold(gray_ims, 255, threshold_method, cv2.THRESH_BINARY, 11, 2)\\n    \\n    cv2.imwrite(OUT_PATH + output_name, thresh_im)\\n    \\nif __name__ == \\'__main__\\':\\n    for n_processes in range(1, 9):\\n        start = timer()\\n        \\n        with Pool(n_processes) as p:\\n            p.map(partial(process_threshold, thresh_method = THRSH_METHOD), names)\\n            print(\"Took %.4f seconds with %i process(es).\" % (timer() - start, n_processes))\\n\\n'"
      ]
     },
     "execution_count": 1,
     "metadata": {},
     "output_type": "execute_result"
    }
   ],
   "source": [
    "'''\n",
    "from multiprocessing import Pool\n",
    "import cv2\n",
    "import sys\n",
    "from timeit import default_timer as timer\n",
    "\n",
    "THRSH_METHOD = cv2.ADAPTIVE_THRESH_GAUSSIAN_C\n",
    "\n",
    "INPUT_PATH = 'large_input/'\n",
    "\n",
    "OUT_PATH = 'large_out/'\n",
    "\n",
    "n = 3\n",
    "\n",
    "names  = ['rug_%i_%i.jpg' % (i, j) for i in range(n) for j in range(n)]\n",
    "\n",
    "def process_threshold(im, output_name, threshold_method):\n",
    "    gray_ims = cv2.cvtColor(im, cv2.COLOR_BGR2GRAY)\n",
    "    thresh_im = cv2.adaptiveThreshold(gray_ims, 255, threshold_method, cv2.THRESH_BINARY, 11, 2)\n",
    "    \n",
    "    cv2.imwrite(OUT_PATH + output_name, thresh_im)\n",
    "    \n",
    "    \n",
    "if __name__ == '__main__':\n",
    "    for n_processes in range(1, 9):\n",
    "        start = timer()\n",
    "        \n",
    "        with Pool(n_processes) as p:\n",
    "            p.starmap(process_threshold, [(cv2.imread(INPUT_PATH + name), name, THRSH_METHOD) for name in names])\n",
    "            \n",
    "        print('Took %4.f seconds with %i process(es), ' % (timer() - start, n_processes))\n",
    "    \n",
    "    print(\"Done..\")\n",
    "    \n",
    "    \n",
    "    \n",
    "\n",
    "from multiprocessing import Pool\n",
    "import cv2\n",
    "import sys\n",
    "from functools import partial\n",
    "from timeit import default_timer as timer\n",
    "\n",
    "THRSH_METHOD = cv2.ADAPTIVE_THRESH_GAUSSIAN_C\n",
    "\n",
    "INPUT_PATH = 'large_input/'\n",
    "\n",
    "OUT_PATH = 'large_out'\n",
    "\n",
    "n = 3\n",
    "\n",
    "names  = ['rug_%i_%i.jpg' % (i, j) for i in range(n) for j in range(n)]\n",
    "\n",
    "def process_threshold(im, output_name, threshold_method):\n",
    "    gray_ims = cv2.cvtColor(im, cv2.COLOR_BGR2GRAY)\n",
    "    thresh_im = cv2.adaptiveThreshold(gray_ims, 255, threshold_method, cv2.THRESH_BINARY, 11, 2)\n",
    "    \n",
    "    cv2.imwrite(OUT_PATH + output_name, thresh_im)\n",
    "    \n",
    "if __name__ == '__main__':\n",
    "    for n_processes in range(1, 9):\n",
    "        start = timer()\n",
    "        \n",
    "        with Pool(n_processes) as p:\n",
    "            p.map(partial(process_threshold, thresh_method = THRSH_METHOD), names)\n",
    "            print(\"Took %.4f seconds with %i process(es).\" % (timer() - start, n_processes))\n",
    "            \n",
    "from multiprocessing import Pool\n",
    "import cv2\n",
    "import sys\n",
    "from functools import partial\n",
    "from timeit import default_timer as timer\n",
    "\n",
    "THRSH_METHOD = cv2.ADAPTIVE_THRESH_GAUSSIAN_C\n",
    "\n",
    "INPUT_PATH = 'large_input/'\n",
    "\n",
    "OUT_PATH = 'large_out'\n",
    "\n",
    "n = 3\n",
    "\n",
    "names  = ['rug_%i_%i.jpg' % (i, j) for i in range(n) for j in range(n)]\n",
    "\n",
    "def process_threshold(im, output_name, threshold_method):\n",
    "    gray_ims = cv2.cvtColor(im, cv2.COLOR_BGR2GRAY)\n",
    "    thresh_im = cv2.adaptiveThreshold(gray_ims, 255, threshold_method, cv2.THRESH_BINARY, 11, 2)\n",
    "    \n",
    "    cv2.imwrite(OUT_PATH + output_name, thresh_im)\n",
    "    \n",
    "if __name__ == '__main__':\n",
    "    for n_processes in range(1, 9):\n",
    "        start = timer()\n",
    "        \n",
    "        with Pool(n_processes) as p:\n",
    "            p.map(partial(process_threshold, thresh_method = THRSH_METHOD), names)\n",
    "            print(\"Took %.4f seconds with %i process(es).\" % (timer() - start, n_processes))\n",
    "\n",
    "'''"
   ]
  },
  {
   "cell_type": "code",
   "execution_count": 2,
   "id": "0202444f",
   "metadata": {},
   "outputs": [],
   "source": [
    "\n",
    "from multiprocessing import Pool\n",
    "import cv2\n",
    "import sys\n",
    "from functools import partial\n",
    "from timeit import default_timer as timer"
   ]
  },
  {
   "cell_type": "code",
   "execution_count": 3,
   "id": "cbbb192f",
   "metadata": {},
   "outputs": [],
   "source": [
    "\n",
    "# Using Haar Cascade model to detect faces in images.\n",
    "\n",
    "face_cascade = cv2.CascadeClassifier('input/haarcascade_frontalface_default.xml')"
   ]
  },
  {
   "cell_type": "code",
   "execution_count": 4,
   "id": "41d7ce6e",
   "metadata": {},
   "outputs": [
    {
     "name": "stdout",
     "output_type": "stream",
     "text": [
      "Done..\n"
     ]
    }
   ],
   "source": [
    "for filename in ['face1.jpg', 'face2.jpg', 'wayback.jpg']:\n",
    "    im = cv2.imread('input/' + filename)\n",
    "    gray_im = cv2.cvtColor(im, cv2.COLOR_BGR2GRAY)\n",
    "    \n",
    "    faces = face_cascade.detectMultiScale(im, scaleFactor=1.2)\n",
    "    \n",
    "    for (x, y, w, h) in faces:\n",
    "        cv2.rectangle(im, (x,  y), (x + w, y + h), (0, 255, 0), 2)\n",
    "        \n",
    "    cv2.imshow('%i face(s) found' % len(faces), im)\n",
    "    cv2.waitKey(0)\n",
    "    \n",
    "print('Done..')"
   ]
  },
  {
   "cell_type": "code",
   "execution_count": null,
   "id": "756a499e",
   "metadata": {},
   "outputs": [],
   "source": []
  }
 ],
 "metadata": {
  "interpreter": {
   "hash": "9ae16ef445867c3ddd8a030e03f508a31c88ab57810e24e3a3afaf36f09532d0"
  },
  "kernelspec": {
   "display_name": "dev",
   "language": "python",
   "name": "dev"
  },
  "language_info": {
   "codemirror_mode": {
    "name": "ipython",
    "version": 3
   },
   "file_extension": ".py",
   "mimetype": "text/x-python",
   "name": "python",
   "nbconvert_exporter": "python",
   "pygments_lexer": "ipython3",
   "version": "3.8.12"
  }
 },
 "nbformat": 4,
 "nbformat_minor": 5
}
